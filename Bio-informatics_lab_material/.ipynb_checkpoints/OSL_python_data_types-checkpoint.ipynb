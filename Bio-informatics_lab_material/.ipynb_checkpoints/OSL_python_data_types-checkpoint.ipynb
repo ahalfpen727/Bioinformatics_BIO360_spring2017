{
 "cells": [
  {
   "cell_type": "markdown",
   "metadata": {},
   "source": [
    "# Notebook for OSL's integration of Python"
   ]
  },
  {
   "cell_type": "markdown",
   "metadata": {},
   "source": [
    "### Part 1: Variables, Strings, Data Types, Numbers"
   ]
  },
  {
   "cell_type": "code",
   "execution_count": 106,
   "metadata": {
    "collapsed": false
   },
   "outputs": [
    {
     "name": "stdout",
     "output_type": "stream",
     "text": [
      "ATGCGTA\n"
     ]
    }
   ],
   "source": [
    "# store a short DNA sequence in the variable my_dna\n",
    "my_dna = \"ATGCGTA\"\n",
    "# now print the DNA sequence\n",
    "print(my_dna)"
   ]
  },
  {
   "cell_type": "markdown",
   "metadata": {},
   "source": [
    "# The code below will not print.  The string must be in quotation marks."
   ]
  },
  {
   "cell_type": "code",
   "execution_count": 107,
   "metadata": {
    "collapsed": false
   },
   "outputs": [
    {
     "ename": "NameError",
     "evalue": "name 'ATGCGTA' is not defined",
     "output_type": "error",
     "traceback": [
      "\u001b[1;31m---------------------------------------------------------------------------\u001b[0m",
      "\u001b[1;31mNameError\u001b[0m                                 Traceback (most recent call last)",
      "\u001b[1;32m<ipython-input-107-fd644aa7638c>\u001b[0m in \u001b[0;36m<module>\u001b[1;34m()\u001b[0m\n\u001b[1;32m----> 1\u001b[1;33m \u001b[1;32mprint\u001b[0m\u001b[1;33m(\u001b[0m\u001b[0mATGCGTA\u001b[0m\u001b[1;33m)\u001b[0m\u001b[1;33m\u001b[0m\u001b[0m\n\u001b[0m",
      "\u001b[1;31mNameError\u001b[0m: name 'ATGCGTA' is not defined"
     ]
    }
   ],
   "source": [
    "print(ATGCGTA)"
   ]
  },
  {
   "cell_type": "code",
   "execution_count": 108,
   "metadata": {
    "collapsed": false
   },
   "outputs": [
    {
     "name": "stdout",
     "output_type": "stream",
     "text": [
      "A\n",
      "A\n",
      "A\n",
      "\n",
      "\n",
      "T\n",
      "\n",
      "\n",
      "G\n",
      "\n",
      "\n",
      "C\n",
      "\n",
      "\n",
      "G\n",
      "\n",
      "\n",
      "T\n",
      "\n",
      "\n",
      "A\n",
      "\n",
      "\n"
     ]
    }
   ],
   "source": [
    "print my_dna[0]# print the first letter of my_dna (remember, Python uses 0-based indexing!) and its type\n",
    "print my_dna[6]# print the last letter of my_dna\n",
    "x=0\n",
    "for i in my_dna:\n",
    "    print my_dna[x]\n",
    "    x+=1\n",
    "    print \"\\n\"\n",
    "# print each letter of my_dna on its own line (HINT: use a newline character '\\n' to insert a new line after each character)"
   ]
  },
  {
   "cell_type": "markdown",
   "metadata": {},
   "source": [
    "Below are examples of operations that can be performed on strings.\n",
    "\n",
    "* You can **split** them on a certain value using split()\n",
    "\n",
    "* You can **concatenate** (stick together) two strings using +\n",
    "\n",
    "* You can **repeat** them using the * symbol"
   ]
  },
  {
   "cell_type": "code",
   "execution_count": 109,
   "metadata": {
    "collapsed": false
   },
   "outputs": [
    {
     "name": "stdout",
     "output_type": "stream",
     "text": [
      "ATG\n",
      "ATGCGTAATG\n",
      "ATGATGATGATGATG\n"
     ]
    }
   ],
   "source": [
    "# let's make a new string from my_dna split on \"C\"\n",
    "split_dna = my_dna.split(\"C\")[0] # returns a list, let's get the first element\n",
    "#print it out\n",
    "print split_dna\n",
    "\n",
    "# concatenate my_dna and split_dna and print the result\n",
    "print my_dna + split_dna\n",
    "\n",
    "# repeat split_dna 5 times and print it\n",
    "print split_dna * 5"
   ]
  },
  {
   "cell_type": "markdown",
   "metadata": {},
   "source": [
    "## Python is zero based\n",
    "    In the previous cell, we created a variable \"split_dna\" by using a function that splits a string of characters\n",
    "    at the search term \"C\" and using the characters that followed."
   ]
  },
  {
   "cell_type": "code",
   "execution_count": 110,
   "metadata": {
    "collapsed": false
   },
   "outputs": [
    {
     "name": "stdout",
     "output_type": "stream",
     "text": [
      "ATGCG\n",
      "ATGCGTAATGCGTA\n",
      "ATGCGTAATGCG\n"
     ]
    }
   ],
   "source": [
    "tiny_dna=my_dna.split(\"TA\")[0]\n",
    "print tiny_dna\n",
    "my_dna_2x=my_dna*2\n",
    "print my_dna_2x\n",
    "cat_dna=my_dna + tiny_dna\n",
    "print cat_dna\n",
    "# Let's make some more sequences\n",
    "# make a new sequence, tiny_dna, that is the value returned by splitting my_dna on \"TA\"\n",
    "# Make another new sequence, my_dna_2x, that is my_dna repeated twice\n",
    "# Make another new sequence by concatenating tiny_dna and my_dna\n",
    "# print all of your sequences to make sure they are correct"
   ]
  },
  {
   "cell_type": "markdown",
   "metadata": {},
   "source": [
    "## Some Mathematical Operations in Python\n",
    "    (much more to follow)"
   ]
  },
  {
   "cell_type": "code",
   "execution_count": 111,
   "metadata": {
    "collapsed": false
   },
   "outputs": [
    {
     "name": "stdout",
     "output_type": "stream",
     "text": [
      "7\n"
     ]
    },
    {
     "data": {
      "text/plain": [
       "int"
      ]
     },
     "execution_count": 111,
     "metadata": {},
     "output_type": "execute_result"
    }
   ],
   "source": [
    "my_dna_len=len(my_dna)# Use len() to get the length of my_dna. Save it in a new variable my_dna_len\n",
    "# Get the type of my_dna_len\n",
    "print my_dna_len\n",
    "type(my_dna_len)"
   ]
  },
  {
   "cell_type": "markdown",
   "metadata": {},
   "source": [
    "Now let's find out if my_dna_len is even. To do this, you can use the modulo operator, % (percent sign).\n",
    "\n",
    "The modulo operator divides a number (call it x) by a number y and returns the remainder of the division.\n",
    "\n",
    "Examples:\n",
    "\n",
    "```\n",
    "10 % 5 = 0\n",
    "5 % 2 = 1\n",
    "10 % 2 = 0\n",
    "```\n",
    "\n",
    "A number is even if (the number) % 2 is 0. If (the number) % 2 is 1, it's odd."
   ]
  },
  {
   "cell_type": "code",
   "execution_count": 112,
   "metadata": {
    "collapsed": false
   },
   "outputs": [
    {
     "name": "stdout",
     "output_type": "stream",
     "text": [
      "the lenght is odd\n"
     ]
    }
   ],
   "source": [
    "oddeven=my_dna_len%2\n",
    "if oddeven==0:\n",
    "    print \"the length is even\"\n",
    "else:\n",
    "    print \"the lenght is odd\"\n",
    "# use the modulo operator to find out if my_dna_len is even"
   ]
  },
  {
   "cell_type": "markdown",
   "metadata": {},
   "source": [
    "## Part 2: If/Else if/Else"
   ]
  },
  {
   "cell_type": "markdown",
   "metadata": {},
   "source": [
    "Often in a program, you want to do something **if** some condition is true. If statements are a tool for doing just that."
   ]
  },
  {
   "cell_type": "markdown",
   "metadata": {},
   "source": [
    "First, here are some common operators that can help you in writing conditional statements:\n",
    "    \n",
    "    == (equals)\n",
    "    != (not equal to)\n",
    "    > (greater than)\n",
    "    < (less than)\n",
    "    >= (greater than or equal to)\n",
    "    <= (less than or equal to)\n",
    "    \n",
    "    is (test whether a value equals another value)\n",
    "    in (test if the value is in a set of values)\n",
    "    and (testing two conditions; **both** must be true)\n",
    "    or (testing two conditions; **one or both** must be true)"
   ]
  },
  {
   "cell_type": "code",
   "execution_count": 113,
   "metadata": {
    "collapsed": false
   },
   "outputs": [
    {
     "name": "stdout",
     "output_type": "stream",
     "text": [
      "seq1 is in seq2 or seq3\n"
     ]
    }
   ],
   "source": [
    "seq1 = \"ATG\"\n",
    "seq2 = \"CACGTG\"\n",
    "seq3 = \"gggcatgccc\"\n",
    "\n",
    "# Let's see if seq1 is in seq2 or seq3\n",
    "# convert everything to lowercase since python is case sensitive\n",
    "if seq1.lower() in seq2.lower() or seq1.lower() in seq3.lower():\n",
    "    print \"seq1 is in seq2 or seq3\"\n",
    "#if it's not, print a statement saying otherwise\n",
    "else:\n",
    "    print \"seq1 is not in seq2 or seq3\""
   ]
  },
  {
   "cell_type": "code",
   "execution_count": 114,
   "metadata": {
    "collapsed": false
   },
   "outputs": [
    {
     "name": "stdout",
     "output_type": "stream",
     "text": [
      "seq1 is not in both seq2 and se3\n"
     ]
    }
   ],
   "source": [
    "if seq1 in seq2:\n",
    "    if seq1 in seq3.upper():\n",
    "        print \"seq1 is in both seq2 and seq3\"\n",
    "else:\n",
    "    print \"seq1 is not in both seq2 and se3\"# Now write an if statement to test whether seq1 is contained in seq2 AND in seq3.\n",
    "# if it is, print a statement saying that seq1 is in seq2 and seq3.\n",
    "# If it's not, print a statement saying seq1 is not in seq2 and seq3."
   ]
  },
  {
   "cell_type": "markdown",
   "metadata": {},
   "source": [
    "Now let's practice using if/else if statements.\n",
    "\n",
    "In the following example, we want to know if a given food item is a fruit, a vegetable, or neither."
   ]
  },
  {
   "cell_type": "code",
   "execution_count": 115,
   "metadata": {
    "collapsed": false
   },
   "outputs": [
    {
     "name": "stdout",
     "output_type": "stream",
     "text": [
      "apples are fruit\n"
     ]
    }
   ],
   "source": [
    "fruits = [\"apples\", \"oranges\", \"bananas\", \"tomatoes\"]\n",
    "vegetables = [\"broccoli\", \"carrots\", \"spinach\", \"asparagus\"]\n",
    "\n",
    "food1 = \"apples\"\n",
    "\n",
    "if food1 in fruits:\n",
    "    print food1, \"are fruit\"\n",
    "if food1 in vegetables:\n",
    "    print food1, \"are vegetables\""
   ]
  },
  {
   "cell_type": "markdown",
   "metadata": {},
   "source": [
    "Seems okay so far, right? Now let's add an else statement to cover the condition that the food is neither a fruit nor a vegetable:"
   ]
  },
  {
   "cell_type": "code",
   "execution_count": 116,
   "metadata": {
    "collapsed": false
   },
   "outputs": [
    {
     "name": "stdout",
     "output_type": "stream",
     "text": [
      "apples are fruit\n",
      "apples are neither fruits nor vegetables.\n"
     ]
    }
   ],
   "source": [
    "if food1 in fruits:\n",
    "    print food1, \"are fruit\"\n",
    "if food1 in vegetables:\n",
    "    print food1, \"are vegetables\"\n",
    "else:\n",
    "    print food1, \"are neither fruits nor vegetables.\"\n",
    "fooder=\"not food\""
   ]
  },
  {
   "cell_type": "markdown",
   "metadata": {},
   "source": [
    "Now we're starting to see some problems. How can a food be both a fruit and neither a fruit nor a vegetable? It doesn't make any sense.\n",
    "\n",
    "To help you figure out what's going on, you can think of the set of statements like this:\n",
    "\n",
    "```\n",
    "if food1 in fruits: # testing condition1\n",
    "    print food1, \"are fruit\"\n",
    "    \n",
    "if food1 in vegetables: # testing condition2\n",
    "    print food1, \"are vegetables\"\n",
    "else: # if condition2 is not true, do the following\n",
    "    print food1, \"are neither fruits nor vegetables.\"\n",
    "```    \n",
    "\n",
    "The first **if** and the second **if** are independent of each other. Each one always executes. However, the **else** is tied to the second **if**. It only executes when the condition in the second **if** is false.\n",
    "\n",
    "So we really have two problems here. The first one is that we don't always want to test both **if** conditions. A food can't be both a fruit and a vegetable, so if we find out that the first is true (food is a fruit), why would we want to test the second?\n",
    "\n",
    "The second problem is that the **if/else** tied to only the second condition creates a false dichotomy. It is saying \"Is this food a vegetable? No? Then it must be something else entirely.\" But what about fruit?\n",
    "\n",
    "To fix this problem, you can use **elif**."
   ]
  },
  {
   "cell_type": "code",
   "execution_count": 117,
   "metadata": {
    "collapsed": false
   },
   "outputs": [
    {
     "name": "stdout",
     "output_type": "stream",
     "text": [
      "fooder is not in either fruits and vegetables\n",
      "\tfooder is not food\n",
      "food1 is fruit\n"
     ]
    }
   ],
   "source": [
    "if fooder in fruits:\n",
    "        print \"food1 is fruit\"\n",
    "elif fooder in vegetables:\n",
    "    print \"fooder is a vegetable\"\n",
    "else:\n",
    "    print \"fooder is not in either fruits and vegetables\"\n",
    "    print \"\\t\", \"fooder is\", fooder\n",
    "# Re-write the set of if statements above so that each condition is only tested if the one above it is false.\n",
    "# Use if for the first condition, elif for the second\n",
    "# For the last condition, you could use elif as well, but only if you feel confident that you can anticipate \n",
    "# every possible scenario. That's usually unrealistic, so that's where else comes in.\n",
    "if food1 in fruits:\n",
    "        print \"food1 is fruit\"\n",
    "elif food1 in vegetables:\n",
    "    print \"food1 is a vegetable\"\n",
    "else:\n",
    "    print \"food1 is not in either fruits and vegetables\""
   ]
  },
  {
   "cell_type": "markdown",
   "metadata": {},
   "source": [
    "## Part 3: Loops"
   ]
  },
  {
   "cell_type": "code",
   "execution_count": 118,
   "metadata": {
    "collapsed": false
   },
   "outputs": [
    {
     "name": "stdout",
     "output_type": "stream",
     "text": [
      "A\n",
      "T\n",
      "G\n",
      "C\n",
      "G\n",
      "T\n",
      "A\n"
     ]
    }
   ],
   "source": [
    "for nt in my_dna:\n",
    "   print nt\n"
   ]
  },
  {
   "cell_type": "code",
   "execution_count": 119,
   "metadata": {
    "collapsed": false
   },
   "outputs": [
    {
     "name": "stdout",
     "output_type": "stream",
     "text": [
      "A\n",
      "T\n",
      "G\n",
      "C\n",
      "G\n",
      "T\n",
      "A\n"
     ]
    }
   ],
   "source": [
    "for i in range(len(my_dna)):\n",
    "    print my_dna[i]\n"
   ]
  },
  {
   "cell_type": "code",
   "execution_count": 120,
   "metadata": {
    "collapsed": false
   },
   "outputs": [
    {
     "name": "stdout",
     "output_type": "stream",
     "text": [
      "A\n",
      "T\n",
      "G\n",
      "C\n",
      "G\n",
      "T\n",
      "A\n"
     ]
    }
   ],
   "source": [
    "num_nucleotides = len(my_dna)\n",
    "for j in range(0, num_nucleotides):\n",
    "    print my_dna[j]\n"
   ]
  },
  {
   "cell_type": "markdown",
   "metadata": {},
   "source": [
    "# For each loop example above, the output is the same but the input is different.\n",
    "### a) Consider what is being looped over.\n",
    "    The positions of the characters of the string variable \"my_dna\" are being looped over.\n",
    "### b) Consider the variable being used to hold the current element.\n",
    "    \"nt\", \"i\" and \"j\" are variable place holders. \"nt\" is a string variable. \"i\" is an integer variable. \"j\" is an\n",
    "    integer variable"
   ]
  },
  {
   "cell_type": "markdown",
   "metadata": {},
   "source": [
    "# Nested Loops\n",
    "    You can put any code inside a loop - including another loop.\n",
    "    Below is an example of nested for loops."
   ]
  },
  {
   "cell_type": "code",
   "execution_count": 121,
   "metadata": {
    "collapsed": false
   },
   "outputs": [
    {
     "name": "stdout",
     "output_type": "stream",
     "text": [
      "a\n",
      "b\n",
      "c\n",
      "d\n",
      "a\n",
      "b\n",
      "c\n",
      "d\n",
      "a\n",
      "b\n",
      "c\n",
      "d\n",
      "a\n",
      "b\n",
      "c\n",
      "d\n",
      "a\n",
      "b\n",
      "c\n",
      "d\n"
     ]
    }
   ],
   "source": [
    "letters = [\"a\", \"b\", \"c\", \"d\"]\n",
    "\n",
    "for i in range(5):\n",
    "    for letter in letters:\n",
    "        print letter"
   ]
  },
  {
   "cell_type": "markdown",
   "metadata": {},
   "source": [
    "# Python pseudocode is very similar to both actual code and American English\n",
    "\n",
    "Here is an example. Let's say you want to loop over a string, and print each character in the string 3 times. Before trying to write the actual working code, you might write:\n",
    "```\n",
    "for each letter in string\n",
    "    for each number in range 0-3\n",
    "        print letter\n",
    "```\n",
    "Once you write this out in words closer to spoken language than code-speak, you should have a clearer idea of what you want your code to do, and can start writing it."
   ]
  },
  {
   "cell_type": "code",
   "execution_count": 122,
   "metadata": {
    "collapsed": false
   },
   "outputs": [
    {
     "name": "stdout",
     "output_type": "stream",
     "text": [
      "1\n",
      "1\n",
      "1\n",
      "2\n",
      "2\n",
      "2\n",
      "3\n",
      "3\n",
      "3\n"
     ]
    }
   ],
   "source": [
    "my_list = [\"1\",\"2\",\"3\"]\n",
    "for j in my_list:\n",
    "    for i in range(3):\n",
    "        print j\n",
    "# Create a list containing \"one\", \"two\" and \"three\".\n",
    "# Write a nested for loop that will loop over the elements in a list and print each element 3 times.\n",
    "# This is how the output shoud look:    "
   ]
  },
  {
   "cell_type": "markdown",
   "metadata": {},
   "source": [
    "##### While loops"
   ]
  },
  {
   "cell_type": "markdown",
   "metadata": {},
   "source": [
    "For loops are just one kind of loop. You would want to use a for loop if you already know the number of times you want to loop over your data.\n",
    "\n",
    "Another type of loop is called a while loop. This type of loop is used to iterate over something <b>while</b> some condition is true.\n",
    "\n",
    "This is an example of a while loop:"
   ]
  },
  {
   "cell_type": "code",
   "execution_count": 123,
   "metadata": {
    "collapsed": false
   },
   "outputs": [
    {
     "name": "stdout",
     "output_type": "stream",
     "text": [
      "A\n",
      "T\n",
      "G\n"
     ]
    }
   ],
   "source": [
    "i = 0\n",
    "while (my_dna[i] != \"C\"):\n",
    "    print my_dna[i]\n",
    "    i += 1"
   ]
  },
  {
   "cell_type": "code",
   "execution_count": 124,
   "metadata": {
    "collapsed": false
   },
   "outputs": [
    {
     "name": "stdout",
     "output_type": "stream",
     "text": [
      "A\n",
      "T\n",
      "G\n",
      "C\n",
      "G\n"
     ]
    }
   ],
   "source": [
    "p = 10\n",
    "i=0\n",
    "while p>5:\n",
    "    print my_dna[i]\n",
    "    p -=1\n",
    "    i +=1# Assign the value 10 to a counter variable (you can name it anything you want). \n",
    "# Write a while loop that runs until the counter is less than 5, \n",
    "# subtracting 1 from the counter with each iteration."
   ]
  },
  {
   "cell_type": "markdown",
   "metadata": {},
   "source": [
    "Another useful concept to know when working with loops is how to use the **break** and **continue** keywords.\n",
    "\n",
    "**break** is used when you want to break out of a loop completely, stopping all further iteration."
   ]
  },
  {
   "cell_type": "code",
   "execution_count": 125,
   "metadata": {
    "collapsed": false
   },
   "outputs": [
    {
     "name": "stdout",
     "output_type": "stream",
     "text": [
      "A\n",
      "T\n",
      "ATGCGTA\n"
     ]
    }
   ],
   "source": [
    "i = 0\n",
    "while i < len(my_dna):\n",
    "    if (my_dna[i] == \"G\"):\n",
    "        break\n",
    "    print my_dna[i]\n",
    "    i +=1   \n",
    "print my_dna\n"
   ]
  },
  {
   "cell_type": "markdown",
   "metadata": {},
   "source": [
    "Use **continue** if you want to break out of the current iteration, moving on to the next iteration of the loop."
   ]
  },
  {
   "cell_type": "code",
   "execution_count": 126,
   "metadata": {
    "collapsed": false
   },
   "outputs": [
    {
     "name": "stdout",
     "output_type": "stream",
     "text": [
      "A\n",
      "T\n",
      "C\n",
      "T\n",
      "A\n"
     ]
    }
   ],
   "source": [
    "i = 0\n",
    "while i < len(my_dna):\n",
    "    if my_dna[i] in \"G\":\n",
    "        i += 1\n",
    "        continue\n",
    "    else:\n",
    "        print my_dna[i]\n",
    "        i += 1"
   ]
  },
  {
   "cell_type": "markdown",
   "metadata": {},
   "source": [
    "## Why do we have to put ```i += 1``` in two places, inside the if statement and outside? What would happen if I didn't increment ```i``` inside the if statement, only outside? (Try it if you want to crash your machine.)\n",
    "\n",
    "### If +=1 isnt written inside the if statement, then the zero position of my_dna will be looped over infinitely without any observeable output.  The benefit of jupyter notebooks is the ability to run code like this and use the stop key to prevent a crash. When the symbol to the left of the cell looks like this: \n",
    "\n",
    "    In[*]\n",
    "\n",
    "### The code is being run.  This is good way to determine if you just created in an infinite loop.\n",
    "        Jupyter Notebooks are a good place to run experimental code.\n"
   ]
  },
  {
   "cell_type": "code",
   "execution_count": 127,
   "metadata": {
    "collapsed": false
   },
   "outputs": [
    {
     "name": "stdout",
     "output_type": "stream",
     "text": [
      "G\n",
      "C\n",
      "A\n",
      "T\n",
      "G\n",
      "C\n",
      "C repeats detected, sequence analysis stopped\n"
     ]
    }
   ],
   "source": [
    "nuc = 0\n",
    "seq = \"GGGCATGCCC\"\n",
    "for i in seq:\n",
    "    if seq[nuc] in \"G\":\n",
    "        if seq[nuc+1] in \"G\":\n",
    "            nuc += 2\n",
    "    if seq[nuc] in \"C\":\n",
    "        print seq[nuc]\n",
    "        nuc += 1\n",
    "        if seq[nuc] in \"C\":\n",
    "            print \"C repeats detected, sequence analysis stopped\"\n",
    "            break\n",
    "    else:\n",
    "        print seq[nuc]\n",
    "        nuc += 1\n",
    "        continue\n",
    "# Use a for loop OR a while loop to iterate over the sequence GGGCATGCCC. \n",
    "# Your loop should do the following:\n",
    "# If you encounter two G's in a row, continue to the next letter without doing anything.\n",
    "# If you encounter two C's in a row, break out of the loop.\n",
    "# Print out the nucleotide at each position in the sequence.\n",
    " "
   ]
  },
  {
   "cell_type": "markdown",
   "metadata": {},
   "source": [
    "## Part 4a: Lists"
   ]
  },
  {
   "cell_type": "code",
   "execution_count": 128,
   "metadata": {
    "collapsed": false
   },
   "outputs": [],
   "source": [
    "# Let's create two lists, list1 and list2.\n",
    "list1 = [\"x\", \"y\", \"z\"]\n",
    "list2 = [\"Y\", \"X\", \"Z\"]\n",
    "\n",
    "# Notice that we haven't added anything to the lists.\n",
    "# If you want to add elements to a list when you create it, you can do it like this:\n",
    "# list1 = [\"item1\", \"item2\", \"item3\"]"
   ]
  },
  {
   "cell_type": "code",
   "execution_count": 129,
   "metadata": {
    "collapsed": false
   },
   "outputs": [
    {
     "name": "stdout",
     "output_type": "stream",
     "text": [
      "['x', 'y', 'z', 'apples', 'oranges', 'bananas']\n"
     ]
    }
   ],
   "source": [
    "# Now let's add \"apples\", \"oranges\", and \"bananas\" to list1\n",
    "list1 = [\"x\", \"y\", \"z\"]\n",
    "list2 = [\"Y\", \"X\", \"Z\"]\n",
    "list1.append(\"apples\")\n",
    "list1.append(\"oranges\")\n",
    "list1.append(\"bananas\")\n",
    "print list1\n",
    "\n",
    "# print list1 to make sure everything was added"
   ]
  },
  {
   "cell_type": "code",
   "execution_count": 130,
   "metadata": {
    "collapsed": false
   },
   "outputs": [
    {
     "name": "stdout",
     "output_type": "stream",
     "text": [
      "['Y', 'X', 'Z', 'ice cream', 'cookies', 'chocolate']\n"
     ]
    }
   ],
   "source": [
    "list2.append(\"ice cream\")\n",
    "list2.append(\"cookies\")\n",
    "list2.append(\"chocolate\")\n",
    "print list2# Now it's your turn. Add \"ice cream\", \"cookies\", and \"chocolate\" to list2."
   ]
  },
  {
   "cell_type": "code",
   "execution_count": 131,
   "metadata": {
    "collapsed": false
   },
   "outputs": [],
   "source": [
    "# You can also have a list of lists. Create a list, list3, and append list1 and list2 to it.\n",
    "list3 = []\n",
    "list3.append(list1)\n",
    "list3.append(list2)"
   ]
  },
  {
   "cell_type": "code",
   "execution_count": 132,
   "metadata": {
    "collapsed": false
   },
   "outputs": [
    {
     "name": "stdout",
     "output_type": "stream",
     "text": [
      "[['x', 'y', 'z', 'apples', 'oranges', 'bananas'], ['Y', 'X', 'Z', 'ice cream', 'cookies', 'chocolate']]\n",
      "['x', 'y', 'z', 'apples', 'oranges', 'bananas']\n",
      "['Y', 'X', 'Z', 'ice cream', 'cookies', 'chocolate']\n"
     ]
    }
   ],
   "source": [
    "# print out list3\n",
    "print list3\n",
    "\n",
    "# let's try to print the elements of list3 one at a time, using a for loop\n",
    "for item in list3:\n",
    "    print item"
   ]
  },
  {
   "cell_type": "markdown",
   "metadata": {},
   "source": [
    "#### Why didn't the loop print each item on its own line?"
   ]
  },
  {
   "cell_type": "raw",
   "metadata": {},
   "source": [
    "Each iteration of the for loop is performed sequentially so each item is printed on a new command line."
   ]
  },
  {
   "cell_type": "markdown",
   "metadata": {
    "collapsed": false
   },
   "source": [
    "###  To print each item in each sublist on its own line we would use a nested for loop."
   ]
  },
  {
   "cell_type": "code",
   "execution_count": 133,
   "metadata": {
    "collapsed": false
   },
   "outputs": [
    {
     "name": "stdout",
     "output_type": "stream",
     "text": [
      "[['x', 'y', 'z', 'apples', 'oranges', 'bananas'], ['Y', 'X', 'Z', 'ice cream', 'cookies', 'chocolate']]\n",
      "['x', 'y', 'z', 'apples', 'oranges', 'bananas']\n",
      "x\n",
      "y\n",
      "z\n",
      "apples\n",
      "oranges\n",
      "bananas\n",
      "['Y', 'X', 'Z', 'ice cream', 'cookies', 'chocolate']\n",
      "Y\n",
      "X\n",
      "Z\n",
      "ice cream\n",
      "cookies\n",
      "chocolate\n"
     ]
    }
   ],
   "source": [
    "# print out list3\n",
    "print list3\n",
    "\n",
    "# let's try to print the elements of list3 one at a time, using a for loop\n",
    "for item in list3:\n",
    "    print item\n",
    "    for i in item:\n",
    "        print i"
   ]
  },
  {
   "cell_type": "markdown",
   "metadata": {},
   "source": [
    "## Part 4b: Dictionaries"
   ]
  },
  {
   "cell_type": "markdown",
   "metadata": {},
   "source": [
    "Another useful Python data structure is the dictionary. Dictionaries are similar to lists, except that instead of elements, they have key-value pairs.\n",
    "\n",
    "What are key-value pairs? They can be pretty much any two things you want to associate with each other. Some examples:\n",
    "\n",
    "* protein or DNA accession numbers and their sequences\n",
    "* codons and their associated amino acid residues\n",
    "* colleagues’ names and their email addresses\n",
    "* words and their definitions\n",
    "\n",
    "The keys and values for the examples above would be broken down like this:\n",
    "\n",
    "Key | Value\n",
    "--- | ---\n",
    "accession number | sequence\n",
    "codon | amino acid\n",
    "name | email address\n",
    "word | definition\n",
    "\n",
    "Creating a dictionary (or **dict**) allows you to use the key in a key-value pair to look up the associated value.\n",
    "\n",
    "Here is an example using codon/amino acid residue key-value pairs."
   ]
  },
  {
   "cell_type": "code",
   "execution_count": 134,
   "metadata": {
    "collapsed": false
   },
   "outputs": [],
   "source": [
    "# Create an empty dict\n",
    "codons = {}\n",
    "# add methionine\n",
    "codons[\"AUG\"] = \"M\"\n",
    "\n",
    "# add a few more codons\n",
    "codons[\"UUU\"] = \"F\"\n",
    "codons[\"CUU\"] = \"L\"\n",
    "codons[\"UAG\"] = \"*\""
   ]
  },
  {
   "cell_type": "code",
   "execution_count": 135,
   "metadata": {
    "collapsed": false
   },
   "outputs": [
    {
     "data": {
      "text/plain": [
       "['UUU', 'CUU', 'UAG', 'AUG']"
      ]
     },
     "execution_count": 135,
     "metadata": {},
     "output_type": "execute_result"
    }
   ],
   "source": [
    "# print out all the keys\n",
    "codons.keys()"
   ]
  },
  {
   "cell_type": "code",
   "execution_count": 136,
   "metadata": {
    "collapsed": false
   },
   "outputs": [
    {
     "data": {
      "text/plain": [
       "['F', 'L', '*', 'M']"
      ]
     },
     "execution_count": 136,
     "metadata": {},
     "output_type": "execute_result"
    }
   ],
   "source": [
    "# print out all the values\n",
    "codons.values()"
   ]
  },
  {
   "cell_type": "code",
   "execution_count": 137,
   "metadata": {
    "collapsed": false
   },
   "outputs": [
    {
     "name": "stdout",
     "output_type": "stream",
     "text": [
      "F\n"
     ]
    }
   ],
   "source": [
    "# what amino acid does UUU code for?\n",
    "print codons[\"UUU\"]"
   ]
  },
  {
   "cell_type": "code",
   "execution_count": 138,
   "metadata": {
    "collapsed": false
   },
   "outputs": [
    {
     "name": "stdout",
     "output_type": "stream",
     "text": [
      "ACC T\n",
      "ATG M\n",
      "ACA T\n",
      "ACG T\n",
      "ATC I\n",
      "AAC N\n",
      "ATA I\n",
      "AGG R\n",
      "CCT P\n",
      "CTC L\n",
      "AGC S\n",
      "AAG K\n",
      "AGA R\n",
      "CAT H\n",
      "AAT N\n",
      "ATT I\n",
      "CTG L\n",
      "CTA L\n",
      "ACT T\n",
      "CAC H\n",
      "AAA K\n",
      "CCG P\n",
      "AGT S\n",
      "CCA P\n",
      "CAA Q\n",
      "CCC P\n",
      "TAT Y\n",
      "GGT G\n",
      "TGT C\n",
      "CGA R\n",
      "CAG Q\n",
      "CGC R\n",
      "GAT D\n",
      "CGG R\n",
      "CTT L\n",
      "TGC C\n",
      "GGG G\n",
      "TAG _\n",
      "GGA G\n",
      "TAA _\n",
      "GGC G\n",
      "TAC Y\n",
      "GAG E\n",
      "TCG S\n",
      "TTT F\n",
      "GAC D\n",
      "CGT R\n",
      "GAA E\n",
      "TCA S\n",
      "GCA A\n",
      "GTA V\n",
      "GCC A\n",
      "GTC V\n",
      "TGA _\n",
      "GCG A\n",
      "GTG V\n",
      "TTC F\n",
      "GTT V\n",
      "GCT A\n",
      "TTA L\n",
      "TTG L\n",
      "TCC S\n",
      "TGG W\n",
      "TCT S\n"
     ]
    },
    {
     "data": {
      "text/plain": [
       "list"
      ]
     },
     "execution_count": 138,
     "metadata": {},
     "output_type": "execute_result"
    }
   ],
   "source": [
    "# a better way to fill in a dictionary.\n",
    "codontable = {\n",
    "    'ATA':'I', 'ATC':'I', 'ATT':'I', 'ATG':'M',\n",
    "    'ACA':'T', 'ACC':'T', 'ACG':'T', 'ACT':'T',\n",
    "    'AAC':'N', 'AAT':'N', 'AAA':'K', 'AAG':'K',\n",
    "    'AGC':'S', 'AGT':'S', 'AGA':'R', 'AGG':'R',\n",
    "    'CTA':'L', 'CTC':'L', 'CTG':'L', 'CTT':'L',\n",
    "    'CCA':'P', 'CCC':'P', 'CCG':'P', 'CCT':'P',\n",
    "    'CAC':'H', 'CAT':'H', 'CAA':'Q', 'CAG':'Q',\n",
    "    'CGA':'R', 'CGC':'R', 'CGG':'R', 'CGT':'R',\n",
    "    'GTA':'V', 'GTC':'V', 'GTG':'V', 'GTT':'V',\n",
    "    'GCA':'A', 'GCC':'A', 'GCG':'A', 'GCT':'A',\n",
    "    'GAC':'D', 'GAT':'D', 'GAA':'E', 'GAG':'E',\n",
    "    'GGA':'G', 'GGC':'G', 'GGG':'G', 'GGT':'G',\n",
    "    'TCA':'S', 'TCC':'S', 'TCG':'S', 'TCT':'S',\n",
    "    'TTC':'F', 'TTT':'F', 'TTA':'L', 'TTG':'L',\n",
    "    'TAC':'Y', 'TAT':'Y', 'TAA':'_', 'TAG':'_',\n",
    "    'TGC':'C', 'TGT':'C', 'TGA':'_', 'TGG':'W',\n",
    "    }\n",
    "codons = codontable.keys()\n",
    "codon = codontable.values()\n",
    "for i in range(0, len(codontable)):\n",
    "    print codons[i], codon[i]\n",
    "type(codons)\n",
    "# Note that the indices for your two lists must match up!!"
   ]
  },
  {
   "cell_type": "markdown",
   "metadata": {},
   "source": [
    "What if we know a value, and want to get back the key associated with it?\n",
    "\n",
    "Let's say we want to look up the codon for leucine."
   ]
  },
  {
   "cell_type": "code",
   "execution_count": 139,
   "metadata": {
    "collapsed": false
   },
   "outputs": [
    {
     "name": "stdout",
     "output_type": "stream",
     "text": [
      "yes AGC\n",
      "yes CTA\n",
      "yes ACT\n",
      "yes TGC\n",
      "yes TTG\n",
      "yes TCC\n"
     ]
    }
   ],
   "source": [
    "i=0# create a variable to store the value we want to look up\n",
    "for x in codontable:\n",
    "    i += 1\n",
    "    if \"L\" in codontable[x]:\n",
    "        print \"yes\", codons[i]\n",
    "        # loop over the keys\n",
    "# check if the value for each key is equal to the value we want\n",
    "# if it is, print it"
   ]
  },
  {
   "cell_type": "markdown",
   "metadata": {},
   "source": [
    " Keys must be unique because they are tied to a singular value.  Two different keys can code for the same value but the keys must be nonambiguous."
   ]
  },
  {
   "cell_type": "markdown",
   "metadata": {},
   "source": [
    "# Vectors (Arrays)"
   ]
  },
  {
   "cell_type": "markdown",
   "metadata": {},
   "source": [
    "### It's pretty simple to create simple arrays. Initialize an empty array and keep appending your vectors to it.\n",
    "    This is why Anaconda is great.  Its an interpreter that is equipped with tons of packages for this type of thing.\n",
    "    We just need to import them."
   ]
  },
  {
   "cell_type": "code",
   "execution_count": 10,
   "metadata": {
    "collapsed": true
   },
   "outputs": [],
   "source": [
    "import sys\n",
    "from datetime import datetime\n",
    "import numpy"
   ]
  },
  {
   "cell_type": "code",
   "execution_count": 11,
   "metadata": {
    "collapsed": false
   },
   "outputs": [
    {
     "name": "stdout",
     "output_type": "stream",
     "text": [
      "[['1', '2', '3'], ['.1', '.2', '.3'], ['10', '20', '30'], ['100', '200', '300']]\n"
     ]
    }
   ],
   "source": [
    "\n",
    "# Vectors\n",
    "Xa = ['1','2','3']\n",
    "x1 = ['.1','.2','.3']\n",
    "Xb = ['10','20','30']\n",
    "Xc = ['100','200','300']\n",
    "# Empy Array\n",
    "resultArray = []\n",
    "# Add vectors to array\n",
    "resultArray.append(Xa)\n",
    "resultArray.append(x1)\n",
    "resultArray.append(Xb)\n",
    "resultArray.append(Xc)\n",
    "\n",
    "print resultArray"
   ]
  },
  {
   "cell_type": "code",
   "execution_count": 12,
   "metadata": {
    "collapsed": false
   },
   "outputs": [],
   "source": [
    "from matplotlib import pyplot as plt\n",
    "import matplotlib as mpl\n",
    "from mpl_toolkits.mplot3d import Axes3D\n",
    "import numpy as np\n",
    "\n",
    "# Define several atoms, these are numpy arrays of length 3\n",
    "# randomly pulled from a uniform distribution between -1 and 1\n",
    "\n",
    "atom1 = np.random.uniform(-1, 1, 3)\n",
    "atom2 = np.random.uniform(-1, 1, 3)\n",
    "atom3 = np.random.uniform(-1, 1, 3)\n",
    "atom4 = np.random.uniform(-1, 1, 3)\n",
    "\n",
    "colors = ['r', 'g', 'b', 'k']\n",
    "\n",
    "# Here all the atoms are stacked into a (4, 3) array\n",
    "atoms = np.vstack([atom1, atom2, atom3, atom4])\n",
    "\n",
    "ax = plt.subplot(111, projection='3d')\n",
    "\n",
    "# Plot scatter of points\n",
    "ax.scatter3D(atoms[:, 0], atoms[:, 1], atoms[:, 2], c=colors)\n",
    "\n",
    "plt.show()\n",
    "\n",
    "# This code will run until window is closed"
   ]
  },
  {
   "cell_type": "markdown",
   "metadata": {},
   "source": [
    "# The next book I create will focus on Cython and Arrays\n",
    "    There are tons of great resources for Numpy, Scipy, and Matplotlib, which are python packages for vector\n",
    "    manipulation\n",
    "                http://www.scipy-lectures.org/intro/numpy/operations.html"
   ]
  }
 ],
 "metadata": {
  "kernelspec": {
   "display_name": "Python [Root]",
   "language": "python",
   "name": "Python [Root]"
  },
  "language_info": {
   "codemirror_mode": {
    "name": "ipython",
    "version": 2
   },
   "file_extension": ".py",
   "mimetype": "text/x-python",
   "name": "python",
   "nbconvert_exporter": "python",
   "pygments_lexer": "ipython2",
   "version": "2.7.12"
  }
 },
 "nbformat": 4,
 "nbformat_minor": 0
}
