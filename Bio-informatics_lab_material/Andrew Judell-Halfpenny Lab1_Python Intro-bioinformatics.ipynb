﻿<!DOCTYPE HTML>
<!-- saved from url=(0078)http://localhost:8889/notebooks/Lab1_PythonIntro_blank(1)-bioinformatics.ipynb -->
<!DOCTYPE html PUBLIC "" ""><HTML><HEAD><META content="IE=11.0000" 
http-equiv="X-UA-Compatible">
     
<META charset="utf-8">     <TITLE>IPython Notebook</TITLE>     <LINK href="/static/base/images/favicon.ico?v=4e6c6be5716444f7ac7b902e7f388939" 
rel="shortcut icon" type="image/x-icon">     
<META http-equiv="X-UA-Compatible" content="chrome=1">     <LINK href="Lab1_PythonIntro_blank(1)-bioinformatics_files/jquery-ui.min.css" 
rel="stylesheet" type="text/css">     
<META name="viewport" content="width=device-width, initial-scale=1.0">         
<SCRIPT src="Lab1_PythonIntro_blank(1)-bioinformatics_files/MathJax.js" type="text/javascript" charset="utf-8"></SCRIPT>
 
<SCRIPT type="text/javascript">
// MathJax disabled, set as null to distingish from *missing* MathJax,
// where it will be undefined, and should prompt a dialog later.
window.mathjax_url = "https://cdn.mathjax.org/mathjax/latest/MathJax.js";
</SCRIPT>
 <LINK href="Lab1_PythonIntro_blank(1)-bioinformatics_files/bootstrap-tour.min.css" 
rel="stylesheet" type="text/css"> <LINK href="Lab1_PythonIntro_blank(1)-bioinformatics_files/codemirror.css" 
rel="stylesheet">     <LINK href="Lab1_PythonIntro_blank(1)-bioinformatics_files/style.min.css" 
rel="stylesheet" type="text/css">     <LINK href="Lab1_PythonIntro_blank(1)-bioinformatics_files/override.css" 
rel="stylesheet" type="text/css">     <LINK href="/static/custom/custom.css?v=900035aa0c126bb85df55c5b3e51b6f1" 
rel="stylesheet" type="text/css">     
<SCRIPT src="Lab1_PythonIntro_blank(1)-bioinformatics_files/require.js" type="text/javascript" charset="utf-8"></SCRIPT>
     
<SCRIPT>
      require.config({
          baseUrl: '/static/',
          paths: {
            nbextensions : '/nbextensions',
            underscore : '/static/components/underscore/underscore-min.js?v=ca26dc8cdf5d413cd8d3b62490e28210',
            backbone : '/static/components/backbone/backbone-min.js?v=dd2e6c2643968f7932487454302f407d',
          },
          shim: {
            underscore: {
              exports: '_'
            },
            backbone: {
              deps: ["underscore", "jquery"],
              exports: "Backbone"
            }
          }
      });
    </SCRIPT>
         
<META name="GENERATOR" content="MSHTML 11.00.9600.18015"></HEAD> 
<BODY class="notebook_app" data-notebook-path="" data-notebook-name="Lab1_PythonIntro_blank%281%29-bioinformatics.ipynb" 
data-base-url="/" data-project="C:\Users\LabUser"><NOSCRIPT>    &lt;div 
id='noscript'&gt;      IPython Notebook requires JavaScript.&lt;br&gt;      
Please enable it to proceed.  &lt;/div&gt; </NOSCRIPT> 
<DIV class="navbar navbar-static-top" id="header">
<DIV class="navbar-inner navbar-nobg">
<DIV class="container">
<DIV class="nav brand pull-left" id="ipython_notebook"><A href="http://localhost:8889/tree/" 
alt="dashboard"><IMG alt="IPython Notebook" src="Lab1_PythonIntro_blank(1)-bioinformatics_files/ipynblogo.png"></A></DIV><SPAN 
id="login_widget"></SPAN>         <SPAN class="nav pull-left" 
id="save_widget"><SPAN id="notebook_name"></SPAN>     <SPAN id="checkpoint_status"></SPAN> 
    <SPAN id="autosave_status"></SPAN> </SPAN></DIV></DIV></DIV>
<DIV id="site">
<DIV class="container" id="menubar-container">
<DIV id="menubar">
<DIV class="navbar">
<DIV class="navbar-inner">
<DIV class="container">
<UL class="nav" id="menus">
  <LI class="dropdown"><A class="dropdown-toggle" href="http://localhost:8889/notebooks/Lab1_PythonIntro_blank(1)-bioinformatics.ipynb#" 
  data-toggle="dropdown">File</A>
  <UL class="dropdown-menu" id="file_menu">
    <LI title="Make a new notebook (Opens a new window)" id="new_notebook"><A 
    href="http://localhost:8889/notebooks/Lab1_PythonIntro_blank(1)-bioinformatics.ipynb#">New</A></LI>
    <LI title="Opens a new window with the Dashboard view" id="open_notebook"><A 
    href="http://localhost:8889/notebooks/Lab1_PythonIntro_blank(1)-bioinformatics.ipynb#">Open...</A></LI><!-- <hr/> --> 
                    
    <LI class="divider"></LI>
    <LI title="Open a copy of this notebook's contents and start a new kernel" 
    id="copy_notebook"><A href="http://localhost:8889/notebooks/Lab1_PythonIntro_blank(1)-bioinformatics.ipynb#">Make 
    a Copy...</A></LI>
    <LI id="rename_notebook"><A href="http://localhost:8889/notebooks/Lab1_PythonIntro_blank(1)-bioinformatics.ipynb#">Rename...</A></LI>
    <LI id="save_checkpoint"><A href="http://localhost:8889/notebooks/Lab1_PythonIntro_blank(1)-bioinformatics.ipynb#">Save 
    and Checkpoint</A></LI><!-- <hr/> -->                 
    <LI class="divider"></LI>
    <LI class="dropdown-submenu" id="restore_checkpoint"><A href="http://localhost:8889/notebooks/Lab1_PythonIntro_blank(1)-bioinformatics.ipynb#">Revert 
    to Checkpoint</A>
    <UL class="dropdown-menu">
      <LI><A href="http://localhost:8889/notebooks/Lab1_PythonIntro_blank(1)-bioinformatics.ipynb#"></A></LI>
      <LI><A href="http://localhost:8889/notebooks/Lab1_PythonIntro_blank(1)-bioinformatics.ipynb#"></A></LI>
      <LI><A href="http://localhost:8889/notebooks/Lab1_PythonIntro_blank(1)-bioinformatics.ipynb#"></A></LI>
      <LI><A href="http://localhost:8889/notebooks/Lab1_PythonIntro_blank(1)-bioinformatics.ipynb#"></A></LI>
      <LI><A href="http://localhost:8889/notebooks/Lab1_PythonIntro_blank(1)-bioinformatics.ipynb#"></A></LI></UL></LI>
    <LI class="divider"></LI>
    <LI id="print_preview"><A href="http://localhost:8889/notebooks/Lab1_PythonIntro_blank(1)-bioinformatics.ipynb#">Print 
    Preview</A></LI>
    <LI class="dropdown-submenu"><A href="http://localhost:8889/notebooks/Lab1_PythonIntro_blank(1)-bioinformatics.ipynb#">Download 
    as</A>
    <UL class="dropdown-menu">
      <LI id="download_ipynb"><A href="http://localhost:8889/notebooks/Lab1_PythonIntro_blank(1)-bioinformatics.ipynb#">IPython 
      Notebook (.ipynb)</A></LI>
      <LI id="download_py"><A href="http://localhost:8889/notebooks/Lab1_PythonIntro_blank(1)-bioinformatics.ipynb#">Python 
      (.py)</A></LI>
      <LI id="download_html"><A href="http://localhost:8889/notebooks/Lab1_PythonIntro_blank(1)-bioinformatics.ipynb#">HTML 
      (.html)</A></LI>
      <LI id="download_rst"><A href="http://localhost:8889/notebooks/Lab1_PythonIntro_blank(1)-bioinformatics.ipynb#">reST 
      (.rst)</A></LI></UL></LI>
    <LI class="divider"></LI>
    <LI title="Trust the output of this notebook" id="trust_notebook"><A href="http://localhost:8889/notebooks/Lab1_PythonIntro_blank(1)-bioinformatics.ipynb#">Trust 
    Notebook</A></LI>
    <LI class="divider"></LI>
    <LI title="Shutdown this notebook's kernel, and close this window" id="kill_and_exit"><A 
    href="http://localhost:8889/notebooks/Lab1_PythonIntro_blank(1)-bioinformatics.ipynb#">Close 
    and halt</A></LI></UL></LI>
  <LI class="dropdown"><A class="dropdown-toggle" href="http://localhost:8889/notebooks/Lab1_PythonIntro_blank(1)-bioinformatics.ipynb#" 
  data-toggle="dropdown">Edit</A>
  <UL class="dropdown-menu" id="edit_menu">
    <LI id="cut_cell"><A href="http://localhost:8889/notebooks/Lab1_PythonIntro_blank(1)-bioinformatics.ipynb#">Cut 
    Cell</A></LI>
    <LI id="copy_cell"><A href="http://localhost:8889/notebooks/Lab1_PythonIntro_blank(1)-bioinformatics.ipynb#">Copy 
    Cell</A></LI>
    <LI class="disabled" id="paste_cell_above"><A href="http://localhost:8889/notebooks/Lab1_PythonIntro_blank(1)-bioinformatics.ipynb#">Paste 
    Cell Above</A></LI>
    <LI class="disabled" id="paste_cell_below"><A href="http://localhost:8889/notebooks/Lab1_PythonIntro_blank(1)-bioinformatics.ipynb#">Paste 
    Cell Below</A></LI>
    <LI class="disabled" id="paste_cell_replace"><A href="http://localhost:8889/notebooks/Lab1_PythonIntro_blank(1)-bioinformatics.ipynb#">Paste 
    Cell &amp; Replace</A></LI>
    <LI id="delete_cell"><A href="http://localhost:8889/notebooks/Lab1_PythonIntro_blank(1)-bioinformatics.ipynb#">Delete 
    Cell</A></LI>
    <LI class="disabled" id="undelete_cell"><A href="http://localhost:8889/notebooks/Lab1_PythonIntro_blank(1)-bioinformatics.ipynb#">Undo 
    Delete Cell</A></LI>
    <LI class="divider"></LI>
    <LI id="split_cell"><A href="http://localhost:8889/notebooks/Lab1_PythonIntro_blank(1)-bioinformatics.ipynb#">Split 
    Cell</A></LI>
    <LI id="merge_cell_above"><A href="http://localhost:8889/notebooks/Lab1_PythonIntro_blank(1)-bioinformatics.ipynb#">Merge 
    Cell Above</A></LI>
    <LI id="merge_cell_below"><A href="http://localhost:8889/notebooks/Lab1_PythonIntro_blank(1)-bioinformatics.ipynb#">Merge 
    Cell Below</A></LI>
    <LI class="divider"></LI>
    <LI id="move_cell_up"><A href="http://localhost:8889/notebooks/Lab1_PythonIntro_blank(1)-bioinformatics.ipynb#">Move 
    Cell Up</A></LI>
    <LI id="move_cell_down"><A href="http://localhost:8889/notebooks/Lab1_PythonIntro_blank(1)-bioinformatics.ipynb#">Move 
    Cell Down</A></LI>
    <LI class="divider"></LI>
    <LI id="edit_nb_metadata"><A href="http://localhost:8889/notebooks/Lab1_PythonIntro_blank(1)-bioinformatics.ipynb#">Edit 
    Notebook Metadata</A></LI></UL></LI>
  <LI class="dropdown"><A class="dropdown-toggle" href="http://localhost:8889/notebooks/Lab1_PythonIntro_blank(1)-bioinformatics.ipynb#" 
  data-toggle="dropdown">View</A>
  <UL class="dropdown-menu" id="view_menu">
    <LI title="Show/Hide the IPython Notebook logo and notebook title (above menu bar)" 
    id="toggle_header"><A href="http://localhost:8889/notebooks/Lab1_PythonIntro_blank(1)-bioinformatics.ipynb#">Toggle 
    Header</A></LI>
    <LI title="Show/Hide the action icons (below menu bar)" 
    id="toggle_toolbar"><A href="http://localhost:8889/notebooks/Lab1_PythonIntro_blank(1)-bioinformatics.ipynb#">Toggle 
    Toolbar</A></LI></UL></LI>
  <LI class="dropdown"><A class="dropdown-toggle" href="http://localhost:8889/notebooks/Lab1_PythonIntro_blank(1)-bioinformatics.ipynb#" 
  data-toggle="dropdown">Insert</A>
  <UL class="dropdown-menu" id="insert_menu">
    <LI title="Insert an empty Code cell above the currently active cell" id="insert_cell_above"><A 
    href="http://localhost:8889/notebooks/Lab1_PythonIntro_blank(1)-bioinformatics.ipynb#">Insert 
    Cell Above</A></LI>
    <LI title="Insert an empty Code cell below the currently active cell" id="insert_cell_below"><A 
    href="http://localhost:8889/notebooks/Lab1_PythonIntro_blank(1)-bioinformatics.ipynb#">Insert 
    Cell Below</A></LI></UL></LI>
  <LI class="dropdown"><A class="dropdown-toggle" href="http://localhost:8889/notebooks/Lab1_PythonIntro_blank(1)-bioinformatics.ipynb#" 
  data-toggle="dropdown">Cell</A>
  <UL class="dropdown-menu" id="cell_menu">
    <LI title="Run this cell, and move cursor to the next one" id="run_cell"><A 
    href="http://localhost:8889/notebooks/Lab1_PythonIntro_blank(1)-bioinformatics.ipynb#">Run</A></LI>
    <LI title="Run this cell, select below" id="run_cell_select_below"><A href="http://localhost:8889/notebooks/Lab1_PythonIntro_blank(1)-bioinformatics.ipynb#">Run 
    and Select Below</A></LI>
    <LI title="Run this cell, insert below" id="run_cell_insert_below"><A href="http://localhost:8889/notebooks/Lab1_PythonIntro_blank(1)-bioinformatics.ipynb#">Run 
    and Insert Below</A></LI>
    <LI title="Run all cells in the notebook" id="run_all_cells"><A href="http://localhost:8889/notebooks/Lab1_PythonIntro_blank(1)-bioinformatics.ipynb#">Run 
    All</A></LI>
    <LI title="Run all cells above (but not including) this cell" id="run_all_cells_above"><A 
    href="http://localhost:8889/notebooks/Lab1_PythonIntro_blank(1)-bioinformatics.ipynb#">Run 
    All Above</A></LI>
    <LI title="Run this cell and all cells below it" id="run_all_cells_below"><A 
    href="http://localhost:8889/notebooks/Lab1_PythonIntro_blank(1)-bioinformatics.ipynb#">Run 
    All Below</A></LI>
    <LI class="divider"></LI>
    <LI title="All cells in the notebook have a cell type. By default, new cells are created as 'Code' cells" 
    class="dropdown-submenu" id="change_cell_type"><A href="http://localhost:8889/notebooks/Lab1_PythonIntro_blank(1)-bioinformatics.ipynb#">Cell 
    Type</A>
    <UL class="dropdown-menu">
      <LI title="Contents will be sent to the kernel for execution, and output will display in the footer of cell" 
      id="to_code"><A href="http://localhost:8889/notebooks/Lab1_PythonIntro_blank(1)-bioinformatics.ipynb#">Code</A></LI>
      <LI title="Contents will be rendered as HTML and serve as explanatory text" 
      id="to_markdown"><A href="http://localhost:8889/notebooks/Lab1_PythonIntro_blank(1)-bioinformatics.ipynb#">Markdown</A></LI>
      <LI title="Contents will pass through nbconvert unmodified" id="to_raw"><A 
      href="http://localhost:8889/notebooks/Lab1_PythonIntro_blank(1)-bioinformatics.ipynb#">Raw 
      NBConvert</A></LI>
      <LI id="to_heading1"><A href="http://localhost:8889/notebooks/Lab1_PythonIntro_blank(1)-bioinformatics.ipynb#">Heading 
      1</A></LI>
      <LI id="to_heading2"><A href="http://localhost:8889/notebooks/Lab1_PythonIntro_blank(1)-bioinformatics.ipynb#">Heading 
      2</A></LI>
      <LI id="to_heading3"><A href="http://localhost:8889/notebooks/Lab1_PythonIntro_blank(1)-bioinformatics.ipynb#">Heading 
      3</A></LI>
      <LI id="to_heading4"><A href="http://localhost:8889/notebooks/Lab1_PythonIntro_blank(1)-bioinformatics.ipynb#">Heading 
      4</A></LI>
      <LI id="to_heading5"><A href="http://localhost:8889/notebooks/Lab1_PythonIntro_blank(1)-bioinformatics.ipynb#">Heading 
      5</A></LI>
      <LI id="to_heading6"><A href="http://localhost:8889/notebooks/Lab1_PythonIntro_blank(1)-bioinformatics.ipynb#">Heading 
      6</A></LI></UL></LI>
    <LI class="divider"></LI>
    <LI class="dropdown-submenu" id="current_outputs"><A href="http://localhost:8889/notebooks/Lab1_PythonIntro_blank(1)-bioinformatics.ipynb#">Current 
    Output</A>
    <UL class="dropdown-menu">
      <LI title="Hide/Show the output of the current cell" id="toggle_current_output"><A 
      href="http://localhost:8889/notebooks/Lab1_PythonIntro_blank(1)-bioinformatics.ipynb#">Toggle</A></LI>
      <LI title="Scroll the output of the current cell" id="toggle_current_output_scroll"><A 
      href="http://localhost:8889/notebooks/Lab1_PythonIntro_blank(1)-bioinformatics.ipynb#">Toggle 
      Scrolling</A></LI>
      <LI title="Clear the output of the current cell" 
      id="clear_current_output"><A href="http://localhost:8889/notebooks/Lab1_PythonIntro_blank(1)-bioinformatics.ipynb#">Clear</A></LI></UL></LI>
    <LI class="dropdown-submenu" id="all_outputs"><A href="http://localhost:8889/notebooks/Lab1_PythonIntro_blank(1)-bioinformatics.ipynb#">All 
    Output</A>
    <UL class="dropdown-menu">
      <LI title="Hide/Show the output of all cells" id="toggle_all_output"><A 
      href="http://localhost:8889/notebooks/Lab1_PythonIntro_blank(1)-bioinformatics.ipynb#">Toggle</A></LI>
      <LI title="Scroll the output of all cells" 
      id="toggle_all_output_scroll"><A href="http://localhost:8889/notebooks/Lab1_PythonIntro_blank(1)-bioinformatics.ipynb#">Toggle 
      Scrolling</A></LI>
      <LI title="Clear the output of all cells" id="clear_all_output"><A href="http://localhost:8889/notebooks/Lab1_PythonIntro_blank(1)-bioinformatics.ipynb#">Clear</A></LI></UL></LI></UL></LI>
  <LI class="dropdown"><A class="dropdown-toggle" href="http://localhost:8889/notebooks/Lab1_PythonIntro_blank(1)-bioinformatics.ipynb#" 
  data-toggle="dropdown">Kernel</A>
  <UL class="dropdown-menu" id="kernel_menu">
    <LI title="Send KeyboardInterrupt (CTRL-C) to the Kernel" id="int_kernel"><A 
    href="http://localhost:8889/notebooks/Lab1_PythonIntro_blank(1)-bioinformatics.ipynb#">Interrupt</A></LI>
    <LI title="Restart the Kernel" id="restart_kernel"><A href="http://localhost:8889/notebooks/Lab1_PythonIntro_blank(1)-bioinformatics.ipynb#">Restart</A></LI></UL></LI>
  <LI class="dropdown"><A class="dropdown-toggle" href="http://localhost:8889/notebooks/Lab1_PythonIntro_blank(1)-bioinformatics.ipynb#" 
  data-toggle="dropdown">Help</A>
  <UL class="dropdown-menu" id="help_menu">
    <LI title="A quick tour of the notebook user interface" 
    id="notebook_tour"><A href="http://localhost:8889/notebooks/Lab1_PythonIntro_blank(1)-bioinformatics.ipynb#">User 
    Interface Tour</A></LI>
    <LI title="Opens a tooltip with all keyboard shortcuts" id="keyboard_shortcuts"><A 
    href="http://localhost:8889/notebooks/Lab1_PythonIntro_blank(1)-bioinformatics.ipynb#">Keyboard 
    Shortcuts</A></LI>
    <LI class="divider"></LI>
    <LI><A title="Opens in a new window" href="http://ipython.org/documentation.html" 
    target="_blank"><I class="icon-external-link menu-icon pull-right"></I>      
                      IPython Help                         </A></LI>
    <LI><A title="Opens in a new window" href="http://nbviewer.ipython.org/github/ipython/ipython/tree/2.x/examples/Index.ipynb" 
    target="_blank"><I class="icon-external-link menu-icon pull-right"></I>      
                      Notebook Help                         </A></LI>
    <LI class="divider"></LI>
    <LI><A title="Opens in a new window" href="http://docs.python.org/" target="_blank"><I 
    class="icon-external-link menu-icon pull-right"></I>                        
    Python                         </A></LI>
    <LI><A title="Opens in a new window" href="http://help.github.com/articles/github-flavored-markdown" 
    target="_blank"><I class="icon-external-link menu-icon pull-right"></I>      
                      Markdown                         </A></LI>
    <LI><A title="Opens in a new window" href="http://docs.scipy.org/doc/numpy/reference/" 
    target="_blank"><I class="icon-external-link menu-icon pull-right"></I>      
                      NumPy                         </A></LI>
    <LI><A title="Opens in a new window" href="http://docs.scipy.org/doc/scipy/reference/" 
    target="_blank"><I class="icon-external-link menu-icon pull-right"></I>      
                      SciPy                         </A></LI>
    <LI><A title="Opens in a new window" href="http://matplotlib.org/contents.html" 
    target="_blank"><I class="icon-external-link menu-icon pull-right"></I>      
                      Matplotlib                         </A></LI>
    <LI><A title="Opens in a new window" href="http://docs.sympy.org/latest/index.html" 
    target="_blank"><I class="icon-external-link menu-icon pull-right"></I>      
                      SymPy                         </A></LI>
    <LI><A title="Opens in a new window" href="http://pandas.pydata.org/pandas-docs/stable/" 
    target="_blank"><I class="icon-external-link menu-icon pull-right"></I>      
                      pandas                         </A></LI></UL></LI></UL>
<DIV class="indicator_area pull-right" id="kernel_indicator"><I id="kernel_indicator_icon"></I> 
    </DIV>
<DIV class="indicator_area pull-right" id="modal_indicator"><I id="modal_indicator_icon"></I> 
    </DIV>
<DIV id="notification_area"></DIV></DIV></DIV></DIV></DIV>
<DIV class="navbar" id="maintoolbar">
<DIV class="toolbar-inner navbar-inner navbar-nobg">
<DIV class="container" id="maintoolbar-container"></DIV></DIV></DIV></DIV>
<DIV id="ipython-main-app">
<DIV id="notebook_panel">
<DIV id="notebook"></DIV>
<DIV id="pager_splitter"></DIV>
<DIV id="pager">
<DIV id="pager_button_area"></DIV>
<DIV class="container" id="pager-container"></DIV></DIV></DIV></DIV>
<DIV class="ipython_tooltip" id="tooltip" style="display: none;"></DIV></DIV>
<SCRIPT src="Lab1_PythonIntro_blank(1)-bioinformatics_files/jquery.min.js" type="text/javascript" charset="utf-8"></SCRIPT>
 
<SCRIPT src="Lab1_PythonIntro_blank(1)-bioinformatics_files/jquery-ui.min.js" type="text/javascript" charset="utf-8"></SCRIPT>
 
<SCRIPT src="Lab1_PythonIntro_blank(1)-bioinformatics_files/bootstrap.min.js" type="text/javascript" charset="utf-8"></SCRIPT>
 
<SCRIPT src="Lab1_PythonIntro_blank(1)-bioinformatics_files/namespace.js" type="text/javascript" charset="utf-8"></SCRIPT>
 
<SCRIPT src="Lab1_PythonIntro_blank(1)-bioinformatics_files/page.js" type="text/javascript" charset="utf-8"></SCRIPT>
 
<SCRIPT src="Lab1_PythonIntro_blank(1)-bioinformatics_files/loginwidget.js" type="text/javascript" charset="utf-8"></SCRIPT>
 
<SCRIPT src="Lab1_PythonIntro_blank(1)-bioinformatics_files/html-css-sanitizer-minified.js" charset="utf-8"></SCRIPT>
 
<SCRIPT src="Lab1_PythonIntro_blank(1)-bioinformatics_files/codemirror.js" charset="utf-8"></SCRIPT>
 
<SCRIPT type="text/javascript">
    CodeMirror.modeURL = "/static/components/codemirror/mode/%N/%N.js";
</SCRIPT>
 
<SCRIPT src="Lab1_PythonIntro_blank(1)-bioinformatics_files/loadmode.js" charset="utf-8"></SCRIPT>
 
<SCRIPT src="Lab1_PythonIntro_blank(1)-bioinformatics_files/multiplex.js" charset="utf-8"></SCRIPT>
 
<SCRIPT src="Lab1_PythonIntro_blank(1)-bioinformatics_files/overlay.js" charset="utf-8"></SCRIPT>
 
<SCRIPT src="Lab1_PythonIntro_blank(1)-bioinformatics_files/matchbrackets.js" charset="utf-8"></SCRIPT>
 
<SCRIPT src="Lab1_PythonIntro_blank(1)-bioinformatics_files/closebrackets.js" charset="utf-8"></SCRIPT>
 
<SCRIPT src="Lab1_PythonIntro_blank(1)-bioinformatics_files/comment.js" charset="utf-8"></SCRIPT>
 
<SCRIPT src="Lab1_PythonIntro_blank(1)-bioinformatics_files/htmlmixed.js" charset="utf-8"></SCRIPT>
 
<SCRIPT src="Lab1_PythonIntro_blank(1)-bioinformatics_files/xml.js" charset="utf-8"></SCRIPT>
 
<SCRIPT src="Lab1_PythonIntro_blank(1)-bioinformatics_files/javascript.js" charset="utf-8"></SCRIPT>
 
<SCRIPT src="Lab1_PythonIntro_blank(1)-bioinformatics_files/css.js" charset="utf-8"></SCRIPT>
 
<SCRIPT src="Lab1_PythonIntro_blank(1)-bioinformatics_files/rst.js" charset="utf-8"></SCRIPT>
 
<SCRIPT src="Lab1_PythonIntro_blank(1)-bioinformatics_files/markdown.js" charset="utf-8"></SCRIPT>
 
<SCRIPT src="Lab1_PythonIntro_blank(1)-bioinformatics_files/gfm.js" charset="utf-8"></SCRIPT>
 
<SCRIPT src="Lab1_PythonIntro_blank(1)-bioinformatics_files/python.js" charset="utf-8"></SCRIPT>
 
<SCRIPT src="Lab1_PythonIntro_blank(1)-bioinformatics_files/codemirror-ipython.js" charset="utf-8"></SCRIPT>
 
<SCRIPT src="Lab1_PythonIntro_blank(1)-bioinformatics_files/highlight.pack.js" charset="utf-8"></SCRIPT>
 
<SCRIPT src="Lab1_PythonIntro_blank(1)-bioinformatics_files/date.format.js" charset="utf-8"></SCRIPT>
 
<SCRIPT src="Lab1_PythonIntro_blank(1)-bioinformatics_files/events.js" type="text/javascript" charset="utf-8"></SCRIPT>
 
<SCRIPT src="Lab1_PythonIntro_blank(1)-bioinformatics_files/utils.js" type="text/javascript" charset="utf-8"></SCRIPT>
 
<SCRIPT src="Lab1_PythonIntro_blank(1)-bioinformatics_files/keyboard.js" type="text/javascript" charset="utf-8"></SCRIPT>
 
<SCRIPT src="Lab1_PythonIntro_blank(1)-bioinformatics_files/security.js" type="text/javascript" charset="utf-8"></SCRIPT>
 
<SCRIPT src="Lab1_PythonIntro_blank(1)-bioinformatics_files/dialog.js" type="text/javascript" charset="utf-8"></SCRIPT>
 
<SCRIPT src="Lab1_PythonIntro_blank(1)-bioinformatics_files/kernel.js" type="text/javascript" charset="utf-8"></SCRIPT>
 
<SCRIPT src="Lab1_PythonIntro_blank(1)-bioinformatics_files/comm.js" type="text/javascript" charset="utf-8"></SCRIPT>
 
<SCRIPT src="Lab1_PythonIntro_blank(1)-bioinformatics_files/session.js" type="text/javascript" charset="utf-8"></SCRIPT>
 
<SCRIPT src="Lab1_PythonIntro_blank(1)-bioinformatics_files/layoutmanager.js" type="text/javascript" charset="utf-8"></SCRIPT>
 
<SCRIPT src="Lab1_PythonIntro_blank(1)-bioinformatics_files/mathjaxutils.js" type="text/javascript" charset="utf-8"></SCRIPT>
 
<SCRIPT src="Lab1_PythonIntro_blank(1)-bioinformatics_files/outputarea.js" type="text/javascript" charset="utf-8"></SCRIPT>
 
<SCRIPT src="Lab1_PythonIntro_blank(1)-bioinformatics_files/cell.js" type="text/javascript" charset="utf-8"></SCRIPT>
 
<SCRIPT src="Lab1_PythonIntro_blank(1)-bioinformatics_files/celltoolbar.js" type="text/javascript" charset="utf-8"></SCRIPT>
 
<SCRIPT src="Lab1_PythonIntro_blank(1)-bioinformatics_files/codecell.js" type="text/javascript" charset="utf-8"></SCRIPT>
 
<SCRIPT src="Lab1_PythonIntro_blank(1)-bioinformatics_files/completer.js" type="text/javascript" charset="utf-8"></SCRIPT>
 
<SCRIPT src="Lab1_PythonIntro_blank(1)-bioinformatics_files/textcell.js" type="text/javascript" charset="utf-8"></SCRIPT>
 
<SCRIPT src="Lab1_PythonIntro_blank(1)-bioinformatics_files/savewidget.js" type="text/javascript" charset="utf-8"></SCRIPT>
 
<SCRIPT src="Lab1_PythonIntro_blank(1)-bioinformatics_files/quickhelp.js" type="text/javascript" charset="utf-8"></SCRIPT>
 
<SCRIPT src="Lab1_PythonIntro_blank(1)-bioinformatics_files/pager.js" type="text/javascript" charset="utf-8"></SCRIPT>
 
<SCRIPT src="Lab1_PythonIntro_blank(1)-bioinformatics_files/menubar.js" type="text/javascript" charset="utf-8"></SCRIPT>
 
<SCRIPT src="Lab1_PythonIntro_blank(1)-bioinformatics_files/toolbar.js" type="text/javascript" charset="utf-8"></SCRIPT>
 
<SCRIPT src="Lab1_PythonIntro_blank(1)-bioinformatics_files/maintoolbar.js" type="text/javascript" charset="utf-8"></SCRIPT>
 
<SCRIPT src="Lab1_PythonIntro_blank(1)-bioinformatics_files/notebook.js" type="text/javascript" charset="utf-8"></SCRIPT>
 
<SCRIPT src="Lab1_PythonIntro_blank(1)-bioinformatics_files/keyboardmanager.js" type="text/javascript" charset="utf-8"></SCRIPT>
 
<SCRIPT src="Lab1_PythonIntro_blank(1)-bioinformatics_files/notificationwidget.js" type="text/javascript" charset="utf-8"></SCRIPT>
 
<SCRIPT src="Lab1_PythonIntro_blank(1)-bioinformatics_files/notificationarea.js" type="text/javascript" charset="utf-8"></SCRIPT>
 
<SCRIPT src="Lab1_PythonIntro_blank(1)-bioinformatics_files/tooltip.js" type="text/javascript" charset="utf-8"></SCRIPT>
 
<SCRIPT src="Lab1_PythonIntro_blank(1)-bioinformatics_files/tour.js" type="text/javascript" charset="utf-8"></SCRIPT>
 
<SCRIPT src="Lab1_PythonIntro_blank(1)-bioinformatics_files/config.js" type="text/javascript" charset="utf-8"></SCRIPT>
 
<SCRIPT src="Lab1_PythonIntro_blank(1)-bioinformatics_files/main.js" type="text/javascript" charset="utf-8"></SCRIPT>
 
<SCRIPT src="Lab1_PythonIntro_blank(1)-bioinformatics_files/contexthint.js" charset="utf-8"></SCRIPT>
 
<SCRIPT src="Lab1_PythonIntro_blank(1)-bioinformatics_files/default.js" type="text/javascript" charset="utf-8"></SCRIPT>
 
<SCRIPT src="Lab1_PythonIntro_blank(1)-bioinformatics_files/rawcell.js" type="text/javascript" charset="utf-8"></SCRIPT>
 
<SCRIPT src="Lab1_PythonIntro_blank(1)-bioinformatics_files/slideshow.js" type="text/javascript" charset="utf-8"></SCRIPT>
 
<SCRIPT src="Lab1_PythonIntro_blank(1)-bioinformatics_files/custom.js" type="text/javascript" charset="utf-8"></SCRIPT>
 </BODY></HTML>
