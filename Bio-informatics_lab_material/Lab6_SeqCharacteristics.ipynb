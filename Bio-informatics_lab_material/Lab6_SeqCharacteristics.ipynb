{
 "cells": [
  {
   "cell_type": "markdown",
   "metadata": {},
   "source": [
    "## Lab 6: Sequence Characteristics"
   ]
  },
  {
   "cell_type": "markdown",
   "metadata": {},
   "source": [
    "##### Q0: What's your name?"
   ]
  },
  {
   "cell_type": "raw",
   "metadata": {},
   "source": [
    "Andrew Judell-Halfpenny"
   ]
  },
  {
   "cell_type": "markdown",
   "metadata": {},
   "source": [
    "The purpose of this exercise is to retrieve your gene's mRNA and protein sequences from Genbank and perform some (more) preliminary analysis."
   ]
  },
  {
   "cell_type": "markdown",
   "metadata": {},
   "source": [
    "Check that the fasta files containing the 5'UTR, CDS, and 3'UTR sequences of your gene (the files generated in lab exercise 4) are located in your working directory."
   ]
  },
  {
   "cell_type": "markdown",
   "metadata": {},
   "source": [
    "### 1. Identifying the GC content of regions of your mRNA."
   ]
  },
  {
   "cell_type": "code",
   "execution_count": 1,
   "metadata": {
    "collapsed": false
   },
   "outputs": [],
   "source": [
    "\n",
    "from Bio import Entrez # we'll import a set of code written for querying NCBI databases using Entrez\n",
    "from Bio import SeqIO # and a set of code specific for dealing with sequences"
   ]
  },
  {
   "cell_type": "code",
   "execution_count": 2,
   "metadata": {
    "collapsed": false
   },
   "outputs": [],
   "source": [
    "GI_id = \"NM_000088.3\" # enter the accession # or GeneID for the mRNA sequence of your gene ***as a string***"
   ]
  },
  {
   "cell_type": "markdown",
   "metadata": {},
   "source": [
    "Documentation for efecth http://www.ncbi.nlm.nih.gov/books/NBK25499/#chapter4.EFetch  \n",
    "\n",
    "Code adapted from Biopython Tutorial, 5.3.1  Parsing GenBank records from the net"
   ]
  },
  {
   "cell_type": "code",
   "execution_count": 3,
   "metadata": {
    "collapsed": false
   },
   "outputs": [],
   "source": [
    "Entrez.email = \"Andrew.judellHalf001@umb.edu\" # let NCBI know who you are\n",
    "handle = Entrez.efetch(db=\"nucleotide\", rettype=\"gb\", retmode=\"text\", id=GI_id) # db = database to query, rettype = retrieval type, retmode = retrieval mode \n",
    "nt_seq_record = SeqIO.read(handle, \"gb\") #read the contents \"fetched\" from NCBI\n",
    "handle.close()"
   ]
  },
  {
   "cell_type": "code",
   "execution_count": 4,
   "metadata": {
    "collapsed": false
   },
   "outputs": [
    {
     "name": "stdout",
     "output_type": "stream",
     "text": [
      "TCGTCGGAGCAGACGGGAGTTTCTCCTCGGGGTCGGAGCAGGAGGCACGCGGAGTGTGAGGCCACGCATGAGCGGACGCTAACCCCCTCCCCAGCCACAAAGAGTCTACATGTCTAGGGTCTAGACATGTTCAGCTTTGTGGACCTCCGGCTCCTGCTCCTCTTAGCGGCCACCGCCCTCCTGACGCACGGCCAAGAGGAAGGCCAAGTCGAGGGCCAAGACGAAGACATCCCACCAATCACCTGCGTACAGAACGGCCTCAGGTACCATGACCGAGACGTGTGGAAACCCGAGCCCTGCCGGATCTGCGTCTGCGACAACGGCAAGGTGTTGTGCGATGACGTGATCTGTGACGAGACCAAGAACTGCCCCGGCGCCGAAGTCCCCGAGGGCGAGTGCTGTCCCGTCTGCCCCGACGGCTCAGAGTCACCCACCGACCAAGAAACCACCGGCGTCGAGGGACCCAAGGGAGACACTGGCCCCCGAGGCCCAAGGGGACCCGCAGGCCCCCCTGGCCGAGATGGCATCCCTGGACAGCCTGGACTTCCCGGACCCCCCGGACCCCCCGGACCTCCCGGACCCCCTGGCCTCGGAGGAAACTTTGCTCCCCAGCTGTCTTATGGCTATGATGAGAAATCAACCGGAGGAATTTCCGTGCCTGGCCCCATGGGTCCCTCTGGTCCTCGTGGTCTCCCTGGCCCCCCTGGTGCACCTGGTCCCCAAGGCTTCCAAGGTCCCCCTGGTGAGCCTGGCGAGCCTGGAGCTTCAGGTCCCATGGGTCCCCGAGGTCCCCCAGGTCCCCCTGGAAAGAATGGAGATGATGGGGAAGCTGGAAAACCTGGTCGTCCTGGTGAGCGTGGGCCTCCTGGGCCTCAGGGTGCTCGAGGATTGCCCGGAACAGCTGGCCTCCCTGGAATGAAGGGACACAGAGGTTTCAGTGGTTTGGATGGTGCCAAGGGAGATGCTGGTCCTGCTGGTCCTAAGGGTGAGCCTGGCAGCCCTGGTGAAAATGGAGCTCCTGGTCAGATGGGCCCCCGTGGCCTGCCTGGTGAGAGAGGTCGCCCTGGAGCCCCTGGCCCTGCTGGTGCTCGTGGAAATGATGGTGCTACTGGTGCTGCCGGGCCCCCTGGTCCCACCGGCCCCGCTGGTCCTCCTGGCTTCCCTGGTGCTGTTGGTGCTAAGGGTGAAGCTGGTCCCCAAGGGCCCCGAGGCTCTGAAGGTCCCCAGGGTGTGCGTGGTGAGCCTGGCCCCCCTGGCCCTGCTGGTGCTGCTGGCCCTGCTGGAAACCCTGGTGCTGATGGACAGCCTGGTGCTAAAGGTGCCAATGGTGCTCCTGGTATTGCTGGTGCTCCTGGCTTCCCTGGTGCCCGAGGCCCCTCTGGACCCCAGGGCCCCGGCGGCCCTCCTGGTCCCAAGGGTAACAGCGGTGAACCTGGTGCTCCTGGCAGCAAAGGAGACACTGGTGCTAAGGGAGAGCCTGGCCCTGTTGGTGTTCAAGGACCCCCTGGCCCTGCTGGAGAGGAAGGAAAGCGAGGAGCTCGAGGTGAACCCGGACCCACTGGCCTGCCCGGACCCCCTGGCGAGCGTGGTGGACCTGGTAGCCGTGGTTTCCCTGGCGCAGATGGTGTTGCTGGTCCCAAGGGTCCCGCTGGTGAACGTGGTTCTCCTGGCCCTGCTGGCCCCAAAGGATCTCCTGGTGAAGCTGGTCGTCCCGGTGAAGCTGGTCTGCCTGGTGCCAAGGGTCTGACTGGAAGCCCTGGCAGCCCTGGTCCTGATGGCAAAACTGGCCCCCCTGGTCCCGCCGGTCAAGATGGTCGCCCCGGACCCCCAGGCCCACCTGGTGCCCGTGGTCAGGCTGGTGTGATGGGATTCCCTGGACCTAAAGGTGCTGCTGGAGAGCCCGGCAAGGCTGGAGAGCGAGGTGTTCCCGGACCCCCTGGCGCTGTCGGTCCTGCTGGCAAAGATGGAGAGGCTGGAGCTCAGGGACCCCCTGGCCCTGCTGGTCCCGCTGGCGAGAGAGGTGAACAAGGCCCTGCTGGCTCCCCCGGATTCCAGGGTCTCCCTGGTCCTGCTGGTCCTCCAGGTGAAGCAGGCAAACCTGGTGAACAGGGTGTTCCTGGAGACCTTGGCGCCCCTGGCCCCTCTGGAGCAAGAGGCGAGAGAGGTTTCCCTGGCGAGCGTGGTGTGCAAGGTCCCCCTGGTCCTGCTGGTCCCCGAGGGGCCAACGGTGCTCCCGGCAACGATGGTGCTAAGGGTGATGCTGGTGCCCCTGGAGCTCCCGGTAGCCAGGGCGCCCCTGGCCTTCAGGGAATGCCTGGTGAACGTGGTGCAGCTGGTCTTCCAGGGCCTAAGGGTGACAGAGGTGATGCTGGTCCCAAAGGTGCTGATGGCTCTCCTGGCAAAGATGGCGTCCGTGGTCTGACTGGCCCCATTGGTCCTCCTGGCCCTGCTGGTGCCCCTGGTGACAAGGGTGAAAGTGGTCCCAGCGGCCCTGCTGGTCCCACTGGAGCTCGTGGTGCCCCCGGAGACCGTGGTGAGCCTGGTCCCCCCGGCCCTGCTGGCTTTGCTGGCCCCCCTGGTGCTGACGGCCAACCTGGTGCTAAAGGCGAACCTGGTGATGCTGGTGCTAAAGGCGATGCTGGTCCCCCTGGCCCTGCCGGACCCGCTGGACCCCCTGGCCCCATTGGTAATGTTGGTGCTCCTGGAGCCAAAGGTGCTCGCGGCAGCGCTGGTCCCCCTGGTGCTACTGGTTTCCCTGGTGCTGCTGGCCGAGTCGGTCCTCCTGGCCCCTCTGGAAATGCTGGACCCCCTGGCCCTCCTGGTCCTGCTGGCAAAGAAGGCGGCAAAGGTCCCCGTGGTGAGACTGGCCCTGCTGGACGTCCTGGTGAAGTTGGTCCCCCTGGTCCCCCTGGCCCTGCTGGCGAGAAAGGATCCCCTGGTGCTGATGGTCCTGCTGGTGCTCCTGGTACTCCCGGGCCTCAAGGTATTGCTGGACAGCGTGGTGTGGTCGGCCTGCCTGGTCAGAGAGGAGAGAGAGGCTTCCCTGGTCTTCCTGGCCCCTCTGGTGAACCTGGCAAACAAGGTCCCTCTGGAGCAAGTGGTGAACGTGGTCCCCCTGGTCCCATGGGCCCCCCTGGATTGGCTGGACCCCCTGGTGAATCTGGACGTGAGGGGGCTCCTGGTGCCGAAGGTTCCCCTGGACGAGACGGTTCTCCTGGCGCCAAGGGTGACCGTGGTGAGACCGGCCCCGCTGGACCCCCTGGTGCTCCTGGTGCTCCTGGTGCCCCTGGCCCCGTTGGCCCTGCTGGCAAGAGTGGTGATCGTGGTGAGACTGGTCCTGCTGGTCCCGCCGGTCCTGTCGGCCCTGTTGGCGCCCGTGGCCCCGCCGGACCCCAAGGCCCCCGTGGTGACAAGGGTGAGACAGGCGAACAGGGCGACAGAGGCATAAAGGGTCACCGTGGCTTCTCTGGCCTCCAGGGTCCCCCTGGCCCTCCTGGCTCTCCTGGTGAACAAGGTCCCTCTGGAGCCTCTGGTCCTGCTGGTCCCCGAGGTCCCCCTGGCTCTGCTGGTGCTCCTGGCAAAGATGGACTCAACGGTCTCCCTGGCCCCATTGGGCCCCCTGGTCCTCGCGGTCGCACTGGTGATGCTGGTCCTGTTGGTCCCCCCGGCCCTCCTGGACCTCCTGGTCCCCCTGGTCCTCCCAGCGCTGGTTTCGACTTCAGCTTCCTGCCCCAGCCACCTCAAGAGAAGGCTCACGATGGTGGCCGCTACTACCGGGCTGATGATGCCAATGTGGTTCGTGACCGTGACCTCGAGGTGGACACCACCCTCAAGAGCCTGAGCCAGCAGATCGAGAACATCCGGAGCCCAGAGGGCAGCCGCAAGAACCCCGCCCGCACCTGCCGTGACCTCAAGATGTGCCACTCTGACTGGAAGAGTGGAGAGTACTGGATTGACCCCAACCAAGGCTGCAACCTGGATGCCATCAAAGTCTTCTGCAACATGGAGACTGGTGAGACCTGCGTGTACCCCACTCAGCCCAGTGTGGCCCAGAAGAACTGGTACATCAGCAAGAACCCCAAGGACAAGAGGCATGTCTGGTTCGGCGAGAGCATGACCGATGGATTCCAGTTCGAGTATGGCGGCCAGGGCTCCGACCCTGCCGATGTGGCCATCCAGCTGACCTTCCTGCGCCTGATGTCCACCGAGGCCTCCCAGAACATCACCTACCACTGCAAGAACAGCGTGGCCTACATGGACCAGCAGACTGGCAACCTCAAGAAGGCCCTGCTCCTCCAGGGCTCCAACGAGATCGAGATCCGCGCCGAGGGCAACAGCCGCTTCACCTACAGCGTCACTGTCGATGGCTGCACGAGTCACACCGGAGCCTGGGGCAAGACAGTGATTGAATACAAAACCACCAAGACCTCCCGCCTGCCCATCATCGATGTGGCCCCCTTGGACGTTGGTGCCCCAGACCAGGAATTCGGCTTCGACGTTGGCCCTGTCTGCTTCCTGTAAACTCCCTCCATCCCAACCTGGCTCCCTCCCACCCAACCAACTTTCCCCCCAACCCGGAAACAGACAAGCAACCCAAACTGAACCCCCTCAAAAGCCAAAAAATGGGAGACAATTTCACATGGACTTTGGAAAATATTTTTTTCCTTTGCATTCATCTCTCAAACTTAGTTTTTATCTTTGACCAACCGAACATGACCAAAAACCAAAAGTGCATTCAACCTTACCAAAAAAAAAAAAAAAAAAAGAATAAATAAATAACTTTTTAAAAAAGGAAGCTTGGTCCACTTGCTTGAAGACCCATGCGGGGGTAAGTCCCTTTCTGCCCGTTGGGCTTATGAAACCCCAATGCTGCCCTTTCTGCTCCTTTCTCCACACCCCCCTTGGGGCCTCCCCTCCACTCCTTCCCAAATCTGTCTCCCCAGAAGACACAGGAAACAATGTATTGTCTGCCCAGCAATCAAAGGCAATGCTCAAACACCCAAGTGGCCCCCACCCTCAGCCCGCTCCTGCCCGCCCAGCACCCCCAGGCCCTGGGGGACCTGGGGTTCTCAGACTGCCAAAGAAGCCTTGCCATCTGGCGCTCCCATGGCTCTTGCAACATCTCCCCTTCGTTTTTGAGGGGGTCATGCCGGGGGAGCCACCAGCCCCTCACTGGGTTCGGAGGAGAGTCAGGAAGGGCCACGACAAAGCAGAAACATCGGATTTGGGGAACGCGTGTCAATCCCTTGTGCCGCAGGGCTGGGCGGGAGAGACTGTTCTGTTCCTTGTGTAACTGTGTTGCTGAAAGACTACCTCGTTCTTGTCTTGATGTGTCACCGGGGCAACTGCCTGGGGGCGGGGATGGGGGCAGGGTGGAAGCGGCTCCCCATTTTATACCAAAGGTGCTACATCTATGTGATGGGTGGGGTGGGGAGGGAATCACTGGTGCTATAGAAATTGAGATGCCCCCCCAGGCCAGCAAATGTTCCTTTTTGTTCAAAGTCTATTTTTATTCCTTGATATTTTTCTTTTTTTTTTTTTTTTTTTGTGGATGGGGACTTGTGAATTTTTCTAAAGGTGCTATTTAACATGGGAGGAGAGCGTGTGCGGCTCCAGCCCAGCCCGCTGCTCACTTTCCACCCTCTCTCCACCTGCCTCTGGCTTCTCAGGCCTCTGCTCTCCGACCTCTCTCCTCTGAAACCCTCCTCCACAGCTGCAGCCCATCCTCCCGGCTCCCTCCTAGTCTGTCCTGCGTCCTCTGTCCCCGGGTTTCAGAGACAACTTCCCAAAGCACAAAGCAGTTTTTCCCCCTAGGGGTGGGAGGAAGCAAAAGACTCTGTACCTATTTTGTATGTGTATAATAATTTGAGATGTTTTTAATTATTTTGATTGCTGGAATAAAGCATGTGGAAATGACCCAAACATAA\n",
      "5927\n"
     ]
    }
   ],
   "source": [
    "ntid = nt_seq_record.id # assign the accession number of the sequence (stored in the id attribute of nt_seq_record) to the variable ntid\n",
    "#print the accession number\n",
    "\n",
    "ntseq = nt_seq_record.seq # assign the sequence (stored in the seq attribute of nt_seq_record) to the variable ntseq \n",
    "print ntseq\n",
    "print len(ntseq)\n",
    "#print the sequence\n",
    "\n",
    "#print the number of nucleotides in the sequence "
   ]
  },
  {
   "cell_type": "markdown",
   "metadata": {},
   "source": [
    "Next we'll count the number of times each nucletide occurs in the sequence. In this lab exercise we will be counting the number of nucleotides over the entire mRNA sequence as well as within the 5'UTR, the CDS, and the 3'UTR. Instead of writing four for loops (one for each sequence/sub-sequence) it is much more efficient to write one function which you can call again and again. \n",
    "\n",
    "Funtions consist of a function definition, \"def\". The entire body of the definintion is indented. \n",
    "\n",
    "See the example function below."
   ]
  },
  {
   "cell_type": "code",
   "execution_count": 5,
   "metadata": {
    "collapsed": false
   },
   "outputs": [
    {
     "name": "stdout",
     "output_type": "stream",
     "text": [
      "input_string: Hello\n",
      "result: Hello World\n"
     ]
    }
   ],
   "source": [
    "def greetings(input_string): # this the defintion of a function called greetings, it takes as an argument a string called input_string\n",
    "    output_string = input_string + \" World\" # the varibable output_string is the sum of input_string and the string \" World\"\n",
    "    return output_string # returns output_string\n",
    "\n",
    "input_string = \"Hello\" # assign input_string the value \"Hello\"\n",
    "result = greetings(input_string) # the variable result is assigned to the result of sending the argument input_string into the function greetings \n",
    "\n",
    "\n",
    "print \"input_string:\", input_string\n",
    "print \"result:\", result"
   ]
  },
  {
   "cell_type": "markdown",
   "metadata": {},
   "source": [
    "Take the following code (written in a previous lab section) and turn it into a function called GC_content which takes a nucleotide sequence seq and returns a list called containing the counts of A's, T's, C's, and G's. "
   ]
  },
  {
   "cell_type": "code",
   "execution_count": 6,
   "metadata": {
    "collapsed": false
   },
   "outputs": [
    {
     "name": "stdout",
     "output_type": "stream",
     "text": [
      "countA 1064\n",
      "countC 1877\n",
      "countG 1769\n",
      "countT 1217\n",
      "countN 0\n",
      "[1064, 1217, 1877, 1769]\n"
     ]
    }
   ],
   "source": [
    "countA=0 # create variables to hold the count of each nucleotide\n",
    "countC=0\n",
    "countG=0\n",
    "countT=0\n",
    "countN=0 \n",
    "counts = [countA, countT, countC, countG]\n",
    "\n",
    "\n",
    "def ATGC_content(ntseq):\n",
    "# this is the definition of the function GC_content, it input consisting of a nucleotide sequence called sequence\n",
    "   # create a variable to hold the count of any non-standard nucleotides\n",
    "    countA=0 # create variables to hold the count of each nucleotide\n",
    "    countC=0\n",
    "    countG=0\n",
    "    countT=0\n",
    "    countN=0 \n",
    "    counts = [countA, countT, countC, countG]\n",
    "\n",
    "    counts = [countA, countT, countC, countG] \n",
    "    for nt in ntseq:#Loop over each nucleotide in the sequence\n",
    "        if nt == \"C\": # ask if the nt is cytosine \n",
    "            countC +=1 # increase countC by one\n",
    "        elif nt == \"A\": # ask if the nt is adenosine\n",
    "            countA +=1 # increase countA by one\n",
    "        elif nt == \"T\": # ask if the nt is thymine\n",
    "            countT +=1 # increase countT by one\n",
    "        elif nt == \"G\": # ask if the nt is guanine\n",
    "            countG +=1 # increase countG by one\n",
    "        else: # if above not True then nt is not a standard nucleotide\n",
    "            countN +=1 # increase countN by one\n",
    "            print \"Non-standard nt\", nt # print a warning message\n",
    "    counts = [countA, countT, countC, countG]\n",
    "    print \"countA\", countA # print the values of the count variables\n",
    "    print \"countC\", countC\n",
    "    print \"countG\", countG\n",
    "    print \"countT\", countT\n",
    "    print \"countN\", countN\n",
    "     # generate a list containing the number of A, T, C, and G in the sequence.\n",
    "    print counts # return the list counts\n",
    "    return counts\n",
    "    \n",
    "counts = ATGC_content(ntseq)\n",
    "[countA, countT, countC, countG] = counts\n",
    "# assign the value of the variable ntseq to the variable sequence\n",
    "# the variable counts is assigned to the result of sending the argument sequence into the function GC_content"
   ]
  },
  {
   "cell_type": "markdown",
   "metadata": {},
   "source": [
    "#### Q1: Explain the idea behind \"reusable code\". Why is this so important? Name at least two means by which you can make your code more reusable."
   ]
  },
  {
   "cell_type": "raw",
   "metadata": {},
   "source": [
    "Reusable code saves time by alleviating the need to rewrite the same code multiple times.  Code can be made more reusable by using understandable syntax and simple code."
   ]
  },
  {
   "cell_type": "markdown",
   "metadata": {},
   "source": [
    "Next, calculate the number of cytosine and guanine nucleotides as a percentage of the total number of nt's in the sequence"
   ]
  },
  {
   "cell_type": "code",
   "execution_count": 7,
   "metadata": {
    "collapsed": false
   },
   "outputs": [
    {
     "name": "stdout",
     "output_type": "stream",
     "text": [
      "[1064, 1217, 1877, 1769]\n",
      "1064\n",
      "0.615151003881\n"
     ]
    }
   ],
   "source": [
    "print counts\n",
    "print countA\n",
    "countGC = countG +countC\n",
    "countall= float(countA + countC + countG + countT + countN)\n",
    "GCperc = countGC / float(countall)\n",
    "print GCperc\n",
    " \n",
    "# create a variable countGC to hold the count of G's and C's in the sequence\n",
    "# define a variable, percGC, which is the countGC/float(total number of nt)*100\n",
    "# print the value of percGC"
   ]
  },
  {
   "cell_type": "markdown",
   "metadata": {},
   "source": [
    "#### Q2: What does assert do and why is it useful?"
   ]
  },
  {
   "cell_type": "raw",
   "metadata": {},
   "source": [
    "assert is a failsafe.  It can be used at the begining of a code to prevent an infinite loop or for debugging."
   ]
  },
  {
   "cell_type": "markdown",
   "metadata": {},
   "source": [
    "Generate a list containing the number of A, T, C, G as a proportion of the total number of nucleotides."
   ]
  },
  {
   "cell_type": "code",
   "execution_count": 8,
   "metadata": {
    "collapsed": false
   },
   "outputs": [
    {
     "name": "stdout",
     "output_type": "stream",
     "text": [
      "percent G 29.8464653282\n",
      "percent C 31.6686350599\n",
      "percent A 17.951746246\n",
      "percent T 20.533153366\n"
     ]
    }
   ],
   "source": [
    "for x in counts:\n",
    "    Gper = countG/float(countall)*100\n",
    "    Cper = countC/float(countall)*100\n",
    "    Tper = countT/float(countall)*100\n",
    "    Aper = countA/float(countall)*100\n",
    "propor = {float(Cper), float(Gper), float(Tper), float(Aper)}\n",
    "assert float(Cper + Gper + Tper + Aper)==100\n",
    "print \"percent G\", Gper\n",
    "print \"percent C\", Cper\n",
    "print \"percent A\", Aper\n",
    "print \"percent T\", Tper\n",
    "\n",
    "# generate a list called propor to hold the proportions\n",
    "# for each element x in counts\n",
    "    # define a variable, p, which is the count/float(total number of nt)\n",
    "    # add a the calculated proportion to the list propor\n",
    "\n",
    "    \n",
    "# print the list propor"
   ]
  },
  {
   "cell_type": "markdown",
   "metadata": {},
   "source": [
    "Now we can create a graph - with the four nucleotides on the x-axis and the percentages on the y-axis."
   ]
  },
  {
   "cell_type": "code",
   "execution_count": 9,
   "metadata": {
    "collapsed": false
   },
   "outputs": [
    {
     "name": "stdout",
     "output_type": "stream",
     "text": [
      "Populating the interactive namespace from numpy and matplotlib\n"
     ]
    },
    {
     "data": {
      "image/png": "[encoded data removed]",
      "text/plain": [
       "<matplotlib.figure.Figure at 0x7f0b9c4e5a90>"
      ]
     },
     "metadata": {},
     "output_type": "display_data"
    }
   ],
   "source": [
    "import matplotlib.pyplot as plt # import a set of code written for generating graphics and tell the computer how to display graphs\n",
    "%pylab inline \n",
    "\n",
    "nucleotides = arange(4) # the x-axis has four positions, one for each of the four nucleotides\n",
    "bar(nucleotides, propor) # chart will be a bar chart, containing nucleotides on the x-axis and count as percent of length of the sequence on the y-axis\n",
    "xticks(nucleotides + 0.5,  ('A', 'T', 'C', 'G') ) # label the x-axis with the nucleotides in the same order as in the counts list\n",
    "title(\"Nucleotide composition of \" + ntid) #add a title to the graph\n",
    "ylabel(\"Proportion\") #label the y-axis\n",
    "show()"
   ]
  },
  {
   "cell_type": "markdown",
   "metadata": {},
   "source": [
    "Next test if the nucleotide composition of your gene differs significantly from the expected equal representation of nucleotides using the chi-square test. Remember that the chi-square test statistic is the sum over all values (here each of the four nucleotides) of the difference between the number of times that nucleotide occurs within your sequence (\"the observed\") and the number of times you would expect to see that nucleotide if the nucleotides occur with equal frequencies (\"the expected\"), squared, divided by the expected. The smaller the difference between the observed and the expected, the smaller the test statistic will be and the less support you have for rejecting the null hypothesis that the observed and expected data come from the same distribution, i.e. are equally distributed. Assuming that the null hypothesis is true, the p-value represents the probability of finding a test statistic equal to or greater than your test statistic by chance. A p-value of 0.05 or less is the generally accepted standard for significance in scientific publications. Where the p-value is less than 0.05 we reject the null hypothesis; if the p-value is greater than 0.05 we fail to reject the null hypothesis. An excellent video reviewing the concept can be found here - http://youtu.be/HwD7ekD5l0g (ignore the part using the statistical software \"R\")."
   ]
  },
  {
   "cell_type": "code",
   "execution_count": 10,
   "metadata": {
    "collapsed": false
   },
   "outputs": [
    {
     "name": "stdout",
     "output_type": "stream",
     "text": [
      "Expected number of nucleotides:  [1482, 1482, 1482, 1482]\n",
      "Observed number of nucleotides:  [1064, 1217, 1877, 1769]\n",
      "Chi-squared test statistic:  326.142375169\n",
      "p-value:  2.18299273447e-70\n"
     ]
    }
   ],
   "source": [
    "from scipy import stats # import a set of code written for computing statistical tests\n",
    "\n",
    "def chi_calcs(sequence, counts): # define a function named chi_calcs for performing a chi-squared test on the nucleotide frequency within a sequence\n",
    "    expfreq = [int(round(0.25*len(sequence),0)), int(round(0.25*len(sequence),0)), int(round(0.25*len(sequence),0)), int(round(0.25*len(sequence),0))] # the expected number of each nucleotide in a sequence the length of your sequence at equal frequency \n",
    "    print \"Expected number of nucleotides: \", expfreq # print out the list containing the expected frequency of each nucleotide\n",
    "    obsfreq = counts # assign the observed frequency of each nucleotide in the list counts to the variable named obsfreq\n",
    "    print \"Observed number of nucleotides: \", obsfreq # print out the list containing the observed frequency of each nucleotide\n",
    "    assert len(expfreq) == len(obsfreq) # assert that the number of items in the two lists are the equal\n",
    "\n",
    "    chi2, pval = stats.chisquare(obsfreq, expfreq) # calculates the chi2 test statistic (chi2) and the p-value (pval) using the observed and expected frequency lists\n",
    "    print \"Chi-squared test statistic: \", chi2 # print the value of the chi-square test statistic\n",
    "    print \"p-value: \", pval # print the p-value\n",
    "chi_calcs(ntseq, counts)\n",
    "# assign the value of the variable ntseq to the variable sequence\n",
    "# send the arguments sequence and observed frequencies of nucleotides to the function chi_calcs"
   ]
  },
  {
   "cell_type": "markdown",
   "metadata": {},
   "source": [
    "#### Q3: Considering your mRNA sequence as a whole, are the four nucleotides present in equal frequencies?"
   ]
  },
  {
   "cell_type": "raw",
   "metadata": {},
   "source": [
    "No, the p-value is below the alpha thresh hold of reasonably explainable by the null hypothesis and therefor not present in equal frequencies."
   ]
  },
  {
   "cell_type": "markdown",
   "metadata": {
    "slideshow": {
     "slide_type": "-"
    }
   },
   "source": [
    "As we've seen, the nucleotide content of a gene can differ significantly over the length of an mRNA sequence. Using the fasta files you generated last week, calculate the nucleotide content over the 5'UTR, CDS, and 3'UTR regions of your gene.\n",
    "\n",
    "We'll use Biopython's SeqIO module to parse the fasta files into their header's and sequence's.\n"
   ]
  },
  {
   "cell_type": "code",
   "execution_count": null,
   "metadata": {
    "collapsed": true
   },
   "outputs": [],
   "source": []
  },
  {
   "cell_type": "code",
   "execution_count": 11,
   "metadata": {
    "collapsed": false
   },
   "outputs": [
    {
     "name": "stdout",
     "output_type": "stream",
     "text": [
      "NM_000088.3_5UTR\n",
      "TCGTCGGAGCAGACGGGAGTTTCTCCTCGGGGTCGGAGCAGGAGGCACGCGGAGTGTGAGGCCACGCATGAGCGGACGCTAACCCCCTCCCCAGCCACAAAGAGTCTACATGTCTAGGGTCTAGAC\n",
      "126\n",
      "\n",
      "\n",
      "NM_000088.3_CDS\n",
      "ATGTTCAGCTTTGTGGACCTCCGGCTCCTGCTCCTCTTAGCGGCCACCGCCCTCCTGACGCACGGCCAAGAGGAAGGCCAAGTCGAGGGCCAAGACGAAGACATCCCACCAATCACCTGCGTACAGAACGGCCTCAGGTACCATGACCGAGACGTGTGGAAACCCGAGCCCTGCCGGATCTGCGTCTGCGACAACGGCAAGGTGTTGTGCGATGACGTGATCTGTGACGAGACCAAGAACTGCCCCGGCGCCGAAGTCCCCGAGGGCGAGTGCTGTCCCGTCTGCCCCGACGGCTCAGAGTCACCCACCGACCAAGAAACCACCGGCGTCGAGGGACCCAAGGGAGACACTGGCCCCCGAGGCCCAAGGGGACCCGCAGGCCCCCCTGGCCGAGATGGCATCCCTGGACAGCCTGGACTTCCCGGACCCCCCGGACCCCCCGGACCTCCCGGACCCCCTGGCCTCGGAGGAAACTTTGCTCCCCAGCTGTCTTATGGCTATGATGAGAAATCAACCGGAGGAATTTCCGTGCCTGGCCCCATGGGTCCCTCTGGTCCTCGTGGTCTCCCTGGCCCCCCTGGTGCACCTGGTCCCCAAGGCTTCCAAGGTCCCCCTGGTGAGCCTGGCGAGCCTGGAGCTTCAGGTCCCATGGGTCCCCGAGGTCCCCCAGGTCCCCCTGGAAAGAATGGAGATGATGGGGAAGCTGGAAAACCTGGTCGTCCTGGTGAGCGTGGGCCTCCTGGGCCTCAGGGTGCTCGAGGATTGCCCGGAACAGCTGGCCTCCCTGGAATGAAGGGACACAGAGGTTTCAGTGGTTTGGATGGTGCCAAGGGAGATGCTGGTCCTGCTGGTCCTAAGGGTGAGCCTGGCAGCCCTGGTGAAAATGGAGCTCCTGGTCAGATGGGCCCCCGTGGCCTGCCTGGTGAGAGAGGTCGCCCTGGAGCCCCTGGCCCTGCTGGTGCTCGTGGAAATGATGGTGCTACTGGTGCTGCCGGGCCCCCTGGTCCCACCGGCCCCGCTGGTCCTCCTGGCTTCCCTGGTGCTGTTGGTGCTAAGGGTGAAGCTGGTCCCCAAGGGCCCCGAGGCTCTGAAGGTCCCCAGGGTGTGCGTGGTGAGCCTGGCCCCCCTGGCCCTGCTGGTGCTGCTGGCCCTGCTGGAAACCCTGGTGCTGATGGACAGCCTGGTGCTAAAGGTGCCAATGGTGCTCCTGGTATTGCTGGTGCTCCTGGCTTCCCTGGTGCCCGAGGCCCCTCTGGACCCCAGGGCCCCGGCGGCCCTCCTGGTCCCAAGGGTAACAGCGGTGAACCTGGTGCTCCTGGCAGCAAAGGAGACACTGGTGCTAAGGGAGAGCCTGGCCCTGTTGGTGTTCAAGGACCCCCTGGCCCTGCTGGAGAGGAAGGAAAGCGAGGAGCTCGAGGTGAACCCGGACCCACTGGCCTGCCCGGACCCCCTGGCGAGCGTGGTGGACCTGGTAGCCGTGGTTTCCCTGGCGCAGATGGTGTTGCTGGTCCCAAGGGTCCCGCTGGTGAACGTGGTTCTCCTGGCCCTGCTGGCCCCAAAGGATCTCCTGGTGAAGCTGGTCGTCCCGGTGAAGCTGGTCTGCCTGGTGCCAAGGGTCTGACTGGAAGCCCTGGCAGCCCTGGTCCTGATGGCAAAACTGGCCCCCCTGGTCCCGCCGGTCAAGATGGTCGCCCCGGACCCCCAGGCCCACCTGGTGCCCGTGGTCAGGCTGGTGTGATGGGATTCCCTGGACCTAAAGGTGCTGCTGGAGAGCCCGGCAAGGCTGGAGAGCGAGGTGTTCCCGGACCCCCTGGCGCTGTCGGTCCTGCTGGCAAAGATGGAGAGGCTGGAGCTCAGGGACCCCCTGGCCCTGCTGGTCCCGCTGGCGAGAGAGGTGAACAAGGCCCTGCTGGCTCCCCCGGATTCCAGGGTCTCCCTGGTCCTGCTGGTCCTCCAGGTGAAGCAGGCAAACCTGGTGAACAGGGTGTTCCTGGAGACCTTGGCGCCCCTGGCCCCTCTGGAGCAAGAGGCGAGAGAGGTTTCCCTGGCGAGCGTGGTGTGCAAGGTCCCCCTGGTCCTGCTGGTCCCCGAGGGGCCAACGGTGCTCCCGGCAACGATGGTGCTAAGGGTGATGCTGGTGCCCCTGGAGCTCCCGGTAGCCAGGGCGCCCCTGGCCTTCAGGGAATGCCTGGTGAACGTGGTGCAGCTGGTCTTCCAGGGCCTAAGGGTGACAGAGGTGATGCTGGTCCCAAAGGTGCTGATGGCTCTCCTGGCAAAGATGGCGTCCGTGGTCTGACTGGCCCCATTGGTCCTCCTGGCCCTGCTGGTGCCCCTGGTGACAAGGGTGAAAGTGGTCCCAGCGGCCCTGCTGGTCCCACTGGAGCTCGTGGTGCCCCCGGAGACCGTGGTGAGCCTGGTCCCCCCGGCCCTGCTGGCTTTGCTGGCCCCCCTGGTGCTGACGGCCAACCTGGTGCTAAAGGCGAACCTGGTGATGCTGGTGCTAAAGGCGATGCTGGTCCCCCTGGCCCTGCCGGACCCGCTGGACCCCCTGGCCCCATTGGTAATGTTGGTGCTCCTGGAGCCAAAGGTGCTCGCGGCAGCGCTGGTCCCCCTGGTGCTACTGGTTTCCCTGGTGCTGCTGGCCGAGTCGGTCCTCCTGGCCCCTCTGGAAATGCTGGACCCCCTGGCCCTCCTGGTCCTGCTGGCAAAGAAGGCGGCAAAGGTCCCCGTGGTGAGACTGGCCCTGCTGGACGTCCTGGTGAAGTTGGTCCCCCTGGTCCCCCTGGCCCTGCTGGCGAGAAAGGATCCCCTGGTGCTGATGGTCCTGCTGGTGCTCCTGGTACTCCCGGGCCTCAAGGTATTGCTGGACAGCGTGGTGTGGTCGGCCTGCCTGGTCAGAGAGGAGAGAGAGGCTTCCCTGGTCTTCCTGGCCCCTCTGGTGAACCTGGCAAACAAGGTCCCTCTGGAGCAAGTGGTGAACGTGGTCCCCCTGGTCCCATGGGCCCCCCTGGATTGGCTGGACCCCCTGGTGAATCTGGACGTGAGGGGGCTCCTGGTGCCGAAGGTTCCCCTGGACGAGACGGTTCTCCTGGCGCCAAGGGTGACCGTGGTGAGACCGGCCCCGCTGGACCCCCTGGTGCTCCTGGTGCTCCTGGTGCCCCTGGCCCCGTTGGCCCTGCTGGCAAGAGTGGTGATCGTGGTGAGACTGGTCCTGCTGGTCCCGCCGGTCCTGTCGGCCCTGTTGGCGCCCGTGGCCCCGCCGGACCCCAAGGCCCCCGTGGTGACAAGGGTGAGACAGGCGAACAGGGCGACAGAGGCATAAAGGGTCACCGTGGCTTCTCTGGCCTCCAGGGTCCCCCTGGCCCTCCTGGCTCTCCTGGTGAACAAGGTCCCTCTGGAGCCTCTGGTCCTGCTGGTCCCCGAGGTCCCCCTGGCTCTGCTGGTGCTCCTGGCAAAGATGGACTCAACGGTCTCCCTGGCCCCATTGGGCCCCCTGGTCCTCGCGGTCGCACTGGTGATGCTGGTCCTGTTGGTCCCCCCGGCCCTCCTGGACCTCCTGGTCCCCCTGGTCCTCCCAGCGCTGGTTTCGACTTCAGCTTCCTGCCCCAGCCACCTCAAGAGAAGGCTCACGATGGTGGCCGCTACTACCGGGCTGATGATGCCAATGTGGTTCGTGACCGTGACCTCGAGGTGGACACCACCCTCAAGAGCCTGAGCCAGCAGATCGAGAACATCCGGAGCCCAGAGGGCAGCCGCAAGAACCCCGCCCGCACCTGCCGTGACCTCAAGATGTGCCACTCTGACTGGAAGAGTGGAGAGTACTGGATTGACCCCAACCAAGGCTGCAACCTGGATGCCATCAAAGTCTTCTGCAACATGGAGACTGGTGAGACCTGCGTGTACCCCACTCAGCCCAGTGTGGCCCAGAAGAACTGGTACATCAGCAAGAACCCCAAGGACAAGAGGCATGTCTGGTTCGGCGAGAGCATGACCGATGGATTCCAGTTCGAGTATGGCGGCCAGGGCTCCGACCCTGCCGATGTGGCCATCCAGCTGACCTTCCTGCGCCTGATGTCCACCGAGGCCTCCCAGAACATCACCTACCACTGCAAGAACAGCGTGGCCTACATGGACCAGCAGACTGGCAACCTCAAGAAGGCCCTGCTCCTCCAGGGCTCCAACGAGATCGAGATCCGCGCCGAGGGCAACAGCCGCTTCACCTACAGCGTCACTGTCGATGGCTGCACGAGTCACACCGGAGCCTGGGGCAAGACAGTGATTGAATACAAAACCACCAAGACCTCCCGCCTGCCCATCATCGATGTGGCCCCCTTGGACGTTGGTGCCCCAGACCAGGAATTCGGCTTCGACGTTGGCCCTGTCTGCTTCCTGTAA\n",
      "4395\n",
      "\n",
      "\n",
      "NM_000088.3_3UTR\n",
      "ACTCCCTCCATCCCAACCTGGCTCCCTCCCACCCAACCAACTTTCCCCCCAACCCGGAAACAGACAAGCAACCCAAACTGAACCCCCTCAAAAGCCAAAAAATGGGAGACAATTTCACATGGACTTTGGAAAATATTTTTTTCCTTTGCATTCATCTCTCAAACTTAGTTTTTATCTTTGACCAACCGAACATGACCAAAAACCAAAAGTGCATTCAACCTTACCAAAAAAAAAAAAAAAAAAAGAATAAATAAATAACTTTTTAAAAAAGGAAGCTTGGTCCACTTGCTTGAAGACCCATGCGGGGGTAAGTCCCTTTCTGCCCGTTGGGCTTATGAAACCCCAATGCTGCCCTTTCTGCTCCTTTCTCCACACCCCCCTTGGGGCCTCCCCTCCACTCCTTCCCAAATCTGTCTCCCCAGAAGACACAGGAAACAATGTATTGTCTGCCCAGCAATCAAAGGCAATGCTCAAACACCCAAGTGGCCCCCACCCTCAGCCCGCTCCTGCCCGCCCAGCACCCCCAGGCCCTGGGGGACCTGGGGTTCTCAGACTGCCAAAGAAGCCTTGCCATCTGGCGCTCCCATGGCTCTTGCAACATCTCCCCTTCGTTTTTGAGGGGGTCATGCCGGGGGAGCCACCAGCCCCTCACTGGGTTCGGAGGAGAGTCAGGAAGGGCCACGACAAAGCAGAAACATCGGATTTGGGGAACGCGTGTCAATCCCTTGTGCCGCAGGGCTGGGCGGGAGAGACTGTTCTGTTCCTTGTGTAACTGTGTTGCTGAAAGACTACCTCGTTCTTGTCTTGATGTGTCACCGGGGCAACTGCCTGGGGGCGGGGATGGGGGCAGGGTGGAAGCGGCTCCCCATTTTATACCAAAGGTGCTACATCTATGTGATGGGTGGGGTGGGGAGGGAATCACTGGTGCTATAGAAATTGAGATGCCCCCCCAGGCCAGCAAATGTTCCTTTTTGTTCAAAGTCTATTTTTATTCCTTGATATTTTTCTTTTTTTTTTTTTTTTTTTGTGGATGGGGACTTGTGAATTTTTCTAAAGGTGCTATTTAACATGGGAGGAGAGCGTGTGCGGCTCCAGCCCAGCCCGCTGCTCACTTTCCACCCTCTCTCCACCTGCCTCTGGCTTCTCAGGCCTCTGCTCTCCGACCTCTCTCCTCTGAAACCCTCCTCCACAGCTGCAGCCCATCCTCCCGGCTCCCTCCTAGTCTGTCCTGCGTCCTCTGTCCCCGGGTTTCAGAGACAACTTCCCAAAGCACAAAGCAGTTTTTCCCCCTAGGGGTGGGAGGAAGCAAAAGACTCTGTACCTATTTTGTATGTGTATAATAATTTGAGATGTTTTTAATTATTTTGATTGCTGGAATAAAGCATGTGGAAATGACCCAAACATAA\n",
      "1406\n",
      "\n",
      "\n",
      "['NM_000088.3_3UTR', 'NM_000088.3_CDS', 'NM_000088.3_5UTR']\n",
      "[Seq('ACTCCCTCCATCCCAACCTGGCTCCCTCCCACCCAACCAACTTTCCCCCCAACC...TAA', SingleLetterAlphabet()), Seq('ATGTTCAGCTTTGTGGACCTCCGGCTCCTGCTCCTCTTAGCGGCCACCGCCCTC...TAA', SingleLetterAlphabet()), Seq('TCGTCGGAGCAGACGGGAGTTTCTCCTCGGGGTCGGAGCAGGAGGCACGCGGAG...GAC', SingleLetterAlphabet())]\n",
      "1406\n",
      "4395\n",
      "126\n"
     ]
    }
   ],
   "source": [
    "from Bio import SeqIO\n",
    "\n",
    "five_UTR_filename = ntid + \"_5UTR_seq.fasta\" # the file where you saved your gene's 5'UTR sequence\n",
    "CDS_filename = ntid + \"_CDS_seq.fasta\" # the file where you saved your gene's CDS\n",
    "three_UTR_filename = ntid + \"_3UTR_seq.fasta\" # the file where you saved your gene's 3'UTR sequence\n",
    "\n",
    "gene_regions = {} # create a dictionary called gene_regions\n",
    "fasta_list = [five_UTR_filename, CDS_filename, three_UTR_filename] # put the file names into a list\n",
    "\n",
    "for fl in fasta_list: # for each file, fl, in the list, fasta_list\n",
    "    for s in SeqIO.parse(fl, \"fasta\"): # for each fasta record, s, in the file, fl, parse the fasta records (separates the text into the fasta header and sequence)\n",
    "        print s.id # print the fasta header of the fasta record\n",
    "        print s.seq # print the sequence contained in the fasta record\n",
    "        print len(s.seq)\n",
    "        gene_regions[s.id] = s.seq\n",
    "        print \"\\n\"\n",
    "print gene_regions.keys()\n",
    "print gene_regions.values()\n",
    "for j in gene_regions.values():\n",
    "    print len(j)\n",
    "        \n",
    "        # convert the sequence to a string\n",
    "        # add an element to the dictionary, gene_regions, where the key is the fasta header and the value is the string of the sequence\n",
    "        # print the length of the fasta sequence\n",
    "        # print a newline to create a visual separation between the sequences"
   ]
  },
  {
   "cell_type": "markdown",
   "metadata": {},
   "source": [
    "For each sequence in the dictionary gene_regions, call the GC_content function. Remember that GC_content returns a list of the counts of each nucleotide in the sequence. Call the chi_calcs function, giving it the sequence and the list of counts - this will print out the observed and expected number of nucleotides, the chi-squared test statistic, and corresponding p-value."
   ]
  },
  {
   "cell_type": "code",
   "execution_count": 12,
   "metadata": {
    "collapsed": false,
    "slideshow": {
     "slide_type": "-"
    }
   },
   "outputs": [
    {
     "name": "stdout",
     "output_type": "stream",
     "text": [
      "dict_keys(['NM_000088.3_3UTR', 'NM_000088.3_CDS', 'NM_000088.3_5UTR'])\n",
      "dict_values([Seq('ACTCCCTCCATCCCAACCTGGCTCCCTCCCACCCAACCAACTTTCCCCCCAACC...TAA', SingleLetterAlphabet()), Seq('ATGTTCAGCTTTGTGGACCTCCGGCTCCTGCTCCTCTTAGCGGCCACCGCCCTC...TAA', SingleLetterAlphabet()), Seq('TCGTCGGAGCAGACGGGAGTTTCTCCTCGGGGTCGGAGCAGGAGGCACGCGGAG...GAC', SingleLetterAlphabet())])\n",
      "\n",
      "\n",
      "countA 334\n",
      "countC 404\n",
      "countG 304\n",
      "countT 364\n",
      "countN 0\n",
      "[334, 364, 404, 304]\n",
      "Expected number of nucleotides:  [352, 352, 352, 352]\n",
      "Observed number of nucleotides:  [334, 364, 404, 304]\n",
      "Chi-squared test statistic:  15.5568181818\n",
      "p-value:  0.00139765242955\n",
      "\n",
      "\n",
      "countA 703\n",
      "countC 1436\n",
      "countG 1423\n",
      "countT 833\n",
      "countN 0\n",
      "[703, 833, 1436, 1423]\n",
      "Expected number of nucleotides:  [1099, 1099, 1099, 1099]\n",
      "Observed number of nucleotides:  [703, 833, 1436, 1423]\n",
      "Chi-squared test statistic:  405.929936306\n",
      "p-value:  1.1499153285e-87\n",
      "\n",
      "\n",
      "countA 27\n",
      "countC 37\n",
      "countG 42\n",
      "countT 20\n",
      "countN 0\n",
      "[27, 20, 37, 42]\n",
      "Expected number of nucleotides:  [32, 32, 32, 32]\n",
      "Observed number of nucleotides:  [27, 20, 37, 42]\n",
      "Chi-squared test statistic:  9.1875\n",
      "p-value:  0.0268991008988\n",
      "\n",
      "\n"
     ]
    }
   ],
   "source": [
    "keys = gene_regions.viewkeys()\n",
    "value = gene_regions.viewvalues()\n",
    "print keys\n",
    "print value\n",
    "print \"\\n\"\n",
    "for j in value:\n",
    "    countA=0 \n",
    "    countC=0\n",
    "    countG=0\n",
    "    countT=0\n",
    "    countN=0 \n",
    "    for k in j:\n",
    "        if k == \"C\": \n",
    "            countC +=1 \n",
    "        elif k == \"A\": # ask if the nt is adenosine\n",
    "            countA +=1 # increase countA by one\n",
    "        elif k == \"T\": # ask if the nt is thymine\n",
    "            countT +=1 # increase countT by one\n",
    "        elif k == \"G\": # ask if the nt is guanine\n",
    "            countG +=1 # increase countG by one\n",
    "        else: # if above not True then nt is not a standard nucleotide\n",
    "            countN +=1 # increase countN by one\n",
    "            print \"Non-standard nt\", nt # print a warning message\n",
    "    counts = [countA, countT, countC, countG]\n",
    "    print \"countA\", countA # print the values of the count variables\n",
    "    print \"countC\", countC\n",
    "    print \"countG\", countG\n",
    "    print \"countT\", countT\n",
    "    print \"countN\", countN\n",
    "    # generate a list containing the number of A, T, C, and G in the sequence.\n",
    "    print counts # return the list counts\n",
    "    chi_calcs(j,counts)\n",
    "    print \"\\n\"\n",
    "    \n",
    "# for each element of the dictionary gene_regions\n",
    "    # print the dictionary key, the sequence id\n",
    "    # assign the nucleotide seq to a variable called sequence\n",
    "    # print a message with the number of nucleotides in the sequence\n",
    "    #counts = GC_content(sequence) # send the sequence to the function GC_content, returns a list called counts containing the counts of each nucleotide  \n",
    "    #chi_calcs(sequence, counts) # send the sequence and list counts to the function chi_calcs, this will print out the expected and observed nucletides, the chi-square statistic and the p-value\n",
    "    # print a newline as a visual separation between records\n"
   ]
  },
  {
   "cell_type": "markdown",
   "metadata": {},
   "source": [
    "#### Q4: Can you reject the null hypothesis of equal distribution of nucleotides for any of the regions of your gene? Explain. If you reject the null hypothesis, which nucletides appear to be over or under represented?"
   ]
  },
  {
   "cell_type": "raw",
   "metadata": {},
   "source": [
    "For each the 3', 5', and the CDS, the null hypothesis can be rejected.  The 3' sequence has an over representation of C and T to a lesser extent , the 5' sequence has an overrepresentation of G and C to a lesser extent, and the CDS has an overrepresentation of CG (unsurprisingly)."
   ]
  },
  {
   "cell_type": "markdown",
   "metadata": {
    "slideshow": {
     "slide_type": "-"
    }
   },
   "source": [
    "Now, let's generate a graph showing the percent GC of 50 nt bins accross your gene's entire mRNA sequence."
   ]
  },
  {
   "cell_type": "code",
   "execution_count": 26,
   "metadata": {
    "collapsed": false
   },
   "outputs": [
    {
     "name": "stdout",
     "output_type": "stream",
     "text": [
      "5927\n",
      "TCGTCGGAGCAGACGGGAGTTTCTCCTCGGGGTCGGAGCAGGAGGCACGCGGAGTGTGAGGCCACGCATGAGCGGACGCTAACCCCCTCCCCAGCCACAAAGAGTCTACATGTCTAGGGTCTAGACATGTTCAGCTTTGTGGACCTCCGGCTCCTGCTCCTCTTAGCGGCCACCGCCCTCCTGACGCACGGCCAAGAGGAAGGCCAAGTCGAGGGCCAAGACGAAGACATCCCACCAATCACCTGCGTACAGAACGGCCTCAGGTACCATGACCGAGACGTGTGGAAACCCGAGCCCTGCCGGATCTGCGTCTGCGACAACGGCAAGGTGTTGTGCGATGACGTGATCTGTGACGAGACCAAGAACTGCCCCGGCGCCGAAGTCCCCGAGGGCGAGTGCTGTCCCGTCTGCCCCGACGGCTCAGAGTCACCCACCGACCAAGAAACCACCGGCGTCGAGGGACCCAAGGGAGACACTGGCCCCCGAGGCCCAAGGGGACCCGCAGGCCCCCCTGGCCGAGATGGCATCCCTGGACAGCCTGGACTTCCCGGACCCCCCGGACCCCCCGGACCTCCCGGACCCCCTGGCCTCGGAGGAAACTTTGCTCCCCAGCTGTCTTATGGCTATGATGAGAAATCAACCGGAGGAATTTCCGTGCCTGGCCCCATGGGTCCCTCTGGTCCTCGTGGTCTCCCTGGCCCCCCTGGTGCACCTGGTCCCCAAGGCTTCCAAGGTCCCCCTGGTGAGCCTGGCGAGCCTGGAGCTTCAGGTCCCATGGGTCCCCGAGGTCCCCCAGGTCCCCCTGGAAAGAATGGAGATGATGGGGAAGCTGGAAAACCTGGTCGTCCTGGTGAGCGTGGGCCTCCTGGGCCTCAGGGTGCTCGAGGATTGCCCGGAACAGCTGGCCTCCCTGGAATGAAGGGACACAGAGGTTTCAGTGGTTTGGATGGTGCCAAGGGAGATGCTGGTCCTGCTGGTCCTAAGGGTGAGCCTGGCAGCCCTGGTGAAAATGGAGCTCCTGGTCAGATGGGCCCCCGTGGCCTGCCTGGTGAGAGAGGTCGCCCTGGAGCCCCTGGCCCTGCTGGTGCTCGTGGAAATGATGGTGCTACTGGTGCTGCCGGGCCCCCTGGTCCCACCGGCCCCGCTGGTCCTCCTGGCTTCCCTGGTGCTGTTGGTGCTAAGGGTGAAGCTGGTCCCCAAGGGCCCCGAGGCTCTGAAGGTCCCCAGGGTGTGCGTGGTGAGCCTGGCCCCCCTGGCCCTGCTGGTGCTGCTGGCCCTGCTGGAAACCCTGGTGCTGATGGACAGCCTGGTGCTAAAGGTGCCAATGGTGCTCCTGGTATTGCTGGTGCTCCTGGCTTCCCTGGTGCCCGAGGCCCCTCTGGACCCCAGGGCCCCGGCGGCCCTCCTGGTCCCAAGGGTAACAGCGGTGAACCTGGTGCTCCTGGCAGCAAAGGAGACACTGGTGCTAAGGGAGAGCCTGGCCCTGTTGGTGTTCAAGGACCCCCTGGCCCTGCTGGAGAGGAAGGAAAGCGAGGAGCTCGAGGTGAACCCGGACCCACTGGCCTGCCCGGACCCCCTGGCGAGCGTGGTGGACCTGGTAGCCGTGGTTTCCCTGGCGCAGATGGTGTTGCTGGTCCCAAGGGTCCCGCTGGTGAACGTGGTTCTCCTGGCCCTGCTGGCCCCAAAGGATCTCCTGGTGAAGCTGGTCGTCCCGGTGAAGCTGGTCTGCCTGGTGCCAAGGGTCTGACTGGAAGCCCTGGCAGCCCTGGTCCTGATGGCAAAACTGGCCCCCCTGGTCCCGCCGGTCAAGATGGTCGCCCCGGACCCCCAGGCCCACCTGGTGCCCGTGGTCAGGCTGGTGTGATGGGATTCCCTGGACCTAAAGGTGCTGCTGGAGAGCCCGGCAAGGCTGGAGAGCGAGGTGTTCCCGGACCCCCTGGCGCTGTCGGTCCTGCTGGCAAAGATGGAGAGGCTGGAGCTCAGGGACCCCCTGGCCCTGCTGGTCCCGCTGGCGAGAGAGGTGAACAAGGCCCTGCTGGCTCCCCCGGATTCCAGGGTCTCCCTGGTCCTGCTGGTCCTCCAGGTGAAGCAGGCAAACCTGGTGAACAGGGTGTTCCTGGAGACCTTGGCGCCCCTGGCCCCTCTGGAGCAAGAGGCGAGAGAGGTTTCCCTGGCGAGCGTGGTGTGCAAGGTCCCCCTGGTCCTGCTGGTCCCCGAGGGGCCAACGGTGCTCCCGGCAACGATGGTGCTAAGGGTGATGCTGGTGCCCCTGGAGCTCCCGGTAGCCAGGGCGCCCCTGGCCTTCAGGGAATGCCTGGTGAACGTGGTGCAGCTGGTCTTCCAGGGCCTAAGGGTGACAGAGGTGATGCTGGTCCCAAAGGTGCTGATGGCTCTCCTGGCAAAGATGGCGTCCGTGGTCTGACTGGCCCCATTGGTCCTCCTGGCCCTGCTGGTGCCCCTGGTGACAAGGGTGAAAGTGGTCCCAGCGGCCCTGCTGGTCCCACTGGAGCTCGTGGTGCCCCCGGAGACCGTGGTGAGCCTGGTCCCCCCGGCCCTGCTGGCTTTGCTGGCCCCCCTGGTGCTGACGGCCAACCTGGTGCTAAAGGCGAACCTGGTGATGCTGGTGCTAAAGGCGATGCTGGTCCCCCTGGCCCTGCCGGACCCGCTGGACCCCCTGGCCCCATTGGTAATGTTGGTGCTCCTGGAGCCAAAGGTGCTCGCGGCAGCGCTGGTCCCCCTGGTGCTACTGGTTTCCCTGGTGCTGCTGGCCGAGTCGGTCCTCCTGGCCCCTCTGGAAATGCTGGACCCCCTGGCCCTCCTGGTCCTGCTGGCAAAGAAGGCGGCAAAGGTCCCCGTGGTGAGACTGGCCCTGCTGGACGTCCTGGTGAAGTTGGTCCCCCTGGTCCCCCTGGCCCTGCTGGCGAGAAAGGATCCCCTGGTGCTGATGGTCCTGCTGGTGCTCCTGGTACTCCCGGGCCTCAAGGTATTGCTGGACAGCGTGGTGTGGTCGGCCTGCCTGGTCAGAGAGGAGAGAGAGGCTTCCCTGGTCTTCCTGGCCCCTCTGGTGAACCTGGCAAACAAGGTCCCTCTGGAGCAAGTGGTGAACGTGGTCCCCCTGGTCCCATGGGCCCCCCTGGATTGGCTGGACCCCCTGGTGAATCTGGACGTGAGGGGGCTCCTGGTGCCGAAGGTTCCCCTGGACGAGACGGTTCTCCTGGCGCCAAGGGTGACCGTGGTGAGACCGGCCCCGCTGGACCCCCTGGTGCTCCTGGTGCTCCTGGTGCCCCTGGCCCCGTTGGCCCTGCTGGCAAGAGTGGTGATCGTGGTGAGACTGGTCCTGCTGGTCCCGCCGGTCCTGTCGGCCCTGTTGGCGCCCGTGGCCCCGCCGGACCCCAAGGCCCCCGTGGTGACAAGGGTGAGACAGGCGAACAGGGCGACAGAGGCATAAAGGGTCACCGTGGCTTCTCTGGCCTCCAGGGTCCCCCTGGCCCTCCTGGCTCTCCTGGTGAACAAGGTCCCTCTGGAGCCTCTGGTCCTGCTGGTCCCCGAGGTCCCCCTGGCTCTGCTGGTGCTCCTGGCAAAGATGGACTCAACGGTCTCCCTGGCCCCATTGGGCCCCCTGGTCCTCGCGGTCGCACTGGTGATGCTGGTCCTGTTGGTCCCCCCGGCCCTCCTGGACCTCCTGGTCCCCCTGGTCCTCCCAGCGCTGGTTTCGACTTCAGCTTCCTGCCCCAGCCACCTCAAGAGAAGGCTCACGATGGTGGCCGCTACTACCGGGCTGATGATGCCAATGTGGTTCGTGACCGTGACCTCGAGGTGGACACCACCCTCAAGAGCCTGAGCCAGCAGATCGAGAACATCCGGAGCCCAGAGGGCAGCCGCAAGAACCCCGCCCGCACCTGCCGTGACCTCAAGATGTGCCACTCTGACTGGAAGAGTGGAGAGTACTGGATTGACCCCAACCAAGGCTGCAACCTGGATGCCATCAAAGTCTTCTGCAACATGGAGACTGGTGAGACCTGCGTGTACCCCACTCAGCCCAGTGTGGCCCAGAAGAACTGGTACATCAGCAAGAACCCCAAGGACAAGAGGCATGTCTGGTTCGGCGAGAGCATGACCGATGGATTCCAGTTCGAGTATGGCGGCCAGGGCTCCGACCCTGCCGATGTGGCCATCCAGCTGACCTTCCTGCGCCTGATGTCCACCGAGGCCTCCCAGAACATCACCTACCACTGCAAGAACAGCGTGGCCTACATGGACCAGCAGACTGGCAACCTCAAGAAGGCCCTGCTCCTCCAGGGCTCCAACGAGATCGAGATCCGCGCCGAGGGCAACAGCCGCTTCACCTACAGCGTCACTGTCGATGGCTGCACGAGTCACACCGGAGCCTGGGGCAAGACAGTGATTGAATACAAAACCACCAAGACCTCCCGCCTGCCCATCATCGATGTGGCCCCCTTGGACGTTGGTGCCCCAGACCAGGAATTCGGCTTCGACGTTGGCCCTGTCTGCTTCCTGTAAACTCCCTCCATCCCAACCTGGCTCCCTCCCACCCAACCAACTTTCCCCCCAACCCGGAAACAGACAAGCAACCCAAACTGAACCCCCTCAAAAGCCAAAAAATGGGAGACAATTTCACATGGACTTTGGAAAATATTTTTTTCCTTTGCATTCATCTCTCAAACTTAGTTTTTATCTTTGACCAACCGAACATGACCAAAAACCAAAAGTGCATTCAACCTTACCAAAAAAAAAAAAAAAAAAAGAATAAATAAATAACTTTTTAAAAAAGGAAGCTTGGTCCACTTGCTTGAAGACCCATGCGGGGGTAAGTCCCTTTCTGCCCGTTGGGCTTATGAAACCCCAATGCTGCCCTTTCTGCTCCTTTCTCCACACCCCCCTTGGGGCCTCCCCTCCACTCCTTCCCAAATCTGTCTCCCCAGAAGACACAGGAAACAATGTATTGTCTGCCCAGCAATCAAAGGCAATGCTCAAACACCCAAGTGGCCCCCACCCTCAGCCCGCTCCTGCCCGCCCAGCACCCCCAGGCCCTGGGGGACCTGGGGTTCTCAGACTGCCAAAGAAGCCTTGCCATCTGGCGCTCCCATGGCTCTTGCAACATCTCCCCTTCGTTTTTGAGGGGGTCATGCCGGGGGAGCCACCAGCCCCTCACTGGGTTCGGAGGAGAGTCAGGAAGGGCCACGACAAAGCAGAAACATCGGATTTGGGGAACGCGTGTCAATCCCTTGTGCCGCAGGGCTGGGCGGGAGAGACTGTTCTGTTCCTTGTGTAACTGTGTTGCTGAAAGACTACCTCGTTCTTGTCTTGATGTGTCACCGGGGCAACTGCCTGGGGGCGGGGATGGGGGCAGGGTGGAAGCGGCTCCCCATTTTATACCAAAGGTGCTACATCTATGTGATGGGTGGGGTGGGGAGGGAATCACTGGTGCTATAGAAATTGAGATGCCCCCCCAGGCCAGCAAATGTTCCTTTTTGTTCAAAGTCTATTTTTATTCCTTGATATTTTTCTTTTTTTTTTTTTTTTTTTGTGGATGGGGACTTGTGAATTTTTCTAAAGGTGCTATTTAACATGGGAGGAGAGCGTGTGCGGCTCCAGCCCAGCCCGCTGCTCACTTTCCACCCTCTCTCCACCTGCCTCTGGCTTCTCAGGCCTCTGCTCTCCGACCTCTCTCCTCTGAAACCCTCCTCCACAGCTGCAGCCCATCCTCCCGGCTCCCTCCTAGTCTGTCCTGCGTCCTCTGTCCCCGGGTTTCAGAGACAACTTCCCAAAGCACAAAGCAGTTTTTCCCCCTAGGGGTGGGAGGAAGCAAAAGACTCTGTACCTATTTTGTATGTGTATAATAATTTGAGATGTTTTTAATTATTTTGATTGCTGGAATAAAGCATGTGGAAATGACCCAAACATAA\n"
     ]
    }
   ],
   "source": [
    "[x0, x1, x2] = value\n",
    "print len(ntseq)\n",
    "print ntseq"
   ]
  },
  {
   "cell_type": "code",
   "execution_count": 107,
   "metadata": {
    "collapsed": false
   },
   "outputs": [
    {
     "name": "stdout",
     "output_type": "stream",
     "text": [
      "{1: 68.0, 2: 66.0, 3: 50.0, 4: 68.0, 5: 57.99999999999999, 6: 62.0, 7: 57.99999999999999, 8: 68.0, 9: 66.0, 10: 74.0, 11: 72.0, 12: 78.0, 13: 46.0, 14: 70.0, 15: 68.0, 16: 72.0, 17: 54.0, 18: 68.0, 19: 56.00000000000001, 20: 64.0, 21: 64.0, 22: 66.0, 23: 76.0, 24: 60.0, 25: 74.0, 26: 68.0, 27: 56.00000000000001, 28: 80.0, 29: 64.0, 30: 56.00000000000001, 31: 66.0, 32: 74.0, 33: 66.0, 34: 62.0, 35: 64.0, 36: 68.0, 37: 76.0, 38: 57.99999999999999, 39: 72.0, 40: 68.0, 41: 68.0, 42: 62.0, 43: 68.0, 44: 64.0, 45: 70.0, 46: 72.0, 47: 60.0, 48: 60.0, 49: 64.0, 50: 66.0, 51: 74.0, 52: 72.0, 53: 57.99999999999999, 54: 68.0, 55: 70.0, 56: 64.0, 57: 66.0, 58: 68.0, 59: 66.0, 60: 62.0, 61: 64.0, 62: 60.0, 63: 70.0, 64: 66.0, 65: 70.0, 66: 74.0, 67: 64.0, 68: 80.0, 69: 60.0, 70: 72.0, 71: 64.0, 72: 62.0, 73: 72.0, 74: 72.0, 75: 60.0, 76: 60.0, 77: 62.0, 78: 70.0, 79: 54.0, 80: 52.0, 81: 62.0, 82: 50.0, 83: 60.0, 84: 66.0, 85: 60.0, 86: 60.0, 87: 64.0, 88: 64.0, 89: 50.0, 90: 62.0, 91: 62.0, 92: 54.0, 93: 44.0, 94: 22.0, 95: 40.0, 96: 14.000000000000002, 97: 57.99999999999999, 98: 56.00000000000001, 99: 60.0, 100: 44.0, 101: 78.0, 102: 62.0, 103: 56.00000000000001, 104: 70.0, 105: 50.0, 106: 57.99999999999999, 107: 54.0, 108: 64.0, 109: 56.00000000000001, 110: 44.0, 111: 16.0, 112: 40.0, 113: 68.0, 114: 60.0, 115: 68.0, 116: 54.0, 117: 48.0, 118: 20.0, 119: 20.0}\n"
     ]
    }
   ],
   "source": [
    "\n",
    "#break into size 50 chunks\n",
    "region = {}\n",
    "for i in range(0,len(ntseq)/50):\n",
    "    subset = ntseq[i*50:(i+1)*50]\n",
    "    region[i] = subset \n",
    "region[i+1] = ntseq[(i+1)*50:]\n",
    "regionGC = {}\n",
    "Y = 0\n",
    "gcnum = 0\n",
    "for i in region:\n",
    "    Y += 1\n",
    "    gcnum = 0\n",
    "    for x in ntseq[(i*50):(i+1)*50]:\n",
    "        if x in \"G\":\n",
    "            gcnum += 1\n",
    "        if x in \"C\":\n",
    "            gcnum += 1\n",
    "    gcpercent = (float(gcnum)/50)*100\n",
    "    regionGC[Y] = gcpercent\n",
    "print regionGC"
   ]
  },
  {
   "cell_type": "code",
   "execution_count": 54,
   "metadata": {
    "collapsed": false
   },
   "outputs": [
    {
     "name": "stdout",
     "output_type": "stream",
     "text": [
      "5927\n",
      "5927\n"
     ]
    }
   ],
   "source": []
  },
  {
   "cell_type": "code",
   "execution_count": 138,
   "metadata": {
    "collapsed": false
   },
   "outputs": [
    {
     "ename": "AttributeError",
     "evalue": "'int' object has no attribute 'seq'",
     "output_type": "error",
     "traceback": [
      "\u001b[1;31m---------------------------------------------------------------------------\u001b[0m",
      "\u001b[1;31mAttributeError\u001b[0m                            Traceback (most recent call last)",
      "\u001b[1;32m<ipython-input-138-476b9bd39276>\u001b[0m in \u001b[0;36m<module>\u001b[1;34m()\u001b[0m\n\u001b[1;32m----> 1\u001b[1;33m \u001b[1;32mprint\u001b[0m \u001b[0my\u001b[0m\u001b[1;33m.\u001b[0m\u001b[0mseq\u001b[0m\u001b[1;33m\u001b[0m\u001b[0m\n\u001b[0m",
      "\u001b[1;31mAttributeError\u001b[0m: 'int' object has no attribute 'seq'"
     ]
    }
   ],
   "source": []
  },
  {
   "cell_type": "markdown",
   "metadata": {},
   "source": [
    "We'd like to plot the GC content by region over the length with the coding region of your gene highlighted. To do this we first need to know the begining and ending position of the coding region. Write a for loop using the features attribute of nt_seq_record; if the feature type is \"CDS\", assign the starting position to cds_start and the ending position to cds_end."
   ]
  },
  {
   "cell_type": "code",
   "execution_count": 145,
   "metadata": {
    "collapsed": false
   },
   "outputs": [
    {
     "name": "stdout",
     "output_type": "stream",
     "text": [
      "ID: NM_000088.3\n",
      "Name: NM_000088\n",
      "Description: Homo sapiens collagen, type I, alpha 1 (COL1A1), mRNA.\n",
      "Number of features: 89\n",
      "/comment=REVIEWED REFSEQ: This record has been curated by NCBI staff. The\n",
      "reference sequence was derived from AC015909.14 and Z74615.1.\n",
      "This sequence is a reference standard in the RefSeqGene project.\n",
      "On Jul 14, 2006 this sequence version replaced gi:14719826.\n",
      "Summary: This gene encodes the pro-alpha1 chains of type I collagen\n",
      "whose triple helix comprises two alpha1 chains and one alpha2\n",
      "chain. Type I is a fibril-forming collagen found in most connective\n",
      "tissues and is abundant in bone, cornea, dermis and tendon.\n",
      "Mutations in this gene are associated with osteogenesis imperfecta\n",
      "types I-IV, Ehlers-Danlos syndrome type VIIA, Ehlers-Danlos\n",
      "syndrome Classical type, Caffey Disease and idiopathic\n",
      "osteoporosis. Reciprocal translocations between chromosomes 17 and\n",
      "22, where this gene and the gene for platelet-derived growth factor\n",
      "beta are located, are associated with a particular type of skin\n",
      "tumor called dermatofibrosarcoma protuberans, resulting from\n",
      "unregulated expression of the growth factor. Two transcripts,\n",
      "resulting from the use of alternate polyadenylation signals, have\n",
      "been identified for this gene. [provided by R. Dalgleish, Feb\n",
      "2008].\n",
      "Publication Note:  This RefSeq record includes a subset of the\n",
      "publications that are available for this gene. Please see the Gene\n",
      "record to access additional publications.\n",
      "##Evidence-Data-START##\n",
      "Transcript exon combination :: Z74615.1, BC036531.2 [ECO:0000332]\n",
      "RNAseq introns              :: single sample supports all introns\n",
      "                               SAMEA1968189, SAMEA1968540\n",
      "                               [ECO:0000348]\n",
      "##Evidence-Data-END##\n",
      "COMPLETENESS: full length.\n",
      "/sequence_version=3\n",
      "/source=Homo sapiens (human)\n",
      "/taxonomy=['Eukaryota', 'Metazoa', 'Chordata', 'Craniata', 'Vertebrata', 'Euteleostomi', 'Mammalia', 'Eutheria', 'Euarchontoglires', 'Primates', 'Haplorrhini', 'Catarrhini', 'Hominidae', 'Homo']\n",
      "/keywords=['RefSeq']\n",
      "/references=[Reference(title='Synergistic effect of pro-inflammatory TNFalpha and IL-17 in periostin mediated collagen deposition: potential role in liver fibrosis', ...), Reference(title='MiR-10a and miR-181c regulate collagen type I generation in hypertrophic scars by targeting PAI-1 and uPA', ...), Reference(title='[Mutation analysis and prenatal diagnosis of COL1A1 gene in a Chinese family with type I osteogenesis imperfecta]', ...), Reference(title='[Identification of a novel splicing mutation in COL1A1 gene in a Chinese family affected with typeosteogenesis imperfecta]', ...), Reference(title='Caffey Disease', ...), Reference(title='COL1A1/2-Related Osteogenesis Imperfecta', ...), Reference(title='Activation of expression of genes coding for extracellular matrix proteins in Tat-producing glioblastoma cells', ...), Reference(title='Short amino acid sequences derived from C1q receptor (C1q-R) show homology with the alpha chains of fibronectin and vitronectin receptors and collagen type IV', ...), Reference(title='Evidence for a relationship between Ehlers-Danlos type VII C in humans and bovine dermatosparaxis', ...), Reference(title='Defective folding and stable association with protein disulfide isomerase/prolyl hydroxylase of type I procollagen with a deletion in the pro alpha 2(I) chain that preserves the Gly-X-Y repeat pattern', ...)]\n",
      "/accessions=['NM_000088']\n",
      "/data_file_division=PRI\n",
      "/date=21-MAY-2015\n",
      "/organism=Homo sapiens\n",
      "/gi=110349771\n",
      "Seq('TCGTCGGAGCAGACGGGAGTTTCTCCTCGGGGTCGGAGCAGGAGGCACGCGGAG...TAA', IUPACAmbiguousDNA())\n",
      "<class 'Bio.SeqRecord.SeqRecord'>\n",
      "126\n",
      "4521\n",
      "ATGTTCAGCTTTGTGGACCTCCGGCTCCTGCTCCTCTTAGCGGCCACCGCCCTCCTGACGCACGGCCAAGAGGAAGGCCAAGTCGAGGGCCAAGACGAAGACATCCCACCAATCACCTGCGTACAGAACGGCCTCAGGTACCATGACCGAGACGTGTGGAAACCCGAGCCCTGCCGGATCTGCGTCTGCGACAACGGCAAGGTGTTGTGCGATGACGTGATCTGTGACGAGACCAAGAACTGCCCCGGCGCCGAAGTCCCCGAGGGCGAGTGCTGTCCCGTCTGCCCCGACGGCTCAGAGTCACCCACCGACCAAGAAACCACCGGCGTCGAGGGACCCAAGGGAGACACTGGCCCCCGAGGCCCAAGGGGACCCGCAGGCCCCCCTGGCCGAGATGGCATCCCTGGACAGCCTGGACTTCCCGGACCCCCCGGACCCCCCGGACCTCCCGGACCCCCTGGCCTCGGAGGAAACTTTGCTCCCCAGCTGTCTTATGGCTATGATGAGAAATCAACCGGAGGAATTTCCGTGCCTGGCCCCATGGGTCCCTCTGGTCCTCGTGGTCTCCCTGGCCCCCCTGGTGCACCTGGTCCCCAAGGCTTCCAAGGTCCCCCTGGTGAGCCTGGCGAGCCTGGAGCTTCAGGTCCCATGGGTCCCCGAGGTCCCCCAGGTCCCCCTGGAAAGAATGGAGATGATGGGGAAGCTGGAAAACCTGGTCGTCCTGGTGAGCGTGGGCCTCCTGGGCCTCAGGGTGCTCGAGGATTGCCCGGAACAGCTGGCCTCCCTGGAATGAAGGGACACAGAGGTTTCAGTGGTTTGGATGGTGCCAAGGGAGATGCTGGTCCTGCTGGTCCTAAGGGTGAGCCTGGCAGCCCTGGTGAAAATGGAGCTCCTGGTCAGATGGGCCCCCGTGGCCTGCCTGGTGAGAGAGGTCGCCCTGGAGCCCCTGGCCCTGCTGGTGCTCGTGGAAATGATGGTGCTACTGGTGCTGCCGGGCCCCCTGGTCCCACCGGCCCCGCTGGTCCTCCTGGCTTCCCTGGTGCTGTTGGTGCTAAGGGTGAAGCTGGTCCCCAAGGGCCCCGAGGCTCTGAAGGTCCCCAGGGTGTGCGTGGTGAGCCTGGCCCCCCTGGCCCTGCTGGTGCTGCTGGCCCTGCTGGAAACCCTGGTGCTGATGGACAGCCTGGTGCTAAAGGTGCCAATGGTGCTCCTGGTATTGCTGGTGCTCCTGGCTTCCCTGGTGCCCGAGGCCCCTCTGGACCCCAGGGCCCCGGCGGCCCTCCTGGTCCCAAGGGTAACAGCGGTGAACCTGGTGCTCCTGGCAGCAAAGGAGACACTGGTGCTAAGGGAGAGCCTGGCCCTGTTGGTGTTCAAGGACCCCCTGGCCCTGCTGGAGAGGAAGGAAAGCGAGGAGCTCGAGGTGAACCCGGACCCACTGGCCTGCCCGGACCCCCTGGCGAGCGTGGTGGACCTGGTAGCCGTGGTTTCCCTGGCGCAGATGGTGTTGCTGGTCCCAAGGGTCCCGCTGGTGAACGTGGTTCTCCTGGCCCTGCTGGCCCCAAAGGATCTCCTGGTGAAGCTGGTCGTCCCGGTGAAGCTGGTCTGCCTGGTGCCAAGGGTCTGACTGGAAGCCCTGGCAGCCCTGGTCCTGATGGCAAAACTGGCCCCCCTGGTCCCGCCGGTCAAGATGGTCGCCCCGGACCCCCAGGCCCACCTGGTGCCCGTGGTCAGGCTGGTGTGATGGGATTCCCTGGACCTAAAGGTGCTGCTGGAGAGCCCGGCAAGGCTGGAGAGCGAGGTGTTCCCGGACCCCCTGGCGCTGTCGGTCCTGCTGGCAAAGATGGAGAGGCTGGAGCTCAGGGACCCCCTGGCCCTGCTGGTCCCGCTGGCGAGAGAGGTGAACAAGGCCCTGCTGGCTCCCCCGGATTCCAGGGTCTCCCTGGTCCTGCTGGTCCTCCAGGTGAAGCAGGCAAACCTGGTGAACAGGGTGTTCCTGGAGACCTTGGCGCCCCTGGCCCCTCTGGAGCAAGAGGCGAGAGAGGTTTCCCTGGCGAGCGTGGTGTGCAAGGTCCCCCTGGTCCTGCTGGTCCCCGAGGGGCCAACGGTGCTCCCGGCAACGATGGTGCTAAGGGTGATGCTGGTGCCCCTGGAGCTCCCGGTAGCCAGGGCGCCCCTGGCCTTCAGGGAATGCCTGGTGAACGTGGTGCAGCTGGTCTTCCAGGGCCTAAGGGTGACAGAGGTGATGCTGGTCCCAAAGGTGCTGATGGCTCTCCTGGCAAAGATGGCGTCCGTGGTCTGACTGGCCCCATTGGTCCTCCTGGCCCTGCTGGTGCCCCTGGTGACAAGGGTGAAAGTGGTCCCAGCGGCCCTGCTGGTCCCACTGGAGCTCGTGGTGCCCCCGGAGACCGTGGTGAGCCTGGTCCCCCCGGCCCTGCTGGCTTTGCTGGCCCCCCTGGTGCTGACGGCCAACCTGGTGCTAAAGGCGAACCTGGTGATGCTGGTGCTAAAGGCGATGCTGGTCCCCCTGGCCCTGCCGGACCCGCTGGACCCCCTGGCCCCATTGGTAATGTTGGTGCTCCTGGAGCCAAAGGTGCTCGCGGCAGCGCTGGTCCCCCTGGTGCTACTGGTTTCCCTGGTGCTGCTGGCCGAGTCGGTCCTCCTGGCCCCTCTGGAAATGCTGGACCCCCTGGCCCTCCTGGTCCTGCTGGCAAAGAAGGCGGCAAAGGTCCCCGTGGTGAGACTGGCCCTGCTGGACGTCCTGGTGAAGTTGGTCCCCCTGGTCCCCCTGGCCCTGCTGGCGAGAAAGGATCCCCTGGTGCTGATGGTCCTGCTGGTGCTCCTGGTACTCCCGGGCCTCAAGGTATTGCTGGACAGCGTGGTGTGGTCGGCCTGCCTGGTCAGAGAGGAGAGAGAGGCTTCCCTGGTCTTCCTGGCCCCTCTGGTGAACCTGGCAAACAAGGTCCCTCTGGAGCAAGTGGTGAACGTGGTCCCCCTGGTCCCATGGGCCCCCCTGGATTGGCTGGACCCCCTGGTGAATCTGGACGTGAGGGGGCTCCTGGTGCCGAAGGTTCCCCTGGACGAGACGGTTCTCCTGGCGCCAAGGGTGACCGTGGTGAGACCGGCCCCGCTGGACCCCCTGGTGCTCCTGGTGCTCCTGGTGCCCCTGGCCCCGTTGGCCCTGCTGGCAAGAGTGGTGATCGTGGTGAGACTGGTCCTGCTGGTCCCGCCGGTCCTGTCGGCCCTGTTGGCGCCCGTGGCCCCGCCGGACCCCAAGGCCCCCGTGGTGACAAGGGTGAGACAGGCGAACAGGGCGACAGAGGCATAAAGGGTCACCGTGGCTTCTCTGGCCTCCAGGGTCCCCCTGGCCCTCCTGGCTCTCCTGGTGAACAAGGTCCCTCTGGAGCCTCTGGTCCTGCTGGTCCCCGAGGTCCCCCTGGCTCTGCTGGTGCTCCTGGCAAAGATGGACTCAACGGTCTCCCTGGCCCCATTGGGCCCCCTGGTCCTCGCGGTCGCACTGGTGATGCTGGTCCTGTTGGTCCCCCCGGCCCTCCTGGACCTCCTGGTCCCCCTGGTCCTCCCAGCGCTGGTTTCGACTTCAGCTTCCTGCCCCAGCCACCTCAAGAGAAGGCTCACGATGGTGGCCGCTACTACCGGGCTGATGATGCCAATGTGGTTCGTGACCGTGACCTCGAGGTGGACACCACCCTCAAGAGCCTGAGCCAGCAGATCGAGAACATCCGGAGCCCAGAGGGCAGCCGCAAGAACCCCGCCCGCACCTGCCGTGACCTCAAGATGTGCCACTCTGACTGGAAGAGTGGAGAGTACTGGATTGACCCCAACCAAGGCTGCAACCTGGATGCCATCAAAGTCTTCTGCAACATGGAGACTGGTGAGACCTGCGTGTACCCCACTCAGCCCAGTGTGGCCCAGAAGAACTGGTACATCAGCAAGAACCCCAAGGACAAGAGGCATGTCTGGTTCGGCGAGAGCATGACCGATGGATTCCAGTTCGAGTATGGCGGCCAGGGCTCCGACCCTGCCGATGTGGCCATCCAGCTGACCTTCCTGCGCCTGATGTCCACCGAGGCCTCCCAGAACATCACCTACCACTGCAAGAACAGCGTGGCCTACATGGACCAGCAGACTGGCAACCTCAAGAAGGCCCTGCTCCTCCAGGGCTCCAACGAGATCGAGATCCGCGCCGAGGGCAACAGCCGCTTCACCTACAGCGTCACTGTCGATGGCTGCACGAGTCACACCGGAGCCTGGGGCAAGACAGTGATTGAATACAAAACCACCAAGACCTCCCGCCTGCCCATCATCGATGTGGCCCCCTTGGACGTTGGTGCCCCAGACCAGGAATTCGGCTTCGACGTTGGCCCTGTCTGCTTCCTGTAA\n"
     ]
    }
   ],
   "source": [
    "GI_id = \"NM_000088.3\"\n",
    "Entrez.email = \"Andrew.JudellHalf001@umb.edu\" # let NCBI know who you are\n",
    "handle = Entrez.efetch(db=\"nucleotide\", rettype=\"gb\", retmode=\"text\", id=GI_id) # db = database to query, rettype = retrieval type, retmode = retrieval mode \n",
    "seq_record = SeqIO.read(handle, \"gb\") #read the contents \"fetched\" from NCBI\n",
    "print seq_record\n",
    "print type(seq_record)\n",
    "handle.close()\n",
    "x = 0\n",
    "for f in seq_record.features: \n",
    "    x += 1\n",
    "    if f.type == \"CDS\":\n",
    "        cds_start = f.location.start\n",
    "        cds_end = f.location.end\n",
    "        regionplot =ntseq[cds_start:cds_end]\n",
    "# for each feature in this record's features, using the .features attribute of nt_seq_record\n",
    "    # ask if the feature is a CDS, using the .type attribute of the feature\n",
    "        # if so, assign the start location to the variable cds_start, using the .location.start attribute of the feature\n",
    "        # if so, assign the end location to the variable cds_end, using the .location.end attribute of the feature\n",
    "# print the value of cds_start\n",
    "# print the value of cds_end\n",
    "print cds_start\n",
    "print cds_end\n",
    "print regionplot"
   ]
  },
  {
   "cell_type": "code",
   "execution_count": 149,
   "metadata": {
    "collapsed": false,
    "slideshow": {
     "slide_type": "-"
    }
   },
   "outputs": [
    {
     "data": {
      "image/png": "[encoded data removed]",
      "text/plain": [
       "<matplotlib.figure.Figure at 0x7f0b5881da10>"
      ]
     },
     "metadata": {},
     "output_type": "display_data"
    }
   ],
   "source": [
    "import matplotlib.pyplot as plt # import a set of code written for generating graphics and tell the computer how to display graphs\n",
    "#%pylab inline\n",
    "\n",
    "plt.plot(Y) # plot the values of region\n",
    "plt.axhline(0, color='black') # forces the y-axis to start at 0\n",
    "plt.axhline(50, color='red') # add a red line representing the average GC content of the entire sequence\n",
    "\n",
    "plt.axvspan(cds_start, cds_end, facecolor='grey', alpha=0.05) # create a grey region corresponding to the coding region\n",
    "plt.ylabel(\"Percent\") # label the y-axis\n",
    "plt.xlabel(\"nt position (5'-3')\") # label the x-axis\n",
    "plt.title(\"GC percentage of \" + ntid + \"\\n calculated over 50 nt regions\") # add a title\n",
    "plt.show()"
   ]
  },
  {
   "cell_type": "markdown",
   "metadata": {},
   "source": [
    "#### Q5: Are there noticeable differences in the GC content between the different regions of the mRNA sequence? Explain."
   ]
  },
  {
   "cell_type": "raw",
   "metadata": {},
   "source": []
  },
  {
   "cell_type": "code",
   "execution_count": null,
   "metadata": {
    "collapsed": false
   },
   "outputs": [],
   "source": [
    "%matplotlib inline \n",
    "import numpy as np #linear algebra/vector/matrix tool\n",
    "import matplotlib.pyplot as plt #plot tool\n",
    "\n",
    "x = np.random.randn(100,1) #length 100 normal random variable vector\n",
    "y = x**2 #square each element of x\n",
    "plt.scatter(x,y)"
   ]
  },
  {
   "cell_type": "markdown",
   "metadata": {},
   "source": [
    "That's all folks!  \n",
    "Please save your notebook and upload the notebook to Blackboard."
   ]
  }
 ],
 "metadata": {
  "kernelspec": {
   "display_name": "Python 2",
   "language": "python",
   "name": "python2"
  },
  "language_info": {
   "codemirror_mode": {
    "name": "ipython",
    "version": 2
   },
   "file_extension": ".py",
   "mimetype": "text/x-python",
   "name": "python",
   "nbconvert_exporter": "python",
   "pygments_lexer": "ipython2",
   "version": "2.7.10"
  }
 },
 "nbformat": 4,
 "nbformat_minor": 0
}
