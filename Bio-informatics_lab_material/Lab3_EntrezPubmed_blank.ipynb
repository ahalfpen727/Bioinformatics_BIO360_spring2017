{
 "metadata": {
  "name": ""
 },
 "nbformat": 3,
 "nbformat_minor": 0,
 "worksheets": [
  {
   "cells": [
    {
     "cell_type": "heading",
     "level": 2,
     "metadata": {},
     "source": [
      "Lab 3: Database Searching Using Biopython"
     ]
    },
    {
     "cell_type": "heading",
     "level": 4,
     "metadata": {},
     "source": [
      "Enter your name below."
     ]
    },
    {
     "cell_type": "raw",
     "metadata": {},
     "source": []
    },
    {
     "cell_type": "heading",
     "level": 3,
     "metadata": {},
     "source": [
      "Part 1: Search NCBI's Gene database for genes involved in cystic fibrosis."
     ]
    },
    {
     "cell_type": "markdown",
     "metadata": {},
     "source": [
      "Your goal in this section is to use NCBI's Gene database to identify genes involved in cystic fibrosis in humans."
     ]
    },
    {
     "cell_type": "heading",
     "level": 5,
     "metadata": {},
     "source": [
      "1. Load the Biopython module \"Entrez\", enter your email address, then execute."
     ]
    },
    {
     "cell_type": "code",
     "collapsed": true,
     "input": [
      "from Bio import Entrez\n",
      "\n",
      "#Tell NCBI who you are\n",
      "Entrez.email = \"\""
     ],
     "language": "python",
     "metadata": {},
     "outputs": [],
     "prompt_number": 1
    },
    {
     "cell_type": "heading",
     "level": 5,
     "metadata": {},
     "source": [
      "2. Generate query and execute the search."
     ]
    },
    {
     "cell_type": "code",
     "collapsed": false,
     "input": [
      "db = \"gene\" #This is the database we want to search\n",
      "\n",
      "query = \"cystic fibrosis\" #This is the query\n",
      "\n",
      "#We'll use the function Entrez.esearch to search the pubmed database with our query\n",
      "h_search =  Entrez.esearch(db=db, term=query) #tell Entrez what database we want to search, who we are, and what we want to look for\n",
      "\n",
      "record = Entrez.read(h_search) #read the esearch record\n",
      "\n",
      "res_ids = record[\"IdList\"] #save the list of ids returned by our query to res_ids\n",
      "\n",
      "#print the list of ids"
     ],
     "language": "python",
     "metadata": {},
     "outputs": [],
     "prompt_number": 55
    },
    {
     "cell_type": "code",
     "collapsed": false,
     "input": [
      "#Use Entrez esummary to retrieve the record for the first id in the list \n",
      "summary = Entrez.esummary(db=db, id=res_ids[0])\n",
      "\n",
      "#Read the summary \n",
      "gene_summary = Entrez.read(summary)\n",
      "\n",
      "#and print it out\n",
      "\n"
     ],
     "language": "python",
     "metadata": {},
     "outputs": [],
     "prompt_number": 58
    },
    {
     "cell_type": "markdown",
     "metadata": {},
     "source": [
      "Q1: Name three data types you see in the printed output of gene_summary."
     ]
    },
    {
     "cell_type": "raw",
     "metadata": {},
     "source": []
    },
    {
     "cell_type": "heading",
     "level": 5,
     "metadata": {},
     "source": [
      "3. Analyze the results."
     ]
    },
    {
     "cell_type": "code",
     "collapsed": false,
     "input": [
      "for r_id in res_ids: #loop over pubmed IDs\n",
      "    summary = Entrez.esummary(db=db, id=r_id) #retrieve summary of document\n",
      "    gene_summary = Entrez.read(summary) #use biopython to parse the summary\n",
      "    #print gene_summary[0]\n",
      "    #print gene_summary[0]['Name']\n",
      "    #print gene_summary[0]['Description'] \n",
      "    #print gene_summary[0]['Orgname']\n",
      "    #print gene_summary[0]['Summary']\n",
      "    #print gene_summary[0]['OtherAliases']\n",
      "    #print '\\n'"
     ],
     "language": "python",
     "metadata": {},
     "outputs": [],
     "prompt_number": 61
    },
    {
     "cell_type": "markdown",
     "metadata": {},
     "source": [
      "Let's quantify the success of our query using true and false positive terminology.  \n",
      "Talk with your team and decide how you will categorize the results as true and false positives. Write your definitions below."
     ]
    },
    {
     "cell_type": "raw",
     "metadata": {},
     "source": [
      "A result is a true positive if \n",
      "A result is a false positive if "
     ]
    },
    {
     "cell_type": "markdown",
     "metadata": {},
     "source": [
      "Use a for loop to sort through the genes returned by your query. \n",
      "Assign the genes into true and false positive lists based on your criteria.\n",
      "Remember that Python considers the case of a string when checking equality.\n",
      "Hint - you can convert both the query and the subject to a lower case string using str.lower(\"YourString\")"
     ]
    },
    {
     "cell_type": "code",
     "collapsed": false,
     "input": [
      "true_positive = []\n",
      "false_positive = []\n",
      "for r_id in res_ids: #loop over pubmed IDs\n",
      "    summary = Entrez.esummary(db=db, id=r_id) #retrieve summary of document\n",
      "    gene_summary = Entrez.read(summary) #use biopython to parse the summary\n",
      "    #use an if statement to define the true positive classification, remember that Python considers the case of the string used   \n",
      "    #if the condition is met add the record to the true positive list\n",
      "    #if the condition is NOT met add the record to the false positive list\n"
     ],
     "language": "python",
     "metadata": {},
     "outputs": [],
     "prompt_number": 19
    },
    {
     "cell_type": "markdown",
     "metadata": {},
     "source": [
      "Q2: Why didn't we include any if statments for true or false negatives?"
     ]
    },
    {
     "cell_type": "raw",
     "metadata": {},
     "source": []
    },
    {
     "cell_type": "code",
     "collapsed": false,
     "input": [
      "#print out a statement describing how many of the results were true/false positives\n"
     ],
     "language": "python",
     "metadata": {},
     "outputs": [],
     "prompt_number": 62
    },
    {
     "cell_type": "code",
     "collapsed": false,
     "input": [
      "#Write a for loop to check if the gene cystic fibrosis transmembrane conductance regulator, \n",
      "#abbreviated \"CFTR\", was classified as a true positive and print out all the information about CFTR if it was found..\n",
      "#if so, print out all of the information on the gene\n"
     ],
     "language": "python",
     "metadata": {},
     "outputs": [],
     "prompt_number": 63
    },
    {
     "cell_type": "heading",
     "level": 3,
     "metadata": {},
     "source": [
      "2. Craft a PubMed query to return journal articles about CFTR."
     ]
    },
    {
     "cell_type": "markdown",
     "metadata": {},
     "source": [
      "Your goal in this section is to retrieve articles (either journal or review articels) about the cystic fibrosis transmembrane conductance regulator gene (\"CFTR\")."
     ]
    },
    {
     "cell_type": "markdown",
     "metadata": {},
     "source": [
      "The code in the following cell is complete - simply execute and observe."
     ]
    },
    {
     "cell_type": "code",
     "collapsed": false,
     "input": [
      "#This is the database we want to search\n",
      "db = \"pubmed\"\n",
      "\n",
      "#This is the query\n",
      "query = \"cystic fibrosis transmembrane conductance regulator\"\n",
      "\n",
      "#We'll use the function Entrez.esearch to search the pubmed database with our query\n",
      "h_search =  Entrez.esearch(db=db, term=query) #tell Entrez what database we want to search, who we are, \n",
      "\n",
      "record = Entrez.read(h_search)\n",
      "\n",
      "ids = record[\"IdList\"] #save the list of ids returned by our query to res_ids\n",
      "\n",
      "print ids #print the list of ids"
     ],
     "language": "python",
     "metadata": {},
     "outputs": [],
     "prompt_number": 71
    },
    {
     "cell_type": "markdown",
     "metadata": {},
     "source": [
      "How many records were returned? \n",
      "\n",
      "Don't count them yourself, write code below to find out!"
     ]
    },
    {
     "cell_type": "code",
     "collapsed": false,
     "input": [
      "\n"
     ],
     "language": "python",
     "metadata": {},
     "outputs": [],
     "prompt_number": 65
    },
    {
     "cell_type": "markdown",
     "metadata": {},
     "source": [
      "The code in the following cell is complete - simply execute and observe."
     ]
    },
    {
     "cell_type": "code",
     "collapsed": false,
     "input": [
      "#Use Entrez esummary to retrieve the record for the *first id* in the list \n",
      "summ = Entrez.esummary(db=db, id=ids[0])\n",
      "\n",
      "#Read the summary and print it out\n",
      "pub_summary = Entrez.read(summ)[0]\n",
      "print pub_summary"
     ],
     "language": "python",
     "metadata": {},
     "outputs": [],
     "prompt_number": 70
    },
    {
     "cell_type": "markdown",
     "metadata": {},
     "source": [
      "Q3: What part of the code in the previous cell (copy and paste it below), limited the results to the record corresponding to the *first* id in the list?"
     ]
    },
    {
     "cell_type": "raw",
     "metadata": {},
     "source": []
    },
    {
     "cell_type": "markdown",
     "metadata": {},
     "source": [
      "Q4: Modify the code in the following cell so that it prints out the record for the **3rd** id in the list."
     ]
    },
    {
     "cell_type": "code",
     "collapsed": false,
     "input": [
      "#Use Entrez esummary to retrieve the record for the *third id* in the list \n",
      "summ = Entrez.esummary(db=db, id=ids[0])\n",
      "\n",
      "#Read the summary and print it out\n",
      "pub_summary = Entrez.read(summ)[0]\n",
      "print pub_summary"
     ],
     "language": "python",
     "metadata": {},
     "outputs": []
    },
    {
     "cell_type": "code",
     "collapsed": false,
     "input": [
      "#print out a list of the elements in the record pub_summary\n",
      "#hint use .keys()\n"
     ],
     "language": "python",
     "metadata": {},
     "outputs": [],
     "prompt_number": 72
    },
    {
     "cell_type": "markdown",
     "metadata": {},
     "source": [
      "NCBI's PubMed database contains both primary and secondary research articles. Write a for loop to count the number of primary research articles ('Journal Article') and secondary research articles ('Review').   \n",
      "This information is contained in pub_summary[0]['PubTypeList']."
     ]
    },
    {
     "cell_type": "code",
     "collapsed": false,
     "input": [
      "count_journal = 0\n",
      "count_review = 0\n",
      "for r_id in res_ids: #loop over pubmed IDs\n",
      "    summary = Entrez.esummary(db=db, id=r_id) #retrieve summary of document\n",
      "    pub_summary = Entrez.read(summary)#use biopython to parse the summary\n",
      "    #ask if 'Journal Article' is in pub_summary[0]['PubTypeList']\n",
      "    #if so increase the value of count_journal by one\n",
      "    #ask if 'Review' is in pub_summary[0]['PubTypeList']\n",
      "    #if so increase the value of count_review by one\n",
      "    \n",
      "print \"Number of primary research articles:\", count_journal\n",
      "print \"Number of review articles:\", count_review"
     ],
     "language": "python",
     "metadata": {},
     "outputs": [],
     "prompt_number": 73
    },
    {
     "cell_type": "code",
     "collapsed": false,
     "input": [
      "#Generate a list of the titles of the publications\n",
      "title_list = []\n",
      "for r_id in res_ids: #loop over pubmed IDs\n",
      "    summary = Entrez.esummary(db=db, id=r_id) #retrieve summary of document\n",
      "    pub_summary = Entrez.read(summary) #use biopython to parse the summary\n",
      "    #print the title and a new line '\\n' for readability\n",
      "    #title_list.append(pub_summary[0]['Title'])#add the title to the list title_list"
     ],
     "language": "python",
     "metadata": {},
     "outputs": [],
     "prompt_number": 74
    },
    {
     "cell_type": "markdown",
     "metadata": {},
     "source": [
      "**Based on the titles of your results** - quantify the success of your query using true and false positive terminology.  \n",
      "Talk with your team and decide how you will categorize the results as true and false positives. Write your definitions below."
     ]
    },
    {
     "cell_type": "raw",
     "metadata": {},
     "source": [
      "A result is a true positive if \n",
      "A result is a false positive if "
     ]
    },
    {
     "cell_type": "code",
     "collapsed": false,
     "input": [
      "#Use a for loop to sort through the journal articles returned by your query. \n",
      "#Assign the titles into true and false positive lists based on your criteria.\n",
      "#Remember that Python considers the case of a string when checking equality.\n",
      "#Hint - you can convert both the query and the subject to a lower case string using str.lower(\"YourString\")\n",
      "\n",
      "true_positive = [] #an empty list to contain the titles of the true positives\n",
      "false_positive = [] #an empty list to contain the title of the false positives\n",
      "#loop through the elements of title_list\n",
      "    #use an if statement to define the true positive classification, remember that Python considers the case of the string use\n",
      "    #if the condition is met add the title to the true positive list\n",
      "    #else add the title to the list of false positives"
     ],
     "language": "python",
     "metadata": {},
     "outputs": [],
     "prompt_number": 49
    },
    {
     "cell_type": "code",
     "collapsed": false,
     "input": [
      "#print out a statement describing how many of the results were true/false positives\n"
     ],
     "language": "python",
     "metadata": {},
     "outputs": [],
     "prompt_number": 75
    },
    {
     "cell_type": "heading",
     "level": 4,
     "metadata": {},
     "source": [
      "That's all folks!!! Save and download your notebook, then upload it to Blackboard."
     ]
    }
   ],
   "metadata": {}
  }
 ]
}