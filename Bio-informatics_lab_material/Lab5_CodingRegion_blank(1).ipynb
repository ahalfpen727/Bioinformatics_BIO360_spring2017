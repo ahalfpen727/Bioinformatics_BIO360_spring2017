{
 "cells": [
  {
   "cell_type": "markdown",
   "metadata": {},
   "source": [
    "## Lab 4: Coding region and other mRNA features"
   ]
  },
  {
   "cell_type": "markdown",
   "metadata": {},
   "source": [
    "##### Q0: What's your name?"
   ]
  },
  {
   "cell_type": "raw",
   "metadata": {},
   "source": []
  },
  {
   "cell_type": "markdown",
   "metadata": {},
   "source": [
    "The purpose of this exercise is to retrieve your gene's mRNA sequence from Genbank and perform some preliminary analysis. You'll parse your gene using the \"Features\" annotations of its Genbank record."
   ]
  },
  {
   "cell_type": "markdown",
   "metadata": {},
   "source": [
    "##### Q1: What gene have you chosen for your final project?"
   ]
  },
  {
   "cell_type": "raw",
   "metadata": {},
   "source": [
    "RB1 -the first identified tumor suppressor gene"
   ]
  },
  {
   "cell_type": "markdown",
   "metadata": {},
   "source": [
    "###Query GenBank"
   ]
  },
  {
   "cell_type": "code",
   "execution_count": null,
   "metadata": {
    "collapsed": false
   },
   "outputs": [],
   "source": [
    "from Bio import Entrez # we'll import a set of code written for common biological applications\n",
    "from Bio import SeqIO"
   ]
  },
  {
   "cell_type": "code",
   "execution_count": null,
   "metadata": {
    "collapsed": false
   },
   "outputs": [],
   "source": [
    "GI_id = \"NM_000321\" # enter the accession # or GeneID for the mRNA sequence of your gene ***as a string***"
   ]
  },
  {
   "cell_type": "markdown",
   "metadata": {},
   "source": [
    "Documentation for efecth http://www.ncbi.nlm.nih.gov/books/NBK25499/#chapter4.EFetch  \n",
    "\n",
    "Code adapted from Biopython Tutorial, 5.3.1  Parsing GenBank records from the net"
   ]
  },
  {
   "cell_type": "code",
   "execution_count": null,
   "metadata": {
    "collapsed": false
   },
   "outputs": [],
   "source": [
    "Entrez.email = \"\" # let NCBI know who you are\n",
    "handle = Entrez.efetch(db=\"nucleotide\", rettype=\"gb\", retmode=\"text\", id=GI_id) # db = database to query, rettype = retrieval type, retmode = retrieval mode \n",
    "seq_record = SeqIO.read(handle, \"gb\") #read the contents \"fetched\" from NCBI\n",
    "handle.close()\n",
    "\n",
    "#print the contents of \"seq_record\"\n",
    "#print the type of data in \"seq_record\""
   ]
  },
  {
   "cell_type": "markdown",
   "metadata": {},
   "source": [
    "#### Q2: How many \"features\" does your gene have?"
   ]
  },
  {
   "cell_type": "raw",
   "metadata": {},
   "source": []
  },
  {
   "cell_type": "code",
   "execution_count": null,
   "metadata": {
    "collapsed": false
   },
   "outputs": [],
   "source": [
    "# print the number of features"
   ]
  },
  {
   "cell_type": "markdown",
   "metadata": {},
   "source": [
    "###Features\n",
    "Open the following documentation from INSDC, a collaborative effort from DDBJ/EMBL/GenBank databases to develop standards for feature annotation practices, and read about what features are and how to read this information.  http://www.insdc.org/documents/feature_table.html \n",
    "\n",
    "Understand the following info (or shared descriptors) for a feature: Type, Location and Qualifiers.\n",
    "\n",
    "Next, open up a web browser and navigate to NCBI Nucleotide to perform an interactive search for your gene. When you click to see the record for your gene, a Genbank record is displayed. Scroll down until you see the \"Features\" section.\n",
    "\n",
    "**Q3: What type of information is found here?**\n",
    " "
   ]
  },
  {
   "cell_type": "raw",
   "metadata": {},
   "source": []
  },
  {
   "cell_type": "markdown",
   "metadata": {},
   "source": [
    "Locate the feature called \"CDS\". \n",
    "\n",
    "**Q4: What does \"CDS\" mean?**"
   ]
  },
  {
   "cell_type": "raw",
   "metadata": {},
   "source": []
  },
  {
   "cell_type": "markdown",
   "metadata": {},
   "source": [
    "Next we'll loop over the features of your gene's genbank record and print each feature."
   ]
  },
  {
   "cell_type": "code",
   "execution_count": null,
   "metadata": {
    "collapsed": false
   },
   "outputs": [],
   "source": [
    "for f in seq_record.features: # for each feature \"f\" in this record's features\n",
    "# display the feature"
   ]
  },
  {
   "cell_type": "markdown",
   "metadata": {},
   "source": [
    "**Q5: What \"type\" of features are returned? You know about the \"CDS\" feature - are there other features you're unfamiliar with? If so look up those feature types in the URL above (INSDC) and make note below of the type of information each contains.**"
   ]
  },
  {
   "cell_type": "raw",
   "metadata": {},
   "source": []
  },
  {
   "cell_type": "markdown",
   "metadata": {},
   "source": [
    "Notice how each of the features has some shared descriptors: type, location, and qualifiers. For a given feature you can access the information in these descriptors directly.   \n",
    "For example, if I wanted to loop over all the features in a record and print out the type of each feature I would use a loop like this:"
   ]
  },
  {
   "cell_type": "code",
   "execution_count": null,
   "metadata": {
    "collapsed": false
   },
   "outputs": [],
   "source": [
    "for f in seq_record.features: # for each feature in this records features\n",
    "# print out the feature followed by its type"
   ]
  },
  {
   "cell_type": "markdown",
   "metadata": {},
   "source": [
    "If I wanted to print out the location of each feature I might use this loop:"
   ]
  },
  {
   "cell_type": "code",
   "execution_count": null,
   "metadata": {
    "collapsed": false
   },
   "outputs": [],
   "source": [
    "for f in seq_record.features: # for each feature in this records features\n",
    "# print out the type of feature"
   ]
  },
  {
   "cell_type": "markdown",
   "metadata": {},
   "source": [
    "Using the above two loops as a guide - write a for loop to print the location if the feature type is CDS. Since we're using an mRNA sequence, there should be only one CDS region in this Genbank record. **If there is more than one CDS feature listed in the Genbank record, see your TA before continuing on with the exercise.**"
   ]
  },
  {
   "cell_type": "code",
   "execution_count": null,
   "metadata": {
    "collapsed": false
   },
   "outputs": [],
   "source": [
    "for f in seq_record.features: # for each feature in this records features\n",
    "# ask if the feature is a CDS\n",
    "# if so print out the location of the feature"
   ]
  },
  {
   "cell_type": "markdown",
   "metadata": {},
   "source": [
    "**Q6: Compare the location of the CDS returned by Biopython to the location of the CDS according to the NCBI Nucleotide record for your gene. Are they the same? Explain any differences you see.**  \n",
    "\n",
    "Hint: Read the Biopython cookbook (http://biopython.org/DIST/docs/tutorial/Tutorial.html) section 4.3.3,  Sequence described by a feature or location."
   ]
  },
  {
   "cell_type": "raw",
   "metadata": {},
   "source": []
  },
  {
   "cell_type": "markdown",
   "metadata": {},
   "source": [
    "#### **Q7: Does the CDS region start at the first nucleotide of your mRNA sequence? Is the last nucleotide of the CDS region the last nucleotide of your mRNA sequence?   What is the region of the mRNA before the CDS called? What is the region of the mRNA following the CDS called?**"
   ]
  },
  {
   "cell_type": "raw",
   "metadata": {},
   "source": []
  },
  {
   "cell_type": "markdown",
   "metadata": {},
   "source": [
    "The location descriptor has some additional characteristics which are very useful. Suppose we want to retrieve the nucleotide sequence of CDS and assign it to a variable called CDS_seq. Notice that the CDS feature does not actually contain the nucleotide sequence of the CDS. Since the location of the CDS is defined relative to the sequence of the original record we can use the information in \"location\" to return the slice of the original sequence corresponding to the CDS. Since we've used an mRNA query, especifically a CDS, we don't have to deal with piecing together exons - this has already been done for us. \n",
    "\n",
    "But how do we retrieve the beginning and ending position from \\[###:###](+)? We'll see in later labs that we can use regular expressions to pieces of information out of a string without knowing beforehand the position of the information within the string. But we don't have to do that here. \n",
    "\n",
    "For example, if f.location is \\[297:369](+)  \n",
    "f.location.start will return 297.  \n",
    "f.location.end will return 369.\n",
    "\n",
    "Modify the for loop you wrote above (the one which prints the location if the feature type is CDS) - to assign the starting position of the CDS to the variable cds_start and to assign the ending position of the CDS to the variable cds_end."
   ]
  },
  {
   "cell_type": "code",
   "execution_count": null,
   "metadata": {
    "collapsed": false
   },
   "outputs": [],
   "source": [
    "for f in seq_record.features: # for each feature in this records features\n",
    "# ask if the feature is a CDS\n",
    "# if so, assign the start location to the variable cds_start\n",
    "# if so, assign the end location to the variable cds_end\n",
    "# print the value of cds_start\n",
    "# print the value of cds_end\n"
   ]
  },
  {
   "cell_type": "markdown",
   "metadata": {},
   "source": [
    "Use the variables cds_start and cds_end to slice the mRNA sequence of your gene into three pieces. The nucleotide sequence is found in seq_record.seq\n",
    "\n",
    "3 pieces:\n",
    "a. The 5' untranslated region. Call this variable \"fiveUTR_seq\". \n",
    "mRNA sequence from index 0 to begining of CDS region, inclusive.\n",
    "b. The coding sequence. Call this variable \"CDS_seq\"\n",
    "This is the entire CDS region which includes the stop codon (TAA, TAG, or TGA).\n",
    "c. The 3' UTR sequence. Call this variable \"threeUTR_seq\".\n",
    "mRNA sequence from end of CDS region to end of mRNA sequence.\n",
    "\n"
   ]
  },
  {
   "cell_type": "code",
   "execution_count": null,
   "metadata": {
    "collapsed": false
   },
   "outputs": [],
   "source": [
    "# assign the nucleotide sequence of your mRNA (seq_record.seq) to a variable mRNA_seq\n",
    "mRNA_seq = seq_record.seq\n",
    "\n",
    "# print the length of the mRNA sequence\n",
    "\n",
    "# slice mRNA_seq to return the portion of the mRNA sequence before the begining of the coding sequence, assign this sequence to a variable fiveUTR_seq\n",
    "\n",
    "# print the length of the 5' UTR sequence\n",
    "\n",
    "# slice mRNA_seq to return the portion of the mRNA sequence that is the coding sequence, assign this sequence to a variable CDS_seq\n",
    "\n",
    "# print the length of the coding sequence\n",
    "\n",
    "# slice mRNA_seq to return the portion of the mRNA sequence after the end of the coding sequence, assign this sequence to a variable threeUTR_seq\n",
    "\n",
    "# print the length of the 3' UTR sequence\n",
    "\n",
    "#check that the sum of the lengths of the 5'UTR, the coding region, and the 3'UTR are equal to the total length of the mRNA\n",
    "assert len(fiveUTR_seq) + len(CDS_seq) + len(threeUTR_seq) == len(mRNA_seq), \"Oooops counting mismatch, try again!\"\n"
   ]
  },
  {
   "cell_type": "markdown",
   "metadata": {},
   "source": [
    "Now that you've idenfitied the sequences corresponding to different parts of your gene - let's save these sequences as fasta files so that you can access them later.\n",
    "\n",
    "FASTA file format:\n",
    ">gi|2765658|emb|Z78533.1|CIZ78533 C.irapeanum 5.8S rRNA gene and ITS1 and ITS2 DNA\n",
    "CGTAACAAGGTTTCCGTAGGTGAACCTGCGGAAGGATCATTGATGAGACCGTGGAATAAACGATCGAGTG\n",
    "AATCCGGAGGACCGGTGTACTCAGCTCACCGGGGGCATTGCTCCCGTGGTGACCCTGATTTGTTGTTGGG\n",
    "..."
   ]
  },
  {
   "cell_type": "code",
   "execution_count": null,
   "metadata": {
    "collapsed": false
   },
   "outputs": [],
   "source": [
    "five_UTR_filename = GI_id + \"_5UTR_seq.fasta\" # make a name for the file where you'll save your gene's 5'UTR sequence\n",
    "CDS_filename = GI_id + \"_CDS_seq.fasta\" # make a name for the file where you'll save your gene's CDS\n",
    "three_UTR_filename = GI_id + \"_3UTR_seq.fasta\" # make a name for the file where you'll save your gene's 3'UTR sequence\n",
    "\n",
    "with open(five_UTR_filename, \"w\") as fivefile: # open a text file to write to (\"w\") and call it fivefile\n",
    "    header = \">\" + GI_id + \"_5UTR\" + '\\n' # create a fasta header describing the sequence that will follow\n",
    "    fivefile.write(header) # write the header to file\n",
    "    fivefile.write(str(fiveUTR_seq)) #note that the write funciton only accepts strings, so we need to convert the Biopython object containing the sequence to a string\n",
    "\n",
    "\n",
    "# open a text file to write to (\"w\") and call it cdsfile\n",
    "# create a fasta header describing the sequence that will follow\n",
    "# write the header to file\n",
    "#note that the write funciton only accepts strings, so we need to convert the Biopython object containing the sequence to a string    \n",
    "\n",
    "# open a text file to write to (\"w\") and call it threefile\n",
    "# create a fasta header describing the sequence that will follow\n",
    "# write the header to file\n",
    "#note that the write funciton only accepts strings, so we need to convert the Biopython object containing the sequence to a string\n"
   ]
  },
  {
   "cell_type": "markdown",
   "metadata": {},
   "source": [
    "That's all folks!  \n",
    "Please save your notebook and upload the notebook and your .fasta files to Blackboard. Be sure to save ALL of your files as you will be using this notebook for your final project and you'll use the .fasta files generated during this lab to complete next week's lab exercise."
   ]
  }
 ],
 "metadata": {
  "kernelspec": {
   "display_name": "Python 2",
   "language": "python",
   "name": "python2"
  },
  "language_info": {
   "codemirror_mode": {
    "name": "ipython",
    "version": 2
   },
   "file_extension": ".py",
   "mimetype": "text/x-python",
   "name": "python",
   "nbconvert_exporter": "python",
   "pygments_lexer": "ipython2",
   "version": "2.7.10"
  }
 },
 "nbformat": 4,
 "nbformat_minor": 0
}
