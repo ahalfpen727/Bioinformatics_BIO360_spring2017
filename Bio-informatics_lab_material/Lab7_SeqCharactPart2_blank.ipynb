{
 "cells": [
  {
   "cell_type": "markdown",
   "metadata": {},
   "source": [
    "## Lab 7: Sequence Characteristics, Part 2"
   ]
  },
  {
   "cell_type": "markdown",
   "metadata": {},
   "source": [
    "##### Q0: What's your name?"
   ]
  },
  {
   "cell_type": "raw",
   "metadata": {},
   "source": []
  },
  {
   "cell_type": "markdown",
   "metadata": {
    "slideshow": {
     "slide_type": "-"
    }
   },
   "source": [
    "### Predict characteristics of your protein"
   ]
  },
  {
   "cell_type": "markdown",
   "metadata": {},
   "source": [
    "* Retrieve a protein sequence from NCBI\n",
    "\n",
    "* Retrieve some of the properties of the sequence: molecular weight, aromaticity, isoelectric point, structure instability.\n",
    "\n",
    "* Plot proportion of amino acids, flexibility and hydrophobicity\n"
   ]
  },
  {
   "cell_type": "code",
   "execution_count": null,
   "metadata": {
    "collapsed": false
   },
   "outputs": [],
   "source": [
    "from Bio import Entrez # we'll import a set of code written for common biological applications\n",
    "from Bio import SeqIO"
   ]
  },
  {
   "cell_type": "code",
   "execution_count": null,
   "metadata": {
    "collapsed": false
   },
   "outputs": [],
   "source": [
    "prot_id = \"\" #the accession number of our protein of interest"
   ]
  },
  {
   "cell_type": "code",
   "execution_count": null,
   "metadata": {
    "collapsed": false
   },
   "outputs": [],
   "source": [
    "Entrez.email = \"\" # let NCBI know who you are\n",
    "handle = Entrez.efetch(db=\"protein\", rettype=\"gb\", retmode=\"text\", id=prot_id) # db = database to query, rettype = retrieval type, retmode = retrieval mode \n",
    "seq_record = SeqIO.read(handle, \"gb\") # read the contents \"fetched\" from NCBI\n",
    "handle.close()"
   ]
  },
  {
   "cell_type": "code",
   "execution_count": null,
   "metadata": {
    "collapsed": false
   },
   "outputs": [],
   "source": [
    "protdes = seq_record.description # assign the protein's description to protdes\n",
    "# print the protein  description\n",
    "\n",
    "protseq = seq_record.seq # pull out the sequence associated with this record\n",
    "# print the amino acid sequence\n",
    "\n",
    "# print the number of amino acids in the sequence"
   ]
  },
  {
   "cell_type": "markdown",
   "metadata": {},
   "source": [
    "Biopython's SeqUtils module contains functions for estimating properties of your protein.   \n",
    "You can find more information on the class ProteinAnalysis here:  \n",
    "http://biopython.org/DIST/docs/api/Bio.SeqUtils.ProtParam.ProteinAnalysis-class.html. \n",
    "\n",
    "Only run the following code cell, nothing needs to be added."
   ]
  },
  {
   "cell_type": "code",
   "execution_count": null,
   "metadata": {
    "collapsed": false
   },
   "outputs": [],
   "source": [
    "from Bio.SeqUtils.ProtParam import ProteinAnalysis\n",
    "from Bio.SeqUtils import ProtParamData\n",
    "from Bio import SeqIO\n",
    "\n",
    "prot = ProteinAnalysis(str(protseq))\n",
    "\n",
    "print \"The predicted molecular weight of\", prot_id, \"is\", prot.molecular_weight(), \"Daltons\" # molecular weight of your protein in Daltons\n",
    "print \"The relative frequency of phenylalanine, tryptophan, and tyrosine (\\\"aromaticity\\\") in\", prot_id, \"is\", prot.aromaticity() # the relative frequency of Phe+Trp+Tyr\n",
    "print \"The predicted isoelectric point of\", prot_id, \"is\", prot.isoelectric_point() # the pH at which the protein has no net charge\n",
    "print \"The instability index of\", prot_id, \"is\", prot.instability_index()  # predicts the instability of the protein, values over 40 suggest an unstable structure \n",
    "\n",
    "print round(prot.secondary_structure_fraction()[0]*100, 1), \"% of amino acids in\", prot_id, \"tend to form helices.\" # returns a tuple of the fraction of amino acids which tend to form helixes, turns or sheets.\n",
    "print round(prot.secondary_structure_fraction()[1]*100, 1), \"% of amino acids in\", prot_id, \"tend to form turns.\"\n",
    "print round(prot.secondary_structure_fraction()[2]*100, 1), \"% of amino acids in\", prot_id, \"tend to form sheets.\" "
   ]
  },
  {
   "cell_type": "markdown",
   "metadata": {},
   "source": [
    "Display the data type for the object prot"
   ]
  },
  {
   "cell_type": "code",
   "execution_count": null,
   "metadata": {
    "collapsed": false
   },
   "outputs": [],
   "source": []
  },
  {
   "cell_type": "markdown",
   "metadata": {},
   "source": [
    "#### Q6: Briefly discuss the relevance of the above characteristics to the biology of your protein."
   ]
  },
  {
   "cell_type": "raw",
   "metadata": {},
   "source": []
  },
  {
   "cell_type": "markdown",
   "metadata": {},
   "source": [
    "####Q7: If the amino acids were evenly distributed in your protein, code to express aromaticity of your protein sequence in counts of amino acids Phe,Trp,Tyr, not in percentage as done in method aromaticity( )."
   ]
  },
  {
   "cell_type": "code",
   "execution_count": null,
   "metadata": {
    "collapsed": false
   },
   "outputs": [],
   "source": []
  },
  {
   "cell_type": "markdown",
   "metadata": {},
   "source": [
    "Next generate a graph, with the number of times each amino acid occurs displayed as a percentage of your protein's overall length. \n",
    "\n",
    "Only run the following code cell, nothing needs to be added. Read through and make sure you understand what is happening at each step."
   ]
  },
  {
   "cell_type": "code",
   "execution_count": null,
   "metadata": {
    "collapsed": false
   },
   "outputs": [],
   "source": [
    "import matplotlib.pyplot as plt # import a set of code written for generating graphics and tell the computer how to display graphs\n",
    "%pylab inline\n",
    "\n",
    "percaa = prot.get_amino_acids_percent() # returns a dictionary of the number of times each aa occurs in your protein sequence\n",
    "amino_a = arange(20) # the x-axis has twenty positions, one for each of the 20 amino acids\n",
    "bar(amino_a, percaa.values()) # chart will be a bar chart, containing amino acids on the x-axis and count as percent of length of the sequence on the y-axis\n",
    "xticks(amino_a + 0.5, percaa.keys()) # label the x-axis with the amino acids in the same order as in the counts list\n",
    "title(\"Amino acid composition of \" + prot_id) #add a title to the graph\n",
    "ylabel(\"Proportion\") #label the y-axis\n",
    "show()"
   ]
  },
  {
   "cell_type": "markdown",
   "metadata": {},
   "source": [
    "#### Q8: Based on the graph you've generated, do the amino acids appear with equal frequency within your protein? What type of amino acids appear over or under represented?"
   ]
  },
  {
   "cell_type": "raw",
   "metadata": {},
   "source": []
  },
  {
   "cell_type": "markdown",
   "metadata": {},
   "source": [
    "Next generate a graph, with the predicted flexibility values plotted over the length of your protein sequence. Regions with a flexibility index less than 1 are classified as rigid.\n",
    "\n",
    "Only run the following code cell, nothing needs to be added. Read through and make sure you understand what is happening at each step."
   ]
  },
  {
   "cell_type": "code",
   "execution_count": null,
   "metadata": {
    "collapsed": false
   },
   "outputs": [],
   "source": [
    "import matplotlib.pyplot as plt # import a set of code written for generating graphics and tell the computer how to display graphs\n",
    "%pylab inline\n",
    "\n",
    "flex = prot.flexibility()\n",
    "\n",
    "plt.plot(flex) # plot the flexibility values\n",
    "plt.axhline(0, color='black') # forces the y-axis to start at 0\n",
    "plt.ylabel(\"flexibility value\") # label the y-axis\n",
    "plt.xlabel(\"amino acid position\") # label the x-axis\n",
    "plt.title(\"Predicted flexibility of  \" + prot_id) # add a title\n",
    "plt.show()"
   ]
  },
  {
   "cell_type": "markdown",
   "metadata": {},
   "source": [
    "#### Q9: Do the predicted flexibility scores differ over the length of your protein?"
   ]
  },
  {
   "cell_type": "raw",
   "metadata": {},
   "source": []
  },
  {
   "cell_type": "markdown",
   "metadata": {},
   "source": [
    "The distribution of hydrophobic/hydrophilic amino acids throughout a protein sequence is associated with a protein's three-dimensional structure.   \n",
    "\n",
    "We'll loop over the amino acids in the protein, look up the hydrophobicity value of the amino acid, and generate a graph of the hydrophobicity values across the length of the protein sequence.  "
   ]
  },
  {
   "cell_type": "markdown",
   "metadata": {},
   "source": [
    "First, we'll generate a dictionary of the amino acids and their hydrophobicity values . . .\n",
    "\n",
    "Only run the following code cell, nothing needs to be added."
   ]
  },
  {
   "cell_type": "code",
   "execution_count": null,
   "metadata": {
    "collapsed": false
   },
   "outputs": [],
   "source": [
    "hydro = {\"I\":4.5, \"V\":4.2, \"L\":3.8, \"F\":2.8, \"C\":2.5, \"M\":1.9, \"A\":1.8, \"G\":-0.4, \"T\":-0.7, \"S\":-0.8, \"W\":-0.9, \"Y\":-1.3, \"P\":-1.6, \"H\":-3.2, \"E\":-3.5, \"Q\":-3.5, \"D\":-3.5, \"N\":-3.5, \"K\":-3.9, \"R\":-4.5}\n",
    "print len(hydro)"
   ]
  },
  {
   "cell_type": "markdown",
   "metadata": {},
   "source": [
    "The more positive the number the more hydrophobic the amino acid.  \n",
    "The hydrophobicity values were derived from Kyte J, Doolittle RF. (1982) A simple method for displaying the hydropathic character of a protein. J Mol Biol. 157(1):105-32."
   ]
  },
  {
   "cell_type": "markdown",
   "metadata": {},
   "source": [
    "Loop over the amino acids in the protein sequence, then look up the amino acid in the hydrophobicity dictionary."
   ]
  },
  {
   "cell_type": "code",
   "execution_count": null,
   "metadata": {
    "collapsed": false
   },
   "outputs": [],
   "source": [
    "# hvalues is a empty list to hold the hydrophobicity values along the length of the protein\n",
    "# for each amino acid in the protein sequence, protseq\n",
    "    # ask if the amino acid is in the dictionary's keys\n",
    "        # if so, print the amino acid and it's hydrophobicity value\n",
    "        # add the hydrophobicity value to the list hvalues\n",
    "    # if the amino acid is NOT in the dictionary's keys \n",
    "        print \"Amino acid\", aa, \"not in dictionary.\" # print out a warning\n",
    "        break # stop the flow of the for loop\n",
    "\n",
    "# Outside the for loop,\n",
    "# print how many amino acids in your protein sequence were \n",
    "# analysed for hydrophobicity"
   ]
  },
  {
   "cell_type": "markdown",
   "metadata": {},
   "source": [
    "Now, let's generate a graph."
   ]
  },
  {
   "cell_type": "markdown",
   "metadata": {},
   "source": [
    "Ploting the hydrophobicity of each position in the protein sequence results in a noisy graph. Let's calculate the average hydrophobicity over a sliding window 20 aa in length, and include a red line on the graph at 1.6 on the hydrophobicity scale. Regions with hydrophobicity values greater than 1.6 are more likely to be transmembrane domains."
   ]
  },
  {
   "cell_type": "code",
   "execution_count": null,
   "metadata": {
    "collapsed": false
   },
   "outputs": [],
   "source": [
    "window_len = 20 # define the length of the window\n",
    "smooth_hydro = []# smooth_hydro = a list to hold the moving average values\n",
    "for i in range(len(hvalues)-window_len): # for each number in a list\n",
    "    # set the hydrophobicity value, hval, to 0\n",
    "    for v in hvalues[i:i+window_len]:# for each aa in window\n",
    "        # increment the value of hval by v\n",
    "    avh = hval/len(protseq[i:i+window_len]) # when the loop over the slice is complete, calculate the average hydrophobicity value of the region\n",
    "    # add the average to the list smooth_hydro\n",
    "    \n",
    "# Outside the for loop, print the average hydrophobicity of the sequence"
   ]
  },
  {
   "cell_type": "markdown",
   "metadata": {},
   "source": [
    "We'll generate a graph of the smoothed values.\n",
    "\n",
    "Only run the following code cell, nothing needs to be added."
   ]
  },
  {
   "cell_type": "code",
   "execution_count": null,
   "metadata": {
    "collapsed": false
   },
   "outputs": [],
   "source": [
    "import matplotlib.pyplot as plt # import a set of code written for generating graphics and tell the computer how to display graphs\n",
    "%pylab inline\n",
    "\n",
    "plt.plot(smooth_hydro) # plot the value of smooth_hydro\n",
    "plt.axhline(0, color='grey') # add a horizontal grey line at y=0\n",
    "plt.axhline(1.6, color='red')# add a horizontal red line at y=1.6\n",
    "plt.ylabel('Hydrophobicity') # add a label to the y-axis\n",
    "plt.xlabel('Amino acid position') # add a label to the x-axis\n",
    "plt.title(\"Kyte Doolittle Hydrophobicity of \" + prot_id + \"\\n 20 nt sliding window\") # add a title to the graph\n",
    "plt.show()"
   ]
  },
  {
   "cell_type": "markdown",
   "metadata": {},
   "source": [
    "#### Q10: Based on the graph you've generated, do you think there are any transmembrane domains in your protein? Explain."
   ]
  },
  {
   "cell_type": "raw",
   "metadata": {},
   "source": []
  },
  {
   "cell_type": "markdown",
   "metadata": {},
   "source": [
    "That's all folks!  \n",
    "Please save your notebook and upload the notebook to Blackboard."
   ]
  }
 ],
 "metadata": {
  "kernelspec": {
   "display_name": "Python 2",
   "language": "python",
   "name": "python2"
  },
  "language_info": {
   "codemirror_mode": {
    "name": "ipython",
    "version": 2
   },
   "file_extension": ".py",
   "mimetype": "text/x-python",
   "name": "python",
   "nbconvert_exporter": "python",
   "pygments_lexer": "ipython2",
   "version": "2.7.10"
  }
 },
 "nbformat": 4,
 "nbformat_minor": 0
}
