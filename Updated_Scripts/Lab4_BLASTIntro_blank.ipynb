{
 "cells": [
  {
   "cell_type": "markdown",
   "metadata": {},
   "source": [
    "# Lab 4: Introduction to BLAST Using Biopython"
   ]
  },
  {
   "cell_type": "markdown",
   "metadata": {},
   "source": [
    "\n",
    "Imagine that you have isolated an unknown protein from an organism you’re studying, and you want to learn more about it. You know the protein’s sequence, but nothing about its function. How would you go about learning more about it? Alternatively, what if you know the identity of your protein and its function, but want to know how important it is to the survival of the organism?\n",
    "\n",
    "Often, the most logical first step for problems like this is to perform a similarity search using a tool like BLAST at NCBI. BLAST has access to sequences from many different databases, and can help you find other sequences that are closely related to your sequence. This can be helpful in multiple ways. For problems like the first described above, it may allow you to find sequences that are similar to yours and have a known function, which can give you a clue about the function of your protein. For the second problem, it can tell you something about how conserved your protein is, and therefore how essential it is to the survival of the organism. If your BLAST search returns a large number of very similar sequences, it is likely that your sequence is conserved – and important to the organism’s continued survival.\n",
    "\n",
    "As you can see, BLAST is quite a useful tool for biologists. In today’s lab exercise, you’ll get a chance to experiment with BLASTing a sequence and seeing what you can learn about the sequence by doing so. Additionally, you’ll work with different parameters for your BLAST searches, in order to get an idea of how changing those parameters changes your results, both in terms of the results (or “hits”) that you get, and in terms of how closely related (evolutionarily) those matches are considered to be to your sequence. You may find the “Taxonomy Report” useful for this aspect.\n"
   ]
  },
  {
   "cell_type": "markdown",
   "metadata": {},
   "source": [
    "## Part 1"
   ]
  },
  {
   "cell_type": "markdown",
   "metadata": {},
   "source": [
    "\n",
    "Your group will BLAST a gene and its associated protein using several different sets of parameters. We'll be using Biopython to do the BLASTs.\n",
    "\n",
    "Here is a list of commands you can use to refine your search:\n",
    "    program        blastn, blastp, blastx, tblastn, or tblastx (lower case)  \n",
    "    \n",
    "    database       Which database to search against (e.g. \"nr\").  \n",
    "    \n",
    "    sequence       The sequence to search.   \n",
    "    \n",
    "    descriptions   Number of descriptions to show.  Def 500.  \n",
    "    \n",
    "    alignments     Number of alignments to show.  Def 500.  \n",
    "    \n",
    "    expect         An expect value cutoff.  Def 10.0.  \n",
    "    \n",
    "    matrix_name    Specify an alt. matrix (PAM30, PAM70, BLOSUM80, BLOSUM45).  \n",
    "    \n",
    "    filter         \"none\" turns off filtering.  Default no filtering  \n",
    "\n",
    "    entrez_query   Entrez query to limit Blast search  \n",
    "    \n",
    "    hitlist_size   Number of hits to return. Default 50  \n",
    "    \n",
    "    megablast      TRUE/FALSE whether to use MEga BLAST algorithm (blastn only)  \n",
    "\n",
    "    \n",
    "The accession number for the protein sequence you'll be working with is **NP_000312**."
   ]
  },
  {
   "cell_type": "markdown",
   "metadata": {},
   "source": [
    "#### Q1: For the protein with accession number NP_000312, what is a) the name of the protein, b) its function, and c) the accession number of the gene encoding it?"
   ]
  },
  {
   "cell_type": "raw",
   "metadata": {},
   "source": []
  },
  {
   "cell_type": "code",
   "execution_count": null,
   "metadata": {
    "collapsed": false
   },
   "outputs": [],
   "source": [
    "from Bio.Blast import NCBIWWW, NCBIXML"
   ]
  },
  {
   "cell_type": "markdown",
   "metadata": {},
   "source": [
    "First, let's do an example Web BLAST using Biopython. The NCBIWWW module connects remotely to NCBI, tells it to do the BLAST using the parameters passed to the qblast function, and then returns the results of the BLAST search.\n",
    "\n",
    "To parse the results, we'll use the NCBIXML module, which reads the results and converts them to XML format."
   ]
  },
  {
   "cell_type": "code",
   "execution_count": null,
   "metadata": {
    "collapsed": false
   },
   "outputs": [],
   "source": [
    "results = NCBIWWW.qblast(program = \"blastn\", database = \"refseq_rna\", \n",
    "                         sequence = \"8332116\", hitlist_size=100)\n",
    "blast_record = NCBIXML.read(results)"
   ]
  },
  {
   "cell_type": "markdown",
   "metadata": {},
   "source": [
    "Now let's print out some useful info from our blast record. Blast records score hits as a series of alignment objects, from which you can access the high-scoring seqment pairs (HSPs) for that alignment. You can then access the statistics (score, E value, etc.) for that HSP.\n",
    "\n",
    "One thing you may notice is that HSPs don't have the \"percent identity\" attribute that you are used to seeing when running BLASTs. They do, however, have an attribute for the *number* of matching identities, as well as for the sequence. So, to get the percent identity, all I had to do was divide the number of identities by the length of the query sequence."
   ]
  },
  {
   "cell_type": "code",
   "execution_count": null,
   "metadata": {
    "collapsed": false
   },
   "outputs": [],
   "source": [
    "for alignment in blast_record.alignments:\n",
    "    for hsp in alignment.hsps:\n",
    "        print('Description:', alignment.title)\n",
    "        print('Score:', hsp.score)\n",
    "        print('E value:', hsp.expect)\n",
    "        print('Percent Id:', (hsp.identities) / len(hsp.query) * 100, '%', '\\n')"
   ]
  },
  {
   "cell_type": "markdown",
   "metadata": {},
   "source": [
    "Now it's your turn. Using the syntax in the two code cells above, use Biopython and BLAST NP_000312 by using the \"refseq_protein\" database. Change the program to blastp so you can work with the protein sequence. For the sequence argument, you can use either the protein sequence itself or the accession number NP_000312."
   ]
  },
  {
   "cell_type": "code",
   "execution_count": null,
   "metadata": {
    "collapsed": false
   },
   "outputs": [],
   "source": [
    "# Put your Blast code here.\n",
    "results = NCBIWWW.qblast(program = \"blastp\", database = \"refseq_protein\", \n",
    "                         sequence = \"NP_000312\", hitlist_size=20) \n",
    "blast_record = NCBIXML.read(results)"
   ]
  },
  {
   "cell_type": "markdown",
   "metadata": {},
   "source": [
    "Now repeat the search, but change the substitution matrix to\n",
    "\n",
    "a) BLOSUM45  \n",
    "b) BLOSUM80  \n",
    "c) PAM30  \n",
    "d) PAM70  "
   ]
  },
  {
   "cell_type": "code",
   "execution_count": null,
   "metadata": {
    "collapsed": false
   },
   "outputs": [],
   "source": [
    "# Put your code for a) here"
   ]
  },
  {
   "cell_type": "code",
   "execution_count": null,
   "metadata": {
    "collapsed": false
   },
   "outputs": [],
   "source": [
    "# Put your code for b) here"
   ]
  },
  {
   "cell_type": "code",
   "execution_count": null,
   "metadata": {
    "collapsed": false
   },
   "outputs": [],
   "source": [
    "# Put your code for c) here"
   ]
  },
  {
   "cell_type": "code",
   "execution_count": null,
   "metadata": {
    "collapsed": false
   },
   "outputs": [],
   "source": [
    "# Put your code for d) here"
   ]
  },
  {
   "cell_type": "markdown",
   "metadata": {},
   "source": [
    "#### Q2: For each search, explain how changing the substitution matrix altered your results. Which search is the most sensitive, and which is the least sensitive? (If necessary, you can increase the maximum number of results to get a better idea of how different scoring matrices affect your results.)"
   ]
  },
  {
   "cell_type": "raw",
   "metadata": {},
   "source": []
  },
  {
   "cell_type": "markdown",
   "metadata": {},
   "source": [
    "Look up the mRNA sequence for your protein, and use it to do a blastn search."
   ]
  },
  {
   "cell_type": "code",
   "execution_count": null,
   "metadata": {
    "collapsed": false
   },
   "outputs": [],
   "source": [
    "# Put your blastn code here"
   ]
  },
  {
   "cell_type": "markdown",
   "metadata": {},
   "source": [
    "#### Q3:  a) How do the results compare to the results you obtained from blastp? b) Is blastn better suited to finding closely related genes or distantly related ones?"
   ]
  },
  {
   "cell_type": "raw",
   "metadata": {},
   "source": []
  },
  {
   "cell_type": "markdown",
   "metadata": {},
   "source": [
    "Change the search program to megablast and run another search using your mRNA sequence. (Note: to do this, set the BLAST program to **blastn** and set the megablast parameter to **TRUE**."
   ]
  },
  {
   "cell_type": "code",
   "execution_count": null,
   "metadata": {
    "collapsed": false
   },
   "outputs": [],
   "source": [
    "# Put your megablast code here"
   ]
  },
  {
   "cell_type": "markdown",
   "metadata": {},
   "source": [
    "#### Q4: What do you notice about your megablast results compared to blastn? What happens if you change the word size to 128 or 256? What if you change it to 16?"
   ]
  },
  {
   "cell_type": "raw",
   "metadata": {},
   "source": []
  },
  {
   "cell_type": "markdown",
   "metadata": {},
   "source": [
    "Predict what will happen to your results if you run your search again using one of the following programs: blastx, tblastn, or tblastx."
   ]
  },
  {
   "cell_type": "markdown",
   "metadata": {},
   "source": [
    "#### Q5: Which program did you choose, and what is your prediction for that program? How do you think the sensitivity of this search will compare to the sensitivity of your other searches? Justify your prediction."
   ]
  },
  {
   "cell_type": "raw",
   "metadata": {},
   "source": []
  },
  {
   "cell_type": "markdown",
   "metadata": {},
   "source": [
    "Now that you know more about how BLAST works, design a search that will be best suited to finding sequences that are close relatives of your protein. To confirm that your search is optimized for closely related sequences, note the E-value of the most distant hit."
   ]
  },
  {
   "cell_type": "code",
   "execution_count": null,
   "metadata": {
    "collapsed": false
   },
   "outputs": [],
   "source": [
    "# Put your closely-related sequence code here."
   ]
  },
  {
   "cell_type": "markdown",
   "metadata": {},
   "source": [
    "#### E value of most distant hit:"
   ]
  },
  {
   "cell_type": "raw",
   "metadata": {},
   "source": []
  },
  {
   "cell_type": "markdown",
   "metadata": {},
   "source": [
    "Next, design a search that will find distant hits for your protein."
   ]
  },
  {
   "cell_type": "code",
   "execution_count": null,
   "metadata": {
    "collapsed": false
   },
   "outputs": [],
   "source": [
    "# Put your distantly-related sequence code here."
   ]
  },
  {
   "cell_type": "markdown",
   "metadata": {},
   "source": [
    "#### E value of most distant hit:"
   ]
  },
  {
   "cell_type": "raw",
   "metadata": {},
   "source": []
  },
  {
   "cell_type": "markdown",
   "metadata": {},
   "source": [
    "#### Q6: What is the most distant hit of this search, and do you think it is really homologous to your protein? Why or why not?"
   ]
  },
  {
   "cell_type": "raw",
   "metadata": {},
   "source": []
  },
  {
   "cell_type": "markdown",
   "metadata": {},
   "source": [
    "## Part 2"
   ]
  },
  {
   "cell_type": "markdown",
   "metadata": {},
   "source": [
    "For Part 2 of this exercise, we won't be using Biopython. Instead, we'll go to [NCBI's web BLAST tool](http://www.ncbi.nlm.nih.gov/BLAST/Blast.cgi) and do some pairwise alignments (see handout). Save your answers in a text file."
   ]
  }
 ],
 "metadata": {
  "anaconda-cloud": {},
  "kernelspec": {
   "display_name": "Python [conda root]",
   "language": "python",
   "name": "conda-root-py"
  },
  "language_info": {
   "codemirror_mode": {
    "name": "ipython",
    "version": 3
   },
   "file_extension": ".py",
   "mimetype": "text/x-python",
   "name": "python",
   "nbconvert_exporter": "python",
   "pygments_lexer": "ipython3",
   "version": "3.5.2"
  }
 },
 "nbformat": 4,
 "nbformat_minor": 0
}
