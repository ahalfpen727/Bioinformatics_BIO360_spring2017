{
 "cells": [
  {
   "cell_type": "markdown",
   "metadata": {},
   "source": [
    "# Lab 2.5: Python Practice"
   ]
  },
  {
   "cell_type": "markdown",
   "metadata": {},
   "source": [
    "We're going to practice using some basic Python tools today. In a wet lab, before you can start to do cool experiments, you need to get comfortable using the tools you need to perform those experiments. The same holds true in bioinformatics: before you can write programs to solve interesting biological problems, you need to familarize yourself with the programming tools at your disposal.\n",
    "\n",
    "While you are going through the exercise, **make sure you read all the comments**. Some of them contain instructions for you to follow; others will help you better understand what is going on in the code."
   ]
  },
  {
   "cell_type": "markdown",
   "metadata": {},
   "source": [
    "## Part 1: Variables, Strings, Data Types, Numbers"
   ]
  },
  {
   "cell_type": "code",
   "execution_count": null,
   "metadata": {
    "collapsed": false
   },
   "outputs": [],
   "source": [
    "# store a short DNA sequence in the variable dna_seq\n",
    "dna_seq = \"ATGCGGTA\"\n",
    "# now print the DNA sequence\n",
    "print(dna_seq)"
   ]
  },
  {
   "cell_type": "markdown",
   "metadata": {},
   "source": [
    "#### Q1: Will the code in the cell below run? Why or why not? If it won't run, how can you fix it so that it will?"
   ]
  },
  {
   "cell_type": "raw",
   "metadata": {},
   "source": []
  },
  {
   "cell_type": "code",
   "execution_count": null,
   "metadata": {
    "collapsed": false
   },
   "outputs": [],
   "source": [
    "ATGCGGTA=8\n",
    "print(ATGCGTA)"
   ]
  },
  {
   "cell_type": "code",
   "execution_count": null,
   "metadata": {
    "collapsed": false
   },
   "outputs": [],
   "source": [
    "print(\"dna_seq:\", dna_seq)\n",
    "\n",
    "# print the first letter of dna_seq (remember, Python uses 0-based indexing!) and its type\n",
    "print(\"\\ndna_seq[0]:\", dna_seq[0]) \n",
    "\n",
    "# print the last letter of dna_seq\n",
    "print(\"\\ndna_seq[6]:\", dna_seq[6]) \n",
    "\n",
    "# print each letter of dna_seq on its own line (HINT: use a newline character '\\n' to insert a new line after each character)\n",
    "print(\"\\n\")\n",
    "for c in dna_seq:\n",
    "    print(c)"
   ]
  },
  {
   "cell_type": "markdown",
   "metadata": {},
   "source": [
    "Below are examples of operations that can be performed on strings.\n",
    "\n",
    "* You can **split** them on a certain value using split()\n",
    "\n",
    "* You can **concatenate** (stick together) two strings using +\n",
    "\n",
    "* You can **repeat** them using the * symbol"
   ]
  },
  {
   "cell_type": "code",
   "execution_count": null,
   "metadata": {
    "collapsed": false
   },
   "outputs": [],
   "source": [
    "# let's make a new string from dna_seq split on \"C\"\n",
    "\n",
    "print(\"Splitting DNA by \\\"C\\\" is\", x)\n",
    "\n",
    "# returns a list, let's get the first element. this is because the [0]\n",
    "\n",
    "\n",
    "#print it out\n",
    "print(\"left half of split_dna is only\", split_dna)\n",
    "\n",
    "# concatenate my_dna with split_dna and print the result\n",
    "print(\"concatenate dna_seq with split_dna is\", dna_seq + split_dna) #the split part(ATG) is added on to the end\n",
    "\n",
    "# repeat split_dna 5 times and print it\n",
    "print(\"Five times split_dna is\", split_dna * 5) #ATG five times"
   ]
  },
  {
   "cell_type": "code",
   "execution_count": null,
   "metadata": {
    "collapsed": false
   },
   "outputs": [],
   "source": [
    "# Let's make some more sequences\n",
    "\n",
    "# make a new sequence, tiny_dna, that is the value returned by splitting dna_seq on \"TA\"\n",
    "# the zero is the split saequnce\n",
    "\n",
    "# Make another new sequence, dna_seq_2x, that is dna_seq repeated twice\n",
    "\n",
    "# Make another new sequence by concatenating tiny_dna and my_dna\n",
    "\n",
    "# print all of your sequences to make sure they are correct\n",
    "print(\"tiny_dna is\", tiny_dna)\n",
    "print(\"dna_seq_2x is\",dna_seq_2x)\n",
    "print(\"concatenatedtiny_dna is\", concatenatedtiny_dna)"
   ]
  },
  {
   "cell_type": "markdown",
   "metadata": {},
   "source": [
    "Now let's do some work with numbers."
   ]
  },
  {
   "cell_type": "code",
   "execution_count": null,
   "metadata": {
    "collapsed": false
   },
   "outputs": [],
   "source": [
    "# Use len() to get the length of my_dna. Save it in a new variable my_dna_len\n",
    "\n",
    "# Get the type of my_dna_len"
   ]
  },
  {
   "cell_type": "markdown",
   "metadata": {},
   "source": [
    "Now let's find out if my_dna_len is even. To do this, you can use the modulo operator, % (percent sign).\n",
    "\n",
    "The modulo operator divides a number (call it x) by a number y and returns the remainder of the division.\n",
    "\n",
    "Examples:\n",
    "\n",
    "```\n",
    "10 % 5 = 0\n",
    "5 % 2 = 1\n",
    "10 % 2 = 0\n",
    "```\n",
    "\n",
    "A number is even if (the number) % 2 is 0. If (the number) % 2 is 1, it's odd."
   ]
  },
  {
   "cell_type": "code",
   "execution_count": null,
   "metadata": {
    "collapsed": false
   },
   "outputs": [],
   "source": [
    "print(\"my_dna_len is\", my_dna_len)\n",
    "\n",
    "# use the modulo operator to find out if my_dna_len is even\n",
    "\n",
    "    print(\"my_dna_len is odd\")\n",
    "else:\n",
    "    print(\"my_dna_len is even\")"
   ]
  },
  {
   "cell_type": "markdown",
   "metadata": {},
   "source": [
    "#### Q2: Is my_dna_len even or odd?"
   ]
  },
  {
   "cell_type": "raw",
   "metadata": {},
   "source": []
  },
  {
   "cell_type": "markdown",
   "metadata": {},
   "source": [
    "## Part 2: If/Else if/Else"
   ]
  },
  {
   "cell_type": "markdown",
   "metadata": {},
   "source": [
    "Often in a program, you want to do something **if** some condition is true. If statements are a tool for doing just that."
   ]
  },
  {
   "cell_type": "markdown",
   "metadata": {},
   "source": [
    "First, here are some common operators that can help you in writing conditional statements:\n",
    "    \n",
    "    == (equals)\n",
    "    != (not equal to)\n",
    "    > (greater than)\n",
    "    < (less than)\n",
    "    >= (greater than or equal to)\n",
    "    <= (less than or equal to)\n",
    "    \n",
    "    is (test whether a value equals another value)\n",
    "    in (test if the value is in a set of values)\n",
    "    and (testing two conditions; **both** must be true)\n",
    "    or (testing two conditions; **one or both** must be true)"
   ]
  },
  {
   "cell_type": "code",
   "execution_count": null,
   "metadata": {
    "collapsed": false
   },
   "outputs": [],
   "source": [
    "seq_1 = \"ATGC\"\n",
    "seq_2 = \"CCAGTGT\"\n",
    "seq_3 = \"gcaggtgcccg\"\n",
    "\n",
    "# Let's see if seq_1 is in seq_2 or seq_3\n",
    "# convert everything to lowercase since python is case sensitive******!!!! there is a difference between the cases\n",
    "if seq_1.lower() in seq_2.lower() or seq_1.lower() in seq_3.lower():\n",
    "    print(\"seq_1 is in seq_2 or seq_3\")\n",
    "\n",
    "#if it's not, print a statement saying otherwise\n",
    "else:\n",
    "    print(\"seq_1 is not in seq_2 or seq_3\")"
   ]
  },
  {
   "cell_type": "code",
   "execution_count": null,
   "metadata": {
    "collapsed": false
   },
   "outputs": [],
   "source": [
    "# Now write an if statement to test whether seq1 is contained in seq2 AND in seq3.\n",
    "# if it is, print a statement saying that seq1 is in seq2 and seq3.\n",
    "if seq_1.lower() in seq_2.lower() and seq_1.lower() and seq_3.lower():\n",
    "    print(\"seq_1 is in seq_2 and seq_3\")\n",
    "\n",
    "# If it's not, print a statement saying seq_1 is not in seq_2 and seq_3. \n",
    "else:\n",
    "    print(\"seq_1 is not in seq_2 and seq_3\")"
   ]
  },
  {
   "cell_type": "markdown",
   "metadata": {},
   "source": [
    "Now let's practice using if/else if statements.\n",
    "\n",
    "In the following example, we want to know if a given food item is a fruit, a vegetable, or neither."
   ]
  },
  {
   "cell_type": "code",
   "execution_count": null,
   "metadata": {
    "collapsed": false
   },
   "outputs": [],
   "source": [
    "fruits = [\"apples\", \"oranges\", \"bananas\", \"tomatoes\"]\n",
    "vegetables = [\"broccoli\", \"carrots\", \"spinach\", \"asparagus\"]\n",
    "\n",
    "food1 = \"apples\"\n",
    "\n",
    "if food1 in fruits:\n",
    "    print(food1, \"are fruit\")\n",
    "if food1 in vegetables:\n",
    "    print(food1, \"are vegetables\")"
   ]
  },
  {
   "cell_type": "markdown",
   "metadata": {},
   "source": [
    "Seems okay so far, right? Now let's add an else statement to cover the condition that the food is neither a fruit nor a vegetable:"
   ]
  },
  {
   "cell_type": "code",
   "execution_count": null,
   "metadata": {
    "collapsed": false
   },
   "outputs": [],
   "source": [
    "if food1 in fruits:\n",
    "    print(food1, \"are fruit\")\n",
    "    \n",
    "if food1 in vegetables:\n",
    "    print(food1, \"are vegetables\")\n",
    "else:\n",
    "    print(food1, \"are neither fruits nor vegetables.\")"
   ]
  },
  {
   "cell_type": "markdown",
   "metadata": {},
   "source": [
    "Now we're starting to see some problems. How can a food be both a fruit and neither a fruit nor a vegetable? It doesn't make any sense.\n",
    "\n",
    "To help you figure out what's going on, you can think of the set of statements like this:\n",
    "\n",
    "```\n",
    "if food1 in fruits: # testing condition1\n",
    "    print food1, \"are fruit\"\n",
    "    \n",
    "if food1 in vegetables: # testing condition2\n",
    "    print food1, \"are vegetables\"\n",
    "else: # if condition2 is not true, do the following\n",
    "    print food1, \"are neither fruits nor vegetables.\"\n",
    "```    \n",
    "\n",
    "The first **if** and the second **if** are independent of each other. Each one always executes. However, the **else** is tied to the second **if**. It only executes when the condition in the second **if** is false.\n",
    "\n",
    "So we really have two problems here. The first one is that we don't always want to test both **if** conditions. A food can't be both a fruit and a vegetable, so if we find out that the first is true (food is a fruit), why would we want to test the second?\n",
    "\n",
    "The second problem is that the **if/else** tied to only the second condition creates a false dichotomy. It is saying \"Is this food a vegetable? No? Then it must be something else entirely.\" But what about fruit?\n",
    "\n",
    "To fix this problem, you can use **elif**."
   ]
  },
  {
   "cell_type": "code",
   "execution_count": null,
   "metadata": {
    "collapsed": false
   },
   "outputs": [],
   "source": [
    "# Re-write the set of if statements above so that each condition is only tested if the one above it is false.\n",
    "\n",
    "# Use if for the first condition, elif for the second\n",
    "\n",
    "# For the last condition, you could use elif as well, but only if you feel confident that you can anticipate \n",
    "\n",
    "# every possible scenario. That's usually unrealistic, so that's where else comes in."
   ]
  },
  {
   "cell_type": "markdown",
   "metadata": {},
   "source": [
    "## Part 3: Loops"
   ]
  },
  {
   "cell_type": "code",
   "execution_count": null,
   "metadata": {
    "collapsed": false
   },
   "outputs": [],
   "source": [
    "for nt in dna_seq: #don't use for if you do not know the length of the list\n",
    "    print(nt)\n",
    "type (nt)"
   ]
  },
  {
   "cell_type": "code",
   "execution_count": null,
   "metadata": {
    "collapsed": false
   },
   "outputs": [],
   "source": [
    "for i in range(len(dna_seq)):\n",
    "    print(dna_seq[i])\n",
    "type(i)"
   ]
  },
  {
   "cell_type": "code",
   "execution_count": null,
   "metadata": {
    "collapsed": false
   },
   "outputs": [],
   "source": [
    "num_nucleotides = len(dna_seq)\n",
    "for j in range(0, num_nucleotides):\n",
    "    print(dna_seq[j])\n",
    "type(j)"
   ]
  },
  {
   "cell_type": "markdown",
   "metadata": {},
   "source": [
    "#### Q3: Study the 3 for loop examples above. For each one, let's label them \"A\", \"B\", and \"C\", answer the following:  a) What is being looped over? b) What is the variable being used to hold the current element? c) What is the data type of the variable? d) What is the output of the loop?"
   ]
  },
  {
   "cell_type": "raw",
   "metadata": {},
   "source": []
  },
  {
   "cell_type": "markdown",
   "metadata": {},
   "source": [
    "You can put any code inside a loop - including another loop. Below is an example of nested for loops."
   ]
  },
  {
   "cell_type": "code",
   "execution_count": null,
   "metadata": {
    "collapsed": false
   },
   "outputs": [],
   "source": [
    "letters = [\"a\", \"b\", \"c\", \"d\"]\n",
    "\n",
    "for i in range(5):\n",
    "    for letter in letters:\n",
    "        print(letter)"
   ]
  },
  {
   "cell_type": "markdown",
   "metadata": {},
   "source": [
    "#### Q4: Before running it, write what you think the code above will print."
   ]
  },
  {
   "cell_type": "raw",
   "metadata": {},
   "source": []
  },
  {
   "cell_type": "markdown",
   "metadata": {},
   "source": [
    "Now run the cell. Did you get the results you expected? Add comments that explain, line by line, what is happening in the code cell.\n"
   ]
  },
  {
   "cell_type": "markdown",
   "metadata": {},
   "source": [
    "Now that you've seen an example of nested loops, it's your turn to practice using them.\n",
    "\n",
    "One thing that may help you think through what to do is to write out what you want to do in pseudocode before writing it in actual, working code.\n",
    "\n",
    "Here is an example. Let's say you want to loop over a string, and print each character in the string 3 times. Before trying to write the actual working code, you might write:\n",
    "```\n",
    "for each letter in string\n",
    "    for each number in range 0-3\n",
    "        print letter\n",
    "```\n",
    "Once you write this out in words closer to spoken language than code-speak, you should have a clearer idea of what you want your code to do, and can start writing it."
   ]
  },
  {
   "cell_type": "code",
   "execution_count": null,
   "metadata": {
    "collapsed": false
   },
   "outputs": [],
   "source": [
    "# Create a list containing \"one\", \"two\" and \"three\".\n",
    "\n",
    "# Write a nested for loop that will loop over the elements in a list and print each element 3 times.\n",
    "\n",
    "# This is how the output shoud look:\n",
    "#    one\n",
    "#    one\n",
    "#    one\n",
    "#    two\n",
    "#    two\n",
    "#    two\n",
    "#    three\n",
    "#    three\n",
    "#    three    "
   ]
  },
  {
   "cell_type": "markdown",
   "metadata": {},
   "source": [
    "##### While loops"
   ]
  },
  {
   "cell_type": "markdown",
   "metadata": {},
   "source": [
    "For loops are just one kind of loop. You would want to use a for loop if you already know the number of times you want to loop over your data.\n",
    "\n",
    "Another type of loop is called a while loop. This type of loop is used to iterate over something <b>while</b> some condition is true.\n",
    "\n",
    "This is an example of a while loop:"
   ]
  },
  {
   "cell_type": "code",
   "execution_count": null,
   "metadata": {
    "collapsed": false
   },
   "outputs": [],
   "source": [
    "print(dna_seq)\n",
    "i = 0\n",
    "while (dna_seq[i] != \"C\"):#this is asking if the lettter is C, if it is not it will print the letter and go on to the next until a C is found\n",
    "    print(dna_seq[i])\n",
    "    i += 1"
   ]
  },
  {
   "cell_type": "code",
   "execution_count": null,
   "metadata": {
    "collapsed": false
   },
   "outputs": [],
   "source": [
    "# Assign the value 15 to a counter variable (you can name it anything you want).\n",
    "\n",
    "# Write a while loop that runs until the counter is less than 6, \n",
    "\n",
    "# subtracting 1 from the counter with each iteration."
   ]
  },
  {
   "cell_type": "markdown",
   "metadata": {},
   "source": [
    "Another useful concept to know when working with loops is how to use the **break** and **continue** keywords.\n",
    "\n",
    "**break** is used when you want to break out of a loop completely, stopping all further iteration."
   ]
  },
  {
   "cell_type": "code",
   "execution_count": null,
   "metadata": {
    "collapsed": false
   },
   "outputs": [],
   "source": [
    "print(dna_seq)\n",
    "i = 0\n",
    "while i < len(dna_seq):\n",
    "    #if there is a g then stop or break\n",
    "    \n",
    "     \n",
    "    print(dna_seq[i])\n",
    "    i +=1 "
   ]
  },
  {
   "cell_type": "markdown",
   "metadata": {},
   "source": [
    "Use **continue** if you want to break out of the current iteration, moving on to the next iteration of the loop."
   ]
  },
  {
   "cell_type": "code",
   "execution_count": null,
   "metadata": {
    "collapsed": false
   },
   "outputs": [],
   "source": [
    "print(dna_seq)\n",
    "i = 0\n",
    "while i < len(dna_seq):\n",
    "    #skip the g\n",
    "        \n",
    "    print(dna_seq[i])\n",
    "    i += 1 "
   ]
  },
  {
   "cell_type": "markdown",
   "metadata": {},
   "source": [
    "#### Q5: Why did I have to put ```i += 1``` in two places, inside the if statement and outside? What would happen if I didn't increment ```i``` inside the if statement, only outside? (Try it if you want, but MAKE SURE YOU SAVE YOUR NOTEBOOK FIRST.)"
   ]
  },
  {
   "cell_type": "raw",
   "metadata": {},
   "source": []
  },
  {
   "cell_type": "code",
   "execution_count": null,
   "metadata": {
    "collapsed": false
   },
   "outputs": [],
   "source": [
    "# Use a for loop OR a while loop to iterate over the sequence GGGCATGCCC. \n",
    "\n",
    "\n",
    "# Your loop should do the following:\n",
    "\n",
    "\n",
    "    # If you encounter two G's in a row, continue to the next letter without doing anything.\n",
    "    \n",
    "    \n",
    "    # If you encounter two C's in a row, break out of the loop.\n",
    "    \n",
    "\n",
    "    # Print out the nucleotide at each position in the sequence.\n",
    "    print(current_nt)\n",
    "    \n",
    "    previous_nt = current_nt"
   ]
  },
  {
   "cell_type": "markdown",
   "metadata": {},
   "source": [
    "## Part 4a: Lists"
   ]
  },
  {
   "cell_type": "code",
   "execution_count": null,
   "metadata": {
    "collapsed": false
   },
   "outputs": [],
   "source": [
    "# Let's create two lists, list1 and list2.\n",
    "list1 = []\n",
    "list2 = []\n",
    "\n",
    "# Notice that we haven't added anything to the lists.\n",
    "# If you want to add elements to a list when you create it, you can do it like this:\n",
    "# list1 = [\"item1\", \"item2\", \"item3\"]"
   ]
  },
  {
   "cell_type": "code",
   "execution_count": null,
   "metadata": {
    "collapsed": false
   },
   "outputs": [],
   "source": [
    "# Now let's add \"apples\", \"oranges\", and \"bananas\" to list1\n",
    "list1.append(\"apples\")\n",
    "list1.append(\"oranges\")\n",
    "list1.append(\"bananas\")\n",
    "\n",
    "# print list1 to make sure everything was added"
   ]
  },
  {
   "cell_type": "code",
   "execution_count": null,
   "metadata": {
    "collapsed": false
   },
   "outputs": [],
   "source": [
    "# Now it's your turn. Add \"ice cream\", \"cookies\", and \"chocolate\" to list2."
   ]
  },
  {
   "cell_type": "code",
   "execution_count": null,
   "metadata": {
    "collapsed": false
   },
   "outputs": [],
   "source": [
    "# You can also have a list of lists. Create a list, list3, and append list1 and list2 to it.\n",
    "list3 = []\n",
    "list3.append(list1)\n",
    "list3.append(list2)"
   ]
  },
  {
   "cell_type": "code",
   "execution_count": null,
   "metadata": {
    "collapsed": false
   },
   "outputs": [],
   "source": [
    "# print out list3\n",
    "print(list3)\n",
    "\n",
    "# let's try to print the elements of list3 one at a time, using a for loop\n",
    "for item in list3:\n",
    "    print(item)"
   ]
  },
  {
   "cell_type": "markdown",
   "metadata": {},
   "source": [
    "#### Q6: Why didn't the loop print each item on its own line?"
   ]
  },
  {
   "cell_type": "raw",
   "metadata": {},
   "source": []
  },
  {
   "cell_type": "code",
   "execution_count": null,
   "metadata": {
    "collapsed": false
   },
   "outputs": [],
   "source": [
    "# Write code to print each item in each sublist on its own line. HINT: Use a nested for loop, like in Part 2."
   ]
  },
  {
   "cell_type": "markdown",
   "metadata": {},
   "source": [
    "## Part 4b: Dictionaries"
   ]
  },
  {
   "cell_type": "markdown",
   "metadata": {},
   "source": [
    "Another useful Python data structure is the dictionary. Dictionaries are similar to lists, except that instead of elements, they have key-value pairs.\n",
    "\n",
    "What are key-value pairs? They can be pretty much any two things you want to associate with each other. Some examples:\n",
    "\n",
    "* protein or DNA accession numbers and their sequences\n",
    "* codons and their associated amino acid residues\n",
    "* colleagues’ names and their email addresses\n",
    "* words and their definitions\n",
    "\n",
    "The keys and values for the examples above would be broken down like this:\n",
    "\n",
    "Key | Value\n",
    "--- | ---\n",
    "accession number | sequence\n",
    "codon | amino acid\n",
    "name | email address\n",
    "word | definition\n",
    "\n",
    "Creating a dictionary (or **dict**) allows you to use the key in a key-value pair to look up the associated value.\n",
    "\n",
    "Here is an example using codon/amino acid residue key-value pairs."
   ]
  },
  {
   "cell_type": "code",
   "execution_count": null,
   "metadata": {
    "collapsed": false
   },
   "outputs": [],
   "source": [
    "# Create an empty dict\n",
    "codons = {}\n",
    "# add methionine\n",
    "codons[\"AUG\"] = \"M\"\n",
    "\n",
    "# add a few more codons\n",
    "codons[\"UUU\"] = \"F\"\n",
    "codons[\"CUU\"] = \"L\"\n",
    "codons[\"UAG\"] = \"*\""
   ]
  },
  {
   "cell_type": "code",
   "execution_count": null,
   "metadata": {
    "collapsed": false
   },
   "outputs": [],
   "source": [
    "# print out all the keys\n",
    "codons.keys()"
   ]
  },
  {
   "cell_type": "code",
   "execution_count": null,
   "metadata": {
    "collapsed": false
   },
   "outputs": [],
   "source": [
    "# print out all the values\n",
    "codons.values()"
   ]
  },
  {
   "cell_type": "code",
   "execution_count": null,
   "metadata": {
    "collapsed": false
   },
   "outputs": [],
   "source": [
    "# what amino acid does UUU code for?\n",
    "print(codons[\"UUU\"])"
   ]
  },
  {
   "cell_type": "markdown",
   "metadata": {},
   "source": [
    "#### Q7: What did we just print by running the cell above? Key or value?"
   ]
  },
  {
   "cell_type": "raw",
   "metadata": {},
   "source": []
  },
  {
   "cell_type": "code",
   "execution_count": 3,
   "metadata": {
    "collapsed": false
   },
   "outputs": [],
   "source": [
    "# Here is the complete genetic code\n",
    "# \"_\" represents the stop codon\n",
    "codons = {\n",
    "    'ATA':'I', 'ATC':'I', 'ATT':'I', 'ATG':'M',\n",
    "    'ACA':'T', 'ACC':'T', 'ACG':'T', 'ACT':'T',\n",
    "    'AAC':'N', 'AAT':'N', 'AAA':'K', 'AAG':'K',\n",
    "    'AGC':'S', 'AGT':'S', 'AGA':'R', 'AGG':'R',\n",
    "    'CTA':'L', 'CTC':'L', 'CTG':'L', 'CTT':'L',\n",
    "    'CCA':'P', 'CCC':'P', 'CCG':'P', 'CCT':'P',\n",
    "    'CAC':'H', 'CAT':'H', 'CAA':'Q', 'CAG':'Q',\n",
    "    'CGA':'R', 'CGC':'R', 'CGG':'R', 'CGT':'R',\n",
    "    'GTA':'V', 'GTC':'V', 'GTG':'V', 'GTT':'V',\n",
    "    'GCA':'A', 'GCC':'A', 'GCG':'A', 'GCT':'A',\n",
    "    'GAC':'D', 'GAT':'D', 'GAA':'E', 'GAG':'E',\n",
    "    'GGA':'G', 'GGC':'G', 'GGG':'G', 'GGT':'G',\n",
    "    'TCA':'S', 'TCC':'S', 'TCG':'S', 'TCT':'S',\n",
    "    'TTC':'F', 'TTT':'F', 'TTA':'L', 'TTG':'L',\n",
    "    'TAC':'Y', 'TAT':'Y', 'TAA':'_', 'TAG':'_',\n",
    "    'TGC':'C', 'TGT':'C', 'TGA':'_', 'TGG':'W'}\n",
    "\n",
    "# create translate function\n",
    "def translate( sequence ):\n",
    "    # Return the translated protein from 'sequence' assuming +1 reading frame\n",
    "    protein_seq = \"\"\n",
    "    for i in range(int(len(sequence)/3)):\n",
    "        protein_seq = protein_seq + codons.get(sequence[3*i:(3*i)+3])\n",
    "        # print protein_seq\n",
    "    return(protein_seq)"
   ]
  },
  {
   "cell_type": "markdown",
   "metadata": {},
   "source": [
    "With the genetic code dictionary and translate() function above, create a DNA sequence that codes for the amino acid sequence \"MYSEQENCE_\". Use the variable \"sequence\" to hold your DNA string and then use the translate() function to confirm that your DNA sequence really does translate to \"MYSEQENCE_\"."
   ]
  },
  {
   "cell_type": "code",
   "execution_count": null,
   "metadata": {
    "collapsed": false
   },
   "outputs": [],
   "source": []
  },
  {
   "cell_type": "markdown",
   "metadata": {},
   "source": [
    "#### Q8: Which category must be unique, keys or values? Why?"
   ]
  },
  {
   "cell_type": "raw",
   "metadata": {},
   "source": []
  }
 ],
 "metadata": {
  "kernelspec": {
   "display_name": "Python [conda root]",
   "language": "python",
   "name": "conda-root-py"
  },
  "language_info": {
   "codemirror_mode": {
    "name": "ipython",
    "version": 3
   },
   "file_extension": ".py",
   "mimetype": "text/x-python",
   "name": "python",
   "nbconvert_exporter": "python",
   "pygments_lexer": "ipython3",
   "version": "3.5.2"
  }
 },
 "nbformat": 4,
 "nbformat_minor": 0
}
