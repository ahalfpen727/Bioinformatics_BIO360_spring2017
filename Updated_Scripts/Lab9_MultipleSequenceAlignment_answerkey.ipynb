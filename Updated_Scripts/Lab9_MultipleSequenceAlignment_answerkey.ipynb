{
 "cells": [
  {
   "cell_type": "markdown",
   "metadata": {},
   "source": [
    "## Lab 9: Multiple Sequence Alignment"
   ]
  },
  {
   "cell_type": "markdown",
   "metadata": {},
   "source": [
    "#### Q0: What's your name?"
   ]
  },
  {
   "cell_type": "raw",
   "metadata": {},
   "source": [
    "Answer key"
   ]
  },
  {
   "cell_type": "markdown",
   "metadata": {},
   "source": [
    "This week we'll use Biopython to learn more about amino acid substitutions observed in your protein as a whole as well as within a conserved domain.\n",
    "\n",
    "The idea is that if a region of a protein is not under selection then the amino acids would be expected to be present in equal frequencies. So if there are positions within homologous protein sequences where only a very few amino acids are regularly observed - given a large enough set of homologous proteins - we presume that amino acids which are absent or observed infrequently are deleterious to the protein's function.    \n",
    "\n",
    "Before we begin - generate a multiple sequence alignment (MSA) by uploading the protein sequences of your gene and likely homologs to either T-Coffee, Muscle or MAFFT multiple sequence alignment servers.    \n",
    "http://tcoffee.crg.cat/apps/tcoffee/do:regular   \n",
    "https://www.ebi.ac.uk/Tools/msa/muscle/   \n",
    "https://www.ebi.ac.uk/Tools/msa/mafft/\n",
    "\n",
    "Once the alignment is generated, save the alignment in the clustal format. If you're using the Muscle or MAFFT websites - right click on \"Download Alignment File\", select \"Save Link As . . . \", and save the file to the 'BIOL361_GeneEx5' file which you have generated on your desktop. If you're using the T-Coffee website - right click on \"clustalw_aln file\", select \"Save Link As . . . \", and save the file to the working directory. Do not include spaces in your file name - for example, do not name your file \"aryl hydrocarbon receptor.clw\"; better names are \"aryl _hydrocarbon_receptor.clw\" or \"ArylHydrocarbonReceptor.clw\".\n",
    "\n",
    "While the MSA is being generated we'll go through the exercise as a class, using a MSA (saved in the clustal format) of prion protein sequences, \"prnp_alignment_muscle.clw\".  \n",
    "\n",
    "After we have gone over this exercise as a class - you will redo the analysis using the your protein's MSA."
   ]
  },
  {
   "cell_type": "code",
   "execution_count": 1,
   "metadata": {
    "collapsed": false,
    "scrolled": true
   },
   "outputs": [
    {
     "name": "stdout",
     "output_type": "stream",
     "text": [
      "SingleLetterAlphabet() alignment with 23 rows and 264 columns\n",
      "MVKSHIGSWILVLFVAMWSDVGLCKKRPKPGGGWNTGGSRYPGQ...IVG gi|119655287|gb|ABL86015.1|\n",
      "MMKSHIGSWILVLFVAMWSDVGLCKKRPKPGGGWNTGGSRYPGQ...IVG gi|73697721|gb|AAZ81476.1|\n",
      "MVKSHIGSWILVLFVVMWSDVGLCKKRPKPGGGWNTGGSRYPGQ...IVG gi|54125465|gb|AAV30492.1|\n",
      "MVKSHIGSWILVLFVVMWSDVGLCKKRPKPGGGWNTGGSRYPGQ...IVG gi|54125467|gb|AAV30493.1|\n",
      "MVKSHIGSWILVLFVAMWSDVGLCKKRPKPGGGWNTGGSRYPGQ...IVG gi|110613053|gb|ABG78359.1|\n",
      "MVKSHIGSWILVLFVAMWSDVGLCKKRPKPGGGWNTGGSRYPGQ...IVG gi|2406626|gb|AAB70468.1|\n",
      "MVKSHIGSWILVLFVAMWSDVGLCKKRPKPGGGWNTGGSRYPGQ...IVG gi|154819110|gb|ABS87899.1|\n",
      "MVKSHIGSWILVLFVAMWSDVGLCKKRPKPGGGWNTGGSRYPGQ...IVG gi|256859470|gb|ACV31922.1|\n",
      "MVKSHIGSWILVLFVAMWSDVGLCKKRPKPGGGWNTGGSRYPGQ...IVG gi|217598|dbj|BAA01469.1|\n",
      "MVKSHIGSWILVLFVAMWSDVGLCKKRPKPGGGWNTGGSRYPGQ...IVG gi|34334040|gb|AAQ64647.1|\n",
      "MVKSHIGSWILVLFVATWSDVGLCKKRPKPGGGWNTGGSRYPGQ...IVG gi|54125485|gb|AAV30502.1|\n",
      "MVKSHIGSWILVLFVAMWSDVGLCKKRPKPGGGWNTGGSRYPGQ...IVG gi|156953734|gb|ABU98047.1|\n",
      "MVKSHIGSWILVLFVAMWSDVGLCKKRPKPGGGWNTGGSRYPGQ...IVG gi|54125477|gb|AAV30498.1|\n",
      "MVKSHIGSWILVLFVAMWSDVGLCKKRPKPGGGWNTGGSRYPGQ...IVG gi|34334030|gb|AAQ64642.1|\n",
      "MVKSHIGSWILVLFVAMWSDVGLCKKRPKPGGGWNTGGSRYPGQ...IVG gi|197114556|gb|ACH43175.1|\n",
      "MVKSHIGSWILVLFVAMWSDVGLCKKRPKPGGGWNTGGSRYPGQ...IVG gi|154819104|gb|ABS87896.1|\n",
      "MVKSHIGSWILVLFVAMWSDVGLCKKRPKPGGGWNTGGSRYPGQ...IVG gi|119655297|gb|ABL86020.1|\n",
      "MVKSHIGSWILVLFVAMWSDVGLCKKRPKPGGGWNTGGSRYPGQ...IVG gi|154819106|gb|ABS87897.1|\n",
      "...\n",
      "MVKSHIGSWILVLFVAMWSDVGLCKKRPKPGGGWNTGGSRYPGQ...IVG gi|218563421|dbj|BAH03443.1|\n"
     ]
    }
   ],
   "source": [
    "from Bio import AlignIO\n",
    "align_file = open(\"prnp_alignment_muscle.clw\")\n",
    "align = AlignIO.read(align_file, \"clustal\")\n",
    "print(align)"
   ]
  },
  {
   "cell_type": "markdown",
   "metadata": {},
   "source": [
    "We can print the number of aligned sequences"
   ]
  },
  {
   "cell_type": "code",
   "execution_count": 2,
   "metadata": {
    "collapsed": false
   },
   "outputs": [
    {
     "name": "stdout",
     "output_type": "stream",
     "text": [
      "Number of aligned sequences: 23\n"
     ]
    }
   ],
   "source": [
    "print(\"Number of aligned sequences:\", len(align))"
   ]
  },
  {
   "cell_type": "markdown",
   "metadata": {},
   "source": [
    "We can print the number of amino acids per sequence. Print the number of aa for the first sequence in the alignment."
   ]
  },
  {
   "cell_type": "code",
   "execution_count": 3,
   "metadata": {
    "collapsed": false
   },
   "outputs": [
    {
     "name": "stdout",
     "output_type": "stream",
     "text": [
      "Number of amino acids per sequence: 264\n",
      "Number of aa for the first sequence in the alignment: 264\n"
     ]
    }
   ],
   "source": [
    "print(\"Number of amino acids per sequence:\", len(align[0]))\n",
    "# or in another way\n",
    "print(\"Number of aa for the first sequence in the alignment:\", len(align[0].seq))"
   ]
  },
  {
   "cell_type": "markdown",
   "metadata": {},
   "source": [
    "#### Q1: How many sequences were aligned in the PRNP alignment? How many sequences are present in your protein's MSA?"
   ]
  },
  {
   "cell_type": "raw",
   "metadata": {},
   "source": [
    "The number of sequences aligned in the PRNP alignment are 23. In my protein there are 10 sequences aligned."
   ]
  },
  {
   "cell_type": "markdown",
   "metadata": {},
   "source": [
    "#### Q2: How many amino acid positions are in the PRNP alignment? How many amino acid positions are in your protein's MSA?"
   ]
  },
  {
   "cell_type": "raw",
   "metadata": {},
   "source": [
    "The amino acid positions in the PRNP alignment are 264. There are 60 amino acid position in CXCR3 MSA alignment."
   ]
  },
  {
   "cell_type": "markdown",
   "metadata": {},
   "source": [
    "We can access the sequences in the alignment using the notation - align[#]. Where # = 0 refers to the first sequence in the alignment, # = 1 refers to the second, etc. \n",
    "\n",
    "Use this notation to print out the fourth sequence in this alignment."
   ]
  },
  {
   "cell_type": "code",
   "execution_count": 4,
   "metadata": {
    "collapsed": false
   },
   "outputs": [
    {
     "name": "stdout",
     "output_type": "stream",
     "text": [
      "ID: gi|54125467|gb|AAV30493.1|\n",
      "Name: <unknown name>\n",
      "Description: gi|54125467|gb|AAV30493.1|\n",
      "Number of features: 0\n",
      "Seq('MVKSHIGSWILVLFVVMWSDVGLCKKRPKPGGGWNTGGSRYPGQGSPGGNRYPS...IVG', SingleLetterAlphabet())\n"
     ]
    }
   ],
   "source": [
    "print(align[3])"
   ]
  },
  {
   "cell_type": "markdown",
   "metadata": {},
   "source": [
    "Notice that each record in the alignment has 5 attributes. You can reference each of them as shown below."
   ]
  },
  {
   "cell_type": "code",
   "execution_count": 5,
   "metadata": {
    "collapsed": false
   },
   "outputs": [
    {
     "name": "stdout",
     "output_type": "stream",
     "text": [
      "ID:  gi|119655287|gb|ABL86015.1|\n",
      "Description:  gi|119655287|gb|ABL86015.1|\n",
      "Features:  []\n",
      "Name:  <unknown name>\n",
      "Sequence:  MVKSHIGSWILVLFVAMWSDVGLCKKRPKPGGGWNTGGSRYPGQGSPGGNRYPSQGGGGWGQPHGGGWGQPHGGGWGQPHGGGWGQPHGGGWGQPHGGGSWGQGGTHGQWNKPSKPKTNMKHVAGAAAAGAVVGGLGGYMLGSAMSRPLIHFGSDYEDRYYRENMYRYPNQVYYRPVDQYSNQNNFVHDCVNITVKQHTVTTTTKGENFTETDIKMMERVVEQMCITQYQRESEAYYQRGASVILFSSPPVILLISFLIFLIVG\n"
     ]
    }
   ],
   "source": [
    "print(\"ID: \", align[0].id)\n",
    "print(\"Description: \", align[0].description)\n",
    "print(\"Features: \", align[0].features)\n",
    "print(\"Name: \", align[0].name)\n",
    "print(\"Sequence: \", align[0].seq)"
   ]
  },
  {
   "cell_type": "markdown",
   "metadata": {},
   "source": [
    "#### Q3: Are all of the sequences in the alignment object (\"align\") the same length? You should be able to answer this based on the analysis you've done - explain."
   ]
  },
  {
   "cell_type": "raw",
   "metadata": {},
   "source": [
    " Yes all the sequences in the alignment object \"align\" have the same lenght, they all have 264 amino acids."
   ]
  },
  {
   "cell_type": "markdown",
   "metadata": {},
   "source": [
    "Write code below to check if your assumption was correct."
   ]
  },
  {
   "cell_type": "code",
   "execution_count": 6,
   "metadata": {
    "collapsed": false
   },
   "outputs": [
    {
     "name": "stdout",
     "output_type": "stream",
     "text": [
      "Sequece  0 : 264\n",
      "Sequece  1 : 264\n",
      "Sequece  2 : 264\n",
      "Sequece  3 : 264\n",
      "Sequece  4 : 264\n",
      "Sequece  5 : 264\n",
      "Sequece  6 : 264\n",
      "Sequece  7 : 264\n",
      "Sequece  8 : 264\n",
      "Sequece  9 : 264\n",
      "Sequece  10 : 264\n",
      "Sequece  11 : 264\n",
      "Sequece  12 : 264\n",
      "Sequece  13 : 264\n",
      "Sequece  14 : 264\n",
      "Sequece  15 : 264\n",
      "Sequece  16 : 264\n",
      "Sequece  17 : 264\n",
      "Sequece  18 : 264\n",
      "Sequece  19 : 264\n",
      "Sequece  20 : 264\n",
      "Sequece  21 : 264\n",
      "Sequece  22 : 264\n"
     ]
    }
   ],
   "source": [
    "for i in range(len(align)):\n",
    "    print(\"Sequece \",i,\":\",len(align[i]))"
   ]
  },
  {
   "cell_type": "markdown",
   "metadata": {},
   "source": [
    "Above we've referenced just the rows of the alignment - but we can also reference the columns of the alignment or reference particular columns of particular rows. \n",
    "\n",
    "The alignment object essentially consists of a matrix with the same number of rows as there are sequences and the same number of columns as positions in the alignment.\n",
    "\n",
    "Both the rows and columns of the alignment \"matrix\" can be treated as strings.  \n",
    "\n",
    "Recall how we can slice elements of a string:  \n",
    "variable_name[begining_position:ending_position]   "
   ]
  },
  {
   "cell_type": "code",
   "execution_count": 7,
   "metadata": {
    "collapsed": false
   },
   "outputs": [
    {
     "name": "stdout",
     "output_type": "stream",
     "text": [
      "fun\n"
     ]
    }
   ],
   "source": [
    "a = \"fundamental\" #here's a string\n",
    "print(a[0:3]) #use the square bracket notation to print out the \"fun\" in fundamental"
   ]
  },
  {
   "cell_type": "markdown",
   "metadata": {},
   "source": [
    "We can likewise use this same notation to access both a subset of the rows and a subset of the columns.\n",
    "\n",
    "alignment_variable_name[begining_row:ending_row, begining_column:ending_column]  "
   ]
  },
  {
   "cell_type": "code",
   "execution_count": 8,
   "metadata": {
    "collapsed": false
   },
   "outputs": [
    {
     "name": "stdout",
     "output_type": "stream",
     "text": [
      "SingleLetterAlphabet() alignment with 4 rows and 264 columns\n",
      "MVKSHIGSWILVLFVAMWSDVGLCKKRPKPGGGWNTGGSRYPGQ...IVG gi|119655287|gb|ABL86015.1|\n",
      "MMKSHIGSWILVLFVAMWSDVGLCKKRPKPGGGWNTGGSRYPGQ...IVG gi|73697721|gb|AAZ81476.1|\n",
      "MVKSHIGSWILVLFVVMWSDVGLCKKRPKPGGGWNTGGSRYPGQ...IVG gi|54125465|gb|AAV30492.1|\n",
      "MVKSHIGSWILVLFVVMWSDVGLCKKRPKPGGGWNTGGSRYPGQ...IVG gi|54125467|gb|AAV30493.1|\n",
      "SingleLetterAlphabet() alignment with 4 rows and 4 columns\n",
      "MVKS gi|119655287|gb|ABL86015.1|\n",
      "MMKS gi|73697721|gb|AAZ81476.1|\n",
      "MVKS gi|54125465|gb|AAV30492.1|\n",
      "MVKS gi|54125467|gb|AAV30493.1|\n",
      "the same...\n",
      "SingleLetterAlphabet() alignment with 4 rows and 4 columns\n",
      "MVKS gi|119655287|gb|ABL86015.1|\n",
      "MMKS gi|73697721|gb|AAZ81476.1|\n",
      "MVKS gi|54125465|gb|AAV30492.1|\n",
      "MVKS gi|54125467|gb|AAV30493.1|\n"
     ]
    }
   ],
   "source": [
    "print(align[0:4])\n",
    "a = align[0:4, 0:4] #a is a variable assigned to the first four positions of the first four sequences\n",
    "print(a)\n",
    "print(\"the same...\")\n",
    "a = align[:4, :4] #a is a variable assigned to the first four positions of the first four sequences\n",
    "print(a)"
   ]
  },
  {
   "cell_type": "markdown",
   "metadata": {},
   "source": [
    "Remember that we can use negative numbers to index."
   ]
  },
  {
   "cell_type": "code",
   "execution_count": 9,
   "metadata": {
    "collapsed": false
   },
   "outputs": [
    {
     "name": "stdout",
     "output_type": "stream",
     "text": [
      "SingleLetterAlphabet() alignment with 4 rows and 264 columns\n",
      "MVKSHIGSWILVLFVAMWSDVGLCKKRPKPGGGWNTGGSRYPGQ...IVG gi|8885894|gb|AAF80283.1|AF15618\n",
      "MVKSHIGSWILVLFVAMWSDVGLCKKRPKPGGGWNTGGSRYPGQ...IVG gi|53801347|gb|AAU93883.1|\n",
      "MVKSHIGSWILVLFVAMWSDVGLCKKRPKPGGGWNTGGSRYPGQ...IVG gi|8885900|gb|AAF80286.1|AF15618\n",
      "MVKSHIGSWILVLFVAMWSDVGLCKKRPKPGGGWNTGGSRYPGQ...IVG gi|218563421|dbj|BAH03443.1|\n",
      "SingleLetterAlphabet() alignment with 4 rows and 4 columns\n",
      "LIVG gi|8885894|gb|AAF80283.1|AF15618\n",
      "LIVG gi|53801347|gb|AAU93883.1|\n",
      "LIVG gi|8885900|gb|AAF80286.1|AF15618\n",
      "LIVG gi|218563421|dbj|BAH03443.1|\n"
     ]
    }
   ],
   "source": [
    "print(align[-4:])\n",
    "b = align[-4:, -4:] #b is a variable assigned to the last four positions of the last four sequences\n",
    "print(b)"
   ]
  },
  {
   "cell_type": "markdown",
   "metadata": {},
   "source": [
    "Given a good multiple sequence aligment, we're usually more interested in the amino acids within a column, than those within a row. After all, if we wanted to look sequence variation within a single protein an unaligned record in a fasta file would be just as good.   \n",
    "\n",
    "We'd like to loop over all the columns in our alignment and print out all the amino acids in that position. \n",
    "\n",
    "***You DO need to change this code cell***"
   ]
  },
  {
   "cell_type": "code",
   "execution_count": 10,
   "metadata": {
    "collapsed": false,
    "scrolled": false
   },
   "outputs": [
    {
     "name": "stdout",
     "output_type": "stream",
     "text": [
      "position in the alignment ID: gi|119655287|gb|ABL86015.1|\n",
      "Name: <unknown name>\n",
      "Description: gi|119655287|gb|ABL86015.1|\n",
      "Number of features: 0\n",
      "Seq('MVKSHIGSWILVLFVAMWSDVGLCKKRPKPGGGWNTGGSRYPGQGSPGGNRYPS...IVG', SingleLetterAlphabet())\n",
      "position in the alignment ID: gi|73697721|gb|AAZ81476.1|\n",
      "Name: <unknown name>\n",
      "Description: gi|73697721|gb|AAZ81476.1|\n",
      "Number of features: 0\n",
      "Seq('MMKSHIGSWILVLFVAMWSDVGLCKKRPKPGGGWNTGGSRYPGQGSPGGNRYPP...IVG', SingleLetterAlphabet())\n",
      "position in the alignment ID: gi|54125465|gb|AAV30492.1|\n",
      "Name: <unknown name>\n",
      "Description: gi|54125465|gb|AAV30492.1|\n",
      "Number of features: 0\n",
      "Seq('MVKSHIGSWILVLFVVMWSDVGLCKKRPKPGGGWNTGGSRYPGQGSPGGNRYPS...IVG', SingleLetterAlphabet())\n",
      "position in the alignment ID: gi|54125467|gb|AAV30493.1|\n",
      "Name: <unknown name>\n",
      "Description: gi|54125467|gb|AAV30493.1|\n",
      "Number of features: 0\n",
      "Seq('MVKSHIGSWILVLFVVMWSDVGLCKKRPKPGGGWNTGGSRYPGQGSPGGNRYPS...IVG', SingleLetterAlphabet())\n",
      "position in the alignment ID: gi|110613053|gb|ABG78359.1|\n",
      "Name: <unknown name>\n",
      "Description: gi|110613053|gb|ABG78359.1|\n",
      "Number of features: 0\n",
      "Seq('MVKSHIGSWILVLFVAMWSDVGLCKKRPKPGGGWNTGGSRYPGQGSPGGNRYPP...IVG', SingleLetterAlphabet())\n",
      "position in the alignment ID: gi|2406626|gb|AAB70468.1|\n",
      "Name: <unknown name>\n",
      "Description: gi|2406626|gb|AAB70468.1|\n",
      "Number of features: 0\n",
      "Seq('MVKSHIGSWILVLFVAMWSDVGLCKKRPKPGGGWNTGGSRYPGQGSPGGNRYPP...IVG', SingleLetterAlphabet())\n",
      "position in the alignment ID: gi|154819110|gb|ABS87899.1|\n",
      "Name: <unknown name>\n",
      "Description: gi|154819110|gb|ABS87899.1|\n",
      "Number of features: 0\n",
      "Seq('MVKSHIGSWILVLFVAMWSDVGLCKKRPKPGGGWNTGGSRYPGQGSPGGNRYPP...IVG', SingleLetterAlphabet())\n",
      "position in the alignment ID: gi|256859470|gb|ACV31922.1|\n",
      "Name: <unknown name>\n",
      "Description: gi|256859470|gb|ACV31922.1|\n",
      "Number of features: 0\n",
      "Seq('MVKSHIGSWILVLFVAMWSDVGLCKKRPKPGGGWNTGGSRYPGQGSPGGNRYPP...IVG', SingleLetterAlphabet())\n",
      "position in the alignment ID: gi|217598|dbj|BAA01469.1|\n",
      "Name: <unknown name>\n",
      "Description: gi|217598|dbj|BAA01469.1|\n",
      "Number of features: 0\n",
      "Seq('MVKSHIGSWILVLFVAMWSDVGLCKKRPKPGGGWNTGGSRYPGQGSPGGNRYPP...IVG', SingleLetterAlphabet())\n",
      "position in the alignment ID: gi|34334040|gb|AAQ64647.1|\n",
      "Name: <unknown name>\n",
      "Description: gi|34334040|gb|AAQ64647.1|\n",
      "Number of features: 0\n",
      "Seq('MVKSHIGSWILVLFVAMWSDVGLCKKRPKPGGGWNTGGSRYPGQGSPGGNRYPP...IVG', SingleLetterAlphabet())\n",
      "position in the alignment ID: gi|54125485|gb|AAV30502.1|\n",
      "Name: <unknown name>\n",
      "Description: gi|54125485|gb|AAV30502.1|\n",
      "Number of features: 0\n",
      "Seq('MVKSHIGSWILVLFVATWSDVGLCKKRPKPGGGWNTGGSRYPGQGSPGGNRYPP...IVG', SingleLetterAlphabet())\n",
      "position in the alignment ID: gi|156953734|gb|ABU98047.1|\n",
      "Name: <unknown name>\n",
      "Description: gi|156953734|gb|ABU98047.1|\n",
      "Number of features: 0\n",
      "Seq('MVKSHIGSWILVLFVAMWSDVGLCKKRPKPGGGWNTGGSRYPGQGSPGGNRYPP...IVG', SingleLetterAlphabet())\n",
      "position in the alignment ID: gi|54125477|gb|AAV30498.1|\n",
      "Name: <unknown name>\n",
      "Description: gi|54125477|gb|AAV30498.1|\n",
      "Number of features: 0\n",
      "Seq('MVKSHIGSWILVLFVAMWSDVGLCKKRPKPGGGWNTGGSRYPGQGSPGGNRYPP...IVG', SingleLetterAlphabet())\n",
      "position in the alignment ID: gi|34334030|gb|AAQ64642.1|\n",
      "Name: <unknown name>\n",
      "Description: gi|34334030|gb|AAQ64642.1|\n",
      "Number of features: 0\n",
      "Seq('MVKSHIGSWILVLFVAMWSDVGLCKKRPKPGGGWNTGGSRYPGQGSPGGNRYPP...IVG', SingleLetterAlphabet())\n",
      "position in the alignment ID: gi|197114556|gb|ACH43175.1|\n",
      "Name: <unknown name>\n",
      "Description: gi|197114556|gb|ACH43175.1|\n",
      "Number of features: 0\n",
      "Seq('MVKSHIGSWILVLFVAMWSDVGLCKKRPKPGGGWNTGGSRYPGQGSPGGNRYPP...IVG', SingleLetterAlphabet())\n",
      "position in the alignment ID: gi|154819104|gb|ABS87896.1|\n",
      "Name: <unknown name>\n",
      "Description: gi|154819104|gb|ABS87896.1|\n",
      "Number of features: 0\n",
      "Seq('MVKSHIGSWILVLFVAMWSDVGLCKKRPKPGGGWNTGGSRYPGQGSPGGNRYPP...IVG', SingleLetterAlphabet())\n",
      "position in the alignment ID: gi|119655297|gb|ABL86020.1|\n",
      "Name: <unknown name>\n",
      "Description: gi|119655297|gb|ABL86020.1|\n",
      "Number of features: 0\n",
      "Seq('MVKSHIGSWILVLFVAMWSDVGLCKKRPKPGGGWNTGGSRYPGQGSPGGNRYPP...IVG', SingleLetterAlphabet())\n",
      "position in the alignment ID: gi|154819106|gb|ABS87897.1|\n",
      "Name: <unknown name>\n",
      "Description: gi|154819106|gb|ABS87897.1|\n",
      "Number of features: 0\n",
      "Seq('MVKSHIGSWILVLFVAMWSDVGLCKKRPKPGGGWNTGGSRYPGQGSPGGNRYPP...IVG', SingleLetterAlphabet())\n",
      "position in the alignment ID: gi|119655295|gb|ABL86019.1|\n",
      "Name: <unknown name>\n",
      "Description: gi|119655295|gb|ABL86019.1|\n",
      "Number of features: 0\n",
      "Seq('MVKSHIGSWILVLFVAMWSDVGLCKKRPKPGGGWNTGGSRYPGQGSPGGNRYPP...IVG', SingleLetterAlphabet())\n",
      "position in the alignment ID: gi|8885894|gb|AAF80283.1|AF15618\n",
      "Name: <unknown name>\n",
      "Description: gi|8885894|gb|AAF80283.1|AF15618\n",
      "Number of features: 0\n",
      "Seq('MVKSHIGSWILVLFVAMWSDVGLCKKRPKPGGGWNTGGSRYPGQGSPGGNRYPP...IVG', SingleLetterAlphabet())\n",
      "position in the alignment ID: gi|53801347|gb|AAU93883.1|\n",
      "Name: <unknown name>\n",
      "Description: gi|53801347|gb|AAU93883.1|\n",
      "Number of features: 0\n",
      "Seq('MVKSHIGSWILVLFVAMWSDVGLCKKRPKPGGGWNTGGSRYPGQGSPGGNRYPP...IVG', SingleLetterAlphabet())\n",
      "position in the alignment ID: gi|8885900|gb|AAF80286.1|AF15618\n",
      "Name: <unknown name>\n",
      "Description: gi|8885900|gb|AAF80286.1|AF15618\n",
      "Number of features: 0\n",
      "Seq('MVKSHIGSWILVLFVAMWSDVGLCKKRPKPGGGWNTGGSRYPGQGSPGGNRYPP...IVG', SingleLetterAlphabet())\n",
      "position in the alignment ID: gi|218563421|dbj|BAH03443.1|\n",
      "Name: <unknown name>\n",
      "Description: gi|218563421|dbj|BAH03443.1|\n",
      "Number of features: 0\n",
      "Seq('MVKSHIGSWILVLFVAMWSDVGLCKKRPKPGGGWNTGGSRYPGQGSPGGNRYPP...IVG', SingleLetterAlphabet())\n"
     ]
    }
   ],
   "source": [
    "# count is a variable set to zero, which will be incremented to count the number of positions (columns) in the alignment\n",
    "count = 0 \n",
    "# for each number in a list of numbers from 0 to the length of the sequences in the alignment\n",
    "for i in range (len(align)):\n",
    "    # increment the value of count\n",
    "    count += 1\n",
    "    # print the position in the alignment and the amino acids in the column at the position\n",
    "    print(\"position in the alignment\", align[i])    "
   ]
  },
  {
   "cell_type": "markdown",
   "metadata": {},
   "source": [
    "Now that we're able to isolate individual columns of our alignment - we'd like to know something about the alignment at each position. Two things we're particularly interested in - the presence of gaps and the amino acid composition of the column.  \n",
    "\n",
    "Remember that we can test wether a character is in a string quite simply."
   ]
  },
  {
   "cell_type": "code",
   "execution_count": 11,
   "metadata": {
    "collapsed": false
   },
   "outputs": [
    {
     "data": {
      "text/plain": [
       "True"
      ]
     },
     "execution_count": 11,
     "metadata": {},
     "output_type": "execute_result"
    }
   ],
   "source": [
    "\"-\" in \"Q-QQ-----QQQQQQQQ----Q-\"\n"
   ]
  },
  {
   "cell_type": "code",
   "execution_count": 12,
   "metadata": {
    "collapsed": false
   },
   "outputs": [
    {
     "data": {
      "text/plain": [
       "False"
      ]
     },
     "execution_count": 12,
     "metadata": {},
     "output_type": "execute_result"
    }
   ],
   "source": [
    "\"-\" in \"SPSSPPPPPPPPPPPPPPPPPPP\"\n"
   ]
  },
  {
   "cell_type": "markdown",
   "metadata": {},
   "source": [
    "We can use this as part of a conditional statement. "
   ]
  },
  {
   "cell_type": "code",
   "execution_count": 13,
   "metadata": {
    "collapsed": false
   },
   "outputs": [
    {
     "name": "stdout",
     "output_type": "stream",
     "text": [
      "Found a dash\n"
     ]
    }
   ],
   "source": [
    "# if there is a dash in the string\n",
    "if \"-\" in \"Q-QQ-----QQQQQQQQ----Q-\":\n",
    "    # print out a message\n",
    "    print(\"Found a dash\")"
   ]
  },
  {
   "cell_type": "markdown",
   "metadata": {},
   "source": [
    "Maybe we want to count the number of columns in an alignment where at least one sequence contains a gap.\n",
    "\n",
    "***You DO need to change this code cell***"
   ]
  },
  {
   "cell_type": "code",
   "execution_count": 14,
   "metadata": {
    "collapsed": false
   },
   "outputs": [
    {
     "name": "stdout",
     "output_type": "stream",
     "text": [
      "count_dash: 8\n"
     ]
    }
   ],
   "source": [
    "# count_dash is a variable set to zero, which will be incremented to count the number of positions (columns) in the alignment containing a gap\n",
    "count_dash = 0   \n",
    "# for each number in a list of numbers from 0 to the length of the sequences in the alignment\n",
    "for i in range (len(align[0])):\n",
    "    # if there is a dash in the string\n",
    "    if \"-\" in align[:,i]:\n",
    "        # increment the value of count_dash by one\n",
    "        count_dash += 1\n",
    "          \n",
    "print(\"count_dash:\", count_dash)"
   ]
  },
  {
   "cell_type": "markdown",
   "metadata": {},
   "source": [
    "In the cell below, use code to calculate the proportion of all positions (or columns) that have a gap in at least one of the aligned sequences. You need the number of colums with at least one dash and the total number of columns in the aligned sequences."
   ]
  },
  {
   "cell_type": "code",
   "execution_count": 15,
   "metadata": {
    "collapsed": false
   },
   "outputs": [
    {
     "data": {
      "text/plain": [
       "0.030303030303030304"
      ]
     },
     "execution_count": 15,
     "metadata": {},
     "output_type": "execute_result"
    }
   ],
   "source": [
    "count_dash/(len(align[0]))"
   ]
  },
  {
   "cell_type": "markdown",
   "metadata": {},
   "source": [
    "Next, count the number of different states (amino acids or positions) that are found in each position in the alignment. \n",
    "\n",
    "Draw a matrix of alignments to help you understand what is going on for each for loop, assign i and j values to columns and rows -respectively, and increment these variables as we scan the matrix counting dashes and amino acids."
   ]
  },
  {
   "cell_type": "code",
   "execution_count": 16,
   "metadata": {
    "collapsed": false
   },
   "outputs": [
    {
     "name": "stdout",
     "output_type": "stream",
     "text": [
      "[1, 2, 1, 1, 1, 1, 1, 1, 1, 1, 1, 1, 1, 1, 1, 2, 2, 1, 1, 1, 1, 1, 1, 1, 1, 1, 1, 1, 1, 1, 1, 1, 1, 1, 1, 1, 1, 1, 1, 1, 1, 1, 1, 1, 1, 1, 1, 1, 1, 1, 1, 1, 1, 2, 1, 1, 1, 1, 2, 1, 1, 1, 1, 1, 1, 1, 2, 1, 1, 1, 2, 1, 1, 1, 1, 1, 1, 1, 1, 1, 1, 1, 1, 1, 1, 1, 1, 1, 1, 1, 1, 1, 1, 1, 1, 1, 1, 1, 1, 2, 1, 1, 1, 3, 1, 2, 1, 2, 1, 1, 1, 1, 1, 2, 1, 1, 1, 1, 1, 1, 1, 1, 2, 1, 1, 1, 1, 1, 2, 1, 2, 1, 1, 1, 2, 1, 2, 1, 1, 1, 1, 1, 1, 1, 1, 1, 1, 1, 1, 2, 1, 1, 1, 2, 1, 1, 1, 1, 1, 1, 1, 1, 1, 1, 1, 2, 1, 1, 1, 1, 1, 1, 1, 1, 1, 1, 2, 1, 2, 1, 2, 1, 1, 2, 3, 1, 1, 1, 1, 1, 1, 1, 1, 1, 1, 1, 3, 1, 1, 1, 1, 1, 1, 1, 1, 1, 1, 1, 1, 1, 2, 1, 1, 2, 1, 2, 1, 1, 1, 1, 1, 1, 1, 1, 1, 1, 1, 1, 1, 1, 1, 1, 1, 2, 1, 1, 1, 1, 1, 1, 1, 1, 1, 1, 1, 1, 1, 2, 1, 1, 1, 1, 2, 1, 1, 1, 1, 1, 1, 1, 1, 1, 1, 1]\n",
      "[0, 0, 0, 0, 0, 0, 0, 0, 0, 0, 0, 0, 0, 0, 0, 0, 0, 0, 0, 0, 0, 0, 0, 0, 0, 0, 0, 0, 0, 0, 0, 0, 0, 0, 0, 0, 0, 0, 0, 0, 0, 0, 0, 0, 0, 0, 0, 0, 0, 0, 0, 0, 0, 0, 0, 0, 11, 11, 11, 11, 11, 11, 11, 11, 0, 0, 0, 0, 0, 0, 0, 0, 0, 0, 0, 0, 0, 0, 0, 0, 0, 0, 0, 0, 0, 0, 0, 0, 0, 0, 0, 0, 0, 0, 0, 0, 0, 0, 0, 0, 0, 0, 0, 0, 0, 0, 0, 0, 0, 0, 0, 0, 0, 0, 0, 0, 0, 0, 0, 0, 0, 0, 0, 0, 0, 0, 0, 0, 0, 0, 0, 0, 0, 0, 0, 0, 0, 0, 0, 0, 0, 0, 0, 0, 0, 0, 0, 0, 0, 0, 0, 0, 0, 0, 0, 0, 0, 0, 0, 0, 0, 0, 0, 0, 0, 0, 0, 0, 0, 0, 0, 0, 0, 0, 0, 0, 0, 0, 0, 0, 0, 0, 0, 0, 0, 0, 0, 0, 0, 0, 0, 0, 0, 0, 0, 0, 0, 0, 0, 0, 0, 0, 0, 0, 0, 0, 0, 0, 0, 0, 0, 0, 0, 0, 0, 0, 0, 0, 0, 0, 0, 0, 0, 0, 0, 0, 0, 0, 0, 0, 0, 0, 0, 0, 0, 0, 0, 0, 0, 0, 0, 0, 0, 0, 0, 0, 0, 0, 0, 0, 0, 0, 0, 0, 0, 0, 0, 0, 0, 0, 0, 0, 0, 0]\n"
     ]
    }
   ],
   "source": [
    "# position_list is a list to contain the count of the number of unique amino acids found at each position\n",
    "position_list = []\n",
    "# gap_list is a list to contain the count of the number of gaps found at each position\n",
    "gap_list = []\n",
    "# for each number in a list of numbers from 0 to the length of the sequences in the alignment\n",
    "for i in range(len(align[0])):\n",
    "    # list to contain each unique amino acid\n",
    "    temp_aa_list = [] \n",
    "    temp_gap = 0\n",
    "    # loop over each character in the alignment column\n",
    "    for j in align[:,i]: \n",
    "        # if there is a gap in the position\n",
    "        if  j == \"-\":  \n",
    "            # increment the value of temp_gap by one\n",
    "            temp_gap +=1 \n",
    "        # if amino acid is already in temp_aa_list\n",
    "        elif j in temp_aa_list: \n",
    "            # continue on the the next iteration of the for loop\n",
    "            continue\n",
    "        # if the aa is not already in temp_aa_list\n",
    "        else: \n",
    "            temp_aa_list.append(j) # add that amino acid to the list\n",
    "    # count the number of unique amino acids found at that position (the length of temp_aa_list, add that value to aa_list        \n",
    "    position_list.append(len(temp_aa_list))\n",
    "    # add the number of gaps found at that position to gap_list\n",
    "    gap_list.append(temp_gap)\n",
    "# check that there are as many elements in the amino acid list and in the gap_list as there are positions in each aligned sequence        \n",
    "assert len(position_list) == len(gap_list) == len(align[0]) \n",
    "print(position_list)\n",
    "print(gap_list)"
   ]
  },
  {
   "cell_type": "code",
   "execution_count": 19,
   "metadata": {
    "collapsed": false
   },
   "outputs": [
    {
     "name": "stdout",
     "output_type": "stream",
     "text": [
      "Populating the interactive namespace from numpy and matplotlib\n"
     ]
    },
    {
     "data": {
      "image/png": "[encoded data removed]",
      "text/plain": [
       "<matplotlib.figure.Figure at 0x7ee1710>"
      ]
     },
     "metadata": {},
     "output_type": "display_data"
    }
   ],
   "source": [
    "import matplotlib.pyplot as plt \n",
    "%pylab inline\n",
    "\n",
    "\n",
    "xaxis = arange(len(position_list)) # the x-axis has the same number of positions as there are in the whole alignment\n",
    "plt.plot(position_list, 'b') # plot the count of unique amino acids for each position, in blue\n",
    "plt.plot(gap_list, 'r') # plot the count of gaps in the alignemnt for each position, in red\n",
    "title(\"Number of different amino acids and gaps \\n at each position in alignment\") #add a title to the graph\n",
    "ylabel(\"Count\") #label the y-axis\n",
    "xlabel(\"aa position in protein\") #label the x-axis\n",
    "show()"
   ]
  },
  {
   "cell_type": "markdown",
   "metadata": {},
   "source": [
    "**Q4: Refer to the lecture HW assignments and enter the following information about a domain in your protein in the box below:**    \n",
    "\n",
    "* the name and function of the conserved domain    \n",
    "\n",
    "* the CDD or SMART or Pfam accession number of the domain   \n",
    "\n",
    "* the begining and ending postion of the domain relative to your gene's protein sequence\n",
    "\n",
    "If your protein does not have a conserved domain - refer to the MSA of your gene's protein sequence and chose the region of your protein which appears to be most conserved. Estimate the begining and ending position of this region."
   ]
  },
  {
   "cell_type": "raw",
   "metadata": {},
   "source": [
    "The CXCR3 gene has one conserved domain the name of the conserved domain is the 7tm_1: transmembrane receptor of the rhodopsin family. The function of this receptors is to interact with guanine nucleotide binding proteins. This domain starts at position 76 and ends at positon 318."
   ]
  },
  {
   "cell_type": "markdown",
   "metadata": {},
   "source": [
    "First, we need to find our reference protein in the alignment. Then we will want to identify the positions of the alignment that correspond to the conserved domain. Note that the location of the domain within our sequence may not correspond to the same location within our alignment, as the alignment might have introduced gaps in this region of our sequence. In addition to mapping the position of the domain onto the positions of the alignment, we need to map real world positions into Python positions.\n"
   ]
  },
  {
   "cell_type": "code",
   "execution_count": 20,
   "metadata": {
    "collapsed": false
   },
   "outputs": [
    {
     "name": "stdout",
     "output_type": "stream",
     "text": [
      "The domain has 64 amino acids in the reference sequence AAZ81476.1\n",
      "Domain region of alignment:  MMKSHIGSWILVLFVAMWSDVGLCKKRPKPGGGWNTGGSRYPGQGSPGGNRYPPQG--------GGGWGQPH\n",
      "Length of domain region:  72\n",
      "The domain begins at position  0  of the alignment.\n",
      "The domain ends at position  72  of the alignment.\n",
      "[0, 12, 12, 12, 12, 12, 12, 12, 12, 12, 12, 12, 12, 12, 12, 12, 12, 12, 12, 12, 12, 12, 12, 12, 12, 12, 12, 12, 12, 12, 12, 12, 12, 12, 12, 12, 12, 12, 12, 12, 12, 12, 12, 12, 12, 12, 12, 12, 12, 12, 12, 12, 12, 12, 12, 12, 12, 12, 12, 12, 12, 12, 12, 12, 12, 12, 12, 12, 12, 12, 12, 12, 0, 0, 0, 0, 0, 0, 0, 0, 0, 0, 0, 0, 0, 0, 0, 0, 0, 0, 0, 0, 0, 0, 0, 0, 0, 0, 0, 0, 0, 0, 0, 0, 0, 0, 0, 0, 0, 0, 0, 0, 0, 0, 0, 0, 0, 0, 0, 0, 0, 0, 0, 0, 0, 0, 0, 0, 0, 0, 0, 0, 0, 0, 0, 0, 0, 0, 0, 0, 0, 0, 0, 0, 0, 0, 0, 0, 0, 0, 0, 0, 0, 0, 0, 0, 0, 0, 0, 0, 0, 0, 0, 0, 0, 0, 0, 0, 0, 0, 0, 0, 0, 0, 0, 0, 0, 0, 0, 0, 0, 0, 0, 0, 0, 0, 0, 0, 0, 0, 0, 0, 0, 0, 0, 0, 0, 0, 0, 0, 0, 0, 0, 0, 0, 0, 0, 0, 0, 0, 0, 0, 0, 0, 0, 0, 0, 0, 0, 0, 0, 0, 0, 0, 0, 0, 0, 0, 0, 0, 0, 0, 0, 0, 0, 0, 0, 0, 0, 0, 0, 0, 0, 0, 0, 0, 0, 0, 0, 0, 0, 0, 0, 0, 0, 0, 0, 0, 0, 0, 0, 0, 0, 0]\n"
     ]
    }
   ],
   "source": [
    "prot_of_int = \"AAZ81476.1\" # the accession number of our reference protein\n",
    "prot_begin_domain = 1 # beginning aa of the domain relative to our protein of interest, real world position\n",
    "prot_end_domain = 64 # ending aa of the domain relative to our protein of interest, real world position\n",
    "\n",
    "len_domain = prot_end_domain - prot_begin_domain + 1\n",
    "print(\"The domain has\", len_domain, \"amino acids in the reference sequence\", prot_of_int)\n",
    "\n",
    "# for each record in the alignment\n",
    "for h in align:\n",
    "    # if the accession number of our protein of interest is in the id of the record\n",
    "    if prot_of_int in h.id:\n",
    "    # postion within the alignment, Python counting    \n",
    "        align_pos_counter = 0 \n",
    "        # position in amino acid sequence, real counting\n",
    "        aa_counter = 1 \n",
    "        # for each position in the aligned of the sequence of that record\n",
    "        for j in h.seq:\n",
    "            if j.isalpha() is True: # ask if j is an amino acid (a letter) as opposed to a gap\n",
    "                # if the position in the amino acid sequence of the alignment is equal to the starting position of the domain\n",
    "                if aa_counter == prot_begin_domain:\n",
    "                    # create a variable called align_begin_domain and assign it the value of align_pos_counter\n",
    "                    align_begin_domain = align_pos_counter\n",
    "                # if the position in the amino acid sequence of the alignment is equal to the ending position of the domain \n",
    "                elif aa_counter == prot_end_domain: \n",
    "                    # create a variable called align_end_domain and assign it the value of align_pos_counter plus one\n",
    "                    align_end_domain = align_pos_counter + 1\n",
    "                # advance the count of the amino acid in the reference sequence\n",
    "                aa_counter += 1\n",
    "            # advance the count of the positions in the alignment\n",
    "            align_pos_counter += 1\n",
    "        # the region of the alignment corresponding to the location of the domain in our protein of interest\n",
    "        ref_domain_region = h.seq[align_begin_domain:align_end_domain] \n",
    "        print(\"Domain region of alignment: \", ref_domain_region)\n",
    "        print(\"Length of domain region: \", len(ref_domain_region))\n",
    "        \n",
    "#check that our alignment position counter counted as many amino acids as there are positions in the domain\n",
    "assert align_pos_counter >= len_domain\n",
    "\n",
    "print(\"The domain begins at position \", align_begin_domain, \" of the alignment.\")\n",
    "print(\"The domain ends at position \", align_end_domain, \" of the alignment.\")\n",
    "\n",
    "# append 0 when that position is not in the domain\n",
    "# append 12 when that position is in the domain\n",
    "# create empty domain list\n",
    "domain_list = []\n",
    "\n",
    "# loop through the alignment and append 0 when index is outside the domain region\n",
    "# and append 12 when index is inside the domain region\n",
    "# use align_begin_domain and align_end_domain to determine the domain and non-domain regions\n",
    "for index in range(len(position_list)):\n",
    "    if index > align_begin_domain and index < align_end_domain:\n",
    "        domain_list.append(12)\n",
    "    else:\n",
    "        domain_list.append(0)\n",
    "\n",
    "print (domain_list)"
   ]
  },
  {
   "cell_type": "markdown",
   "metadata": {},
   "source": [
    "Now that we know what positions in the alignment correspond to the location of the domain, it might be interesting to see where the domain is found relative to the gaps and regions of amino acid diveristy in your protein.\n"
   ]
  },
  {
   "cell_type": "code",
   "execution_count": 21,
   "metadata": {
    "collapsed": false
   },
   "outputs": [
    {
     "name": "stdout",
     "output_type": "stream",
     "text": [
      "Populating the interactive namespace from numpy and matplotlib\n"
     ]
    },
    {
     "data": {
      "image/png": "[encoded data removed]",
      "text/plain": [
       "<matplotlib.figure.Figure at 0x7f4f908>"
      ]
     },
     "metadata": {},
     "output_type": "display_data"
    }
   ],
   "source": [
    "import matplotlib.pyplot as plt \n",
    "%pylab inline\n",
    "\n",
    "\n",
    "xaxis = arange(len(position_list)) # the x-axis has the same number of positions as there are in the whole alignment\n",
    "plt.plot(position_list, 'b') # plot the count of unique amino acids for each position, in blue\n",
    "plt.plot(gap_list, 'r') # plot the count of gaps in the alignemnt for each position, in red\n",
    "plt.plot(domain_list, 'g') # plot the domain regions using domain_list, in green\n",
    "plt.axvspan(align_begin_domain, align_end_domain, facecolor='grey', alpha=0.1) # create a grey region corresponding to the domain \n",
    "title(\"Number of different amino acids and gaps \\n at each position in alignment\") # add a title to the graph\n",
    "ylabel(\"Count\") # label the y-axis\n",
    "xlabel(\"aa position in protein\") # label the x-axis\n",
    "show()"
   ]
  },
  {
   "cell_type": "markdown",
   "metadata": {},
   "source": [
    "#### **Q5**: For the PRNP alignment, were gaps introduced into the N-terminal PRNP domain? For the alignment of your gene, were gaps introduced in your chosen domain?"
   ]
  },
  {
   "cell_type": "raw",
   "metadata": {},
   "source": [
    "Yes, according to the graph,there are gaps introduced into the N-terminal at position 60 of the PRNP domain."
   ]
  },
  {
   "cell_type": "markdown",
   "metadata": {},
   "source": [
    "Now that we know the region of the alignment that corresponds to the domain we're interested in - let's pull the aligned domain out of the main alignment.\n",
    "\n",
    "***You DO need to change this code cell.***"
   ]
  },
  {
   "cell_type": "code",
   "execution_count": 22,
   "metadata": {
    "collapsed": false
   },
   "outputs": [
    {
     "name": "stdout",
     "output_type": "stream",
     "text": [
      "SingleLetterAlphabet() alignment with 23 rows and 264 columns\n",
      "MVKSHIGSWILVLFVAMWSDVGLCKKRPKPGGGWNTGGSRYPGQ...IVG gi|119655287|gb|ABL86015.1|\n",
      "MMKSHIGSWILVLFVAMWSDVGLCKKRPKPGGGWNTGGSRYPGQ...IVG gi|73697721|gb|AAZ81476.1|\n",
      "MVKSHIGSWILVLFVVMWSDVGLCKKRPKPGGGWNTGGSRYPGQ...IVG gi|54125465|gb|AAV30492.1|\n",
      "MVKSHIGSWILVLFVVMWSDVGLCKKRPKPGGGWNTGGSRYPGQ...IVG gi|54125467|gb|AAV30493.1|\n",
      "MVKSHIGSWILVLFVAMWSDVGLCKKRPKPGGGWNTGGSRYPGQ...IVG gi|110613053|gb|ABG78359.1|\n",
      "MVKSHIGSWILVLFVAMWSDVGLCKKRPKPGGGWNTGGSRYPGQ...IVG gi|2406626|gb|AAB70468.1|\n",
      "MVKSHIGSWILVLFVAMWSDVGLCKKRPKPGGGWNTGGSRYPGQ...IVG gi|154819110|gb|ABS87899.1|\n",
      "MVKSHIGSWILVLFVAMWSDVGLCKKRPKPGGGWNTGGSRYPGQ...IVG gi|256859470|gb|ACV31922.1|\n",
      "MVKSHIGSWILVLFVAMWSDVGLCKKRPKPGGGWNTGGSRYPGQ...IVG gi|217598|dbj|BAA01469.1|\n",
      "MVKSHIGSWILVLFVAMWSDVGLCKKRPKPGGGWNTGGSRYPGQ...IVG gi|34334040|gb|AAQ64647.1|\n",
      "MVKSHIGSWILVLFVATWSDVGLCKKRPKPGGGWNTGGSRYPGQ...IVG gi|54125485|gb|AAV30502.1|\n",
      "MVKSHIGSWILVLFVAMWSDVGLCKKRPKPGGGWNTGGSRYPGQ...IVG gi|156953734|gb|ABU98047.1|\n",
      "MVKSHIGSWILVLFVAMWSDVGLCKKRPKPGGGWNTGGSRYPGQ...IVG gi|54125477|gb|AAV30498.1|\n",
      "MVKSHIGSWILVLFVAMWSDVGLCKKRPKPGGGWNTGGSRYPGQ...IVG gi|34334030|gb|AAQ64642.1|\n",
      "MVKSHIGSWILVLFVAMWSDVGLCKKRPKPGGGWNTGGSRYPGQ...IVG gi|197114556|gb|ACH43175.1|\n",
      "MVKSHIGSWILVLFVAMWSDVGLCKKRPKPGGGWNTGGSRYPGQ...IVG gi|154819104|gb|ABS87896.1|\n",
      "MVKSHIGSWILVLFVAMWSDVGLCKKRPKPGGGWNTGGSRYPGQ...IVG gi|119655297|gb|ABL86020.1|\n",
      "MVKSHIGSWILVLFVAMWSDVGLCKKRPKPGGGWNTGGSRYPGQ...IVG gi|154819106|gb|ABS87897.1|\n",
      "...\n",
      "MVKSHIGSWILVLFVAMWSDVGLCKKRPKPGGGWNTGGSRYPGQ...IVG gi|218563421|dbj|BAH03443.1|\n"
     ]
    }
   ],
   "source": [
    "#create domain_align as a variable assigned to the part of the alignment corresponding to the domain\n",
    "domain_align= align[align_begin_domain:align_end_domain]\n",
    "print(domain_align) "
   ]
  },
  {
   "cell_type": "markdown",
   "metadata": {},
   "source": [
    "Now let's loop over each position in the domain alignment and count the number of times the amino acid of the reference sequence is found at that position.\n"
   ]
  },
  {
   "cell_type": "code",
   "execution_count": 23,
   "metadata": {
    "collapsed": false
   },
   "outputs": [
    {
     "name": "stdout",
     "output_type": "stream",
     "text": [
      "[100.0, 4.3478260869565215, 100.0, 100.0, 100.0, 100.0, 100.0, 100.0, 100.0, 100.0, 100.0, 100.0, 100.0, 100.0, 100.0, 91.30434782608695, 95.65217391304348, 100.0, 100.0, 100.0, 100.0, 100.0, 100.0, 100.0, 100.0, 100.0, 100.0, 100.0, 100.0, 100.0, 100.0, 100.0, 100.0, 100.0, 100.0, 100.0, 100.0, 100.0, 100.0, 100.0, 100.0, 100.0, 100.0, 100.0, 100.0, 100.0, 100.0, 100.0, 100.0, 100.0, 100.0, 100.0, 100.0, 86.95652173913044, 100.0, 100.0, 47.82608695652174, 47.82608695652174, 47.82608695652174, 47.82608695652174, 47.82608695652174, 47.82608695652174, 47.82608695652174, 47.82608695652174, 100.0, 100.0, 95.65217391304348, 100.0, 100.0, 100.0, 95.65217391304348, 100.0]\n"
     ]
    }
   ],
   "source": [
    "perc_ref_aa_list = []\n",
    "# for each number, i, in a list of numbers from 0 to the length of the domain in the alignment of your protein - ref_domain_region, defined above\n",
    "for i in range(len(ref_domain_region)):\n",
    "    # create count_aa a variable to hold the count of the number of times the reference amino acid is found\n",
    "    count_aa = 0\n",
    "    for aa in domain_align[:,i]: # for each amino acid in the string containing all amino acids at that position in the alignment\n",
    "        # if the amino acid is the reference amino acid\n",
    "        if aa == ref_domain_region[i]:\n",
    "            # increase the value of count_aa by one\n",
    "            count_aa += 1\n",
    "    # calculate the number of times the amino acid in the reference sequence occurs in the other sequences at that position in the alignment\n",
    "    perc_aa = count_aa/len(domain_align[:,i])*100\n",
    "    perc_ref_aa_list.append(perc_aa) # add perc_aa to the list perc_ref_aa_list\n",
    "\n",
    "assert len(perc_ref_aa_list) == len(ref_domain_region) # check that there are as many elements in perc_ref_aa_list as there are positions in the aligned domain\n",
    "print(perc_ref_aa_list)"
   ]
  },
  {
   "cell_type": "code",
   "execution_count": 24,
   "metadata": {
    "collapsed": false
   },
   "outputs": [
    {
     "name": "stdout",
     "output_type": "stream",
     "text": [
      "Populating the interactive namespace from numpy and matplotlib\n"
     ]
    },
    {
     "data": {
      "image/png": "[encoded data removed]",
      "text/plain": [
       "<matplotlib.figure.Figure at 0x7fd91d0>"
      ]
     },
     "metadata": {},
     "output_type": "display_data"
    }
   ],
   "source": [
    "import matplotlib.pyplot as plt # import a set of code written for generating graphics and tell the computer how to display graphs\n",
    "%pylab inline\n",
    "\n",
    "xaxis = arange(len(ref_domain_region)) # the x-axis has the same number of positions as there are in the domain alignment\n",
    "bar(xaxis, perc_ref_aa_list) # chart will be a bar chart, as many positions on the x-axis as there are positions in the domain and the count of the reference amino acids at the position on the y-axis\n",
    "xticks(xaxis+0.5, ref_domain_region) # label the x-axis with the sequence of the alignment corresponding to the domain in our protein of interest\n",
    "xlim(0, len(perc_ref_aa_list))\n",
    "title(\"Percentage of sequences with same amino acid as \" + prot_of_int ) #add a title to the graph\n",
    "ylabel(\"Percent\") #label the y-axis\n",
    "show()"
   ]
  },
  {
   "cell_type": "markdown",
   "metadata": {},
   "source": [
    "That's all folks! Upload your notebook and the multiple sequence alignment file for your protein to Blackboard!"
   ]
  }
 ],
 "metadata": {
  "anaconda-cloud": {},
  "kernelspec": {
   "display_name": "Python [conda root]",
   "language": "python",
   "name": "conda-root-py"
  },
  "language_info": {
   "codemirror_mode": {
    "name": "ipython",
    "version": 3
   },
   "file_extension": ".py",
   "mimetype": "text/x-python",
   "name": "python",
   "nbconvert_exporter": "python",
   "pygments_lexer": "ipython3",
   "version": "3.5.2"
  }
 },
 "nbformat": 4,
 "nbformat_minor": 0
}
