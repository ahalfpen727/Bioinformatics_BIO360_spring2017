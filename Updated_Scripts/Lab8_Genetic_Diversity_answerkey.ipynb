{
 "cells": [
  {
   "cell_type": "markdown",
   "metadata": {},
   "source": [
    "## Lab 8: Genetic Diversity"
   ]
  },
  {
   "cell_type": "markdown",
   "metadata": {},
   "source": [
    "#### Q0: What's your name?"
   ]
  },
  {
   "cell_type": "raw",
   "metadata": {},
   "source": [
    "Answer key"
   ]
  },
  {
   "cell_type": "markdown",
   "metadata": {
    "slideshow": {
     "slide_type": "slide"
    }
   },
   "source": [
    "### Part 1. Retrieve relevant background material on the biology of your gene. "
   ]
  },
  {
   "cell_type": "markdown",
   "metadata": {},
   "source": [
    "First search NCBI's Gene database for your gene. \n",
    "\n",
    "Enter your query then run the for loop. Note that the records are dictionaries. Dictionaries consist of \"key\" : \"value\" pairs. Modify the loop to print out the name of your gene, its description, other aliases, summary and genomic location.\n",
    "\n",
    "In this example, we'll use gene HBA2 (NM_000517) human alpha-Hemoglobin 2\n",
    "\n",
    "The following code cell will give you an error when run as is. This is done on purpose to introduce you to solving common errors that may occur while retrieving records using nested dictionaries. Don't panic, we have seen this error before at the begining of the semester. Today I'll walk you through to resolve it."
   ]
  },
  {
   "cell_type": "code",
   "execution_count": 1,
   "metadata": {
    "collapsed": false,
    "scrolled": true
   },
   "outputs": [
    {
     "name": "stdout",
     "output_type": "stream",
     "text": [
      "{'DocumentSummarySet': DictElement({'DbBuild': 'Build170430-1215.1', 'DocumentSummary': [DictElement({'Description': 'hemoglobin subunit alpha 2', 'OtherAliases': 'HBA-T2, HBH', 'GeneWeight': '36904', 'GenomicInfo': [{'ChrAccVer': 'NC_000016.10', 'ChrStart': '172846', 'ExonCount': '3', 'ChrStop': '173709', 'ChrLoc': '16'}], 'NomenclatureName': 'hemoglobin subunit alpha 2', 'NomenclatureSymbol': 'HBA2', 'NomenclatureStatus': 'Official', 'LocationHist': [{'ChrAccVer': 'NC_000016.10', 'ChrStart': '172846', 'AssemblyAccVer': 'GCF_000001405.33', 'ChrStop': '173709', 'AnnotationRelease': '108'}, {'ChrAccVer': 'NC_018927.2', 'ChrStart': '222851', 'AssemblyAccVer': 'GCF_000306695.2', 'ChrStop': '223714', 'AnnotationRelease': '108'}, {'ChrAccVer': 'NC_000016.10', 'ChrStart': '172846', 'AssemblyAccVer': 'GCF_000001405.28', 'ChrStop': '173709', 'AnnotationRelease': '107'}, {'ChrAccVer': 'NC_018927.2', 'ChrStart': '222851', 'AssemblyAccVer': 'GCF_000306695.2', 'ChrStop': '223714', 'AnnotationRelease': '107'}, {'ChrAccVer': 'NC_000016.10', 'ChrStart': '172846', 'AssemblyAccVer': 'GCF_000001405.26', 'ChrStop': '173709', 'AnnotationRelease': '106'}, {'ChrAccVer': 'AC_000148.1', 'ChrStart': '140886', 'AssemblyAccVer': 'GCF_000002125.1', 'ChrStop': '141749', 'AnnotationRelease': '106'}, {'ChrAccVer': 'NC_018927.2', 'ChrStart': '222851', 'AssemblyAccVer': 'GCF_000306695.2', 'ChrStop': '223714', 'AnnotationRelease': '106'}, {'ChrAccVer': 'NC_000016.9', 'ChrStart': '222845', 'AssemblyAccVer': 'GCF_000001405.25', 'ChrStop': '223708', 'AnnotationRelease': '105'}, {'ChrAccVer': 'AC_000148.1', 'ChrStart': '140886', 'AssemblyAccVer': 'GCF_000002125.1', 'ChrStop': '141749', 'AnnotationRelease': '105'}, {'ChrAccVer': 'NC_018927.2', 'ChrStart': '222851', 'AssemblyAccVer': 'GCF_000306695.2', 'ChrStop': '223714', 'AnnotationRelease': '105'}, {'ChrAccVer': 'NC_000016.9', 'ChrStart': '222845', 'AssemblyAccVer': 'GCF_000001405.22', 'ChrStop': '223708', 'AnnotationRelease': '104'}, {'ChrAccVer': 'AC_000148.1', 'ChrStart': '140886', 'AssemblyAccVer': 'GCF_000002125.1', 'ChrStop': '141749', 'AnnotationRelease': '104'}, {'ChrAccVer': 'NC_018927.1', 'ChrStart': '163285', 'AssemblyAccVer': 'GCF_000306695.1', 'ChrStop': '163870', 'AnnotationRelease': '104'}, {'ChrAccVer': 'NC_000016.9', 'ChrStart': '222845', 'AssemblyAccVer': 'GCF_000001405.21', 'ChrStop': '223708', 'AnnotationRelease': '103'}, {'ChrAccVer': 'AC_000148.1', 'ChrStart': '140886', 'AssemblyAccVer': 'GCF_000002125.1', 'ChrStop': '141749', 'AnnotationRelease': '103'}, {'ChrAccVer': 'NC_000016.9', 'ChrStart': '222845', 'AssemblyAccVer': 'GCF_000001405.17', 'ChrStop': '223708', 'AnnotationRelease': '37.3'}, {'ChrAccVer': 'AC_000148.1', 'ChrStart': '140886', 'AssemblyAccVer': 'GCF_000002125.1', 'ChrStop': '141749', 'AnnotationRelease': '37.3'}, {'ChrAccVer': 'NC_000016.9', 'ChrStart': '222845', 'AssemblyAccVer': 'GCF_000001405.14', 'ChrStop': '223708', 'AnnotationRelease': '37.2'}, {'ChrAccVer': 'AC_000059.1', 'ChrStart': '426164', 'AssemblyAccVer': 'GCF_000002115.2', 'ChrStop': '427035', 'AnnotationRelease': '37.2'}, {'ChrAccVer': 'AC_000148.1', 'ChrStart': '140886', 'AssemblyAccVer': 'GCF_000002125.1', 'ChrStop': '141749', 'AnnotationRelease': '37.2'}, {'ChrAccVer': 'NC_000016.9', 'ChrStart': '222845', 'AssemblyAccVer': 'GCF_000001405.13', 'ChrStop': '223708', 'AnnotationRelease': '37.1'}, {'ChrAccVer': 'AC_000059.1', 'ChrStart': '426164', 'AssemblyAccVer': 'GCF_000002115.2', 'ChrStop': '427034', 'AnnotationRelease': '37.1'}, {'ChrAccVer': 'AC_000148.1', 'ChrStart': '140886', 'AssemblyAccVer': 'GCF_000002125.1', 'ChrStop': '141749', 'AnnotationRelease': '37.1'}, {'ChrAccVer': 'NC_000016.8', 'ChrStart': '162874', 'AssemblyAccVer': 'GCF_000001405.12', 'ChrStop': '163707', 'AnnotationRelease': '36.3'}, {'ChrAccVer': 'AC_000148.1', 'ChrStart': '140915', 'AssemblyAccVer': 'GCF_000002125.1', 'ChrStop': '141748', 'AnnotationRelease': '36.3'}], 'OtherDesignations': 'hemoglobin subunit alpha|alpha globin|alpha-2 globin|hemoglobin alpha chain|hemoglobin, alpha 2|mutant hemoglobin alpha 2 globin chain', 'Mim': ['141850'], 'Summary': \"The human alpha globin gene cluster located on chromosome 16 spans about 30 kb and includes seven loci: 5'- zeta - pseudozeta - mu - pseudoalpha-1 - alpha-2 - alpha-1 - theta - 3'. The alpha-2 (HBA2) and alpha-1 (HBA1) coding sequences are identical. These genes differ slightly over the 5' untranslated regions and the introns, but they differ significantly over the 3' untranslated regions. Two alpha chains plus two beta chains constitute HbA, which in normal adult life comprises about 97% of the total hemoglobin; alpha chains combine with delta chains to constitute HbA-2, which with HbF (fetal hemoglobin) makes up the remaining 3% of adult hemoglobin. Alpha thalassemias result from deletions of each of the alpha genes as well as deletions of both HBA2 and HBA1; some nondeletion alpha thalassemias have also been reported. [provided by RefSeq, Jul 2008]\", 'ChrStart': '172846', 'Name': 'HBA2', 'GeneticSource': 'genomic', 'Organism': {'TaxID': '9606', 'CommonName': 'human', 'ScientificName': 'Homo sapiens'}, 'CurrentID': '0', 'MapLocation': '16p13.3', 'ChrSort': '16', 'Status': '0', 'Chromosome': '16'}, attributes={'uid': '3040'})]}, attributes={'status': 'OK'})}\n",
      "\n",
      "\n",
      "{'DocumentSummarySet': DictElement({'DbBuild': 'Build170430-1215.1', 'DocumentSummary': [DictElement({'Description': 'hypothetical gene supported by V00493; AF097635; AF349571; NM_000517', 'OtherAliases': '', 'GeneWeight': '0', 'GenomicInfo': [], 'NomenclatureName': '', 'NomenclatureSymbol': '', 'NomenclatureStatus': '', 'LocationHist': [], 'OtherDesignations': '', 'Mim': [], 'Summary': 'DISCONTINUED: This record has been withdrawn by NCBI because the model on which it was based was not predicted in a later annotation.', 'ChrStart': '999999999', 'Name': 'LOC113047', 'GeneticSource': 'genomic', 'Organism': {'TaxID': '9606', 'CommonName': 'human', 'ScientificName': 'Homo sapiens'}, 'CurrentID': '0', 'MapLocation': '16p13.3', 'ChrSort': '~~last', 'Status': '2', 'Chromosome': '16'}, attributes={'uid': '113047'})]}, attributes={'status': 'OK'})}\n",
      "\n",
      "\n"
     ]
    }
   ],
   "source": [
    "from Bio import Entrez# let NCBI know who you are\n",
    "# let NCBI know who you are\n",
    "Entrez.email = \"student umb email address\" \n",
    "db = \"gene\"\n",
    "# assign the RefSeq accession number (as a string!) to the variable \"query\" \n",
    "query = \"NM_000517\" \n",
    "\n",
    "# look up your query at Entrez\n",
    "h_search = Entrez.esearch(db=db, email = Entrez.email, term = query)\n",
    "# read the results\n",
    "srecord = Entrez.read(h_search)\n",
    "# assign the primary ids to a variable res_ids\n",
    "res_ids = srecord['IdList'] \n",
    "\n",
    "# for each id in the list\n",
    "for r_id in res_ids:\n",
    "    # look up the summary at Entrez\n",
    "    h_summ = Entrez.esummary(db=db, id=r_id, email = Entrez.email)\n",
    "    # read the results\n",
    "    summ = Entrez.read(h_summ)\n",
    "    # print out the summary\n",
    "    print(summ)  \n",
    "    # print out a visual separation\n",
    "    print('\\n') "
   ]
  },
  {
   "cell_type": "code",
   "execution_count": 2,
   "metadata": {
    "collapsed": false
   },
   "outputs": [
    {
     "name": "stdout",
     "output_type": "stream",
     "text": [
      "{'DocumentSummarySet': DictElement({'DbBuild': 'Build170430-1215.1', 'DocumentSummary': [DictElement({'Description': 'hypothetical gene supported by V00493; AF097635; AF349571; NM_000517', 'OtherAliases': '', 'GeneWeight': '0', 'GenomicInfo': [], 'NomenclatureName': '', 'NomenclatureSymbol': '', 'NomenclatureStatus': '', 'LocationHist': [], 'OtherDesignations': '', 'Mim': [], 'Summary': 'DISCONTINUED: This record has been withdrawn by NCBI because the model on which it was based was not predicted in a later annotation.', 'ChrStart': '999999999', 'Name': 'LOC113047', 'GeneticSource': 'genomic', 'Organism': {'TaxID': '9606', 'CommonName': 'human', 'ScientificName': 'Homo sapiens'}, 'CurrentID': '0', 'MapLocation': '16p13.3', 'ChrSort': '~~last', 'Status': '2', 'Chromosome': '16'}, attributes={'uid': '113047'})]}, attributes={'status': 'OK'})}\n"
     ]
    }
   ],
   "source": [
    "print(summ)"
   ]
  },
  {
   "cell_type": "code",
   "execution_count": 3,
   "metadata": {
    "collapsed": false
   },
   "outputs": [
    {
     "name": "stdout",
     "output_type": "stream",
     "text": [
      "dict_keys(['DocumentSummarySet'])\n"
     ]
    }
   ],
   "source": [
    "print(summ.keys())"
   ]
  },
  {
   "cell_type": "code",
   "execution_count": 4,
   "metadata": {
    "collapsed": false
   },
   "outputs": [
    {
     "name": "stdout",
     "output_type": "stream",
     "text": [
      "dict_keys(['DbBuild', 'DocumentSummary'])\n"
     ]
    }
   ],
   "source": [
    "print(summ['DocumentSummarySet'].keys())"
   ]
  },
  {
   "cell_type": "code",
   "execution_count": 5,
   "metadata": {
    "collapsed": false
   },
   "outputs": [
    {
     "name": "stdout",
     "output_type": "stream",
     "text": [
      "[DictElement({'Description': 'hypothetical gene supported by V00493; AF097635; AF349571; NM_000517', 'OtherAliases': '', 'GeneWeight': '0', 'GenomicInfo': [], 'NomenclatureName': '', 'NomenclatureSymbol': '', 'NomenclatureStatus': '', 'LocationHist': [], 'OtherDesignations': '', 'Mim': [], 'Summary': 'DISCONTINUED: This record has been withdrawn by NCBI because the model on which it was based was not predicted in a later annotation.', 'ChrStart': '999999999', 'Name': 'LOC113047', 'GeneticSource': 'genomic', 'Organism': {'TaxID': '9606', 'CommonName': 'human', 'ScientificName': 'Homo sapiens'}, 'CurrentID': '0', 'MapLocation': '16p13.3', 'ChrSort': '~~last', 'Status': '2', 'Chromosome': '16'}, attributes={'uid': '113047'})]\n"
     ]
    }
   ],
   "source": [
    "print(summ['DocumentSummarySet']['DocumentSummary'])"
   ]
  },
  {
   "cell_type": "code",
   "execution_count": 9,
   "metadata": {
    "collapsed": false
   },
   "outputs": [
    {
     "name": "stdout",
     "output_type": "stream",
     "text": [
      "dict_keys(['Description', 'OtherAliases', 'GeneWeight', 'GenomicInfo', 'NomenclatureName', 'NomenclatureSymbol', 'NomenclatureStatus', 'LocationHist', 'OtherDesignations', 'Mim', 'Summary', 'ChrStart', 'Name', 'GeneticSource', 'Organism', 'CurrentID', 'MapLocation', 'ChrSort', 'Status', 'Chromosome'])\n"
     ]
    }
   ],
   "source": [
    "print(summ['DocumentSummarySet']['DocumentSummary'][0].keys())"
   ]
  },
  {
   "cell_type": "code",
   "execution_count": 22,
   "metadata": {
    "collapsed": false
   },
   "outputs": [
    {
     "name": "stdout",
     "output_type": "stream",
     "text": [
      "DictElement({u'Status': '2', u'NomenclatureSymbol': '', u'OtherDesignations': '', u'Mim': [], u'Name': 'LOC113047', u'NomenclatureName': '', u'CurrentID': '0', u'GenomicInfo': [], u'OtherAliases': '', u'Summary': 'DISCONTINUED: This record has been withdrawn by NCBI because the model on which it was based was not predicted in a later annotation.', u'GeneWeight': '0', u'GeneticSource': 'genomic', u'MapLocation': '16p13.3', u'ChrSort': '~~last', u'ChrStart': '999999999', u'LocationHist': [], u'Organism': {u'CommonName': 'human', u'ScientificName': 'Homo sapiens', u'TaxID': '9606'}, u'NomenclatureStatus': '', u'Chromosome': '16', u'Description': 'hypothetical gene supported by V00493; AF097635; AF349571; NM_000517'}, attributes={u'uid': u'113047'})\n"
     ]
    }
   ],
   "source": [
    "print(summ['DocumentSummarySet']['DocumentSummary'][0])"
   ]
  },
  {
   "cell_type": "markdown",
   "metadata": {},
   "source": [
    "Notice that the Entrez.read(..) returns a list containing a dictionary. Find the key 'GenomicInfo', look at the corresponding key. It is a dictionary with keys, 'ChrAccVer' - the accession number of the chromosome your gene's record is based on, 'ChrLoc' - the chromosome your gene is located on, 'ExonCount' - the number of exons in your gene, 'ChrStop' - the position on the chromosome where the gene ends, 'ChrStart' - the position on the chromosome where the gene starts. \n",
    "\n",
    "**Q1. Look closely at the values of 'ChrLoc', 'ChrStart', and 'ChrStop' - what types of data are these?**\n"
   ]
  },
  {
   "cell_type": "raw",
   "metadata": {
    "collapsed": false
   },
   "source": [
    " The values od 'ChrLoc', 'Chrstart' and 'ChrStop' are integers"
   ]
  },
  {
   "cell_type": "markdown",
   "metadata": {},
   "source": [
    "Now that you know how to navigate across a nested dictionary, retrieve information on your gene."
   ]
  },
  {
   "cell_type": "markdown",
   "metadata": {},
   "source": [
    "First run the code below without making any changes, then analyze your output which is a list of keys for your record."
   ]
  },
  {
   "cell_type": "code",
   "execution_count": 24,
   "metadata": {
    "collapsed": false,
    "scrolled": true
   },
   "outputs": [
    {
     "name": "stdout",
     "output_type": "stream",
     "text": [
      "Keys for GenomicInfo\n",
      "[u'ChrAccVer', u'ChrLoc', u'ExonCount', u'ChrStop', u'ChrStart']\n",
      "Keys for parent key\n",
      "[u'Status', u'NomenclatureSymbol', u'OtherDesignations', u'Mim', u'Name', u'NomenclatureName', u'CurrentID', u'GenomicInfo', u'OtherAliases', u'Summary', u'GeneWeight', u'GeneticSource', u'MapLocation', u'ChrSort', u'ChrStart', u'LocationHist', u'Organism', u'NomenclatureStatus', u'Chromosome', u'Description']\n"
     ]
    }
   ],
   "source": [
    "for r_id in res_ids: # for each id in the list\n",
    "    h_summ = Entrez.esummary(db=db, id=r_id, email = Entrez.email) # look up the summary at Entrez\n",
    "    summ = Entrez.read(h_summ) # read the results\n",
    "    \n",
    "    if summ['DocumentSummarySet']['DocumentSummary'][0]['GenomicInfo'] != []: # if the value corresponding to the key is not blank\n",
    "        print(\"Keys for GenomicInfo\")\n",
    "        #print out the keys of the dictionary summ[0]\n",
    "        print(summ['DocumentSummarySet']['DocumentSummary'][0]['GenomicInfo'][0].keys()) \n",
    "        print(\"Keys for parent key\")\n",
    "        print(summ['DocumentSummarySet']['DocumentSummary'][0].keys())"
   ]
  },
  {
   "cell_type": "raw",
   "metadata": {},
   "source": [
    "Now you are ready to retrieve important information about your gene. Make sure that the values assigned to chromosome, starting_position, ending_position are integers.\n",
    "\n",
    "  * Create a variable named oname to store the name of the organism  \n",
    "  \n",
    "  * Create a variable named chromosome to store the chromosome number where your gene is located\n",
    "  \n",
    "  * Create a variable named starting_position to store the location on the chromosome where your gene starts\n",
    "  \n",
    "  * Create a variable named ending_position to store the location on the chromosome where your gene ends"
   ]
  },
  {
   "cell_type": "code",
   "execution_count": 10,
   "metadata": {
    "collapsed": false
   },
   "outputs": [
    {
     "name": "stdout",
     "output_type": "stream",
     "text": [
      "human\n",
      "HBA2 in human is found on chromosome 16 from position 172846 to position 173709\n",
      "chromosome data type is  <class 'int'>\n",
      "starting_position data type is  <class 'int'>\n",
      "ending_position data type is  <class 'int'>\n"
     ]
    }
   ],
   "source": [
    "for r_id in res_ids: # for each id in the list\n",
    "    h_summ = Entrez.esummary(db=db, id=r_id, email = Entrez.email) # look up the summary at Entrez\n",
    "    summ = Entrez.read(h_summ) # read the results\n",
    "    \n",
    "    # redefine variable summ to include the nested paths, this will make your code more readable and easier to type\n",
    "    summ = summ ['DocumentSummarySet']['DocumentSummary'][0]\n",
    "    \n",
    "    if summ['GenomicInfo']!= []: # if the value corresponding to the key is not blank\n",
    "        # create a variable oname and assign it to the value corresponding to the key 'Organism'\n",
    "        oname = summ['Organism']['CommonName']\n",
    "        # display the value of oname\n",
    "        print(oname)\n",
    "        # create a variable chromosome and assign it to the value corresponding to the key 'ChrLoc' in the dictionary 'GenomicInfo'\n",
    "        chromosome = summ['GenomicInfo'][0]['ChrLoc']\n",
    "        # create a variable starting_position and assign it to the value corresponding to the key 'ChrStart' in the dictionary 'GenomicInfo''\n",
    "        starting_position = summ['GenomicInfo'][0]['ChrStart']\n",
    "        # create a variable ending_position and assign it to the value corresponding to the key 'ChrStop' in the dictionary 'GenomicInfo'\n",
    "        ending_position = summ['GenomicInfo'][0]['ChrStop']\n",
    "        # display a sentence summarizing the position of the gene\n",
    "        print(\"HBA2 in\", oname, \"is found on chromosome\", chromosome, \"from position\", starting_position, \"to position\", ending_position)\n",
    "        \n",
    "# Convert variables chromosome, starting_position and ending_position to integer\n",
    "chromosome = int(chromosome)\n",
    "starting_position = int(starting_position)\n",
    "ending_position = int(ending_position)\n",
    "\n",
    "print(\"chromosome data type is \", type(chromosome))\n",
    "print(\"starting_position data type is \", type(starting_position))\n",
    "print(\"ending_position data type is \", type(ending_position))"
   ]
  },
  {
   "cell_type": "markdown",
   "metadata": {},
   "source": [
    " Q2. How many exons does your gene have?"
   ]
  },
  {
   "cell_type": "raw",
   "metadata": {},
   "source": [
    "Our gene has three exons."
   ]
  },
  {
   "cell_type": "markdown",
   "metadata": {},
   "source": [
    "Part 2. Querying genetic diversity."
   ]
  },
  {
   "cell_type": "markdown",
   "metadata": {},
   "source": [
    "Download the Example_hemoglobin_blast.XML file from Blackboard and save it on the same directory as this .ipynb file. We're going to use Biopython to parse the xml file and loop over the records. We'll use a regular expression to return the accession numbers of the hits with an e-value less than a threshold you define.  \n",
    "\n",
    "a) We'll find the accession number of each BLAST hit.  \n",
    "b) We'll filter the results by their e-value.  \n",
    "c) We'll put these pieces together in order to create a list of the accession numbers whose hits had an e-value less than a threshold you've defined.   \n",
    "d) We'll use the list of accesion numbers to look up the genomic location of each record.\n",
    "\n",
    "**First,** we need to know something about how information is stored in a **Biopython BLAST record**. The BLAST record classes are illustrated in section 7.4 of the Biopython tutorial, \"The BLAST record class\". http://biopython.org/DIST/docs/tutorial/Tutorial.html\n",
    "\n",
    "Note that each blast record has three attributes - descriptions, alignments, multiple_alignment. We're most interested in the attributes of alignments.\n",
    "\n",
    "**Second,** we need to know about **Regular expressions** (regex).\n",
    "A very powerful method for searching and retrieving matches inside a text. We can find matches by defining a pattern when we don't know the exact characters used.   \n",
    "\n",
    "A very useful resource on writing regular expressions in Python can be found here: https://docs.python.org/2/library/re.html. "
   ]
  },
  {
   "cell_type": "markdown",
   "metadata": {},
   "source": [
    "#### a) Finding the accession number of each hit"
   ]
  },
  {
   "cell_type": "markdown",
   "metadata": {},
   "source": [
    "First we'll parse the xml file and print out the alignment titles. ***You don't need to change anything to the following code cell, just run it.***"
   ]
  },
  {
   "cell_type": "code",
   "execution_count": 26,
   "metadata": {
    "collapsed": false
   },
   "outputs": [
    {
     "name": "stdout",
     "output_type": "stream",
     "text": [
      "gi|14250290|gb|BC008572.1| Homo sapiens hemoglobin, alpha 1, mRNA (cDNA clone MGC:17020 IMAGE:4177243), complete cds\n",
      "gi|62898344|dbj|AK223392.1| Homo sapiens mRNA for alpha 2 globin variant, clone: FCC107C11\n",
      "gi|14456711|ref|NM_000558.3| Homo sapiens hemoglobin, alpha 1 (HBA1), mRNA\n",
      "gi|9624480|gb|AF281258.1|AF281258 Homo sapiens alpha one globin (HBA1) mRNA, partial cds\n",
      "gi|28546|emb|V00488.1| Human alpha-globin germ line gene\n",
      "gi|557564619|gb|KF372020.1| Homo sapiens mutant hemoglobin alpha 2 globin chain (HBA2) gene, exons 1, 2 and partial cds\n",
      "gi|90568483|gb|DQ431236.1| Homo sapiens -alpha970 alpha-globin variant (HBA1) gene, partial sequence\n",
      "gi|13958152|gb|AF363956.1|AF363956 Homo sapiens hemoglobin alpha 2 (HBA2) gene, exons 1 and 2 and partial cds\n",
      "gi|313482798|ref|NM_005331.4| Homo sapiens hemoglobin, theta 1 (HBQ1), mRNA\n",
      "gi|6633805|ref|NM_005332.2| Homo sapiens hemoglobin, zeta (HBZ), mRNA\n",
      "gi|183799|gb|M22814.1|HUMHBADY2 Human alpha-hemoglobin gene, exon 2\n",
      "gi|120660063|gb|BC130457.1| Homo sapiens hemoglobin, gamma G, mRNA (cDNA clone MGC:163329 IMAGE:40146488), complete cds\n",
      "gi|15012033|gb|BC010914.1| Homo sapiens hemoglobin, gamma A, mRNA (cDNA clone MGC:13466 IMAGE:4134713), complete cds\n",
      "gi|183397884|gb|EF103274.2| Homo sapiens amyloid beta A4 precursor protein-binding family B member 1 transcript variant 3 (APBB1) mRNA, complete cds, alternatively spliced\n",
      "gi|28302129|ref|NM_005330.3| Homo sapiens hemoglobin, epsilon 1 (HBE1), mRNA\n",
      "gi|34190424|gb|BC015537.2| Homo sapiens hemoglobin, epsilon 1, mRNA (cDNA clone MGC:9582 IMAGE:3884290), complete cds\n",
      "gi|548923956|ref|NM_001257319.2| Homo sapiens amyloid beta (A4) precursor protein-binding, family B, member 1 (Fe65) (APBB1), transcript variant 9, mRNA\n"
     ]
    }
   ],
   "source": [
    "from Bio.Blast import NCBIXML # import the xml parsing library from Biopython\n",
    "\n",
    "result_handle = open(\"Example_hemoglobin_blast.xml\") # enter the name of the xml file here\n",
    "blast_records = NCBIXML.parse(result_handle) # ask the NCBIXML module to parse the file, organize the file according to its xml tags \n",
    "\n",
    "for blast_record in blast_records: # for each record in all the BLAST records parsed by NCBIXML.parse\n",
    "    for alignment in blast_record.alignments: # for each alignment in blast_record's attribute alignments\n",
    "        print(alignment.title) # print the alignment's title, where .title is an attribute of alignment"
   ]
  },
  {
   "cell_type": "markdown",
   "metadata": {},
   "source": [
    "Notice that the first capital letters to appear in each title are the capital letters at the begining of the accession number and that there are two capital letters in a row.\n",
    "Also notice that the first character after the accession number is \"|\".\n",
    "\n",
    "With this information we can define regular expressions (or pattern) to parse out the accession number. We'll first use the regular expression method **re.search**. This method takes two arguments, the regular expression (pattern) and the string to be searched.  \n",
    "\n",
    "To define the regular expression using python syntax from the URL given above:\n",
    "\n",
    "- We want to find the first capital letter. \n",
    "To do this, we can define a character set consisting of all the capital letters in the alphabet writen as [A-Z]\n",
    "\n",
    "- We also want to find two capital letters in a row. \n",
    "This is written as [A-Z]{2}. \n",
    "\n",
    "- After the two capital letters, there will be an unknown number of characters and then a | (pipe). The pipe will delimit our regular expression.\n",
    "\n",
    " . (dot) matches any single character except a newline character.\n",
    "\n",
    " \\* (star) matches any number of the preceding character.\n",
    " \n",
    "  We can use [A-Z]{2}.\\* to match any two capital letters in a row followed by any number of any character.\n",
    "  \n",
    "  Another problem is that the \\* operator is greedy, meaning it will match as many characters as it can until it hits the next element (in our case, the pipe). In our record there are multiple | in the title .\\* seeks to match as many characters as possible and that would include all the | before the last one. We want to limit the greediness of \\* so that it returns the match with the fewest number of characters.\n",
    "  \n",
    "  \n",
    "- ? operator forces \\* to match the first |\n",
    "   \n",
    "   This will return the minimal rather than the maximum match.\n",
    "\n",
    "\n",
    "- The end of our match will have a |\n",
    "\n",
    "  One problem is that | is a character with special meaning in regular expressions so to literally match a | we need to \"escape it\" by preceding it with a backslash, e.g. \\\\ |. \n",
    "  \n",
    "Putting all these pieces together, our final regular expression query is\n",
    "**\"[A-Z]{2}.\\*?\\\\|\"**\n",
    "\n",
    "Note that some DDBJ/EMBL/GenBank accession number formats begin with one capital letter (not two) - if your blast results include these accession numbers you will need to delete {2} from the above regular expression. \n",
    "\n",
    "***You don't need to change anything to the following code cell, just run it. As I explain each line, please make sure you undertand.***"
   ]
  },
  {
   "cell_type": "code",
   "execution_count": 27,
   "metadata": {
    "collapsed": false
   },
   "outputs": [
    {
     "name": "stdout",
     "output_type": "stream",
     "text": [
      "gi|14250290|gb|BC008572.1| Homo sapiens hemoglobin, alpha 1, mRNA (cDNA clone MGC:17020 IMAGE:4177243), complete cds\n",
      "End of match: 26\n",
      "BC008572.1\n",
      "\n",
      "\n",
      "gi|62898344|dbj|AK223392.1| Homo sapiens mRNA for alpha 2 globin variant, clone: FCC107C11\n",
      "End of match: 27\n",
      "AK223392.1\n",
      "\n",
      "\n",
      "gi|14456711|ref|NM_000558.3| Homo sapiens hemoglobin, alpha 1 (HBA1), mRNA\n",
      "End of match: 28\n",
      "NM_000558.3\n",
      "\n",
      "\n",
      "gi|9624480|gb|AF281258.1|AF281258 Homo sapiens alpha one globin (HBA1) mRNA, partial cds\n",
      "End of match: 25\n",
      "AF281258.1\n",
      "\n",
      "\n",
      "gi|28546|emb|V00488.1| Human alpha-globin germ line gene\n",
      "Accession number not found in gi|28546|emb|V00488.1| Human alpha-globin germ line gene\n",
      "gi|557564619|gb|KF372020.1| Homo sapiens mutant hemoglobin alpha 2 globin chain (HBA2) gene, exons 1, 2 and partial cds\n",
      "End of match: 27\n",
      "KF372020.1\n",
      "\n",
      "\n",
      "gi|90568483|gb|DQ431236.1| Homo sapiens -alpha970 alpha-globin variant (HBA1) gene, partial sequence\n",
      "End of match: 26\n",
      "DQ431236.1\n",
      "\n",
      "\n",
      "gi|13958152|gb|AF363956.1|AF363956 Homo sapiens hemoglobin alpha 2 (HBA2) gene, exons 1 and 2 and partial cds\n",
      "End of match: 26\n",
      "AF363956.1\n",
      "\n",
      "\n",
      "gi|313482798|ref|NM_005331.4| Homo sapiens hemoglobin, theta 1 (HBQ1), mRNA\n",
      "End of match: 29\n",
      "NM_005331.4\n",
      "\n",
      "\n",
      "gi|6633805|ref|NM_005332.2| Homo sapiens hemoglobin, zeta (HBZ), mRNA\n",
      "End of match: 27\n",
      "NM_005332.2\n",
      "\n",
      "\n",
      "gi|183799|gb|M22814.1|HUMHBADY2 Human alpha-hemoglobin gene, exon 2\n",
      "Accession number not found in gi|183799|gb|M22814.1|HUMHBADY2 Human alpha-hemoglobin gene, exon 2\n",
      "gi|120660063|gb|BC130457.1| Homo sapiens hemoglobin, gamma G, mRNA (cDNA clone MGC:163329 IMAGE:40146488), complete cds\n",
      "End of match: 27\n",
      "BC130457.1\n",
      "\n",
      "\n",
      "gi|15012033|gb|BC010914.1| Homo sapiens hemoglobin, gamma A, mRNA (cDNA clone MGC:13466 IMAGE:4134713), complete cds\n",
      "End of match: 26\n",
      "BC010914.1\n",
      "\n",
      "\n",
      "gi|183397884|gb|EF103274.2| Homo sapiens amyloid beta A4 precursor protein-binding family B member 1 transcript variant 3 (APBB1) mRNA, complete cds, alternatively spliced\n",
      "End of match: 27\n",
      "EF103274.2\n",
      "\n",
      "\n",
      "gi|28302129|ref|NM_005330.3| Homo sapiens hemoglobin, epsilon 1 (HBE1), mRNA\n",
      "End of match: 28\n",
      "NM_005330.3\n",
      "\n",
      "\n",
      "gi|34190424|gb|BC015537.2| Homo sapiens hemoglobin, epsilon 1, mRNA (cDNA clone MGC:9582 IMAGE:3884290), complete cds\n",
      "End of match: 26\n",
      "BC015537.2\n",
      "\n",
      "\n",
      "gi|548923956|ref|NM_001257319.2| Homo sapiens amyloid beta (A4) precursor protein-binding, family B, member 1 (Fe65) (APBB1), transcript variant 9, mRNA\n",
      "End of match: 32\n",
      "NM_001257319.2\n",
      "\n",
      "\n"
     ]
    }
   ],
   "source": [
    "import re\n",
    "\n",
    "result_handle = open(\"Example_hemoglobin_blast.xml\") # enter the name of the xml file here\n",
    "blast_records = NCBIXML.parse(result_handle) # ask the NCBIXML module to parse the file, organize the file according to its xml tags \n",
    "\n",
    "for blast_record in blast_records: # for each blast_record in blast_records\n",
    "    for alignment in blast_record.alignments: # for each alignment in blast_record.alignments\n",
    "        print(alignment.title) # print the name of the hit, use the .title attribute of the alignment\n",
    "        find_acc = re.search(\"[A-Z]{2}.*?\\|\", alignment.title) # assign a variable called find_acc to the result of re.search using the query string derived above in the name of the hit \n",
    "        if find_acc == None: # if a match is not found in the alignment title\n",
    "            print(\"Accession number not found in\", alignment.title) # print out a warning, the alignment title \n",
    "            continue # if not found, don't print and continue to the next for alignment iteration        print \"Start of match:\", find_acc.start() # print the beginning of the match \n",
    "        print(\"End of match:\", find_acc.end()) # print the end of the match\n",
    "        print(alignment.title[find_acc.start():find_acc.end()-1]) # use the begining and end of the match to return a slice of alignment.title, note that the end of the slice is the match end -1 because we don't actually want to return the | that follows the accession number\n",
    "        print('\\n') #print a newline character as a visual barrier between records"
   ]
  },
  {
   "cell_type": "markdown",
   "metadata": {},
   "source": [
    "#### b) Filtering by e-value"
   ]
  },
  {
   "cell_type": "markdown",
   "metadata": {},
   "source": [
    "First, you'll need to define the maximum e-value which supports an inferrence of homology. \n",
    "\n",
    "Q3. Define a relevant e-value threshold and provide an explanation below."
   ]
  },
  {
   "cell_type": "raw",
   "metadata": {},
   "source": [
    "A relevant e-value is 0.01 this is a commonly used e- value in science"
   ]
  },
  {
   "cell_type": "markdown",
   "metadata": {},
   "source": [
    "The e-value is found in the expect attribute of the hsps attribute of each alignment. How many hits in your BLAST results have e-values less than or equal to your threshold? For each blast hit you'll first ask if the e-value is less than or equal to your threshold, if so then increase a counter variable by one. Then print out the full length of the subject sequence, the length of the alignment, the number of identical positions within the alignment, the e-value, and the first 75 characters of each alignment."
   ]
  },
  {
   "cell_type": "code",
   "execution_count": 28,
   "metadata": {
    "collapsed": false
   },
   "outputs": [
    {
     "name": "stdout",
     "output_type": "stream",
     "text": [
      "length: 579\n",
      "length of local alignment: 579\n",
      "identical positions: 578\n",
      "e value: 0.0\n",
      "CACAGACTCAGAGAGAACCCACCATGGTGCTGTCTCCTGCCGACAAGACCAACGTCAAGGCCGCCTGGGGTAAGG...\n",
      "|||||||||||||||||||||||||||||||||||||||||||||||||||||||||||||||||||||||||||...\n",
      "CACAGACTCAGAGAGAACCCACCATGGTGCTGTCTCCTGCCGACAAGACCAACGTCAAGGCCGCCTGGGGTAAGG...\n",
      "\n",
      "\n",
      "length: 608\n",
      "length of local alignment: 594\n",
      "identical positions: 573\n",
      "e value: 0.0\n",
      "ACTCTTCTGGTCCCCACAGACTCAGAGAGAACCCACCATGGTGCTGTCTCCTGCCGACAAGACCAACGTCAAGGC...\n",
      "|||||||||||||||||||||||||||||||||||||||||||||||||||||||||||||||| ||||||||||...\n",
      "ACTCTTCTGGTCCCCACAGACTCAGAGAGAACCCACCATGGTGCTGTCTCCTGCCGACAAGACCCACGTCAAGGC...\n",
      "\n",
      "\n",
      "length: 576\n",
      "length of local alignment: 576\n",
      "identical positions: 556\n",
      "e value: 0.0\n",
      "ACTCTTCTGGTCCCCACAGACTCAGAGAGAACCCACCATGGTGCTGTCTCCTGCCGACAAGACCAACGTCAAGGC...\n",
      "|||||||||||||||||||||||||||||||||||||||||||||||||||||||||||||||||||||||||||...\n",
      "ACTCTTCTGGTCCCCACAGACTCAGAGAGAACCCACCATGGTGCTGTCTCCTGCCGACAAGACCAACGTCAAGGC...\n",
      "\n",
      "\n",
      "length: 316\n",
      "length of local alignment: 316\n",
      "identical positions: 308\n",
      "e value: 3.02039e-149\n",
      "CGGCTCTGCCCAGGTTAAGGGCCACGGCAAGAAGGTGGCCGACGCGCTGACCAACGCCGTGGCGCACGTGGACGA...\n",
      "|||||||||||||||||||||||||||||||||||||||||||||||||||||||||||||||||||||||||||...\n",
      "CGGCTCTGCCCAGGTTAAGGGCCACGGCAAGAAGGTGGCCGACGCGCTGACCAACGCCGTGGCGCACGTGGACGA...\n",
      "\n",
      "\n",
      "length: 1138\n",
      "length of local alignment: 241\n",
      "identical positions: 239\n",
      "e value: 1.12758e-116\n",
      "AGCTCCTAAGCCACTGCCTGCTGGTGACCCTGGCCGCCCACCTCCCCGCCGAGTTCACCCCTGCGGTGCACGCCT...\n",
      "||||||||||||||||||||||||||||||||||||||||||||||||||||||||||||||||||||||||| |...\n",
      "AGCTCCTAAGCCACTGCCTGCTGGTGACCCTGGCCGCCCACCTCCCCGCCGAGTTCACCCCTGCGGTGCACGCTT...\n",
      "\n",
      "\n",
      "length: 1138\n",
      "length of local alignment: 207\n",
      "identical positions: 206\n",
      "e value: 2.65417e-99\n",
      "AGGATGTTCCTGTCCTTCCCCACCACCAAGACCTACTTCCCGCACTTCGACCTGAGCCACGGCTCTGCCCAGGTT...\n",
      "||||||||||||||||||||||||||||||||||||||||||||||||||||||||||||||||||||||| |||...\n",
      "AGGATGTTCCTGTCCTTCCCCACCACCAAGACCTACTTCCCGCACTTCGACCTGAGCCACGGCTCTGCCCAAGTT...\n",
      "\n",
      "\n",
      "length: 1138\n",
      "length of local alignment: 162\n",
      "identical positions: 161\n",
      "e value: 7.12841e-75\n",
      "CATAAACCCTGGCGCGCTCGCGGGCCGGCACTCTTCTGGTCCCCACAGACTCAGAGAGAACCCACCATGGTGCTG...\n",
      "||||||||||||||||||||||| |||||||||||||||||||||||||||||||||||||||||||||||||||...\n",
      "CATAAACCCTGGCGCGCTCGCGGCCCGGCACTCTTCTGGTCCCCACAGACTCAGAGAGAACCCACCATGGTGCTG...\n",
      "\n",
      "\n",
      "length: 483\n",
      "length of local alignment: 207\n",
      "identical positions: 207\n",
      "e value: 6.242e-101\n",
      "AGGATGTTCCTGTCCTTCCCCACCACCAAGACCTACTTCCCGCACTTCGACCTGAGCCACGGCTCTGCCCAGGTT...\n",
      "|||||||||||||||||||||||||||||||||||||||||||||||||||||||||||||||||||||||||||...\n",
      "AGGATGTTCCTGTCCTTCCCCACCACCAAGACCTACTTCCCGCACTTCGACCTGAGCCACGGCTCTGCCCAGGTT...\n",
      "\n",
      "\n",
      "length: 483\n",
      "length of local alignment: 162\n",
      "identical positions: 162\n",
      "e value: 1.67644e-76\n",
      "CATAAACCCTGGCGCGCTCGCGGGCCGGCACTCTTCTGGTCCCCACAGACTCAGAGAGAACCCACCATGGTGCTG...\n",
      "|||||||||||||||||||||||||||||||||||||||||||||||||||||||||||||||||||||||||||...\n",
      "CATAAACCCTGGCGCGCTCGCGGGCCGGCACTCTTCTGGTCCCCACAGACTCAGAGAGAACCCACCATGGTGCTG...\n",
      "\n",
      "\n",
      "length: 1043\n",
      "length of local alignment: 207\n",
      "identical positions: 207\n",
      "e value: 6.242e-101\n",
      "AGGATGTTCCTGTCCTTCCCCACCACCAAGACCTACTTCCCGCACTTCGACCTGAGCCACGGCTCTGCCCAGGTT...\n",
      "|||||||||||||||||||||||||||||||||||||||||||||||||||||||||||||||||||||||||||...\n",
      "AGGATGTTCCTGTCCTTCCCCACCACCAAGACCTACTTCCCGCACTTCGACCTGAGCCACGGCTCTGCCCAGGTT...\n",
      "\n",
      "\n",
      "length: 1043\n",
      "length of local alignment: 174\n",
      "identical positions: 167\n",
      "e value: 3.03108e-73\n",
      "AGCTCCTAAGCCACTGCCTGCTGGTGACCCTGGCCGCCCACCTCCCCGCCGAGTTCACCCCTGCGGTGCACGCCT...\n",
      "|||||||||||||||||||||||||||||||||||||||||||||||||||||||||||||||||||||||||||...\n",
      "AGCTCCTAAGCCACTGCCTGCTGGTGACCCTGGCCGCCCACCTCCCCGCCGAGTTCACCCCTGCGGTGCACGCCT...\n",
      "\n",
      "\n",
      "length: 1043\n",
      "length of local alignment: 107\n",
      "identical positions: 107\n",
      "e value: 1.20819e-46\n",
      "GAGAACCCACCATGGTGCTGTCTCCTGCCGACAAGACCAACGTCAAGGCCGCCTGGGGTAAGGTCGGCGCGCACG...\n",
      "|||||||||||||||||||||||||||||||||||||||||||||||||||||||||||||||||||||||||||...\n",
      "GAGAACCCACCATGGTGCTGTCTCCTGCCGACAAGACCAACGTCAAGGCCGCCTGGGGTAAGGTCGGCGCGCACG...\n",
      "\n",
      "\n",
      "length: 375\n",
      "length of local alignment: 207\n",
      "identical positions: 206\n",
      "e value: 2.65417e-99\n",
      "AGGATGTTCCTGTCCTTCCCCACCACCAAGACCTACTTCCCGCACTTCGACCTGAGCCACGGCTCTGCCCAGGTT...\n",
      "|||||||||||||||||||||||||||||||||||||||||||||||||||||||||||||||||||||||||||...\n",
      "AGGATGTTCCTGTCCTTCCCCACCACCAAGACCTACTTCCCGCACTTCGACCTGAGCCACGGCTCTGCCCAGGTT...\n",
      "\n",
      "\n",
      "length: 653\n",
      "length of local alignment: 309\n",
      "identical positions: 250\n",
      "e value: 5.85136e-76\n",
      "GAGGCCCTGGAGAGGATGTTCCTGTCCTTCCCCACCACCAAGACCTACTTCCCGCACTTCGACCTGAGCCACGGC...\n",
      "||||||||||| ||||  |||||| | |||||| |||| |||||||||||| | ||| | |||||||||| ||||...\n",
      "GAGGCCCTGGAAAGGACCTTCCTGGCTTTCCCCGCCACGAAGACCTACTTCTCCCACCTGGACCTGAGCCCCGGC...\n",
      "\n",
      "\n",
      "length: 589\n",
      "length of local alignment: 309\n",
      "identical positions: 233\n",
      "e value: 5.48516e-51\n",
      "GAGGCCCTGGAGAGGATGTTCCTGTCCTTCCCCACCACCAAGACCTACTTCCCGCACTTCGACCTGAGCCACGGC...\n",
      "||| | ||||||||| | |||||   |  |||    ||||||||||||||||||||||||||||||  ||  || ...\n",
      "GAGACTCTGGAGAGGCTCTTCCTCAGCCACCCGCAGACCAAGACCTACTTCCCGCACTTCGACCTGCACCCGGGG...\n",
      "\n",
      "\n",
      "length: 79\n",
      "length of local alignment: 78\n",
      "identical positions: 78\n",
      "e value: 6.6882e-31\n",
      "AGGATGTTCCTGTCCTTCCCCACCACCAAGACCTACTTCCCGCACTTCGACCTGAGCCACGGCTCTGCCCAGGTT...\n",
      "|||||||||||||||||||||||||||||||||||||||||||||||||||||||||||||||||||||||||||...\n",
      "AGGATGTTCCTGTCCTTCCCCACCACCAAGACCTACTTCCCGCACTTCGACCTGAGCCACGGCTCTGCCCAGGTT...\n",
      "\n",
      "\n",
      "length: 513\n",
      "length of local alignment: 186\n",
      "identical positions: 126\n",
      "e value: 2.18832e-05\n",
      "CTGAGCGACCTGCACGCGCACAAGCTTCGGGTGGACCCGGTCAACTTCAAGCTCCTAAGCCACTGCCTGCTGGTG...\n",
      "||||| || ||||||    ||||||| |  ||||| || |  ||||||||||||||  |  | ||  ||||||||...\n",
      "CTGAGTGAACTGCACTGTGACAAGCTGCATGTGGATCCTGAGAACTTCAAGCTCCT-GGGAAATG--TGCTGGTG...\n",
      "\n",
      "\n",
      "length: 618\n",
      "length of local alignment: 186\n",
      "identical positions: 126\n",
      "e value: 2.18832e-05\n",
      "CTGAGCGACCTGCACGCGCACAAGCTTCGGGTGGACCCGGTCAACTTCAAGCTCCTAAGCCACTGCCTGCTGGTG...\n",
      "||||| || ||||||    ||||||| |  ||||| || |  ||||||||||||||  |  | ||  ||||||||...\n",
      "CTGAGTGAACTGCACTGTGACAAGCTGCATGTGGATCCTGAGAACTTCAAGCTCCT-GGGAAATG--TGCTGGTG...\n",
      "\n",
      "\n",
      "18\n"
     ]
    }
   ],
   "source": [
    "result_handle = open(\"Example_hemoglobin_blast.xml\") # enter the name of the xml file here\n",
    "blast_records = NCBIXML.parse(result_handle) # ask the NCBIXML module to parse the file, organize the file according to its xml tags \n",
    "\n",
    "# create a variable named e_value_thresh to hold the number for your minimum e-value threshold\n",
    "e_value_thresh = 0.01\n",
    "# create a variable named count_hits to hold the count of the number of hits with e-value less than threshold\n",
    "count_hits = 0\n",
    "\n",
    "for blast_record in blast_records:  # for each blast_record in blast_records\n",
    "    for alignment in blast_record.alignments: # for each alignment in blast_record.alignments\n",
    "        for hsp in alignment.hsps: # for each high scoring pair in alignment.hsps\n",
    "            \n",
    "            # if the e-value (\"expect\") is less than or equal to your threshold\n",
    "            if hsp.expect <= e_value_thresh:\n",
    "                count_hits += 1 # increment the counter, count_hits by one\n",
    "                print('length:', alignment.length) # display the length of the full subject sequence\n",
    "                print('length of local alignment:', len(hsp.sbjct)) # display the length of the local alignment\n",
    "                print('identical positions:', hsp.identities) # display the number of identical positions in local alignment\n",
    "                print('e value:', hsp.expect) # display the e-value\n",
    "            \n",
    "                print(hsp.query[0:75] + '...') # print out the first 75 characters of the aligned query\n",
    "                print(hsp.match[0:75] + '...') # print out the | characters representing matching positions for the first 75 characters of the alignment\n",
    "                print(hsp.sbjct[0:75] + '...') # print out the first 75 characters of the aligned subject \n",
    "                print('\\n') # print a newline character as a visual barrier between records\n",
    "\n",
    "# display the value of count_hits\n",
    "print(count_hits)"
   ]
  },
  {
   "cell_type": "markdown",
   "metadata": {},
   "source": [
    "#### c) Generate a list of the accession numbers of sequences containing hits with e-values less than your threshold. "
   ]
  },
  {
   "cell_type": "markdown",
   "metadata": {},
   "source": [
    "Now we'll combine the filtering by e-value with the regular expression designed above to create a list of the accession numbers of subject sequences containing hits with e-values less than or equal to the threshold set above.   \n",
    "\n",
    "Q4. Do you think a single subject sequence could contain more than one BLAST hit? Write your hypothesis below, we will test this hypothesis later. "
   ]
  },
  {
   "cell_type": "raw",
   "metadata": {},
   "source": [
    "Yes I think that one subject could contain more than one blast hit. "
   ]
  },
  {
   "cell_type": "code",
   "execution_count": 41,
   "metadata": {
    "collapsed": false
   },
   "outputs": [
    {
     "name": "stdout",
     "output_type": "stream",
     "text": [
      "how many hits meet the minimun e-value threshold: 13\n",
      "the complete list of hits: [u'BC008572.1', u'AK223392.1', u'NM_000558.3', u'AF281258.1', u'V00488.1', u'KF372020.1', u'DQ431236.1', u'AF363956.1', u'NM_005331.4', u'NM_005332.2', u'M22814.1', u'BC130457.1', u'BC010914.1']\n"
     ]
    }
   ],
   "source": [
    "import re\n",
    "\n",
    "result_handle = open(\"Example_hemoglobin_blast.xml\") # enter the name of the xml file here\n",
    "blast_records = NCBIXML.parse(result_handle) # ask the NCBIXML module to parse the file, organize the file according to its xml tags \n",
    "\n",
    "acc_list = [] # create an empty list named acc_list to hold the accession numbers of hits passing your filter\n",
    "\n",
    "e_value_thresh =0.01 # enter the minimum e-value threshold here \n",
    "\n",
    "for blast_record in blast_records:  # for each blast_record in blast_records\n",
    "    for alignment in blast_record.alignments: # for each alignment in blast_record.alignments\n",
    "        for hsp in alignment.hsps: # for each high scoring pair in alignment.hsps\n",
    "            if hsp.expect <= e_value_thresh: # if the e-value, hsp.expect, is less than or equal to your threshold\n",
    "                find_acc = re.search(\"[A-Z].*?\\|\", alignment.title) # assign a variable called find_acc to the result of re.search using the query string derived above in the name of the hit \n",
    "                if find_acc == None: # if a match is not found in the alignment title\n",
    "                    print(\"Accession number not found in\", alignment.title) # print out a warning, the alignment title \n",
    "                    continue # continue with next for hsp iteration\n",
    "                \n",
    "                # create a variable with the begining and end of the match from the title, note that the end of the slice is the match end -1 because we don't actually want to return the | that follows the accession number\n",
    "                acc_id = alignment.title[find_acc.start():find_acc.end()-1]\n",
    "                if acc_id not in acc_list:# if the accession number, acc_id, is not already in the list acc_list\n",
    "                    acc_list.append(acc_id)# add the accession number to acc_list\n",
    "\n",
    "#print how many hits meet the minimum e-value threshold\n",
    "print(\"how many hits meet the minimun e-value threshold:\", len(acc_list))\n",
    "#print the complete list of hits\n",
    "print(\"the complete list of hits:\", acc_list)"
   ]
  },
  {
   "cell_type": "markdown",
   "metadata": {},
   "source": [
    "When the BLASTn query returns multiple hits within a species, we need to determine if those hits are sequence/splice variants or paralogs. We can do this by looking up the Genbank record of each hit, returning the genomic location of the hit, and comparing the location to that of the original BLAST query. \n",
    "\n",
    "But first, we need to group the accession numbers according to the organism in which they are found.\n",
    "\n",
    "***You don't need to change anything to the following code cell, just run it. As I explain each line, please make sure you undertand.***"
   ]
  },
  {
   "cell_type": "code",
   "execution_count": 43,
   "metadata": {
    "collapsed": false
   },
   "outputs": [
    {
     "name": "stdout",
     "output_type": "stream",
     "text": [
      "These are the values of the hits that passed the threshold:  [u'BC008572.1', u'AK223392.1', u'NM_000558.3', u'AF281258.1', u'V00488.1', u'KF372020.1', u'DQ431236.1', u'AF363956.1', u'NM_005331.4', u'NM_005332.2', u'M22814.1', u'BC130457.1', u'BC010914.1']\n",
      "\n",
      "Same hits ordered by species and with genomic information:\n",
      "{'Homo sapiens': [u'BC008572.1', u'AK223392.1', u'AF281258.1', u'V00488.1', u'KF372020.1', u'DQ431236.1', u'AF363956.1', u'NM_005331.4', u'NM_005332.2', u'BC130457.1', u'BC010914.1']}\n"
     ]
    }
   ],
   "source": [
    "Entrez.email = \"Patricia.Guardado001@umb.edu\" # let NCBI know who you are\n",
    "db = \"gene\" # enter the database to query\n",
    "organism_dict = {} # create an empty dictionary called organism_dict, organism name will be the key and a list of accession numbers of records in that organism\n",
    "\n",
    "print(\"These are the values of the hits that passed the threshold: \", acc_list)\n",
    "\n",
    "for i in acc_list: # loop over each accession number in the list acc_list\n",
    "    h_search = Entrez.esearch(db=db, email = Entrez.email, term = i) # use Entrez.esearch to look up records associated with each accession number in the Gene database\n",
    "    srecord = Entrez.read(h_search) # read the results of the Entrez.esearch query\n",
    "    res_ids = srecord[\"IdList\"] # get the list of primary ids from that query\n",
    "    for r_id in res_ids: # for each id in the list res_ids\n",
    "        h_summ = Entrez.esummary(db=db, id=r_id, email = Entrez.email) # query the Entrez db with that id\n",
    "        summ = Entrez.read(h_summ) # read the result\n",
    "        summ = summ['DocumentSummarySet']['DocumentSummary'][0]\n",
    "        if summ['GenomicInfo'] != []: # only the records having information on the genomic position are relevant\n",
    "            if summ['Organism']['ScientificName'] in organism_dict: # ask if the organism of the summary is in the dictionary organism_dict\n",
    "                if i not in organism_dict[summ['Organism']['ScientificName']]:  # if the accesion number is not already associated with that organism\n",
    "                    organism_dict[summ['Organism']['ScientificName']].append(i)# add the accession number i to the list of accession numbers\n",
    "            else: # if the organism is not already in the dictionary organism_dict\n",
    "                organism_dict[summ['Organism']['ScientificName']] = [i] # add the organism as a key to the dictionary and associate it with the accession number as a list\n",
    "            \n",
    "print(\"\\nSame hits ordered by species and with genomic information:\")\n",
    "print(organism_dict) # display the values of the entire dictionary organism_dict"
   ]
  },
  {
   "cell_type": "markdown",
   "metadata": {},
   "source": [
    "We're most interested in the organism in which the gene you're studying is found. So let's loop over the organism dictionary, organism_dict, and only where the key (organism name) is equal to your organism's we'll assign the records to a dictionary, chromosome_dict, where the chromosome number will be the key and the value will be a list of lists containing information about each gene located on that chromromse. \n",
    "\n",
    "***You don't need to change anything to the following code cell, just run it. As I explain each line, please make sure you undertand.***"
   ]
  },
  {
   "cell_type": "code",
   "execution_count": 46,
   "metadata": {
    "collapsed": false
   },
   "outputs": [
    {
     "name": "stdout",
     "output_type": "stream",
     "text": [
      "['Homo sapiens']\n",
      "{'11': [[u'BC130457.1', 'hemoglobin subunit gamma 2', 3, 'NC_000011.10', 5254780, 5253190], [u'BC010914.1', 'hemoglobin subunit gamma 2', 3, 'NC_000011.10', 5254780, 5253190]], '16': [[u'BC008572.1', 'hemoglobin subunit alpha 1', 3, 'NC_000016.10', 176650, 177521], [u'BC008572.1', 'hemoglobin subunit alpha 2', 3, 'NC_000016.10', 172846, 173709], [u'AK223392.1', 'hemoglobin subunit alpha 1', 3, 'NC_000016.10', 176650, 177521], [u'AK223392.1', 'hemoglobin subunit alpha 2', 3, 'NC_000016.10', 172846, 173709], [u'AF281258.1', 'hemoglobin subunit alpha 1', 3, 'NC_000016.10', 176650, 177521], [u'AF281258.1', 'hemoglobin subunit alpha 2', 3, 'NC_000016.10', 172846, 173709], [u'V00488.1', 'hemoglobin subunit alpha 2', 3, 'NC_000016.10', 172846, 173709], [u'KF372020.1', 'hemoglobin subunit alpha 2', 3, 'NC_000016.10', 172846, 173709], [u'DQ431236.1', 'hemoglobin subunit alpha 1', 3, 'NC_000016.10', 176650, 177521], [u'AF363956.1', 'hemoglobin subunit alpha 1', 3, 'NC_000016.10', 176650, 177521], [u'NM_005331.4', 'hemoglobin subunit theta 1', 3, 'NC_000016.10', 180333, 181178], [u'NM_005332.2', 'hemoglobin subunit zeta', 4, 'NC_000016.10', 142052, 154504]]}\n"
     ]
    }
   ],
   "source": [
    "db = \"gene\" # the Entrez database we'll query\n",
    "chromosome_dict = {} # a dictionary with keys = chromosomes and values = accession number, gene description, number of exons, chromosome accession number, begining position of gene, ending position of gene  \n",
    "\n",
    "print(organism_dict.keys())\n",
    "\n",
    "for i in organism_dict: # for each organism in the dictionary\n",
    "    if 'Homo sapiens' in organism_dict.keys(): # if the organism is the same as the organism where your gene is found\n",
    "        for j in organism_dict[i]: # for each accession number in the list of all accession numbers associated with that organism\n",
    "            acc = j # create a variable named acc and assign it to the accession number\n",
    "            h_search = Entrez.esearch(db=db, email = Entrez.email, term = j) # query the Entrez database with the accession number\n",
    "            srecord = Entrez.read(h_search) # read the record returned\n",
    "            res_ids = srecord[\"IdList\"] # create a list of ids\n",
    "            for r_id in res_ids: # for each id in list\n",
    "                h_summ = Entrez.esummary(db=db, id=r_id, email = Entrez.email) # use the id to query the Entrez database\n",
    "                summ = Entrez.read(h_summ) # read the result\n",
    "                summ = summ['DocumentSummarySet']['DocumentSummary'][0]                \n",
    "                if summ['GenomicInfo'] != []: # only the records having information on the genomic position are relevant\n",
    "                    chrom_version = summ['GenomicInfo'][0]['ChrAccVer'] # create a variable chrom_version and assign it to the value corresponding to the key 'ChrAccVer' in the dictionary 'GenomicInfo'\n",
    "                    gene_descrip = summ['Description'] # create a variable gene_descrip and assign it to the value corresponding to the key 'Description' in the dictionary summ\n",
    "                    exon_num = int(summ['GenomicInfo'][0]['ExonCount']) # create a variable exon_num and assign it to the value corresponding to the key 'ExonCount' in the dictionary 'GenomicInfo'\n",
    "                    hit_chrom_loc = summ['GenomicInfo'][0]['ChrLoc'] # create a variable hit_chrom_loc and assign it to the value corresponding to the key 'ChrLoc' in the dictionary 'GenomicInfo'\n",
    "                    hit_gene_start = int(summ['GenomicInfo'][0]['ChrStart']) # create a variable hit_gene_start and assign it to the value corresponding to the key 'ChrStart' in the dictionary 'GenomicInfo'\n",
    "                    hit_gene_end = int(summ['GenomicInfo'][0]['ChrStop']) # create a variable hit_gene_end and assign it to the value corresponding to the key 'ChrStop' in the dictionary 'GenomicInfo'\n",
    "                    if hit_chrom_loc in chromosome_dict: # if the chromosome number is already a key in the dictionary chromosome_dict\n",
    "                        # add a list containing, the accession number, description of the gene, number of exons, version of the chromosome accession number, the begining position of the hit and the end position of the hit, to the list associated with that chromosome key\n",
    "                        chromosome_dict[hit_chrom_loc].append([acc, gene_descrip, exon_num, chrom_version, hit_gene_start, hit_gene_end])\n",
    "                    else: # if the chromosome number is not already in the dictionary chromosome_dict \n",
    "                        chromosome_dict[hit_chrom_loc] = [[acc, gene_descrip, exon_num, chrom_version, hit_gene_start, hit_gene_end]] # add a the chromosome as a key of the dictionary with the value a list containing a list of the accession number, description of the gene, version of the chromosome accession number, the begining position of the hit and the end position of the hit\n",
    "\n",
    "# display the value of chromosome_dict\n",
    "print(chromosome_dict)"
   ]
  },
  {
   "cell_type": "markdown",
   "metadata": {},
   "source": [
    "As a first pass, let's check how many chromosomes have good BLAST hits. "
   ]
  },
  {
   "cell_type": "code",
   "execution_count": 47,
   "metadata": {
    "collapsed": false
   },
   "outputs": [
    {
     "name": "stdout",
     "output_type": "stream",
     "text": [
      "Hits were found on these chromosomes: ['11', '16']\n"
     ]
    }
   ],
   "source": [
    "print(\"Hits were found on these chromosomes:\", chromosome_dict.keys())"
   ]
  },
  {
   "cell_type": "markdown",
   "metadata": {},
   "source": [
    "Next, we need to identify the locations where the hits occur on the chromosomes, keeping in mind that there may be sequence/splice variants both of your gene and of the potential paralogs.  \n",
    "We'll divide each chromosome into \"hit regions\", and create a new \"hit region\" if a hit does not overlap with a previous hit. We'll check later if different regions are an artifact of different versions of the chromosome sequence."
   ]
  },
  {
   "cell_type": "code",
   "execution_count": 64,
   "metadata": {
    "collapsed": false
   },
   "outputs": [
    {
     "name": "stdout",
     "output_type": "stream",
     "text": [
      "{'11': set([(5253190, 5254780)]), '16': set([(180333, 181178), (172846, 173709), (176650, 177521), (142052, 154504)])}\n"
     ]
    }
   ],
   "source": [
    "# create a dictionary hit_region_dict\n",
    "hit_region_dict = {}\n",
    "# for each chromosome in chromosome_dict\n",
    "for ch in chromosome_dict:\n",
    "    # add the chromosome as a key in the dictionary hit_region_dict, assign it the value of an empty list\n",
    "    hit_region_dict[ch] = set () # and use a set so that duplicate regions are not allowed\n",
    "    \n",
    "    # for each accession number associated with that chromosome number in chromosome_dict\n",
    "    for hit in chromosome_dict[ch]:\n",
    "        # assign to the variable min_p the lowest of the two position numbers, this will not always be the first number as the gene might be on the - strand, look up the min function\n",
    "        min_p = min(hit[4], hit[5])\n",
    "        # assign to the variable max_p the larger of the two position numbers, look up the max funtion\n",
    "        max_p = max(hit[4], hit[5])\n",
    "        hit_region_dict[ch].add((min_p, max_p)) # add tuple containing a new region\n",
    "                \n",
    "# display the contents of hit_region_dict\n",
    "print((hit_region_dict))"
   ]
  },
  {
   "cell_type": "markdown",
   "metadata": {},
   "source": [
    "Next, let's see how many regions were found on each of the chromosomes."
   ]
  },
  {
   "cell_type": "code",
   "execution_count": 67,
   "metadata": {
    "collapsed": false
   },
   "outputs": [
    {
     "name": "stdout",
     "output_type": "stream",
     "text": [
      "1 regions on chromosome 11\n",
      "4 regions on chromosome 16\n"
     ]
    }
   ],
   "source": [
    "# loop over each chromosome in hit_region_dict\n",
    "for ch in hit_region_dict:\n",
    "    # print out a message stating how many regions were identified on that chromosome\n",
    "    print(len(hit_region_dict[ch]), \"regions on chromosome\", ch)"
   ]
  },
  {
   "cell_type": "markdown",
   "metadata": {},
   "source": [
    "Now, let's sort the accession numbers of our good hits according to the region in which they're found and then print out the genes' accession numbers, descriptions, version of the chromosome sequence, the begining position of the gene on the chromosome, the ending  position of the gene on the chromosome, and the number of exons the gene has.\n",
    "\n",
    "***You don't need to change anything to the following code cell, just run it. As I explain each line, please make sure you undertand.***"
   ]
  },
  {
   "cell_type": "code",
   "execution_count": 65,
   "metadata": {
    "collapsed": false
   },
   "outputs": [
    {
     "name": "stdout",
     "output_type": "stream",
     "text": [
      "11\n",
      "(5253190, 5254780)\n",
      "\t \t Gene id: BC130457.1 Description: hemoglobin subunit gamma 2 Version of chromosome sequence: NC_000011.10 Begining position: 5254780 Ending position: 5253190 Number of exons: 3\n",
      "\t \t Gene id: BC010914.1 Description: hemoglobin subunit gamma 2 Version of chromosome sequence: NC_000011.10 Begining position: 5254780 Ending position: 5253190 Number of exons: 3\n",
      "\n",
      "\n",
      "\n",
      "\n",
      "16\n",
      "(180333, 181178)\n",
      "\t \t Gene id: NM_005331.4 Description: hemoglobin subunit theta 1 Version of chromosome sequence: NC_000016.10 Begining position: 180333 Ending position: 181178 Number of exons: 3\n",
      "\n",
      "\n",
      "(172846, 173709)\n",
      "\t \t ***** Location of NM_000517 *****\n",
      "\t \t Gene id: BC008572.1 Description: hemoglobin subunit alpha 2 Version of chromosome sequence: NC_000016.10 Begining position: 172846 Ending position: 173709 Number of exons: 3\n",
      "\t \t Gene id: AK223392.1 Description: hemoglobin subunit alpha 2 Version of chromosome sequence: NC_000016.10 Begining position: 172846 Ending position: 173709 Number of exons: 3\n",
      "\t \t Gene id: AF281258.1 Description: hemoglobin subunit alpha 2 Version of chromosome sequence: NC_000016.10 Begining position: 172846 Ending position: 173709 Number of exons: 3\n",
      "\t \t Gene id: V00488.1 Description: hemoglobin subunit alpha 2 Version of chromosome sequence: NC_000016.10 Begining position: 172846 Ending position: 173709 Number of exons: 3\n",
      "\t \t Gene id: KF372020.1 Description: hemoglobin subunit alpha 2 Version of chromosome sequence: NC_000016.10 Begining position: 172846 Ending position: 173709 Number of exons: 3\n",
      "\n",
      "\n",
      "(176650, 177521)\n",
      "\t \t Gene id: BC008572.1 Description: hemoglobin subunit alpha 1 Version of chromosome sequence: NC_000016.10 Begining position: 176650 Ending position: 177521 Number of exons: 3\n",
      "\t \t Gene id: AK223392.1 Description: hemoglobin subunit alpha 1 Version of chromosome sequence: NC_000016.10 Begining position: 176650 Ending position: 177521 Number of exons: 3\n",
      "\t \t Gene id: AF281258.1 Description: hemoglobin subunit alpha 1 Version of chromosome sequence: NC_000016.10 Begining position: 176650 Ending position: 177521 Number of exons: 3\n",
      "\t \t Gene id: DQ431236.1 Description: hemoglobin subunit alpha 1 Version of chromosome sequence: NC_000016.10 Begining position: 176650 Ending position: 177521 Number of exons: 3\n",
      "\t \t Gene id: AF363956.1 Description: hemoglobin subunit alpha 1 Version of chromosome sequence: NC_000016.10 Begining position: 176650 Ending position: 177521 Number of exons: 3\n",
      "\n",
      "\n",
      "(142052, 154504)\n",
      "\t \t Gene id: NM_005332.2 Description: hemoglobin subunit zeta Version of chromosome sequence: NC_000016.10 Begining position: 142052 Ending position: 154504 Number of exons: 4\n",
      "\n",
      "\n",
      "\n",
      "\n"
     ]
    }
   ],
   "source": [
    "# for each chromosome in hit_region_dict\n",
    "for ch in hit_region_dict:\n",
    "    # print the chromosome number\n",
    "    print(ch)\n",
    "    # for each region associated with that chromosome number in hit_region_dict\n",
    "    for r in hit_region_dict[ch]:\n",
    "        # print out the region\n",
    "        print(r)\n",
    "        if starting_position in range(r[0], r[1]) or ending_position in range(r[0], r[1]): # ask if your gene's location is within that region\n",
    "            print(\"\\t \\t ***** Location of\", query, \"*****\") # if so, print out a message saying so \n",
    "        for p in chromosome_dict[ch]: # for each region in the list of regions associated with the chromosome_dict entry for each chromosome\n",
    "            # assign to the variable gene_min_p the lowest of the two position numbers for that gene\n",
    "            gene_min_p = min(p[4], p[5])\n",
    "            # assign to the variable gene_max_p the larger of the two position numbers for that gene\n",
    "            gene_max_p = max(p[4], p[5])\n",
    "            if gene_min_p in range(r[0], r[1]) or gene_max_p in range(r[0], r[1]):\n",
    "                print(\"\\t \\t Gene id:\", p[0], \"Description:\", p[1], \"Version of chromosome sequence:\", p[3], \"Begining position:\", p[4], \"Ending position:\", p[5], \"Number of exons:\", p[2])\n",
    "        print('\\n') # print a newline character to add a visual seperation between regions\n",
    "    print('\\n') # print a newline character to add a visual seperation between chromosomes"
   ]
  },
  {
   "cell_type": "markdown",
   "metadata": {},
   "source": [
    "Q5. How many records occur within the same region as your gene? Based on the descriptions of these genes, do they have the same or simlar functions to that of your gene?"
   ]
  },
  {
   "cell_type": "raw",
   "metadata": {},
   "source": [
    "Five record occur within the same region as my gene based on the description they do have similar functions."
   ]
  },
  {
   "cell_type": "markdown",
   "metadata": {},
   "source": [
    "Q6. Do the records within the same region as your gene, have the exact same begining and ending postion as your gene? Do any of the records have a different number of exons than your gene?"
   ]
  },
  {
   "cell_type": "raw",
   "metadata": {},
   "source": [
    "All the records within the same region of my gene have the same begining and ending position. All the records within the region of our gene have the same number of exons"
   ]
  },
  {
   "cell_type": "markdown",
   "metadata": {},
   "source": [
    "Q7. Based on the descriptions of genes in other regions of the genome, do they have the same or similar functions to that of your gene? The same number of exons? "
   ]
  },
  {
   "cell_type": "raw",
   "metadata": {},
   "source": [
    "Based on the description of genes in other regions of the genome they gave similar number. Most of the genes have the three exons. The only gene that doesn't have the same number of exons is hemoglobin subunit zeta"
   ]
  },
  {
   "cell_type": "markdown",
   "metadata": {},
   "source": [
    "Q8. Based on your findings, how many paralogs do you belive your gene has? Note the location within the genome where these paralogs are found (chromosome number and region)."
   ]
  },
  {
   "cell_type": "raw",
   "metadata": {},
   "source": [
    "I believe that my gene has four paralogs. Paralog hemoglobin subunit gamma 2 is located on chromosome 11 region (5253190, 5254780). Paralog hemoglobin subunit theta 1 is located on chromosome 16, region (180333, 181178). Paralog hemoglobin subunit alpha 1 is located on chromosome 16 region (176650, 177521) and hemoglobin subunit zeta is also in chromosome 16 and is located on region (142052, 154504).    "
   ]
  },
  {
   "cell_type": "markdown",
   "metadata": {},
   "source": [
    "That's all folks! \n",
    "Please save your notebook and related files and upload the notebook to Blackboard."
   ]
  }
 ],
 "metadata": {
  "kernelspec": {
   "display_name": "Python [conda root]",
   "language": "python",
   "name": "conda-root-py"
  },
  "language_info": {
   "codemirror_mode": {
    "name": "ipython",
    "version": 3
   },
   "file_extension": ".py",
   "mimetype": "text/x-python",
   "name": "python",
   "nbconvert_exporter": "python",
   "pygments_lexer": "ipython3",
   "version": "3.5.2"
  }
 },
 "nbformat": 4,
 "nbformat_minor": 0
}
