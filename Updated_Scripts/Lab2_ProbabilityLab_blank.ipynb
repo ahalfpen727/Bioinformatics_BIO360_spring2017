{
 "cells": [
  {
   "cell_type": "markdown",
   "metadata": {},
   "source": [
    "## Lab 2: Probability"
   ]
  },
  {
   "cell_type": "markdown",
   "metadata": {},
   "source": [
    "#### What's your name?"
   ]
  },
  {
   "cell_type": "raw",
   "metadata": {},
   "source": []
  },
  {
   "cell_type": "markdown",
   "metadata": {},
   "source": [
    "##### Group Question 1: Write out a set of 3 organelles found in eucaryotic cells. Be sure to use the standard math notation."
   ]
  },
  {
   "cell_type": "raw",
   "metadata": {},
   "source": []
  },
  {
   "cell_type": "markdown",
   "metadata": {},
   "source": [
    "##### Group Question 2: How many entries are in the sample space {A,C,G,T}?"
   ]
  },
  {
   "cell_type": "raw",
   "metadata": {},
   "source": []
  },
  {
   "cell_type": "markdown",
   "metadata": {},
   "source": [
    "##### Group Question 3: What is the sample space of all possible di-nucleotides? (Write it out.) In other words, what are all the possible di-nucleotides you might find in a big genome?"
   ]
  },
  {
   "cell_type": "raw",
   "metadata": {},
   "source": []
  },
  {
   "cell_type": "markdown",
   "metadata": {},
   "source": [
    "##### Group Question 4: How big is the sample space of di-nucleotides?"
   ]
  },
  {
   "cell_type": "raw",
   "metadata": {},
   "source": []
  },
  {
   "cell_type": "markdown",
   "metadata": {},
   "source": [
    "##### Group Question 5: What is the relationship between the standard genetic code, and the sample space of tri-nucleotides?"
   ]
  },
  {
   "cell_type": "raw",
   "metadata": {},
   "source": []
  },
  {
   "cell_type": "markdown",
   "metadata": {},
   "source": [
    "##### Group Question 6: How large is the sample space of tri-nucleotides?"
   ]
  },
  {
   "cell_type": "raw",
   "metadata": {},
   "source": []
  },
  {
   "cell_type": "markdown",
   "metadata": {},
   "source": [
    "##### Group Question 7: Derive a simple math function that takes a number of nucleotides and gives you the sample space size."
   ]
  },
  {
   "cell_type": "code",
   "execution_count": null,
   "metadata": {},
   "outputs": [],
   "source": [
    "#use this code cell as a calculator to compute the sample space size\n",
    "\n",
    "number_nucleotides = 3\n",
    "\n",
    "sample_space_size = # put your formula here\n",
    "\n",
    "print(number_nucleotides, \"nucleotides gives\")\n",
    "print(\"a sample size space of\", sample_space_size)"
   ]
  },
  {
   "cell_type": "markdown",
   "metadata": {},
   "source": [
    "##### Group Question 8: What’s an example of a situation with a probability of 0? Show the answer using (Equation 1)."
   ]
  },
  {
   "cell_type": "code",
   "execution_count": null,
   "metadata": {},
   "outputs": [],
   "source": [
    "#use this code cell as a calculator, fully describe the situation in comments\n",
    "num_ways_event_occurs = # the event is\n",
    "\n",
    "sample_space = \n",
    "\n",
    "p = \n",
    "print(p)"
   ]
  },
  {
   "cell_type": "markdown",
   "metadata": {},
   "source": [
    "##### Group Question 9: What’s an example of a situation with a probability of 1? Show the answer using (Equation 1)."
   ]
  },
  {
   "cell_type": "code",
   "execution_count": null,
   "metadata": {},
   "outputs": [],
   "source": [
    "#use this code cell as a calculator, fully describe the situation in comments\n",
    "num_ways_event_occurs = # the event is\n",
    "\n",
    "sample_space = \n",
    "\n",
    "p = \n",
    "print(p)"
   ]
  },
  {
   "cell_type": "markdown",
   "metadata": {},
   "source": [
    "##### Group Question 10: Draw the probability tree on a piece of paper."
   ]
  },
  {
   "cell_type": "markdown",
   "metadata": {},
   "source": [
    "##### Group Question 11: What’s the probability of randomly picking a UMB building whose name starts with the letter C? Draw the probability tree on a piece of paper, use the tree to help you calculate the answer below. "
   ]
  },
  {
   "cell_type": "code",
   "execution_count": null,
   "metadata": {},
   "outputs": [],
   "source": [
    "#use this code cell as a calculator, the code provided is incomplete\n",
    "umb_buildings = [\"Campus\", \"Clark\", \"Healey\", \"McCormack\", \"Quinn\", \"Science\", \"Wheatley\"]\n",
    "\n",
    "prob_campus = # probability the building selected is \"Campus\"\n",
    "\n",
    "prob_clark = # probability the building selected is \"Clark\n",
    "\n",
    "prob_c = # calculate the probability of randomly picking a building whose name starts with \"C\"\n",
    "\n",
    "print(\"Probability of selecting a building whose name begins with \\\"C\\\":\", prob_c)"
   ]
  },
  {
   "cell_type": "markdown",
   "metadata": {},
   "source": [
    "##### Group Question 12: I’m thinking of a number from 1 to 7. What’s the probability that my number is 3, 4, or 5? Draw the probability tree on a piece of paper, compute the answer below. "
   ]
  },
  {
   "cell_type": "code",
   "execution_count": null,
   "metadata": {},
   "outputs": [],
   "source": [
    "#use this code cell as a calculator, add comments to explain each step\n",
    "\n",
    "sample_space = # a list of numbers from 1 to 7\n",
    "\n",
    "p_3 = # probability that the number is 3\n",
    "\n",
    "p_4 = # probability that the number is 4\n",
    "\n",
    "p_5 = # probability that the number is 5\n",
    "\n",
    "p_3or4or5 = # probability that the number is 3 or 4 or 5\n"
   ]
  },
  {
   "cell_type": "markdown",
   "metadata": {},
   "source": [
    "##### Group Question 13: If you pick a random nucleotide in a genome, what’s the probability that it’s not G? (Show calculation.)"
   ]
  },
  {
   "cell_type": "code",
   "execution_count": null,
   "metadata": {},
   "outputs": [],
   "source": [
    "#use this code cell as a calculator, add comments to explain each step\n",
    "\n",
    "p_g = # probability of randomly picking a \"G\"\n",
    "\n",
    "p_not_g = # probability of not picking \"G\""
   ]
  },
  {
   "cell_type": "markdown",
   "metadata": {},
   "source": [
    "##### Group Question 14: The subway runs on schedule 92% of the time. You have an important job interview downtown and take the T. What’s the probability that you’ll have bad luck and be delayed? Draw the probability tree on a piece of paper, compute the answer below."
   ]
  },
  {
   "cell_type": "code",
   "execution_count": null,
   "metadata": {},
   "outputs": [],
   "source": [
    "#use this code cell as a calculator, add comments to explain each step\n",
    "\n",
    "prob_on_time = # probability the train is on time\n",
    "\n",
    "prob_delayed = "
   ]
  },
  {
   "cell_type": "markdown",
   "metadata": {},
   "source": [
    "##### Group Question 15, Part 1: Think carefully about this. . . In an abandoned lab in the basement of McCormack, you find an ancient dusty box labeled Amino Acids, containing 20 bottles that are so old you can’t read the labels. If you randomly pick one of the 20 bottles, what’s the probability that it’s glutamate?"
   ]
  },
  {
   "cell_type": "code",
   "execution_count": null,
   "metadata": {},
   "outputs": [],
   "source": [
    "#use this code cell as a calculator, add comments to explain each step\n",
    "\n",
    "prob_glutamate = "
   ]
  },
  {
   "cell_type": "markdown",
   "metadata": {},
   "source": [
    "##### Group Question 15, Part 2: Next, to narrow down the possibilities, you do some pH titration experiments, and determine that this is one of the two acidic amino acids. Given the results of the pH titration experiment, what’s the probability that this bottle contains glutamate?"
   ]
  },
  {
   "cell_type": "code",
   "execution_count": null,
   "metadata": {},
   "outputs": [],
   "source": [
    "#use this code cell as a calculator, add comments to explain each step\n",
    "\n",
    "prob_glutamate = "
   ]
  },
  {
   "cell_type": "markdown",
   "metadata": {},
   "source": [
    "##### Group Question 16: Here’s a very similar question. Again, think carefully about this. Suppose I pick a random nucleotide from a genome and I also tell you that it’s a purine. Now, using everything you know about the situation, what’s the probability that the nucleotide is G?"
   ]
  },
  {
   "cell_type": "code",
   "execution_count": null,
   "metadata": {},
   "outputs": [],
   "source": [
    "#use this code cell as a calculator, add comments to explain each step\n",
    "\n",
    "prob_G = "
   ]
  },
  {
   "cell_type": "markdown",
   "metadata": {},
   "source": [
    "##### Group Question 17: Rewrite Question 16 in English using “given”, and also rewrite it as a formula using the vertical bar notation."
   ]
  },
  {
   "cell_type": "raw",
   "metadata": {},
   "source": []
  },
  {
   "cell_type": "markdown",
   "metadata": {},
   "source": [
    "##### Group Question 18: Uncle Ted is a severe hypochondriac who believes that he has both malaria and HIV. You have a brilliant idea to cure Ted’s hypochondria: Give him a probability tree that shows the minuscule probability that he has both diseases. Sketch out a probability tree for Ted’s two imagined diseases, and make up some tiny probabilities along the edges of the tree. Given those tiny probabilities, compute the final joint probability that Ted has both diseases. What are the numbers you show Ted?"
   ]
  },
  {
   "cell_type": "code",
   "execution_count": null,
   "metadata": {},
   "outputs": [],
   "source": [
    "#use this code cell as a calculator, add comments to explain each step\n",
    "\n",
    "prob_malaria = # probability Ted has malaria\n",
    "\n",
    "prob_HIV = # probability Ted has HIV\n",
    "\n",
    "prob_both = # probability Ted has malaria AND HIV"
   ]
  },
  {
   "cell_type": "markdown",
   "metadata": {},
   "source": [
    "##### Group Question 19: Find three other examples of false positives."
   ]
  },
  {
   "cell_type": "raw",
   "metadata": {},
   "source": []
  },
  {
   "cell_type": "markdown",
   "metadata": {},
   "source": [
    "##### Group Question 20: In Part A of Figure 3, what percentage of women actually have breast cancer? (show your calculation)"
   ]
  },
  {
   "cell_type": "code",
   "execution_count": null,
   "metadata": {},
   "outputs": [],
   "source": [
    "#use this code cell as a calculator, add comments to explain each step\n",
    "\n",
    "perc_breast_cancer = # percent of women with breast cancer"
   ]
  },
  {
   "cell_type": "markdown",
   "metadata": {},
   "source": [
    "##### Group Question 21, Part 1: In Part A of Figure 3, what percentage of women with breast cancer test positive? (Show your work.) "
   ]
  },
  {
   "cell_type": "code",
   "execution_count": null,
   "metadata": {},
   "outputs": [],
   "source": [
    "#use this code cell as a calculator, add comments to explain each step\n",
    "\n",
    "# N(bc & +) / N(bc)\n",
    "\n",
    "perc_bc_pos_test = # percent of women with breast cancer that test positive"
   ]
  },
  {
   "cell_type": "markdown",
   "metadata": {},
   "source": [
    "##### Group Question 21, Part 2: On the surface, does that seem like a pretty good diagnostic test?"
   ]
  },
  {
   "cell_type": "raw",
   "metadata": {},
   "source": []
  },
  {
   "cell_type": "markdown",
   "metadata": {},
   "source": [
    "##### Group Question 22, Part 1: In Part A of Figure 3, what percentage of women without breast cancer test negative? (Show your work.) "
   ]
  },
  {
   "cell_type": "code",
   "execution_count": null,
   "metadata": {},
   "outputs": [],
   "source": [
    "#use this code cell as a calculator, add comments to explain each step\n",
    "\n",
    "# N(dont have bc & -) / N(dont have bc)\n",
    "\n",
    "perc_no_cancer_neg_test = # percent of women WITHOUT breast cancer that test negative"
   ]
  },
  {
   "cell_type": "markdown",
   "metadata": {},
   "source": [
    "##### Group Question 22, Part 2: On the surface, does that seem like a pretty good diagnostic test?"
   ]
  },
  {
   "cell_type": "raw",
   "metadata": {},
   "source": []
  },
  {
   "cell_type": "markdown",
   "metadata": {},
   "source": [
    "##### Group Question 23A: Compute P(breast cancer | positive test). "
   ]
  },
  {
   "cell_type": "code",
   "execution_count": null,
   "metadata": {},
   "outputs": [],
   "source": [
    "#use this code cell as a calculator, add comments to explain each step\n",
    "\n",
    "# P(bc|+) = N(bc & +) / N(+)\n",
    "\n",
    "print(\"P(bc given positive test)=\",P_bc_given_pos_test)\n",
    "\n",
    "# P(bc|+) = P(+|bc) * P(bc) / P(+)\n",
    "#         = (N(+ & bc)/N(bc)) * (N(bc)/Total) / (N(+)/Total) \n",
    "\n",
    "print(\"P(bc given positive test)=\",P_bc_given_pos_test2)"
   ]
  },
  {
   "cell_type": "markdown",
   "metadata": {},
   "source": [
    "##### Group Question 23B: Now, what do you think about this medical screening test?"
   ]
  },
  {
   "cell_type": "raw",
   "metadata": {},
   "source": []
  },
  {
   "cell_type": "markdown",
   "metadata": {},
   "source": [
    "##### Group Question 24: Look at In Part A of Figure 3 again and think carefully about this. . . We know that most women with breast cancer test positive (left half of Part A), and most healthy women test negative (right half of Part A), so the test seems pretty good. So, why is there such a high false positive rate?"
   ]
  },
  {
   "cell_type": "raw",
   "metadata": {},
   "source": []
  }
 ],
 "metadata": {
  "anaconda-cloud": {},
  "kernelspec": {
   "display_name": "Python 3",
   "language": "python",
   "name": "python3"
  },
  "language_info": {
   "codemirror_mode": {
    "name": "ipython",
    "version": 3
   },
   "file_extension": ".py",
   "mimetype": "text/x-python",
   "name": "python",
   "nbconvert_exporter": "python",
   "pygments_lexer": "ipython3",
   "version": "3.6.3"
  }
 },
 "nbformat": 4,
 "nbformat_minor": 1
}
