{
 "metadata": {
  "name": "",
  "signature": "sha256:136bc5c8a3ffb9d2cbc1a6577da2d5e4e9dab7dbed5dbb70d88c89341bd7c405"
 },
 "nbformat": 3,
 "nbformat_minor": 0,
 "worksheets": [
  {
   "cells": [
    {
     "cell_type": "heading",
     "level": 2,
     "metadata": {},
     "source": [
      "Lab 1: Python Introduction"
     ]
    },
    {
     "cell_type": "markdown",
     "metadata": {},
     "source": [
      "Some preliminary stuff:  \n",
      "\n",
      "* CHROME needs to be your default browser. To check this open Chrome, click on the button with the three horizontal bars located to the right of the address bar, click \"Settings\", scroll down to the section \"Default Browser\" and confirm that Chrome is set as the default browser."
     ]
    },
    {
     "cell_type": "heading",
     "level": 5,
     "metadata": {},
     "source": [
      "Q0: What's your name?"
     ]
    },
    {
     "cell_type": "raw",
     "metadata": {},
     "source": []
    },
    {
     "cell_type": "markdown",
     "metadata": {},
     "source": [
      "We'll go over these excercises together, as a class. \n",
      "We'll modify the code as we go to explore common errors. \n",
      "\n",
      "The writeup for this week's lab will consist of a copy of this document.\n",
      "Things we'll be looking for while grading your work:\n",
      "\n",
      "- Where we encounter errors, include notes on the error and how it was corrected.\n",
      "\n",
      "- Clear, relevant and extensive comments on your code"
     ]
    },
    {
     "cell_type": "markdown",
     "metadata": {},
     "source": [
      "A note on iPython notebooks . . . "
     ]
    },
    {
     "cell_type": "raw",
     "metadata": {},
     "source": [
      "The notebook is comprised of cells - some contain plain text (like this one) and some contain executeable code.\n",
      "\n",
      "Code cells have In [ ]: to the left of the cell. To execute the code in a code cell - hold down the SHIFT key and press RETURN.\n",
      "\n",
      "To add notes - you can insert a raw text cell by selecting \"Insert\" on the main menu bar. By default, inserted cells will be code cells. You can change the type of the inserted cell by selecting \"Raw Text\" from the dropdown menu to the right of the buttons."
     ]
    },
    {
     "cell_type": "markdown",
     "metadata": {},
     "source": [
      "A comment on comments . . . "
     ]
    },
    {
     "cell_type": "code",
     "collapsed": true,
     "input": [
      "this is code \n",
      "# this is a comment, putting anything behind a # will hide it\n",
      "\n",
      "# Write your code so that someone reading through your code can easily figure out the purpose of each line of code."
     ],
     "language": "python",
     "metadata": {},
     "outputs": []
    },
    {
     "cell_type": "heading",
     "level": 3,
     "metadata": {},
     "source": [
      "PART 1: STRING BASICS"
     ]
    },
    {
     "cell_type": "markdown",
     "metadata": {},
     "source": [
      "First we'll assign an identifier to a DNA sequence"
     ]
    },
    {
     "cell_type": "code",
     "collapsed": true,
     "input": [
      "tiny = \"ACTGCCCTTCACAG\" # This is a tiny bit of DNA sequence"
     ],
     "language": "python",
     "metadata": {},
     "outputs": []
    },
    {
     "cell_type": "markdown",
     "metadata": {},
     "source": [
      "To see the value, or type of a variable or to display the results of a calculation - we need to tell the program to \"print\"."
     ]
    },
    {
     "cell_type": "code",
     "collapsed": false,
     "input": [
      "print tiny# Display the value of tiny"
     ],
     "language": "python",
     "metadata": {},
     "outputs": []
    },
    {
     "cell_type": "markdown",
     "metadata": {},
     "source": [
      "Let's generate two more short DNA sequences . . ."
     ]
    },
    {
     "cell_type": "code",
     "collapsed": true,
     "input": [
      "very_tiny = \"CAG\"# Assign a very short DNA sequence to the variable very_tiny                               "
     ],
     "language": "python",
     "metadata": {},
     "outputs": []
    },
    {
     "cell_type": "code",
     "collapsed": false,
     "input": [
      "tiny == very_tiny # Ask if tiny is equal to very_tiny"
     ],
     "language": "python",
     "metadata": {},
     "outputs": []
    },
    {
     "cell_type": "code",
     "collapsed": false,
     "input": [
      "very_tiny in tiny # Ask if the string very_tiny is found within the larger string tiny"
     ],
     "language": "python",
     "metadata": {},
     "outputs": []
    },
    {
     "cell_type": "heading",
     "level": 5,
     "metadata": {},
     "source": [
      "Q1: What is the difference between \"==\" and \"=\"?"
     ]
    },
    {
     "cell_type": "raw",
     "metadata": {},
     "source": []
    },
    {
     "cell_type": "code",
     "collapsed": false,
     "input": [
      "new_seq = TAG"
     ],
     "language": "python",
     "metadata": {},
     "outputs": []
    },
    {
     "cell_type": "heading",
     "level": 5,
     "metadata": {},
     "source": [
      "Q2: How can you (and the program) tell if a group of characters is a string or a variable name?"
     ]
    },
    {
     "cell_type": "raw",
     "metadata": {},
     "source": []
    },
    {
     "cell_type": "markdown",
     "metadata": {},
     "source": [
      "What type of information is our sequence? (this is important to know, as certain functions require certain data types)"
     ]
    },
    {
     "cell_type": "code",
     "collapsed": false,
     "input": [
      "type(10)# determine what type of data is contained in tiny"
     ],
     "language": "python",
     "metadata": {},
     "outputs": []
    },
    {
     "cell_type": "heading",
     "level": 4,
     "metadata": {},
     "source": [
      "A. METHODS OF ACCESSING ELEMENTS OF A STRING"
     ]
    },
    {
     "cell_type": "markdown",
     "metadata": {},
     "source": [
      "Often we want to query specific parts of, sometimes very large, sequences - below are several common methods. "
     ]
    },
    {
     "cell_type": "markdown",
     "metadata": {},
     "source": [
      "But first let's find out how how long a string we're dealing with."
     ]
    },
    {
     "cell_type": "code",
     "collapsed": false,
     "input": [
      "print tiny # display \"tiny\" \n",
      "len(tiny)# display the length of the string \"tiny\""
     ],
     "language": "python",
     "metadata": {},
     "outputs": []
    },
    {
     "cell_type": "markdown",
     "metadata": {},
     "source": [
      "If we only want to access one character we can access it directly by refering to its position."
     ]
    },
    {
     "cell_type": "code",
     "collapsed": false,
     "input": [
      "first = tiny[1] # assign the value of the first character of \"tiny\" to a variable named \"first\"\n",
      "print first# display the first character in the string \"tiny\""
     ],
     "language": "python",
     "metadata": {},
     "outputs": []
    },
    {
     "cell_type": "heading",
     "level": 5,
     "metadata": {},
     "source": [
      "Q3: Why didn't tiny[1] return the first character of the string tiny?"
     ]
    },
    {
     "cell_type": "raw",
     "metadata": {},
     "source": []
    },
    {
     "cell_type": "markdown",
     "metadata": {},
     "source": [
      "But what if we want to pull out not just a single character, but rather a multi-character segment (a \"slice\") of a string?   \n",
      "The positions within a string are defined by indices. The cell below shows the positions (\"|\") and indices (numbers) for a string \"ACTGC\" named \"really_tiny\". "
     ]
    },
    {
     "cell_type": "raw",
     "metadata": {},
     "source": [
      "       0   1   2   3   4   5      \n",
      "seq = \"| A | N | T | G | N |\"     \n"
     ]
    },
    {
     "cell_type": "code",
     "collapsed": false,
     "input": [
      "seq = \"ANTGN\"\n",
      "one_two = seq[0:1]# assign the value of the first and second character of \"seq\" to a variable named \"one_two\"\n",
      "print one_two# display the first character in the string \"seq\""
     ],
     "language": "python",
     "metadata": {},
     "outputs": [
      {
       "output_type": "stream",
       "stream": "stdout",
       "text": [
        "A\n"
       ]
      }
     ],
     "prompt_number": 1
    },
    {
     "cell_type": "code",
     "collapsed": false,
     "input": [
      "two_four = seq [1:4]# assign the value of the second, third and fourth characters of \"seq\" to a variable named \"two_four\"\n",
      "print two_four# display two_four"
     ],
     "language": "python",
     "metadata": {},
     "outputs": [
      {
       "output_type": "stream",
       "stream": "stdout",
       "text": [
        "NTG\n"
       ]
      }
     ],
     "prompt_number": 2
    },
    {
     "cell_type": "markdown",
     "metadata": {},
     "source": [
      "Another way to access elements of a string is to loop over them . . ."
     ]
    },
    {
     "cell_type": "code",
     "collapsed": false,
     "input": [
      "# go through each character of the string \"seq\"\n",
      "for c in seq:\n",
      "    # display the character\n",
      "    print c"
     ],
     "language": "python",
     "metadata": {},
     "outputs": [
      {
       "output_type": "stream",
       "stream": "stdout",
       "text": [
        "A\n",
        "N\n",
        "T\n",
        "G\n",
        "N\n"
       ]
      }
     ],
     "prompt_number": 3
    },
    {
     "cell_type": "code",
     "collapsed": false,
     "input": [
      "# counter is a variable to hold the value of the count of characters in \"seq\"\n",
      "counter = 0\n",
      "\n",
      "# go through each character of the string \"seq\"\n",
      "for c in seq:\n",
      "    # display the value of counter and the associated character\n",
      "    print counter, c\n",
      "    # increment the value of counter by one\n",
      "    counter += 1"
     ],
     "language": "python",
     "metadata": {},
     "outputs": [
      {
       "output_type": "stream",
       "stream": "stdout",
       "text": [
        "0 A\n",
        "1 N\n",
        "2 T\n",
        "3 G\n",
        "4 N\n"
       ]
      }
     ],
     "prompt_number": 5
    },
    {
     "cell_type": "markdown",
     "metadata": {},
     "source": [
      "We can use a for loop and an if statement to access a particular element of \"seq\"."
     ]
    },
    {
     "cell_type": "code",
     "collapsed": false,
     "input": [
      "# counter is a variable to hold the value of the count of characters in \"seq\"\n",
      "counter = 0\n",
      "\n",
      "# go through each character of the string \"seq\"\n",
      "for c in seq:\n",
      "    # if the character is N, do something\n",
      "    if c == \"N\":\n",
      "        print c\n",
      "    # display the value of counter\n",
      "    print \"counter is\", counter\n",
      "    # increment the value of counter by one\n",
      "    counter += 1"
     ],
     "language": "python",
     "metadata": {},
     "outputs": [
      {
       "output_type": "stream",
       "stream": "stdout",
       "text": [
        "counter 0\n",
        "N\n",
        "counter 1\n",
        "counter 2\n",
        "counter 3\n",
        "N\n",
        "counter 4\n"
       ]
      }
     ],
     "prompt_number": 7
    },
    {
     "cell_type": "heading",
     "level": 5,
     "metadata": {},
     "source": [
      "Q4: How does the code in the following two cells differ? How do the results generated differ? What does this tell you about the order in which lines are executed? "
     ]
    },
    {
     "cell_type": "raw",
     "metadata": {},
     "source": []
    },
    {
     "cell_type": "markdown",
     "metadata": {},
     "source": [
      "Cell 1"
     ]
    },
    {
     "cell_type": "code",
     "collapsed": false,
     "input": [
      "counter = 0 # variable to hold the value of the count of characters in \"tiny\"\n",
      "for c in tiny: # go through each character of the string \"tiny\" \n",
      "    counter +=1 # increment the value of counter by one\n",
      "    print counter"
     ],
     "language": "python",
     "metadata": {},
     "outputs": []
    },
    {
     "cell_type": "markdown",
     "metadata": {},
     "source": [
      "Cell 2"
     ]
    },
    {
     "cell_type": "code",
     "collapsed": false,
     "input": [
      "counter = 0 # counter, a variable to hold the value of the count of characters in \"tiny\"\n",
      "for c in tiny: # go through each character of the string \"tiny\" \n",
      "    counter +=1 # increment the value of counter by one\n",
      "print counter"
     ],
     "language": "python",
     "metadata": {},
     "outputs": []
    },
    {
     "cell_type": "markdown",
     "metadata": {},
     "source": [
      "Often the number of times you want to go through a loop a certain number of times - for this, \"range\" is a very useful function. Often in biology, the number of times through a loop will be related to the length of a DNA or amino acid sequence . . . "
     ]
    },
    {
     "cell_type": "code",
     "collapsed": false,
     "input": [
      "print \"range(len(tiny))\", range(len(tiny))"
     ],
     "language": "python",
     "metadata": {},
     "outputs": []
    },
    {
     "cell_type": "heading",
     "level": 5,
     "metadata": {},
     "source": [
      "Q4: If you don't know what a function does, how can you check (without Googling, that is)?"
     ]
    },
    {
     "cell_type": "raw",
     "metadata": {},
     "source": []
    },
    {
     "cell_type": "markdown",
     "metadata": {},
     "source": [
      "Let's investigate range.\n",
      "But first let's assign it to a shorter name so we don't have to keep typing: range(len(tiny))."
     ]
    },
    {
     "cell_type": "code",
     "collapsed": false,
     "input": [
      "r = range(len(tiny)) #assign range(len(tiny)) to \"r\"\n",
      "#display value of r"
     ],
     "language": "python",
     "metadata": {},
     "outputs": []
    },
    {
     "cell_type": "code",
     "collapsed": false,
     "input": [
      "print type(r) # print the type of r"
     ],
     "language": "python",
     "metadata": {},
     "outputs": []
    },
    {
     "cell_type": "markdown",
     "metadata": {},
     "source": [
      "We can index the elements of a list . . ."
     ]
    },
    {
     "cell_type": "code",
     "collapsed": false,
     "input": [
      "print \"r\", r #print the list \"r\" \n",
      "print \"r[0]\", r[0] #print out the first item in the list \"r\" \n",
      "print \"r[-1]\", r[-1] #print out the last item in the list \"r\"\n",
      "print \"r[4:9]\", r[4:8] #print out the fifth through eighth position in the list \"r\""
     ],
     "language": "python",
     "metadata": {},
     "outputs": []
    },
    {
     "cell_type": "markdown",
     "metadata": {},
     "source": [
      "We can loop over the elements of a list . . ."
     ]
    },
    {
     "cell_type": "code",
     "collapsed": false,
     "input": [
      "for el in r: # Go through each element in the list \"r\" \n",
      "    print el # Print each element\n",
      "    #print el, \":\", tiny[el] # Print each element of list \"r\" and the coresponding position of the string \"tiny\" "
     ],
     "language": "python",
     "metadata": {},
     "outputs": []
    },
    {
     "cell_type": "heading",
     "level": 3,
     "metadata": {},
     "source": [
      "PART 2 - Using loops to do cool stuff"
     ]
    },
    {
     "cell_type": "markdown",
     "metadata": {},
     "source": [
      "Now that we have some basic skills - let's try a more interesting example."
     ]
    },
    {
     "cell_type": "heading",
     "level": 3,
     "metadata": {},
     "source": [
      "A. Determine the GC content of a gene"
     ]
    },
    {
     "cell_type": "code",
     "collapsed": false,
     "input": [
      "from Bio import Entrez # we'll import a set of code written for common biological applications\n",
      "from Bio import SeqIO"
     ],
     "language": "python",
     "metadata": {},
     "outputs": [],
     "prompt_number": 10
    },
    {
     "cell_type": "code",
     "collapsed": false,
     "input": [
      "GI_id = \"287297\" #the GI accession of our gene of interest"
     ],
     "language": "python",
     "metadata": {},
     "outputs": [],
     "prompt_number": 11
    },
    {
     "cell_type": "markdown",
     "metadata": {},
     "source": [
      "Documentation for efecth http://www.ncbi.nlm.nih.gov/books/NBK25499/#chapter4.EFetch  \n",
      "\n",
      "Code adapted from Biopython Tutorial, 5.3.1  Parsing GenBank records from the net"
     ]
    },
    {
     "cell_type": "code",
     "collapsed": false,
     "input": [
      "Entrez.email = \"\" # let NCBI know who you are\n",
      "handle = Entrez.efetch(db=\"nucleotide\", rettype=\"gb\", retmode=\"text\", id=GI_id) # db = database to query, rettype = retrieval type, retmode = retrieval mode \n",
      "seq_record = SeqIO.read(handle, \"gb\") #read the contents \"fetched\" from NCBI\n",
      "handle.close()\n",
      "\n",
      "print seq_record #print the contents of \"seq_record\""
     ],
     "language": "python",
     "metadata": {},
     "outputs": [
      {
       "output_type": "stream",
       "stream": "stdout",
       "text": [
        "ID: D14673.1\n",
        "Name: RICAAT\n",
        "Description: Oryza sativa Japonica Group mRNA for aspartate aminotransferase, complete cds.\n",
        "Number of features: 3\n",
        "/sequence_version=1\n",
        "/source=Oryza sativa Japonica Group (Japanese rice)\n",
        "/taxonomy=['Eukaryota', 'Viridiplantae', 'Streptophyta', 'Embryophyta', 'Tracheophyta', 'Spermatophyta', 'Magnoliophyta', 'Liliopsida', 'Poales', 'Poaceae', 'BEP clade', 'Ehrhartoideae', 'Oryzeae', 'Oryza']\n",
        "/keywords=['aspartate aminotransferase']\n",
        "/references=[Reference(title='Characterization and mapping of cDNA encoding aspartate aminotransferase in rice, Oryza sativa L', ...), Reference(title='Direct Submission', ...)]\n",
        "/accessions=['D14673']\n",
        "/data_file_division=PLN\n",
        "/date=19-FEB-2008\n",
        "/organism=Oryza sativa Japonica Group\n",
        "/gi=287297\n",
        "Seq('CAGCAACCACCACCAGCACCTCCTCCTCCGCCGCCGACGCCGACTCCTCCCTCC...ACC', IUPACAmbiguousDNA())\n"
       ]
      }
     ],
     "prompt_number": 12
    },
    {
     "cell_type": "code",
     "collapsed": false,
     "input": [
      "ntid = seq_record.id # assign the id of the sequence to the variable prot_ref\n",
      "print ntid #print the id\n",
      "\n",
      "ntseq = seq_record.seq #pull out the sequence associated with this record\n",
      "print ntseq #print the sequence\n",
      "\n",
      "print \"Len of nucleotide sequence:\", len(ntseq) #print the number of nucleotides in the sequence"
     ],
     "language": "python",
     "metadata": {},
     "outputs": [
      {
       "output_type": "stream",
       "stream": "stdout",
       "text": [
        "D14673.1\n",
        "CAGCAACCACCACCAGCACCTCCTCCTCCGCCGCCGACGCCGACTCCTCCCTCCAAGCTTTCCCCACCATGGCGTCGTCGTCCGTCTTCGCTGGCCTCGCGCAGGCGCCGGAGGACCCCATCCTCGGGGTGACGGTCGCGTACAACAAGGATCCCAGCCCCGTGAAGGTCAATCTCGGCGTCGGCGCCTACCGGACCGAGGAAGGGAAGCCCCTGGTGCTGAATGTGGTCAGGCGCGCTGAGCAGATGCTGATCAACAACCCGTCACGTGTTAAGGAGTATTTGCCGATCACTGGACTGGCCGATTTCAATAAGCTGAGTGCTAAGCTTATTTTTGGTGCTGACAGTCCTGCCATTCAAGAGAATAGGGTGGCTACAGTTCAGTGCTTGTCAGGAACTGGTTCTTTAAGGGTGGGAGGTGAATTTCTTGCAAGGCATTATCATGAACGCACTATATACATCCCACAGCCAACCTGGGGGAATCACCCCAAAGTGTTCACTTTAGCTGGCCTGACTGTTAGGAGTTACCGCTACTATGATCCTGCAACCCGTGGACTGGATTTCCAAGGGCTGTTAGAAGATCTCGGTTCAGCTCCTTCAGGTGCAATTGTACTGCTTCATGCTTGTGCCCACAACCCTACTGGAGTAGACCCAACTTTGGACCAGTGGGAACAGATCAGGCAGTTGATGAGATCAAAAGCATTGCTGCCATTCTTTGATAGCGCTTATCAGGGATTTGCAAGTGGAAGTCTTGACCAAGATGCTCAATCAGTGCGCATGTTTGTTGCTGATGGTGGTGAATTGCTCATGGCTCAGAGCTACGCTAAGAACATGGGATTGTATGGAGAGCGTGTCGGTGCTTTAAGCATAGTTTGTGGAAGTGCTGATGTAGCTGTCAGGGTTGAAAGTCAACTTAAGCTTGTAATTAGGCCTATGTATTCAAACCCTCCTATTCATGGTGCATCTATCGTGGCTACCATACTTAAGGACAGTGCAATGTTCAATGAATGGACTGTGGAGCTGAAGGGCATGGCTGATAGGATTATTAGCATGAGGCAACAGCTTTTTGATGCTCTGAAAACGAGAGAAACTCCTGGAGACTGGAGTCACATCATTAAGCAGATCGGAATGTTCACTTTCACTGGGCTCAACAGTGATCAAGTGGCTTTCATGAGGCAGGAATACCACATTTACATGACATCTGATGGGAGGATCAGTATGGCTGGTTTGAGCGGGAGGACCATTCCGCATCTTGCAGATGCAATCCATGCCGCAGTCACAAAACTGAAGTGAATGATGGTAGCATAGCAGCTCCCTCCAAGAATAACATCTTAAAACCATCCGCAGCAGTGTTCTGAGGATTCAGACAGTGATGTTTGCTGGCTGAGCACATCCTGGAAGGTTTCCTTGTAATAGACTCGTGTGACTTCTTTTGGGAGCAGTTTTGTACCAGTGGATTCAGAAAAAGTGGTGATTTCGAATCACCTAATAAGCTCCATCGGTGATGCTTTTACC\n",
        "Len of nucleotide sequence: 1514\n"
       ]
      }
     ],
     "prompt_number": 13
    },
    {
     "cell_type": "markdown",
     "metadata": {},
     "source": [
      "Next we'll count the number of times each nucletide occurs in the sequence."
     ]
    },
    {
     "cell_type": "code",
     "collapsed": false,
     "input": [
      "countA=0 # create variables to hold the count of each nucleotide\n",
      "countC=0\n",
      "countG=0\n",
      "countT=0\n",
      "countN=0 # create a variable to hold the count of any non-standard nucleotides\n",
      "\n",
      "for nt in ntseq:#Loop over each nucleotide in the sequence\n",
      "    # ask if the nt is cytosine\n",
      "    if nt == \"C\":\n",
      "        # increase countC by one\n",
      "        countC += 1\n",
      "    # ask if the nt is adenosine\n",
      "    elif nt == \"A\":\n",
      "        # increase countA by one\n",
      "        countA += 1\n",
      "    # ask if the nt is thymine\n",
      "    elif nt == \"T\":\n",
      "        # increase countT by one\n",
      "        countT += 1\n",
      "    # ask if the nt is guanine\n",
      "    elif nt == \"G\":\n",
      "        # increase countG by one\n",
      "        countG += 1\n",
      "    # if above not True then nt is not a standard nucleotide\n",
      "    else:\n",
      "        # increase countN by one\n",
      "        countN += 1\n",
      "        print \"Non-standard nt\", nt # print a warning message\n",
      "\n",
      "print \"countA\", countA # print the values of the count variables\n",
      "print \"countC\", countC\n",
      "print \"countG\", countG\n",
      "print \"countT\", countT\n",
      "print \"countN\", countN"
     ],
     "language": "python",
     "metadata": {},
     "outputs": [
      {
       "output_type": "stream",
       "stream": "stdout",
       "text": [
        "countA 370\n",
        "countC 357\n",
        "countG 397\n",
        "countT 390\n",
        "countN 0\n"
       ]
      }
     ],
     "prompt_number": 14
    },
    {
     "cell_type": "markdown",
     "metadata": {},
     "source": [
      "Next, calculate the number of cytosine and guanine nucleotides as a percentage of the total number of nt's in the sequence"
     ]
    },
    {
     "cell_type": "code",
     "collapsed": false,
     "input": [
      "countGC = countC + countG # create a variable countGC to hold the count of G's and C's in the sequence \n",
      "percGC = (countGC / len(ntseq)) * 100 # calculate the percent of total nucleotides that are G or C\n",
      "print percGC"
     ],
     "language": "python",
     "metadata": {},
     "outputs": [
      {
       "output_type": "stream",
       "stream": "stdout",
       "text": [
        "0\n"
       ]
      }
     ],
     "prompt_number": 15
    },
    {
     "cell_type": "markdown",
     "metadata": {},
     "source": [
      "Integer division digression . . . "
     ]
    },
    {
     "cell_type": "code",
     "collapsed": false,
     "input": [
      "1/3"
     ],
     "language": "python",
     "metadata": {},
     "outputs": []
    },
    {
     "cell_type": "code",
     "collapsed": false,
     "input": [
      "1/3.0"
     ],
     "language": "python",
     "metadata": {},
     "outputs": []
    },
    {
     "cell_type": "code",
     "collapsed": false,
     "input": [
      "float(3)\n"
     ],
     "language": "python",
     "metadata": {},
     "outputs": []
    },
    {
     "cell_type": "code",
     "collapsed": false,
     "input": [
      "1/float(3)"
     ],
     "language": "python",
     "metadata": {},
     "outputs": []
    },
    {
     "cell_type": "code",
     "collapsed": false,
     "input": [
      "type(countGC)"
     ],
     "language": "python",
     "metadata": {},
     "outputs": []
    },
    {
     "cell_type": "code",
     "collapsed": false,
     "input": [
      "percGC = float(countGC)/len(ntseq)*100# calculate the percent of total nucleotides that are G or C\n",
      "print percGC"
     ],
     "language": "python",
     "metadata": {},
     "outputs": [
      {
       "output_type": "stream",
       "stream": "stdout",
       "text": [
        "49.8018494055\n"
       ]
      }
     ],
     "prompt_number": 16
    },
    {
     "cell_type": "heading",
     "level": 5,
     "metadata": {},
     "source": [
      "Q5: What is the result of integer division? In the cells below show two *different* methods to obtain an answer of 0.10 when computing 1 divided by 10."
     ]
    },
    {
     "cell_type": "raw",
     "metadata": {},
     "source": []
    },
    {
     "cell_type": "code",
     "collapsed": false,
     "input": [
      "1/10"
     ],
     "language": "python",
     "metadata": {},
     "outputs": []
    },
    {
     "cell_type": "code",
     "collapsed": false,
     "input": [
      "1/10.0"
     ],
     "language": "python",
     "metadata": {},
     "outputs": []
    },
    {
     "cell_type": "markdown",
     "metadata": {},
     "source": [
      "Generate a list containing the percent of A, T, C, and G in the sequence."
     ]
    },
    {
     "cell_type": "code",
     "collapsed": false,
     "input": [
      "counts = [countA, countT, countC, countG]# create a list \"counts\" containing the counts of A, T, C, G\n",
      "print counts\n",
      "\n",
      "percents = [x/float(len(ntseq))*100 for x in counts] # create a list containing the number of each nt as a percent of the total number of nt in the sequence\n",
      "print percents"
     ],
     "language": "python",
     "metadata": {},
     "outputs": [
      {
       "output_type": "stream",
       "stream": "stdout",
       "text": [
        "[370, 390, 357, 397]\n",
        "[24.438573315719946, 25.75957727873184, 23.57992073976222, 26.221928665786]\n"
       ]
      }
     ],
     "prompt_number": 17
    },
    {
     "cell_type": "markdown",
     "metadata": {},
     "source": [
      "We generated percents using a list comprehension. It is equivalent to the following for loop."
     ]
    },
    {
     "cell_type": "code",
     "collapsed": false,
     "input": [
      "percents = []\n",
      "for x in counts:\n",
      "    p = x/float(len(ntseq))*100\n",
      "    percents.append(p)\n",
      "print percents"
     ],
     "language": "python",
     "metadata": {},
     "outputs": [
      {
       "output_type": "stream",
       "stream": "stdout",
       "text": [
        "[24.438573315719946, 25.75957727873184, 23.57992073976222, 26.221928665786]\n"
       ]
      }
     ],
     "prompt_number": 18
    },
    {
     "cell_type": "markdown",
     "metadata": {},
     "source": [
      "Now we can create a graph - with the four nucleotides on the x-axis and the percentages on the y-axis."
     ]
    },
    {
     "cell_type": "code",
     "collapsed": false,
     "input": [
      "import matplotlib.pyplot as plt # import a set of code written for generating graphics and tell the computer how to display graphs\n",
      "%pylab inline "
     ],
     "language": "python",
     "metadata": {},
     "outputs": [
      {
       "output_type": "stream",
       "stream": "stdout",
       "text": [
        "Populating the interactive namespace from numpy and matplotlib\n"
       ]
      }
     ],
     "prompt_number": 19
    },
    {
     "cell_type": "code",
     "collapsed": false,
     "input": [
      "nucleotides = arange(4) # the x-axis has four positions, one for each of the four nucleotides\n",
      "bar(nucleotides, percents) # chart will be a bar chart, containing nucleotides on the x-axis and count as percent of length of the sequence on the y-axis\n",
      "xticks(nucleotides + 0.5,  ('A', 'T', 'C', 'G') ) # label the x-axis with the nucleotides in the same order as in the counts list\n",
      "title(\"Nucleotide composition of \" + ntid) #add a title to the graph\n",
      "ylabel(\"Percent\") #label the y-axis\n",
      "show()"
     ],
     "language": "python",
     "metadata": {},
     "outputs": [
      {
       "metadata": {},
       "output_type": "display_data",
       "png": "[encoded data removed]",
       "text": [
        "<matplotlib.figure.Figure at 0x10616f190>"
       ]
      }
     ],
     "prompt_number": 20
    },
    {
     "cell_type": "markdown",
     "metadata": {},
     "source": [
      "In a 2002 paper, researchers found that the GC content of this gene was significantly higher in the begining of the coding region than in the remainder of the sequence. Let's see if we can confirm their findings.\n",
      "\n",
      "\n",
      "For more on this gene and nucleotide composition, see: Wong et al. (2002) Compositional Gradients in Gramineae Genes. Genome Res. 12: 851-856"
     ]
    },
    {
     "cell_type": "markdown",
     "metadata": {},
     "source": [
      "Let's first explore the range function's optional \"step\" argument and how we can use it slice our sequence into short regions."
     ]
    },
    {
     "cell_type": "code",
     "collapsed": false,
     "input": [
      "for i in range(0, len(ntseq), 50): # for each number in a list from 0 to len(ntseq) counting in increments of 50\n",
      "    print i\n",
      "    #print i, i + 50 # the regions will be defined by the number i and a number 50 nts down\n",
      "    #print ntseq[i:i+50] # print the slice of nt_seq from i to i+50\n",
      "    #print \"length of slice\", len(ntseq[i:i+50]) # print the length of the slice"
     ],
     "language": "python",
     "metadata": {},
     "outputs": [
      {
       "output_type": "stream",
       "stream": "stdout",
       "text": [
        "0\n",
        "50\n",
        "100\n",
        "150\n",
        "200\n",
        "250\n",
        "300\n",
        "350\n",
        "400\n",
        "450\n",
        "500\n",
        "550\n",
        "600\n",
        "650\n",
        "700\n",
        "750\n",
        "800\n",
        "850\n",
        "900\n",
        "950\n",
        "1000\n",
        "1050\n",
        "1100\n",
        "1150\n",
        "1200\n",
        "1250\n",
        "1300\n",
        "1350\n",
        "1400\n",
        "1450\n",
        "1500\n"
       ]
      }
     ],
     "prompt_number": 21
    },
    {
     "cell_type": "code",
     "collapsed": false,
     "input": [
      "region = [] # a list to hold the GC percent of each 50 nt region \n",
      "for i in range(0, len(ntseq), 50):\n",
      "    # set the counter \"countGC\" to 0 at the begining of each region\n",
      "    countGC = 0;\n",
      "    for nt in ntseq[i:i+50]: # loop over the slice of nt_seq\n",
      "        if nt in \"GC\": # ask if the nt is either G or C\n",
      "            countGC += 1 # if so increment the counter \"countGC\" by 1\n",
      "    reg_perc_GC = float(countGC)/len(ntseq[i:i+50])*100 # when the loop is complete, calculte the percent of nts in the region that are G or C\n",
      "    region.append(reg_perc_GC)#add the percentage to the list \"region\"\n",
      "\n",
      "print region"
     ],
     "language": "python",
     "metadata": {},
     "outputs": [
      {
       "output_type": "stream",
       "stream": "stdout",
       "text": [
        "[72.0, 66.0, 70.0, 68.0, 62.0, 50.0, 42.0, 50.0, 42.0, 50.0, 52.0, 50.0, 50.0, 48.0, 44.0, 46.0, 50.0, 48.0, 36.0, 42.0, 46.0, 46.0, 44.0, 42.0, 56.00000000000001, 46.0, 46.0, 50.0, 42.0, 40.0, 42.857142857142854]\n"
       ]
      }
     ],
     "prompt_number": 27
    },
    {
     "cell_type": "markdown",
     "metadata": {},
     "source": [
      "Now, let's generate a graph showing the percent GC of 50 nt bins along the coding region of this gene. We'll also plot the percent GC that we calculated from the coding sequence as a whole."
     ]
    },
    {
     "cell_type": "code",
     "collapsed": false,
     "input": [
      "import matplotlib.pyplot as plt # import a set of code written for generating graphics and tell the computer how to display graphs\n",
      "%pylab inline\n",
      "\n",
      "plt.plot(region) # plot the values of region\n",
      "plt.axhline(0, color='black') # forces the y-axis to start at 0\n",
      "# add a red line representing the average GC content of the entire sequence\n",
      "plt.axhline(mean(region), color='red')\n",
      "plt.ylabel(\"\") # label the y-axis\n",
      "plt.xlabel(\"\") # label the x-axis\n",
      "plt.title(\"GC percentage of \" + ntid + \"\\n calculated over 50 nt bins\") # add a title\n",
      "plt.show()"
     ],
     "language": "python",
     "metadata": {},
     "outputs": [
      {
       "output_type": "stream",
       "stream": "stdout",
       "text": [
        "Populating the interactive namespace from numpy and matplotlib\n"
       ]
      },
      {
       "metadata": {},
       "output_type": "display_data",
       "png": "[encoded data removed]",
       "text": [
        "<matplotlib.figure.Figure at 0x106375c50>"
       ]
      }
     ],
     "prompt_number": 28
    },
    {
     "cell_type": "heading",
     "level": 3,
     "metadata": {
      "slideshow": {
       "slide_type": "-"
      }
     },
     "source": [
      "B. Predict transmembrane regions of a protein"
     ]
    },
    {
     "cell_type": "markdown",
     "metadata": {},
     "source": [
      "First we'll retreive a protein sequence from NCBI."
     ]
    },
    {
     "cell_type": "code",
     "collapsed": false,
     "input": [
      "from Bio import Entrez # we'll import a set of code written for common biological applications\n",
      "from Bio import SeqIO"
     ],
     "language": "python",
     "metadata": {},
     "outputs": [],
     "prompt_number": 29
    },
    {
     "cell_type": "code",
     "collapsed": false,
     "input": [
      "GI_id = \"269973880\" #the GI accession of our protein of interest"
     ],
     "language": "python",
     "metadata": {},
     "outputs": [],
     "prompt_number": 30
    },
    {
     "cell_type": "code",
     "collapsed": false,
     "input": [
      "Entrez.email = \"\" # let NCBI know who you are\n",
      "handle = Entrez.efetch(db=\"protein\", rettype=\"gb\", retmode=\"text\", id=GI_id) # db = database to query, rettype = retrieval type, retmode = retrieval mode \n",
      "seq_record = SeqIO.read(handle, \"gb\") # read the contents \"fetched\" from NCBI\n",
      "handle.close()"
     ],
     "language": "python",
     "metadata": {},
     "outputs": [],
     "prompt_number": 31
    },
    {
     "cell_type": "code",
     "collapsed": false,
     "input": [
      "protid = seq_record.id# assign the RefSeq id of the sequence to the variable prot_ref\n",
      "print protid# print the RefSeq id\n",
      "\n",
      "protdes = seq_record.description #assign the protein's description to protdes\n",
      "print protdes\n",
      "\n",
      "protseq = seq_record.seq# pull out the sequence associated with this record\n",
      "print protseq\n",
      "\n",
      "print \"Len of protein:\", len(protseq)# print the number of amino acids in the sequence"
     ],
     "language": "python",
     "metadata": {},
     "outputs": [
      {
       "output_type": "stream",
       "stream": "stdout",
       "text": [
        "NP_694547.2\n",
        "probable G-protein coupled receptor 156 isoform 1 [Homo sapiens].\n",
        "MEPEINCSELCDSFPGQELDRRPLHDLCKTTITSSHHSSKTISSLSPVLLGIVWTFLSCGLLLILFFLAFTIHCRKNRIVKMSSPNLNIVTLLGSCLTYSSAYLFGIQDVLVGSSMETLIQTRLSMLCIGTSLVFGPILGKSWRLYKVFTQRVPDKRVIIKDLQLLGLVAALLMADVILLMTWVLTDPIQCLQILSVSMTVTGKDVSCTSTSTHFCASRYSDVWIALIWGCKGLLLLYGAYLAGLTGHVSSPPVNQSLTIMVGVNLLVLAAGLLFVVTRYLHSWPNLVFGLTSGGIFVCTTTINCFIFIPQLKQWKAFEEENQTIRRMAKYFSTPNKSFHTQYGEEENCHPRGEKSSMERLLTEKNAVIESLQEQVNNAKEKIVRLMSAECTYDLPEGAAPPASSPNKDVQAVASVHTLAAAQGPSGHLSDFQNDPGMAARDSQCTSGPSSYAQSLEGPGKDSSFSPGKEEKISDSKDFSDHLDSGCSQKPWTEQSLGPERGDQVPMNPSQSLLPERGGSDPQRQRHLENSEEPPERRSRVSSVIREKLQEVLQDLGLGPEASLSTAPSCHQQTWKNSAAFSPQKMPLSKELGFSPYMVRRRRAAQRARSHFPGSAPSSVGHRANRTVPGAHSRLHVQNGDSPSLAPQTTDSRVRRPSSRKPSLPSDPQDRPGTLEGSKQSQTEPEGARGSKAAFLRQPSGSGRAPSPAAPCLSKASPDLPEQWQLWPPVPSGCASLSSQHSYFDTESSSSDEFFCRCHRPYCEICFQSSSDSSDSGTSDTDPEPTGGLASWEKLWARSKPIVNFKDDLKPTLV\n",
        "Len of protein: 814\n"
       ]
      }
     ],
     "prompt_number": 32
    },
    {
     "cell_type": "markdown",
     "metadata": {},
     "source": [
      "The distribution of hydrophobic/hydrophilic amino acids throughout a protein sequence is associated with a protein's three-dimensional structure. \n",
      "\n",
      "In particular we're interested in identifying transmembrane domains. The location of transmembrane domains can be predicted by generating a graph with the positions of amino acids in a protein sequence on the x-axis and hydrophobicity values on the y-axis.  \n",
      "\n",
      "We'll loop over the amino acids in the protein, look up the hydrophobicity value of the amino acid, and generate a graph of the hydrophobicity values across the length of the protein sequence.  "
     ]
    },
    {
     "cell_type": "markdown",
     "metadata": {},
     "source": [
      "First, we'll generate a dictionary of the amino acids and their hydrophobicity values . . ."
     ]
    },
    {
     "cell_type": "code",
     "collapsed": true,
     "input": [
      "hydro = {\"I\":4.5, \"V\":4.2, \"L\":3.8, \"F\":2.8, \"C\":2.5, \"M\":1.9, \"A\":1.8, \"G\":-0.4, \"T\":-0.7, \"S\":-0.8, \"W\":-0.9, \"Y\":-1.3, \"P\":-1.6, \"H\":-3.2, \"E\":-3.5, \"Q\":-3.5, \"D\":-3.5, \"N\":-3.5, \"K\":-3.9, \"R\":-4.5}\n",
      "print len(hydro)"
     ],
     "language": "python",
     "metadata": {},
     "outputs": [
      {
       "output_type": "stream",
       "stream": "stdout",
       "text": [
        "20\n"
       ]
      }
     ],
     "prompt_number": 33
    },
    {
     "cell_type": "markdown",
     "metadata": {},
     "source": [
      "The more positive the number the more hydrophobic the amino acid.  \n",
      "The hydrophobicity values were derived from Kyte J, Doolittle RF. (1982) A simple method for displaying the hydropathic character of a protein. J Mol Biol. 157(1):105-32."
     ]
    },
    {
     "cell_type": "heading",
     "level": 4,
     "metadata": {},
     "source": [
      "Dictionary digression . . . "
     ]
    },
    {
     "cell_type": "markdown",
     "metadata": {},
     "source": [
      "You'll notice that the dictionary, hydro, is enclosed in curly brackets {}, and the elements of the dictionary'e entries contain two parts separated by a \":\". A dictionary gives you an easy way to lookup a string (a \"key\", the part before the :) and get back a value (the part after the :)."
     ]
    },
    {
     "cell_type": "code",
     "collapsed": false,
     "input": [
      "print hydro.keys() #return a list of the keys in the dictionary \"hydro\""
     ],
     "language": "python",
     "metadata": {},
     "outputs": [
      {
       "output_type": "stream",
       "stream": "stdout",
       "text": [
        "['A', 'C', 'E', 'D', 'G', 'F', 'I', 'H', 'K', 'M', 'L', 'N', 'Q', 'P', 'S', 'R', 'T', 'W', 'V', 'Y']\n"
       ]
      }
     ],
     "prompt_number": 34
    },
    {
     "cell_type": "code",
     "collapsed": false,
     "input": [
      "print hydro.values() #return a list of the values in the dictionary \"hydro\""
     ],
     "language": "python",
     "metadata": {},
     "outputs": [
      {
       "output_type": "stream",
       "stream": "stdout",
       "text": [
        "[1.8, 2.5, -3.5, -3.5, -0.4, 2.8, 4.5, -3.2, -3.9, 1.9, 3.8, -3.5, -3.5, -1.6, -0.8, -4.5, -0.7, -0.9, 4.2, -1.3]\n"
       ]
      }
     ],
     "prompt_number": 35
    },
    {
     "cell_type": "markdown",
     "metadata": {},
     "source": [
      "We can acess the values of the dictionary by providing the key."
     ]
    },
    {
     "cell_type": "code",
     "collapsed": false,
     "input": [
      "print hydro[\"T\"] #return the hydrophobicity value of threonine (T)"
     ],
     "language": "python",
     "metadata": {},
     "outputs": [
      {
       "output_type": "stream",
       "stream": "stdout",
       "text": [
        "-0.7\n"
       ]
      }
     ],
     "prompt_number": 36
    },
    {
     "cell_type": "markdown",
     "metadata": {},
     "source": [
      "We can loop over the elements of a dictionary and print the keys."
     ]
    },
    {
     "cell_type": "code",
     "collapsed": false,
     "input": [
      "for a in hydro:# Go through each key in the dictionary\n",
      "    print a # print the key "
     ],
     "language": "python",
     "metadata": {},
     "outputs": [
      {
       "output_type": "stream",
       "stream": "stdout",
       "text": [
        "A\n",
        "C\n",
        "E\n",
        "D\n",
        "G\n",
        "F\n",
        "I\n",
        "H\n",
        "K\n",
        "M\n",
        "L\n",
        "N\n",
        "Q\n",
        "P\n",
        "S\n",
        "R\n",
        "T\n",
        "W\n",
        "V\n",
        "Y\n"
       ]
      }
     ],
     "prompt_number": 37
    },
    {
     "cell_type": "markdown",
     "metadata": {},
     "source": [
      "We can loop over the elements of a dictionary and print the values."
     ]
    },
    {
     "cell_type": "code",
     "collapsed": false,
     "input": [
      "for k in hydro: # Go through each key in the dictionary\n",
      "    print hydro[k]#print the value"
     ],
     "language": "python",
     "metadata": {},
     "outputs": [
      {
       "output_type": "stream",
       "stream": "stdout",
       "text": [
        "1.8\n",
        "2.5\n",
        "-3.5\n",
        "-3.5\n",
        "-0.4\n",
        "2.8\n",
        "4.5\n",
        "-3.2\n",
        "-3.9\n",
        "1.9\n",
        "3.8\n",
        "-3.5\n",
        "-3.5\n",
        "-1.6\n",
        "-0.8\n",
        "-4.5\n",
        "-0.7\n",
        "-0.9\n",
        "4.2\n",
        "-1.3\n"
       ]
      }
     ],
     "prompt_number": 38
    },
    {
     "cell_type": "markdown",
     "metadata": {},
     "source": [
      "Loop over the amino acids in the protein sequence, then look up the amino acid in the hydrophobicity dictionary."
     ]
    },
    {
     "cell_type": "code",
     "collapsed": false,
     "input": [
      "hvalues = [] # an empty list to hold the hydrophobicity values along the length of the protein\n",
      "for aa in protseq:# go through amino acid in the protein sequence, protseq\n",
      "    # ask if the amino acid is in the dictionary's keys\n",
      "    if aa in hydro:\n",
      "        # print the amino acid and it's hydrophobicity value\n",
      "        print aa, hydro[aa]\n",
      "        # add the hydrophobicity value to the list hvalues\n",
      "        hvalues.append(hydro[aa])\n",
      "    else:# if the amino acid is not in the dictionary's keys\n",
      "        print \"Amino acid\", aa, \"not in dictionary.\" # print out a warning\n",
      "        break # stop the flow of the for loop"
     ],
     "language": "python",
     "metadata": {},
     "outputs": [
      {
       "output_type": "stream",
       "stream": "stdout",
       "text": [
        "M 1.9\n",
        "E -3.5\n",
        "P -1.6\n",
        "E -3.5\n",
        "I 4.5\n",
        "N -3.5\n",
        "C 2.5\n",
        "S -0.8\n",
        "E -3.5\n",
        "L 3.8\n",
        "C 2.5\n",
        "D -3.5\n",
        "S -0.8\n",
        "F 2.8\n",
        "P -1.6\n",
        "G -0.4\n",
        "Q -3.5\n",
        "E -3.5\n",
        "L 3.8\n",
        "D -3.5\n",
        "R -4.5\n",
        "R -4.5\n",
        "P -1.6\n",
        "L 3.8\n",
        "H -3.2\n",
        "D -3.5\n",
        "L 3.8\n",
        "C 2.5\n",
        "K -3.9\n",
        "T -0.7\n",
        "T -0.7\n",
        "I 4.5\n",
        "T -0.7\n",
        "S -0.8\n",
        "S -0.8\n",
        "H -3.2\n",
        "H -3.2\n",
        "S -0.8\n",
        "S -0.8\n",
        "K -3.9\n",
        "T -0.7\n",
        "I 4.5\n",
        "S -0.8\n",
        "S -0.8\n",
        "L 3.8\n",
        "S -0.8\n",
        "P -1.6\n",
        "V 4.2\n",
        "L 3.8\n",
        "L 3.8\n",
        "G -0.4\n",
        "I 4.5\n",
        "V 4.2\n",
        "W -0.9\n",
        "T -0.7\n",
        "F 2.8\n",
        "L 3.8\n",
        "S -0.8\n",
        "C 2.5\n",
        "G -0.4\n",
        "L 3.8\n",
        "L 3.8\n",
        "L 3.8\n",
        "I 4.5\n",
        "L 3.8\n",
        "F 2.8\n",
        "F 2.8\n",
        "L 3.8\n",
        "A 1.8\n",
        "F 2.8\n",
        "T -0.7\n",
        "I 4.5\n",
        "H -3.2\n",
        "C 2.5\n",
        "R -4.5\n",
        "K -3.9\n",
        "N -3.5\n",
        "R -4.5\n",
        "I 4.5\n",
        "V 4.2\n",
        "K -3.9\n",
        "M 1.9\n",
        "S -0.8\n",
        "S -0.8\n",
        "P -1.6\n",
        "N -3.5\n",
        "L 3.8\n",
        "N -3.5\n",
        "I 4.5\n",
        "V 4.2\n",
        "T -0.7\n",
        "L 3.8\n",
        "L 3.8\n",
        "G -0.4\n",
        "S -0.8\n",
        "C 2.5\n",
        "L 3.8\n",
        "T -0.7\n",
        "Y -1.3\n",
        "S -0.8\n",
        "S -0.8\n",
        "A 1.8\n",
        "Y -1.3\n",
        "L 3.8\n",
        "F 2.8\n",
        "G -0.4\n",
        "I 4.5\n",
        "Q -3.5\n",
        "D -3.5\n",
        "V 4.2\n",
        "L 3.8\n",
        "V 4.2\n",
        "G -0.4\n",
        "S -0.8\n",
        "S -0.8\n",
        "M 1.9\n",
        "E -3.5\n",
        "T -0.7\n",
        "L 3.8\n",
        "I 4.5\n",
        "Q -3.5\n",
        "T -0.7\n",
        "R -4.5\n",
        "L 3.8\n",
        "S -0.8\n",
        "M 1.9\n",
        "L 3.8\n",
        "C 2.5\n",
        "I 4.5\n",
        "G -0.4\n",
        "T -0.7\n",
        "S -0.8\n",
        "L 3.8\n",
        "V 4.2\n",
        "F 2.8\n",
        "G -0.4\n",
        "P -1.6\n",
        "I 4.5\n",
        "L 3.8\n",
        "G -0.4\n",
        "K -3.9\n",
        "S -0.8\n",
        "W -0.9\n",
        "R -4.5\n",
        "L 3.8\n",
        "Y -1.3\n",
        "K -3.9\n",
        "V 4.2\n",
        "F 2.8\n",
        "T -0.7\n",
        "Q -3.5\n",
        "R -4.5\n",
        "V 4.2\n",
        "P -1.6\n",
        "D -3.5\n",
        "K -3.9\n",
        "R -4.5\n",
        "V 4.2\n",
        "I 4.5\n",
        "I 4.5\n",
        "K -3.9\n",
        "D -3.5\n",
        "L 3.8\n",
        "Q -3.5\n",
        "L 3.8\n",
        "L 3.8\n",
        "G -0.4\n",
        "L 3.8\n",
        "V 4.2\n",
        "A 1.8\n",
        "A 1.8\n",
        "L 3.8\n",
        "L 3.8\n",
        "M 1.9\n",
        "A 1.8\n",
        "D -3.5\n",
        "V 4.2\n",
        "I 4.5\n",
        "L 3.8\n",
        "L 3.8\n",
        "M 1.9\n",
        "T -0.7\n",
        "W -0.9\n",
        "V 4.2\n",
        "L 3.8\n",
        "T -0.7\n",
        "D -3.5\n",
        "P -1.6\n",
        "I 4.5\n",
        "Q -3.5\n",
        "C 2.5\n",
        "L 3.8\n",
        "Q -3.5\n",
        "I 4.5\n",
        "L 3.8\n",
        "S -0.8\n",
        "V 4.2\n",
        "S -0.8\n",
        "M 1.9\n",
        "T -0.7\n",
        "V 4.2\n",
        "T -0.7\n",
        "G -0.4\n",
        "K -3.9\n",
        "D -3.5\n",
        "V 4.2\n",
        "S -0.8\n",
        "C 2.5\n",
        "T -0.7\n",
        "S -0.8\n",
        "T -0.7\n",
        "S -0.8\n",
        "T -0.7\n",
        "H -3.2\n",
        "F 2.8\n",
        "C 2.5\n",
        "A 1.8\n",
        "S -0.8\n",
        "R -4.5\n",
        "Y -1.3\n",
        "S -0.8\n",
        "D -3.5\n",
        "V 4.2\n",
        "W -0.9\n",
        "I 4.5\n",
        "A 1.8\n",
        "L 3.8\n",
        "I 4.5\n",
        "W -0.9\n",
        "G -0.4\n",
        "C 2.5\n",
        "K -3.9\n",
        "G -0.4\n",
        "L 3.8\n",
        "L 3.8\n",
        "L 3.8\n",
        "L 3.8\n",
        "Y -1.3\n",
        "G -0.4\n",
        "A 1.8\n",
        "Y -1.3\n",
        "L 3.8\n",
        "A 1.8\n",
        "G -0.4\n",
        "L 3.8\n",
        "T -0.7\n",
        "G -0.4\n",
        "H -3.2\n",
        "V 4.2\n",
        "S -0.8\n",
        "S -0.8\n",
        "P -1.6\n",
        "P -1.6\n",
        "V 4.2\n",
        "N -3.5\n",
        "Q -3.5\n",
        "S -0.8\n",
        "L 3.8\n",
        "T -0.7\n",
        "I 4.5\n",
        "M 1.9\n",
        "V 4.2\n",
        "G -0.4\n",
        "V 4.2\n",
        "N -3.5\n",
        "L 3.8\n",
        "L 3.8\n",
        "V 4.2\n",
        "L 3.8\n",
        "A 1.8\n",
        "A 1.8\n",
        "G -0.4\n",
        "L 3.8\n",
        "L 3.8\n",
        "F 2.8\n",
        "V 4.2\n",
        "V 4.2\n",
        "T -0.7\n",
        "R -4.5\n",
        "Y -1.3\n",
        "L 3.8\n",
        "H -3.2\n",
        "S -0.8\n",
        "W -0.9\n",
        "P -1.6\n",
        "N -3.5\n",
        "L 3.8\n",
        "V 4.2\n",
        "F 2.8\n",
        "G -0.4\n",
        "L 3.8\n",
        "T -0.7\n",
        "S -0.8\n",
        "G -0.4\n",
        "G -0.4\n",
        "I 4.5\n",
        "F 2.8\n",
        "V 4.2\n",
        "C 2.5\n",
        "T -0.7\n",
        "T -0.7\n",
        "T -0.7\n",
        "I 4.5\n",
        "N -3.5\n",
        "C 2.5\n",
        "F 2.8\n",
        "I 4.5\n",
        "F 2.8\n",
        "I 4.5\n",
        "P -1.6\n",
        "Q -3.5\n",
        "L 3.8\n",
        "K -3.9\n",
        "Q -3.5\n",
        "W -0.9\n",
        "K -3.9\n",
        "A 1.8\n",
        "F 2.8\n",
        "E -3.5\n",
        "E -3.5\n",
        "E -3.5\n",
        "N -3.5\n",
        "Q -3.5\n",
        "T -0.7\n",
        "I 4.5\n",
        "R -4.5\n",
        "R -4.5\n",
        "M 1.9\n",
        "A 1.8\n",
        "K -3.9\n",
        "Y -1.3\n",
        "F 2.8\n",
        "S -0.8\n",
        "T -0.7\n",
        "P -1.6\n",
        "N -3.5\n",
        "K -3.9\n",
        "S -0.8\n",
        "F 2.8\n",
        "H -3.2\n",
        "T -0.7\n",
        "Q -3.5\n",
        "Y -1.3\n",
        "G -0.4\n",
        "E -3.5\n",
        "E -3.5\n",
        "E -3.5\n",
        "N -3.5\n",
        "C 2.5\n",
        "H -3.2\n",
        "P -1.6\n",
        "R -4.5\n",
        "G -0.4\n",
        "E -3.5\n",
        "K -3.9\n",
        "S -0.8\n",
        "S -0.8\n",
        "M 1.9\n",
        "E -3.5\n",
        "R -4.5\n",
        "L 3.8\n",
        "L 3.8\n",
        "T -0.7\n",
        "E -3.5\n",
        "K -3.9\n",
        "N -3.5\n",
        "A 1.8\n",
        "V 4.2\n",
        "I 4.5\n",
        "E -3.5\n",
        "S -0.8\n",
        "L 3.8\n",
        "Q -3.5\n",
        "E -3.5\n",
        "Q -3.5\n",
        "V 4.2\n",
        "N -3.5\n",
        "N -3.5\n",
        "A 1.8\n",
        "K -3.9\n",
        "E -3.5\n",
        "K -3.9\n",
        "I 4.5\n",
        "V 4.2\n",
        "R -4.5\n",
        "L 3.8\n",
        "M 1.9\n",
        "S -0.8\n",
        "A 1.8\n",
        "E -3.5\n",
        "C 2.5\n",
        "T -0.7\n",
        "Y -1.3\n",
        "D -3.5\n",
        "L 3.8\n",
        "P -1.6\n",
        "E -3.5\n",
        "G -0.4\n",
        "A 1.8\n",
        "A 1.8\n",
        "P -1.6\n",
        "P -1.6\n",
        "A 1.8\n",
        "S -0.8\n",
        "S -0.8\n",
        "P -1.6\n",
        "N -3.5\n",
        "K -3.9\n",
        "D -3.5\n",
        "V 4.2\n",
        "Q -3.5\n",
        "A 1.8\n",
        "V 4.2\n",
        "A 1.8\n",
        "S -0.8\n",
        "V 4.2\n",
        "H -3.2\n",
        "T -0.7\n",
        "L 3.8\n",
        "A 1.8\n",
        "A 1.8\n",
        "A 1.8\n",
        "Q -3.5\n",
        "G -0.4\n",
        "P -1.6\n",
        "S -0.8\n",
        "G -0.4\n",
        "H -3.2\n",
        "L 3.8\n",
        "S -0.8\n",
        "D -3.5\n",
        "F 2.8\n",
        "Q -3.5\n",
        "N -3.5\n",
        "D -3.5\n",
        "P -1.6\n",
        "G -0.4\n",
        "M 1.9\n",
        "A 1.8\n",
        "A 1.8\n",
        "R -4.5\n",
        "D -3.5\n",
        "S -0.8\n",
        "Q -3.5\n",
        "C 2.5\n",
        "T -0.7\n",
        "S -0.8\n",
        "G -0.4\n",
        "P -1.6\n",
        "S -0.8\n",
        "S -0.8\n",
        "Y -1.3\n",
        "A 1.8\n",
        "Q -3.5\n",
        "S -0.8\n",
        "L 3.8\n",
        "E -3.5\n",
        "G -0.4\n",
        "P -1.6\n",
        "G -0.4\n",
        "K -3.9\n",
        "D -3.5\n",
        "S -0.8\n",
        "S -0.8\n",
        "F 2.8\n",
        "S -0.8\n",
        "P -1.6\n",
        "G -0.4\n",
        "K -3.9\n",
        "E -3.5\n",
        "E -3.5\n",
        "K -3.9\n",
        "I 4.5\n",
        "S -0.8\n",
        "D -3.5\n",
        "S -0.8\n",
        "K -3.9\n",
        "D -3.5\n",
        "F 2.8\n",
        "S -0.8\n",
        "D -3.5\n",
        "H -3.2\n",
        "L 3.8\n",
        "D -3.5\n",
        "S -0.8\n",
        "G -0.4\n",
        "C 2.5\n",
        "S -0.8\n",
        "Q -3.5\n",
        "K -3.9\n",
        "P -1.6\n",
        "W -0.9\n",
        "T -0.7\n",
        "E -3.5\n",
        "Q -3.5\n",
        "S -0.8\n",
        "L 3.8\n",
        "G -0.4\n",
        "P -1.6\n",
        "E -3.5\n",
        "R -4.5\n",
        "G -0.4\n",
        "D -3.5\n",
        "Q -3.5\n",
        "V 4.2\n",
        "P -1.6\n",
        "M 1.9\n",
        "N -3.5\n",
        "P -1.6\n",
        "S -0.8\n",
        "Q -3.5\n",
        "S -0.8\n",
        "L 3.8\n",
        "L 3.8\n",
        "P -1.6\n",
        "E -3.5\n",
        "R -4.5\n",
        "G -0.4\n",
        "G -0.4\n",
        "S -0.8\n",
        "D -3.5\n",
        "P -1.6\n",
        "Q -3.5\n",
        "R -4.5\n",
        "Q -3.5\n",
        "R -4.5\n",
        "H -3.2\n",
        "L 3.8\n",
        "E -3.5\n",
        "N -3.5\n",
        "S -0.8\n",
        "E -3.5\n",
        "E -3.5\n",
        "P -1.6\n",
        "P -1.6\n",
        "E -3.5\n",
        "R -4.5\n",
        "R -4.5\n",
        "S -0.8\n",
        "R -4.5\n",
        "V 4.2\n",
        "S -0.8\n",
        "S -0.8\n",
        "V 4.2\n",
        "I 4.5\n",
        "R -4.5\n",
        "E -3.5\n",
        "K -3.9\n",
        "L 3.8\n",
        "Q -3.5\n",
        "E -3.5\n",
        "V 4.2\n",
        "L 3.8\n",
        "Q -3.5\n",
        "D -3.5\n",
        "L 3.8\n",
        "G -0.4\n",
        "L 3.8\n",
        "G -0.4\n",
        "P -1.6\n",
        "E -3.5\n",
        "A 1.8\n",
        "S -0.8\n",
        "L 3.8\n",
        "S -0.8\n",
        "T -0.7\n",
        "A 1.8\n",
        "P -1.6\n",
        "S -0.8\n",
        "C 2.5\n",
        "H -3.2\n",
        "Q -3.5\n",
        "Q -3.5\n",
        "T -0.7\n",
        "W -0.9\n",
        "K -3.9\n",
        "N -3.5\n",
        "S -0.8\n",
        "A 1.8\n",
        "A 1.8\n",
        "F 2.8\n",
        "S -0.8\n",
        "P -1.6\n",
        "Q -3.5\n",
        "K -3.9\n",
        "M 1.9\n",
        "P -1.6\n",
        "L 3.8\n",
        "S -0.8\n",
        "K -3.9\n",
        "E -3.5\n",
        "L 3.8\n",
        "G -0.4\n",
        "F 2.8\n",
        "S -0.8\n",
        "P -1.6\n",
        "Y -1.3\n",
        "M 1.9\n",
        "V 4.2\n",
        "R -4.5\n",
        "R -4.5\n",
        "R -4.5\n",
        "R -4.5\n",
        "A 1.8\n",
        "A 1.8\n",
        "Q -3.5\n",
        "R -4.5\n",
        "A 1.8\n",
        "R -4.5\n",
        "S -0.8\n",
        "H -3.2\n",
        "F 2.8\n",
        "P -1.6\n",
        "G -0.4\n",
        "S -0.8\n",
        "A 1.8\n",
        "P -1.6\n",
        "S -0.8\n",
        "S -0.8\n",
        "V 4.2\n",
        "G -0.4\n",
        "H -3.2\n",
        "R -4.5\n",
        "A 1.8\n",
        "N -3.5\n",
        "R -4.5\n",
        "T -0.7\n",
        "V 4.2\n",
        "P -1.6\n",
        "G -0.4\n",
        "A 1.8\n",
        "H -3.2\n",
        "S -0.8\n",
        "R -4.5\n",
        "L 3.8\n",
        "H -3.2\n",
        "V 4.2\n",
        "Q -3.5\n",
        "N -3.5\n",
        "G -0.4\n",
        "D -3.5\n",
        "S -0.8\n",
        "P -1.6\n",
        "S -0.8\n",
        "L 3.8\n",
        "A 1.8\n",
        "P -1.6\n",
        "Q -3.5\n",
        "T -0.7\n",
        "T -0.7\n",
        "D -3.5\n",
        "S -0.8\n",
        "R -4.5\n",
        "V 4.2\n",
        "R -4.5\n",
        "R -4.5\n",
        "P -1.6\n",
        "S -0.8\n",
        "S -0.8\n",
        "R -4.5\n",
        "K -3.9\n",
        "P -1.6\n",
        "S -0.8\n",
        "L 3.8\n",
        "P -1.6\n",
        "S -0.8\n",
        "D -3.5\n",
        "P -1.6\n",
        "Q -3.5\n",
        "D -3.5\n",
        "R -4.5\n",
        "P -1.6\n",
        "G -0.4\n",
        "T -0.7\n",
        "L 3.8\n",
        "E -3.5\n",
        "G -0.4\n",
        "S -0.8\n",
        "K -3.9\n",
        "Q -3.5\n",
        "S -0.8\n",
        "Q -3.5\n",
        "T -0.7\n",
        "E -3.5\n",
        "P -1.6\n",
        "E -3.5\n",
        "G -0.4\n",
        "A 1.8\n",
        "R -4.5\n",
        "G -0.4\n",
        "S -0.8\n",
        "K -3.9\n",
        "A 1.8\n",
        "A 1.8\n",
        "F 2.8\n",
        "L 3.8\n",
        "R -4.5\n",
        "Q -3.5\n",
        "P -1.6\n",
        "S -0.8\n",
        "G -0.4\n",
        "S -0.8\n",
        "G -0.4\n",
        "R -4.5\n",
        "A 1.8\n",
        "P -1.6\n",
        "S -0.8\n",
        "P -1.6\n",
        "A 1.8\n",
        "A 1.8\n",
        "P -1.6\n",
        "C 2.5\n",
        "L 3.8\n",
        "S -0.8\n",
        "K -3.9\n",
        "A 1.8\n",
        "S -0.8\n",
        "P -1.6\n",
        "D -3.5\n",
        "L 3.8\n",
        "P -1.6\n",
        "E -3.5\n",
        "Q -3.5\n",
        "W -0.9\n",
        "Q -3.5\n",
        "L 3.8\n",
        "W -0.9\n",
        "P -1.6\n",
        "P -1.6\n",
        "V 4.2\n",
        "P -1.6\n",
        "S -0.8\n",
        "G -0.4\n",
        "C 2.5\n",
        "A 1.8\n",
        "S -0.8\n",
        "L 3.8\n",
        "S -0.8\n",
        "S -0.8\n",
        "Q -3.5\n",
        "H -3.2\n",
        "S -0.8\n",
        "Y -1.3\n",
        "F 2.8\n",
        "D -3.5\n",
        "T -0.7\n",
        "E -3.5\n",
        "S -0.8\n",
        "S -0.8\n",
        "S -0.8\n",
        "S -0.8\n",
        "D -3.5\n",
        "E -3.5\n",
        "F 2.8\n",
        "F 2.8\n",
        "C 2.5\n",
        "R -4.5\n",
        "C 2.5\n",
        "H -3.2\n",
        "R -4.5\n",
        "P -1.6\n",
        "Y -1.3\n",
        "C 2.5\n",
        "E -3.5\n",
        "I 4.5\n",
        "C 2.5\n",
        "F 2.8\n",
        "Q -3.5\n",
        "S -0.8\n",
        "S -0.8\n",
        "S -0.8\n",
        "D -3.5\n",
        "S -0.8\n",
        "S -0.8\n",
        "D -3.5\n",
        "S -0.8\n",
        "G -0.4\n",
        "T -0.7\n",
        "S -0.8\n",
        "D -3.5\n",
        "T -0.7\n",
        "D -3.5\n",
        "P -1.6\n",
        "E -3.5\n",
        "P -1.6\n",
        "T -0.7\n",
        "G -0.4\n",
        "G -0.4\n",
        "L 3.8\n",
        "A 1.8\n",
        "S -0.8\n",
        "W -0.9\n",
        "E -3.5\n",
        "K -3.9\n",
        "L 3.8\n",
        "W -0.9\n",
        "A 1.8\n",
        "R -4.5\n",
        "S -0.8\n",
        "K -3.9\n",
        "P -1.6\n",
        "I 4.5\n",
        "V 4.2\n",
        "N -3.5\n",
        "F 2.8\n",
        "K -3.9\n",
        "D -3.5\n",
        "D -3.5\n",
        "L 3.8\n",
        "K -3.9\n",
        "P -1.6\n",
        "T -0.7\n",
        "L 3.8\n",
        "V 4.2\n"
       ]
      }
     ],
     "prompt_number": 39
    },
    {
     "cell_type": "markdown",
     "metadata": {},
     "source": [
      "Now, let's generate a graph."
     ]
    },
    {
     "cell_type": "code",
     "collapsed": false,
     "input": [
      "import matplotlib.pyplot as plt # import a set of code written for generating graphics and tell the computer how to display graphs\n",
      "%pylab inline\n",
      "\n",
      "plt.plot(hvalues) # plot the hydrophobicity values of the protein sequence\n",
      "plt.axhline(0, color='grey') # add a horizontal grey line at y=0\n",
      "plt.ylabel(\"\") # add a label to the y-axis\n",
      "plt.xlabel(\"\") # add a label to the x-axis\n",
      "plt.title(\"Kyte Doolittle Hydrophobicity of \" + protid) #add a title to the graph\n",
      "plt.show()"
     ],
     "language": "python",
     "metadata": {},
     "outputs": [
      {
       "output_type": "stream",
       "stream": "stdout",
       "text": [
        "Populating the interactive namespace from numpy and matplotlib\n"
       ]
      },
      {
       "metadata": {},
       "output_type": "display_data",
       "png": "[encoded data removed]",
       "text": [
        "<matplotlib.figure.Figure at 0x10621f890>"
       ]
      }
     ],
     "prompt_number": 40
    },
    {
     "cell_type": "markdown",
     "metadata": {},
     "source": [
      "Ploting the hydrophobicity of each position in the protein sequence results in a noisy graph. Let's calculate the average hydrophobicity over a sliding window 20 aa in length, and include a red line on the graph at 1.6 on the hydrophobicity scale. Regions with hydrophobicity values greater than 1.6 are more likely to be transmembrane domains."
     ]
    },
    {
     "cell_type": "code",
     "collapsed": false,
     "input": [
      "window_len = 20 # define the length of the window\n",
      "smooth_hydro = []# smooth_hydro = a list to hold the moving average values\n",
      "for i in range(len(protseq)-window_len): # for each number in a list\n",
      "    hval = 0 # for each region reset the cumulative hydrophobicity value, hval, to 0\n",
      "    for aa in protseq[i:i+window_len]:# for each aa in window\n",
      "        v = hydro[aa]#look-up hydrophobicity of aa, assign to variable \"v\"\n",
      "        hval += v#increment the value of hval by v\n",
      "    avh = hval/len(protseq[i:i+window_len]) # calculate the average hydrophobicity value of the region\n",
      "    smooth_hydro.append(avh) # add the average to the list smooth_hydro"
     ],
     "language": "python",
     "metadata": {},
     "outputs": [],
     "prompt_number": 42
    },
    {
     "cell_type": "markdown",
     "metadata": {},
     "source": [
      "We'll generate a graph of the smoothed values."
     ]
    },
    {
     "cell_type": "code",
     "collapsed": false,
     "input": [
      "import matplotlib.pyplot as plt # import a set of code written for generating graphics and tell the computer how to display graphs\n",
      "%pylab inline\n",
      "\n",
      "plt.plot(smooth_hydro) # plot the value of smooth_hydro\n",
      "plt.axhline(0, color='grey') # add a horizontal grey line at y=0\n",
      "plt.axhline(1.6, color='red')# add a horizontal red line at y=1.6\n",
      "plt.ylabel('Hydrophobicity') # add a label to the y-axis\n",
      "plt.xlabel('Amino acid position') # add a label to the x-axis\n",
      "plt.title(\"Kyte Doolittle Hydrophobicity of \" + protid + \"\\n 20 nt sliding window\") # add a title to the graph\n",
      "plt.show()"
     ],
     "language": "python",
     "metadata": {},
     "outputs": [
      {
       "output_type": "stream",
       "stream": "stdout",
       "text": [
        "Populating the interactive namespace from numpy and matplotlib\n"
       ]
      },
      {
       "metadata": {},
       "output_type": "display_data",
       "png": "[encoded data removed]",
       "text": [
        "<matplotlib.figure.Figure at 0x105ecc190>"
       ]
      }
     ],
     "prompt_number": 43
    },
    {
     "cell_type": "markdown",
     "metadata": {},
     "source": [
      "That's all folks!  \n",
      "Please save your notebook and upload the notebook to Blackboard."
     ]
    },
    {
     "cell_type": "code",
     "collapsed": false,
     "input": [],
     "language": "python",
     "metadata": {},
     "outputs": []
    }
   ],
   "metadata": {}
  }
 ]
}