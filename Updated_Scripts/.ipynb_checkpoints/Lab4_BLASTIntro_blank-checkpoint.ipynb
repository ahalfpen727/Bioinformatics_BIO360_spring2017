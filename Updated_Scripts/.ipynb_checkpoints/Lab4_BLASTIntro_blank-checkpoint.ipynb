{
 "cells": [
  {
   "cell_type": "markdown",
   "metadata": {},
   "source": [
    "# Lab 4: Introduction to BLAST Using Biopython"
   ]
  },
  {
   "cell_type": "markdown",
   "metadata": {},
   "source": [
    "\n",
    "Imagine that you have isolated an unknown protein from an organism you’re studying, and you want to learn more about it. You know the protein’s sequence, but nothing about its function. How would you go about learning more about it? Alternatively, what if you know the identity of your protein and its function, but want to know how important it is to the survival of the organism?\n",
    "\n",
    "Often, the most logical first step for problems like this is to perform a similarity search using a tool like BLAST at NCBI. BLAST has access to sequences from many different databases, and can help you find other sequences that are closely related to your sequence. This can be helpful in multiple ways. For problems like the first described above, it may allow you to find sequences that are similar to yours and have a known function, which can give you a clue about the function of your protein. For the second problem, it can tell you something about how conserved your protein is, and therefore how essential it is to the survival of the organism. If your BLAST search returns a large number of very similar sequences, it is likely that your sequence is conserved – and important to the organism’s continued survival.\n",
    "\n",
    "As you can see, BLAST is quite a useful tool for biologists. In today’s lab exercise, you’ll get a chance to experiment with BLASTing a sequence and seeing what you can learn about the sequence by doing so. Additionally, you’ll work with different parameters for your BLAST searches, in order to get an idea of how changing those parameters changes your results, both in terms of the results (or “hits”) that you get, and in terms of how closely related (evolutionarily) those matches are considered to be to your sequence. You may find the “Taxonomy Report” useful for this aspect.\n"
   ]
  },
  {
   "cell_type": "markdown",
   "metadata": {},
   "source": [
    "## Part 1"
   ]
  },
  {
   "cell_type": "markdown",
   "metadata": {},
   "source": [
    "\n",
    "Your group will BLAST a gene and its associated protein using several different sets of parameters. We'll be using Biopython to do the BLASTs.\n",
    "\n",
    "Here is a list of commands you can use to refine your search:\n",
    "    program        blastn, blastp, blastx, tblastn, or tblastx (lower case)  \n",
    "    \n",
    "    database       Which database to search against (e.g. \"nr\").  \n",
    "    \n",
    "    sequence       The sequence to search.   \n",
    "    \n",
    "    descriptions   Number of descriptions to show.  Def 500.  \n",
    "    \n",
    "    alignments     Number of alignments to show.  Def 500.  \n",
    "    \n",
    "    expect         An expect value cutoff.  Def 10.0.  \n",
    "    \n",
    "    matrix_name    Specify an alt. matrix (PAM30, PAM70, BLOSUM80, BLOSUM45).  \n",
    "    \n",
    "    filter         \"none\" turns off filtering.  Default no filtering  \n",
    "\n",
    "    entrez_query   Entrez query to limit Blast search  \n",
    "    \n",
    "    hitlist_size   Number of hits to return. Default 50  \n",
    "    \n",
    "    megablast      TRUE/FALSE whether to use MEga BLAST algorithm (blastn only)  \n",
    "\n",
    "    \n",
    "The accession number for the protein sequence you'll be working with is **NP_000312**."
   ]
  },
  {
   "cell_type": "markdown",
   "metadata": {},
   "source": [
    "#### Q1: For the protein with accession number NP_000312, what is a) the name of the protein, b) its function, and c) the accession number of the gene encoding it?"
   ]
  },
  {
   "cell_type": "raw",
   "metadata": {},
   "source": []
  },
  {
   "cell_type": "code",
   "execution_count": 12,
   "metadata": {
    "collapsed": false
   },
   "outputs": [],
   "source": [
    "from Bio.Blast import NCBIWWW, NCBIXML"
   ]
  },
  {
   "cell_type": "markdown",
   "metadata": {},
   "source": [
    "First, let's do an example Web BLAST using Biopython. The NCBIWWW module connects remotely to NCBI, tells it to do the BLAST using the parameters passed to the qblast function, and then returns the results of the BLAST search.\n",
    "\n",
    "To parse the results, we'll use the NCBIXML module, which reads the results and converts them to XML format."
   ]
  },
  {
   "cell_type": "code",
   "execution_count": 13,
   "metadata": {
    "collapsed": false
   },
   "outputs": [],
   "source": [
    "results = NCBIWWW.qblast(program = \"blastn\", database = \"refseq_rna\", \n",
    "                         sequence = \"8332116\", hitlist_size=100)\n",
    "blast_record = NCBIXML.read(results)"
   ]
  },
  {
   "cell_type": "markdown",
   "metadata": {},
   "source": [
    "Now let's print out some useful info from our blast record. Blast records score hits as a series of alignment objects, from which you can access the high-scoring seqment pairs (HSPs) for that alignment. You can then access the statistics (score, E value, etc.) for that HSP.\n",
    "\n",
    "One thing you may notice is that HSPs don't have the \"percent identity\" attribute that you are used to seeing when running BLASTs. They do, however, have an attribute for the *number* of matching identities, as well as for the sequence. So, to get the percent identity, all I had to do was divide the number of identities by the length of the query sequence."
   ]
  },
  {
   "cell_type": "code",
   "execution_count": 14,
   "metadata": {
    "collapsed": false
   },
   "outputs": [
    {
     "name": "stdout",
     "output_type": "stream",
     "text": [
      "Description: gi|568824607|ref|XM_006466626.1| PREDICTED: Citrus sinensis cold-regulated 413 plasma membrane protein 2-like (LOC102620025), transcript variant X5, mRNA\n",
      "Score: 412.0\n",
      "E value: 1.13407e-99\n",
      "Percent Id: 74.3288590604 % \n",
      "\n",
      "Description: gi|568824605|ref|XM_006466625.1| PREDICTED: Citrus sinensis cold-regulated 413 plasma membrane protein 2-like (LOC102620025), transcript variant X4, mRNA\n",
      "Score: 412.0\n",
      "E value: 1.13407e-99\n",
      "Percent Id: 74.3288590604 % \n",
      "\n",
      "Description: gi|568824603|ref|XM_006466624.1| PREDICTED: Citrus sinensis cold-regulated 413 plasma membrane protein 2-like (LOC102620025), transcript variant X3, mRNA\n",
      "Score: 412.0\n",
      "E value: 1.13407e-99\n",
      "Percent Id: 74.3288590604 % \n",
      "\n",
      "Description: gi|568824601|ref|XM_006466623.1| PREDICTED: Citrus sinensis cold-regulated 413 plasma membrane protein 2-like (LOC102620025), transcript variant X2, mRNA\n",
      "Score: 412.0\n",
      "E value: 1.13407e-99\n",
      "Percent Id: 74.3288590604 % \n",
      "\n",
      "Description: gi|568824599|ref|XM_006466622.1| PREDICTED: Citrus sinensis cold-regulated 413 plasma membrane protein 2-like (LOC102620025), transcript variant X1, mRNA\n",
      "Score: 412.0\n",
      "E value: 1.13407e-99\n",
      "Percent Id: 74.3288590604 % \n",
      "\n",
      "Description: gi|567866318|ref|XM_006425719.1| Citrus clementina hypothetical protein (CICLE_v10026511mg) mRNA, complete cds\n",
      "Score: 412.0\n",
      "E value: 1.13407e-99\n",
      "Percent Id: 74.3288590604 % \n",
      "\n",
      "Description: gi|567866316|ref|XM_006425718.1| Citrus clementina hypothetical protein (CICLE_v10026511mg) mRNA, complete cds\n",
      "Score: 412.0\n",
      "E value: 1.13407e-99\n",
      "Percent Id: 74.3288590604 % \n",
      "\n",
      "Description: gi|567866314|ref|XM_006425717.1| Citrus clementina hypothetical protein (CICLE_v10026511mg) mRNA, complete cds\n",
      "Score: 412.0\n",
      "E value: 1.13407e-99\n",
      "Percent Id: 74.3288590604 % \n",
      "\n",
      "Description: gi|567866312|ref|XM_006425716.1| Citrus clementina hypothetical protein (CICLE_v10026511mg) mRNA, complete cds\n",
      "Score: 412.0\n",
      "E value: 1.13407e-99\n",
      "Percent Id: 74.3288590604 % \n",
      "\n",
      "Description: gi|590704208|ref|XM_007047033.1| Theobroma cacao Cold-regulated 413-plasma membrane 2 isoform 1 (TCM_000499) mRNA, complete cds\n",
      "Score: 400.0\n",
      "E value: 2.05045e-96\n",
      "Percent Id: 74.0495867769 % \n",
      "\n",
      "Description: gi|590704205|ref|XM_007047032.1| Theobroma cacao Cold-regulated 413-plasma membrane 2 isoform 1 (TCM_000499) mRNA, complete cds\n",
      "Score: 400.0\n",
      "E value: 2.05045e-96\n",
      "Percent Id: 74.0495867769 % \n",
      "\n",
      "Description: gi|694428700|ref|XM_009343631.1| PREDICTED: Pyrus x bretschneideri cold-regulated 413 plasma membrane protein 2-like (LOC103933927), mRNA >gi|694428728|ref|XM_009343644.1| PREDICTED: Pyrus x bretschneideri cold-regulated 413 plasma membrane protein 2-like (LOC103933943), mRNA\n",
      "Score: 378.0\n",
      "E value: 1.92043e-90\n",
      "Percent Id: 74.4840525328 % \n",
      "\n",
      "Description: gi|694402986|ref|XM_009378191.1| PREDICTED: Pyrus x bretschneideri cold-regulated 413 plasma membrane protein 2 (LOC103965177), mRNA\n",
      "Score: 378.0\n",
      "E value: 1.92043e-90\n",
      "Percent Id: 74.4840525328 % \n",
      "\n",
      "Description: gi|595807351|ref|XM_007202530.1| Prunus persica hypothetical protein (PRUPE_ppa011608mg) mRNA, complete cds\n",
      "Score: 362.0\n",
      "E value: 4.23004e-86\n",
      "Percent Id: 73.9212007505 % \n",
      "\n",
      "Description: gi|566180892|ref|XM_006380679.1| Populus trichocarpa cold-acclimation family protein (POPTR_0007s12060g) mRNA, complete cds\n",
      "Score: 358.0\n",
      "E value: 5.15324e-85\n",
      "Percent Id: 72.6510067114 % \n",
      "\n",
      "Description: gi|470129329|ref|XM_004300526.1| PREDICTED: Fragaria vesca subsp. vesca cold-regulated 413 plasma membrane protein 2-like (LOC101313417), mRNA\n",
      "Score: 356.0\n",
      "E value: 1.79866e-84\n",
      "Percent Id: 72.6510067114 % \n",
      "\n",
      "Description: gi|359495761|ref|XM_002274845.2| PREDICTED: Vitis vinifera uncharacterized LOC100267774 (LOC100267774), mRNA\n",
      "Score: 354.0\n",
      "E value: 6.27793e-84\n",
      "Percent Id: 72.3793677205 % \n",
      "\n",
      "Description: gi|645272858|ref|XM_008243375.1| PREDICTED: Prunus mume cold-regulated 413 plasma membrane protein 2-like (LOC103340011), transcript variant X2, mRNA\n",
      "Score: 338.0\n",
      "E value: 1.38281e-79\n",
      "Percent Id: 72.9831144465 % \n",
      "\n",
      "Description: gi|645272856|ref|XM_008243374.1| PREDICTED: Prunus mume cold-regulated 413 plasma membrane protein 2-like (LOC103340011), transcript variant X1, mRNA\n",
      "Score: 338.0\n",
      "E value: 1.38281e-79\n",
      "Percent Id: 72.9831144465 % \n",
      "\n",
      "Description: gi|255562758|ref|XM_002522339.1| Ricinus communis COR413-PM2, putative, mRNA\n",
      "Score: 336.0\n",
      "E value: 4.82647e-79\n",
      "Percent Id: 72.962962963 % \n",
      "\n",
      "Description: gi|658006068|ref|XM_008339966.1| PREDICTED: Malus x domestica cold-regulated 413 plasma membrane protein 2 (LOC103401258), mRNA\n",
      "Score: 328.0\n",
      "E value: 7.16311e-77\n",
      "Percent Id: 72.3562152134 % \n",
      "\n",
      "Description: gi|697116717|ref|XM_009613983.1| PREDICTED: Nicotiana tomentosiformis cold-regulated 413 plasma membrane protein 2-like (LOC104105636), mRNA\n",
      "Score: 312.0\n",
      "E value: 1.57778e-72\n",
      "Percent Id: 70.826306914 % \n",
      "\n",
      "Description: gi|565355903|ref|XM_006344753.1| PREDICTED: Solanum tuberosum cold-regulated 413 plasma membrane protein 2-like (LOC102596410), mRNA\n",
      "Score: 306.0\n",
      "E value: 6.70889e-71\n",
      "Percent Id: 70.8754208754 % \n",
      "\n",
      "Description: gi|659079297|ref|XM_008441961.1| PREDICTED: Cucumis melo cold-regulated 413 plasma membrane protein 2-like (LOC103484724), transcript variant X2, mRNA\n",
      "Score: 298.0\n",
      "E value: 9.95688e-69\n",
      "Percent Id: 71.375464684 % \n",
      "\n",
      "Description: gi|659079295|ref|XM_008441960.1| PREDICTED: Cucumis melo cold-regulated 413 plasma membrane protein 2-like (LOC103484724), transcript variant X1, mRNA\n",
      "Score: 298.0\n",
      "E value: 9.95688e-69\n",
      "Percent Id: 71.375464684 % \n",
      "\n",
      "Description: gi|502153055|ref|XM_004509143.1| PREDICTED: Cicer arietinum cold-regulated 413 plasma membrane protein 2-like (LOC101494218), mRNA\n",
      "Score: 296.0\n",
      "E value: 3.47529e-68\n",
      "Percent Id: 70.9618874773 % \n",
      "\n",
      "Description: gi|358346403|ref|XM_003637210.1| Medicago truncatula Cold acclimation protein-like protein (MTR_079s1009) mRNA, complete cds\n",
      "Score: 292.0\n",
      "E value: 4.23377e-67\n",
      "Percent Id: 71.1775043937 % \n",
      "\n",
      "Description: gi|358344000|ref|XM_003636035.1| Medicago truncatula Cold acclimation protein-like protein (MTR_026s0005) mRNA, complete cds\n",
      "Score: 292.0\n",
      "E value: 4.23377e-67\n",
      "Percent Id: 71.1775043937 % \n",
      "\n",
      "Description: gi|571531434|ref|XM_003548859.2| PREDICTED: Glycine max cold-regulated 413 plasma membrane protein 2-like (LOC100817084), mRNA\n",
      "Score: 278.0\n",
      "E value: 2.6718e-63\n",
      "Percent Id: 71.1069418386 % \n",
      "\n",
      "Description: gi|449448541|ref|XM_004141977.1| PREDICTED: Cucumis sativus cold-regulated 413 plasma membrane protein 2-like (LOC101222565), mRNA >gi|449497762|ref|XM_004160463.1| PREDICTED: Cucumis sativus cold-regulated 413 plasma membrane protein 2-like (LOC101222565), mRNA\n",
      "Score: 278.0\n",
      "E value: 2.6718e-63\n",
      "Percent Id: 70.6319702602 % \n",
      "\n",
      "Description: gi|571438949|ref|XM_003519866.2| PREDICTED: Glycine max cold-regulated 413 plasma membrane protein 2-like (LOC100810337), mRNA\n",
      "Score: 276.0\n",
      "E value: 9.32551e-63\n",
      "Percent Id: 71.1574952562 % \n",
      "\n",
      "Description: gi|658037046|ref|XM_008355863.1| PREDICTED: Malus x domestica cold-regulated 413 plasma membrane protein 2-like (LOC103417704), mRNA\n",
      "Score: 264.0\n",
      "E value: 1.68609e-59\n",
      "Percent Id: 73.2843137255 % \n",
      "\n",
      "Description: gi|460375241|ref|XM_004233368.1| PREDICTED: Solanum lycopersicum cold-regulated 413 plasma membrane protein 2-like (LOC101259505), mRNA\n",
      "Score: 264.0\n",
      "E value: 1.68609e-59\n",
      "Percent Id: 71.9298245614 % \n",
      "\n",
      "Description: gi|225428595|ref|XM_002284686.1| PREDICTED: Vitis vinifera uncharacterized LOC100248690 (LOC100248690), mRNA\n",
      "Score: 244.0\n",
      "E value: 4.52441e-54\n",
      "Percent Id: 71.2809917355 % \n",
      "\n",
      "Description: gi|568851338|ref|XM_006479288.1| PREDICTED: Citrus sinensis cold-regulated 413 plasma membrane protein 2-like (LOC102614347), mRNA\n",
      "Score: 234.0\n",
      "E value: 2.3437e-51\n",
      "Percent Id: 70.7468879668 % \n",
      "\n",
      "Description: gi|567861017|ref|XM_006423100.1| Citrus clementina hypothetical protein (CICLE_v10029293mg) mRNA, complete cds\n",
      "Score: 234.0\n",
      "E value: 2.3437e-51\n",
      "Percent Id: 70.7468879668 % \n",
      "\n",
      "Description: gi|685362915|ref|XM_009117512.1| PREDICTED: Brassica rapa cold-regulated 413 plasma membrane protein 2 (LOC103841002), mRNA\n",
      "Score: 226.0\n",
      "E value: 3.47836e-49\n",
      "Percent Id: 70.8803611738 % \n",
      "\n",
      "Description: gi|297819785|ref|XM_002877730.1| Arabidopsis lyrata subsp. lyrata COR413-PM2, mRNA\n",
      "Score: 226.0\n",
      "E value: 3.47836e-49\n",
      "Percent Id: 70.5882352941 % \n",
      "\n",
      "Description: gi|659079299|ref|XM_008441962.1| PREDICTED: Cucumis melo cold-regulated 413 plasma membrane protein 2-like (LOC103484724), transcript variant X3, mRNA\n",
      "Score: 224.0\n",
      "E value: 1.21407e-48\n",
      "Percent Id: 71.2560386473 % \n",
      "\n",
      "Description: gi|565467969|ref|XM_006291803.1| Capsella rubella hypothetical protein (CARUB_v10018040mg) mRNA, complete cds\n",
      "Score: 220.0\n",
      "E value: 1.47904e-47\n",
      "Percent Id: 70.6546275395 % \n",
      "\n",
      "Description: gi|145339339|ref|NM_114943.4| Arabidopsis thaliana cold-regulated 413-plasma membrane 2 mRNA, complete cds\n",
      "Score: 220.0\n",
      "E value: 1.47904e-47\n",
      "Percent Id: 70.3619909502 % \n",
      "\n",
      "Description: gi|672203830|ref|XM_008780526.1| PREDICTED: Phoenix dactylifera cold-regulated 413 plasma membrane protein 2-like (LOC103698497), mRNA\n",
      "Score: 212.0\n",
      "E value: 2.19509e-45\n",
      "Percent Id: 70.1357466063 % \n",
      "\n",
      "Description: gi|695061241|ref|XM_009420772.1| PREDICTED: Musa acuminata subsp. malaccensis cold-regulated 413 plasma membrane protein 2-like (LOC103999114), mRNA\n",
      "Score: 210.0\n",
      "E value: 7.66161e-45\n",
      "Percent Id: 69.9115044248 % \n",
      "\n",
      "Description: gi|685291226|ref|XM_009138315.1| PREDICTED: Brassica rapa cold-regulated 413 plasma membrane protein 2 (LOC103860669), mRNA\n",
      "Score: 210.0\n",
      "E value: 7.66161e-45\n",
      "Percent Id: 70.2031602709 % \n",
      "\n",
      "Description: gi|255556172|ref|XM_002519075.1| Ricinus communis COR413-PM2, putative, mRNA\n",
      "Score: 210.0\n",
      "E value: 7.66161e-45\n",
      "Percent Id: 69.0298507463 % \n",
      "\n",
      "Description: gi|567188085|ref|XM_006403931.1| Eutrema salsugineum hypothetical protein (EUTSA_v10010733mg) mRNA, complete cds\n",
      "Score: 206.0\n",
      "E value: 9.33375e-44\n",
      "Percent Id: 68.3520599251 % \n",
      "\n",
      "Description: gi|695057083|ref|XM_009418522.1| PREDICTED: Musa acuminata subsp. malaccensis cold-regulated 413 plasma membrane protein 2-like (LOC103997341), mRNA\n",
      "Score: 196.0\n",
      "E value: 4.835e-41\n",
      "Percent Id: 69.6832579186 % \n",
      "\n",
      "Description: gi|449502385|ref|XM_004161578.1| PREDICTED: Cucumis sativus cold-regulated 413 plasma membrane protein 2-like (LOC101203533), mRNA\n",
      "Score: 194.0\n",
      "E value: 1.68758e-40\n",
      "Percent Id: 69.7286012526 % \n",
      "\n",
      "Description: gi|449455211|ref|XM_004145299.1| PREDICTED: Cucumis sativus cold-regulated 413 plasma membrane protein 2-like (LOC101212811), mRNA\n",
      "Score: 194.0\n",
      "E value: 1.68758e-40\n",
      "Percent Id: 69.7286012526 % \n",
      "\n",
      "Description: gi|449474965|ref|XM_004154286.1| PREDICTED: Cucumis sativus cold-regulated 413 plasma membrane protein 2-like (LOC101203533), mRNA\n",
      "Score: 194.0\n",
      "E value: 1.68758e-40\n",
      "Percent Id: 69.7286012526 % \n",
      "\n",
      "Description: gi|672133181|ref|XM_008791977.1| PREDICTED: Phoenix dactylifera cold-regulated 413 plasma membrane protein 2-like (LOC103707477), mRNA\n",
      "Score: 190.0\n",
      "E value: 2.05589e-39\n",
      "Percent Id: 69.1144708423 % \n",
      "\n",
      "Description: gi|593785904|ref|XM_007155931.1| Phaseolus vulgaris hypothetical protein (PHAVU_003G249700g) mRNA, complete cds\n",
      "Score: 190.0\n",
      "E value: 2.05589e-39\n",
      "Percent Id: 68.0080482897 % \n",
      "\n",
      "Description: gi|566187445|ref|XM_002313788.2| Populus trichocarpa hypothetical protein (POPTR_0009s11290g) mRNA, complete cds\n",
      "Score: 190.0\n",
      "E value: 2.05589e-39\n",
      "Percent Id: 69.8275862069 % \n",
      "\n",
      "Description: gi|470148635|ref|XM_004309813.1| PREDICTED: Fragaria vesca subsp. vesca cold-regulated 413 plasma membrane protein 2-like (LOC101300877), mRNA\n",
      "Score: 190.0\n",
      "E value: 2.05589e-39\n",
      "Percent Id: 75.4646840149 % \n",
      "\n",
      "Description: gi|460370003|ref|XM_004230797.1| PREDICTED: Solanum lycopersicum cold-regulated 413 plasma membrane protein 2-like, transcript variant 1 (LOC101259682), mRNA\n",
      "Score: 182.0\n",
      "E value: 3.05122e-37\n",
      "Percent Id: 67.2862453532 % \n",
      "\n",
      "Description: gi|697129150|ref|XM_009620339.1| PREDICTED: Nicotiana tomentosiformis cold-regulated 413 plasma membrane protein 1 (LOC104110788), mRNA\n",
      "Score: 180.0\n",
      "E value: 1.06498e-36\n",
      "Percent Id: 68.3229813665 % \n",
      "\n",
      "Description: gi|659118663|ref|XM_008461016.1| PREDICTED: Cucumis melo cold-regulated 413 plasma membrane protein 2-like (LOC103498423), mRNA\n",
      "Score: 180.0\n",
      "E value: 1.06498e-36\n",
      "Percent Id: 68.8796680498 % \n",
      "\n",
      "Description: gi|672178672|ref|XM_008811254.1| PREDICTED: Phoenix dactylifera cold-regulated 413 plasma membrane protein 2-like (LOC103721175), mRNA\n",
      "Score: 178.0\n",
      "E value: 3.71714e-36\n",
      "Percent Id: 69.1415313225 % \n",
      "\n",
      "Description: gi|685346725|ref|XM_009111099.1| PREDICTED: Brassica rapa cold-regulated 413 plasma membrane protein 4 (LOC103835009), mRNA\n",
      "Score: 174.0\n",
      "E value: 4.52841e-35\n",
      "Percent Id: 69.3670886076 % \n",
      "\n",
      "Description: gi|695039758|ref|XM_009409154.1| PREDICTED: Musa acuminata subsp. malaccensis cold-regulated 413 plasma membrane protein 2-like (LOC103990118), mRNA\n",
      "Score: 172.0\n",
      "E value: 1.58057e-34\n",
      "Percent Id: 69.1415313225 % \n",
      "\n",
      "Description: gi|565399919|ref|XM_006365425.1| PREDICTED: Solanum tuberosum cold-regulated 413 plasma membrane protein 2-like (LOC102589207), mRNA\n",
      "Score: 170.0\n",
      "E value: 5.51673e-34\n",
      "Percent Id: 67.6288659794 % \n",
      "\n",
      "Description: gi|573926239|ref|XM_006650591.1| PREDICTED: Oryza brachyantha cold-regulated 413 plasma membrane protein 2-like (LOC102714164), mRNA\n",
      "Score: 164.0\n",
      "E value: 2.34577e-32\n",
      "Percent Id: 71.7857142857 % \n",
      "\n",
      "Description: gi|162459269|ref|NM_001111732.1| Zea mays LOC542099 (gpm455), mRNA\n",
      "Score: 164.0\n",
      "E value: 2.34577e-32\n",
      "Percent Id: 72.0 % \n",
      "\n",
      "Description: gi|242037992|ref|XM_002466346.1| Sorghum bicolor hypothetical protein, mRNA\n",
      "Score: 162.0\n",
      "E value: 8.18756e-32\n",
      "Percent Id: 72.1014492754 % \n",
      "\n",
      "Description: gi|255617390|ref|XM_002539789.1| Ricinus communis COR413-PM2, putative, mRNA\n",
      "Score: 160.0\n",
      "E value: 2.85774e-31\n",
      "Percent Id: 72.4907063197 % \n",
      "\n",
      "Description: gi|586769285|ref|XM_006856118.1| Amborella trichopoda hypothetical protein (AMTR_s00059p00180740) mRNA, complete cds\n",
      "Score: 158.0\n",
      "E value: 9.97449e-31\n",
      "Percent Id: 72.8624535316 % \n",
      "\n",
      "Description: gi|565445972|ref|XM_006284481.1| Capsella rubella hypothetical protein (CARUB_v10005760mg) mRNA, complete cds\n",
      "Score: 156.0\n",
      "E value: 3.48144e-30\n",
      "Percent Id: 68.4337349398 % \n",
      "\n",
      "Description: gi|30690903|ref|NM_119885.2| Arabidopsis thaliana cold acclimation protein WCOR413 mRNA, complete cds\n",
      "Score: 156.0\n",
      "E value: 3.48144e-30\n",
      "Percent Id: 67.4858223062 % \n",
      "\n",
      "Description: gi|694437515|ref|XM_009347508.1| PREDICTED: Pyrus x bretschneideri cold-regulated 413 plasma membrane protein 2-like (LOC103937562), transcript variant X1, mRNA\n",
      "Score: 154.0\n",
      "E value: 1.21514e-29\n",
      "Percent Id: 71.8861209964 % \n",
      "\n",
      "Description: gi|694400465|ref|XM_009377049.1| PREDICTED: Pyrus x bretschneideri cold-regulated 413 plasma membrane protein 2-like (LOC103964149), transcript variant X2, mRNA >gi|694400473|ref|XM_009377052.1| PREDICTED: Pyrus x bretschneideri cold-regulated 413 plasma membrane protein 2-like (LOC103964152), transcript variant X2, mRNA\n",
      "Score: 154.0\n",
      "E value: 1.21514e-29\n",
      "Percent Id: 67.8958785249 % \n",
      "\n",
      "Description: gi|567216639|ref|XM_006411886.1| Eutrema salsugineum hypothetical protein (EUTSA_v10026271mg) mRNA, complete cds\n",
      "Score: 154.0\n",
      "E value: 1.21514e-29\n",
      "Percent Id: 68.4210526316 % \n",
      "\n",
      "Description: gi|226504237|ref|NM_001155133.1| Zea mays cold acclimation protein COR413-PM1 (LOC100282221), mRNA\n",
      "Score: 154.0\n",
      "E value: 1.21514e-29\n",
      "Percent Id: 69.0954773869 % \n",
      "\n",
      "Description: gi|115455578|ref|NM_001057925.1| Oryza sativa Japonica Group Os03g0767800 (Os03g0767800) mRNA, complete cds\n",
      "Score: 154.0\n",
      "E value: 1.21514e-29\n",
      "Percent Id: 71.7557251908 % \n",
      "\n",
      "Description: gi|694400471|ref|XM_009377051.1| PREDICTED: Pyrus x bretschneideri cold-regulated 413 plasma membrane protein 2-like (LOC103964152), transcript variant X1, mRNA\n",
      "Score: 152.0\n",
      "E value: 4.24126e-29\n",
      "Percent Id: 71.2230215827 % \n",
      "\n",
      "Description: gi|694400463|ref|XM_009377048.1| PREDICTED: Pyrus x bretschneideri cold-regulated 413 plasma membrane protein 2-like (LOC103964149), transcript variant X1, mRNA\n",
      "Score: 152.0\n",
      "E value: 4.24126e-29\n",
      "Percent Id: 71.2230215827 % \n",
      "\n",
      "Description: gi|357114154|ref|XR_137736.1| PREDICTED: Brachypodium distachyon uncharacterized LOC100844112 (LOC100844112), miscRNA\n",
      "Score: 150.0\n",
      "E value: 1.48034e-28\n",
      "Percent Id: 71.5384615385 % \n",
      "\n",
      "Description: gi|694437517|ref|XM_009347509.1| PREDICTED: Pyrus x bretschneideri cold-regulated 413 plasma membrane protein 2-like (LOC103937562), transcript variant X2, mRNA\n",
      "Score: 148.0\n",
      "E value: 5.16691e-28\n",
      "Percent Id: 71.5302491103 % \n",
      "\n",
      "Description: gi|688953713|ref|NM_001302037.1| Brassica rapa cold-regulated 413 plasma membrane protein 1-like (LOC103860441), mRNA\n",
      "Score: 146.0\n",
      "E value: 1.80343e-27\n",
      "Percent Id: 67.758186398 % \n",
      "\n",
      "Description: gi|297798195|ref|XM_002866936.1| Arabidopsis lyrata subsp. lyrata hypothetical protein, mRNA\n",
      "Score: 144.0\n",
      "E value: 6.29459e-27\n",
      "Percent Id: 67.7884615385 % \n",
      "\n",
      "Description: gi|657990218|ref|XM_008389111.1| PREDICTED: Malus x domestica cold-regulated 413 plasma membrane protein 1-like (LOC103449792), mRNA\n",
      "Score: 142.0\n",
      "E value: 2.19703e-26\n",
      "Percent Id: 68.8144329897 % \n",
      "\n",
      "Description: gi|514813705|ref|XM_004981578.1| PREDICTED: Setaria italica cold-regulated 413 plasma membrane protein 1-like (LOC101778503), mRNA\n",
      "Score: 140.0\n",
      "E value: 7.66838e-26\n",
      "Percent Id: 72.1739130435 % \n",
      "\n",
      "Description: gi|460370005|ref|XM_004230798.1| PREDICTED: Solanum lycopersicum cold-regulated 413 plasma membrane protein 2-like, transcript variant 2 (LOC101259682), mRNA\n",
      "Score: 140.0\n",
      "E value: 7.66838e-26\n",
      "Percent Id: 71.484375 % \n",
      "\n",
      "Description: gi|595793576|ref|XM_007200475.1| Prunus persica hypothetical protein (PRUPE_ppa011663mg) mRNA, complete cds\n",
      "Score: 138.0\n",
      "E value: 2.67653e-25\n",
      "Percent Id: 68.2151589242 % \n",
      "\n",
      "Description: gi|566166734|ref|XM_002305370.2| Populus trichocarpa hypothetical protein (POPTR_0004s15610g) mRNA, complete cds\n",
      "Score: 130.0\n",
      "E value: 3.97232e-23\n",
      "Percent Id: 69.6078431373 % \n",
      "\n",
      "Description: gi|334184249|ref|NM_127156.3| Arabidopsis thaliana cold regulated 413 plasma membrane 1 mRNA, complete cds\n",
      "Score: 130.0\n",
      "E value: 3.97232e-23\n",
      "Percent Id: 67.2727272727 % \n",
      "\n",
      "Description: gi|357473148|ref|XM_003606811.1| Medicago truncatula Cold-regulated protein (MTR_4g068520) mRNA, complete cds\n",
      "Score: 128.0\n",
      "E value: 1.38647e-22\n",
      "Percent Id: 72.972972973 % \n",
      "\n",
      "Description: gi|567208101|ref|XM_006409418.1| Eutrema salsugineum hypothetical protein (EUTSA_v10022862mg) mRNA, complete cds\n",
      "Score: 126.0\n",
      "E value: 4.83927e-22\n",
      "Percent Id: 71.2062256809 % \n",
      "\n",
      "Description: gi|685376640|ref|XM_009122989.1| PREDICTED: Brassica rapa cold-regulated 413 plasma membrane protein 1 (LOC103846070), mRNA\n",
      "Score: 124.0\n",
      "E value: 1.68907e-21\n",
      "Percent Id: 73.6263736264 % \n",
      "\n",
      "Description: gi|645262358|ref|XM_008238505.1| PREDICTED: Prunus mume cold-regulated 413 plasma membrane protein 1-like (LOC103335494), mRNA\n",
      "Score: 124.0\n",
      "E value: 1.68907e-21\n",
      "Percent Id: 67.4816625917 % \n",
      "\n",
      "Description: gi|357473146|ref|XM_003606810.1| Medicago truncatula Cold acclimation protein COR413-PM1 (MTR_4g068510) mRNA, complete cds\n",
      "Score: 122.0\n",
      "E value: 5.89544e-21\n",
      "Percent Id: 72.5225225225 % \n",
      "\n",
      "Description: gi|334184250|ref|NM_001202604.1| Arabidopsis thaliana cold regulated 413 plasma membrane 1 mRNA, complete cds\n",
      "Score: 122.0\n",
      "E value: 5.89544e-21\n",
      "Percent Id: 73.7430167598 % \n",
      "\n",
      "Description: gi|670367658|ref|XM_008666922.1| PREDICTED: Zea mays cold-regulated 413 plasma membrane protein 1-like (LOC103643752), mRNA\n",
      "Score: 120.0\n",
      "E value: 2.05771e-20\n",
      "Percent Id: 68.6046511628 % \n",
      "\n",
      "Description: gi|567208097|ref|XM_006409417.1| Eutrema salsugineum hypothetical protein (EUTSA_v10022862mg) mRNA, complete cds\n",
      "Score: 120.0\n",
      "E value: 2.05771e-20\n",
      "Percent Id: 73.4693877551 % \n",
      "\n",
      "Description: gi|593148564|ref|XM_007131823.1| Phaseolus vulgaris hypothetical protein (PHAVU_011G049500g) mRNA, complete cds\n",
      "Score: 118.0\n",
      "E value: 7.18212e-20\n",
      "Percent Id: 71.3043478261 % \n",
      "\n",
      "Description: gi|593148564|ref|XM_007131823.1| Phaseolus vulgaris hypothetical protein (PHAVU_011G049500g) mRNA, complete cds\n",
      "Score: 50.0\n",
      "E value: 0.205953\n",
      "Percent Id: 80.0 % \n",
      "\n",
      "Description: gi|571491175|ref|XM_006591753.1| PREDICTED: Glycine max cold-regulated protein (COR1), transcript variant X1, mRNA\n",
      "Score: 116.0\n",
      "E value: 2.50681e-19\n",
      "Percent Id: 72.6851851852 % \n",
      "\n",
      "Description: gi|658018762|ref|XM_008346515.1| PREDICTED: Malus x domestica cold-regulated 413 plasma membrane protein 2-like (LOC103407615), mRNA\n",
      "Score: 114.0\n",
      "E value: 8.74961e-19\n",
      "Percent Id: 72.0588235294 % \n",
      "\n",
      "Description: gi|565481933|ref|XM_006298545.1| Capsella rubella hypothetical protein (CARUB_v10014692mg) mRNA, complete cds\n",
      "Score: 112.0\n",
      "E value: 3.05391e-18\n",
      "Percent Id: 66.2921348315 % \n",
      "\n",
      "Description: gi|595793574|ref|XM_007200474.1| Prunus persica hypothetical protein (PRUPE_ppa011663mg) mRNA, complete cds\n",
      "Score: 110.0\n",
      "E value: 1.06592e-17\n",
      "Percent Id: 67.4157303371 % \n",
      "\n",
      "Description: gi|571488367|ref|XM_003537861.2| PREDICTED: Glycine max cold-regulated 413 plasma membrane protein 2-like (LOC100811430), transcript variant 1, mRNA\n",
      "Score: 108.0\n",
      "E value: 3.72043e-17\n",
      "Percent Id: 70.4347826087 % \n",
      "\n",
      "Description: gi|351725384|ref|NM_001251697.1| Glycine max cold-regulated protein (COR1), mRNA\n",
      "Score: 104.0\n",
      "E value: 4.53241e-16\n",
      "Percent Id: 71.921182266 % \n",
      "\n"
     ]
    }
   ],
   "source": [
    "for alignment in blast_record.alignments:\n",
    "    for hsp in alignment.hsps:\n",
    "        print 'Description:', alignment.title\n",
    "        print 'Score:', hsp.score\n",
    "        print 'E value:', hsp.expect\n",
    "        print 'Percent Id:', (float(hsp.identities) / len(hsp.query)) * 100, '%', '\\n'"
   ]
  },
  {
   "cell_type": "markdown",
   "metadata": {},
   "source": [
    "Now it's your turn. Using the syntax in the two code cells above, use Biopython to BLAST your group's gene. Change the program to blastp so you can work with the protein sequence. For the sequence argument, you can use either the protein sequence itself or the accession number."
   ]
  },
  {
   "cell_type": "code",
   "execution_count": null,
   "metadata": {
    "collapsed": false
   },
   "outputs": [],
   "source": [
    "# Put your Blast code here."
   ]
  },
  {
   "cell_type": "markdown",
   "metadata": {},
   "source": [
    "Now repeat the search, but change the substitution matrix to\n",
    "\n",
    "a) BLOSUM45  \n",
    "b) BLOSUM80  \n",
    "c) PAM30  \n",
    "d) PAM70  "
   ]
  },
  {
   "cell_type": "code",
   "execution_count": null,
   "metadata": {
    "collapsed": false
   },
   "outputs": [],
   "source": [
    "# Put your code for a) here"
   ]
  },
  {
   "cell_type": "code",
   "execution_count": null,
   "metadata": {
    "collapsed": false
   },
   "outputs": [],
   "source": [
    "# Put your code for b) here"
   ]
  },
  {
   "cell_type": "code",
   "execution_count": null,
   "metadata": {
    "collapsed": false
   },
   "outputs": [],
   "source": [
    "# Put your code for c) here"
   ]
  },
  {
   "cell_type": "code",
   "execution_count": null,
   "metadata": {
    "collapsed": false
   },
   "outputs": [],
   "source": [
    "# Put your code for d) here"
   ]
  },
  {
   "cell_type": "markdown",
   "metadata": {},
   "source": [
    "#### Q2: For each search, explain how changing the substitution matrix altered your results. Which search is the most sensitive, and which is the least sensitive? (If necessary, you can increase the maximum number of results to get a better idea of how different scoring matrices affect your results.)"
   ]
  },
  {
   "cell_type": "raw",
   "metadata": {},
   "source": []
  },
  {
   "cell_type": "markdown",
   "metadata": {},
   "source": [
    "Look up the mRNA sequence for your protein, and use it to do a blastn search."
   ]
  },
  {
   "cell_type": "code",
   "execution_count": null,
   "metadata": {
    "collapsed": false
   },
   "outputs": [],
   "source": [
    "# Put your blastn code here"
   ]
  },
  {
   "cell_type": "markdown",
   "metadata": {},
   "source": [
    "#### Q3:  a) How do the results compare to the results you obtained from blastp? b) Is blastn better suited to finding closely related genes or distantly related ones?"
   ]
  },
  {
   "cell_type": "raw",
   "metadata": {},
   "source": []
  },
  {
   "cell_type": "markdown",
   "metadata": {},
   "source": [
    "Change the search program to megablast and run another search using your mRNA sequence. (Note: to do this, set the BLAST program to **blastn** and set the megablast parameter to **TRUE**."
   ]
  },
  {
   "cell_type": "code",
   "execution_count": null,
   "metadata": {
    "collapsed": false
   },
   "outputs": [],
   "source": [
    "# Put your megablast code here"
   ]
  },
  {
   "cell_type": "markdown",
   "metadata": {},
   "source": [
    "#### Q4: What do you notice about your megablast results compared to blastn? What happens if you change the word size to 128 or 256? What if you change it to 16?"
   ]
  },
  {
   "cell_type": "raw",
   "metadata": {},
   "source": []
  },
  {
   "cell_type": "markdown",
   "metadata": {},
   "source": [
    "Predict what will happen to your results if you run your search again using one of the following programs: blastx, tblastn, or tblastx."
   ]
  },
  {
   "cell_type": "markdown",
   "metadata": {},
   "source": [
    "#### Q5: Which program did you choose, and what is your prediction for that program? How do you think the sensitivity of this search will compare to the sensitivity of your other searches? Justify your prediction."
   ]
  },
  {
   "cell_type": "raw",
   "metadata": {},
   "source": []
  },
  {
   "cell_type": "markdown",
   "metadata": {},
   "source": [
    "Next, do the search to test your prediction."
   ]
  },
  {
   "cell_type": "code",
   "execution_count": null,
   "metadata": {
    "collapsed": false
   },
   "outputs": [],
   "source": [
    "# Put your blastx, tblastn, or tblastx code here"
   ]
  },
  {
   "cell_type": "markdown",
   "metadata": {},
   "source": [
    "#### Q5: Was your prediction correct?"
   ]
  },
  {
   "cell_type": "raw",
   "metadata": {},
   "source": []
  },
  {
   "cell_type": "markdown",
   "metadata": {},
   "source": [
    "Now that you know more about how BLAST works, design a search that will be best suited to finding sequences that are close relatives of your protein. To confirm that your search is optimized for closely related sequences, note the E-value of the most distant hit."
   ]
  },
  {
   "cell_type": "code",
   "execution_count": null,
   "metadata": {
    "collapsed": false
   },
   "outputs": [],
   "source": [
    "# Put your closely-related sequence code here."
   ]
  },
  {
   "cell_type": "markdown",
   "metadata": {},
   "source": [
    "#### E value of most distant hit:"
   ]
  },
  {
   "cell_type": "raw",
   "metadata": {},
   "source": []
  },
  {
   "cell_type": "markdown",
   "metadata": {},
   "source": [
    "Next, design a search that will find distant hits for your protein."
   ]
  },
  {
   "cell_type": "code",
   "execution_count": null,
   "metadata": {
    "collapsed": false
   },
   "outputs": [],
   "source": [
    "# Put your distantly-related sequence code here."
   ]
  },
  {
   "cell_type": "markdown",
   "metadata": {},
   "source": [
    "#### E value of most distant hit:"
   ]
  },
  {
   "cell_type": "raw",
   "metadata": {},
   "source": []
  },
  {
   "cell_type": "markdown",
   "metadata": {},
   "source": [
    "#### Q6: What is the most distant hit of this search, and do you think it is really homologous to your protein? Why or why not?"
   ]
  },
  {
   "cell_type": "raw",
   "metadata": {},
   "source": []
  },
  {
   "cell_type": "markdown",
   "metadata": {},
   "source": [
    "## Part 2"
   ]
  },
  {
   "cell_type": "markdown",
   "metadata": {},
   "source": [
    "For Part 2 of this exercise, we won't be using Biopython. Instead, we'll go to [NCBI's web BLAST tool](http://www.ncbi.nlm.nih.gov/BLAST/Blast.cgi) and do some pairwise alignments (see handout). Save your answers in a text file."
   ]
  }
 ],
 "metadata": {
  "kernelspec": {
   "display_name": "Python 3",
   "language": "python",
   "name": "python3"
  },
  "language_info": {
   "codemirror_mode": {
    "name": "ipython",
    "version": 3
   },
   "file_extension": ".py",
   "mimetype": "text/x-python",
   "name": "python",
   "nbconvert_exporter": "python",
   "pygments_lexer": "ipython3",
   "version": "3.5.1"
  }
 },
 "nbformat": 4,
 "nbformat_minor": 0
}
