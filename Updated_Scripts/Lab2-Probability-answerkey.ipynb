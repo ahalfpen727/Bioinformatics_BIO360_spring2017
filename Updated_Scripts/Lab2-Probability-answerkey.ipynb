{
 "cells": [
  {
   "cell_type": "markdown",
   "metadata": {},
   "source": [
    "## Lab 2: Probability"
   ]
  },
  {
   "cell_type": "markdown",
   "metadata": {},
   "source": [
    "#### What's your name?"
   ]
  },
  {
   "cell_type": "raw",
   "metadata": {},
   "source": [
    "Answer Keys"
   ]
  },
  {
   "cell_type": "markdown",
   "metadata": {},
   "source": [
    "##### Group Question 1: Write out a set of 3 organelles found in eucaryotic cells. Be sure to use the standard math notation."
   ]
  },
  {
   "cell_type": "raw",
   "metadata": {},
   "source": [
    "{nucleus,endoplasmic reticulum, cytoplasm}"
   ]
  },
  {
   "cell_type": "markdown",
   "metadata": {},
   "source": [
    "##### Group Question 2: How many entries are in the sample space {A,C,G,T}?"
   ]
  },
  {
   "cell_type": "raw",
   "metadata": {},
   "source": [
    "4"
   ]
  },
  {
   "cell_type": "markdown",
   "metadata": {},
   "source": [
    "##### Group Question 3: What is the sample space of all possible di-nucleotides? (Write it out.) In other words, what are all the possible di- nucleotides you might find in a big genome?"
   ]
  },
  {
   "cell_type": "raw",
   "metadata": {},
   "source": [
    "NpN\n",
    "( ApA,ApC,ApG,ApT, CpC , CpA, CpG, CpT, GpG, GpA GpC GpT TpT TpA TpC TpG )  "
   ]
  },
  {
   "cell_type": "markdown",
   "metadata": {},
   "source": [
    "##### Group Question 4: How big is the sample space of di-nucleotides?"
   ]
  },
  {
   "cell_type": "raw",
   "metadata": {},
   "source": [
    "16 (4^2)"
   ]
  },
  {
   "cell_type": "markdown",
   "metadata": {},
   "source": [
    "##### Group Question 5: What is the relationship between the standard genetic code, and the sample space of tri-nucleotides?"
   ]
  },
  {
   "cell_type": "raw",
   "metadata": {},
   "source": [
    "THEY SHARE A PHOSPHORUS group"
   ]
  },
  {
   "cell_type": "markdown",
   "metadata": {},
   "source": [
    "##### Group Question 6: How large is the sample space of tri-nucleotides?"
   ]
  },
  {
   "cell_type": "raw",
   "metadata": {},
   "source": [
    "64"
   ]
  },
  {
   "cell_type": "markdown",
   "metadata": {},
   "source": [
    "##### Group Question 7: Derive a simple math function that takes a number of nucleotides and gives you the sample space size."
   ]
  },
  {
   "cell_type": "code",
   "execution_count": 1,
   "metadata": {},
   "outputs": [
    {
     "name": "stdout",
     "output_type": "stream",
     "text": [
      "20 nucleotides gives\n",
      "a sample size space of 1099511627776\n"
     ]
    }
   ],
   "source": [
    "#use this code cell as a calculator to compute the sample space size\n",
    "\n",
    "number_nucleotides = 20 \n",
    "\n",
    "sample_space_size = 4**number_nucleotides #put your formula here\n",
    "\n",
    "print(number_nucleotides, \"nucleotides gives\")\n",
    "print(\"a sample size space of\", sample_space_size)"
   ]
  },
  {
   "cell_type": "markdown",
   "metadata": {},
   "source": [
    "##### Group Question 8: What’s an example of a situation with a probability of 0? Show the answer using (Equation 1)."
   ]
  },
  {
   "cell_type": "code",
   "execution_count": 2,
   "metadata": {},
   "outputs": [
    {
     "name": "stdout",
     "output_type": "stream",
     "text": [
      "0.0\n"
     ]
    }
   ],
   "source": [
    "#use this code cell as a calculator, fully describe the situation in comments\n",
    "E = \"Hitting homerun football\"\n",
    "num_ways_event_occurs =0\n",
    "\n",
    "sample_space =2\n",
    "\n",
    "prob_homerun_football = num_ways_event_occurs/sample_space\n",
    "\n",
    "print(prob_homerun_football)"
   ]
  },
  {
   "cell_type": "markdown",
   "metadata": {},
   "source": [
    "##### Group Question 9: What’s an example of a situation with a probability of 1? Show the answer using (Equation 1)."
   ]
  },
  {
   "cell_type": "code",
   "execution_count": 3,
   "metadata": {},
   "outputs": [
    {
     "name": "stdout",
     "output_type": "stream",
     "text": [
      "1.0\n"
     ]
    }
   ],
   "source": [
    "E = \"shoe size will be 9\" #use this code cell as a calculator, fully describe the situation in comments\n",
    "num_ways_event_occurs =1 #the event is\n",
    "\n",
    "sample_space = 1\n",
    "\n",
    "p = num_ways_event_occurs/sample_space\n",
    "\n",
    "print(p)"
   ]
  },
  {
   "cell_type": "markdown",
   "metadata": {},
   "source": [
    "##### Group Question 10: Draw the probability tree on a piece of paper."
   ]
  },
  {
   "cell_type": "markdown",
   "metadata": {},
   "source": [
    "Buildings = {campus, clark,healey McCormack,Quinn,Science, Wheatley}\n",
    "\n",
    "                        Event {Campus} = 1/7\n",
    "                        Event {Clark} = 1/7\n",
    "Start event {Healey} = 1/7 Event {McCormack} = 1/7 Event {Quinn} = 1/7 Event {Science} = 1/7 Event {Wheatley} = 1/7"
   ]
  },
  {
   "cell_type": "markdown",
   "metadata": {},
   "source": [
    "##### Group Question 11: What’s the probability of randomly picking a UMB building whose name starts with the letter C? Draw the probability tree on a piece of paper, use the tree to help you calculate the answer below. "
   ]
  },
  {
   "cell_type": "code",
   "execution_count": 4,
   "metadata": {},
   "outputs": [
    {
     "name": "stdout",
     "output_type": "stream",
     "text": [
      "Probability of selecting a building whose name begins with \"C\": 0.2857142857142857\n"
     ]
    }
   ],
   "source": [
    "# use this code cell as a calculator, the code provided is incomplete\n",
    "umb_buildings = [\"Campus\", \"Clark\", \"Healey\", \"McCormack\", \"Quinn\", \"Science\", \"Wheatley\"]\n",
    "\n",
    "prob_campus = 1.0/7 # probability the building selected is \"Campus\"\n",
    "prob_clark = 1.0/7 # probability the building selected is \"Clark\n",
    "\n",
    "prob_c = prob_campus + prob_clark # calculate the probability of randomly picking a building whose name starts with \"C\"\n",
    "print(\"Probability of selecting a building whose name begins with \\\"C\\\":\", prob_c)"
   ]
  },
  {
   "cell_type": "markdown",
   "metadata": {},
   "source": [
    "##### Group Question 12: I’m thinking of a number from 1 to 7. What’s the probability that my number is 3, 4, or 5? Draw the probability tree on a piece of paper, compute the answer below. "
   ]
  },
  {
   "cell_type": "code",
   "execution_count": 5,
   "metadata": {},
   "outputs": [
    {
     "name": "stdout",
     "output_type": "stream",
     "text": [
      "0.14285714285714285\n",
      "0.14285714285714285\n",
      "0.14285714285714285\n",
      "P(3_4_5)= 0.42857142857142855\n"
     ]
    }
   ],
   "source": [
    "#use this code cell as a calculator, add comments to explain each step\n",
    "\n",
    "sample_space = [1, 2, 3, 4, 5, 6, 7] # a list of numbers from 1 to 7\n",
    "\n",
    "p_3 = 1.0/7 #probability that the number is 3\n",
    "print(p_3)\n",
    "\n",
    "p_4 = 1.0/7 #probability that the number is 4\n",
    "print(p_4)\n",
    "\n",
    "p_5 = 1.0/7 #probability that the number is 5\n",
    "print(p_5)\n",
    "\n",
    "p_3or4or5 = p_3+p_4+p_5 #probability that the number is 3 or 4 or 5\n",
    "print(\"P(3_4_5)=\",p_3or4or5)"
   ]
  },
  {
   "cell_type": "markdown",
   "metadata": {},
   "source": [
    "##### Group Question 13: If you pick a random nucleotide in a genome, what’s the probability that it’s not G? (Show calculation.)"
   ]
  },
  {
   "cell_type": "code",
   "execution_count": 6,
   "metadata": {},
   "outputs": [
    {
     "name": "stdout",
     "output_type": "stream",
     "text": [
      "0.25\n",
      "P(not_G)= 0.75\n"
     ]
    }
   ],
   "source": [
    "#use this code cell as a calculator, add comments to explain each step\n",
    "\n",
    "p_g = 1.0 / 4 # probability of randomly picking a \"G\"\n",
    "print(p_g)\n",
    "\n",
    "p_not_g = 1 - p_g\n",
    "print(\"P(not_G)=\", p_not_g) # probability of not picking \"G\""
   ]
  },
  {
   "cell_type": "markdown",
   "metadata": {},
   "source": [
    "##### Group Question 14: The subway runs on schedule 92% of the time. You have an important job interview downtown and take the T. What’s the probability that you’ll have bad luck and be delayed? Draw the probability tree on a piece of paper, compute the answer below."
   ]
  },
  {
   "cell_type": "code",
   "execution_count": 7,
   "metadata": {},
   "outputs": [
    {
     "name": "stdout",
     "output_type": "stream",
     "text": [
      "0.92\n",
      "P(delayed)= 0.07999999999999996\n"
     ]
    }
   ],
   "source": [
    "#use this code cell as a calculator, add comments to explain each step\n",
    "\n",
    "prob_on_time = .92 # probability the train is on time\n",
    "print(prob_on_time)\n",
    "\n",
    "prob_delayed = 1 - prob_on_time\n",
    "print(\"P(delayed)=\",prob_delayed)"
   ]
  },
  {
   "cell_type": "markdown",
   "metadata": {},
   "source": [
    "##### Group Question 15, Part 1: Think carefully about this. . . In an abandoned lab in the basement of McCormack, you find an ancient dusty box labeled Amino Acids, containing 20 bottles that are so old you can’t read the labels. If you randomly pick one of the 20 bottles, what’s the probability that it’s glutamate?"
   ]
  },
  {
   "cell_type": "code",
   "execution_count": 8,
   "metadata": {},
   "outputs": [
    {
     "name": "stdout",
     "output_type": "stream",
     "text": [
      "P(glu)= 0.05\n"
     ]
    }
   ],
   "source": [
    "#use this code cell as a calculator, add comments to explain each step\n",
    "\n",
    "prob_glutamate = 1/20.0\n",
    "print(\"P(glu)=\", prob_glutamate)"
   ]
  },
  {
   "cell_type": "markdown",
   "metadata": {},
   "source": [
    "##### Group Question 15, Part 2: Next, to narrow down the possibilities, you do some pH titration experiments, and determine that this is one of the two acidic amino acids. Given the results of the pH titration experiment, what’s the probability that this bottle contains glutamate?"
   ]
  },
  {
   "cell_type": "code",
   "execution_count": 9,
   "metadata": {},
   "outputs": [
    {
     "name": "stdout",
     "output_type": "stream",
     "text": [
      "P(glu acidic aa)= 0.5\n"
     ]
    }
   ],
   "source": [
    "#use this code cell as a calculator, add comments to explain each step\n",
    "\n",
    "prob_glutamate = 1/2.0\n",
    "print(\"P(glu acidic aa)=\", prob_glutamate)"
   ]
  },
  {
   "cell_type": "markdown",
   "metadata": {},
   "source": [
    "##### Group Question 16: Here’s a very similar question. Again, think carefully about this. Suppose I pick a random nucleotide from a genome and I also tell you that it’s a purine. Now, using everything you know about the situation, what’s the probability that the nucleotide is G?"
   ]
  },
  {
   "cell_type": "code",
   "execution_count": 10,
   "metadata": {},
   "outputs": [
    {
     "name": "stdout",
     "output_type": "stream",
     "text": [
      "P(Gpurine)= 0.5\n"
     ]
    }
   ],
   "source": [
    "#use this code cell as a calculator, add comments to explain each step\n",
    "\n",
    "prob_G_Purine = 1/2.0\n",
    "print(\"P(Gpurine)=\", prob_G_Purine)"
   ]
  },
  {
   "cell_type": "markdown",
   "metadata": {},
   "source": [
    "##### Group Question 17: Rewrite Question 16 in English using “given”, and also rewrite it as a formula using the vertical bar notation."
   ]
  },
  {
   "cell_type": "raw",
   "metadata": {},
   "source": [
    "what is the probability of randomly picking the nucleotide G, given it is a pool of purine \n",
    "P(G│Purine) "
   ]
  },
  {
   "cell_type": "markdown",
   "metadata": {},
   "source": [
    "##### Group Question 18: Uncle Ted is a severe hypochondriac who believes that he has both malaria and HIV. You have a brilliant idea to cure Ted’s hypochondria: Give him a probability tree that shows the minuscule probability that he has both diseases. Sketch out a probability tree for Ted’s two imagined diseases, and make up some tiny probabilities along the edges of the tree. Given those tiny probabilities, compute the final joint probability that Ted has both diseases. What are the numbers you show Ted?"
   ]
  },
  {
   "cell_type": "code",
   "execution_count": 11,
   "metadata": {},
   "outputs": [
    {
     "name": "stdout",
     "output_type": "stream",
     "text": [
      "0.2\n",
      "0.125\n",
      "P(malaria and HIV)= 0.025\n"
     ]
    }
   ],
   "source": [
    "#use this code cell as a calculator, add comments to explain each step\n",
    "\n",
    "prob_malaria = 1/5.0 \n",
    "print(prob_malaria) #probability Ted has malaria\n",
    "\n",
    "prob_HIV = 1/8.0 #probability Ted has HIV\n",
    "print(prob_HIV)\n",
    "\n",
    "prob_both = prob_malaria * prob_HIV  # probability Ted has malaria AND HIV\n",
    "print(\"P(malaria and HIV)=\", prob_both)"
   ]
  },
  {
   "cell_type": "markdown",
   "metadata": {},
   "source": [
    "##### Group Question 19: Find three other examples of false positives."
   ]
  },
  {
   "cell_type": "raw",
   "metadata": {},
   "source": [
    "1. Looking for diabetes in mice, but only entering \"diabetes\" in the query\n",
    "2. saying 100% of doctors use this product, but only interviweing 3 doctors who all use that product.\n",
    "3. Asking if Macs are better than PCs but only asking PC users"
   ]
  },
  {
   "cell_type": "markdown",
   "metadata": {},
   "source": [
    "##### Group Question 20: In Part A of Figure 3, what percentage of women actually have breast cancer? (show your calculation)"
   ]
  },
  {
   "cell_type": "code",
   "execution_count": 12,
   "metadata": {},
   "outputs": [
    {
     "name": "stdout",
     "output_type": "stream",
     "text": [
      "P(breast cancer)= 0.01\n"
     ]
    }
   ],
   "source": [
    "#use this code cell as a calculator, add comments to explain each step\n",
    "\n",
    "# N(bc) / Total\n",
    "perc_breast_cancer = 10/1000\n",
    "print(\"P(breast cancer)=\", perc_breast_cancer) # percent of women with breast cancer"
   ]
  },
  {
   "cell_type": "markdown",
   "metadata": {},
   "source": [
    "##### Group Question 21, Part 1: In Part A of Figure 3, what percentage of women with breast cancer test positive? (Show your work.) "
   ]
  },
  {
   "cell_type": "code",
   "execution_count": 13,
   "metadata": {},
   "outputs": [
    {
     "name": "stdout",
     "output_type": "stream",
     "text": [
      "P(bc and test_positive)= 0.9\n"
     ]
    }
   ],
   "source": [
    "#use this code cell as a calculator, add comments to explain each step\n",
    "\n",
    "# N(bc & +) / N(bc)\n",
    "perc_bc_pos_test = 9/10 \n",
    "print(\"P(bc and test_positive)=\",perc_bc_pos_test) # percent of women with breast cancer that test positive"
   ]
  },
  {
   "cell_type": "markdown",
   "metadata": {},
   "source": [
    "##### Group Question 21, Part 2: On the surface, does that seem like a pretty good diagnostic test?"
   ]
  },
  {
   "cell_type": "raw",
   "metadata": {},
   "source": [
    "Yes, because its very close to the percent of women with breast cancer."
   ]
  },
  {
   "cell_type": "markdown",
   "metadata": {},
   "source": [
    "##### Group Question 22, Part 1: In Part A of Figure 3, what percentage of women without breast cancer test negative? (Show your work.) "
   ]
  },
  {
   "cell_type": "code",
   "execution_count": 14,
   "metadata": {},
   "outputs": [
    {
     "name": "stdout",
     "output_type": "stream",
     "text": [
      "P(no cancer neg test)= 0.9\n"
     ]
    }
   ],
   "source": [
    "#use this code cell as a calculator, add comments to explain each step\n",
    "\n",
    "# N(dont have bc & -) / N(dont have bc)\n",
    "perc_no_cancer_neg_test = 891/990\n",
    "print(\"P(no cancer neg test)=\", perc_no_cancer_neg_test) # percent of women WITHOUT breast cancer that test negative"
   ]
  },
  {
   "cell_type": "markdown",
   "metadata": {},
   "source": [
    "##### Group Question 22, Part 2: On the surface, does that seem like a pretty good diagnostic test?"
   ]
  },
  {
   "cell_type": "markdown",
   "metadata": {
    "collapsed": true
   },
   "source": [
    "yes. Because most who didnt have breast cancer, would likely test negative"
   ]
  },
  {
   "cell_type": "markdown",
   "metadata": {},
   "source": [
    "##### Group Question 23A: Compute P(breast cancer | positive test). "
   ]
  },
  {
   "cell_type": "code",
   "execution_count": 16,
   "metadata": {},
   "outputs": [
    {
     "name": "stdout",
     "output_type": "stream",
     "text": [
      "P(bc given positive test)= 0.08333333333333333\n",
      "P(bc given positive test)= 0.08333333333333334\n"
     ]
    }
   ],
   "source": [
    "#use this code cell as a calculator, add comments to explain each step\n",
    "\n",
    "# P(bc|+) = N(bc & +) / N(+)\n",
    "P_bc_given_pos_test = 9 / 108 \n",
    "print(\"P(bc given positive test)=\",P_bc_given_pos_test)\n",
    "\n",
    "# P(bc|+) = P(+|bc) * P(bc) / P(+)\n",
    "#         = (N(+ & bc)/N(bc)) * (N(bc)/Total) / (N(+)/Total) \n",
    "P_bc_given_pos_test2 = (9/10) * (10/1000) / (108/1000)\n",
    "print(\"P(bc given positive test)=\",P_bc_given_pos_test2)"
   ]
  },
  {
   "cell_type": "markdown",
   "metadata": {},
   "source": [
    "##### Group Question 23B: Now, what do you think about this medical screening test?"
   ]
  },
  {
   "cell_type": "raw",
   "metadata": {},
   "source": [
    "It is accurate because 9 out of 108 women who tested for breast cancer actualy had breast cancer, which came out to .08"
   ]
  },
  {
   "cell_type": "markdown",
   "metadata": {},
   "source": [
    "##### Group Question 24: Look at In Part A of Figure 3 again and think carefully about this. . . We know that most women with breast cancer test positive (left half of Part A), and most healthy women test negative (right half of Part A), so the test seems pretty good. So, why is there such a high false positive rate?"
   ]
  },
  {
   "cell_type": "raw",
   "metadata": {},
   "source": [
    "Because the amount of women that actually have the cancer and test positive is a lot lower than those who test positive, but actually have the cancer. "
   ]
  }
 ],
 "metadata": {
  "anaconda-cloud": {},
  "kernelspec": {
   "display_name": "Python 3",
   "language": "python",
   "name": "python3"
  },
  "language_info": {
   "codemirror_mode": {
    "name": "ipython",
    "version": 3
   },
   "file_extension": ".py",
   "mimetype": "text/x-python",
   "name": "python",
   "nbconvert_exporter": "python",
   "pygments_lexer": "ipython3",
   "version": "3.6.3"
  }
 },
 "nbformat": 4,
 "nbformat_minor": 1
}
