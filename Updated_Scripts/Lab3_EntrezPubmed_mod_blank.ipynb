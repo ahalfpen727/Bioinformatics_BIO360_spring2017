{
 "cells": [
  {
   "cell_type": "markdown",
   "metadata": {},
   "source": [
    "## Lab 3: Database Searching Using Biopython"
   ]
  },
  {
   "cell_type": "markdown",
   "metadata": {},
   "source": [
    "#### Enter your name below."
   ]
  },
  {
   "cell_type": "raw",
   "metadata": {},
   "source": [
    "Todd Riley"
   ]
  },
  {
   "cell_type": "markdown",
   "metadata": {},
   "source": [
    "### Part 1: Search NCBI's Gene database for genes involved in cystic fibrosis."
   ]
  },
  {
   "cell_type": "markdown",
   "metadata": {},
   "source": [
    "Your goal in this section is to use NCBI's Gene database to identify genes involved in cystic fibrosis in humans."
   ]
  },
  {
   "cell_type": "markdown",
   "metadata": {},
   "source": [
    "##### 1. Load the Biopython module \"Entrez\", enter your email address, then execute."
   ]
  },
  {
   "cell_type": "code",
   "execution_count": 2,
   "metadata": {
    "collapsed": true
   },
   "outputs": [],
   "source": [
    "from Bio import Entrez\n",
    "\n",
    "#Tell NCBI who you are\n",
    "Entrez.email = \"todd.riley@umb.edu\""
   ]
  },
  {
   "cell_type": "markdown",
   "metadata": {},
   "source": [
    "##### 2. Generate query and execute the search."
   ]
  },
  {
   "cell_type": "code",
   "execution_count": 5,
   "metadata": {
    "collapsed": false
   },
   "outputs": [
    {
     "name": "stdout",
     "output_type": "stream",
     "text": [
      "['7124', '3569', '7040', '1636', '3586', '3091', '4318', '4790', '5243', '21926', '207', '21898', '5743', '3553', '7421', '6774', '7099', '5468', '1080', '3576']\n"
     ]
    },
    {
     "data": {
      "text/plain": [
       "20"
      ]
     },
     "execution_count": 5,
     "metadata": {},
     "output_type": "execute_result"
    }
   ],
   "source": [
    "db = \"gene\" # This is the database we want to search\n",
    "\n",
    "query = \"cystic fibrosis\" # This is the query\n",
    "\n",
    "#We'll use the function Entrez.esearch to search the pubmed database with our query\n",
    "h_search =  Entrez.esearch(db=db, term=query) # tell Entrez what database we want to search, who we are, and what we want to look for\n",
    "\n",
    "record = Entrez.read(h_search) # read the esearch record\n",
    "\n",
    "res_ids = record[\"IdList\"] # save the list of ids returned by our query to res_ids\n",
    "\n",
    "#print the list of ids\n",
    "print(res_ids)\n",
    "len(res_ids)"
   ]
  },
  {
   "cell_type": "code",
   "execution_count": 6,
   "metadata": {
    "collapsed": false
   },
   "outputs": [
    {
     "name": "stdout",
     "output_type": "stream",
     "text": [
      "{'DocumentSummarySet': DictElement({'DocumentSummary': [DictElement({'GeneticSource': 'genomic', 'GeneWeight': '585516', 'Summary': 'This gene encodes a multifunctional proinflammatory cytokine that belongs to the tumor necrosis factor (TNF) superfamily. This cytokine is mainly secreted by macrophages. It can bind to, and thus functions through its receptors TNFRSF1A/TNFR1 and TNFRSF1B/TNFBR. This cytokine is involved in the regulation of a wide spectrum of biological processes including cell proliferation, differentiation, apoptosis, lipid metabolism, and coagulation. This cytokine has been implicated in a variety of diseases, including autoimmune diseases, insulin resistance, and cancer. Knockout studies in mice also suggested the neuroprotective function of this cytokine. [provided by RefSeq, Jul 2008]', 'CurrentID': '0', 'Organism': {'ScientificName': 'Homo sapiens', 'TaxID': '9606', 'CommonName': 'human'}, 'OtherAliases': 'DIF, TNF-alpha, TNFA, TNFSF2, TNLG1F', 'ChrStart': '31575566', 'OtherDesignations': 'tumor necrosis factor|APC1 protein|TNF, macrophage-derived|TNF, monocyte-derived|TNF-a|cachectin|tumor necrosis factor ligand 1F|tumor necrosis factor ligand superfamily member 2|tumor necrosis factor-alpha', 'NomenclatureName': 'tumor necrosis factor', 'GenomicInfo': [{'ChrLoc': '6', 'ExonCount': '4', 'ChrStart': '31575566', 'ChrAccVer': 'NC_000006.12', 'ChrStop': '31578335'}], 'Mim': ['191160'], 'Name': 'TNF', 'Description': 'tumor necrosis factor', 'LocationHist': [{'ChrAccVer': 'NC_000006.12', 'ChrStart': '31575566', 'AssemblyAccVer': 'GCF_000001405.33', 'ChrStop': '31578335', 'AnnotationRelease': '108'}, {'ChrAccVer': 'NT_113891.3', 'ChrStart': '3052853', 'AssemblyAccVer': 'GCF_000001405.33', 'ChrStop': '3055622', 'AnnotationRelease': '108'}, {'ChrAccVer': 'NT_167244.2', 'ChrStart': '2909107', 'AssemblyAccVer': 'GCF_000001405.33', 'ChrStop': '2910914', 'AnnotationRelease': '108'}, {'ChrAccVer': 'NT_167245.2', 'ChrStart': '2823299', 'AssemblyAccVer': 'GCF_000001405.33', 'ChrStop': '2826068', 'AnnotationRelease': '108'}, {'ChrAccVer': 'NT_167246.2', 'ChrStart': '2880607', 'AssemblyAccVer': 'GCF_000001405.33', 'ChrStop': '2883376', 'AnnotationRelease': '108'}, {'ChrAccVer': 'NT_167247.2', 'ChrStart': '2917464', 'AssemblyAccVer': 'GCF_000001405.33', 'ChrStop': '2920233', 'AnnotationRelease': '108'}, {'ChrAccVer': 'NT_167248.2', 'ChrStart': '2831385', 'AssemblyAccVer': 'GCF_000001405.33', 'ChrStop': '2834156', 'AnnotationRelease': '108'}, {'ChrAccVer': 'NT_167249.2', 'ChrStart': '2874846', 'AssemblyAccVer': 'GCF_000001405.33', 'ChrStop': '2877615', 'AnnotationRelease': '108'}, {'ChrAccVer': 'NC_018917.2', 'ChrStart': '31545475', 'AssemblyAccVer': 'GCF_000306695.2', 'ChrStop': '31548244', 'AnnotationRelease': '108'}, {'ChrAccVer': 'NC_000006.12', 'ChrStart': '31575566', 'AssemblyAccVer': 'GCF_000001405.28', 'ChrStop': '31578335', 'AnnotationRelease': '107'}, {'ChrAccVer': 'NT_113891.3', 'ChrStart': '3052853', 'AssemblyAccVer': 'GCF_000001405.28', 'ChrStop': '3055622', 'AnnotationRelease': '107'}, {'ChrAccVer': 'NT_167244.2', 'ChrStart': '2909107', 'AssemblyAccVer': 'GCF_000001405.28', 'ChrStop': '2910914', 'AnnotationRelease': '107'}, {'ChrAccVer': 'NT_167245.2', 'ChrStart': '2823299', 'AssemblyAccVer': 'GCF_000001405.28', 'ChrStop': '2826068', 'AnnotationRelease': '107'}, {'ChrAccVer': 'NT_167246.2', 'ChrStart': '2880607', 'AssemblyAccVer': 'GCF_000001405.28', 'ChrStop': '2883376', 'AnnotationRelease': '107'}, {'ChrAccVer': 'NT_167247.2', 'ChrStart': '2917464', 'AssemblyAccVer': 'GCF_000001405.28', 'ChrStop': '2920233', 'AnnotationRelease': '107'}, {'ChrAccVer': 'NT_167248.2', 'ChrStart': '2831385', 'AssemblyAccVer': 'GCF_000001405.28', 'ChrStop': '2834156', 'AnnotationRelease': '107'}, {'ChrAccVer': 'NT_167249.2', 'ChrStart': '2874846', 'AssemblyAccVer': 'GCF_000001405.28', 'ChrStop': '2877615', 'AnnotationRelease': '107'}, {'ChrAccVer': 'NC_018917.2', 'ChrStart': '31545475', 'AssemblyAccVer': 'GCF_000306695.2', 'ChrStop': '31548244', 'AnnotationRelease': '107'}, {'ChrAccVer': 'NC_000006.12', 'ChrStart': '31575566', 'AssemblyAccVer': 'GCF_000001405.26', 'ChrStop': '31578335', 'AnnotationRelease': '106'}, {'ChrAccVer': 'NT_113891.3', 'ChrStart': '3052853', 'AssemblyAccVer': 'GCF_000001405.26', 'ChrStop': '3055622', 'AnnotationRelease': '106'}, {'ChrAccVer': 'NT_167244.2', 'ChrStart': '2909107', 'AssemblyAccVer': 'GCF_000001405.26', 'ChrStop': '2910914', 'AnnotationRelease': '106'}, {'ChrAccVer': 'NT_167245.2', 'ChrStart': '2823299', 'AssemblyAccVer': 'GCF_000001405.26', 'ChrStop': '2826068', 'AnnotationRelease': '106'}, {'ChrAccVer': 'NT_167246.2', 'ChrStart': '2880607', 'AssemblyAccVer': 'GCF_000001405.26', 'ChrStop': '2883376', 'AnnotationRelease': '106'}, {'ChrAccVer': 'NT_167247.2', 'ChrStart': '2917464', 'AssemblyAccVer': 'GCF_000001405.26', 'ChrStop': '2920233', 'AnnotationRelease': '106'}, {'ChrAccVer': 'NT_167248.2', 'ChrStart': '2831385', 'AssemblyAccVer': 'GCF_000001405.26', 'ChrStop': '2834156', 'AnnotationRelease': '106'}, {'ChrAccVer': 'NT_167249.2', 'ChrStart': '2874846', 'AssemblyAccVer': 'GCF_000001405.26', 'ChrStop': '2877615', 'AnnotationRelease': '106'}, {'ChrAccVer': 'AC_000138.1', 'ChrStart': '31330077', 'AssemblyAccVer': 'GCF_000002125.1', 'ChrStop': '31332846', 'AnnotationRelease': '106'}, {'ChrAccVer': 'NC_018917.2', 'ChrStart': '31545475', 'AssemblyAccVer': 'GCF_000306695.2', 'ChrStop': '31548244', 'AnnotationRelease': '106'}, {'ChrAccVer': 'NC_000006.11', 'ChrStart': '31543343', 'AssemblyAccVer': 'GCF_000001405.25', 'ChrStop': '31546112', 'AnnotationRelease': '105'}, {'ChrAccVer': 'NT_113891.2', 'ChrStart': '3052959', 'AssemblyAccVer': 'GCF_000001405.25', 'ChrStop': '3055728', 'AnnotationRelease': '105'}, {'ChrAccVer': 'NT_167244.1', 'ChrStart': '2859023', 'AssemblyAccVer': 'GCF_000001405.25', 'ChrStop': '2860830', 'AnnotationRelease': '105'}, {'ChrAccVer': 'NT_167245.1', 'ChrStart': '2828884', 'AssemblyAccVer': 'GCF_000001405.25', 'ChrStop': '2831653', 'AnnotationRelease': '105'}, {'ChrAccVer': 'NT_167246.1', 'ChrStart': '2886227', 'AssemblyAccVer': 'GCF_000001405.25', 'ChrStop': '2888996', 'AnnotationRelease': '105'}, {'ChrAccVer': 'NT_167247.1', 'ChrStart': '2923049', 'AssemblyAccVer': 'GCF_000001405.25', 'ChrStop': '2925818', 'AnnotationRelease': '105'}, {'ChrAccVer': 'NT_167248.1', 'ChrStart': '2836981', 'AssemblyAccVer': 'GCF_000001405.25', 'ChrStop': '2839752', 'AnnotationRelease': '105'}, {'ChrAccVer': 'NT_167249.1', 'ChrStart': '2874144', 'AssemblyAccVer': 'GCF_000001405.25', 'ChrStop': '2876913', 'AnnotationRelease': '105'}, {'ChrAccVer': 'AC_000138.1', 'ChrStart': '31330077', 'AssemblyAccVer': 'GCF_000002125.1', 'ChrStop': '31332846', 'AnnotationRelease': '105'}, {'ChrAccVer': 'NC_018917.2', 'ChrStart': '31545475', 'AssemblyAccVer': 'GCF_000306695.2', 'ChrStop': '31548244', 'AnnotationRelease': '105'}, {'ChrAccVer': 'NC_000006.11', 'ChrStart': '31543343', 'AssemblyAccVer': 'GCF_000001405.22', 'ChrStop': '31546112', 'AnnotationRelease': '104'}, {'ChrAccVer': 'NT_113891.2', 'ChrStart': '3052959', 'AssemblyAccVer': 'GCF_000001405.22', 'ChrStop': '3055728', 'AnnotationRelease': '104'}, {'ChrAccVer': 'NT_167244.1', 'ChrStart': '2859023', 'AssemblyAccVer': 'GCF_000001405.22', 'ChrStop': '2860830', 'AnnotationRelease': '104'}, {'ChrAccVer': 'NT_167245.1', 'ChrStart': '2828884', 'AssemblyAccVer': 'GCF_000001405.22', 'ChrStop': '2831653', 'AnnotationRelease': '104'}, {'ChrAccVer': 'NT_167246.1', 'ChrStart': '2886227', 'AssemblyAccVer': 'GCF_000001405.22', 'ChrStop': '2888996', 'AnnotationRelease': '104'}, {'ChrAccVer': 'NT_167247.1', 'ChrStart': '2923049', 'AssemblyAccVer': 'GCF_000001405.22', 'ChrStop': '2925818', 'AnnotationRelease': '104'}, {'ChrAccVer': 'NT_167248.1', 'ChrStart': '2836981', 'AssemblyAccVer': 'GCF_000001405.22', 'ChrStop': '2839752', 'AnnotationRelease': '104'}, {'ChrAccVer': 'NT_167249.1', 'ChrStart': '2874144', 'AssemblyAccVer': 'GCF_000001405.22', 'ChrStop': '2876913', 'AnnotationRelease': '104'}, {'ChrAccVer': 'AC_000138.1', 'ChrStart': '31330077', 'AssemblyAccVer': 'GCF_000002125.1', 'ChrStop': '31332846', 'AnnotationRelease': '104'}, {'ChrAccVer': 'NC_018917.1', 'ChrStart': '31460295', 'AssemblyAccVer': 'GCF_000306695.1', 'ChrStop': '31463064', 'AnnotationRelease': '104'}, {'ChrAccVer': 'NC_000006.11', 'ChrStart': '31543343', 'AssemblyAccVer': 'GCF_000001405.21', 'ChrStop': '31546112', 'AnnotationRelease': '103'}, {'ChrAccVer': 'NT_113891.2', 'ChrStart': '3052959', 'AssemblyAccVer': 'GCF_000001405.21', 'ChrStop': '3055728', 'AnnotationRelease': '103'}, {'ChrAccVer': 'NT_167244.1', 'ChrStart': '2859023', 'AssemblyAccVer': 'GCF_000001405.21', 'ChrStop': '2860830', 'AnnotationRelease': '103'}, {'ChrAccVer': 'NT_167245.1', 'ChrStart': '2828884', 'AssemblyAccVer': 'GCF_000001405.21', 'ChrStop': '2831653', 'AnnotationRelease': '103'}, {'ChrAccVer': 'NT_167246.1', 'ChrStart': '2886227', 'AssemblyAccVer': 'GCF_000001405.21', 'ChrStop': '2888996', 'AnnotationRelease': '103'}, {'ChrAccVer': 'NT_167247.1', 'ChrStart': '2923049', 'AssemblyAccVer': 'GCF_000001405.21', 'ChrStop': '2925818', 'AnnotationRelease': '103'}, {'ChrAccVer': 'NT_167248.1', 'ChrStart': '2836981', 'AssemblyAccVer': 'GCF_000001405.21', 'ChrStop': '2839752', 'AnnotationRelease': '103'}, {'ChrAccVer': 'NT_167249.1', 'ChrStart': '2874144', 'AssemblyAccVer': 'GCF_000001405.21', 'ChrStop': '2876913', 'AnnotationRelease': '103'}, {'ChrAccVer': 'AC_000138.1', 'ChrStart': '31330077', 'AssemblyAccVer': 'GCF_000002125.1', 'ChrStop': '31332846', 'AnnotationRelease': '103'}, {'ChrAccVer': 'NC_000006.11', 'ChrStart': '31543349', 'AssemblyAccVer': 'GCF_000001405.17', 'ChrStop': '31546111', 'AnnotationRelease': '37.3'}, {'ChrAccVer': 'NT_113891.2', 'ChrStart': '3052965', 'AssemblyAccVer': 'GCF_000001405.17', 'ChrStop': '3055727', 'AnnotationRelease': '37.3'}, {'ChrAccVer': 'NT_167244.1', 'ChrStart': '2859023', 'AssemblyAccVer': 'GCF_000001405.17', 'ChrStop': '2860829', 'AnnotationRelease': '37.3'}, {'ChrAccVer': 'NT_167245.1', 'ChrStart': '2828890', 'AssemblyAccVer': 'GCF_000001405.17', 'ChrStop': '2831652', 'AnnotationRelease': '37.3'}, {'ChrAccVer': 'NT_167246.1', 'ChrStart': '2886233', 'AssemblyAccVer': 'GCF_000001405.17', 'ChrStop': '2888995', 'AnnotationRelease': '37.3'}, {'ChrAccVer': 'NT_167247.1', 'ChrStart': '2923055', 'AssemblyAccVer': 'GCF_000001405.17', 'ChrStop': '2925817', 'AnnotationRelease': '37.3'}, {'ChrAccVer': 'NT_167248.1', 'ChrStart': '2836987', 'AssemblyAccVer': 'GCF_000001405.17', 'ChrStop': '2839751', 'AnnotationRelease': '37.3'}, {'ChrAccVer': 'NT_167249.1', 'ChrStart': '2874150', 'AssemblyAccVer': 'GCF_000001405.17', 'ChrStop': '2876912', 'AnnotationRelease': '37.3'}, {'ChrAccVer': 'AC_000138.1', 'ChrStart': '31330083', 'AssemblyAccVer': 'GCF_000002125.1', 'ChrStop': '31332845', 'AnnotationRelease': '37.3'}, {'ChrAccVer': 'NC_000006.11', 'ChrStart': '31543349', 'AssemblyAccVer': 'GCF_000001405.14', 'ChrStop': '31546111', 'AnnotationRelease': '37.2'}, {'ChrAccVer': 'NT_113891.2', 'ChrStart': '3052965', 'AssemblyAccVer': 'GCF_000001405.14', 'ChrStop': '3055727', 'AnnotationRelease': '37.2'}, {'ChrAccVer': 'NT_167244.1', 'ChrStart': '2859261', 'AssemblyAccVer': 'GCF_000001405.14', 'ChrStop': '2860829', 'AnnotationRelease': '37.2'}, {'ChrAccVer': 'NT_167245.1', 'ChrStart': '2828890', 'AssemblyAccVer': 'GCF_000001405.14', 'ChrStop': '2831652', 'AnnotationRelease': '37.2'}, {'ChrAccVer': 'NT_167246.1', 'ChrStart': '2886233', 'AssemblyAccVer': 'GCF_000001405.14', 'ChrStop': '2888995', 'AnnotationRelease': '37.2'}, {'ChrAccVer': 'NT_167247.1', 'ChrStart': '2923055', 'AssemblyAccVer': 'GCF_000001405.14', 'ChrStop': '2925817', 'AnnotationRelease': '37.2'}, {'ChrAccVer': 'NT_167248.1', 'ChrStart': '2836987', 'AssemblyAccVer': 'GCF_000001405.14', 'ChrStop': '2839751', 'AnnotationRelease': '37.2'}, {'ChrAccVer': 'NT_167249.1', 'ChrStart': '2874150', 'AssemblyAccVer': 'GCF_000001405.14', 'ChrStop': '2876912', 'AnnotationRelease': '37.2'}, {'ChrAccVer': 'AC_000049.1', 'ChrStart': '33141564', 'AssemblyAccVer': 'GCF_000002115.2', 'ChrStop': '33144326', 'AnnotationRelease': '37.2'}, {'ChrAccVer': 'AC_000138.1', 'ChrStart': '31330083', 'AssemblyAccVer': 'GCF_000002125.1', 'ChrStop': '31332845', 'AnnotationRelease': '37.2'}, {'ChrAccVer': 'NC_000006.11', 'ChrStart': '31543349', 'AssemblyAccVer': 'GCF_000001405.13', 'ChrStop': '31546111', 'AnnotationRelease': '37.1'}, {'ChrAccVer': 'NT_113891.2', 'ChrStart': '3052965', 'AssemblyAccVer': 'GCF_000001405.13', 'ChrStop': '3055727', 'AnnotationRelease': '37.1'}, {'ChrAccVer': 'NT_167244.1', 'ChrStart': '2859261', 'AssemblyAccVer': 'GCF_000001405.13', 'ChrStop': '2860829', 'AnnotationRelease': '37.1'}, {'ChrAccVer': 'NT_167245.1', 'ChrStart': '2828890', 'AssemblyAccVer': 'GCF_000001405.13', 'ChrStop': '2831652', 'AnnotationRelease': '37.1'}, {'ChrAccVer': 'NT_167246.1', 'ChrStart': '2886233', 'AssemblyAccVer': 'GCF_000001405.13', 'ChrStop': '2888995', 'AnnotationRelease': '37.1'}, {'ChrAccVer': 'NT_167247.1', 'ChrStart': '2923055', 'AssemblyAccVer': 'GCF_000001405.13', 'ChrStop': '2925817', 'AnnotationRelease': '37.1'}, {'ChrAccVer': 'NT_167248.1', 'ChrStart': '2836987', 'AssemblyAccVer': 'GCF_000001405.13', 'ChrStop': '2839751', 'AnnotationRelease': '37.1'}, {'ChrAccVer': 'NT_167249.1', 'ChrStart': '2874150', 'AssemblyAccVer': 'GCF_000001405.13', 'ChrStop': '2876912', 'AnnotationRelease': '37.1'}, {'ChrAccVer': 'AC_000049.1', 'ChrStart': '33141564', 'AssemblyAccVer': 'GCF_000002115.2', 'ChrStop': '33144326', 'AnnotationRelease': '37.1'}, {'ChrAccVer': 'AC_000138.1', 'ChrStart': '31330083', 'AssemblyAccVer': 'GCF_000002125.1', 'ChrStop': '31332845', 'AnnotationRelease': '37.1'}, {'ChrAccVer': 'NC_000006.10', 'ChrStart': '31651328', 'AssemblyAccVer': 'GCF_000001405.12', 'ChrStop': '31654090', 'AnnotationRelease': '36.3'}, {'ChrAccVer': 'AC_000049.1', 'ChrStart': '33141564', 'AssemblyAccVer': 'GCF_000002115.2', 'ChrStop': '33144326', 'AnnotationRelease': '36.3'}, {'ChrAccVer': 'AC_000138.1', 'ChrStart': '31330083', 'AssemblyAccVer': 'GCF_000002125.1', 'ChrStop': '31332845', 'AnnotationRelease': '36.3'}, {'ChrAccVer': 'NT_113891.1', 'ChrStart': '2989472', 'AssemblyAccVer': 'GCF_000001405.12', 'ChrStop': '2992234', 'AnnotationRelease': '36.3'}, {'ChrAccVer': 'NT_113894.1', 'ChrStart': '104923', 'AssemblyAccVer': 'GCF_000001405.12', 'ChrStop': '107687', 'AnnotationRelease': '36.3'}], 'NomenclatureStatus': 'Official', 'NomenclatureSymbol': 'TNF', 'Chromosome': '6', 'Status': '0', 'MapLocation': '6p21.33', 'ChrSort': '06'}, attributes={'uid': '7124'})], 'DbBuild': 'Build180226-0320m.1'}, attributes={'status': 'OK'})}\n"
     ]
    }
   ],
   "source": [
    "# Use Entrez esummary to retrieve the record for the first id in the list \n",
    "summary = Entrez.esummary(db=db, id=res_ids[0])\n",
    "\n",
    "# Read the summary \n",
    "gene_summary = Entrez.read(summary)\n",
    "\n",
    "# and print it out\n",
    "print(gene_summary)"
   ]
  },
  {
   "cell_type": "markdown",
   "metadata": {},
   "source": [
    "Q1: Name three data types you see in the printed output of gene_summary."
   ]
  },
  {
   "cell_type": "raw",
   "metadata": {},
   "source": []
  },
  {
   "cell_type": "markdown",
   "metadata": {},
   "source": [
    "##### 3. Analyze the results."
   ]
  },
  {
   "cell_type": "code",
   "execution_count": 7,
   "metadata": {
    "collapsed": false
   },
   "outputs": [
    {
     "name": "stdout",
     "output_type": "stream",
     "text": [
      "Name: CXCL8\n",
      "Description: C-X-C motif chemokine ligand 8\n",
      "Organism: {'ScientificName': 'Homo sapiens', 'TaxID': '9606', 'CommonName': 'human'}\n",
      "Summary: The protein encoded by this gene is a member of the CXC chemokine family and is a major mediator of the inflammatory response. The encoded protein is secreted primarily by neutrophils, where it serves as a chemotactic factor by guiding the neutrophils to the site of infection. This chemokine is also a potent angiogenic factor. This gene is believed to play a role in the pathogenesis of bronchiolitis, a common respiratory tract disease caused by viral infection. This gene and other members of the CXC chemokine gene family form a gene cluster in a region of chromosome 4q. [provided by RefSeq, Aug 2017]\n",
      "OtherAliases: GCP-1, GCP1, IL8, LECT, LUCT, LYNAP, MDNCF, MONAP, NAF, NAP-1, NAP1\n",
      "\n",
      "\n"
     ]
    }
   ],
   "source": [
    "for r_id in res_ids: #loop over pubmed IDs\n",
    "    summary = Entrez.esummary(db=db, id=r_id) #retrieve summary of document\n",
    "    gene_read = Entrez.read (summary)#use biopython to parse the summary\n",
    "    gene_summary = gene_read ['DocumentSummarySet'] ['DocumentSummary']\n",
    "    \n",
    "#print gene_summary[0]\n",
    "print(\"Name:\", gene_summary[0]['Name'])\n",
    "\n",
    "# print gene_summary[0]['Description'] \n",
    "print(\"Description:\", gene_summary[0]['Description'])\n",
    "\n",
    "# print gene_summary[0]['Orgname']\n",
    "print(\"Organism:\", gene_summary[0]['Organism'])\n",
    "\n",
    "# print gene_summary[0]['Summary']\n",
    "print(\"Summary:\", gene_summary[0]['Summary'])\n",
    "\n",
    "# print gene_summary[0]['OtherAliases']\n",
    "print(\"OtherAliases:\",  gene_summary[0]['OtherAliases'])\n",
    "\n",
    "# print '\\n'\n",
    "print('\\n') "
   ]
  },
  {
   "cell_type": "markdown",
   "metadata": {},
   "source": [
    "Let's quantify the success of our query using true and false positive terminology.  \n",
    "Talk with your team and decide how you will categorize the results as true and false positives. Write your definitions below."
   ]
  },
  {
   "cell_type": "raw",
   "metadata": {},
   "source": [
    "A result is a true positive if \n",
    "A result is a false positive if "
   ]
  },
  {
   "cell_type": "markdown",
   "metadata": {},
   "source": [
    "Use a for loop to sort through the genes returned by your query. \n",
    "Assign the genes into true and false positive lists based on your criteria.\n",
    "Remember that Python considers the case of a string when checking equality.\n",
    "Hint - you can convert both the query and the subject to a lower case string using str.lower(\"YourString\")"
   ]
  },
  {
   "cell_type": "code",
   "execution_count": 12,
   "metadata": {
    "collapsed": false
   },
   "outputs": [
    {
     "name": "stdout",
     "output_type": "stream",
     "text": [
      "1\n",
      "19\n"
     ]
    }
   ],
   "source": [
    "true_positives = []\n",
    "false_positives = []\n",
    "\n",
    "for r_id in res_ids: # loop over pubmed IDs\n",
    "    summary = Entrez.esummary(db=db, id=r_id) # retrieve summary of document\n",
    "    gene_read = Entrez.read(summary) # use biopython to parse the summary\n",
    "    gene_summary = gene_read ['DocumentSummarySet'] ['DocumentSummary']\n",
    "    \n",
    "    # use an if statement to define the true positive classification, remember that Python considers the case of the string used \n",
    "    positive = False\n",
    "    if query in str.lower(gene_summary[0]['Summary']):\n",
    "        positive = True\n",
    "        \n",
    "    # if the condition is met add the record to the true positive list\n",
    "    if positive == True:\n",
    "        true_positives.append(gene_summary)\n",
    "    # if the condition is NOT met add the record to the false positive list\n",
    "    else:\n",
    "        false_positives.append(gene_summary)\n",
    "        "
   ]
  },
  {
   "cell_type": "markdown",
   "metadata": {},
   "source": [
    "Q2: Why didn't we include any if statments for true or false negatives?"
   ]
  },
  {
   "cell_type": "raw",
   "metadata": {},
   "source": []
  },
  {
   "cell_type": "code",
   "execution_count": 13,
   "metadata": {
    "collapsed": false
   },
   "outputs": [
    {
     "name": "stdout",
     "output_type": "stream",
     "text": [
      "1 true positives\n",
      "19 false positives\n"
     ]
    }
   ],
   "source": [
    "#print out a statement describing how many of the results were true/false positives\n",
    "print(len(true_positives), \"true positives\")\n",
    "print(len(false_positives), \"false positives\")"
   ]
  },
  {
   "cell_type": "code",
   "execution_count": 15,
   "metadata": {
    "collapsed": false
   },
   "outputs": [
    {
     "name": "stdout",
     "output_type": "stream",
     "text": [
      "[DictElement({'GeneticSource': 'genomic', 'GeneWeight': '219557', 'Summary': 'This gene encodes a member of the ATP-binding cassette (ABC) transporter superfamily. The encoded protein functions as a chloride channel, making it unique among members of this protein family, and controls ion and water secretion and absorption in epithelial tissues. Channel activation is mediated by cycles of regulatory domain phosphorylation, ATP-binding by the nucleotide-binding domains, and ATP hydrolysis. Mutations in this gene cause cystic fibrosis, the most common lethal genetic disorder in populations of Northern European descent. The most frequently occurring mutation in cystic fibrosis, DeltaF508, results in impaired folding and trafficking of the encoded protein. Multiple pseudogenes have been identified in the human genome. [provided by RefSeq, Aug 2017]', 'CurrentID': '0', 'Organism': {'ScientificName': 'Homo sapiens', 'TaxID': '9606', 'CommonName': 'human'}, 'OtherAliases': 'ABC35, ABCC7, CF, CFTR/MRP, MRP7, TNR-CFTR, dJ760C5.1', 'ChrStart': '117478366', 'OtherDesignations': 'cystic fibrosis transmembrane conductance regulator|cAMP-dependent chloride channel|channel conductance-controlling ATPase|cystic fibrosis transmembrane conductance regulating|cystic fibrosis transmembrane conductance regulator (ATP-binding cassette sub-family C, member 7)', 'NomenclatureName': 'cystic fibrosis transmembrane conductance regulator', 'GenomicInfo': [{'ChrLoc': '7', 'ExonCount': '32', 'ChrStart': '117478366', 'ChrAccVer': 'NC_000007.14', 'ChrStop': '117668664'}], 'Mim': ['602421'], 'Name': 'CFTR', 'Description': 'cystic fibrosis transmembrane conductance regulator', 'LocationHist': [{'ChrAccVer': 'NC_000007.14', 'ChrStart': '117478366', 'AssemblyAccVer': 'GCF_000001405.33', 'ChrStop': '117668664', 'AnnotationRelease': '108'}, {'ChrAccVer': 'NC_018918.2', 'ChrStart': '117053368', 'AssemblyAccVer': 'GCF_000306695.2', 'ChrStop': '117242162', 'AnnotationRelease': '108'}, {'ChrAccVer': 'NC_000007.14', 'ChrStart': '117478339', 'AssemblyAccVer': 'GCF_000001405.28', 'ChrStop': '117668664', 'AnnotationRelease': '107'}, {'ChrAccVer': 'NC_018918.2', 'ChrStart': '117053368', 'AssemblyAccVer': 'GCF_000306695.2', 'ChrStop': '117242162', 'AnnotationRelease': '107'}, {'ChrAccVer': 'NC_000007.14', 'ChrStart': '117470771', 'AssemblyAccVer': 'GCF_000001405.26', 'ChrStop': '117668664', 'AnnotationRelease': '106'}, {'ChrAccVer': 'AC_000139.1', 'ChrStart': '111485639', 'AssemblyAccVer': 'GCF_000002125.1', 'ChrStop': '111674188', 'AnnotationRelease': '106'}, {'ChrAccVer': 'NC_018918.2', 'ChrStart': '117053368', 'AssemblyAccVer': 'GCF_000306695.2', 'ChrStop': '117242162', 'AnnotationRelease': '106'}, {'ChrAccVer': 'NC_000007.13', 'ChrStart': '117120016', 'AssemblyAccVer': 'GCF_000001405.25', 'ChrStop': '117308718', 'AnnotationRelease': '105'}, {'ChrAccVer': 'AC_000068.1', 'ChrStart': '116515450', 'AssemblyAccVer': 'GCF_000002135.2', 'ChrStop': '116704153', 'AnnotationRelease': '105'}, {'ChrAccVer': 'AC_000139.1', 'ChrStart': '111485639', 'AssemblyAccVer': 'GCF_000002125.1', 'ChrStop': '111674188', 'AnnotationRelease': '105'}, {'ChrAccVer': 'NC_018918.2', 'ChrStart': '117053368', 'AssemblyAccVer': 'GCF_000306695.2', 'ChrStop': '117242162', 'AnnotationRelease': '105'}, {'ChrAccVer': 'NC_000007.13', 'ChrStart': '117120016', 'AssemblyAccVer': 'GCF_000001405.22', 'ChrStop': '117308718', 'AnnotationRelease': '104'}, {'ChrAccVer': 'AC_000068.1', 'ChrStart': '116515450', 'AssemblyAccVer': 'GCF_000002135.2', 'ChrStop': '116704153', 'AnnotationRelease': '104'}, {'ChrAccVer': 'AC_000139.1', 'ChrStart': '111485639', 'AssemblyAccVer': 'GCF_000002125.1', 'ChrStop': '111674188', 'AnnotationRelease': '104'}, {'ChrAccVer': 'NC_018918.1', 'ChrStart': '120471600', 'AssemblyAccVer': 'GCF_000306695.1', 'ChrStop': '120660326', 'AnnotationRelease': '104'}, {'ChrAccVer': 'NC_000007.13', 'ChrStart': '117120016', 'AssemblyAccVer': 'GCF_000001405.21', 'ChrStop': '117308718', 'AnnotationRelease': '103'}, {'ChrAccVer': 'AC_000068.1', 'ChrStart': '116515450', 'AssemblyAccVer': 'GCF_000002135.2', 'ChrStop': '116704153', 'AnnotationRelease': '103'}, {'ChrAccVer': 'AC_000139.1', 'ChrStart': '111485639', 'AssemblyAccVer': 'GCF_000002125.1', 'ChrStop': '111674188', 'AnnotationRelease': '103'}, {'ChrAccVer': 'NC_000007.13', 'ChrStart': '117120016', 'AssemblyAccVer': 'GCF_000001405.17', 'ChrStop': '117308718', 'AnnotationRelease': '37.3'}, {'ChrAccVer': 'AC_000068.1', 'ChrStart': '116515450', 'AssemblyAccVer': 'GCF_000002135.2', 'ChrStop': '116704153', 'AnnotationRelease': '37.3'}, {'ChrAccVer': 'AC_000139.1', 'ChrStart': '111485639', 'AssemblyAccVer': 'GCF_000002125.1', 'ChrStop': '111674188', 'AnnotationRelease': '37.3'}, {'ChrAccVer': 'NC_000007.13', 'ChrStart': '117120016', 'AssemblyAccVer': 'GCF_000001405.14', 'ChrStop': '117308718', 'AnnotationRelease': '37.2'}, {'ChrAccVer': 'AC_000050.1', 'ChrStart': '111928195', 'AssemblyAccVer': 'GCF_000002115.2', 'ChrStop': '112116894', 'AnnotationRelease': '37.2'}, {'ChrAccVer': 'AC_000068.1', 'ChrStart': '116515450', 'AssemblyAccVer': 'GCF_000002135.2', 'ChrStop': '116704153', 'AnnotationRelease': '37.2'}, {'ChrAccVer': 'AC_000139.1', 'ChrStart': '111485639', 'AssemblyAccVer': 'GCF_000002125.1', 'ChrStop': '111674188', 'AnnotationRelease': '37.2'}, {'ChrAccVer': 'NC_000007.13', 'ChrStart': '117120016', 'AssemblyAccVer': 'GCF_000001405.13', 'ChrStop': '117308718', 'AnnotationRelease': '37.1'}, {'ChrAccVer': 'AC_000050.1', 'ChrStart': '111928195', 'AssemblyAccVer': 'GCF_000002115.2', 'ChrStop': '112116894', 'AnnotationRelease': '37.1'}, {'ChrAccVer': 'AC_000068.1', 'ChrStart': '116515450', 'AssemblyAccVer': 'GCF_000002135.2', 'ChrStop': '116704153', 'AnnotationRelease': '37.1'}, {'ChrAccVer': 'AC_000139.1', 'ChrStart': '111485639', 'AssemblyAccVer': 'GCF_000002125.1', 'ChrStop': '111674188', 'AnnotationRelease': '37.1'}, {'ChrAccVer': 'NC_000007.12', 'ChrStart': '116907252', 'AssemblyAccVer': 'GCF_000001405.12', 'ChrStop': '117095954', 'AnnotationRelease': '36.3'}, {'ChrAccVer': 'AC_000050.1', 'ChrStart': '111928195', 'AssemblyAccVer': 'GCF_000002115.2', 'ChrStop': '112116894', 'AnnotationRelease': '36.3'}, {'ChrAccVer': 'AC_000068.1', 'ChrStart': '116515450', 'AssemblyAccVer': 'GCF_000002135.2', 'ChrStop': '116704153', 'AnnotationRelease': '36.3'}, {'ChrAccVer': 'AC_000139.1', 'ChrStart': '111485639', 'AssemblyAccVer': 'GCF_000002125.1', 'ChrStop': '111674188', 'AnnotationRelease': '36.3'}], 'NomenclatureStatus': 'Official', 'NomenclatureSymbol': 'CFTR', 'Chromosome': '7', 'Status': '0', 'MapLocation': '7q31.2', 'ChrSort': '07'}, attributes={'uid': '1080'})] \n",
      "\n"
     ]
    }
   ],
   "source": [
    "#Write a for loop to check if the gene cystic fibrosis transmembrane conductance regulator, \n",
    "#abbreviated \"CFTR\", was classified as a true positive and print out all the information about CFTR if it was found..\n",
    "for a_gene_summary in true_positives:\n",
    "    if a_gene_summary[0]['Name'] == \"CFTR\":\n",
    "        print(a_gene_summary, \"\\n\")"
   ]
  },
  {
   "cell_type": "markdown",
   "metadata": {},
   "source": [
    "### 2. Craft a PubMed query to return journal articles about CFTR."
   ]
  },
  {
   "cell_type": "markdown",
   "metadata": {},
   "source": [
    "Your goal in this section is to retrieve articles (either journal or review articels) about the cystic fibrosis transmembrane conductance regulator gene (\"CFTR\")."
   ]
  },
  {
   "cell_type": "markdown",
   "metadata": {},
   "source": [
    "The code in the following cell is complete - simply execute and observe."
   ]
  },
  {
   "cell_type": "code",
   "execution_count": null,
   "metadata": {
    "collapsed": false
   },
   "outputs": [],
   "source": [
    "# This is the database we want to search\n",
    "db = \"pubmed\"\n",
    "\n",
    "# This is the query\n",
    "query = \"cystic fibrosis transmembrane conductance regulator\"\n",
    "\n",
    "# We'll use the function Entrez.esearch to search the pubmed database with our query\n",
    "h_search =  Entrez.esearch(db=db, term=query) #tell Entrez what database we want to search, who we are, \n",
    "\n",
    "record = Entrez.read(h_search)\n",
    "\n",
    "ids = record[\"IdList\"] # save the list of ids returned by our query to res_ids\n",
    "\n",
    "print(ids) # print the list of ids"
   ]
  },
  {
   "cell_type": "markdown",
   "metadata": {},
   "source": [
    "How many records were returned? \n",
    "\n",
    "Don't count them yourself, write code below to find out!"
   ]
  },
  {
   "cell_type": "code",
   "execution_count": null,
   "metadata": {
    "collapsed": false
   },
   "outputs": [],
   "source": [
    "print(len(ids))"
   ]
  },
  {
   "cell_type": "markdown",
   "metadata": {},
   "source": [
    "The code in the following cell is complete - simply execute and observe."
   ]
  },
  {
   "cell_type": "code",
   "execution_count": null,
   "metadata": {
    "collapsed": false
   },
   "outputs": [],
   "source": [
    "# Use Entrez esummary to retrieve the record for the *first id* in the list \n",
    "summ = Entrez.esummary(db=db, id=ids[0])\n",
    "\n",
    "# Read the summary and print it out\n",
    "pub_summary = Entrez.read(summ)[0]\n",
    "print(pub_summary)"
   ]
  },
  {
   "cell_type": "markdown",
   "metadata": {},
   "source": [
    "Q3: What part of the code in the previous cell (copy and paste it below), limited the results to the record corresponding to the *first* id in the list?"
   ]
  },
  {
   "cell_type": "raw",
   "metadata": {},
   "source": []
  },
  {
   "cell_type": "markdown",
   "metadata": {},
   "source": [
    "Q4: Modify the code in the following cell so that it prints out the record for the **3rd** id in the list."
   ]
  },
  {
   "cell_type": "code",
   "execution_count": null,
   "metadata": {
    "collapsed": false
   },
   "outputs": [],
   "source": [
    "# Use Entrez esummary to retrieve the record for the *third id* in the list \n",
    "summ = Entrez.esummary(db=db, id=ids[0])\n",
    "\n",
    "# Read the summary and print it out\n",
    "pub_summary = Entrez.read(summ)[0]\n",
    "print(pub_summary)"
   ]
  },
  {
   "cell_type": "code",
   "execution_count": null,
   "metadata": {
    "collapsed": false
   },
   "outputs": [],
   "source": [
    "# print out a list of the elements in the record pub_summary\n",
    "# hint use .keys()\n",
    "print(pub_summary.keys())"
   ]
  },
  {
   "cell_type": "markdown",
   "metadata": {},
   "source": [
    "NCBI's PubMed database contains both primary and secondary research articles. Write a for loop to count the number of primary research articles ('Journal Article') and secondary research articles ('Review').   \n",
    "This information is contained in pub_summary[0]['PubTypeList']."
   ]
  },
  {
   "cell_type": "code",
   "execution_count": null,
   "metadata": {
    "collapsed": false
   },
   "outputs": [],
   "source": [
    "count_journal = 0\n",
    "count_review = 0\n",
    "\n",
    "for id in ids: #loop over pubmed IDs\n",
    "    #print(\"id:\",id)\n",
    " \n",
    "    summary = Entrez.esummary(db=\"pubmed\", id=id) # retrieve summary of document\n",
    "    pub_summary = Entrez.read(summary) # use biopython to parse the summary\n",
    "    \n",
    "    print(pub_summary[0]['PubTypeList'])\n",
    " \n",
    "    #ask if 'Review' is in pub_summary[0]['PubTypeList']\n",
    "    if 'Review' in pub_summary[0]['PubTypeList']:\n",
    "        # if so increase the value of count_review by one\n",
    "         count_review += 1\n",
    "            \n",
    "    # ask if 'Journal Article' is in pub_summary[0]['PubTypeList'] \n",
    "    elif 'Journal Article' in pub_summary[0]['PubTypeList']:\n",
    "        # if so increase the value of count_review by one\n",
    "         count_journal += 1\n",
    "    \n",
    "print(\"Number of primary research articles:\", count_journal)\n",
    "print(\"Number of review articles:\", count_review)"
   ]
  },
  {
   "cell_type": "code",
   "execution_count": null,
   "metadata": {
    "collapsed": false
   },
   "outputs": [],
   "source": [
    "# Generate a list of the titles of the publications\n",
    "title_list = []\n",
    "for id in ids: # loop over pubmed IDs\n",
    "    summary = Entrez.esummary(db=db, id=id) # retrieve summary of document\n",
    "    pub_summary = Entrez.read(summary) # use biopython to parse the summary\n",
    "    # print the title and a new line '\\n' for readability\n",
    "    print(\"Title:\", pub_summary[0]['Title'])\n",
    "    title_list.append(pub_summary[0]['Title'])# add the title to the list title_list"
   ]
  },
  {
   "cell_type": "markdown",
   "metadata": {},
   "source": [
    "**Based on the titles of your results** - quantify the success of your query using true and false positive terminology.  \n",
    "Talk with your team and decide how you will categorize the results as true and false positives. Write your definitions below."
   ]
  },
  {
   "cell_type": "raw",
   "metadata": {},
   "source": [
    "A result is a true positive if \n",
    "A result is a false positive if "
   ]
  },
  {
   "cell_type": "code",
   "execution_count": null,
   "metadata": {
    "collapsed": false
   },
   "outputs": [],
   "source": [
    "#Use a for loop to sort through the journal articles returned by your query. \n",
    "#Assign the titles into true and false positive lists based on your criteria.\n",
    "#Remember that Python considers the case of a string when checking equality.\n",
    "#Hint - you can convert both the query and the subject to a lower case string using str.lower(\"YourString\")\n",
    "\n",
    "true_positive = [] # an empty list to contain the titles of the true positives\n",
    "false_positive = [] # an empty list to contain the title of the false positives\n",
    "#loop through the elements of title_list\n",
    "\n",
    "    #use an if statement to define the true positive classification, remember that Python considers the case of the string use\n",
    "    \n",
    "    #if the condition is met add the title to the true positive list\n",
    "    \n",
    "    #else add the title to the list of false positives\n",
    "    "
   ]
  },
  {
   "cell_type": "code",
   "execution_count": null,
   "metadata": {
    "collapsed": false
   },
   "outputs": [],
   "source": [
    "#print out a statement describing how many of the results were true/false positives\n",
    "print(\"true positives:\", len(true_positive))\n",
    "print(\"true positives:\", len(false_positive))"
   ]
  },
  {
   "cell_type": "markdown",
   "metadata": {},
   "source": [
    "#### That's all folks!!! Save and download your notebook, then upload it to Blackboard."
   ]
  }
 ],
 "metadata": {
  "anaconda-cloud": {},
  "kernelspec": {
   "display_name": "Python 3",
   "language": "python",
   "name": "python3"
  },
  "language_info": {
   "codemirror_mode": {
    "name": "ipython",
    "version": 3
   },
   "file_extension": ".py",
   "mimetype": "text/x-python",
   "name": "python",
   "nbconvert_exporter": "python",
   "pygments_lexer": "ipython3",
   "version": "3.5.3"
  }
 },
 "nbformat": 4,
 "nbformat_minor": 0
}
