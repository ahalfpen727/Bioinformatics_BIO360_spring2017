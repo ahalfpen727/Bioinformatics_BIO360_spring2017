{
 "cells": [
  {
   "cell_type": "markdown",
   "metadata": {},
   "source": [
    "## Lab 3: Database Searching Using Biopython"
   ]
  },
  {
   "cell_type": "markdown",
   "metadata": {},
   "source": [
    "#### Enter your name below."
   ]
  },
  {
   "cell_type": "raw",
   "metadata": {},
   "source": [
    "Answer keys"
   ]
  },
  {
   "cell_type": "markdown",
   "metadata": {},
   "source": [
    "### Part 1: Search NCBI's Gene database for genes involved in cystic fibrosis."
   ]
  },
  {
   "cell_type": "markdown",
   "metadata": {},
   "source": [
    "Your goal in this section is to use NCBI's Gene database to identify genes involved in cystic fibrosis in humans."
   ]
  },
  {
   "cell_type": "markdown",
   "metadata": {},
   "source": [
    "##### 1. Load the Biopython module \"Entrez\", enter your email address, then execute."
   ]
  },
  {
   "cell_type": "code",
   "execution_count": 1,
   "metadata": {
    "collapsed": true
   },
   "outputs": [],
   "source": [
    "from Bio import Entrez\n",
    "\n",
    "#Tell NCBI who you are\n",
    "Entrez.email = \"mensainah.hector001@umb.edu\""
   ]
  },
  {
   "cell_type": "markdown",
   "metadata": {},
   "source": [
    "##### 2. Generate query and execute the search."
   ]
  },
  {
   "cell_type": "code",
   "execution_count": 2,
   "metadata": {
    "collapsed": false
   },
   "outputs": [
    {
     "name": "stdout",
     "output_type": "stream",
     "text": [
      "['109867792', '109867022', '109889621', '7124', '3569', '7040', '1636', '3586', '3091', '4318', '4790', '5243', '21926', '5743', '21898', '207', '3553', '7421', '5468', '6774']\n"
     ]
    },
    {
     "data": {
      "text/plain": [
       "Bio.Entrez.Parser.ListElement"
      ]
     },
     "execution_count": 2,
     "metadata": {},
     "output_type": "execute_result"
    }
   ],
   "source": [
    "db = \"gene\" # This is the database we want to search\n",
    "\n",
    "query = \"cystic fibrosis\" # This is the query\n",
    "\n",
    "#We'll use the function Entrez.esearch to search the pubmed database with our query\n",
    "h_search =  Entrez.esearch(db=db, term=query) # tell Entrez what database we want to search, who we are, and what we want to look for\n",
    "\n",
    "record = Entrez.read(h_search) # read the esearch record\n",
    "\n",
    "res_ids = record[\"IdList\"] # save the list of ids returned by our query to res_ids\n",
    "\n",
    "#print the list of ids\n",
    "print(res_ids)\n",
    "type(res_ids)"
   ]
  },
  {
   "cell_type": "code",
   "execution_count": 3,
   "metadata": {
    "collapsed": false,
    "scrolled": true
   },
   "outputs": [
    {
     "name": "stdout",
     "output_type": "stream",
     "text": [
      "{'DocumentSummarySet': DictElement({'DocumentSummary': [DictElement({'GeneticSource': 'genomic', 'ChrSort': '~~last', 'ChrStart': '999999999', 'Organism': {'CommonName': 'coho salmon', 'ScientificName': 'Oncorhynchus kisutch', 'TaxID': '8019'}, 'LocationHist': [{'AnnotationRelease': '100', 'ChrStart': '45834005', 'ChrAccVer': 'NC_034195.1', 'ChrStop': '45819184', 'AssemblyAccVer': 'GCF_002021735.1'}], 'CurrentID': '0', 'Status': '0', 'MapLocation': '', 'NomenclatureName': '', 'GeneWeight': '0', 'Chromosome': 'LG22', 'OtherDesignations': 'cystic fibrosis transmembrane conductance regulator-like', 'GenomicInfo': [{'ChrLoc': 'LG22', 'ChrStart': '45834005', 'ChrAccVer': 'NC_034195.1', 'ChrStop': '45819184', 'ExonCount': '5'}], 'Name': 'LOC109867792', 'Summary': '', 'Mim': [], 'OtherAliases': '', 'Description': 'cystic fibrosis transmembrane conductance regulator-like', 'NomenclatureSymbol': '', 'NomenclatureStatus': ''}, attributes={'uid': '109867792'})], 'DbBuild': 'Build170318-0315m.1'}, attributes={'status': 'OK'})}\n"
     ]
    }
   ],
   "source": [
    "#Use Entrez esummary to retrieve the record for the first id in the list \n",
    "summary = Entrez.esummary(db=db, id=res_ids[0])\n",
    "\n",
    "#Read the summary \n",
    "gene_summary = Entrez.read(summary)\n",
    "\n",
    "#and print it out\n",
    "print(gene_summary)"
   ]
  },
  {
   "cell_type": "markdown",
   "metadata": {},
   "source": [
    "Q1: Name three data types you see in the printed output of gene_summary."
   ]
  },
  {
   "cell_type": "raw",
   "metadata": {},
   "source": [
    "organism, taxID, tumor necrosis factor, and description"
   ]
  },
  {
   "cell_type": "markdown",
   "metadata": {},
   "source": [
    "##### 3. Analyze the results."
   ]
  },
  {
   "cell_type": "code",
   "execution_count": 4,
   "metadata": {
    "collapsed": false
   },
   "outputs": [
    {
     "name": "stdout",
     "output_type": "stream",
     "text": [
      "Name: STAT3\n",
      "Description: signal transducer and activator of transcription 3\n",
      "Organism: {'CommonName': 'human', 'ScientificName': 'Homo sapiens', 'TaxID': '9606'}\n",
      "Summary: The protein encoded by this gene is a member of the STAT protein family. In response to cytokines and growth factors, STAT family members are phosphorylated by the receptor associated kinases, and then form homo- or heterodimers that translocate to the cell nucleus where they act as transcription activators. This protein is activated through phosphorylation in response to various cytokines and growth factors including IFNs, EGF, IL5, IL6, HGF, LIF and BMP2. This protein mediates the expression of a variety of genes in response to cell stimuli, and thus plays a key role in many cellular processes such as cell growth and apoptosis. The small GTPase Rac1 has been shown to bind and regulate the activity of this protein. PIAS3 protein is a specific inhibitor of this protein. Mutations in this gene are associated with infantile-onset multisystem autoimmune disease and hyper-immunoglobulin E syndrome. Alternative splicing results in multiple transcript variants encoding distinct isoforms. [provided by RefSeq, Sep 2015]\n",
      "OtherAliases: ADMIO, ADMIO1, APRF, HIES\n",
      "\n",
      "\n"
     ]
    }
   ],
   "source": [
    "for r_id in res_ids: #loop over pubmed IDs\n",
    "    summary = Entrez.esummary(db=db, id=r_id) #retrieve summary of document\n",
    "    gene_read = Entrez.read (summary)#use biopython to parse the summary\n",
    "    gene_summary = gene_read ['DocumentSummarySet'] ['DocumentSummary']\n",
    "    \n",
    "#print gene_summary[0]\n",
    "print(\"Name:\", gene_summary[0]['Name'])\n",
    "print(\"Description:\", gene_summary[0]['Description']) \n",
    "print(\"Organism:\", gene_summary[0]['Organism'])\n",
    "print(\"Summary:\", gene_summary[0]['Summary'])\n",
    "print(\"OtherAliases:\",  gene_summary[0]['OtherAliases'])\n",
    "print('\\n')"
   ]
  },
  {
   "cell_type": "markdown",
   "metadata": {},
   "source": [
    "Let's quantify the success of our query using true and false positive terminology.  \n",
    "Talk with your team and decide how you will categorize the results as true and false positives. Write your definitions below."
   ]
  },
  {
   "cell_type": "raw",
   "metadata": {},
   "source": [
    "A result is a true positive if the hits are about cystic fibrosis\n",
    "A result is a false positive if the hits is not about cystic fibrosis "
   ]
  },
  {
   "cell_type": "markdown",
   "metadata": {},
   "source": [
    "Use a for loop to sort through the genes returned by your query. \n",
    "Assign the genes into true and false positive lists based on your criteria.\n",
    "Remember that Python considers the case of a string when checking equality.\n",
    "Hint - you can convert both the query and the subject to a lower case string using str.lower(\"YourString\")"
   ]
  },
  {
   "cell_type": "code",
   "execution_count": 5,
   "metadata": {
    "collapsed": false
   },
   "outputs": [],
   "source": [
    "true_positive = []\n",
    "false_positive = []\n",
    "for r_id in res_ids: # loop over pubmed IDs\n",
    "    summary = Entrez.esummary(db=db, id=r_id) # retrieve summary of document\n",
    "    gene_read = Entrez.read(summary) # use biopython to parse the summary\n",
    "    gene_summary = gene_read ['DocumentSummarySet'] ['DocumentSummary']\n",
    "    \n",
    "    # use an if statement to define the true positive classification, remember that Python considers the case of the string used \n",
    "    if \"cystic fibrosis\" in str.lower(gene_summary[0]['Summary']):\n",
    "       \n",
    "        # if the condition is met add the record to the true positive list\n",
    "        true_positive.append(gene_summary)\n",
    "    \n",
    "    # if the condition is NOT met add the record to the false positive list\n",
    "    else:\n",
    "        false_positive.append(gene_summary)"
   ]
  },
  {
   "cell_type": "markdown",
   "metadata": {},
   "source": [
    "Q2: Why didn't we include any if statments for true or false negatives?"
   ]
  },
  {
   "cell_type": "raw",
   "metadata": {},
   "source": [
    " the question did not ask for any negatives."
   ]
  },
  {
   "cell_type": "code",
   "execution_count": 6,
   "metadata": {
    "collapsed": false
   },
   "outputs": [
    {
     "name": "stdout",
     "output_type": "stream",
     "text": [
      "true positives: 0\n",
      "false positive: 20\n"
     ]
    }
   ],
   "source": [
    "#print out a statement describing how many of the results were true/false positives\n",
    "print(\"true positives:\", len (true_positive)) \n",
    "print(\"false positive:\", len (false_positive))"
   ]
  },
  {
   "cell_type": "code",
   "execution_count": 7,
   "metadata": {
    "collapsed": false
   },
   "outputs": [],
   "source": [
    "#Write a for loop to check if the gene cystic fibrosis transmembrane conductance regulator, \n",
    "#abbreviated \"CFTR\", was classified as a true positive and print out all the information about CFTR if it was found..\n",
    "#if so, print out all of the information on the gene\n",
    "for gene in true_positive:\n",
    "    if gene[0] ['Name'] == \"CFTR\":\n",
    "        print(gene, \"\\n\")"
   ]
  },
  {
   "cell_type": "markdown",
   "metadata": {},
   "source": [
    "### 2. Craft a PubMed query to return journal articles about CFTR."
   ]
  },
  {
   "cell_type": "markdown",
   "metadata": {},
   "source": [
    "Your goal in this section is to retrieve articles (either journal or review articels) about the cystic fibrosis transmembrane conductance regulator gene (\"CFTR\")."
   ]
  },
  {
   "cell_type": "markdown",
   "metadata": {},
   "source": [
    "The code in the following cell is complete - simply execute and observe."
   ]
  },
  {
   "cell_type": "code",
   "execution_count": 8,
   "metadata": {
    "collapsed": false
   },
   "outputs": [
    {
     "name": "stdout",
     "output_type": "stream",
     "text": [
      "['28289144', '28287550', '28279152', '28273890', '28270008', '28258579', '28247055', '28242698', '28242630', '28236359', '28235656', '28235470', '28234153', '28231890', '28230981', '28230279', '28225751', '28221098', '28215711', '28209466']\n"
     ]
    }
   ],
   "source": [
    "# This is the database we want to search\n",
    "db = \"pubmed\"\n",
    "\n",
    "# This is the query\n",
    "query = \"cystic fibrosis transmembrane conductance regulator\"\n",
    "\n",
    "# We'll use the function Entrez.esearch to search the pubmed database with our query\n",
    "h_search =  Entrez.esearch(db=db, term=query) # tell Entrez what database we want to search, who we are, \n",
    "\n",
    "record = Entrez.read(h_search)\n",
    "\n",
    "ids = record[\"IdList\"] # save the list of ids returned by our query to res_ids\n",
    "\n",
    "print(ids) # print the list of ids"
   ]
  },
  {
   "cell_type": "markdown",
   "metadata": {},
   "source": [
    "How many records were returned? \n",
    "\n",
    "Don't count them yourself, write code below to find out!"
   ]
  },
  {
   "cell_type": "code",
   "execution_count": 9,
   "metadata": {
    "collapsed": false
   },
   "outputs": [
    {
     "name": "stdout",
     "output_type": "stream",
     "text": [
      "number of pubs: 20\n"
     ]
    }
   ],
   "source": [
    "print(\"number of pubs:\", len(ids))"
   ]
  },
  {
   "cell_type": "markdown",
   "metadata": {},
   "source": [
    "The code in the following cell is complete - simply execute and observe."
   ]
  },
  {
   "cell_type": "code",
   "execution_count": 10,
   "metadata": {
    "collapsed": false
   },
   "outputs": [
    {
     "name": "stdout",
     "output_type": "stream",
     "text": [
      "{'ESSN': '1098-5522', 'Source': 'Infect Immun', 'FullJournalName': 'Infection and immunity', 'References': [], 'Issue': '', 'PubDate': '2017 Mar 13', 'ISSN': '0019-9567', 'RecordStatus': 'PubMed - as supplied by publisher', 'History': {'medline': ['2017/03/16 06:00'], 'entrez': '2017/03/15 06:00', 'pubmed': ['2017/03/16 06:00']}, 'Title': '<i>Staphylococcus aureus</i> survives in cystic fibrosis macrophages forming a reservoir for chronic pneumonia.', 'Pages': '', 'HasAbstract': 1, 'NlmUniqueID': '0246127', 'EPubDate': '2017 Mar 13', 'Id': '28289144', 'PmcRefCount': 0, 'SO': '2017 Mar 13;', 'Volume': '', 'ArticleIds': {'medline': [], 'eid': '28289144', 'pii': 'IAI.00883-16', 'doi': '10.1128/IAI.00883-16', 'pubmed': ['28289144'], 'rid': '28289144'}, 'AuthorList': ['Li C', 'Wu Y', 'Riehle A', 'Ma J', 'Kamler M', 'Gulbins E', 'Grassmé H'], 'Item': [], 'PubTypeList': ['Journal Article'], 'DOI': '10.1128/IAI.00883-16', 'PubStatus': 'aheadofprint', 'LastAuthor': 'Grassmé H', 'ELocationID': 'pii: IAI.00883-16. doi: 10.1128/IAI.00883-16', 'LangList': ['English']}\n"
     ]
    }
   ],
   "source": [
    "# Use Entrez esummary to retrieve the record for the *first id* in the list \n",
    "summ = Entrez.esummary(db=db, id=ids[0])\n",
    "\n",
    "# Read the summary and print it out\n",
    "pub_summary = Entrez.read(summ)[0]\n",
    "print(pub_summary)"
   ]
  },
  {
   "cell_type": "markdown",
   "metadata": {},
   "source": [
    "Q3: What part of the code in the previous cell (copy and paste it below), limited the results to the record corresponding to the *first* id in the list?"
   ]
  },
  {
   "cell_type": "raw",
   "metadata": {},
   "source": [
    " using zero ids=ids[0]"
   ]
  },
  {
   "cell_type": "markdown",
   "metadata": {},
   "source": [
    "Q4: Modify the code in the following cell so that it prints out the record for the **3rd** id in the list."
   ]
  },
  {
   "cell_type": "code",
   "execution_count": 11,
   "metadata": {
    "collapsed": false
   },
   "outputs": [
    {
     "name": "stdout",
     "output_type": "stream",
     "text": [
      "{'ESSN': '1471-2180', 'Source': 'BMC Microbiol', 'FullJournalName': 'BMC microbiology', 'References': [], 'Issue': '1', 'PubDate': '2017 Mar 9', 'ISSN': '', 'RecordStatus': 'PubMed - in process', 'History': {'medline': ['2017/03/11 06:00'], 'accepted': '2017/03/03 00:00', 'received': '2016/04/27 00:00', 'entrez': '2017/03/11 06:00', 'pubmed': ['2017/03/11 06:00']}, 'Title': 'The altered gut microbiota in adults with cystic fibrosis.', 'Pages': '58', 'HasAbstract': 1, 'NlmUniqueID': '100966981', 'EPubDate': '2017 Mar 9', 'Id': '28279152', 'PmcRefCount': 0, 'SO': '2017 Mar 9;17(1):58', 'Volume': '17', 'ArticleIds': {'medline': [], 'eid': '28279152', 'pmcid': 'pmc-id: PMC5345154;', 'rid': '28279152', 'pii': '10.1186/s12866-017-0968-8', 'pmc': 'PMC5345154', 'pubmed': ['28279152'], 'doi': '10.1186/s12866-017-0968-8'}, 'AuthorList': ['Burke DG', 'Fouhy F', 'Harrison MJ', 'Rea MC', 'Cotter PD', \"O'Sullivan O\", 'Stanton C', 'Hill C', 'Shanahan F', 'Plant BJ', 'Ross RP'], 'Item': [], 'PubTypeList': ['Journal Article'], 'DOI': '10.1186/s12866-017-0968-8', 'PubStatus': 'epublish', 'LastAuthor': 'Ross RP', 'ELocationID': 'doi: 10.1186/s12866-017-0968-8', 'LangList': ['English']}\n"
     ]
    }
   ],
   "source": [
    "# Use Entrez esummary to retrieve the record for the *third id* in the list \n",
    "summ = Entrez.esummary(db=db, id=ids[2])\n",
    "\n",
    "# Read the summary and print it out\n",
    "pub_summary = Entrez.read(summ)[0]\n",
    "print(pub_summary)"
   ]
  },
  {
   "cell_type": "code",
   "execution_count": 12,
   "metadata": {
    "collapsed": false
   },
   "outputs": [
    {
     "name": "stdout",
     "output_type": "stream",
     "text": [
      "dict_keys(['ESSN', 'Source', 'FullJournalName', 'References', 'Issue', 'PubDate', 'ISSN', 'RecordStatus', 'History', 'Title', 'Pages', 'HasAbstract', 'NlmUniqueID', 'EPubDate', 'Id', 'PmcRefCount', 'SO', 'Volume', 'ArticleIds', 'AuthorList', 'Item', 'PubTypeList', 'DOI', 'PubStatus', 'LastAuthor', 'ELocationID', 'LangList'])\n"
     ]
    }
   ],
   "source": [
    "#print out a list of the elements in the record pub_summary\n",
    "#hint use .keys()\n",
    "print(pub_summary.keys())"
   ]
  },
  {
   "cell_type": "markdown",
   "metadata": {},
   "source": [
    "NCBI's PubMed database contains both primary and secondary research articles. Write a for loop to count the number of primary research articles ('Journal Article') and secondary research articles ('Review').   \n",
    "This information is contained in pub_summary[0]['PubTypeList']."
   ]
  },
  {
   "cell_type": "code",
   "execution_count": 13,
   "metadata": {
    "collapsed": false
   },
   "outputs": [
    {
     "name": "stdout",
     "output_type": "stream",
     "text": [
      "['Journal Article']\n",
      "['Journal Article']\n",
      "['Journal Article']\n",
      "['Journal Article']\n",
      "['Journal Article']\n",
      "['Journal Article']\n",
      "['Journal Article']\n",
      "['Journal Article']\n",
      "['Journal Article']\n",
      "['Journal Article']\n",
      "['Journal Article']\n",
      "['Journal Article']\n",
      "['Journal Article']\n",
      "['Journal Article']\n",
      "['Journal Article']\n",
      "['Journal Article']\n",
      "['Journal Article']\n",
      "['Journal Article']\n",
      "['Journal Article', 'Review']\n",
      "['Journal Article']\n",
      "Number of primary research articles: 19\n",
      "Number of review articles: 1\n"
     ]
    }
   ],
   "source": [
    "count_journal = 0\n",
    "count_review = 0\n",
    "\n",
    "for id in ids: #loop over pubmed IDs\n",
    "    #print(\"id:\",id)\n",
    " \n",
    "    summary = Entrez.esummary(db=\"pubmed\", id=id) # retrieve summary of document\n",
    "    pub_summary = Entrez.read(summary) # use biopython to parse the summary\n",
    "    \n",
    "    print(pub_summary[0]['PubTypeList'])\n",
    " \n",
    "    #ask if 'Review' is in pub_summary[0]['PubTypeList']\n",
    "    if 'Review' in pub_summary[0]['PubTypeList']:\n",
    "        # if so increase the value of count_review by one\n",
    "         count_review += 1\n",
    "            \n",
    "    # ask if 'Journal Article' is in pub_summary[0]['PubTypeList'] \n",
    "    elif 'Journal Article' in pub_summary[0]['PubTypeList']:\n",
    "        # if so increase the value of count_review by one\n",
    "         count_journal += 1\n",
    "    \n",
    "print(\"Number of primary research articles:\", count_journal)\n",
    "print(\"Number of review articles:\", count_review)"
   ]
  },
  {
   "cell_type": "code",
   "execution_count": 14,
   "metadata": {
    "collapsed": false
   },
   "outputs": [
    {
     "name": "stdout",
     "output_type": "stream",
     "text": [
      "Title: <i>Staphylococcus aureus</i> survives in cystic fibrosis macrophages forming a reservoir for chronic pneumonia.\n",
      "Title: Forskolin-induced Swelling in Intestinal Organoids: An In Vitro Assay for Assessing Drug Response in Cystic Fibrosis Patients.\n",
      "Title: The altered gut microbiota in adults with cystic fibrosis.\n",
      "Title: CFTR is involved in the regulation of glucagon secretion in human and rodent alpha cells.\n",
      "Title: Gene delivery to the lungs: pulmonary gene therapy for cystic fibrosis.\n",
      "Title: Water Transport Mediated by Other Membrane Proteins.\n",
      "Title: cAMP-dependent secretagogues stimulate the NaHCO<sub>3</sub> cotransporter in the villous epithelium of the brushtail possum, Trichosurus vulpecula.\n",
      "Title: Synergy of cAMP and calcium signaling pathways in CFTR regulation.\n",
      "Title: Electrostatic tuning of the pre- and post-hydrolytic open states in CFTR.\n",
      "Title: Single nucleotide polymorphisms related to cystic fibrosis in chronic rhinositus-a pilot study.\n",
      "Title: High-expressing cystic fibrosis transmembrane conductance regulator interacts with histone deacetylase 2 to promote the development of Ph+ leukemia through the HDAC2-mediated PTEN pathway.\n",
      "Title: Contribution of a leucine residue in the first transmembrane segment to the selectivity filter region in the CFTR chloride channel.\n",
      "Title: Factors influencing the need for endoscopic sinus surgery in adult patients with cystic fibrosis.\n",
      "Title: [Pancreatic infringement exocrine and endocrine in cystic fibrosis].\n",
      "Title: High-Potency Phenylquinoxalinone Cystic Fibrosis Transmembrane Conductance Regulator (CFTR) Activators.\n",
      "Title: Folate Protects Hepatocytes of Hyperhomocysteinemia Mice from Apoptosis via Cystic Fibrosis Transmembrane Conductance Regulator (CFTR)-activated Endoplasmic Reticulum Stress.\n",
      "Title: Lower Cystic Fibrosis Transmembrane Conductance Regulator (CFTR) Promotes the Proliferation and Migration of Endometrial Carcinoma.\n",
      "Title: Ion Transport by Ameloblasts during Amelogenesis.\n",
      "Title: Biomarkers for cystic fibrosis drug development.\n",
      "Title: Pharmacokinetics and safety of cavosonstat (N91115) in healthy and cystic fibrosis adults homozygous for F508DEL-CFTR.\n"
     ]
    }
   ],
   "source": [
    "# Generate a list of the titles of the publications\n",
    "title_list = []\n",
    "for id in ids: # loop over pubmed IDs\n",
    "    summary = Entrez.esummary(db=db, id=id) # retrieve summary of document\n",
    "    pub_summary = Entrez.read(summary) # use biopython to parse the summary\n",
    "    # print the title and a new line '\\n' for readability\n",
    "    \n",
    "    print(\"Title:\", pub_summary[0]['Title'])\n",
    "    \n",
    "    title_list.append(pub_summary[0]['Title'])# add the title to the list title_list"
   ]
  },
  {
   "cell_type": "markdown",
   "metadata": {},
   "source": [
    "**Based on the titles of your results** - quantify the success of your query using true and false positive terminology.  \n",
    "Talk with your team and decide how you will categorize the results as true and false positives. Write your definitions below."
   ]
  },
  {
   "cell_type": "raw",
   "metadata": {},
   "source": [
    "A result is a true positive if its about the gene CFTR\n",
    "A result is a false positive if it doesn't "
   ]
  },
  {
   "cell_type": "code",
   "execution_count": 15,
   "metadata": {
    "collapsed": false
   },
   "outputs": [
    {
     "name": "stdout",
     "output_type": "stream",
     "text": [
      "title: <i>Staphylococcus aureus</i> survives in cystic fibrosis macrophages forming a reservoir for chronic pneumonia.\n",
      "title: Forskolin-induced Swelling in Intestinal Organoids: An In Vitro Assay for Assessing Drug Response in Cystic Fibrosis Patients.\n",
      "title: The altered gut microbiota in adults with cystic fibrosis.\n",
      "title: CFTR is involved in the regulation of glucagon secretion in human and rodent alpha cells.\n",
      "title: Gene delivery to the lungs: pulmonary gene therapy for cystic fibrosis.\n",
      "title: Water Transport Mediated by Other Membrane Proteins.\n",
      "title: cAMP-dependent secretagogues stimulate the NaHCO<sub>3</sub> cotransporter in the villous epithelium of the brushtail possum, Trichosurus vulpecula.\n",
      "title: Synergy of cAMP and calcium signaling pathways in CFTR regulation.\n",
      "title: Electrostatic tuning of the pre- and post-hydrolytic open states in CFTR.\n",
      "title: Single nucleotide polymorphisms related to cystic fibrosis in chronic rhinositus-a pilot study.\n",
      "title: High-expressing cystic fibrosis transmembrane conductance regulator interacts with histone deacetylase 2 to promote the development of Ph+ leukemia through the HDAC2-mediated PTEN pathway.\n",
      "title: Contribution of a leucine residue in the first transmembrane segment to the selectivity filter region in the CFTR chloride channel.\n",
      "title: Factors influencing the need for endoscopic sinus surgery in adult patients with cystic fibrosis.\n",
      "title: [Pancreatic infringement exocrine and endocrine in cystic fibrosis].\n",
      "title: High-Potency Phenylquinoxalinone Cystic Fibrosis Transmembrane Conductance Regulator (CFTR) Activators.\n",
      "title: Folate Protects Hepatocytes of Hyperhomocysteinemia Mice from Apoptosis via Cystic Fibrosis Transmembrane Conductance Regulator (CFTR)-activated Endoplasmic Reticulum Stress.\n",
      "title: Lower Cystic Fibrosis Transmembrane Conductance Regulator (CFTR) Promotes the Proliferation and Migration of Endometrial Carcinoma.\n",
      "title: Ion Transport by Ameloblasts during Amelogenesis.\n",
      "title: Biomarkers for cystic fibrosis drug development.\n",
      "title: Pharmacokinetics and safety of cavosonstat (N91115) in healthy and cystic fibrosis adults homozygous for F508DEL-CFTR.\n"
     ]
    }
   ],
   "source": [
    "#Use a for loop to sort through the journal articles returned by your query. \n",
    "#Assign the titles into true and false positive lists based on your criteria.\n",
    "#Remember that Python considers the case of a string when checking equality.\n",
    "#Hint - you can convert both the query and the subject to a lower case string using str.lower(\"YourString\")\n",
    "\n",
    "true_positive = [] # an empty list to contain the titles of the true positives\n",
    "false_positive = [] # an empty list to contain the title of the false positives\n",
    "# loop through the elements of title_list\n",
    "for id in ids: # loop over pubmed IDs\n",
    "    summary = Entrez.esummary(db=db, id=id) # retrieve summary of document\n",
    "    pub_summary = Entrez.read(summary) # use biopython to parse the summary\n",
    "    # print the title and a new line '\\n' for readability\n",
    "    title =  pub_summary[0]['Title']\n",
    "    print(\"title:\", pub_summary[0]['Title'])\n",
    "\n",
    "    # use an if statement to define the true positive classification, remember that Python considers the case of the string use\n",
    "    if (\"CFTR\" in title) or (\"cystic fibrosis transmembrane conductance regulator\" in title):\n",
    "        # if the condition is met add the title to the true positive list\n",
    "        true_positive.append(title)\n",
    "    # else add the title to the list of false positives\n",
    "    else:\n",
    "        false_positive.append(title)"
   ]
  },
  {
   "cell_type": "code",
   "execution_count": 16,
   "metadata": {
    "collapsed": false
   },
   "outputs": [
    {
     "name": "stdout",
     "output_type": "stream",
     "text": [
      "true positives: 9\n",
      "true positives: 11\n"
     ]
    }
   ],
   "source": [
    "#print out a statement describing how many of the results were true/false positives\n",
    "print(\"true positives:\", len(true_positive))\n",
    "print(\"true positives:\", len(false_positive))"
   ]
  },
  {
   "cell_type": "markdown",
   "metadata": {},
   "source": [
    "#### That's all folks!!! Save and download your notebook, then upload it to Blackboard."
   ]
  }
 ],
 "metadata": {
  "anaconda-cloud": {},
  "kernelspec": {
   "display_name": "Python [conda root]",
   "language": "python",
   "name": "conda-root-py"
  },
  "language_info": {
   "codemirror_mode": {
    "name": "ipython",
    "version": 3
   },
   "file_extension": ".py",
   "mimetype": "text/x-python",
   "name": "python",
   "nbconvert_exporter": "python",
   "pygments_lexer": "ipython3",
   "version": "3.5.2"
  }
 },
 "nbformat": 4,
 "nbformat_minor": 0
}
