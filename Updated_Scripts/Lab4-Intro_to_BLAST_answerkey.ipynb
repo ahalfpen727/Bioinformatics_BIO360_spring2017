{
 "cells": [
  {
   "cell_type": "markdown",
   "metadata": {},
   "source": [
    "# Lab 4: Introduction to BLAST Using Biopython"
   ]
  },
  {
   "cell_type": "markdown",
   "metadata": {},
   "source": [
    "\n",
    "Imagine that you have isolated an unknown protein from an organism you’re studying, and you want to learn more about it. You know the protein’s sequence, but nothing about its function. How would you go about learning more about it? Alternatively, what if you know the identity of your protein and its function, but want to know how important it is to the survival of the organism?\n",
    "\n",
    "Often, the most logical first step for problems like this is to perform a similarity search using a tool like BLAST at NCBI. BLAST has access to sequences from many different databases, and can help you find other sequences that are closely related to your sequence. This can be helpful in multiple ways. For problems like the first described above, it may allow you to find sequences that are similar to yours and have a known function, which can give you a clue about the function of your protein. For the second problem, it can tell you something about how conserved your protein is, and therefore how essential it is to the survival of the organism. If your BLAST search returns a large number of very similar sequences, it is likely that your sequence is conserved – and important to the organism’s continued survival.\n",
    "\n",
    "As you can see, BLAST is quite a useful tool for biologists. In today’s lab exercise, you’ll get a chance to experiment with BLASTing a sequence and seeing what you can learn about the sequence by doing so. Additionally, you’ll work with different parameters for your BLAST searches, in order to get an idea of how changing those parameters changes your results, both in terms of the results (or “hits”) that you get, and in terms of how closely related (evolutionarily) those matches are considered to be to your sequence. You may find the “Taxonomy Report” useful for this aspect.\n"
   ]
  },
  {
   "cell_type": "markdown",
   "metadata": {},
   "source": [
    "## Part 1"
   ]
  },
  {
   "cell_type": "markdown",
   "metadata": {},
   "source": [
    "\n",
    "Your group will BLAST a gene and its associated protein using several different sets of parameters. We'll be using Biopython to do the BLASTs.\n",
    "\n",
    "Here is a list of commands you can use to refine your search:\n",
    "    program        blastn, blastp, blastx, tblastn, or tblastx (lower case)  \n",
    "    \n",
    "    database       Which database to search against (e.g. \"nr\").  \n",
    "    \n",
    "    sequence       The sequence to search.   \n",
    "    \n",
    "    descriptions   Number of descriptions to show.  Def 500.  \n",
    "    \n",
    "    alignments     Number of alignments to show.  Def 500.  \n",
    "    \n",
    "    expect         An expect value cutoff.  Def 10.0.  \n",
    "    \n",
    "    matrix_name    Specify an alt. matrix (PAM30, PAM70, BLOSUM80, BLOSUM45).  \n",
    "    \n",
    "    filter         \"none\" turns off filtering.  Default no filtering  \n",
    "\n",
    "    entrez_query   Entrez query to limit Blast search  \n",
    "    \n",
    "    hitlist_size   Number of hits to return. Default 50  \n",
    "    \n",
    "    megablast      TRUE/FALSE whether to use MEga BLAST algorithm (blastn only)  \n",
    "\n",
    "    \n",
    "The accession number for the protein sequence you'll be working with is **NP_000312**."
   ]
  },
  {
   "cell_type": "markdown",
   "metadata": {},
   "source": [
    "#### Q1: For the protein with accession number NP_000312, what is a) the name of the protein, b) its function, and c) the accession number of the gene encoding it?"
   ]
  },
  {
   "cell_type": "raw",
   "metadata": {},
   "source": [
    "retinoblastoma-associated protein [Homo sapiens]\n",
    "\n",
    "negative regulator of call cycle and a tumor repressor gene. \n",
    "\n",
    "NM_000321.2"
   ]
  },
  {
   "cell_type": "code",
   "execution_count": 1,
   "metadata": {
    "collapsed": false
   },
   "outputs": [],
   "source": [
    "from Bio.Blast import NCBIWWW, NCBIXML"
   ]
  },
  {
   "cell_type": "markdown",
   "metadata": {},
   "source": [
    "First, let's do an example Web BLAST using Biopython. The NCBIWWW module connects remotely to NCBI, tells it to do the BLAST using the parameters passed to the qblast function, and then returns the results of the BLAST search.\n",
    "\n",
    "To parse the results, we'll use the NCBIXML module, which reads the results and converts them to XML format."
   ]
  },
  {
   "cell_type": "code",
   "execution_count": 2,
   "metadata": {
    "collapsed": false
   },
   "outputs": [],
   "source": [
    "results = NCBIWWW.qblast(program = \"blastn\", database = \"refseq_rna\", \n",
    "                         sequence = \"8332116\", hitlist_size=20)\n",
    "blast_record = NCBIXML.read(results)"
   ]
  },
  {
   "cell_type": "markdown",
   "metadata": {},
   "source": [
    "Now let's print out some useful info from our blast record. Blast records score hits as a series of alignment objects, from which you can access the high-scoring seqment pairs (HSPs) for that alignment. You can then access the statistics (score, E value, etc.) for that HSP.\n",
    "\n",
    "One thing you may notice is that HSPs don't have the \"percent identity\" attribute that you are used to seeing when running BLASTs. They do, however, have an attribute for the *number* of matching identities, as well as for the sequence. So, to get the percent identity, all I had to do was divide the number of identities by the length of the query sequence."
   ]
  },
  {
   "cell_type": "code",
   "execution_count": 3,
   "metadata": {
    "collapsed": false
   },
   "outputs": [
    {
     "name": "stdout",
     "output_type": "stream",
     "text": [
      "Description: gi|731339628|ref|XM_010682658.1| PREDICTED: Beta vulgaris subsp. vulgaris cold-regulated 413 plasma membrane protein 2 (LOC104895996), mRNA\n",
      "Score: 448.0\n",
      "E value: 4.62037e-109\n",
      "Percent Id: 75.20938023450586 % \n",
      "\n",
      "Description: gi|1009144954|ref|XM_016034586.1| PREDICTED: Ziziphus jujuba cold-regulated 413 plasma membrane protein 2-like (LOC107424728), mRNA\n",
      "Score: 438.0\n",
      "E value: 2.39341e-106\n",
      "Percent Id: 75.16778523489933 % \n",
      "\n",
      "Description: gi|1098839281|ref|XM_018970776.1| PREDICTED: Juglans regia cold-regulated 413 plasma membrane protein 2 (LOC108995251), mRNA\n",
      "Score: 430.0\n",
      "E value: 3.55214e-104\n",
      "Percent Id: 74.75083056478405 % \n",
      "\n",
      "Description: gi|985431980|ref|XM_006466626.2| PREDICTED: Citrus sinensis cold-regulated 413 plasma membrane protein 2 (LOC102620025), transcript variant X4, mRNA\n",
      "Score: 412.0\n",
      "E value: 2.73088e-99\n",
      "Percent Id: 74.32885906040269 % \n",
      "\n",
      "Description: gi|985431979|ref|XM_006466624.2| PREDICTED: Citrus sinensis cold-regulated 413 plasma membrane protein 2 (LOC102620025), transcript variant X2, mRNA\n",
      "Score: 412.0\n",
      "E value: 2.73088e-99\n",
      "Percent Id: 74.32885906040269 % \n",
      "\n",
      "Description: gi|985431978|ref|XM_006466623.2| PREDICTED: Citrus sinensis cold-regulated 413 plasma membrane protein 2 (LOC102620025), transcript variant X1, mRNA\n",
      "Score: 412.0\n",
      "E value: 2.73088e-99\n",
      "Percent Id: 74.32885906040269 % \n",
      "\n",
      "Description: gi|568824605|ref|XM_006466625.1| PREDICTED: Citrus sinensis cold-regulated 413 plasma membrane protein 2 (LOC102620025), transcript variant X3, mRNA\n",
      "Score: 412.0\n",
      "E value: 2.73088e-99\n",
      "Percent Id: 74.32885906040269 % \n",
      "\n",
      "Description: gi|567866318|ref|XM_006425719.1| Citrus clementina hypothetical protein (CICLE_v10026511mg) mRNA, complete cds\n",
      "Score: 412.0\n",
      "E value: 2.73088e-99\n",
      "Percent Id: 74.32885906040269 % \n",
      "\n",
      "Description: gi|567866316|ref|XM_006425718.1| Citrus clementina hypothetical protein (CICLE_v10026511mg) mRNA, complete cds\n",
      "Score: 412.0\n",
      "E value: 2.73088e-99\n",
      "Percent Id: 74.32885906040269 % \n",
      "\n",
      "Description: gi|567866314|ref|XM_006425717.1| Citrus clementina hypothetical protein (CICLE_v10026511mg) mRNA, complete cds\n",
      "Score: 412.0\n",
      "E value: 2.73088e-99\n",
      "Percent Id: 74.32885906040269 % \n",
      "\n",
      "Description: gi|567866312|ref|XM_006425716.1| Citrus clementina hypothetical protein (CICLE_v10026511mg) mRNA, complete cds\n",
      "Score: 412.0\n",
      "E value: 2.73088e-99\n",
      "Percent Id: 74.32885906040269 % \n",
      "\n",
      "Description: gi|1063463253|ref|XM_007047033.2| PREDICTED: Theobroma cacao cold-regulated 413 plasma membrane protein 2 (LOC18611025), transcript variant X2, mRNA\n",
      "Score: 400.0\n",
      "E value: 4.93755e-96\n",
      "Percent Id: 74.0495867768595 % \n",
      "\n",
      "Description: gi|1063463252|ref|XM_007047032.2| PREDICTED: Theobroma cacao cold-regulated 413 plasma membrane protein 2 (LOC18611025), transcript variant X1, mRNA\n",
      "Score: 400.0\n",
      "E value: 4.93755e-96\n",
      "Percent Id: 74.0495867768595 % \n",
      "\n",
      "Description: gi|1098846744|ref|XM_018974650.1| PREDICTED: Juglans regia cold-regulated 413 plasma membrane protein 2-like (LOC108998174), mRNA\n",
      "Score: 390.0\n",
      "E value: 2.55771e-93\n",
      "Percent Id: 73.69308600337267 % \n",
      "\n",
      "Description: gi|1079253150|ref|XM_009343631.2| PREDICTED: Pyrus x bretschneideri cold-regulated 413 plasma membrane protein 2-like (LOC103933927), mRNA\n",
      "Score: 378.0\n",
      "E value: 4.62445e-90\n",
      "Percent Id: 74.48405253283302 % \n",
      "\n",
      "Description: gi|1079253149|ref|XM_009343644.2| PREDICTED: Pyrus x bretschneideri cold-regulated 413 plasma membrane protein 2-like (LOC103933943), mRNA\n",
      "Score: 378.0\n",
      "E value: 4.62445e-90\n",
      "Percent Id: 74.48405253283302 % \n",
      "\n",
      "Description: gi|1079239703|ref|XM_009378191.2| PREDICTED: Pyrus x bretschneideri cold-regulated 413 plasma membrane protein 2 (LOC103965177), mRNA\n",
      "Score: 378.0\n",
      "E value: 4.62445e-90\n",
      "Percent Id: 74.48405253283302 % \n",
      "\n",
      "Description: gi|743838297|ref|XM_011027373.1| PREDICTED: Populus euphratica cold-regulated 413 plasma membrane protein 2 (LOC105126500), transcript variant X2, mRNA\n",
      "Score: 376.0\n",
      "E value: 1.61409e-89\n",
      "Percent Id: 73.15436241610739 % \n",
      "\n",
      "Description: gi|743838293|ref|XM_011027372.1| PREDICTED: Populus euphratica cold-regulated 413 plasma membrane protein 2 (LOC105126500), transcript variant X1, mRNA\n",
      "Score: 376.0\n",
      "E value: 1.61409e-89\n",
      "Percent Id: 73.15436241610739 % \n",
      "\n",
      "Description: gi|595807351|ref|XM_007202530.1| Prunus persica hypothetical protein (PRUPE_ppa011608mg) mRNA, complete cds\n",
      "Score: 362.0\n",
      "E value: 1.0186e-85\n",
      "Percent Id: 73.92120075046904 % \n",
      "\n"
     ]
    }
   ],
   "source": [
    "for alignment in blast_record.alignments:\n",
    "    for hsp in alignment.hsps:\n",
    "        print('Description:', alignment.title)\n",
    "        print('Score:', hsp.score)\n",
    "        print('E value:', hsp.expect)\n",
    "        print('Percent Id:', (hsp.identities) / len(hsp.query) * 100, '%', '\\n')"
   ]
  },
  {
   "cell_type": "markdown",
   "metadata": {},
   "source": [
    "Now it's your turn. Using the syntax in the two code cells above, use Biopython to BLAST your group's gene. Change the program to blastp so you can work with the protein sequence. For the sequence argument, you can use either the protein sequence itself or the accession number."
   ]
  },
  {
   "cell_type": "code",
   "execution_count": 4,
   "metadata": {
    "collapsed": false
   },
   "outputs": [],
   "source": [
    "# Put your Blast code here.\n",
    "\n",
    "results = NCBIWWW.qblast(program = \"blastp\", database = \"refseq_protein\", \n",
    "                         sequence = \"NP_000312\", hitlist_size=20) \n",
    "blast_record = NCBIXML.read(results)"
   ]
  },
  {
   "cell_type": "code",
   "execution_count": 5,
   "metadata": {
    "collapsed": false
   },
   "outputs": [
    {
     "name": "stdout",
     "output_type": "stream",
     "text": [
      "Description: gi|108773787|ref|NP_000312.2| retinoblastoma-associated protein [Homo sapiens] >gi|397480396|ref|XP_003811470.1| PREDICTED: retinoblastoma-associated protein [Pan paniscus] >gi|132164|sp|P06400.2|RB_HUMAN RecName: Full=Retinoblastoma-associated protein; AltName: Full=p105-Rb; AltName: Full=pRb; Short=Rb; AltName: Full=pp110 >gi|190946|gb|AAA69806.1| retinoblastoma-associated protein [Homo sapiens] >gi|190963|gb|AAA69808.1| retinoblastoma suceptibility protein [Homo sapiens] >gi|292421|gb|AAA53483.1| retinoblastoma susceptibility protein [Homo sapiens] >gi|521212|gb|AAA53484.1| retinoblastoma susceptibility protein [Homo sapiens] >gi|793995|gb|AAB59465.1| retinoblastoma suspectibility protein [Homo sapiens] >gi|24660140|gb|AAH39060.1| Retinoblastoma 1 [Homo sapiens] >gi|26252120|gb|AAH40540.1| Retinoblastoma 1 [Homo sapiens] >gi|119629198|gb|EAX08793.1| retinoblastoma 1 (including osteosarcoma), isoform CRA_a [Homo sapiens] >gi|119629199|gb|EAX08794.1| retinoblastoma 1 (including osteosarcoma), isoform CRA_a [Homo sapiens] >gi|123981322|gb|ABM82490.1| retinoblastoma 1 (including osteosarcoma) [synthetic construct] >gi|123996153|gb|ABM85678.1| retinoblastoma 1 (including osteosarcoma), partial [synthetic construct] >gi|158255952|dbj|BAF83947.1| unnamed protein product [Homo sapiens] >gi|649120885|gb|AIC55021.1| RB1, partial [synthetic construct]\n",
      "Score: 4974.0\n",
      "E value: 0.0\n",
      "Percent Id: 100.0 % \n",
      "\n",
      "Description: gi|332841285|ref|XP_509777.3| PREDICTED: retinoblastoma-associated protein isoform X1 [Pan troglodytes]\n",
      "Score: 4968.0\n",
      "E value: 0.0\n",
      "Percent Id: 99.89224137931035 % \n",
      "\n",
      "Description: gi|795397652|ref|XP_011754861.1| PREDICTED: retinoblastoma-associated protein isoform X1 [Macaca nemestrina]\n",
      "Score: 4944.0\n",
      "E value: 0.0\n",
      "Percent Id: 99.35344827586206 % \n",
      "\n",
      "Description: gi|386782129|ref|NP_001247976.1| retinoblastoma-associated protein [Macaca mulatta] >gi|544503724|ref|XP_005585892.1| PREDICTED: retinoblastoma-associated protein isoform X1 [Macaca fascicularis]\n",
      "Score: 4943.0\n",
      "E value: 0.0\n",
      "Percent Id: 99.35344827586206 % \n",
      "\n",
      "Description: gi|635025546|ref|XP_007958572.1| PREDICTED: retinoblastoma-associated protein [Chlorocebus sabaeus]\n",
      "Score: 4932.0\n",
      "E value: 0.0\n",
      "Percent Id: 99.24568965517241 % \n",
      "\n",
      "Description: gi|724826957|ref|XP_010362160.1| PREDICTED: retinoblastoma-associated protein [Rhinopithecus roxellana]\n",
      "Score: 4928.0\n",
      "E value: 0.0\n",
      "Percent Id: 99.13885898815931 % \n",
      "\n",
      "Description: gi|795260535|ref|XP_011919704.1| PREDICTED: retinoblastoma-associated protein isoform X1 [Cercocebus atys]\n",
      "Score: 4925.0\n",
      "E value: 0.0\n",
      "Percent Id: 99.24568965517241 % \n",
      "\n",
      "Description: gi|441613864|ref|XP_003270122.2| PREDICTED: LOW QUALITY PROTEIN: retinoblastoma-associated protein [Nomascus leucogenys]\n",
      "Score: 4923.0\n",
      "E value: 0.0\n",
      "Percent Id: 98.92241379310344 % \n",
      "\n",
      "Description: gi|675636793|ref|XP_008990285.1| PREDICTED: retinoblastoma-associated protein [Callithrix jacchus]\n",
      "Score: 4831.0\n",
      "E value: 0.0\n",
      "Percent Id: 97.52155172413794 % \n",
      "\n",
      "Description: gi|817300258|ref|XP_012320574.1| PREDICTED: retinoblastoma-associated protein [Aotus nancymaae]\n",
      "Score: 4823.0\n",
      "E value: 0.0\n",
      "Percent Id: 97.41379310344827 % \n",
      "\n",
      "Description: gi|1044372465|ref|XP_017391445.1| PREDICTED: retinoblastoma-associated protein isoform X1 [Cebus capucinus imitator]\n",
      "Score: 4819.0\n",
      "E value: 0.0\n",
      "Percent Id: 97.30603448275862 % \n",
      "\n",
      "Description: gi|403303288|ref|XP_003942268.1| PREDICTED: retinoblastoma-associated protein [Saimiri boliviensis boliviensis]\n",
      "Score: 4800.0\n",
      "E value: 0.0\n",
      "Percent Id: 96.65948275862068 % \n",
      "\n",
      "Description: gi|402901984|ref|XP_003913911.1| PREDICTED: retinoblastoma-associated protein [Papio anubis]\n",
      "Score: 4785.0\n",
      "E value: 0.0\n",
      "Percent Id: 97.09051724137932 % \n",
      "\n",
      "Description: gi|795260542|ref|XP_011919705.1| PREDICTED: retinoblastoma-associated protein isoform X2 [Cercocebus atys]\n",
      "Score: 4707.0\n",
      "E value: 0.0\n",
      "Percent Id: 98.65470852017937 % \n",
      "\n",
      "Description: gi|1149770640|ref|XP_020145982.1| retinoblastoma-associated protein isoform X2 [Microcebus murinus]\n",
      "Score: 4634.0\n",
      "E value: 0.0\n",
      "Percent Id: 95.57713052858684 % \n",
      "\n",
      "Description: gi|395848164|ref|XP_003796729.1| PREDICTED: retinoblastoma-associated protein [Otolemur garnettii]\n",
      "Score: 4616.0\n",
      "E value: 0.0\n",
      "Percent Id: 95.58189655172413 % \n",
      "\n",
      "Description: gi|667282845|ref|XP_008574909.1| PREDICTED: retinoblastoma-associated protein [Galeopterus variegatus]\n",
      "Score: 4577.0\n",
      "E value: 0.0\n",
      "Percent Id: 94.28879310344827 % \n",
      "\n",
      "Description: gi|759154598|ref|XP_011370336.1| PREDICTED: retinoblastoma-associated protein [Pteropus vampyrus]\n",
      "Score: 4566.0\n",
      "E value: 0.0\n",
      "Percent Id: 93.31896551724138 % \n",
      "\n",
      "Description: gi|586520953|ref|XP_006916505.1| PREDICTED: retinoblastoma-associated protein [Pteropus alecto]\n",
      "Score: 4562.0\n",
      "E value: 0.0\n",
      "Percent Id: 93.31896551724138 % \n",
      "\n",
      "Description: gi|1123986168|ref|XP_019603609.1| PREDICTED: retinoblastoma-associated protein isoform X1 [Rhinolophus sinicus]\n",
      "Score: 4561.0\n",
      "E value: 0.0\n",
      "Percent Id: 93.31175836030205 % \n",
      "\n"
     ]
    }
   ],
   "source": [
    "for alignment in blast_record.alignments:\n",
    "    for hsp in alignment.hsps:\n",
    "        print('Description:', alignment.title)\n",
    "        print('Score:', hsp.score)\n",
    "        print('E value:', hsp.expect)\n",
    "        print('Percent Id:', (hsp.identities) / len(hsp.query) * 100, '%', '\\n')"
   ]
  },
  {
   "cell_type": "markdown",
   "metadata": {},
   "source": [
    "Now repeat the search, but change the substitution matrix to\n",
    "\n",
    "a) BLOSUM45  \n",
    "b) BLOSUM80  \n",
    "c) PAM30  \n",
    "d) PAM70  "
   ]
  },
  {
   "cell_type": "code",
   "execution_count": 6,
   "metadata": {
    "collapsed": false
   },
   "outputs": [],
   "source": [
    "# Put your code for a) here\n",
    "\n",
    "substitutionMatrix = \"BLOSUM45\"\n",
    "gapCosts = \"15 2\"\n",
    "results = NCBIWWW.qblast(program = \"blastp\", database = \"refseq_protein\", \n",
    "                         sequence = \"NP_000312\", hitlist_size=20, \n",
    "                         matrix_name = substitutionMatrix, gapcosts = gapCosts) \n",
    "\n",
    "blast_record = NCBIXML.read(results)"
   ]
  },
  {
   "cell_type": "code",
   "execution_count": 7,
   "metadata": {
    "collapsed": false
   },
   "outputs": [
    {
     "name": "stdout",
     "output_type": "stream",
     "text": [
      "Description: gi|108773787|ref|NP_000312.2| retinoblastoma-associated protein [Homo sapiens] >gi|397480396|ref|XP_003811470.1| PREDICTED: retinoblastoma-associated protein [Pan paniscus] >gi|132164|sp|P06400.2|RB_HUMAN RecName: Full=Retinoblastoma-associated protein; AltName: Full=p105-Rb; AltName: Full=pRb; Short=Rb; AltName: Full=pp110 >gi|190946|gb|AAA69806.1| retinoblastoma-associated protein [Homo sapiens] >gi|190963|gb|AAA69808.1| retinoblastoma suceptibility protein [Homo sapiens] >gi|292421|gb|AAA53483.1| retinoblastoma susceptibility protein [Homo sapiens] >gi|521212|gb|AAA53484.1| retinoblastoma susceptibility protein [Homo sapiens] >gi|793995|gb|AAB59465.1| retinoblastoma suspectibility protein [Homo sapiens] >gi|24660140|gb|AAH39060.1| Retinoblastoma 1 [Homo sapiens] >gi|26252120|gb|AAH40540.1| Retinoblastoma 1 [Homo sapiens] >gi|119629198|gb|EAX08793.1| retinoblastoma 1 (including osteosarcoma), isoform CRA_a [Homo sapiens] >gi|119629199|gb|EAX08794.1| retinoblastoma 1 (including osteosarcoma), isoform CRA_a [Homo sapiens] >gi|123981322|gb|ABM82490.1| retinoblastoma 1 (including osteosarcoma) [synthetic construct] >gi|123996153|gb|ABM85678.1| retinoblastoma 1 (including osteosarcoma), partial [synthetic construct] >gi|158255952|dbj|BAF83947.1| unnamed protein product [Homo sapiens] >gi|649120885|gb|AIC55021.1| RB1, partial [synthetic construct]\n",
      "Score: 6860.0\n",
      "E value: 0.0\n",
      "Percent Id: 100.0 % \n",
      "\n",
      "Description: gi|332841285|ref|XP_509777.3| PREDICTED: retinoblastoma-associated protein isoform X1 [Pan troglodytes]\n",
      "Score: 6853.0\n",
      "E value: 0.0\n",
      "Percent Id: 99.89224137931035 % \n",
      "\n",
      "Description: gi|795397652|ref|XP_011754861.1| PREDICTED: retinoblastoma-associated protein isoform X1 [Macaca nemestrina]\n",
      "Score: 6826.0\n",
      "E value: 0.0\n",
      "Percent Id: 99.35344827586206 % \n",
      "\n",
      "Description: gi|386782129|ref|NP_001247976.1| retinoblastoma-associated protein [Macaca mulatta] >gi|544503724|ref|XP_005585892.1| PREDICTED: retinoblastoma-associated protein isoform X1 [Macaca fascicularis]\n",
      "Score: 6823.0\n",
      "E value: 0.0\n",
      "Percent Id: 99.35344827586206 % \n",
      "\n",
      "Description: gi|635025546|ref|XP_007958572.1| PREDICTED: retinoblastoma-associated protein [Chlorocebus sabaeus]\n",
      "Score: 6813.0\n",
      "E value: 0.0\n",
      "Percent Id: 99.24568965517241 % \n",
      "\n",
      "Description: gi|441613864|ref|XP_003270122.2| PREDICTED: LOW QUALITY PROTEIN: retinoblastoma-associated protein [Nomascus leucogenys]\n",
      "Score: 6803.0\n",
      "E value: 0.0\n",
      "Percent Id: 98.92241379310344 % \n",
      "\n",
      "Description: gi|724826957|ref|XP_010362160.1| PREDICTED: retinoblastoma-associated protein [Rhinopithecus roxellana]\n",
      "Score: 6799.0\n",
      "E value: 0.0\n",
      "Percent Id: 99.13885898815931 % \n",
      "\n",
      "Description: gi|795260535|ref|XP_011919704.1| PREDICTED: retinoblastoma-associated protein isoform X1 [Cercocebus atys]\n",
      "Score: 6791.0\n",
      "E value: 0.0\n",
      "Percent Id: 99.24568965517241 % \n",
      "\n",
      "Description: gi|675636793|ref|XP_008990285.1| PREDICTED: retinoblastoma-associated protein [Callithrix jacchus]\n",
      "Score: 6663.0\n",
      "E value: 0.0\n",
      "Percent Id: 97.52155172413794 % \n",
      "\n",
      "Description: gi|817300258|ref|XP_012320574.1| PREDICTED: retinoblastoma-associated protein [Aotus nancymaae]\n",
      "Score: 6650.0\n",
      "E value: 0.0\n",
      "Percent Id: 97.41379310344827 % \n",
      "\n",
      "Description: gi|1044372465|ref|XP_017391445.1| PREDICTED: retinoblastoma-associated protein isoform X1 [Cebus capucinus imitator]\n",
      "Score: 6648.0\n",
      "E value: 0.0\n",
      "Percent Id: 97.30603448275862 % \n",
      "\n",
      "Description: gi|795260542|ref|XP_011919705.1| PREDICTED: retinoblastoma-associated protein isoform X2 [Cercocebus atys]\n",
      "Score: 6497.0\n",
      "E value: 0.0\n",
      "Percent Id: 98.65470852017937 % \n",
      "\n",
      "Description: gi|403303288|ref|XP_003942268.1| PREDICTED: retinoblastoma-associated protein [Saimiri boliviensis boliviensis]\n",
      "Score: 6432.0\n",
      "E value: 0.0\n",
      "Percent Id: 96.01293103448276 % \n",
      "\n",
      "Description: gi|1149770640|ref|XP_020145982.1| retinoblastoma-associated protein isoform X2 [Microcebus murinus]\n",
      "Score: 6387.0\n",
      "E value: 0.0\n",
      "Percent Id: 95.47413793103449 % \n",
      "\n",
      "Description: gi|395848164|ref|XP_003796729.1| PREDICTED: retinoblastoma-associated protein [Otolemur garnettii]\n",
      "Score: 6365.0\n",
      "E value: 0.0\n",
      "Percent Id: 95.58189655172413 % \n",
      "\n",
      "Description: gi|402901984|ref|XP_003913911.1| PREDICTED: retinoblastoma-associated protein [Papio anubis]\n",
      "Score: 6342.0\n",
      "E value: 0.0\n",
      "Percent Id: 96.44396551724138 % \n",
      "\n",
      "Description: gi|667282845|ref|XP_008574909.1| PREDICTED: retinoblastoma-associated protein [Galeopterus variegatus]\n",
      "Score: 6307.0\n",
      "E value: 0.0\n",
      "Percent Id: 94.28879310344827 % \n",
      "\n",
      "Description: gi|759154598|ref|XP_011370336.1| PREDICTED: retinoblastoma-associated protein [Pteropus vampyrus]\n",
      "Score: 6289.0\n",
      "E value: 0.0\n",
      "Percent Id: 93.31896551724138 % \n",
      "\n",
      "Description: gi|586520953|ref|XP_006916505.1| PREDICTED: retinoblastoma-associated protein [Pteropus alecto]\n",
      "Score: 6289.0\n",
      "E value: 0.0\n",
      "Percent Id: 93.31896551724138 % \n",
      "\n",
      "Description: gi|1123986168|ref|XP_019603609.1| PREDICTED: retinoblastoma-associated protein isoform X1 [Rhinolophus sinicus]\n",
      "Score: 6287.0\n",
      "E value: 0.0\n",
      "Percent Id: 93.31175836030205 % \n",
      "\n"
     ]
    }
   ],
   "source": [
    "for alignment in blast_record.alignments:\n",
    "    for hsp in alignment.hsps:\n",
    "        print('Description:', alignment.title)\n",
    "        print('Score:', hsp.score)\n",
    "        print('E value:', hsp.expect)\n",
    "        print('Percent Id:', (hsp.identities) / len(hsp.query) * 100, '%', '\\n')"
   ]
  },
  {
   "cell_type": "code",
   "execution_count": 8,
   "metadata": {
    "collapsed": false
   },
   "outputs": [],
   "source": [
    "# Put your code for b) here\n",
    "\n",
    "substitutionMatrix = \"BLOSUM80\"\n",
    "gapCosts = \"10 1\"\n",
    "results = NCBIWWW.qblast(program = \"blastp\", database = \"refseq_protein\", \n",
    "                         sequence = \"NP_000312\", hitlist_size=20,\n",
    "                        matrix_name = substitutionMatrix, gapcosts = gapCosts) \n",
    "\n",
    "blast_record = NCBIXML.read(results)"
   ]
  },
  {
   "cell_type": "code",
   "execution_count": 9,
   "metadata": {
    "collapsed": false
   },
   "outputs": [
    {
     "name": "stdout",
     "output_type": "stream",
     "text": [
      "Description: gi|108773787|ref|NP_000312.2| retinoblastoma-associated protein [Homo sapiens] >gi|397480396|ref|XP_003811470.1| PREDICTED: retinoblastoma-associated protein [Pan paniscus] >gi|132164|sp|P06400.2|RB_HUMAN RecName: Full=Retinoblastoma-associated protein; AltName: Full=p105-Rb; AltName: Full=pRb; Short=Rb; AltName: Full=pp110 >gi|190946|gb|AAA69806.1| retinoblastoma-associated protein [Homo sapiens] >gi|190963|gb|AAA69808.1| retinoblastoma suceptibility protein [Homo sapiens] >gi|292421|gb|AAA53483.1| retinoblastoma susceptibility protein [Homo sapiens] >gi|521212|gb|AAA53484.1| retinoblastoma susceptibility protein [Homo sapiens] >gi|793995|gb|AAB59465.1| retinoblastoma suspectibility protein [Homo sapiens] >gi|24660140|gb|AAH39060.1| Retinoblastoma 1 [Homo sapiens] >gi|26252120|gb|AAH40540.1| Retinoblastoma 1 [Homo sapiens] >gi|119629198|gb|EAX08793.1| retinoblastoma 1 (including osteosarcoma), isoform CRA_a [Homo sapiens] >gi|119629199|gb|EAX08794.1| retinoblastoma 1 (including osteosarcoma), isoform CRA_a [Homo sapiens] >gi|123981322|gb|ABM82490.1| retinoblastoma 1 (including osteosarcoma) [synthetic construct] >gi|123996153|gb|ABM85678.1| retinoblastoma 1 (including osteosarcoma), partial [synthetic construct] >gi|158255952|dbj|BAF83947.1| unnamed protein product [Homo sapiens] >gi|649120885|gb|AIC55021.1| RB1, partial [synthetic construct]\n",
      "Score: 4646.0\n",
      "E value: 0.0\n",
      "Percent Id: 100.0 % \n",
      "\n",
      "Description: gi|332841285|ref|XP_509777.3| PREDICTED: retinoblastoma-associated protein isoform X1 [Pan troglodytes]\n",
      "Score: 4642.0\n",
      "E value: 0.0\n",
      "Percent Id: 99.89224137931035 % \n",
      "\n",
      "Description: gi|795397652|ref|XP_011754861.1| PREDICTED: retinoblastoma-associated protein isoform X1 [Macaca nemestrina]\n",
      "Score: 4620.0\n",
      "E value: 0.0\n",
      "Percent Id: 99.35344827586206 % \n",
      "\n",
      "Description: gi|386782129|ref|NP_001247976.1| retinoblastoma-associated protein [Macaca mulatta] >gi|544503724|ref|XP_005585892.1| PREDICTED: retinoblastoma-associated protein isoform X1 [Macaca fascicularis]\n",
      "Score: 4619.0\n",
      "E value: 0.0\n",
      "Percent Id: 99.35344827586206 % \n",
      "\n",
      "Description: gi|635025546|ref|XP_007958572.1| PREDICTED: retinoblastoma-associated protein [Chlorocebus sabaeus]\n",
      "Score: 4614.0\n",
      "E value: 0.0\n",
      "Percent Id: 99.24568965517241 % \n",
      "\n",
      "Description: gi|724826957|ref|XP_010362160.1| PREDICTED: retinoblastoma-associated protein [Rhinopithecus roxellana]\n",
      "Score: 4607.0\n",
      "E value: 0.0\n",
      "Percent Id: 99.13885898815931 % \n",
      "\n",
      "Description: gi|441613864|ref|XP_003270122.2| PREDICTED: LOW QUALITY PROTEIN: retinoblastoma-associated protein [Nomascus leucogenys]\n",
      "Score: 4605.0\n",
      "E value: 0.0\n",
      "Percent Id: 98.92241379310344 % \n",
      "\n",
      "Description: gi|795260535|ref|XP_011919704.1| PREDICTED: retinoblastoma-associated protein isoform X1 [Cercocebus atys]\n",
      "Score: 4603.0\n",
      "E value: 0.0\n",
      "Percent Id: 99.24568965517241 % \n",
      "\n",
      "Description: gi|675636793|ref|XP_008990285.1| PREDICTED: retinoblastoma-associated protein [Callithrix jacchus]\n",
      "Score: 4520.0\n",
      "E value: 0.0\n",
      "Percent Id: 97.52155172413794 % \n",
      "\n",
      "Description: gi|817300258|ref|XP_012320574.1| PREDICTED: retinoblastoma-associated protein [Aotus nancymaae]\n",
      "Score: 4509.0\n",
      "E value: 0.0\n",
      "Percent Id: 97.41379310344827 % \n",
      "\n",
      "Description: gi|1044372465|ref|XP_017391445.1| PREDICTED: retinoblastoma-associated protein isoform X1 [Cebus capucinus imitator]\n",
      "Score: 4508.0\n",
      "E value: 0.0\n",
      "Percent Id: 97.30603448275862 % \n",
      "\n",
      "Description: gi|403303288|ref|XP_003942268.1| PREDICTED: retinoblastoma-associated protein [Saimiri boliviensis boliviensis]\n",
      "Score: 4489.0\n",
      "E value: 0.0\n",
      "Percent Id: 96.65948275862068 % \n",
      "\n",
      "Description: gi|402901984|ref|XP_003913911.1| PREDICTED: retinoblastoma-associated protein [Papio anubis]\n",
      "Score: 4475.0\n",
      "E value: 0.0\n",
      "Percent Id: 97.09051724137932 % \n",
      "\n",
      "Description: gi|795260542|ref|XP_011919705.1| PREDICTED: retinoblastoma-associated protein isoform X2 [Cercocebus atys]\n",
      "Score: 4403.0\n",
      "E value: 0.0\n",
      "Percent Id: 98.65470852017937 % \n",
      "\n",
      "Description: gi|1149770640|ref|XP_020145982.1| retinoblastoma-associated protein isoform X2 [Microcebus murinus]\n",
      "Score: 4330.0\n",
      "E value: 0.0\n",
      "Percent Id: 95.57713052858684 % \n",
      "\n",
      "Description: gi|395848164|ref|XP_003796729.1| PREDICTED: retinoblastoma-associated protein [Otolemur garnettii]\n",
      "Score: 4312.0\n",
      "E value: 0.0\n",
      "Percent Id: 95.58189655172413 % \n",
      "\n",
      "Description: gi|667282845|ref|XP_008574909.1| PREDICTED: retinoblastoma-associated protein [Galeopterus variegatus]\n",
      "Score: 4278.0\n",
      "E value: 0.0\n",
      "Percent Id: 94.28879310344827 % \n",
      "\n",
      "Description: gi|759154598|ref|XP_011370336.1| PREDICTED: retinoblastoma-associated protein [Pteropus vampyrus]\n",
      "Score: 4269.0\n",
      "E value: 0.0\n",
      "Percent Id: 93.31896551724138 % \n",
      "\n",
      "Description: gi|1123986168|ref|XP_019603609.1| PREDICTED: retinoblastoma-associated protein isoform X1 [Rhinolophus sinicus]\n",
      "Score: 4268.0\n",
      "E value: 0.0\n",
      "Percent Id: 93.31175836030205 % \n",
      "\n",
      "Description: gi|852726947|ref|XP_012864764.1| PREDICTED: retinoblastoma-associated protein isoform X1 [Dipodomys ordii]\n",
      "Score: 4266.0\n",
      "E value: 0.0\n",
      "Percent Id: 92.78017241379311 % \n",
      "\n"
     ]
    }
   ],
   "source": [
    "for alignment in blast_record.alignments:\n",
    "    for hsp in alignment.hsps:\n",
    "        print('Description:', alignment.title)\n",
    "        print('Score:', hsp.score)\n",
    "        print('E value:', hsp.expect)\n",
    "        print('Percent Id:', (hsp.identities) / len(hsp.query) * 100, '%', '\\n')"
   ]
  },
  {
   "cell_type": "code",
   "execution_count": 10,
   "metadata": {
    "collapsed": false
   },
   "outputs": [],
   "source": [
    "# Put your code for c) here\n",
    "\n",
    "substitutionMatrix = \"PAM30\"\n",
    "gapCosts = \"9 1\"\n",
    "results = NCBIWWW.qblast(program = \"blastp\", database = \"refseq_protein\", \n",
    "                         sequence = \"NP_000312\", hitlist_size=20,\n",
    "                        matrix_name = substitutionMatrix, gapcosts = gapCosts) \n",
    "\n",
    "blast_record = NCBIXML.read(results)"
   ]
  },
  {
   "cell_type": "code",
   "execution_count": 11,
   "metadata": {
    "collapsed": false
   },
   "outputs": [
    {
     "name": "stdout",
     "output_type": "stream",
     "text": [
      "Score: 4692.0\n",
      "E value: 0.0\n",
      "Percent Id: 100.0 % \n",
      "\n",
      "Score: 4687.0\n",
      "E value: 0.0\n",
      "Percent Id: 99.89224137931035 % \n",
      "\n",
      "Score: 4668.0\n",
      "E value: 0.0\n",
      "Percent Id: 99.35344827586206 % \n",
      "\n",
      "Score: 4666.0\n",
      "E value: 0.0\n",
      "Percent Id: 99.35344827586206 % \n",
      "\n",
      "Score: 4661.0\n",
      "E value: 0.0\n",
      "Percent Id: 99.24568965517241 % \n",
      "\n",
      "Score: 4653.0\n",
      "E value: 0.0\n",
      "Percent Id: 99.13885898815931 % \n",
      "\n",
      "Score: 4652.0\n",
      "E value: 0.0\n",
      "Percent Id: 99.24568965517241 % \n",
      "\n",
      "Score: 4647.0\n",
      "E value: 0.0\n",
      "Percent Id: 98.92241379310344 % \n",
      "\n",
      "Score: 4580.0\n",
      "E value: 0.0\n",
      "Percent Id: 97.52155172413794 % \n",
      "\n",
      "Score: 4567.0\n",
      "E value: 0.0\n",
      "Percent Id: 97.41379310344827 % \n",
      "\n",
      "Score: 4565.0\n",
      "E value: 0.0\n",
      "Percent Id: 97.30603448275862 % \n",
      "\n",
      "Score: 4547.0\n",
      "E value: 0.0\n",
      "Percent Id: 96.65948275862068 % \n",
      "\n",
      "Score: 4524.0\n",
      "E value: 0.0\n",
      "Percent Id: 97.09051724137932 % \n",
      "\n",
      "Score: 4446.0\n",
      "E value: 0.0\n",
      "Percent Id: 99.3212669683258 % \n",
      "\n",
      "Score: 4394.0\n",
      "E value: 0.0\n",
      "Percent Id: 95.47413793103449 % \n",
      "\n",
      "Score: 4377.0\n",
      "E value: 0.0\n",
      "Percent Id: 95.36637931034483 % \n",
      "\n",
      "Score: 4346.0\n",
      "E value: 0.0\n",
      "Percent Id: 93.31896551724138 % \n",
      "\n",
      "Score: 4345.0\n",
      "E value: 0.0\n",
      "Percent Id: 93.31896551724138 % \n",
      "\n",
      "Score: 4344.0\n",
      "E value: 0.0\n",
      "Percent Id: 93.96551724137932 % \n",
      "\n",
      "Score: 4334.0\n",
      "E value: 0.0\n",
      "Percent Id: 93.21120689655173 % \n",
      "\n"
     ]
    }
   ],
   "source": [
    "for alignment in blast_record.alignments:\n",
    "    for hsp in alignment.hsps:\n",
    "        #print 'Description:', alignment.title\n",
    "        print('Score:', hsp.score)\n",
    "        print('E value:', hsp.expect)\n",
    "        print('Percent Id:', (hsp.identities) / len(hsp.query) * 100, '%', '\\n')"
   ]
  },
  {
   "cell_type": "code",
   "execution_count": 12,
   "metadata": {
    "collapsed": false
   },
   "outputs": [],
   "source": [
    "# Put your code for d) here\n",
    "\n",
    "substitutionMatrix = \"PAM70\"\n",
    "gapCosts = \"10 1\"\n",
    "results = NCBIWWW.qblast(program = \"blastp\", database = \"refseq_protein\", \n",
    "                         sequence = \"NP_000312\", hitlist_size=20,\n",
    "                        matrix_name = substitutionMatrix, gapcosts = gapCosts) \n",
    "\n",
    "blast_record = NCBIXML.read(results)"
   ]
  },
  {
   "cell_type": "code",
   "execution_count": null,
   "metadata": {
    "collapsed": false
   },
   "outputs": [
    {
     "name": "stdout",
     "output_type": "stream",
     "text": [
      "Score: 4614.0\n",
      "E value: 0.0\n",
      "Percent Id: 100.0 % \n",
      "\n",
      "Score: 4608.0\n",
      "E value: 0.0\n",
      "Percent Id: 99.89224137931035 % \n",
      "\n",
      "Score: 4591.0\n",
      "E value: 0.0\n",
      "Percent Id: 99.35344827586206 % \n",
      "\n",
      "Score: 4587.0\n",
      "E value: 0.0\n",
      "Percent Id: 99.35344827586206 % \n",
      "\n",
      "Score: 4584.0\n",
      "E value: 0.0\n",
      "Percent Id: 99.24568965517241 % \n",
      "\n",
      "Score: 4578.0\n",
      "E value: 0.0\n",
      "Percent Id: 99.13885898815931 % \n",
      "\n",
      "Score: 4573.0\n",
      "E value: 0.0\n",
      "Percent Id: 99.24568965517241 % \n",
      "\n",
      "Score: 4571.0\n",
      "E value: 0.0\n",
      "Percent Id: 98.92241379310344 % \n",
      "\n",
      "Score: 4505.0\n",
      "E value: 0.0\n",
      "Percent Id: 97.52155172413794 % \n",
      "\n",
      "Score: 4490.0\n",
      "E value: 0.0\n",
      "Percent Id: 97.41379310344827 % \n",
      "\n",
      "Score: 4486.0\n",
      "E value: 0.0\n",
      "Percent Id: 97.30603448275862 % \n",
      "\n",
      "Score: 4472.0\n",
      "E value: 0.0\n",
      "Percent Id: 96.65948275862068 % \n",
      "\n",
      "Score: 4441.0\n",
      "E value: 0.0\n",
      "Percent Id: 96.98275862068965 % \n",
      "\n",
      "Score: 4373.0\n",
      "E value: 0.0\n",
      "Percent Id: 99.3212669683258 % \n",
      "\n",
      "Score: 4329.0\n",
      "E value: 0.0\n",
      "Percent Id: 95.47413793103449 % \n",
      "\n",
      "Score: 4313.0\n",
      "E value: 0.0\n",
      "Percent Id: 95.36637931034483 % \n",
      "\n",
      "Score: 4283.0\n",
      "E value: 0.0\n",
      "Percent Id: 93.96551724137932 % \n",
      "\n",
      "Score: 4282.0\n",
      "E value: 0.0\n",
      "Percent Id: 93.31896551724138 % \n",
      "\n",
      "Score: 4280.0\n",
      "E value: 0.0\n",
      "Percent Id: 93.31896551724138 % \n",
      "\n",
      "Score: 4268.0\n",
      "E value: 0.0\n",
      "Percent Id: 93.21120689655173 % \n",
      "\n"
     ]
    }
   ],
   "source": [
    "for alignment in blast_record.alignments:\n",
    "    for hsp in alignment.hsps:\n",
    "        #print 'Description:', alignment.title\n",
    "        print('Score:', hsp.score)\n",
    "        print('E value:', hsp.expect)\n",
    "        print('Percent Id:', (hsp.identities) / len(hsp.query) * 100, '%', '\\n')"
   ]
  },
  {
   "cell_type": "markdown",
   "metadata": {},
   "source": [
    "#### Q2: For each search, explain how changing the substitution matrix altered your results. Which search is the most sensitive, and which is the least sensitive? (If necessary, you can increase the maximum number of results to get a better idea of how different scoring matrices affect your results.)"
   ]
  },
  {
   "cell_type": "raw",
   "metadata": {},
   "source": [
    "BLOSUM80 is more sensitive than BLOSUM45 and is used to find more related proteins, while BLOSUM45 is used to find more distantly related proteins.\n",
    "\n",
    "\n",
    "PAM30 suggests that 30/100 amino acid changed; captures a shorter evolutionary span and fairfly intolerant of evolution. The lower the PAM number the more sensitive. \n",
    "PAM70 covers a more distant evolution span and is more tolerant of distant evolution that PAM 30.\n",
    "\n",
    "as word size gets smaller --> more sensitive. We can see more homologous sequences. "
   ]
  },
  {
   "cell_type": "markdown",
   "metadata": {},
   "source": [
    "Look up the mRNA sequence for your protein, and use it to do a blastn search."
   ]
  },
  {
   "cell_type": "code",
   "execution_count": null,
   "metadata": {
    "collapsed": false
   },
   "outputs": [],
   "source": [
    "# Put your blastn code here\n",
    "\n",
    "results = NCBIWWW.qblast(program = \"blastn\", database = \"refseq_rna\", \n",
    "                         sequence = \"NM_000321.2\", hitlist_size=20) \n",
    "\n",
    "blast_record = NCBIXML.read(results)"
   ]
  },
  {
   "cell_type": "code",
   "execution_count": null,
   "metadata": {
    "collapsed": false
   },
   "outputs": [],
   "source": [
    "for alignment in blast_record.alignments:\n",
    "    for hsp in alignment.hsps:\n",
    "        print('Description:', alignment.title\n",
    "        print('Score:', hsp.score\n",
    "        print('E value:', (hsp.expect*1))\n",
    "        print('Percent Id:', (hsp.identities) / len(hsp.query) * 100, '%', '\\n')"
   ]
  },
  {
   "cell_type": "markdown",
   "metadata": {},
   "source": [
    "#### Q3:  a) How do the results compare to the results you obtained from blastp? b) Is blastn better suited to finding closely related genes or distantly related ones?"
   ]
  },
  {
   "cell_type": "raw",
   "metadata": {},
   "source": [
    "blastp uses a matrix algorithm (BLOSUM80 or BLOSUM45) to search a protein database using an inputed protein query. \n",
    "\n",
    "In order to find more closely related genes in blastn a bigger word size should be used --> less sensitive. more identity, closer homologous."
   ]
  },
  {
   "cell_type": "markdown",
   "metadata": {},
   "source": [
    "Change the search program to megablast and run another search using your mRNA sequence. (Note: to do this, set the BLAST program to **blastn** and set the megablast parameter to **TRUE**."
   ]
  },
  {
   "cell_type": "code",
   "execution_count": null,
   "metadata": {
    "collapsed": false
   },
   "outputs": [],
   "source": [
    "# Put your megablast code here\n",
    "\n",
    "results = NCBIWWW.qblast(program = \"blastn\", database = \"refseq_rna\", \n",
    "                         sequence = \"NM_000321\", hitlist_size=20,\n",
    "                        megablast = \"TRUE\") \n",
    "\n",
    "blast_record = NCBIXML.read(results)"
   ]
  },
  {
   "cell_type": "code",
   "execution_count": null,
   "metadata": {
    "collapsed": false
   },
   "outputs": [],
   "source": [
    "for alignment in blast_record.alignments:\n",
    "    for hsp in alignment.hsps:\n",
    "        print('Description:', alignment.title)\n",
    "        print('Score:', hsp.score)\n",
    "        print('E value:', hsp.expect)\n",
    "        print('Percent Id:', (hsp.identities) / len(hsp.query) * 100, '%', '\\n')"
   ]
  },
  {
   "cell_type": "markdown",
   "metadata": {},
   "source": [
    "#### Q4: What do you notice about your megablast results compared to blastn? What happens if you change the word size to 128 or 256? What if you change it to 16?"
   ]
  },
  {
   "cell_type": "raw",
   "metadata": {},
   "source": [
    "megablast has a bigger word size --> less sensitive. more identity, closer homologous. If we change the word size from 128 --> 256, the bigger word size would bring about more identity, closer homologous. "
   ]
  },
  {
   "cell_type": "markdown",
   "metadata": {},
   "source": [
    "Predict what will happen to your results if you run your search again using one of the following programs: blastx, tblastn, or tblastx."
   ]
  },
  {
   "cell_type": "markdown",
   "metadata": {},
   "source": [
    "#### Q5: Which program did you choose, and what is your prediction for that program? How do you think the sensitivity of this search will compare to the sensitivity of your other searches? Justify your prediction."
   ]
  },
  {
   "cell_type": "raw",
   "metadata": {},
   "source": [
    "tblastn is more sensitive than blastn. But tblastx is more sensitive than tblastn. \n",
    "\n",
    "blastn < tblastn < tblastx\n",
    "\n",
    "However the rate of false positives can be high in tblastx, thereby decreasing the sensitivity."
   ]
  },
  {
   "cell_type": "markdown",
   "metadata": {},
   "source": [
    "Now that you know more about how BLAST works, design a search that will be best suited to finding sequences that are close relatives of your protein. To confirm that your search is optimized for closely related sequences, note the E-value of the most distant hit."
   ]
  },
  {
   "cell_type": "code",
   "execution_count": null,
   "metadata": {
    "collapsed": false
   },
   "outputs": [],
   "source": [
    "# Put your closely-related sequence code here.\n",
    "\n",
    "substitutionMatrix = \"BLOSUM80\"\n",
    "gapCosts = \"10 1\"\n",
    "results = NCBIWWW.qblast(program = \"blastp\", database = \"refseq_protein\", \n",
    "                         sequence = \"NP_000312\", hitlist_size=20,\n",
    "                        matrix_name = substitutionMatrix, gapcosts = gapCosts) \n",
    "\n",
    "blast_record = NCBIXML.read(results)\n",
    "\n",
    "for alignment in blast_record.alignments:\n",
    "    for hsp in alignment.hsps:\n",
    "        print('Description:', alignment.title)\n",
    "        print('Score:', hsp.score)\n",
    "        print('E value:', hsp.expect)\n",
    "        print('Percent Id:', (hsp.identities) / len(hsp.query) * 100, '%', '\\n')"
   ]
  },
  {
   "cell_type": "markdown",
   "metadata": {},
   "source": [
    "#### E value of most distant hit:"
   ]
  },
  {
   "cell_type": "raw",
   "metadata": {},
   "source": [
    "\n",
    "Description: gi|478518982|ref|XP_004433715.1| PREDICTED: retinoblastoma-associated protein isoform X2 [Ceratotherium simum simum]\n",
    "Score: 4263.0\n",
    "E value: 0.0\n",
    "Percent Id: 94.3965517241 % \n",
    "\n",
    "BLOSUM80 is more sensitive than BLOSUM45 and is used to find more related proteins, while BLOSUM45 is used to find more distantly related proteins.\n",
    "\n",
    "In this BLOSUM80 trial, my most distant hit (PREDICTED: retinoblastoma-associated protein isoform X2 [Ceratotherium simum simum]), recorded an e-value extremely close to zero. BLOSUM80 is used to find closely related proteins. The small value of this e-value suggests that the homolog is indeed closely related to our protein of interest. The fact that both proteins are both retinoblastoma-associated proteins, makes this blast hit a true positive.\n",
    "\n"
   ]
  },
  {
   "cell_type": "markdown",
   "metadata": {},
   "source": [
    "Next, design a search that will find distant hits for your protein."
   ]
  },
  {
   "cell_type": "code",
   "execution_count": null,
   "metadata": {
    "collapsed": false
   },
   "outputs": [],
   "source": [
    "# Put your distantly-related sequence code here.\n",
    "\n",
    "substitutionMatrix = \"BLOSUM45\"\n",
    "gapCosts = \"15 2\"\n",
    "results = NCBIWWW.qblast(program = \"blastp\", database = \"refseq_protein\", \n",
    "                         sequence = \"NP_000312\", hitlist_size=20, \n",
    "                         matrix_name = substitutionMatrix, gapcosts = gapCosts) \n",
    "\n",
    "blast_record = NCBIXML.read(results)\n",
    "\n",
    "for alignment in blast_record.alignments:\n",
    "    for hsp in alignment.hsps:\n",
    "        print('Description:', alignment.title)\n",
    "        print('Score:', hsp.score)\n",
    "        print('E value:', hsp.expect)\n",
    "        print('Percent Id:', (hsp.identities) / len(hsp.query) * 100, '%', '\\n')"
   ]
  },
  {
   "cell_type": "markdown",
   "metadata": {},
   "source": [
    "#### E value of most distant hit:"
   ]
  },
  {
   "cell_type": "raw",
   "metadata": {},
   "source": [
    "Description: gi|852726947|ref|XP_012864764.1| PREDICTED: retinoblastoma-associated protein isoform X1 [Dipodomys ordii]\n",
    "Score: 6278.0\n",
    "E value: 0.0\n",
    "Percent Id: 92.7801724138 % \n",
    "\n",
    "In this trial BLOSUM45 and is used to find more distantly related proteins, while BLOSUM45 is used to find more distantly related proteins.\n",
    "\n",
    "The most distant hit (PREDICTED: PREDICTED: retinoblastoma-associated protein isoform X1 [Dipodomys ordii], recorded an e-value that is also extremely close to zero. BLOSUM45 is used to find distantly related proteins. The small value of this e-value suggests that the homolog is indeed closely related to our protein of interest. In should be noted however, that we were trying to find more distantly related proteins (expecting a higher E-value). The fact that the e-value of the most distant protein in our hit list was so low (close to zero), suggests the conservation of this protein across many evolutionary lineages. "
   ]
  },
  {
   "cell_type": "markdown",
   "metadata": {},
   "source": [
    "#### Q6: What is the most distant hit of this search, and do you think it is really homologous to your protein? Why or why not?"
   ]
  },
  {
   "cell_type": "raw",
   "metadata": {},
   "source": [
    "The most distant hit in both searches was:\n",
    "\n",
    "Description: gi|852726947|ref|XP_012864764.1| PREDICTED: retinoblastoma-associated protein isoform X1 [Dipodomys ordii]\n",
    "Score: 6278.0\n",
    "E value: 0.0\n",
    "Percent Id: 92.7801724138 % \n",
    "\n",
    "The original protein of interested (provided by the professor) was: retinoblastoma-associated protein [Homo sapiens]. This protein is a negative regulator of call cycle and a tumor repressor gene. The fact that the protein in our hit list and the original protein of interest (provided by the professor) are both retinoblastoma-associated proteins, it makes sense that they are true-positive, homologs. "
   ]
  },
  {
   "cell_type": "markdown",
   "metadata": {},
   "source": [
    "## Part 2"
   ]
  },
  {
   "cell_type": "markdown",
   "metadata": {},
   "source": [
    "For Part 2 of this exercise, we won't be using Biopython. Instead, we'll go to [NCBI's web BLAST tool](http://www.ncbi.nlm.nih.gov/BLAST/Blast.cgi) and do some pairwise alignments (see handout). Save your answers in a text file."
   ]
  }
 ],
 "metadata": {
  "anaconda-cloud": {},
  "kernelspec": {
   "display_name": "Python [conda root]",
   "language": "python",
   "name": "conda-root-py"
  },
  "language_info": {
   "codemirror_mode": {
    "name": "ipython",
    "version": 3
   },
   "file_extension": ".py",
   "mimetype": "text/x-python",
   "name": "python",
   "nbconvert_exporter": "python",
   "pygments_lexer": "ipython3",
   "version": "3.5.2"
  }
 },
 "nbformat": 4,
 "nbformat_minor": 0
}
