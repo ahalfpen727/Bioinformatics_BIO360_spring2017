{
 "cells": [
  {
   "cell_type": "markdown",
   "metadata": {},
   "source": [
    "## Lab 7: Sequence Characteristics, Part 2"
   ]
  },
  {
   "cell_type": "markdown",
   "metadata": {},
   "source": [
    "##### Q0: What's your name?"
   ]
  },
  {
   "cell_type": "raw",
   "metadata": {},
   "source": [
    "Answer key"
   ]
  },
  {
   "cell_type": "markdown",
   "metadata": {
    "slideshow": {
     "slide_type": "-"
    }
   },
   "source": [
    "### Predict characteristics of your protein"
   ]
  },
  {
   "cell_type": "markdown",
   "metadata": {},
   "source": [
    "* Retrieve a protein sequence from NCBI\n",
    "\n",
    "* Retrieve some of the properties of the sequence: molecular weight, aromaticity, isoelectric point, structure instability.\n",
    "\n",
    "* Plot proportion of amino acids, flexibility and hydrophobicity\n"
   ]
  },
  {
   "cell_type": "code",
   "execution_count": 1,
   "metadata": {
    "collapsed": false
   },
   "outputs": [],
   "source": [
    "from Bio import Entrez # we'll import a set of code written for common biological applications\n",
    "from Bio import SeqIO"
   ]
  },
  {
   "cell_type": "code",
   "execution_count": 2,
   "metadata": {
    "collapsed": false
   },
   "outputs": [],
   "source": [
    "prot_id = \"NP_000116\" #the accession number of our protein of interest"
   ]
  },
  {
   "cell_type": "code",
   "execution_count": 3,
   "metadata": {
    "collapsed": false
   },
   "outputs": [],
   "source": [
    "Entrez.email = \"\" # let NCBI know who you are\n",
    "handle = Entrez.efetch(db=\"protein\", rettype=\"gb\", retmode=\"text\", id=prot_id) # db = database to query, rettype = retrieval type, retmode = retrieval mode \n",
    "seq_record = SeqIO.read(handle, \"gb\") # read the contents \"fetched\" from NCBI\n",
    "handle.close()"
   ]
  },
  {
   "cell_type": "code",
   "execution_count": 4,
   "metadata": {
    "collapsed": false
   },
   "outputs": [
    {
     "name": "stdout",
     "output_type": "stream",
     "text": [
      "estrogen receptor isoform 1 [Homo sapiens]. \n",
      "\n",
      "MTMTLHTKASGMALLHQIQGNELEPLNRPQLKIPLERPLGEVYLDSSKPAVYNYPEGAAYEFNAAAAANAQVYGQTGLPYGPGSEAAAFGSNGLGGFPPLNSVSPSPLMLLHPPPQLSPFLQPHGQQVPYYLENEPSGYTVREAGPPAFYRPNSDNRRQGGRERLASTNDKGSMAMESAKETRYCAVCNDYASGYHYGVWSCEGCKAFFKRSIQGHNDYMCPATNQCTIDKNRRKSCQACRLRKCYEVGMMKGGIRKDRRGGRMLKHKRQRDDGEGRGEVGSAGDMRAANLWPSPLMIKRSKKNSLALSLTADQMVSALLDAEPPILYSEYDPTRPFSEASMMGLLTNLADRELVHMINWAKRVPGFVDLTLHDQVHLLECAWLEILMIGLVWRSMEHPGKLLFAPNLLLDRNQGKCVEGMVEIFDMLLATSSRFRMMNLQGEEFVCLKSIILLNSGVYTFLSSTLKSLEEKDHIHRVLDKITDTLIHLMAKAGLTLQQQHQRLAQLLLILSHIRHMSNKGMEHLYSMKCKNVVPLYDLLLEMLDAHRLHAPTSRGGASVEETDQSHLATAGSTSSHSLQKYYITGEAEGFPATV \n",
      "\n",
      "length = 595\n"
     ]
    }
   ],
   "source": [
    "protdes = seq_record.description # assign the protein's description to protdes\n",
    "#print the protein  description\n",
    "print(protdes,\"\\n\")\n",
    "\n",
    "protseq = seq_record.seq # pull out the sequence associated with this record\n",
    "#print the amino acid sequence\n",
    "print(protseq, \"\\n\")\n",
    "\n",
    "#print the number of amino acids in the sequence\n",
    "print(\"length =\", len(protseq))"
   ]
  },
  {
   "cell_type": "markdown",
   "metadata": {},
   "source": [
    "Biopython's SeqUtils module contains functions for estimating properties of your protein.   \n",
    "You can find more information on the class ProteinAnalysis here:  \n",
    "http://biopython.org/DIST/docs/api/Bio.SeqUtils.ProtParam.ProteinAnalysis-class.html. \n",
    "\n",
    "Only run the following code cell, nothing needs to be added."
   ]
  },
  {
   "cell_type": "code",
   "execution_count": 5,
   "metadata": {
    "collapsed": false
   },
   "outputs": [
    {
     "name": "stdout",
     "output_type": "stream",
     "text": [
      "The predicted molecular weight of NP_000116 is 66215.3171000002 Daltons\n",
      "The relative frequency of phenylalanine, tryptophan, and tyrosine (\"aromaticity\") in NP_000116 is 0.0722689075630252\n",
      "The predicted isoelectric point of NP_000116 is 8.29595947265625\n",
      "The instability index of NP_000116 is 45.88405042016814\n",
      "26.9 % of amino acids in NP_000116 tend to form helices.\n",
      "25.5 % of amino acids in NP_000116 tend to form turns.\n",
      "30.8 % of amino acids in NP_000116 tend to form sheets.\n"
     ]
    }
   ],
   "source": [
    "from Bio.SeqUtils.ProtParam import ProteinAnalysis\n",
    "from Bio.SeqUtils import ProtParamData\n",
    "from Bio import SeqIO\n",
    "\n",
    "prot = ProteinAnalysis(str(protseq))\n",
    "\n",
    "print(\"The predicted molecular weight of\", prot_id, \"is\", prot.molecular_weight(), \"Daltons\") # molecular weight of your protein in Daltons\n",
    "print(\"The relative frequency of phenylalanine, tryptophan, and tyrosine (\\\"aromaticity\\\") in\", prot_id, \"is\", prot.aromaticity()) # the relative frequency of Phe+Trp+Tyr\n",
    "print(\"The predicted isoelectric point of\", prot_id, \"is\", prot.isoelectric_point()) # the pH at which the protein has no net charge\n",
    "print(\"The instability index of\", prot_id, \"is\", prot.instability_index())  # predicts the instability of the protein, values over 40 suggest an unstable structure \n",
    "\n",
    "print(round(prot.secondary_structure_fraction()[0]*100, 1), \"% of amino acids in\", prot_id, \"tend to form helices.\") # returns a tuple of the fraction of amino acids which tend to form helixes, turns or sheets.\n",
    "print(round(prot.secondary_structure_fraction()[1]*100, 1), \"% of amino acids in\", prot_id, \"tend to form turns.\")\n",
    "print(round(prot.secondary_structure_fraction()[2]*100, 1), \"% of amino acids in\", prot_id, \"tend to form sheets.\") "
   ]
  },
  {
   "cell_type": "markdown",
   "metadata": {},
   "source": [
    "Display the data type for the object prot"
   ]
  },
  {
   "cell_type": "code",
   "execution_count": 6,
   "metadata": {
    "collapsed": false
   },
   "outputs": [
    {
     "data": {
      "text/plain": [
       "Bio.SeqUtils.ProtParam.ProteinAnalysis"
      ]
     },
     "execution_count": 6,
     "metadata": {},
     "output_type": "execute_result"
    }
   ],
   "source": [
    "type(prot)"
   ]
  },
  {
   "cell_type": "markdown",
   "metadata": {},
   "source": [
    "#### Q6: Briefly discuss the relevance of the above characteristics to the biology of your protein."
   ]
  },
  {
   "cell_type": "raw",
   "metadata": {},
   "source": [
    "It seems that the relevance of the above characteristicare uniforms becasue are all about 30 %. "
   ]
  },
  {
   "cell_type": "markdown",
   "metadata": {},
   "source": [
    "Q7: If the amino acids were evenly distributed in your protein, code to express aromaticity of your protein sequence in counts of amino acids Phe,Trp,Tyr, not in percentage as done in method aromaticity( )."
   ]
  },
  {
   "cell_type": "code",
   "execution_count": 7,
   "metadata": {
    "collapsed": false
   },
   "outputs": [
    {
     "name": "stdout",
     "output_type": "stream",
     "text": [
      "42.99999999999999\n"
     ]
    }
   ],
   "source": [
    "#the aromtic amino acids are the Phe, Trp, Tyr. They are evenly distributed. \n",
    "print(len(protseq)* (prot.aromaticity()))"
   ]
  },
  {
   "cell_type": "markdown",
   "metadata": {},
   "source": [
    "Next generate a graph, with the number of times each amino acid occurs displayed as a percentage of your protein's overall length. \n",
    "\n",
    "Only run the following code cell, nothing needs to be added. Read through and make sure you understand what is happening at each step."
   ]
  },
  {
   "cell_type": "code",
   "execution_count": 8,
   "metadata": {
    "collapsed": false
   },
   "outputs": [
    {
     "name": "stdout",
     "output_type": "stream",
     "text": [
      "Populating the interactive namespace from numpy and matplotlib\n"
     ]
    },
    {
     "data": {
      "image/png": "[encoded data removed]",
      "text/plain": [
       "<matplotlib.figure.Figure at 0x55ac358>"
      ]
     },
     "metadata": {},
     "output_type": "display_data"
    }
   ],
   "source": [
    "import matplotlib.pyplot as plt # import a set of code written for generating graphics and tell the computer how to display graphs\n",
    "%pylab inline\n",
    "\n",
    "percaa = prot.get_amino_acids_percent() # returns a dictionary of the number of times each aa occurs in your protein sequence\n",
    "amino_a = arange(20) # the x-axis has twenty positions, one for each of the 20 amino acids\n",
    "bar(amino_a, percaa.values()) # chart will be a bar chart, containing amino acids on the x-axis and count as percent of length of the sequence on the y-axis\n",
    "xticks(amino_a + 0.5, percaa.keys()) # label the x-axis with the amino acids in the same order as in the counts list\n",
    "title(\"Amino acid composition of \" + prot_id) #add a title to the graph\n",
    "ylabel(\"Proportion\") #label the y-axis\n",
    "show()"
   ]
  },
  {
   "cell_type": "markdown",
   "metadata": {},
   "source": [
    "#### Q8: Based on the graph you've generated, do the amino acids appear with equal frequency within your protein? What type of amino acids appear over or under represented?"
   ]
  },
  {
   "cell_type": "raw",
   "metadata": {},
   "source": [
    "No, the amino acids don't appear to be with equal frequency within the protein. \n",
    "the amino acids over represented are L, A and G. \n",
    "the amino acids appear to be undereprersented are W, Cand F."
   ]
  },
  {
   "cell_type": "markdown",
   "metadata": {},
   "source": [
    "Next generate a graph, with the predicted flexibility values plotted over the length of your protein sequence. Regions with a flexibility index less than 1 are classified as rigid.\n",
    "\n",
    "Only run the following code cell, nothing needs to be added. Read through and make sure you understand what is happening at each step."
   ]
  },
  {
   "cell_type": "code",
   "execution_count": 9,
   "metadata": {
    "collapsed": false
   },
   "outputs": [
    {
     "name": "stdout",
     "output_type": "stream",
     "text": [
      "Populating the interactive namespace from numpy and matplotlib\n"
     ]
    },
    {
     "data": {
      "image/png": "[encoded data removed]",
      "text/plain": [
       "<matplotlib.figure.Figure at 0x8490cc0>"
      ]
     },
     "metadata": {},
     "output_type": "display_data"
    }
   ],
   "source": [
    "import matplotlib.pyplot as plt # import a set of code written for generating graphics and tell the computer how to display graphs\n",
    "%pylab inline\n",
    "\n",
    "flex = prot.flexibility()\n",
    "\n",
    "plt.plot(flex) # plot the flexibility values\n",
    "plt.axhline(0, color='black') # forces the y-axis to start at 0\n",
    "plt.ylabel(\"flexibility value\") # label the y-axis\n",
    "plt.xlabel(\"amino acid position\") # label the x-axis\n",
    "plt.title(\"Predicted flexibility of  \" + prot_id) # add a title\n",
    "plt.show()"
   ]
  },
  {
   "cell_type": "markdown",
   "metadata": {},
   "source": [
    "#### Q9: Do the predicted flexibility scores differ over the length of your protein?"
   ]
  },
  {
   "cell_type": "raw",
   "metadata": {},
   "source": [
    "The predicted flexibility scores does not differ much. its stay near 1. it differ very very slighly form 0.95 to 1.00. "
   ]
  },
  {
   "cell_type": "markdown",
   "metadata": {},
   "source": [
    "The distribution of hydrophobic/hydrophilic amino acids throughout a protein sequence is associated with a protein's three-dimensional structure.   \n",
    "\n",
    "We'll loop over the amino acids in the protein, look up the hydrophobicity value of the amino acid, and generate a graph of the hydrophobicity values across the length of the protein sequence.  "
   ]
  },
  {
   "cell_type": "markdown",
   "metadata": {},
   "source": [
    "First, we'll generate a dictionary of the amino acids and their hydrophobicity values . . .\n",
    "\n",
    "Only run the following code cell, nothing needs to be added."
   ]
  },
  {
   "cell_type": "code",
   "execution_count": 10,
   "metadata": {
    "collapsed": false
   },
   "outputs": [
    {
     "name": "stdout",
     "output_type": "stream",
     "text": [
      "20\n"
     ]
    }
   ],
   "source": [
    "hydro = {\"I\":4.5, \"V\":4.2, \"L\":3.8, \"F\":2.8, \"C\":2.5, \"M\":1.9, \"A\":1.8, \"G\":-0.4, \"T\":-0.7, \"S\":-0.8, \"W\":-0.9, \"Y\":-1.3, \"P\":-1.6, \"H\":-3.2, \"E\":-3.5, \"Q\":-3.5, \"D\":-3.5, \"N\":-3.5, \"K\":-3.9, \"R\":-4.5}\n",
    "print(len(hydro))"
   ]
  },
  {
   "cell_type": "markdown",
   "metadata": {},
   "source": [
    "The more positive the number the more hydrophobic the amino acid.  \n",
    "The hydrophobicity values were derived from Kyte J, Doolittle RF. (1982) A simple method for displaying the hydropathic character of a protein. J Mol Biol. 157(1):105-32."
   ]
  },
  {
   "cell_type": "markdown",
   "metadata": {},
   "source": [
    "Loop over the amino acids in the protein sequence, then look up the amino acid in the hydrophobicity dictionary."
   ]
  },
  {
   "cell_type": "code",
   "execution_count": 11,
   "metadata": {
    "collapsed": false
   },
   "outputs": [
    {
     "name": "stdout",
     "output_type": "stream",
     "text": [
      "M hydrophobicity 1.9\n",
      "T hydrophobicity -0.7\n",
      "M hydrophobicity 1.9\n",
      "T hydrophobicity -0.7\n",
      "L hydrophobicity 3.8\n",
      "H hydrophobicity -3.2\n",
      "T hydrophobicity -0.7\n",
      "K hydrophobicity -3.9\n",
      "A hydrophobicity 1.8\n",
      "S hydrophobicity -0.8\n",
      "G hydrophobicity -0.4\n",
      "M hydrophobicity 1.9\n",
      "A hydrophobicity 1.8\n",
      "L hydrophobicity 3.8\n",
      "L hydrophobicity 3.8\n",
      "H hydrophobicity -3.2\n",
      "Q hydrophobicity -3.5\n",
      "I hydrophobicity 4.5\n",
      "Q hydrophobicity -3.5\n",
      "G hydrophobicity -0.4\n",
      "N hydrophobicity -3.5\n",
      "E hydrophobicity -3.5\n",
      "L hydrophobicity 3.8\n",
      "E hydrophobicity -3.5\n",
      "P hydrophobicity -1.6\n",
      "L hydrophobicity 3.8\n",
      "N hydrophobicity -3.5\n",
      "R hydrophobicity -4.5\n",
      "P hydrophobicity -1.6\n",
      "Q hydrophobicity -3.5\n",
      "L hydrophobicity 3.8\n",
      "K hydrophobicity -3.9\n",
      "I hydrophobicity 4.5\n",
      "P hydrophobicity -1.6\n",
      "L hydrophobicity 3.8\n",
      "E hydrophobicity -3.5\n",
      "R hydrophobicity -4.5\n",
      "P hydrophobicity -1.6\n",
      "L hydrophobicity 3.8\n",
      "G hydrophobicity -0.4\n",
      "E hydrophobicity -3.5\n",
      "V hydrophobicity 4.2\n",
      "Y hydrophobicity -1.3\n",
      "L hydrophobicity 3.8\n",
      "D hydrophobicity -3.5\n",
      "S hydrophobicity -0.8\n",
      "S hydrophobicity -0.8\n",
      "K hydrophobicity -3.9\n",
      "P hydrophobicity -1.6\n",
      "A hydrophobicity 1.8\n",
      "V hydrophobicity 4.2\n",
      "Y hydrophobicity -1.3\n",
      "N hydrophobicity -3.5\n",
      "Y hydrophobicity -1.3\n",
      "P hydrophobicity -1.6\n",
      "E hydrophobicity -3.5\n",
      "G hydrophobicity -0.4\n",
      "A hydrophobicity 1.8\n",
      "A hydrophobicity 1.8\n",
      "Y hydrophobicity -1.3\n",
      "E hydrophobicity -3.5\n",
      "F hydrophobicity 2.8\n",
      "N hydrophobicity -3.5\n",
      "A hydrophobicity 1.8\n",
      "A hydrophobicity 1.8\n",
      "A hydrophobicity 1.8\n",
      "A hydrophobicity 1.8\n",
      "A hydrophobicity 1.8\n",
      "N hydrophobicity -3.5\n",
      "A hydrophobicity 1.8\n",
      "Q hydrophobicity -3.5\n",
      "V hydrophobicity 4.2\n",
      "Y hydrophobicity -1.3\n",
      "G hydrophobicity -0.4\n",
      "Q hydrophobicity -3.5\n",
      "T hydrophobicity -0.7\n",
      "G hydrophobicity -0.4\n",
      "L hydrophobicity 3.8\n",
      "P hydrophobicity -1.6\n",
      "Y hydrophobicity -1.3\n",
      "G hydrophobicity -0.4\n",
      "P hydrophobicity -1.6\n",
      "G hydrophobicity -0.4\n",
      "S hydrophobicity -0.8\n",
      "E hydrophobicity -3.5\n",
      "A hydrophobicity 1.8\n",
      "A hydrophobicity 1.8\n",
      "A hydrophobicity 1.8\n",
      "F hydrophobicity 2.8\n",
      "G hydrophobicity -0.4\n",
      "S hydrophobicity -0.8\n",
      "N hydrophobicity -3.5\n",
      "G hydrophobicity -0.4\n",
      "L hydrophobicity 3.8\n",
      "G hydrophobicity -0.4\n",
      "G hydrophobicity -0.4\n",
      "F hydrophobicity 2.8\n",
      "P hydrophobicity -1.6\n",
      "P hydrophobicity -1.6\n",
      "L hydrophobicity 3.8\n",
      "N hydrophobicity -3.5\n",
      "S hydrophobicity -0.8\n",
      "V hydrophobicity 4.2\n",
      "S hydrophobicity -0.8\n",
      "P hydrophobicity -1.6\n",
      "S hydrophobicity -0.8\n",
      "P hydrophobicity -1.6\n",
      "L hydrophobicity 3.8\n",
      "M hydrophobicity 1.9\n",
      "L hydrophobicity 3.8\n",
      "L hydrophobicity 3.8\n",
      "H hydrophobicity -3.2\n",
      "P hydrophobicity -1.6\n",
      "P hydrophobicity -1.6\n",
      "P hydrophobicity -1.6\n",
      "Q hydrophobicity -3.5\n",
      "L hydrophobicity 3.8\n",
      "S hydrophobicity -0.8\n",
      "P hydrophobicity -1.6\n",
      "F hydrophobicity 2.8\n",
      "L hydrophobicity 3.8\n",
      "Q hydrophobicity -3.5\n",
      "P hydrophobicity -1.6\n",
      "H hydrophobicity -3.2\n",
      "G hydrophobicity -0.4\n",
      "Q hydrophobicity -3.5\n",
      "Q hydrophobicity -3.5\n",
      "V hydrophobicity 4.2\n",
      "P hydrophobicity -1.6\n",
      "Y hydrophobicity -1.3\n",
      "Y hydrophobicity -1.3\n",
      "L hydrophobicity 3.8\n",
      "E hydrophobicity -3.5\n",
      "N hydrophobicity -3.5\n",
      "E hydrophobicity -3.5\n",
      "P hydrophobicity -1.6\n",
      "S hydrophobicity -0.8\n",
      "G hydrophobicity -0.4\n",
      "Y hydrophobicity -1.3\n",
      "T hydrophobicity -0.7\n",
      "V hydrophobicity 4.2\n",
      "R hydrophobicity -4.5\n",
      "E hydrophobicity -3.5\n",
      "A hydrophobicity 1.8\n",
      "G hydrophobicity -0.4\n",
      "P hydrophobicity -1.6\n",
      "P hydrophobicity -1.6\n",
      "A hydrophobicity 1.8\n",
      "F hydrophobicity 2.8\n",
      "Y hydrophobicity -1.3\n",
      "R hydrophobicity -4.5\n",
      "P hydrophobicity -1.6\n",
      "N hydrophobicity -3.5\n",
      "S hydrophobicity -0.8\n",
      "D hydrophobicity -3.5\n",
      "N hydrophobicity -3.5\n",
      "R hydrophobicity -4.5\n",
      "R hydrophobicity -4.5\n",
      "Q hydrophobicity -3.5\n",
      "G hydrophobicity -0.4\n",
      "G hydrophobicity -0.4\n",
      "R hydrophobicity -4.5\n",
      "E hydrophobicity -3.5\n",
      "R hydrophobicity -4.5\n",
      "L hydrophobicity 3.8\n",
      "A hydrophobicity 1.8\n",
      "S hydrophobicity -0.8\n",
      "T hydrophobicity -0.7\n",
      "N hydrophobicity -3.5\n",
      "D hydrophobicity -3.5\n",
      "K hydrophobicity -3.9\n",
      "G hydrophobicity -0.4\n",
      "S hydrophobicity -0.8\n",
      "M hydrophobicity 1.9\n",
      "A hydrophobicity 1.8\n",
      "M hydrophobicity 1.9\n",
      "E hydrophobicity -3.5\n",
      "S hydrophobicity -0.8\n",
      "A hydrophobicity 1.8\n",
      "K hydrophobicity -3.9\n",
      "E hydrophobicity -3.5\n",
      "T hydrophobicity -0.7\n",
      "R hydrophobicity -4.5\n",
      "Y hydrophobicity -1.3\n",
      "C hydrophobicity 2.5\n",
      "A hydrophobicity 1.8\n",
      "V hydrophobicity 4.2\n",
      "C hydrophobicity 2.5\n",
      "N hydrophobicity -3.5\n",
      "D hydrophobicity -3.5\n",
      "Y hydrophobicity -1.3\n",
      "A hydrophobicity 1.8\n",
      "S hydrophobicity -0.8\n",
      "G hydrophobicity -0.4\n",
      "Y hydrophobicity -1.3\n",
      "H hydrophobicity -3.2\n",
      "Y hydrophobicity -1.3\n",
      "G hydrophobicity -0.4\n",
      "V hydrophobicity 4.2\n",
      "W hydrophobicity -0.9\n",
      "S hydrophobicity -0.8\n",
      "C hydrophobicity 2.5\n",
      "E hydrophobicity -3.5\n",
      "G hydrophobicity -0.4\n",
      "C hydrophobicity 2.5\n",
      "K hydrophobicity -3.9\n",
      "A hydrophobicity 1.8\n",
      "F hydrophobicity 2.8\n",
      "F hydrophobicity 2.8\n",
      "K hydrophobicity -3.9\n",
      "R hydrophobicity -4.5\n",
      "S hydrophobicity -0.8\n",
      "I hydrophobicity 4.5\n",
      "Q hydrophobicity -3.5\n",
      "G hydrophobicity -0.4\n",
      "H hydrophobicity -3.2\n",
      "N hydrophobicity -3.5\n",
      "D hydrophobicity -3.5\n",
      "Y hydrophobicity -1.3\n",
      "M hydrophobicity 1.9\n",
      "C hydrophobicity 2.5\n",
      "P hydrophobicity -1.6\n",
      "A hydrophobicity 1.8\n",
      "T hydrophobicity -0.7\n",
      "N hydrophobicity -3.5\n",
      "Q hydrophobicity -3.5\n",
      "C hydrophobicity 2.5\n",
      "T hydrophobicity -0.7\n",
      "I hydrophobicity 4.5\n",
      "D hydrophobicity -3.5\n",
      "K hydrophobicity -3.9\n",
      "N hydrophobicity -3.5\n",
      "R hydrophobicity -4.5\n",
      "R hydrophobicity -4.5\n",
      "K hydrophobicity -3.9\n",
      "S hydrophobicity -0.8\n",
      "C hydrophobicity 2.5\n",
      "Q hydrophobicity -3.5\n",
      "A hydrophobicity 1.8\n",
      "C hydrophobicity 2.5\n",
      "R hydrophobicity -4.5\n",
      "L hydrophobicity 3.8\n",
      "R hydrophobicity -4.5\n",
      "K hydrophobicity -3.9\n",
      "C hydrophobicity 2.5\n",
      "Y hydrophobicity -1.3\n",
      "E hydrophobicity -3.5\n",
      "V hydrophobicity 4.2\n",
      "G hydrophobicity -0.4\n",
      "M hydrophobicity 1.9\n",
      "M hydrophobicity 1.9\n",
      "K hydrophobicity -3.9\n",
      "G hydrophobicity -0.4\n",
      "G hydrophobicity -0.4\n",
      "I hydrophobicity 4.5\n",
      "R hydrophobicity -4.5\n",
      "K hydrophobicity -3.9\n",
      "D hydrophobicity -3.5\n",
      "R hydrophobicity -4.5\n",
      "R hydrophobicity -4.5\n",
      "G hydrophobicity -0.4\n",
      "G hydrophobicity -0.4\n",
      "R hydrophobicity -4.5\n",
      "M hydrophobicity 1.9\n",
      "L hydrophobicity 3.8\n",
      "K hydrophobicity -3.9\n",
      "H hydrophobicity -3.2\n",
      "K hydrophobicity -3.9\n",
      "R hydrophobicity -4.5\n",
      "Q hydrophobicity -3.5\n",
      "R hydrophobicity -4.5\n",
      "D hydrophobicity -3.5\n",
      "D hydrophobicity -3.5\n",
      "G hydrophobicity -0.4\n",
      "E hydrophobicity -3.5\n",
      "G hydrophobicity -0.4\n",
      "R hydrophobicity -4.5\n",
      "G hydrophobicity -0.4\n",
      "E hydrophobicity -3.5\n",
      "V hydrophobicity 4.2\n",
      "G hydrophobicity -0.4\n",
      "S hydrophobicity -0.8\n",
      "A hydrophobicity 1.8\n",
      "G hydrophobicity -0.4\n",
      "D hydrophobicity -3.5\n",
      "M hydrophobicity 1.9\n",
      "R hydrophobicity -4.5\n",
      "A hydrophobicity 1.8\n",
      "A hydrophobicity 1.8\n",
      "N hydrophobicity -3.5\n",
      "L hydrophobicity 3.8\n",
      "W hydrophobicity -0.9\n",
      "P hydrophobicity -1.6\n",
      "S hydrophobicity -0.8\n",
      "P hydrophobicity -1.6\n",
      "L hydrophobicity 3.8\n",
      "M hydrophobicity 1.9\n",
      "I hydrophobicity 4.5\n",
      "K hydrophobicity -3.9\n",
      "R hydrophobicity -4.5\n",
      "S hydrophobicity -0.8\n",
      "K hydrophobicity -3.9\n",
      "K hydrophobicity -3.9\n",
      "N hydrophobicity -3.5\n",
      "S hydrophobicity -0.8\n",
      "L hydrophobicity 3.8\n",
      "A hydrophobicity 1.8\n",
      "L hydrophobicity 3.8\n",
      "S hydrophobicity -0.8\n",
      "L hydrophobicity 3.8\n",
      "T hydrophobicity -0.7\n",
      "A hydrophobicity 1.8\n",
      "D hydrophobicity -3.5\n",
      "Q hydrophobicity -3.5\n",
      "M hydrophobicity 1.9\n",
      "V hydrophobicity 4.2\n",
      "S hydrophobicity -0.8\n",
      "A hydrophobicity 1.8\n",
      "L hydrophobicity 3.8\n",
      "L hydrophobicity 3.8\n",
      "D hydrophobicity -3.5\n",
      "A hydrophobicity 1.8\n",
      "E hydrophobicity -3.5\n",
      "P hydrophobicity -1.6\n",
      "P hydrophobicity -1.6\n",
      "I hydrophobicity 4.5\n",
      "L hydrophobicity 3.8\n",
      "Y hydrophobicity -1.3\n",
      "S hydrophobicity -0.8\n",
      "E hydrophobicity -3.5\n",
      "Y hydrophobicity -1.3\n",
      "D hydrophobicity -3.5\n",
      "P hydrophobicity -1.6\n",
      "T hydrophobicity -0.7\n",
      "R hydrophobicity -4.5\n",
      "P hydrophobicity -1.6\n",
      "F hydrophobicity 2.8\n",
      "S hydrophobicity -0.8\n",
      "E hydrophobicity -3.5\n",
      "A hydrophobicity 1.8\n",
      "S hydrophobicity -0.8\n",
      "M hydrophobicity 1.9\n",
      "M hydrophobicity 1.9\n",
      "G hydrophobicity -0.4\n",
      "L hydrophobicity 3.8\n",
      "L hydrophobicity 3.8\n",
      "T hydrophobicity -0.7\n",
      "N hydrophobicity -3.5\n",
      "L hydrophobicity 3.8\n",
      "A hydrophobicity 1.8\n",
      "D hydrophobicity -3.5\n",
      "R hydrophobicity -4.5\n",
      "E hydrophobicity -3.5\n",
      "L hydrophobicity 3.8\n",
      "V hydrophobicity 4.2\n",
      "H hydrophobicity -3.2\n",
      "M hydrophobicity 1.9\n",
      "I hydrophobicity 4.5\n",
      "N hydrophobicity -3.5\n",
      "W hydrophobicity -0.9\n",
      "A hydrophobicity 1.8\n",
      "K hydrophobicity -3.9\n",
      "R hydrophobicity -4.5\n",
      "V hydrophobicity 4.2\n",
      "P hydrophobicity -1.6\n",
      "G hydrophobicity -0.4\n",
      "F hydrophobicity 2.8\n",
      "V hydrophobicity 4.2\n",
      "D hydrophobicity -3.5\n",
      "L hydrophobicity 3.8\n",
      "T hydrophobicity -0.7\n",
      "L hydrophobicity 3.8\n",
      "H hydrophobicity -3.2\n",
      "D hydrophobicity -3.5\n",
      "Q hydrophobicity -3.5\n",
      "V hydrophobicity 4.2\n",
      "H hydrophobicity -3.2\n",
      "L hydrophobicity 3.8\n",
      "L hydrophobicity 3.8\n",
      "E hydrophobicity -3.5\n",
      "C hydrophobicity 2.5\n",
      "A hydrophobicity 1.8\n",
      "W hydrophobicity -0.9\n",
      "L hydrophobicity 3.8\n",
      "E hydrophobicity -3.5\n",
      "I hydrophobicity 4.5\n",
      "L hydrophobicity 3.8\n",
      "M hydrophobicity 1.9\n",
      "I hydrophobicity 4.5\n",
      "G hydrophobicity -0.4\n",
      "L hydrophobicity 3.8\n",
      "V hydrophobicity 4.2\n",
      "W hydrophobicity -0.9\n",
      "R hydrophobicity -4.5\n",
      "S hydrophobicity -0.8\n",
      "M hydrophobicity 1.9\n",
      "E hydrophobicity -3.5\n",
      "H hydrophobicity -3.2\n",
      "P hydrophobicity -1.6\n",
      "G hydrophobicity -0.4\n",
      "K hydrophobicity -3.9\n",
      "L hydrophobicity 3.8\n",
      "L hydrophobicity 3.8\n",
      "F hydrophobicity 2.8\n",
      "A hydrophobicity 1.8\n",
      "P hydrophobicity -1.6\n",
      "N hydrophobicity -3.5\n",
      "L hydrophobicity 3.8\n",
      "L hydrophobicity 3.8\n",
      "L hydrophobicity 3.8\n",
      "D hydrophobicity -3.5\n",
      "R hydrophobicity -4.5\n",
      "N hydrophobicity -3.5\n",
      "Q hydrophobicity -3.5\n",
      "G hydrophobicity -0.4\n",
      "K hydrophobicity -3.9\n",
      "C hydrophobicity 2.5\n",
      "V hydrophobicity 4.2\n",
      "E hydrophobicity -3.5\n",
      "G hydrophobicity -0.4\n",
      "M hydrophobicity 1.9\n",
      "V hydrophobicity 4.2\n",
      "E hydrophobicity -3.5\n",
      "I hydrophobicity 4.5\n",
      "F hydrophobicity 2.8\n",
      "D hydrophobicity -3.5\n",
      "M hydrophobicity 1.9\n",
      "L hydrophobicity 3.8\n",
      "L hydrophobicity 3.8\n",
      "A hydrophobicity 1.8\n",
      "T hydrophobicity -0.7\n",
      "S hydrophobicity -0.8\n",
      "S hydrophobicity -0.8\n",
      "R hydrophobicity -4.5\n",
      "F hydrophobicity 2.8\n",
      "R hydrophobicity -4.5\n",
      "M hydrophobicity 1.9\n",
      "M hydrophobicity 1.9\n",
      "N hydrophobicity -3.5\n",
      "L hydrophobicity 3.8\n",
      "Q hydrophobicity -3.5\n",
      "G hydrophobicity -0.4\n",
      "E hydrophobicity -3.5\n",
      "E hydrophobicity -3.5\n",
      "F hydrophobicity 2.8\n",
      "V hydrophobicity 4.2\n",
      "C hydrophobicity 2.5\n",
      "L hydrophobicity 3.8\n",
      "K hydrophobicity -3.9\n",
      "S hydrophobicity -0.8\n",
      "I hydrophobicity 4.5\n",
      "I hydrophobicity 4.5\n",
      "L hydrophobicity 3.8\n",
      "L hydrophobicity 3.8\n",
      "N hydrophobicity -3.5\n",
      "S hydrophobicity -0.8\n",
      "G hydrophobicity -0.4\n",
      "V hydrophobicity 4.2\n",
      "Y hydrophobicity -1.3\n",
      "T hydrophobicity -0.7\n",
      "F hydrophobicity 2.8\n",
      "L hydrophobicity 3.8\n",
      "S hydrophobicity -0.8\n",
      "S hydrophobicity -0.8\n",
      "T hydrophobicity -0.7\n",
      "L hydrophobicity 3.8\n",
      "K hydrophobicity -3.9\n",
      "S hydrophobicity -0.8\n",
      "L hydrophobicity 3.8\n",
      "E hydrophobicity -3.5\n",
      "E hydrophobicity -3.5\n",
      "K hydrophobicity -3.9\n",
      "D hydrophobicity -3.5\n",
      "H hydrophobicity -3.2\n",
      "I hydrophobicity 4.5\n",
      "H hydrophobicity -3.2\n",
      "R hydrophobicity -4.5\n",
      "V hydrophobicity 4.2\n",
      "L hydrophobicity 3.8\n",
      "D hydrophobicity -3.5\n",
      "K hydrophobicity -3.9\n",
      "I hydrophobicity 4.5\n",
      "T hydrophobicity -0.7\n",
      "D hydrophobicity -3.5\n",
      "T hydrophobicity -0.7\n",
      "L hydrophobicity 3.8\n",
      "I hydrophobicity 4.5\n",
      "H hydrophobicity -3.2\n",
      "L hydrophobicity 3.8\n",
      "M hydrophobicity 1.9\n",
      "A hydrophobicity 1.8\n",
      "K hydrophobicity -3.9\n",
      "A hydrophobicity 1.8\n",
      "G hydrophobicity -0.4\n",
      "L hydrophobicity 3.8\n",
      "T hydrophobicity -0.7\n",
      "L hydrophobicity 3.8\n",
      "Q hydrophobicity -3.5\n",
      "Q hydrophobicity -3.5\n",
      "Q hydrophobicity -3.5\n",
      "H hydrophobicity -3.2\n",
      "Q hydrophobicity -3.5\n",
      "R hydrophobicity -4.5\n",
      "L hydrophobicity 3.8\n",
      "A hydrophobicity 1.8\n",
      "Q hydrophobicity -3.5\n",
      "L hydrophobicity 3.8\n",
      "L hydrophobicity 3.8\n",
      "L hydrophobicity 3.8\n",
      "I hydrophobicity 4.5\n",
      "L hydrophobicity 3.8\n",
      "S hydrophobicity -0.8\n",
      "H hydrophobicity -3.2\n",
      "I hydrophobicity 4.5\n",
      "R hydrophobicity -4.5\n",
      "H hydrophobicity -3.2\n",
      "M hydrophobicity 1.9\n",
      "S hydrophobicity -0.8\n",
      "N hydrophobicity -3.5\n",
      "K hydrophobicity -3.9\n",
      "G hydrophobicity -0.4\n",
      "M hydrophobicity 1.9\n",
      "E hydrophobicity -3.5\n",
      "H hydrophobicity -3.2\n",
      "L hydrophobicity 3.8\n",
      "Y hydrophobicity -1.3\n",
      "S hydrophobicity -0.8\n",
      "M hydrophobicity 1.9\n",
      "K hydrophobicity -3.9\n",
      "C hydrophobicity 2.5\n",
      "K hydrophobicity -3.9\n",
      "N hydrophobicity -3.5\n",
      "V hydrophobicity 4.2\n",
      "V hydrophobicity 4.2\n",
      "P hydrophobicity -1.6\n",
      "L hydrophobicity 3.8\n",
      "Y hydrophobicity -1.3\n",
      "D hydrophobicity -3.5\n",
      "L hydrophobicity 3.8\n",
      "L hydrophobicity 3.8\n",
      "L hydrophobicity 3.8\n",
      "E hydrophobicity -3.5\n",
      "M hydrophobicity 1.9\n",
      "L hydrophobicity 3.8\n",
      "D hydrophobicity -3.5\n",
      "A hydrophobicity 1.8\n",
      "H hydrophobicity -3.2\n",
      "R hydrophobicity -4.5\n",
      "L hydrophobicity 3.8\n",
      "H hydrophobicity -3.2\n",
      "A hydrophobicity 1.8\n",
      "P hydrophobicity -1.6\n",
      "T hydrophobicity -0.7\n",
      "S hydrophobicity -0.8\n",
      "R hydrophobicity -4.5\n",
      "G hydrophobicity -0.4\n",
      "G hydrophobicity -0.4\n",
      "A hydrophobicity 1.8\n",
      "S hydrophobicity -0.8\n",
      "V hydrophobicity 4.2\n",
      "E hydrophobicity -3.5\n",
      "E hydrophobicity -3.5\n",
      "T hydrophobicity -0.7\n",
      "D hydrophobicity -3.5\n",
      "Q hydrophobicity -3.5\n",
      "S hydrophobicity -0.8\n",
      "H hydrophobicity -3.2\n",
      "L hydrophobicity 3.8\n",
      "A hydrophobicity 1.8\n",
      "T hydrophobicity -0.7\n",
      "A hydrophobicity 1.8\n",
      "G hydrophobicity -0.4\n",
      "S hydrophobicity -0.8\n",
      "T hydrophobicity -0.7\n",
      "S hydrophobicity -0.8\n",
      "S hydrophobicity -0.8\n",
      "H hydrophobicity -3.2\n",
      "S hydrophobicity -0.8\n",
      "L hydrophobicity 3.8\n",
      "Q hydrophobicity -3.5\n",
      "K hydrophobicity -3.9\n",
      "Y hydrophobicity -1.3\n",
      "Y hydrophobicity -1.3\n",
      "I hydrophobicity 4.5\n",
      "T hydrophobicity -0.7\n",
      "G hydrophobicity -0.4\n",
      "E hydrophobicity -3.5\n",
      "A hydrophobicity 1.8\n",
      "E hydrophobicity -3.5\n",
      "G hydrophobicity -0.4\n",
      "F hydrophobicity 2.8\n",
      "P hydrophobicity -1.6\n",
      "A hydrophobicity 1.8\n",
      "T hydrophobicity -0.7\n",
      "V hydrophobicity 4.2\n",
      "595\n"
     ]
    }
   ],
   "source": [
    "# hvalues is a empty list to hold the hydrophobicity values along the length of the protein\n",
    "hvalues = []\n",
    "# for each amino acid in the protein sequence, protseq\n",
    "for aa in protseq:\n",
    "     # ask if the amino acid is in the dictionary's keys\n",
    "    if aa in hydro.keys():\n",
    "        # if so, print the amino acid and it's hydrophobicity value\n",
    "        print(aa, \"hydrophobicity\", hydro[aa]) \n",
    "\n",
    "        hvalues.append(hydro[aa]) # add the hydrophobicity value to the list hvalues\n",
    "       \n",
    "    # if the amino acid is NOT in the dictionary's keys\n",
    "    else: \n",
    "        print(\"Amino acid\", aa, \"not in dictionary.\") # print out a warning\n",
    "        break # stop the flow of the for loop\n",
    "\n",
    "# Outside the for loop,\n",
    "# print how many amino acids in your protein sequence were \n",
    "print(len(hvalues))\n",
    "# analysed for hydrophobicity"
   ]
  },
  {
   "cell_type": "markdown",
   "metadata": {},
   "source": [
    "Now, let's generate a graph."
   ]
  },
  {
   "cell_type": "markdown",
   "metadata": {},
   "source": [
    "Ploting the hydrophobicity of each position in the protein sequence results in a noisy graph. Let's calculate the average hydrophobicity over a sliding window 10 aa in length, and include a red line on the graph at 1.6 on the hydrophobicity scale. Regions with hydrophobicity values greater than 1.6 are more likely to be transmembrane domains."
   ]
  },
  {
   "cell_type": "code",
   "execution_count": 12,
   "metadata": {
    "collapsed": false
   },
   "outputs": [
    {
     "name": "stdout",
     "output_type": "stream",
     "text": [
      "average hydrophobicity of the sequence= -0.353613445378\n"
     ]
    }
   ],
   "source": [
    "window_len = 10 # define the length of the window\n",
    "smooth_hydro = [] # smooth_hydro = a list to hold the moving average values\n",
    "for i in range(len(hvalues)-window_len): # for each number in a list\n",
    "    # set the hydrophobicity value, hval, to 0\n",
    "    hval = 0\n",
    "    for v in hvalues[i:i+window_len]: # for each aa in window\n",
    "        # increment the value of hval by v\n",
    "        hval += v\n",
    "    avh = hval/len(protseq[i:i+window_len]) # when the loop over the slice is complete, calculate the average hydrophobicity value of the region\n",
    "    # add the average to the list smooth_hydro\n",
    "    smooth_hydro.append(avh)\n",
    "# Outside the for loop, print the average hydrophobicity of the sequence\n",
    "print(\"average hydrophobicity of the sequence=\",sum(hvalues)/len(protseq)) "
   ]
  },
  {
   "cell_type": "markdown",
   "metadata": {},
   "source": [
    "We'll generate a graph of the smoothed values.\n",
    "\n",
    "Only run the following code cell, nothing needs to be added."
   ]
  },
  {
   "cell_type": "code",
   "execution_count": 13,
   "metadata": {
    "collapsed": false
   },
   "outputs": [
    {
     "name": "stdout",
     "output_type": "stream",
     "text": [
      "Populating the interactive namespace from numpy and matplotlib\n"
     ]
    },
    {
     "data": {
      "image/png": "[encoded data removed]",
      "text/plain": [
       "<matplotlib.figure.Figure at 0x8d88ba8>"
      ]
     },
     "metadata": {},
     "output_type": "display_data"
    }
   ],
   "source": [
    "import matplotlib.pyplot as plt # import a set of code written for generating graphics and tell the computer how to display graphs\n",
    "%pylab inline\n",
    "\n",
    "plt.plot(smooth_hydro) # plot the value of smooth_hydro\n",
    "plt.axhline(0, color='grey') # add a horizontal grey line at y=0\n",
    "plt.axhline(1.6, color='red')# add a horizontal red line at y=1.6\n",
    "plt.ylabel('Hydrophobicity') # add a label to the y-axis\n",
    "plt.xlabel('Amino acid position') # add a label to the x-axis\n",
    "plt.title(\"Kyte Doolittle Hydrophobicity of \" + prot_id + \"\\n 10 nt sliding window\") # add a title to the graph\n",
    "plt.show()"
   ]
  },
  {
   "cell_type": "markdown",
   "metadata": {},
   "source": [
    "#### Q10: Based on the graph you've generated, do you think there are any transmembrane domains in your protein? Explain."
   ]
  },
  {
   "cell_type": "raw",
   "metadata": {},
   "source": [
    "Yes,the hydrophybicity in the middle of teh cell membrane. Ist hydrophylic in both the surfaces. Only the middle is hydrophobic. Transmembrane protein goes accross cell membranes and does that for 7 to 11 times. "
   ]
  },
  {
   "cell_type": "markdown",
   "metadata": {},
   "source": [
    "That's all folks!  \n",
    "Please save your notebook and upload the notebook to Blackboard."
   ]
  }
 ],
 "metadata": {
  "anaconda-cloud": {},
  "kernelspec": {
   "display_name": "Python [conda root]",
   "language": "python",
   "name": "conda-root-py"
  },
  "language_info": {
   "codemirror_mode": {
    "name": "ipython",
    "version": 3
   },
   "file_extension": ".py",
   "mimetype": "text/x-python",
   "name": "python",
   "nbconvert_exporter": "python",
   "pygments_lexer": "ipython3",
   "version": "3.5.2"
  }
 },
 "nbformat": 4,
 "nbformat_minor": 0
}
