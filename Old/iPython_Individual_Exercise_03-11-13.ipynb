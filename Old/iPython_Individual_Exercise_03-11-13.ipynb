{
 "metadata": {
  "name": "iPython_Individual_Exercise_03-11-13A"
 }, 
 "nbformat": 2, 
 "worksheets": [
  {
   "cells": [
    {
     "cell_type": "markdown", 
     "source": [
      "Individual Lab Exercise: Calculating Nucleotide Frequency", 
      "", 
      "Each group will be assigned a set of sequences to work with. Divide the sequences up among the team members so that each person has different input sequences to work with.", 
      "", 
      "Modify the following code to calculate the occurence of each nucleotide in your DNA sequence.", 
      "", 
      "The writeup for this week's lab will consist of a copy of this document and the document(s) you generate. ", 
      "Things we'll be looking for while grading your work:", 
      "", 
      "- Where we encounter errors, include a markdown cell below the code and include notes on the error and how it was corrected.", 
      "", 
      "- Clear, relevant and extensive comments on your code."
     ]
    }, 
    {
     "cell_type": "markdown", 
     "source": [
      "First, open your sequence file."
     ]
    }, 
    {
     "cell_type": "code", 
     "collapsed": true, 
     "input": [
      "input_file = open('INSERT_SEQ_FILE_NAME_HERE.txt' , 'r') # Replace the text INSERT_SEQ_FILE_NAME_HERE with the name of the sequence file you're working with", 
      "organism =  # Type the name of the organism whose sequence you're working with here"
     ], 
     "language": "python", 
     "outputs": [], 
     "prompt_number": "&nbsp;"
    }, 
    {
     "cell_type": "markdown", 
     "source": [
      "Check that the file contains a sequence in FASTA format."
     ]
    }, 
    {
     "cell_type": "code", 
     "collapsed": true, 
     "input": [], 
     "language": "python", 
     "outputs": [], 
     "prompt_number": "&nbsp;"
    }, 
    {
     "cell_type": "markdown", 
     "source": [
      "Read through the sequence and add each line to the previous lines. "
     ]
    }, 
    {
     "cell_type": "code", 
     "collapsed": true, 
     "input": [
      "sequence = \"\" # sequence is an empty string variable", 
      "for line in input_file: # For each line in the input file", 
      "    if line[0] == '>': # Check if the first character in the line is >", 
      "        continue # If so skip the header and continue with the next line in the file", 
      "    sequence = sequence + line # Add the string line to the variable sequence"
     ], 
     "language": "python", 
     "outputs": [], 
     "prompt_number": "&nbsp;"
    }, 
    {
     "cell_type": "markdown", 
     "source": [
      "Close the sequence file."
     ]
    }, 
    {
     "cell_type": "code", 
     "collapsed": true, 
     "input": [], 
     "language": "python", 
     "outputs": [], 
     "prompt_number": "&nbsp;"
    }, 
    {
     "cell_type": "markdown", 
     "source": [
      "Create variables to hold the values of the counts.", 
      "", 
      " - Name the variables: countA, countC, countT, countG, countG, countNts"
     ]
    }, 
    {
     "cell_type": "code", 
     "collapsed": true, 
     "input": [], 
     "language": "python", 
     "outputs": [], 
     "prompt_number": "&nbsp;"
    }, 
    {
     "cell_type": "markdown", 
     "source": [
      "Use a for loop to go over each element in the input sequence."
     ]
    }, 
    {
     "cell_type": "code", 
     "collapsed": true, 
     "input": [
      "for nt in sequence: ", 
      "    # For each nucleotide, nt, in the sequence:", 
      "    # determine which nucleotide it is,", 
      "    # increase the appropriate count variable, ", 
      "    # count the total number of nucleotides in the sequence. ", 
      "    # What if the sum(countA, countC, countT, countG) is not equal (!=) to countNts?"
     ], 
     "language": "python", 
     "outputs": [], 
     "prompt_number": "&nbsp;"
    }, 
    {
     "cell_type": "markdown", 
     "source": [
      "Print the count variables, also print the variable's name so you can easily tell what each value represents."
     ]
    }, 
    {
     "cell_type": "code", 
     "collapsed": true, 
     "input": [], 
     "language": "python", 
     "outputs": [], 
     "prompt_number": "&nbsp;"
    }, 
    {
     "cell_type": "markdown", 
     "source": [
      "Generate a bar graph with the count of the nucleotides on the y-axis and the nucleotides on the x-axis."
     ]
    }, 
    {
     "cell_type": "code", 
     "collapsed": true, 
     "input": [
      "nucleotides = arange(4) # the x-axis has four positions, one for each of the four nucleotides", 
      "counts = [countA, countC, countT, countG] # counts is a list containing the count data", 
      "", 
      "ax = subplot(111) # describes proportions and identity of the plot refered to, here we have only one", 
      "", 
      "bar(nucleotides, counts) # chart will be a bar chart, containing nucleotides on the x-axis and the counts on the y-axis", 
      "xticks(nucleotides + 0.5,  ('A', 'C', 'T', 'G') ) # label the x-axis with the nucleotides in the same order as in the counts list", 
      "show()"
     ], 
     "language": "python", 
     "outputs": [], 
     "prompt_number": "&nbsp;"
    }, 
    {
     "cell_type": "markdown", 
     "source": [
      "Calculate the frequency of A, C, T, G as percentage of the total number of nucleotides in the sequence. ", 
      "", 
      "- Name the variables: percA, percC, percT, percG "
     ]
    }, 
    {
     "cell_type": "code", 
     "collapsed": true, 
     "input": [], 
     "language": "python", 
     "outputs": [], 
     "prompt_number": "&nbsp;"
    }, 
    {
     "cell_type": "markdown", 
     "source": [
      "Calculate the percent of the sequence that is G or C."
     ]
    }, 
    {
     "cell_type": "code", 
     "collapsed": true, 
     "input": [], 
     "language": "python", 
     "outputs": [], 
     "prompt_number": "&nbsp;"
    }, 
    {
     "cell_type": "markdown", 
     "source": [
      "Write the values to a text file."
     ]
    }, 
    {
     "cell_type": "code", 
     "collapsed": true, 
     "input": [
      "out_file = open('INSERT_YOUR_NAME_HERE.txt', 'a') # The 'a' is very important, it stands for append - when you're writing to this file you want to append the information for each sequence you work with to the end of the file, rather than writing over what you're already done.", 
      "out_file.write(\"Organism: %s '\\n'\", organism) # This will label each section with the name of the organism you're working with", 
      "out_file.write(\"Total length of sequence: %f '\\n'\", countNts) # This writes the total number of nucleotides in the sequence", 
      "out_file.write(\"Percent A: %f '\\n'\", percA) # This writes A as percent of all nucleotides", 
      "out_file.write(\"Percent T: %f '\\n'\", percT) # This writes T as percent of all nucleotides", 
      "out_file.write(\"Percent C: %f '\\n'\", percC) # This writes C as percent of all nucleotides", 
      "out_file.write(\"Percent G: %f '\\n'\", percG) # This writes G as percent of all nucleotides", 
      "out_file.write('\\n')", 
      "", 
      "out_file.close()"
     ], 
     "language": "python", 
     "outputs": [], 
     "prompt_number": "&nbsp;"
    }, 
    {
     "cell_type": "markdown", 
     "source": [
      "Suppose that the first and last 20 bases of your sequence comprise a PCR primering sites. ", 
      "The forward primer will have the same sequence as the first 30 bp of your sequence; the reverse primer will be the reverse complement of the last 30 bp of your sequence."
     ]
    }, 
    {
     "cell_type": "markdown", 
     "source": [
      "Create a variable, fwd_primer, and assign it to the first 20 bp of the sequence."
     ]
    }, 
    {
     "cell_type": "code", 
     "collapsed": true, 
     "input": [], 
     "language": "python", 
     "outputs": [], 
     "prompt_number": "&nbsp;"
    }, 
    {
     "cell_type": "markdown", 
     "source": [
      "Assert that fwd_primer is 20 bp long."
     ]
    }, 
    {
     "cell_type": "code", 
     "collapsed": true, 
     "input": [], 
     "language": "python", 
     "outputs": [], 
     "prompt_number": "&nbsp;"
    }, 
    {
     "cell_type": "markdown", 
     "source": [
      "Create a variable, last_20, and assign it to the last 20 bp of the sequence."
     ]
    }, 
    {
     "cell_type": "code", 
     "collapsed": true, 
     "input": [], 
     "language": "python", 
     "outputs": [], 
     "prompt_number": "&nbsp;"
    }, 
    {
     "cell_type": "markdown", 
     "source": [
      "Assert that last_20 is 20 bp long."
     ]
    }, 
    {
     "cell_type": "code", 
     "collapsed": true, 
     "input": [], 
     "language": "python", 
     "outputs": [], 
     "prompt_number": "&nbsp;"
    }, 
    {
     "cell_type": "markdown", 
     "source": [
      "Generate the reverse complement of last_20 and assign the string to a variable named \"rev_primer\"."
     ]
    }, 
    {
     "cell_type": "code", 
     "collapsed": false, 
     "input": [
      "rev_primer = \"\"", 
      "count_down = 1", 
      "while count_down <= len(last_20):", 
      "    last = last_20[-count_down]", 
      "    if last == \"A\":", 
      "        complement = \"T\"", 
      "    elif last == \"T\":", 
      "        complement = \"A\"", 
      "    elif last == \"C\":", 
      "        complement = \"G\"", 
      "    elif last == \"G\":", 
      "        complement = \"C\"", 
      "    else:", 
      "        print \"non-standard nt\"", 
      "        exit()", 
      "    rev_primer = rev_primer + complement"
     ], 
     "language": "python", 
     "outputs": [
      {
       "ename": "IndentationError", 
       "evalue": "expected an indented block (<ipython-input-2-06dc8ec081a1>, line 14)", 
       "output_type": "pyerr", 
       "traceback": [
        "<span class=\"ansired\">IndentationError</span><span class=\"ansired\">:</span> expected an indented block (&lt;ipython-input-2-06dc8ec081a1&gt;, line 14)\n"
       ]
      }
     ], 
     "prompt_number": 2
    }, 
    {
     "cell_type": "markdown", 
     "source": [
      "Assert that rev_primer is 20 bp long."
     ]
    }, 
    {
     "cell_type": "code", 
     "collapsed": true, 
     "input": [], 
     "language": "python", 
     "outputs": [], 
     "prompt_number": "&nbsp;"
    }, 
    {
     "cell_type": "markdown", 
     "source": [
      "For both fwd_primer and rev_primer, calculate their melting temperature.", 
      "", 
      "A simple formula for calculating the melting temperature is, Tm (in degrees C) = 2*(#As + #Ts) + 4*(#Gs + #Cs), where #As = number of A's in the sequence, #Ts = number of T's in the sequence, #Gs = number of G's in the sequence, #Cs = number of C's in the sequence."
     ]
    }, 
    {
     "cell_type": "markdown", 
     "source": [
      "Create a variable, named countAT, for holding the count of A's and T's."
     ]
    }, 
    {
     "cell_type": "code", 
     "collapsed": true, 
     "input": [], 
     "language": "python", 
     "outputs": [], 
     "prompt_number": "&nbsp;"
    }, 
    {
     "cell_type": "markdown", 
     "source": [
      "Creat a variable, named countCG, for holding the count of C's and G's."
     ]
    }, 
    {
     "cell_type": "code", 
     "collapsed": true, 
     "input": [], 
     "language": "python", 
     "outputs": [], 
     "prompt_number": "&nbsp;"
    }, 
    {
     "cell_type": "markdown", 
     "source": [
      "Use a for loop to go over each element in the forward primer."
     ]
    }, 
    {
     "cell_type": "code", 
     "collapsed": true, 
     "input": [
      "for nt in fwd_primer: ", 
      "    # For each nucleotide, nt, in the sequence:", 
      "    # determine which nucleotide it is,", 
      "    # increase the appropriate count variable"
     ], 
     "language": "python", 
     "outputs": [], 
     "prompt_number": "&nbsp;"
    }, 
    {
     "cell_type": "markdown", 
     "source": [
      "Calculate the melting temperature of the forward primer, assign the value to a variable named \"Tm_fwd\"."
     ]
    }, 
    {
     "cell_type": "code", 
     "collapsed": true, 
     "input": [], 
     "language": "python", 
     "outputs": [], 
     "prompt_number": "&nbsp;"
    }, 
    {
     "cell_type": "markdown", 
     "source": [
      "Reset the variables countAT and countCG to 0."
     ]
    }, 
    {
     "cell_type": "code", 
     "collapsed": true, 
     "input": [], 
     "language": "python", 
     "outputs": [], 
     "prompt_number": "&nbsp;"
    }, 
    {
     "cell_type": "markdown", 
     "source": [
      "Use a for loop to go over each element of the reverse primer."
     ]
    }, 
    {
     "cell_type": "code", 
     "collapsed": true, 
     "input": [
      "for nt in rev_primer: ", 
      "    # For each nucleotide, nt, in the sequence:", 
      "    # determine which nucleotide it is,", 
      "    # increase the appropriate count variable"
     ], 
     "language": "python", 
     "outputs": [], 
     "prompt_number": "&nbsp;"
    }, 
    {
     "cell_type": "markdown", 
     "source": [
      "Calculate the melting temperature of the reverse primer, assign the vale to a variable named \"Tm_rev\"."
     ]
    }, 
    {
     "cell_type": "code", 
     "collapsed": true, 
     "input": [], 
     "language": "python", 
     "outputs": [], 
     "prompt_number": "&nbsp;"
    }
   ]
  }
 ]
}