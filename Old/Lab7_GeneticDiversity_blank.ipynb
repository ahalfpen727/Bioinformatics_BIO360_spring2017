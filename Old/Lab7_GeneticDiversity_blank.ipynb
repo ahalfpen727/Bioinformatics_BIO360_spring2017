{
 "metadata": {
  "name": ""
 },
 "nbformat": 3,
 "nbformat_minor": 0,
 "worksheets": [
  {
   "cells": [
    {
     "cell_type": "heading",
     "level": 2,
     "metadata": {},
     "source": [
      "Lab 7: Genetic Diversity"
     ]
    },
    {
     "cell_type": "heading",
     "level": 4,
     "metadata": {},
     "source": [
      "Q0: What's your name?"
     ]
    },
    {
     "cell_type": "raw",
     "metadata": {},
     "source": []
    },
    {
     "cell_type": "heading",
     "level": 3,
     "metadata": {
      "slideshow": {
       "slide_type": "slide"
      }
     },
     "source": [
      "Retrieve relevant background material on the biology of your gene. "
     ]
    },
    {
     "cell_type": "markdown",
     "metadata": {},
     "source": [
      "First search NCBI's Gene database for your gene. \n",
      "\n",
      "Enter your query then run the for loop. Note that the records are dictionaries. Dictionaries consist of \"key\" : \"value\" pairs. Modify the loop to print out the name of your gene, its description, other aliases, summary and genomic location."
     ]
    },
    {
     "cell_type": "code",
     "collapsed": false,
     "input": [
      "from Bio import Entrez\n",
      "Entrez.email = \"\" # let NCBI know who you are\n",
      "db = \"gene\"\n",
      "query = \"NM_000517\" # assign the RefSeq accession number (as a string!) to the variable \"query\" \n",
      "\n",
      "h_search = Entrez.esearch(db=db, email = Entrez.email, term = query) # look up your query at Entrez\n",
      "srecord = Entrez.read(h_search) # read the results\n",
      "res_ids = srecord['IdList'] # assign the primary ids to a variable res_ids\n",
      "\n",
      "for r_id in res_ids: # for each id in the list\n",
      "    h_summ = Entrez.esummary(db=db, id=r_id, email = Entrez.email) # look up the summary at Entrez\n",
      "    summ = Entrez.read(h_summ) # read the results\n",
      "    print summ[0] # print out the summary\n",
      "    print '\\n' # print out a visual separation"
     ],
     "language": "python",
     "metadata": {},
     "outputs": [
      {
       "output_type": "stream",
       "stream": "stderr",
       "text": [
        "/Users/tg/anaconda/lib/python2.7/site-packages/Bio/Entrez/Parser.py:525: UserWarning: Unable to load DTD file esearch.dtd.\n",
        "\n",
        "Bio.Entrez uses NCBI's DTD files to parse XML files returned by NCBI Entrez.\n",
        "Though most of NCBI's DTD files are included in the Biopython distribution,\n",
        "sometimes you may find that a particular DTD file is missing. While we can\n",
        "access the DTD file through the internet, the parser is much faster if the\n",
        "required DTD files are available locally.\n",
        "\n",
        "For this purpose, please download esearch.dtd from\n",
        "\n",
        "http://eutils.ncbi.nlm.nih.gov/eutils/dtd/20060628/esearch.dtd\n",
        "\n",
        "and save it either in directory\n",
        "\n",
        "/Users/tg/anaconda/lib/python2.7/site-packages/Bio/Entrez/DTDs\n",
        "\n",
        "or in directory\n",
        "\n",
        "/Users/tg/.biopython/Bio/Entrez/DTDs\n",
        "\n",
        "in order for Bio.Entrez to find it.\n",
        "\n",
        "Alternatively, you can save esearch.dtd in the directory\n",
        "Bio/Entrez/DTDs in the Biopython distribution, and reinstall Biopython.\n",
        "\n",
        "Please also inform the Biopython developers about this missing DTD, by\n",
        "reporting a bug on https://github.com/biopython/biopython/issues or sign\n",
        "up to our mailing list and emailing us, so that we can include it with the\n",
        "next release of Biopython.\n",
        "\n",
        "Proceeding to access the DTD file through the internet...\n",
        "\n",
        "  warnings.warn(message)\n",
        "/Users/tg/anaconda/lib/python2.7/site-packages/Bio/Entrez/Parser.py:525: UserWarning: Unable to load DTD file esummary-v1.dtd.\n",
        "\n",
        "Bio.Entrez uses NCBI's DTD files to parse XML files returned by NCBI Entrez.\n",
        "Though most of NCBI's DTD files are included in the Biopython distribution,\n",
        "sometimes you may find that a particular DTD file is missing. While we can\n",
        "access the DTD file through the internet, the parser is much faster if the\n",
        "required DTD files are available locally.\n",
        "\n",
        "For this purpose, please download esummary-v1.dtd from\n",
        "\n",
        "http://eutils.ncbi.nlm.nih.gov/eutils/dtd/20060131/esummary-v1.dtd\n",
        "\n",
        "and save it either in directory\n",
        "\n",
        "/Users/tg/anaconda/lib/python2.7/site-packages/Bio/Entrez/DTDs\n",
        "\n",
        "or in directory\n",
        "\n",
        "/Users/tg/.biopython/Bio/Entrez/DTDs\n",
        "\n",
        "in order for Bio.Entrez to find it.\n",
        "\n",
        "Alternatively, you can save esummary-v1.dtd in the directory\n",
        "Bio/Entrez/DTDs in the Biopython distribution, and reinstall Biopython.\n",
        "\n",
        "Please also inform the Biopython developers about this missing DTD, by\n",
        "reporting a bug on https://github.com/biopython/biopython/issues or sign\n",
        "up to our mailing list and emailing us, so that we can include it with the\n",
        "next release of Biopython.\n",
        "\n",
        "Proceeding to access the DTD file through the internet...\n",
        "\n",
        "  warnings.warn(message)\n"
       ]
      },
      {
       "output_type": "stream",
       "stream": "stdout",
       "text": [
        "{'Mim': [141850], 'Orgname': 'Homo sapiens', 'TaxID': 9606, 'GeneWeight': 39938, 'GeneticSource': 'genomic', 'ChrSort': '16', 'Status': 0, 'OtherDesignations': 'alpha globin|alpha-2 globin|alpha-globin|hemoglobin alpha chain|hemoglobin subunit alpha', 'Description': 'hemoglobin, alpha 2', 'CurrentID': 0, 'GenomicInfo': [{'ChrAccVer': 'NC_000016.10', 'ChrLoc': '16', 'ExonCount': 3, 'ChrStop': 173709, 'ChrStart': 172846}], 'NomenclatureName': 'hemoglobin, alpha 2', 'NomenclatureSymbol': 'HBA2', 'Name': 'HBA2', 'Summary': \"The human alpha globin gene cluster located on chromosome 16 spans about 30 kb and includes seven loci: 5'- zeta - pseudozeta - mu - pseudoalpha-1 - alpha-2 - alpha-1 - theta - 3'. The alpha-2 (HBA2) and alpha-1 (HBA1) coding sequences are identical. These genes differ slightly over the 5' untranslated regions and the introns, but they differ significantly over the 3' untranslated regions. Two alpha chains plus two beta chains constitute HbA, which in normal adult life comprises about 97% of the total hemoglobin; alpha chains combine with delta chains to constitute HbA-2, which with HbF (fetal hemoglobin) makes up the remaining 3% of adult hemoglobin. Alpha thalassemias result from deletions of each of the alpha genes as well as deletions of both HBA2 and HBA1; some nondeletion alpha thalassemias have also been reported. [provided by RefSeq, Jul 2008]\", u'Item': [], 'ChrStart': 172846, 'Organism': {'CommonName': 'human', 'ScientificName': 'Homo sapiens', 'TaxID': 9606}, 'NomenclatureStatus': 'Official', 'OtherAliases': 'HBA-T2, HBH', 'MapLocation': '16p13.3', 'LocationHist': [{'AssemblyAccVer': 'GCF_000001405.26', 'ChrAccVer': 'NC_000016.10', 'AnnotationRelease': '106', 'ChrStop': '173709', 'ChrStart': '172846'}, {'AssemblyAccVer': 'GCF_000002125.1', 'ChrAccVer': 'AC_000148.1', 'AnnotationRelease': '106', 'ChrStop': '141749', 'ChrStart': '140886'}, {'AssemblyAccVer': 'GCF_000306695.2', 'ChrAccVer': 'NC_018927.2', 'AnnotationRelease': '106', 'ChrStop': '223714', 'ChrStart': '222851'}, {'AssemblyAccVer': 'GCF_000001405.25', 'ChrAccVer': 'NC_000016.9', 'AnnotationRelease': '105', 'ChrStop': '223708', 'ChrStart': '222845'}, {'AssemblyAccVer': 'GCF_000002125.1', 'ChrAccVer': 'AC_000148.1', 'AnnotationRelease': '105', 'ChrStop': '141749', 'ChrStart': '140886'}, {'AssemblyAccVer': 'GCF_000306695.2', 'ChrAccVer': 'NC_018927.2', 'AnnotationRelease': '105', 'ChrStop': '223714', 'ChrStart': '222851'}, {'AssemblyAccVer': 'GCF_000001405.22', 'ChrAccVer': 'NC_000016.9', 'AnnotationRelease': '104', 'ChrStop': '223708', 'ChrStart': '222845'}, {'AssemblyAccVer': 'GCF_000002125.1', 'ChrAccVer': 'AC_000148.1', 'AnnotationRelease': '104', 'ChrStop': '141749', 'ChrStart': '140886'}, {'AssemblyAccVer': 'GCF_000306695.1', 'ChrAccVer': 'NC_018927.1', 'AnnotationRelease': '104', 'ChrStop': '163870', 'ChrStart': '163285'}, {'AssemblyAccVer': 'GCF_000001405.21', 'ChrAccVer': 'NC_000016.9', 'AnnotationRelease': '103', 'ChrStop': '223708', 'ChrStart': '222845'}, {'AssemblyAccVer': 'GCF_000002125.1', 'ChrAccVer': 'AC_000148.1', 'AnnotationRelease': '103', 'ChrStop': '141749', 'ChrStart': '140886'}, {'AssemblyAccVer': 'GCF_000001405.17', 'ChrAccVer': 'NC_000016.9', 'AnnotationRelease': '37.3', 'ChrStop': '223708', 'ChrStart': '222845'}, {'AssemblyAccVer': 'GCF_000002125.1', 'ChrAccVer': 'AC_000148.1', 'AnnotationRelease': '37.3', 'ChrStop': '141749', 'ChrStart': '140886'}, {'AssemblyAccVer': 'GCF_000001405.14', 'ChrAccVer': 'NC_000016.9', 'AnnotationRelease': '37.2', 'ChrStop': '223708', 'ChrStart': '222845'}, {'AssemblyAccVer': 'GCF_000002115.2', 'ChrAccVer': 'AC_000059.1', 'AnnotationRelease': '37.2', 'ChrStop': '427035', 'ChrStart': '426164'}, {'AssemblyAccVer': 'GCF_000002125.1', 'ChrAccVer': 'AC_000148.1', 'AnnotationRelease': '37.2', 'ChrStop': '141749', 'ChrStart': '140886'}, {'AssemblyAccVer': 'GCF_000001405.13', 'ChrAccVer': 'NC_000016.9', 'AnnotationRelease': '37.1', 'ChrStop': '223708', 'ChrStart': '222845'}, {'AssemblyAccVer': 'GCF_000002115.2', 'ChrAccVer': 'AC_000059.1', 'AnnotationRelease': '37.1', 'ChrStop': '427034', 'ChrStart': '426164'}, {'AssemblyAccVer': 'GCF_000002125.1', 'ChrAccVer': 'AC_000148.1', 'AnnotationRelease': '37.1', 'ChrStop': '141749', 'ChrStart': '140886'}, {'AssemblyAccVer': 'GCF_000001405.12', 'ChrAccVer': 'NC_000016.8', 'AnnotationRelease': '36.3', 'ChrStop': '163707', 'ChrStart': '162874'}, {'AssemblyAccVer': 'GCF_000002125.1', 'ChrAccVer': 'AC_000148.1', 'AnnotationRelease': '36.3', 'ChrStop': '141748', 'ChrStart': '140915'}], u'Id': '3040', 'Chromosome': '16'}\n",
        "\n",
        "\n",
        "{'Mim': [], 'Orgname': 'Homo sapiens', 'TaxID': 9606, 'GeneWeight': 0, 'GeneticSource': 'genomic', 'ChrSort': '~~last', 'Status': 2, 'OtherDesignations': '', 'Description': 'hypothetical gene supported by V00493; AF097635; AF349571; NM_000517', 'CurrentID': 0, 'GenomicInfo': [], 'NomenclatureName': '', 'NomenclatureSymbol': '', 'Name': 'LOC113047', 'Summary': '', u'Item': [], 'ChrStart': 999999999, 'Organism': {'CommonName': 'human', 'ScientificName': 'Homo sapiens', 'TaxID': 9606}, 'NomenclatureStatus': '', 'OtherAliases': '', 'MapLocation': '16p13.3', 'LocationHist': [], u'Id': '113047', 'Chromosome': '16'}"
       ]
      },
      {
       "output_type": "stream",
       "stream": "stdout",
       "text": [
        "\n",
        "\n",
        "\n"
       ]
      }
     ],
     "prompt_number": 1
    },
    {
     "cell_type": "markdown",
     "metadata": {},
     "source": [
      "Notice that the Entrez.read(..) returns a list containing a dictionary. Find the key 'GenomicInfo', look at the corresponding key. It is a dictionary with keys, 'ChrAccVer' - the accession number of the chromosome your gene's record is based on, 'ChrLoc' - the chromosome your gene is located on, 'ExonCount' - the number of exons in your gene, 'ChrStop' - the position on the chromosome where the gene ends, 'ChrStart' - the position on the chromosome where the gene starts. \n",
      "\n",
      "**Look closely at the values of 'ChrLoc', 'ChrStart', and 'ChrStop' - what types of data are these?**\n"
     ]
    },
    {
     "cell_type": "code",
     "collapsed": false,
     "input": [],
     "language": "python",
     "metadata": {},
     "outputs": [],
     "prompt_number": 37
    },
    {
     "cell_type": "markdown",
     "metadata": {},
     "source": [
      "Run the code below, then modify the code below to create:   \n",
      "\n",
      "  * a variable named oname to store the name of the organimsm  \n",
      "  \n",
      "  * a variable named chromosome to store the chromosome number where your gene is located\n",
      "  \n",
      "  * a variable named starting_position to store the location on the chromosome where your gene starts\n",
      "  \n",
      "  * a variable named ending_position to store the location on the chromosome where your gene ends\n",
      "  \n",
      "Make sure that the values assigned to chromosome, starting_position, ending_position are integers."
     ]
    },
    {
     "cell_type": "code",
     "collapsed": false,
     "input": [
      "for r_id in res_ids: # for each id in the list\n",
      "    h_summ = Entrez.esummary(db=db, id=r_id, email = Entrez.email) # look up the summary at Entrez\n",
      "    summ = Entrez.read(h_summ) # read the results\n",
      "\n",
      "    if summ[0]['GenomicInfo'] != []: # if the value corresponding to the key is not blank\n",
      "        print summ[0].keys() # print out the keys of the dictionary summ[0]\n",
      "        \n",
      "        # create a variable oname and assign it to the value corresponding to the key 'Orgname'\n",
      "        # display the value of oname\n",
      "        \n",
      "        # create a variable chromosome and assign it to the value corresponding to the key 'ChrLoc' in the dictionary 'GenomicInfo'\n",
      "        \n",
      "        # create a variable starting_position and assign it to the value corresponding to the key 'ChrStart' in the dictionary 'GenomicInfo''\n",
      "        \n",
      "        # create a variable ending_position and assign it to the value corresponding to the key 'ChrStop' in the dictionary 'GenomicInfo'\n",
      "        \n",
      "        # display a sentence summarizing the position of the gene\n",
      "        "
     ],
     "language": "python",
     "metadata": {},
     "outputs": []
    },
    {
     "cell_type": "heading",
     "level": 4,
     "metadata": {},
     "source": [
      "How many exons does your gene have?"
     ]
    },
    {
     "cell_type": "raw",
     "metadata": {},
     "source": []
    },
    {
     "cell_type": "heading",
     "level": 3,
     "metadata": {},
     "source": [
      "Querying genetic diversity."
     ]
    },
    {
     "cell_type": "markdown",
     "metadata": {},
     "source": [
      "Last week you generated an xml file. Copy that into the GeneEx3 folder on your Desktop. We're going to use Biopython to parse the xml file and loop over the records. We'll use a regular expression to return the accession numbers of the hits with an e-value less than a threshold you define.  \n",
      "\n",
      "In Part 1 we'll find the accession number of each BLAST hit.  \n",
      "In Part 2 we'll filter the results by their e-value.  \n",
      "In Part 3 we'll put these pieces together in order to create a list of the accession numbers whose hits had an e-value less than a threshold you've defined.   \n",
      "In Part 4, we'll use the list of accesion numbers to look up the genomic location of each record."
     ]
    },
    {
     "cell_type": "heading",
     "level": 4,
     "metadata": {},
     "source": [
      "Part 1: Finding the accession number of each hit"
     ]
    },
    {
     "cell_type": "markdown",
     "metadata": {},
     "source": [
      "First we need to know something about how information is stored in a Biopython BLAST record. The BLAST record classes are illustrated in section 7.4 of the Biopython tutorial, \"The BLAST record class\". http://biopython.org/DIST/docs/tutorial/Tutorial.html\n",
      "\n",
      "Note that each blast record has three attributes - descriptions, alignments, multiple_alignment. We're most interested in the attributes of alignments.\n",
      "\n",
      "First we'll parse the xml file and print out the alignment titles."
     ]
    },
    {
     "cell_type": "code",
     "collapsed": false,
     "input": [
      "from Bio.Blast import NCBIXML # import the xml parsing library from Biopython\n",
      "\n",
      "result_handle = open(\"Example_hemoglobin_blast.xml\") # enter the name of the xml file here\n",
      "blast_records = NCBIXML.parse(result_handle) # ask the NCBIXML module to parse the file, organize the file according to its xml tags \n",
      "\n",
      "for blast_record in blast_records: # for each record in all the BLAST records parsed by NCBIXML.parse\n",
      "    for alignment in blast_record.alignments: # for each alignment in blast_record's attribute alignments\n",
      "        print alignment.title # print the alignment's title, where .title is an attribute of alignment"
     ],
     "language": "python",
     "metadata": {},
     "outputs": []
    },
    {
     "cell_type": "markdown",
     "metadata": {},
     "source": [
      "Notice that the first capital letters to appear in each title are the captital letters at the begining of the accession number and that there are two capital letters in a row.\n",
      "Also notice that the first character after the accession number is \"|\".\n",
      "\n",
      "With this information we can define regular expressions to parse out the accession number. We'll first use the regular expression function method search - re.search. re.search takes two arguments - first a specially formatted query string and second the string to be searched.  \n",
      "\n",
      "First we want to find two capital letters next to each other. To do this we can define a character set consisting of all the capital letters in the alphabet - [A-Z].   \n",
      "\n",
      "We want to find two capital letters next to each other, another way to say this is that we want to find a where there are two members of the set [A-Z] in a row. This is written as [A-Z]{2}. \n",
      "\n",
      "After the two capital letters there will be an unknown number of characters and then a |. Remember that . matches any character except a newline character. This is great, because we know RefSeq accession numbers contain an underscore _ but other accession numbers contain no non-alphanumeric characters. We want to match any number of these characters, we can do this by using \\* after the period.  \n",
      "\n",
      "The end of our match will have a |. One problem is | is a character with special meaning in regular expressions so to literally match a | we need to \"escape it\" by preceding it with a forward slash, e.g. \\\\|. Another problem is that the \\* operator is greedy, meaning it will match as many characters as it can until it hits the next element. Where there are multiple | in the title .\\* seeks to match as as many characters as possible and that would include all the | before the last one. We want to limit the greediness of \\* so that it returns the match with the fewest number of characters. We can do this by using a ? after the \\*. This forces the \\* to be non-greedy, i.e. it will return the minimal rather than maximum match.\n",
      "\n",
      "Putting all these pieces together, our final regular expression query is \"[A-Z]{2}.\\*?\\\\|\". \n",
      "Note that some DDBJ/EMBL/GenBank accession number formats begin with one capital letter (not two) - if your blast results include these accession numbers you will need to delete {2} from the above regular expression. \n",
      "\n",
      "For more information on using regular expressions with Python - see: https://docs.python.org/2/library/re.html"
     ]
    },
    {
     "cell_type": "code",
     "collapsed": false,
     "input": [
      "import re\n",
      "\n",
      "result_handle = open(\"Example_hemoglobin_blast.xml\") # enter the name of the xml file here\n",
      "blast_records = NCBIXML.parse(result_handle) # ask the NCBIXML module to parse the file, organize the file according to its xml tags \n",
      "\n",
      "for blast_record in blast_records: # for each blast_record in blast_records\n",
      "    for alignment in blast_record.alignments: # for each alignment in blast_record.alignments\n",
      "        print alignment.title # print the name of the hit, use the .title attribute of the alignment\n",
      "        find_acc = re.search(\"[A-Z]{2}.*?\\|\", alignment.title) # assign a variable called find_acc to the result of re.search using the query string derived above in the name of the hit \n",
      "        if find_acc == None: # if a match is not found in the alignment title\n",
      "            print \"Accession number not found in\", alignment.title # print out a warning, the alignment title \n",
      "            break # break out of the loop \n",
      "        print \"Start of match:\", find_acc.start() # print the begining of the match \n",
      "        print \"End of match:\", find_acc.end() # print the end of the match\n",
      "        print alignment.title[find_acc.start():find_acc.end()-1] # use the begining and end of the match to return a slice of alignment.title, note that the end of the slice is the match end -1 because we don't actually want to return the | that follows the accession number\n",
      "        print '\\n' # print a newline character as a visual barrier between records"
     ],
     "language": "python",
     "metadata": {},
     "outputs": []
    },
    {
     "cell_type": "heading",
     "level": 4,
     "metadata": {},
     "source": [
      "Part 2: Filtering by e-value"
     ]
    },
    {
     "cell_type": "markdown",
     "metadata": {},
     "source": [
      "First, you'll need to define the maximum e-value which supports an inferrence of homology. \n",
      "\n",
      "**Define a relevant e-value threshold and provide an explanation below.**"
     ]
    },
    {
     "cell_type": "raw",
     "metadata": {},
     "source": []
    },
    {
     "cell_type": "markdown",
     "metadata": {},
     "source": [
      "The e-value is found in the expect attribute of the hsps attribute of each alignment. How many hits in your BLAST results have e-values less than or equal to your threshold? For each blast hit you'll first ask if the e-value is less than or equal to your threshold, if so then increase a counter variable by one. Then print out the full length of the subject sequence, the length of the alignment, the number of identical positions within the alignment, the e-value, and the first 75 characters of each alignment."
     ]
    },
    {
     "cell_type": "code",
     "collapsed": false,
     "input": [
      "result_handle = open(\"Example_hemoglobin_blast.xml\") # enter the name of the xml file here\n",
      "blast_records = NCBIXML.parse(result_handle) # ask the NCBIXML module to parse the file, organize the file according to its xml tags \n",
      "\n",
      "e_value_thresh = # enter the minimum e-value threshold here \n",
      "\n",
      "# create a variable named count_hits to hold the count of the number of hits with e-value less than threshold\n",
      "\n",
      "for blast_record in blast_records:  # for each blast_record in blast_records\n",
      "    for alignment in blast_record.alignments: # for each alignment in blast_record.alignments\n",
      "        for hsp in alignment.hsps: # for each high scoring pair in alignment.hsps\n",
      "            if hsp.expect <= e_value_thresh: # if the e-value (\"expect\") is less than or equal to your threshold\n",
      "                # increment the counter, count_hits by one\n",
      "                print 'length:', alignment.length # display the length of the full subject sequence\n",
      "                print 'length of local alignment:', len(hsp.sbjct) # display the length of the local alignment\n",
      "                print 'identical positions:', hsp.identities # display the number of identical positions in local alignment\n",
      "                print 'e value:', hsp.expect # display the e-value\n",
      "            \n",
      "                print(hsp.query[0:75] + '...') # print out the first 75 characters of the aligned query\n",
      "                print(hsp.match[0:75] + '...') # print out the | characters representing matching positions for the first 75 characters of the alignment\n",
      "                print(hsp.sbjct[0:75] + '...') # print out the first 75 characters of the aligned subject \n",
      "                print '\\n' # print a newline character as a visual barrier between records\n",
      "print \"Number of hits with e-value less than or equal to\", e_value_thresh, \":\", count_hits # display the value of count_hits"
     ],
     "language": "python",
     "metadata": {},
     "outputs": []
    },
    {
     "cell_type": "heading",
     "level": 4,
     "metadata": {},
     "source": [
      "Part 3: Generate a list of the accession numbers of sequences containing hits with e-values less than your threshold. "
     ]
    },
    {
     "cell_type": "markdown",
     "metadata": {},
     "source": [
      "Now we'll combine the filtering by e-value with the regular expression designed above to create a list of the accession numbers of subject sequences containing hits with e-values less than or equal to the threshold set above.   \n",
      "\n",
      "**Before going on consider - do you think a single subject sequence could contain more than one BLAST hit? Write your hypothesis below, we will test this hypothesis later. **"
     ]
    },
    {
     "cell_type": "raw",
     "metadata": {},
     "source": []
    },
    {
     "cell_type": "code",
     "collapsed": false,
     "input": [
      "import re\n",
      "\n",
      "result_handle = open(\"Example_hemoglobin_blast.xml\") # enter the name of the xml file here\n",
      "blast_records = NCBIXML.parse(result_handle) # ask the NCBIXML module to parse the file, organize the file according to its xml tags \n",
      "\n",
      "# create an empty list named acc_list to hold the accession numbers of hits passing your filter\n",
      "\n",
      "for blast_record in blast_records:  # for each blast_record in blast_records\n",
      "    for alignment in blast_record.alignments: # for each alignment in blast_record.alignments\n",
      "        for hsp in alignment.hsps: # for each high scoring pair in alignment.hsps\n",
      "            # if the e-value, hsp.expect, is less than or equal to your threshold\n",
      "                find_acc = re.search(\"[A-Z].*?\\|\", alignment.title) # assign a variable called find_acc to the result of re.search using the query string derived above in the name of the hit \n",
      "                if find_acc == None: # if a match is not found in the alignment title\n",
      "                    print \"Accession number not found in\", alignment.title # print out a warning, the alignment title \n",
      "                    break # break out of the loop \n",
      "                # use the begining and end of the match to return a slice of alignment.title, note that the end of the slice is the match end -1 because we don't actually want to return the | that follows the accession number\n",
      "                \n",
      "                # if the accession number, acc_id, is not already in the list acc_list\n",
      "                    # add the accession number to acc_list\n",
      "                    \n",
      "\n",
      "print acc_list # display the value of acc_list\n",
      "print \"Number of accession numbers:\", len(acc_list)"
     ],
     "language": "python",
     "metadata": {},
     "outputs": []
    },
    {
     "cell_type": "markdown",
     "metadata": {},
     "source": [
      "**Are the number of *hits* with e-values less than threshold equal to the number of *accession numbers* containing hits with e-values less than threshold?**"
     ]
    },
    {
     "cell_type": "raw",
     "metadata": {},
     "source": []
    },
    {
     "cell_type": "markdown",
     "metadata": {},
     "source": [
      "Where the BLASTn query returns multiple hits within a species we need to determine if those hits are sequence/splice variants or paralogs. We can do this by looking up the Genbank record of each hit, returning the genomic location of the hit, and comparing the location to that of the original BLAST query. \n",
      "\n",
      "But first, we need to group the accession numbers according to the organism in which they are found."
     ]
    },
    {
     "cell_type": "code",
     "collapsed": false,
     "input": [
      "Entrez.email = \"\" # let NCBI know who you are\n",
      "db = \"gene\" # enter the database to query\n",
      "organism_dict = {} # create an empty dictionary called organism_dict, organism name will be the key and a list of accession numbers of records in that organism\n",
      "\n",
      "for i in acc_list: # loop over each accession number in the list acc_list\n",
      "    h_search = Entrez.esearch(db=db, email = Entrez.email, term = i) # use Entrez.esearch to look up records associated with each accession number in the Gene database\n",
      "    srecord = Entrez.read(h_search) # read the results of the Entrez.esearch query\n",
      "    res_ids = srecord[\"IdList\"] # get the list of primary ids from that query\n",
      "    for r_id in res_ids: # for each id in the list res_ids\n",
      "        h_summ = Entrez.esummary(db=db, id=r_id, email = Entrez.email) # query the Entrez db with that id\n",
      "        summ = Entrez.read(h_summ) # read the result\n",
      "        if summ[0]['GenomicInfo'] != []: # only the records having information on the genomic position are relevant\n",
      "            if summ[0]['Orgname'] in organism_dict: # ask if the organism of the summary is in the dictionary organism_dict\n",
      "                if i not in organism_dict[summ[0]['Orgname']]:  # if the accesion number is not already associated with that organism\n",
      "                    organism_dict[summ[0]['Orgname']].append(i)# add the accession number i to the list of accession numbers\n",
      "            else: # if the organism is not already in the dictionary organism_dict\n",
      "                organism_dict[summ[0]['Orgname']] = [i] # add the organism as a key to the dictionary and associate it with the accession number as a list\n",
      "            \n",
      "# display the value of the dictionary organism_dict"
     ],
     "language": "python",
     "metadata": {},
     "outputs": []
    },
    {
     "cell_type": "markdown",
     "metadata": {},
     "source": [
      "We're most interested in the organism in which the gene you're studying is found. So let's loop over the organism dictionary, organism_dict, and only where the key (organism name) is equal to your organism's we'll assign the records to a dictionary, chromosome_dict, where the chromosome number will be the key and the value will be a list of lists containing information about each gene located on that chromromse. \n"
     ]
    },
    {
     "cell_type": "code",
     "collapsed": false,
     "input": [
      "db = \"gene\" # the Entrez database we'll query\n",
      "chromosome_dict = {} # a dictionary with keys = chromosomes and values = accession number, gene description, number of exons, chromosome accession number, begining position of gene, ending position of gene  \n",
      "\n",
      "for i in organism_dict: # for each organism in the dictionary\n",
      "    # if the organism is the same as the organism where your gene is found\n",
      "        for j in organism_dict[i]: # for each accession number in the list of all accession numbers associated with that organism\n",
      "            # create a variable named acc and assign it to the accession number\n",
      "            h_search = Entrez.esearch(db=db, email = Entrez.email, term = j) # query the Entrez database with the accession number\n",
      "            srecord = Entrez.read(h_search) # read the record returned\n",
      "            res_ids = srecord[\"IdList\"] # create a list of ids\n",
      "            for r_id in res_ids: # for each id in list\n",
      "                h_summ = Entrez.esummary(db=db, id=r_id, email = Entrez.email) # use the id to query the Entrez database\n",
      "                summ = Entrez.read(h_summ) # read the result\n",
      "                if summ[0]['GenomicInfo'] != []: # only the records having information on the genomic position are relevant\n",
      "                    chrom_version = summ[0]['GenomicInfo'][0]['ChrAccVer'] # create a variable chrom_version and assign it to the value corresponding to the key 'ChrAccVer' in the dictionary 'GenomicInfo'\n",
      "                    gene_descrip = summ[0]['Description'] # create a variable gene_descrip and assign it to the value corresponding to the key 'Description' in the dictionary summ[0]\n",
      "                    exon_num = int(summ[0]['GenomicInfo'][0]['ExonCount']) # create a variable exon_num and assign it to the value corresponding to the key 'ExonCount' in the dictionary 'GenomicInfo'\n",
      "                    hit_chrom_loc = summ[0]['GenomicInfo'][0]['ChrLoc'] # create a variable hit_chrom_loc and assign it to the value corresponding to the key 'ChrLoc' in the dictionary 'GenomicInfo'\n",
      "                    hit_gene_start = int(summ[0]['GenomicInfo'][0]['ChrStart']) # create a variable hit_gene_start and assign it to the value corresponding to the key 'ChrStart' in the dictionary 'GenomicInfo'\n",
      "                    hit_gene_end = int(summ[0]['GenomicInfo'][0]['ChrStop']) # create a variable hit_gene_end and assign it to the value corresponding to the key 'ChrStop' in the dictionary 'GenomicInfo'\n",
      "                    if hit_chrom_loc in chromosome_dict: # if the chromosome number is already a key in the dictionary chromosome_dict\n",
      "                        # add a list containing, the accession number, description of the gene, number of exons, version of the chromosome accession number, the begining position of the hit and the end position of the hit, to the list associated with that chromosome key\n",
      "                    else: # if the chromosome number is not already in the dictionary chromosome_dict \n",
      "                        chromosome_dict[hit_chrom_loc] = [[acc, gene_descrip, exon_num, chrom_version, hit_gene_start, hit_gene_end]] # add a the chromosome as a key of the dictionary with the value a list containing a list of the accession number, description of the gene, version of the chromosome accession number, the begining position of the hit and the end position of the hit\n",
      "# display the value of chromosome_dict\n"
     ],
     "language": "python",
     "metadata": {},
     "outputs": []
    },
    {
     "cell_type": "markdown",
     "metadata": {},
     "source": [
      "As a first pass, let's check how many chromosomes have good BLAST hits. "
     ]
    },
    {
     "cell_type": "code",
     "collapsed": false,
     "input": [
      "print \"Hits were found on these chromosomes:\""
     ],
     "language": "python",
     "metadata": {},
     "outputs": []
    },
    {
     "cell_type": "markdown",
     "metadata": {},
     "source": [
      "Next, we need to identify the locations where the hits occur on the chromosomes, keeping in mind that there may be sequence/splice variants both of your gene and of the potential paralogs.  \n",
      "We'll divide each chromosome into \"hit regions\", and create a new \"hit region\" if a hit does not overlap with a previous hit. We'll check later if different regions are an artifact of different versions of the chromosome sequence."
     ]
    },
    {
     "cell_type": "code",
     "collapsed": false,
     "input": [
      "# create a dictionary hit_region_dict \n",
      "# for each chromosome in chromosome_dict\n",
      "    # add the chromosome as a key in the dictionary hit_region_dict, assign it the value of an empty list\n",
      "    # for each accession number associated with that chromosome number in chromosome_dict\n",
      "        # assign to the variable min_p the lowest of the two position numbers, this will not always be the first number as the gene might be on the - strand, look up the min function\n",
      "        # assign to the variable max_p the larger of the two position numbers, look up the max funtion\n",
      "        # for each region associated with that chromosome number in hit_region_dict\n",
      "            if min_p in range(r[0], r[1]) or max_p in range(r[0], r[1]):\n",
      "                break # if the location of the gene overlaps with the region, break out of the loop and continue on with the next gene\n",
      "        else: # if the location of the gene does not overlap with a region already associated with that chromosome number in hit_region_dict\n",
      "            hit_region_dict[ch].append([min_p, max_p]) # add a new region\n",
      "                \n",
      "# display the contents of hit_region_dict"
     ],
     "language": "python",
     "metadata": {},
     "outputs": []
    },
    {
     "cell_type": "markdown",
     "metadata": {},
     "source": [
      "Next, let's see how many regions were found on each of the chromosomes."
     ]
    },
    {
     "cell_type": "code",
     "collapsed": false,
     "input": [
      "# loop over each chromosome in hit_region_dict\n",
      "    # print out a message stating how many regions were identified on that chromosome        "
     ],
     "language": "python",
     "metadata": {},
     "outputs": [
      {
       "output_type": "stream",
       "stream": "stdout",
       "text": [
        "4 region[s] were identified on chromosome 16\n",
        "4 region[s] were identified on chromosome 11\n"
       ]
      }
     ],
     "prompt_number": 49
    },
    {
     "cell_type": "markdown",
     "metadata": {},
     "source": [
      "Now, let's sort the accession numbers of our good hits according to the region in which they're found and then print out the genes' accession numbers, descriptions, version of the chromosome sequence, the begining position of the gene on the chromosome, the ending  position of the gene on the chromosome, and the number of exons the gene has."
     ]
    },
    {
     "cell_type": "code",
     "collapsed": false,
     "input": [
      "# for each chromosome in hit_region_dict\n",
      "    # print the chromosome number\n",
      "    # for each region associated with that chromosome number in hit_region_dict\n",
      "        # print out the region\n",
      "        if starting_position in range(r[0], r[1]) or ending_position in range(r[0], r[1]): # ask if your gene's location is within that region\n",
      "            print \"\\t \\t ***** Location of\", query, \"*****\" # if so, print out a message saying so \n",
      "        for p in chromosome_dict[x]: # for each region in the list of regions associated with the chromosome_dict entry for each chromosome\n",
      "            # assign to the variable gene_min_p the lowest of the two position numbers for that gene\n",
      "            # assign to the variable gene_max_p the larger of the two position numbers for that gene\n",
      "            if gene_min_p in range(r[0], r[1]) or gene_max_p in range(r[0], r[1]):\n",
      "                print \"\\t \\t Gene id:\", p[0], \"Description:\", p[1], \"Version of chromosome sequence:\", p[3], \"Begining position:\", p[4], \"Ending position:\", p[5], \"Number of exons:\", p[2]\n",
      "        print '\\n' # print a newline character to add a visual seperation between regions\n",
      "    print '\\n' # print a newline character to add a visual seperation between chromosomes"
     ],
     "language": "python",
     "metadata": {},
     "outputs": []
    },
    {
     "cell_type": "heading",
     "level": 4,
     "metadata": {},
     "source": [
      "How many records occur within the same region as your gene? Based on the descriptions of these genes, do they have the same or simlar functions to that of your gene?"
     ]
    },
    {
     "cell_type": "raw",
     "metadata": {},
     "source": []
    },
    {
     "cell_type": "heading",
     "level": 4,
     "metadata": {},
     "source": [
      "Do the records within the same region as your gene, have the exact same begining and ending postion as your gene? Do any of the records have a different number of exons than your gene?"
     ]
    },
    {
     "cell_type": "raw",
     "metadata": {},
     "source": []
    },
    {
     "cell_type": "heading",
     "level": 4,
     "metadata": {},
     "source": [
      "Based on the descriptions of genes in other regions of the genome, do they have the same or simlar functions to that of your gene? The same number of exons? "
     ]
    },
    {
     "cell_type": "raw",
     "metadata": {},
     "source": []
    },
    {
     "cell_type": "heading",
     "level": 4,
     "metadata": {},
     "source": [
      "Based on your findings, how many paralogs do you belive your gene has? Note the location within the genome where these paralogs are found (chromosome number and region)."
     ]
    },
    {
     "cell_type": "raw",
     "metadata": {},
     "source": []
    },
    {
     "cell_type": "markdown",
     "metadata": {},
     "source": [
      "That's all folks! \n",
      "Please save your notebook and related files and upload the notebook to Blackboard."
     ]
    }
   ],
   "metadata": {}
  }
 ]
}