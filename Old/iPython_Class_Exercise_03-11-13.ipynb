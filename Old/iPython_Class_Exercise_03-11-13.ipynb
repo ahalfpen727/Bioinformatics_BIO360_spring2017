{
 "metadata": {
  "name": "iPython_Class_Exercise_03-11-13A"
 }, 
 "nbformat": 2, 
 "worksheets": [
  {
   "cells": [
    {
     "cell_type": "markdown", 
     "source": [
      "We'll go over these excercises together, as a class. ", 
      "Please note that we'll modify the code as we go to explore common errors. ", 
      "", 
      "The writeup for this week's lab will consist of a copy of this document and the document(s) you generate in the individual exercise.", 
      "Things we'll be looking for while grading your work:", 
      "", 
      "- Where we encounter errors, include a markdown cell below the code and include notes on the error and how it was corrected.", 
      "", 
      "- Clear, relevant and extensive comments on your code"
     ]
    }, 
    {
     "cell_type": "markdown", 
     "source": [
      "A comment on comments . . . "
     ]
    }, 
    {
     "cell_type": "code", 
     "collapsed": true, 
     "input": [
      "this is code ", 
      "# this is a comment, putting anything behind a # will hide it", 
      "", 
      "# Write your code so that someone reading through your code can easily figure out the purpose of each line of code."
     ], 
     "language": "python", 
     "outputs": [], 
     "prompt_number": 6
    }, 
    {
     "cell_type": "markdown", 
     "source": [
      "PART 1: STRING BASICS"
     ]
    }, 
    {
     "cell_type": "markdown", 
     "source": [
      "First we'll assign an identifier to a DNA sequence"
     ]
    }, 
    {
     "cell_type": "code", 
     "collapsed": true, 
     "input": [
      "tiny = \"ACTGCCCTTCACAG\" # This is a tiny bit of DNA sequence"
     ], 
     "language": "python", 
     "outputs": [], 
     "prompt_number": 7
    }, 
    {
     "cell_type": "markdown", 
     "source": [
      "To see the value, or type of a variable or to display the results of a calculation - need to tell the program to \"print\"."
     ]
    }, 
    {
     "cell_type": "code", 
     "collapsed": false, 
     "input": [
      "print tiny # Display the value of tiny"
     ], 
     "language": "python", 
     "outputs": [
      {
       "output_type": "stream", 
       "stream": "stdout", 
       "text": [
        "ACTGCCCTTCACAG"
       ]
      }
     ], 
     "prompt_number": 8
    }, 
    {
     "cell_type": "markdown", 
     "source": [
      "Let's generate two more short DNA sequences . . ."
     ]
    }, 
    {
     "cell_type": "code", 
     "collapsed": true, 
     "input": [
      "tiny2 == \"ACT\" # Assign a short DNA sequence to the variable tiny2                               "
     ], 
     "language": "python", 
     "outputs": [], 
     "prompt_number": 10
    }, 
    {
     "cell_type": "code", 
     "collapsed": true, 
     "input": [
      "tiny3 = TAG # Assign a short DNA sequence to the variable tiny3"
     ], 
     "language": "python", 
     "outputs": [], 
     "prompt_number": 12
    }, 
    {
     "cell_type": "markdown", 
     "source": [
      "What type of information is our sequence? (this is important to know, as certain functions require certain data types)"
     ]
    }, 
    {
     "cell_type": "code", 
     "collapsed": false, 
     "input": [
      "type(tiny) # Determine what type of data is contained in tiny"
     ], 
     "language": "python", 
     "outputs": [
      {
       "output_type": "pyout", 
       "prompt_number": 13, 
       "text": [
        "str"
       ]
      }
     ], 
     "prompt_number": 13
    }, 
    {
     "cell_type": "markdown", 
     "source": [
      "A. METHODS OF ACCESSING ELEMENTS OF A STRING"
     ]
    }, 
    {
     "cell_type": "markdown", 
     "source": [
      "Often we want to query specific parts of, sometimes very large, sequences - below are several common methods."
     ]
    }, 
    {
     "cell_type": "markdown", 
     "source": [
      "Method 1 - splicing"
     ]
    }, 
    {
     "cell_type": "code", 
     "collapsed": false, 
     "input": [
      "first = tiny[0:1] # Return the first character in the string \"tiny\"", 
      "print first"
     ], 
     "language": "python", 
     "outputs": [
      {
       "output_type": "stream", 
       "stream": "stdout", 
       "text": [
        "A"
       ]
      }
     ], 
     "prompt_number": 14
    }, 
    {
     "cell_type": "code", 
     "collapsed": false, 
     "input": [
      "last = tiny[-1:] #Return the last character in the string \"tiny\"", 
      "print last"
     ], 
     "language": "python", 
     "outputs": [
      {
       "output_type": "stream", 
       "stream": "stdout", 
       "text": [
        "G"
       ]
      }
     ], 
     "prompt_number": 15
    }, 
    {
     "cell_type": "code", 
     "collapsed": false, 
     "input": [
      "four_ten = tiny[4:10] #Return the fourth through tenth character in the string \"tiny\"", 
      "print four_ten"
     ], 
     "language": "python", 
     "outputs": [
      {
       "output_type": "stream", 
       "stream": "stdout", 
       "text": [
        "CCCTTC"
       ]
      }
     ], 
     "prompt_number": 16
    }, 
    {
     "cell_type": "markdown", 
     "source": [
      "Is the above the expected result? What happened?"
     ]
    }, 
    {
     "cell_type": "markdown", 
     "source": [
      "Method 2A - a for loop"
     ]
    }, 
    {
     "cell_type": "code", 
     "collapsed": false, 
     "input": [
      "for element in tiny: # Go through each character of the string tiny ", 
      "    print element # Print the value of element"
     ], 
     "language": "python", 
     "outputs": [
      {
       "output_type": "stream", 
       "stream": "stdout", 
       "text": [
        "A", 
        "C", 
        "T", 
        "G", 
        "C", 
        "C", 
        "C", 
        "T", 
        "T", 
        "C", 
        "A", 
        "C", 
        "A", 
        "G"
       ]
      }
     ], 
     "prompt_number": 17
    }, 
    {
     "cell_type": "markdown", 
     "source": [
      "Method 2B - a for loop with a counter"
     ]
    }, 
    {
     "cell_type": "code", 
     "collapsed": false, 
     "input": [
      "print \"len(tiny)\", len(tiny) # Print the length of the string tiny"
     ], 
     "language": "python", 
     "outputs": [
      {
       "output_type": "stream", 
       "stream": "stdout", 
       "text": [
        "len(tiny) 14"
       ]
      }
     ], 
     "prompt_number": 18
    }, 
    {
     "cell_type": "code", 
     "collapsed": false, 
     "input": [
      "counter = 0", 
      "for e in range(len(tiny)): # Execute the contents of the loop the same number of times as there are characters in tiny", 
      "    print E # Print each element of the range", 
      "    #print tiny[counter] # Print the position of tiny equal to the value of counter", 
      "    #in_paren = (e, tiny[counter]) # Assign to the variable in_paren the values of the element in the range and the position of tiny equal to the value of counter ", 
      "    #print in_paren", 
      "    #print type(in_paren)", 
      "    #print (e, tiny[counter]) # Print a tuple containing the values of e and the position of tiny equal to the value of counter", 
      "    counter = counter + 1 # Increase the value of counter by one", 
      "    #print counter # Print the value of counter"
     ], 
     "language": "python", 
     "outputs": [
      {
       "output_type": "stream", 
       "stream": "stdout", 
       "text": [
        "(0, &apos;A&apos;)", 
        "&lt;type &apos;tuple&apos;&gt;", 
        "(1, &apos;C&apos;)", 
        "&lt;type &apos;tuple&apos;&gt;", 
        "(2, &apos;T&apos;)", 
        "&lt;type &apos;tuple&apos;&gt;", 
        "(3, &apos;G&apos;)", 
        "&lt;type &apos;tuple&apos;&gt;", 
        "(4, &apos;C&apos;)", 
        "&lt;type &apos;tuple&apos;&gt;", 
        "(5, &apos;C&apos;)", 
        "&lt;type &apos;tuple&apos;&gt;", 
        "(6, &apos;C&apos;)", 
        "&lt;type &apos;tuple&apos;&gt;", 
        "(7, &apos;T&apos;)", 
        "&lt;type &apos;tuple&apos;&gt;", 
        "(8, &apos;T&apos;)", 
        "&lt;type &apos;tuple&apos;&gt;", 
        "(9, &apos;C&apos;)", 
        "&lt;type &apos;tuple&apos;&gt;", 
        "(10, &apos;A&apos;)", 
        "&lt;type &apos;tuple&apos;&gt;", 
        "(11, &apos;C&apos;)", 
        "&lt;type &apos;tuple&apos;&gt;", 
        "(12, &apos;A&apos;)", 
        "&lt;type &apos;tuple&apos;&gt;", 
        "(13, &apos;G&apos;)", 
        "&lt;type &apos;tuple&apos;&gt;"
       ]
      }
     ], 
     "prompt_number": 24
    }, 
    {
     "cell_type": "code", 
     "collapsed": false, 
     "input": [
      "print len(tiny) == counter "
     ], 
     "language": "python", 
     "outputs": [
      {
       "output_type": "stream", 
       "stream": "stdout", 
       "text": [
        "True"
       ]
      }
     ], 
     "prompt_number": 25
    }, 
    {
     "cell_type": "markdown", 
     "source": [
      "Method 3 - while true"
     ]
    }, 
    {
     "cell_type": "code", 
     "collapsed": false, 
     "input": [
      "counter = 0            ", 
      "while counter < len(tiny):", 
      "    print tiny[counter]", 
      "    counter += 1"
     ], 
     "language": "python", 
     "outputs": [
      {
       "output_type": "stream", 
       "stream": "stdout", 
       "text": [
        "A", 
        "C", 
        "T", 
        "G", 
        "C", 
        "C", 
        "C", 
        "T", 
        "T", 
        "C", 
        "A", 
        "C", 
        "A", 
        "G"
       ]
      }
     ], 
     "prompt_number": 26
    }, 
    {
     "cell_type": "markdown", 
     "source": [
      "PART 2 - COUNTING AND CALCULATING"
     ]
    }, 
    {
     "cell_type": "markdown", 
     "source": [
      "Example 1: Count the number of A's, C's, T's and G's in a DNA sequence."
     ]
    }, 
    {
     "cell_type": "code", 
     "collapsed": true, 
     "input": [
      "DNA = \"ACTGCCNTTCACAG\"  # Assign a short sequence to the variable DNA"
     ], 
     "language": "python", 
     "outputs": [], 
     "prompt_number": 23
    }, 
    {
     "cell_type": "markdown", 
     "source": [
      "First, create variables to hold the values of the count data."
     ]
    }, 
    {
     "cell_type": "code", 
     "collapsed": true, 
     "input": [
      "countA = 0 # Variable for the count of A", 
      "countC = 0 # Variable for the count of C", 
      "countT = 0 # Variable for the count of T", 
      "countG = 0 # Variable for the count of G"
     ], 
     "language": "python", 
     "outputs": [], 
     "prompt_number": 24
    }, 
    {
     "cell_type": "markdown", 
     "source": [
      "Second, loop through the elements of the DNA sequence and count the number of A's, C's, T's and G's."
     ]
    }, 
    {
     "cell_type": "code", 
     "collapsed": false, 
     "input": [
      "for nt in DNA: # For every nucleotide in the DNA sequence", 
      "    print nt  # Print each nucleotide in the DNA sequence", 
      "    if nt == 'A': #Ask if the character is equal to A", 
      "        countA += 1 #If A, increase value of countA", 
      "    elif nt == 'C': #If not A, ask if equal to C", 
      "        countC +=1 #If C, increase value of countC", 
      "    elif nt == 'T': #If not C, ask if equal to T", 
      "        countT +=1 #If T, increase value of countT", 
      "    elif nt == 'G': #If not T, ask if equal to G", 
      "        countG +=1 #If G, increase value of countG"
     ], 
     "language": "python", 
     "outputs": [
      {
       "output_type": "stream", 
       "stream": "stdout", 
       "text": [
        "A", 
        "C", 
        "T", 
        "G", 
        "C", 
        "C", 
        "N", 
        "T", 
        "T", 
        "C", 
        "A", 
        "C", 
        "A", 
        "G"
       ]
      }
     ], 
     "prompt_number": 25
    }, 
    {
     "cell_type": "markdown", 
     "source": [
      "Third, print out the values of the count variables."
     ]
    }, 
    {
     "cell_type": "code", 
     "collapsed": false, 
     "input": [
      "print 'countA: ', countA # Display the number of A's", 
      "print 'countC: ', countC # Display the number of C's", 
      "print 'countT: ', countT # Display the number of T's", 
      "print 'countG: ', countG # Display the number of G's"
     ], 
     "language": "python", 
     "outputs": [
      {
       "output_type": "stream", 
       "stream": "stdout", 
       "text": [
        "countA:  3", 
        "countC:  5", 
        "countT:  3", 
        "countG:  2"
       ]
      }
     ], 
     "prompt_number": 26
    }, 
    {
     "cell_type": "markdown", 
     "source": [
      "If everything went as expected - the sum of countA, countC, countT, countG should equal the length of the DNA sequence."
     ]
    }, 
    {
     "cell_type": "code", 
     "collapsed": false, 
     "input": [
      "(countA + countC + countT + countG) == len(DNA)"
     ], 
     "language": "python", 
     "outputs": [
      {
       "output_type": "pyout", 
       "prompt_number": 27, 
       "text": [
        "False"
       ]
      }
     ], 
     "prompt_number": 27
    }, 
    {
     "cell_type": "markdown", 
     "source": [
      "LESSON?"
     ]
    }, 
    {
     "cell_type": "markdown", 
     "source": [
      "Last, print a graph of the nucleotide counts."
     ]
    }, 
    {
     "cell_type": "code", 
     "collapsed": false, 
     "input": [
      "nucleotides =     arange(4) # the x-axis has four positions, one for each of the four nucleotides", 
      "counts = [countA, countC, countT, countG] # counts is a list containing the count data", 
      "", 
      "ax = subplot(111) # desribes proportions and identity of the plot refered to, here we have only one", 
      "", 
      "bar(nucleotides, counts) # chart will be a bar chart, containing nucleotides on the x-axis and the counts on the y-axis", 
      "xticks(nucleotides + 0.5,  ('A', 'C', 'T', 'G') ) # label the x-axis with the nucleotides in the same order as in the counts list", 
      "show()"
     ], 
     "language": "python", 
     "outputs": [
      {
       "output_type": "display_data", 
       "png": "[encoded data removed]"
      }
     ], 
     "prompt_number": 39
    }, 
    {
     "cell_type": "markdown", 
     "source": [
      "Example 2: Calculate the number of G's and C's as a percentage of the total sequence length."
     ]
    }, 
    {
     "cell_type": "code", 
     "collapsed": false, 
     "input": [
      "gc = countG + countC # Assign a value to the sum of countG and countC", 
      "print 'Number of GC: ', gc # Display the total number of G's and C's in the sequence"
     ], 
     "language": "python", 
     "outputs": [
      {
       "output_type": "stream", 
       "stream": "stdout", 
       "text": [
        "Number of GC:  7"
       ]
      }
     ], 
     "prompt_number": 35
    }, 
    {
     "cell_type": "code", 
     "collapsed": false, 
     "input": [
      "total_nts = len(DNA) # Assign to total_nts the value of the length of DNA", 
      "print 'Total number of nucleotides: ', total_nts # Print the total number of nucleotides"
     ], 
     "language": "python", 
     "outputs": [
      {
       "output_type": "stream", 
       "stream": "stdout", 
       "text": [
        "Total number of nucleotides:  14"
       ]
      }
     ], 
     "prompt_number": 36
    }, 
    {
     "cell_type": "code", 
     "collapsed": false, 
     "input": [
      "percent_gc = (gc/len(DNA))*100 # Calculate the percent of the total sequence length that are G or C", 
      "print 'Percent GC: ', percent_gc # Display the GC percent"
     ], 
     "language": "python", 
     "outputs": [
      {
       "output_type": "stream", 
       "stream": "stdout", 
       "text": [
        "Percent GC:  0"
       ]
      }
     ], 
     "prompt_number": 37
    }, 
    {
     "cell_type": "markdown", 
     "source": [
      "Is the above the expected result? What happened?"
     ]
    }, 
    {
     "cell_type": "code", 
     "collapsed": false, 
     "input": [
      "print type(gc) # Display the data type of the variable gc", 
      "print type(len(DNA)) # Display the data type of len(DNA)"
     ], 
     "language": "python", 
     "outputs": [
      {
       "output_type": "stream", 
       "stream": "stdout", 
       "text": [
        "&lt;type &apos;int&apos;&gt;", 
        "&lt;type &apos;int&apos;&gt;"
       ]
      }
     ], 
     "prompt_number": 38
    }, 
    {
     "cell_type": "code", 
     "collapsed": false, 
     "input": [
      "gc = float(gc) # Convert the data type of gc to float", 
      "print gc # Display the value of GC", 
      "print type(gc) # Display the data type of the variable gc"
     ], 
     "language": "python", 
     "outputs": [
      {
       "output_type": "stream", 
       "stream": "stdout", 
       "text": [
        "7.0", 
        "&lt;type &apos;float&apos;&gt;"
       ]
      }
     ], 
     "prompt_number": 40
    }, 
    {
     "cell_type": "code", 
     "collapsed": false, 
     "input": [
      "percent_gc = (gc/len(DNA))*100 # Calculate the percent of the total sequence length that are G or C", 
      "print 'Percent GC: ', percent_gc # Display the GC percent"
     ], 
     "language": "python", 
     "outputs": [
      {
       "output_type": "stream", 
       "stream": "stdout", 
       "text": [
        "Percent GC:  50.0"
       ]
      }
     ], 
     "prompt_number": 41
    }, 
    {
     "cell_type": "markdown", 
     "source": [
      "Example 3: Calculate the GC content of a sequence stored in a text file"
     ]
    }, 
    {
     "cell_type": "markdown", 
     "source": [
      "First, open the text file: \"Nitric_Oxide_Synthase_Platypus.txt\"."
     ]
    }, 
    {
     "cell_type": "code", 
     "collapsed": true, 
     "input": [
      "input_file = open('Nitric_Oxide_Synthase_Platypus.txt', 'r') # Open the text file containing the sequence"
     ], 
     "language": "python", 
     "outputs": [], 
     "prompt_number": 2
    }, 
    {
     "cell_type": "code", 
     "collapsed": true, 
     "input": [
      "assert '>' in input_file.readline() # Check that the file contains a sequence in FASTA format"
     ], 
     "language": "python", 
     "outputs": [], 
     "prompt_number": 3
    }, 
    {
     "cell_type": "code", 
     "collapsed": false, 
     "input": [
      "print type(input_file.readline())"
     ], 
     "language": "python", 
     "outputs": [
      {
       "output_type": "stream", 
       "stream": "stdout", 
       "text": [
        "&lt;type &apos;str&apos;&gt;"
       ]
      }
     ], 
     "prompt_number": 4
    }, 
    {
     "cell_type": "markdown", 
     "source": [
      "Second, count the number of times each nucleotide occurs within the sequence."
     ]
    }, 
    {
     "cell_type": "code", 
     "collapsed": false, 
     "input": [
      "countGC = 0 # Variable for the count of C's and G's", 
      "countNts = 0 # Variable for the count of nts in the sequence", 
      "", 
      "for line in input_file:\t# For each line in the input_file", 
      "    if line[0] == '>': # Check if the first character in the line is >, i.e. if line is the header of the FASTA sequence", 
      "        continue # If so skip the header and continue with the next line in the file", 
      "    for nt in line: # Go through each element of the line, each element is a single nucleotide", 
      "        countNts += 1 # Increase the value of countNts by one for each nucleotide", 
      "        if nt in \"GC\": # Ask if the nucleotide is in the string \"GC\", is the nucleotide a G or C", 
      "            countGC +=1 # If yes increase the count of GC by one"
     ], 
     "language": "python", 
     "outputs": [], 
     "prompt_number": 5
    }, 
    {
     "cell_type": "markdown", 
     "source": [
      "Third, calculate the GC percent of the sequence."
     ]
    }, 
    {
     "cell_type": "code", 
     "collapsed": false, 
     "input": [
      "countGC = float(countGC) # Convert the data type of countGC to float", 
      "print countGC", 
      "print countNts", 
      "percent_gc = (countGC/countNts)*100 # Calculate the percent of the total sequence length that are G or C", 
      "print 'Percent GC: ', percent_gc # Display the value of percent_gc"
     ], 
     "language": "python", 
     "outputs": [
      {
       "output_type": "stream", 
       "stream": "stdout", 
       "text": [
        "1906.0", 
        "3414", 
        "Percent GC:  55.8289396602"
       ]
      }
     ], 
     "prompt_number": 6
    }, 
    {
     "cell_type": "markdown", 
     "source": [
      "Last, close the text file."
     ]
    }, 
    {
     "cell_type": "code", 
     "collapsed": true, 
     "input": [
      "input_file.close() # Close the text file"
     ], 
     "language": "python", 
     "outputs": [], 
     "prompt_number": 20
    }
   ]
  }
 ]
}