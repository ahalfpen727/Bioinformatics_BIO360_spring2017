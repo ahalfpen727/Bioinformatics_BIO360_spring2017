{
 "cells": [
  {
   "cell_type": "markdown",
   "metadata": {},
   "source": [
    "## Lab 3: Database Searching Using Biopython"
   ]
  },
  {
   "cell_type": "markdown",
   "metadata": {},
   "source": [
    "#### Enter your name below."
   ]
  },
  {
   "cell_type": "raw",
   "metadata": {},
   "source": [
    "answer key"
   ]
  },
  {
   "cell_type": "markdown",
   "metadata": {},
   "source": [
    "### Part 1: Search NCBI's Gene database for genes involved in cystic fibrosis."
   ]
  },
  {
   "cell_type": "markdown",
   "metadata": {},
   "source": [
    "Your goal in this section is to use NCBI's Gene database to identify genes involved in cystic fibrosis in humans."
   ]
  },
  {
   "cell_type": "markdown",
   "metadata": {},
   "source": [
    "##### 1. Load the Biopython module \"Entrez\", enter your email address, then execute."
   ]
  },
  {
   "cell_type": "code",
   "execution_count": null,
   "metadata": {
    "collapsed": true
   },
   "outputs": [],
   "source": [
    "from Bio import Entrez\n",
    "\n",
    "#Tell NCBI who you are\n",
    "Entrez.email = \"my.name@umb.edu\""
   ]
  },
  {
   "cell_type": "markdown",
   "metadata": {},
   "source": [
    "##### 2. Generate query and execute the search."
   ]
  },
  {
   "cell_type": "code",
   "execution_count": null,
   "metadata": {
    "collapsed": false
   },
   "outputs": [],
   "source": [
    "db = \"gene\" #This is the database we want to search\n",
    "\n",
    "query = \"cystic fibrosis\" #This is the query\n",
    "\n",
    "#We'll use the function Entrez.esearch to search the pubmed database with our query\n",
    "h_search =  Entrez.esearch(db=db, term=query) #tell Entrez what database we want to search, who we are, and what we want to look for\n",
    "\n",
    "record = Entrez.read(h_search) #read the esearch record\n",
    "\n",
    "res_ids = record[\"IdList\"] #save the list of ids returned by our query to res_ids\n",
    "\n",
    "#print the list of ids\n",
    "print res_ids\n",
    "type(res_ids)"
   ]
  },
  {
   "cell_type": "code",
   "execution_count": null,
   "metadata": {
    "collapsed": false
   },
   "outputs": [],
   "source": [
    "#Use Entrez esummary to retrieve the record for the first id in the list \n",
    "summary = Entrez.esummary(db=db, id=res_ids[0])\n",
    "\n",
    "#Read the summary \n",
    "gene_summary = Entrez.read(summary)\n",
    "\n",
    "#and print it out\n",
    "print gene_summary\n"
   ]
  },
  {
   "cell_type": "markdown",
   "metadata": {},
   "source": [
    "Q1: Name three data types you see in the printed output of gene_summary."
   ]
  },
  {
   "cell_type": "raw",
   "metadata": {},
   "source": [
    "TaxID, Description, Scientific Name"
   ]
  },
  {
   "cell_type": "markdown",
   "metadata": {},
   "source": [
    "##### 3. Analyze the results."
   ]
  },
  {
   "cell_type": "code",
   "execution_count": null,
   "metadata": {
    "collapsed": false
   },
   "outputs": [],
   "source": [
    "for r_id in res_ids: #loop over pubmed IDs\n",
    "    summary = Entrez.esummary(db=db, id=r_id) #retrieve summary of document\n",
    "    gene_read = Entrez.read(summary) #use biopython to parse the summary\n",
    "    gene_summary = gene_read['DocumentSummarySet']['DocumentSummary']\n",
    "    # print gene_summary[0]\n",
    "    print \"Name:\", gene_summary[0]['Name']\n",
    "    print \"Description:\", gene_summary[0]['Description'] \n",
    "    print \"Organism:\", gene_summary[0]['Organism']\n",
    "    print \"Summary:\", gene_summary[0]['Summary']\n",
    "    print \"OtherAliases:\", gene_summary[0]['OtherAliases']\n",
    "    print '\\n'"
   ]
  },
  {
   "cell_type": "markdown",
   "metadata": {},
   "source": [
    "Let's quantify the success of our query using true and false positive terminology.  \n",
    "Talk with your team and decide how you will categorize the results as true and false positives. Write your definitions below."
   ]
  },
  {
   "cell_type": "raw",
   "metadata": {},
   "source": [
    "A result is a true positive if \"cystic fibrosis\" is found in the summary\n",
    "A result is a false positive if \"cystic fibrosis\" is NOT found in the summary"
   ]
  },
  {
   "cell_type": "markdown",
   "metadata": {},
   "source": [
    "Use a for loop to sort through the genes returned by your query. \n",
    "Assign the genes into true and false positive lists based on your criteria.\n",
    "Remember that Python considers the case of a string when checking equality.\n",
    "Hint - you can convert both the query and the subject to a lower case string using str.lower(\"YourString\")"
   ]
  },
  {
   "cell_type": "code",
   "execution_count": 23,
   "metadata": {
    "collapsed": false
   },
   "outputs": [
    {
     "ename": "RuntimeError",
     "evalue": "UID=107351797: cannot get document summary",
     "output_type": "error",
     "traceback": [
      "\u001b[1;31m---------------------------------------------------------------------------\u001b[0m",
      "\u001b[1;31mRuntimeError\u001b[0m                              Traceback (most recent call last)",
      "\u001b[1;32m<ipython-input-23-92320cb7158b>\u001b[0m in \u001b[0;36m<module>\u001b[1;34m()\u001b[0m\n\u001b[0;32m      3\u001b[0m \u001b[1;32mfor\u001b[0m \u001b[0mr_id\u001b[0m \u001b[1;32min\u001b[0m \u001b[0mres_ids\u001b[0m\u001b[1;33m:\u001b[0m \u001b[1;31m#loop over pubmed IDs\u001b[0m\u001b[1;33m\u001b[0m\u001b[0m\n\u001b[0;32m      4\u001b[0m     \u001b[0msummary\u001b[0m \u001b[1;33m=\u001b[0m \u001b[0mEntrez\u001b[0m\u001b[1;33m.\u001b[0m\u001b[0mesummary\u001b[0m\u001b[1;33m(\u001b[0m\u001b[0mdb\u001b[0m\u001b[1;33m=\u001b[0m\u001b[0mdb\u001b[0m\u001b[1;33m,\u001b[0m \u001b[0mid\u001b[0m\u001b[1;33m=\u001b[0m\u001b[0mr_id\u001b[0m\u001b[1;33m)\u001b[0m \u001b[1;31m#retrieve summary of document\u001b[0m\u001b[1;33m\u001b[0m\u001b[0m\n\u001b[1;32m----> 5\u001b[1;33m     \u001b[0mgene_read\u001b[0m \u001b[1;33m=\u001b[0m \u001b[0mEntrez\u001b[0m\u001b[1;33m.\u001b[0m\u001b[0mread\u001b[0m\u001b[1;33m(\u001b[0m\u001b[0msummary\u001b[0m\u001b[1;33m)\u001b[0m \u001b[1;31m#use biopython to parse the summary\u001b[0m\u001b[1;33m\u001b[0m\u001b[0m\n\u001b[0m\u001b[0;32m      6\u001b[0m \u001b[1;33m\u001b[0m\u001b[0m\n\u001b[0;32m      7\u001b[0m     \u001b[1;31m#use biopython to parse the summary\u001b[0m\u001b[1;33m\u001b[0m\u001b[1;33m\u001b[0m\u001b[0m\n",
      "\u001b[1;32mC:\\Users\\DELL PC\\Anaconda2\\lib\\site-packages\\Bio\\Entrez\\__init__.pyc\u001b[0m in \u001b[0;36mread\u001b[1;34m(handle, validate)\u001b[0m\n\u001b[0;32m    419\u001b[0m     \u001b[1;32mfrom\u001b[0m \u001b[1;33m.\u001b[0m\u001b[0mParser\u001b[0m \u001b[1;32mimport\u001b[0m \u001b[0mDataHandler\u001b[0m\u001b[1;33m\u001b[0m\u001b[0m\n\u001b[0;32m    420\u001b[0m     \u001b[0mhandler\u001b[0m \u001b[1;33m=\u001b[0m \u001b[0mDataHandler\u001b[0m\u001b[1;33m(\u001b[0m\u001b[0mvalidate\u001b[0m\u001b[1;33m)\u001b[0m\u001b[1;33m\u001b[0m\u001b[0m\n\u001b[1;32m--> 421\u001b[1;33m     \u001b[0mrecord\u001b[0m \u001b[1;33m=\u001b[0m \u001b[0mhandler\u001b[0m\u001b[1;33m.\u001b[0m\u001b[0mread\u001b[0m\u001b[1;33m(\u001b[0m\u001b[0mhandle\u001b[0m\u001b[1;33m)\u001b[0m\u001b[1;33m\u001b[0m\u001b[0m\n\u001b[0m\u001b[0;32m    422\u001b[0m     \u001b[1;32mreturn\u001b[0m \u001b[0mrecord\u001b[0m\u001b[1;33m\u001b[0m\u001b[0m\n\u001b[0;32m    423\u001b[0m \u001b[1;33m\u001b[0m\u001b[0m\n",
      "\u001b[1;32mC:\\Users\\DELL PC\\Anaconda2\\lib\\site-packages\\Bio\\Entrez\\Parser.pyc\u001b[0m in \u001b[0;36mread\u001b[1;34m(self, handle)\u001b[0m\n\u001b[0;32m    213\u001b[0m             \u001b[1;32mraise\u001b[0m \u001b[0mIOError\u001b[0m\u001b[1;33m(\u001b[0m\u001b[1;34m\"Can't parse a closed handle\"\u001b[0m\u001b[1;33m)\u001b[0m\u001b[1;33m\u001b[0m\u001b[0m\n\u001b[0;32m    214\u001b[0m         \u001b[1;32mtry\u001b[0m\u001b[1;33m:\u001b[0m\u001b[1;33m\u001b[0m\u001b[0m\n\u001b[1;32m--> 215\u001b[1;33m             \u001b[0mself\u001b[0m\u001b[1;33m.\u001b[0m\u001b[0mparser\u001b[0m\u001b[1;33m.\u001b[0m\u001b[0mParseFile\u001b[0m\u001b[1;33m(\u001b[0m\u001b[0mhandle\u001b[0m\u001b[1;33m)\u001b[0m\u001b[1;33m\u001b[0m\u001b[0m\n\u001b[0m\u001b[0;32m    216\u001b[0m         \u001b[1;32mexcept\u001b[0m \u001b[0mexpat\u001b[0m\u001b[1;33m.\u001b[0m\u001b[0mExpatError\u001b[0m \u001b[1;32mas\u001b[0m \u001b[0me\u001b[0m\u001b[1;33m:\u001b[0m\u001b[1;33m\u001b[0m\u001b[0m\n\u001b[0;32m    217\u001b[0m             \u001b[1;32mif\u001b[0m \u001b[0mself\u001b[0m\u001b[1;33m.\u001b[0m\u001b[0mparser\u001b[0m\u001b[1;33m.\u001b[0m\u001b[0mStartElementHandler\u001b[0m\u001b[1;33m:\u001b[0m\u001b[1;33m\u001b[0m\u001b[0m\n",
      "\u001b[1;32mC:\\Users\\DELL PC\\Anaconda2\\lib\\site-packages\\Bio\\Entrez\\Parser.pyc\u001b[0m in \u001b[0;36mendElementHandler\u001b[1;34m(self, name)\u001b[0m\n\u001b[0;32m    370\u001b[0m                 \u001b[1;32mreturn\u001b[0m\u001b[1;33m\u001b[0m\u001b[0m\n\u001b[0;32m    371\u001b[0m             \u001b[1;32melse\u001b[0m\u001b[1;33m:\u001b[0m\u001b[1;33m\u001b[0m\u001b[0m\n\u001b[1;32m--> 372\u001b[1;33m                 \u001b[1;32mraise\u001b[0m \u001b[0mRuntimeError\u001b[0m\u001b[1;33m(\u001b[0m\u001b[0mvalue\u001b[0m\u001b[1;33m)\u001b[0m\u001b[1;33m\u001b[0m\u001b[0m\n\u001b[0m\u001b[0;32m    373\u001b[0m         \u001b[1;32melif\u001b[0m \u001b[0mname\u001b[0m \u001b[1;32min\u001b[0m \u001b[0mself\u001b[0m\u001b[1;33m.\u001b[0m\u001b[0mintegers\u001b[0m\u001b[1;33m:\u001b[0m\u001b[1;33m\u001b[0m\u001b[0m\n\u001b[0;32m    374\u001b[0m             \u001b[0mvalue\u001b[0m \u001b[1;33m=\u001b[0m \u001b[0mIntegerElement\u001b[0m\u001b[1;33m(\u001b[0m\u001b[0mvalue\u001b[0m\u001b[1;33m)\u001b[0m\u001b[1;33m\u001b[0m\u001b[0m\n",
      "\u001b[1;31mRuntimeError\u001b[0m: UID=107351797: cannot get document summary"
     ]
    }
   ],
   "source": [
    "true_positive = []\n",
    "false_positive = []\n",
    "for r_id in res_ids: #loop over pubmed IDs\n",
    "    summary = Entrez.esummary(db=db, id=r_id) #retrieve summary of document\n",
    "    gene_read = Entrez.read(summary) #use biopython to parse the summary\n",
    "    \n",
    "    #use biopython to parse the summary\n",
    "    gene_summary = gene_read['DocumentSummarySet']['DocumentSummary']\n",
    "    \n",
    "    #use an if statement to define the true positive classification, remember that Python considers the case of the string used  \n",
    "    if \"cystic fibrosis\" in str.lower(gene_summary[0]['Summary']):\n",
    "        #if the condition is met add the record to the true positive list\n",
    "        true_positive.append(gene_summary)\n",
    "    \n",
    "    #if the condition is NOT met add the record to the false positive list\n",
    "    else:\n",
    "        false_positive.append(gene_summary)"
   ]
  },
  {
   "cell_type": "markdown",
   "metadata": {},
   "source": [
    "Q2: Why didn't we include any if statments for true or false negatives?"
   ]
  },
  {
   "cell_type": "raw",
   "metadata": {},
   "source": [
    "There are no negatives in our search results - only positives."
   ]
  },
  {
   "cell_type": "code",
   "execution_count": 24,
   "metadata": {
    "collapsed": false
   },
   "outputs": [
    {
     "name": "stdout",
     "output_type": "stream",
     "text": [
      "true positives: 0\n",
      "false positives: 0\n"
     ]
    }
   ],
   "source": [
    "#print out a statement describing how many of the results were true/false positives\n",
    "print \"true positives:\", len(true_positive)\n",
    "print \"false positives:\", len(false_positive)"
   ]
  },
  {
   "cell_type": "code",
   "execution_count": 36,
   "metadata": {
    "collapsed": false
   },
   "outputs": [],
   "source": [
    "#Write a for loop to check if the gene cystic fibrosis transmembrane conductance regulator, \n",
    "#abbreviated \"CFTR\", was classified as a true positive and print out all the information about CFTR if it was found..\n",
    "for gene in true_positive:\n",
    "    #if so, print out all of the information on the gene\n",
    "    if gene[0]['Name'] == \"CFTR\":\n",
    "        print gene, \"\\n\""
   ]
  },
  {
   "cell_type": "markdown",
   "metadata": {},
   "source": [
    "### 2. Craft a PubMed query to return journal articles about CFTR."
   ]
  },
  {
   "cell_type": "markdown",
   "metadata": {},
   "source": [
    "Your goal in this section is to retrieve articles (either journal or review articels) about the cystic fibrosis transmembrane conductance regulator gene (\"CFTR\")."
   ]
  },
  {
   "cell_type": "markdown",
   "metadata": {},
   "source": [
    "The code in the following cell is complete - simply execute and observe."
   ]
  },
  {
   "cell_type": "code",
   "execution_count": 26,
   "metadata": {
    "collapsed": false
   },
   "outputs": [
    {
     "name": "stdout",
     "output_type": "stream",
     "text": [
      "['26993289', '26989463', '26976279', '26973296', '26968770', '26968005', '26965147', '26962591', '26950439', '26939393', '26935091', '26930426', '26925108', '26923293', '26912614', '26911355', '26911344', '26905631', '26903594', '26894745']\n"
     ]
    }
   ],
   "source": [
    "#This is the database we want to search\n",
    "db = \"pubmed\"\n",
    "\n",
    "#This is the query\n",
    "query = \"cystic fibrosis transmembrane conductance regulator\"\n",
    "\n",
    "#We'll use the function Entrez.esearch to search the pubmed database with our query\n",
    "h_search =  Entrez.esearch(db=db, term=query) #tell Entrez what database we want to search, who we are, \n",
    "\n",
    "record = Entrez.read(h_search)\n",
    "\n",
    "ids = record[\"IdList\"] #save the list of ids returned by our query to res_ids\n",
    "\n",
    "print ids #print the list of ids"
   ]
  },
  {
   "cell_type": "markdown",
   "metadata": {},
   "source": [
    "How many records were returned? \n",
    "\n",
    "Don't count them yourself, write code below to find out!"
   ]
  },
  {
   "cell_type": "code",
   "execution_count": 27,
   "metadata": {
    "collapsed": false
   },
   "outputs": [
    {
     "name": "stdout",
     "output_type": "stream",
     "text": [
      "number of pubs: 20\n"
     ]
    }
   ],
   "source": [
    "print \"number of pubs:\", len(ids)\n"
   ]
  },
  {
   "cell_type": "markdown",
   "metadata": {},
   "source": [
    "The code in the following cell is complete - simply execute and observe."
   ]
  },
  {
   "cell_type": "code",
   "execution_count": 28,
   "metadata": {
    "collapsed": false
   },
   "outputs": [
    {
     "name": "stdout",
     "output_type": "stream",
     "text": [
      "{'DOI': '10.1007/s10096-016-2621-0', 'Title': 'Staphylococcus aureus and Pseudomonas aeruginosa co-infection is associated with cystic fibrosis-related diabetes and poor clinical outcomes.', 'Source': 'Eur J Clin Microbiol Infect Dis', 'PmcRefCount': 0, 'Issue': '', 'SO': '2016 Mar 18;', 'ISSN': '0934-9723', 'Volume': '', 'FullJournalName': 'European journal of clinical microbiology & infectious diseases : official publication of the European Society of Clinical Microbiology', 'RecordStatus': 'PubMed - as supplied by publisher', 'ESSN': '1435-4373', 'ELocationID': '', 'Pages': '', 'PubStatus': 'aheadofprint', 'AuthorList': ['Limoli DH', 'Yang J', 'Khansaheb MK', 'Helfman B', 'Peng L', 'Stecenko AA', 'Goldberg JB'], 'EPubDate': '2016 Mar 18', 'PubDate': '2016 Mar 18', 'NlmUniqueID': '8804297', 'LastAuthor': 'Goldberg JB', 'ArticleIds': {'pii': '10.1007/s10096-016-2621-0', 'medline': [], 'pubmed': ['26993289'], 'eid': '26993289', 'rid': '26993289', 'doi': '10.1007/s10096-016-2621-0'}, u'Item': [], 'History': {'received': '2015/12/17 00:00', 'medline': ['2016/03/20 06:00'], 'pubmed': ['2016/03/20 06:00'], 'aheadofprint': '2016/03/18 00:00', 'accepted': '2016/03/04 00:00', 'entrez': '2016/03/20 06:00'}, 'LangList': ['English'], 'HasAbstract': 1, 'References': [], 'PubTypeList': ['Journal Article'], u'Id': '26993289'}\n"
     ]
    }
   ],
   "source": [
    "#Use Entrez esummary to retrieve the record for the *first id* in the list \n",
    "summ = Entrez.esummary(db=db, id=ids[0])\n",
    "\n",
    "#Read the summary and print it out\n",
    "pub_summary = Entrez.read(summ)[0]\n",
    "print pub_summary"
   ]
  },
  {
   "cell_type": "markdown",
   "metadata": {},
   "source": [
    "Q3: What part of the code in the previous cell (copy and paste it below), limited the results to the record corresponding to the *first* id in the list?"
   ]
  },
  {
   "cell_type": "raw",
   "metadata": {},
   "source": [
    "id=ids[0]"
   ]
  },
  {
   "cell_type": "markdown",
   "metadata": {},
   "source": [
    "Q4: Modify the code in the following cell so that it prints out the record for the **3rd** id in the list."
   ]
  },
  {
   "cell_type": "code",
   "execution_count": 29,
   "metadata": {
    "collapsed": false
   },
   "outputs": [
    {
     "name": "stdout",
     "output_type": "stream",
     "text": [
      "{'DOI': '10.1186/s40348-016-0040-z', 'Title': 'Manipulating proteostasis to repair the F508del-CFTR defect in cystic fibrosis.', 'Source': 'Mol Cell Pediatr', 'PmcRefCount': 0, 'Issue': '1', 'SO': '2016 Dec;3(1):13', 'ISSN': '', 'Volume': '3', 'FullJournalName': 'Molecular and cellular pediatrics', 'RecordStatus': 'PubMed', 'ESSN': '2194-7791', 'ELocationID': 'doi: 10.1186/s40348-016-0040-z', 'Pages': '13', 'PubStatus': 'ppublish+epublish', 'AuthorList': ['Esposito S', 'Tosco A', 'Villella VR', 'Raia V', 'Kroemer G', 'Maiuri L'], 'EPubDate': '2016 Mar 14', 'PubDate': '2016 Dec', 'NlmUniqueID': '101660689', 'LastAuthor': 'Maiuri L', 'ArticleIds': {'pii': '10.1186/s40348-016-0040-z', 'medline': [], 'pubmed': ['26976279'], 'eid': '26976279', 'rid': '26976279', 'doi': '10.1186/s40348-016-0040-z'}, u'Item': [], 'History': {'received': '2015/12/29 00:00', 'medline': ['2016/03/16 06:01'], 'pubmed': ['2016/03/16 06:00'], 'aheadofprint': '2016/03/14 00:00', 'accepted': '2016/03/07 00:00', 'entrez': '2016/03/16 06:00'}, 'LangList': ['English'], 'HasAbstract': 1, 'References': [], 'PubTypeList': ['Journal Article', 'Review'], u'Id': '26976279'}\n"
     ]
    }
   ],
   "source": [
    "#Use Entrez esummary to retrieve the record for the *third id* in the list \n",
    "summ = Entrez.esummary(db=db, id=ids[2])\n",
    "\n",
    "#Read the summary and print it out\n",
    "pub_summary = Entrez.read(summ)[0]\n",
    "print pub_summary"
   ]
  },
  {
   "cell_type": "code",
   "execution_count": 30,
   "metadata": {
    "collapsed": false
   },
   "outputs": [
    {
     "name": "stdout",
     "output_type": "stream",
     "text": [
      "['DOI', 'Title', 'Source', 'PmcRefCount', 'Issue', 'SO', 'ISSN', 'Volume', 'FullJournalName', 'RecordStatus', 'ESSN', 'ELocationID', 'Pages', 'PubStatus', 'AuthorList', 'EPubDate', 'PubDate', 'NlmUniqueID', 'LastAuthor', 'ArticleIds', u'Item', 'History', 'LangList', 'HasAbstract', 'References', 'PubTypeList', u'Id']\n"
     ]
    }
   ],
   "source": [
    "#print out a list of the elements in the record pub_summary\n",
    "#hint use .keys()\n",
    "print pub_summary.keys()\n"
   ]
  },
  {
   "cell_type": "markdown",
   "metadata": {},
   "source": [
    "NCBI's PubMed database contains both primary and secondary research articles. Write a for loop to count the number of primary research articles ('Journal Article') and secondary research articles ('Review').   \n",
    "This information is contained in pub_summary[0]['PubTypeList']."
   ]
  },
  {
   "cell_type": "code",
   "execution_count": 31,
   "metadata": {
    "collapsed": false
   },
   "outputs": [
    {
     "name": "stdout",
     "output_type": "stream",
     "text": [
      "['Journal Article']\n",
      "['Journal Article', 'Review']\n",
      "['Journal Article', 'Review']\n",
      "['Journal Article', 'Review']\n",
      "['Journal Article']\n",
      "['Journal Article']\n",
      "['Journal Article']\n",
      "['Review']\n",
      "['Journal Article']\n",
      "['Journal Article']\n",
      "['Journal Article']\n",
      "['Journal Article']\n",
      "['Journal Article']\n",
      "['Journal Article']\n",
      "['Journal Article']\n",
      "['Journal Article']\n",
      "['Journal Article']\n",
      "['Journal Article', 'Review']\n",
      "['Journal Article', 'Review']\n",
      "['Journal Article']\n",
      "\n",
      "Number of primary research articles: 14\n",
      "Number of review articles: 6\n"
     ]
    }
   ],
   "source": [
    "count_journal = 0\n",
    "count_review = 0\n",
    "for id in ids: #loop over pubmed IDs\n",
    "    \n",
    "    #print \"id:\",id\n",
    "    \n",
    "    summary = Entrez.esummary(db=\"pubmed\", id=id) #retrieve summary of document\n",
    "    pub_summary = Entrez.read(summary)#use biopython to parse the summary\n",
    "    \n",
    "    print pub_summary[0]['PubTypeList']\n",
    "    \n",
    "    #ask if 'Review' is in pub_summary[0]['PubTypeList']\n",
    "    if 'Review' in pub_summary[0]['PubTypeList']:\n",
    "        #if so increase the value of count_review by one\n",
    "        count_review += 1\n",
    "    #ask if 'Journal Article' is in pub_summary[0]['PubTypeList']\n",
    "    elif 'Journal Article' in pub_summary[0]['PubTypeList']:\n",
    "        #if so increase the value of count_journal by one\n",
    "        count_journal += 1\n",
    "        \n",
    "print \"\\n\", \"Number of primary research articles:\", count_journal\n",
    "print \"Number of review articles:\", count_review"
   ]
  },
  {
   "cell_type": "code",
   "execution_count": 32,
   "metadata": {
    "collapsed": false
   },
   "outputs": [
    {
     "name": "stdout",
     "output_type": "stream",
     "text": [
      "Title: Staphylococcus aureus and Pseudomonas aeruginosa co-infection is associated with cystic fibrosis-related diabetes and poor clinical outcomes.\n",
      "Title: Emerging role of cystic fibrosis transmembrane conductance regulator - an epithelial chloride channel in gastrointestinal cancers.\n",
      "Title: Manipulating proteostasis to repair the F508del-CFTR defect in cystic fibrosis.\n",
      "Title: Neonatal Gastrointestinal and Respiratory Microbiome in Cystic Fibrosis: Potential Interactions and Implications for Systemic Health.\n",
      "Title: Combination Therapy with Cystic Fibrosis Transmembrane Conductance Regulator Modulators Augment the Airway Functional Microanatomy.\n",
      "Title: A safety evaluation of ivacaftor for the treatment of cystic fibrosis.\n",
      "Title: The adenosine A<sub>2B</sub> receptor is involved in anion secretion in human pancreatic duct Capan-1 epithelial cells.\n",
      "Title: \n",
      "Title: Role of Interaction and Nucleoside Diphosphate Kinase B in Regulation of the Cystic Fibrosis Transmembrane Conductance Regulator Function by cAMP-Dependent Protein Kinase A.\n",
      "Title: [Impact of the CFTR chloride channel on the cytoskeleton of mouse Sertoli cells].\n",
      "Title: Functional Expression of a Ca(2+)-activated Cl(-) Channel Modulator Involved in Ion Transport and Epithelial Cell Differentiation.\n",
      "Title: Alterations of the Nasopharyngeal Microbiota in Infants with Cystic Fibrosis. Cystic Fibrosis Transmembrane Conductance Regulator and Antibiotic Effects.\n",
      "Title: Antimicrobial Properties of Mesenchymal Stem Cells: Therapeutic Potential for Cystic Fibrosis Infection, and Treatment.\n",
      "Title: Targeted CFTR gene disruption with zinc-finger nucleases in human intestinal epithelial cells induces oxidative stress and inflammation.\n",
      "Title: Nonstructural Protein NP1 of Human Bocavirus 1 Plays a Critical Role in the Expression of Viral Capsid Proteins.\n",
      "Title: The novel complex allele [A238V;F508del] of the CFTR gene: clinical phenotype and possible implications for cystic fibrosis etiological therapies.\n",
      "Title: The extracellular calcium-sensing receptor regulates human fetal lung development via CFTR.\n",
      "Title: Neuraminidase inhibitors for the treatment of influenza infection in people with cystic fibrosis.\n",
      "Title: Advancing clinical development pathways for new CFTR modulators in cystic fibrosis.\n",
      "Title: Controlling Allosteric Networks in Proteins.\n"
     ]
    }
   ],
   "source": [
    "#Generate a list of the titles of the publications\n",
    "title_list = []\n",
    "for id in ids: #loop over pubmed IDs\n",
    "    summary = Entrez.esummary(db=db, id=id) #retrieve summary of document\n",
    "    pub_summary = Entrez.read(summary) #use biopython to parse the summary\n",
    "    \n",
    "    #print the title and a new line '\\n' for readability\n",
    "    print \"Title:\", pub_summary[0]['Title']\n",
    "    \n",
    "    title_list.append(pub_summary[0]['Title'])#add the title to the list title_list"
   ]
  },
  {
   "cell_type": "markdown",
   "metadata": {},
   "source": [
    "**Based on the titles of your results** - quantify the success of your query using true and false positive terminology.  \n",
    "Talk with your team and decide how you will categorize the results as true and false positives. Write your definitions below."
   ]
  },
  {
   "cell_type": "raw",
   "metadata": {},
   "source": [
    "A result is a true positive if \"CFTR\" or \"cystic fibrosis transmembrane conductance regulator\" is in the title\n",
    "A result is a false positive if \"CFTR\" or \"cystic fibrosis transmembrane conductance regulator\" is NOT in the title"
   ]
  },
  {
   "cell_type": "code",
   "execution_count": null,
   "metadata": {
    "collapsed": false
   },
   "outputs": [],
   "source": [
    "#Use a for loop to sort through the journal articles returned by your query. \n",
    "#Assign the titles into true and false positive lists based on your criteria.\n",
    "#Remember that Python considers the case of a string when checking equality.\n",
    "#Hint - you can convert both the query and the subject to a lower case string using str.lower(\"YourString\")\n",
    "\n",
    "true_positive = [] #an empty list to contain the titles of the true positives\n",
    "false_positive = [] #an empty list to contain the title of the false positives\n",
    "\n",
    "#loop through the elements of title_list\n",
    "for id in ids: #loop over pubmed IDs\n",
    "    summary = Entrez.esummary(db=db, id=id) #retrieve summary of document\n",
    "    pub_summary = Entrez.read(summary) #use biopython to parse the summary\n",
    "    \n",
    "    #print the title and a new line '\\n' for readability\n",
    "    title = pub_summary[0]['Title']\n",
    "    print \"Title:\", title\n",
    "\n",
    "    #use an if statement to define the true positive classification, remember that Python considers the case of the string use\n",
    "    if (\"CFTR\" in title) or (\"cystic fibrosis transmembrane conductance regulator\" in title):\n",
    "        #if the condition is met add the title to the true positive list\n",
    "        true_positive.append(title)\n",
    "    #else add the title to the list of false positives"
   ]
  },
  {
   "cell_type": "code",
   "execution_count": null,
   "metadata": {
    "collapsed": false
   },
   "outputs": [],
   "source": [
    "#print out a statement describing how many of the results were true/false positives\n",
    "print \"true positives:\", len(true_positive)\n",
    "print \"false positives:\", len(false_positive)"
   ]
  },
  {
   "cell_type": "markdown",
   "metadata": {},
   "source": [
    "#### That's all folks!!! Save and download your notebook, then upload it to Blackboard."
   ]
  }
 ],
 "metadata": {
  "kernelspec": {
   "display_name": "Python 2",
   "language": "python",
   "name": "python2"
  },
  "language_info": {
   "codemirror_mode": {
    "name": "ipython",
    "version": 2
   },
   "file_extension": ".py",
   "mimetype": "text/x-python",
   "name": "python",
   "nbconvert_exporter": "python",
   "pygments_lexer": "ipython2",
   "version": "2.7.11"
  }
 },
 "nbformat": 4,
 "nbformat_minor": 0
}
