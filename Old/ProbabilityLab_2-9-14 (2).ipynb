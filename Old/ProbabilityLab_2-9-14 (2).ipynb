{
 "metadata": {
  "name": "ProbabilityLab_2-9-14"
 },
 "nbformat": 3,
 "nbformat_minor": 0,
 "worksheets": [
  {
   "cells": [
    {
     "cell_type": "heading",
     "level": 2,
     "metadata": {},
     "source": "Lab 2: Probability"
    },
    {
     "cell_type": "heading",
     "level": 4,
     "metadata": {},
     "source": "What's your name?"
    },
    {
     "cell_type": "raw",
     "metadata": {},
     "source": ""
    },
    {
     "cell_type": "heading",
     "level": 5,
     "metadata": {},
     "source": "Group Question 1: Write out a set of 3 organelles found in eucaryotic cells. Be sure to use the standard math notation."
    },
    {
     "cell_type": "raw",
     "metadata": {},
     "source": ""
    },
    {
     "cell_type": "heading",
     "level": 5,
     "metadata": {},
     "source": "Group Question 2: How many entries are in the sample space {A,C,G,T}?"
    },
    {
     "cell_type": "raw",
     "metadata": {},
     "source": ""
    },
    {
     "cell_type": "heading",
     "level": 5,
     "metadata": {},
     "source": "Group Question 3: What is the sample space of all possible di-nucleotides? (Write it out.) In other words, what are all the possible di-nucleotides you might find in a big genome?"
    },
    {
     "cell_type": "raw",
     "metadata": {},
     "source": ""
    },
    {
     "cell_type": "heading",
     "level": 5,
     "metadata": {},
     "source": "Group Question 4: How big is the sample space of di-nucleotides?"
    },
    {
     "cell_type": "raw",
     "metadata": {},
     "source": ""
    },
    {
     "cell_type": "heading",
     "level": 5,
     "metadata": {},
     "source": "Group Question 5: What is the relationship between the standard genetic code, and the sample space of tri-nucleotides?"
    },
    {
     "cell_type": "raw",
     "metadata": {},
     "source": ""
    },
    {
     "cell_type": "heading",
     "level": 5,
     "metadata": {},
     "source": "Group Question 6: How large is the sample space of tri-nucleotides?"
    },
    {
     "cell_type": "raw",
     "metadata": {},
     "source": ""
    },
    {
     "cell_type": "heading",
     "level": 5,
     "metadata": {},
     "source": "Group Question 7: Derive a simple math function that takes a number of nucleotides and gives you the sample space size."
    },
    {
     "cell_type": "code",
     "collapsed": false,
     "input": "#use this code cell as a calculator to compute the sample space size\n\nnumber_nucleotides = 3\n\nsample_space_size = #put your formula here\n\nprint number_nucleotides, \"nucleotides gives\"\nprint \"a sample size space of\", sample_space_size",
     "language": "python",
     "metadata": {},
     "outputs": []
    },
    {
     "cell_type": "heading",
     "level": 5,
     "metadata": {},
     "source": "Group Question 8: What\u2019s an example of a situation with a probability of 0? Show the answer using (Equation 1)."
    },
    {
     "cell_type": "code",
     "collapsed": false,
     "input": "#use this code cell as a calculator, fully describe the situation in comments\nnum_ways_event_occurs = #the event is\n\nsample_space = \n\np = \n\nprint p",
     "language": "python",
     "metadata": {},
     "outputs": []
    },
    {
     "cell_type": "heading",
     "level": 5,
     "metadata": {},
     "source": "Group Question 9: What\u2019s an example of a situation with a probability of 1? Show the answer using (Equation 1)."
    },
    {
     "cell_type": "code",
     "collapsed": false,
     "input": "#use this code cell as a calculator, fully describe the situation in comments\nnum_ways_event_occurs = #the event is\n\nsample_space = \n\np = \n\nprint p",
     "language": "python",
     "metadata": {},
     "outputs": []
    },
    {
     "cell_type": "heading",
     "level": 5,
     "metadata": {},
     "source": "Group Question 10: Draw the probability tree on a piece of paper."
    },
    {
     "cell_type": "heading",
     "level": 5,
     "metadata": {},
     "source": "Group Question 11: What\u2019s the probability of randomly picking a UMB building whose name starts with the letter C? Draw the probability tree on a piece of paper, use the tree to help you calculate the answer below. "
    },
    {
     "cell_type": "code",
     "collapsed": false,
     "input": "#use this code cell as a calculator, the code provided is incomplete\numb_buildings = [\"Campus\", \"Clark\", \"Healey\", \"McCormack\", \"Quinn\", \"Science\", \"Wheatley\"]\n\nprob_campus = #probability the building selected is \"Campus\"\nprob_clark = #probability the building selected is \"Clark\n\nprob_c = #calculate the probability of randomly picking a building whose name starts with \"C\"\nprint \"Probability of selecting a building whose name begins with \\\"C\\\":\", prob_c",
     "language": "python",
     "metadata": {},
     "outputs": [],
     "prompt_number": 12
    },
    {
     "cell_type": "heading",
     "level": 5,
     "metadata": {},
     "source": "Group Question 12: I\u2019m thinking of a number from 1 to 7. What\u2019s the probability that my number is 3, 4, or 5? Draw the probability tree on a piece of paper, compute the answer below. "
    },
    {
     "cell_type": "code",
     "collapsed": false,
     "input": "#use this code cell as a calculator, add comments to explain each step\n\nsample_space = #a list of numbers from 1 to 7\n\np_3 = #probability that the number is 3\n\np_4 = #probability that the number is 4\n\np_5 = #probability that the number is 5\n\np_3or4or5 = #probability that the number is 3 or 4 or 5\n",
     "language": "python",
     "metadata": {},
     "outputs": []
    },
    {
     "cell_type": "heading",
     "level": 5,
     "metadata": {},
     "source": "Group Question 13: If you pick a random nucleotide in a genome, what\u2019s the probability that it\u2019s not G? (Show calculation.)"
    },
    {
     "cell_type": "code",
     "collapsed": false,
     "input": "#use this code cell as a calculator, add comments to explain each step\n\np_g = #probability of randomly picking a \"G\"\n\np_not_g = #probability of not picking \"G\"",
     "language": "python",
     "metadata": {},
     "outputs": []
    },
    {
     "cell_type": "heading",
     "level": 5,
     "metadata": {},
     "source": "Group Question 14: The subway runs on schedule 92% of the time. You have an important job interview downtown and take the T. What\u2019s the probability that you\u2019ll have bad luck and be delayed? Draw the probability tree on a piece of paper, compute the answer below."
    },
    {
     "cell_type": "code",
     "collapsed": false,
     "input": "#use this code cell as a calculator, add comments to explain each step\n\nprob_on_time = #probability the train is on time\n\nprob_delayed = #",
     "language": "python",
     "metadata": {},
     "outputs": []
    },
    {
     "cell_type": "heading",
     "level": 5,
     "metadata": {},
     "source": "Group Question 15, Part 1: Think carefully about this. . . In an abandoned lab in the basement of McCormack, you find an ancient dusty box labeled Amino Acids, containing 20 bottles that are so old you can\u2019t read the labels. If you randomly pick one of the 20 bottles, what\u2019s the probability that it\u2019s glutamate?"
    },
    {
     "cell_type": "code",
     "collapsed": false,
     "input": "#use this code cell as a calculator, add comments to explain each step\n\nprob_glutamate = ",
     "language": "python",
     "metadata": {},
     "outputs": []
    },
    {
     "cell_type": "heading",
     "level": 5,
     "metadata": {},
     "source": "Group Question 15, Part 2: Next, to narrow down the possibilities, you do some pH titration experiments, and determine that this is one of the two acidic amino acids. Given the results of the pH titration experiment, what\u2019s the probability that this bottle contains glutamate?"
    },
    {
     "cell_type": "code",
     "collapsed": false,
     "input": "#use this code cell as a calculator, add comments to explain each step\n\nprob_glutamate = ",
     "language": "python",
     "metadata": {},
     "outputs": []
    },
    {
     "cell_type": "heading",
     "level": 5,
     "metadata": {},
     "source": "Group Question 16: Here\u2019s a very similar question. Again, think carefully about this. Suppose I pick a random nucleotide from a genome and I also tell you that it\u2019s a purine. Now, using everything you know about the situation, what\u2019s the probability that the nucleotide is G?"
    },
    {
     "cell_type": "code",
     "collapsed": false,
     "input": "#use this code cell as a calculator, add comments to explain each step\n\nprob_G = ",
     "language": "python",
     "metadata": {},
     "outputs": []
    },
    {
     "cell_type": "heading",
     "level": 5,
     "metadata": {},
     "source": "Group Question 17: Rewrite Question 16 in English using \u201cgiven\u201d, and also rewrite it as a formula using the vertical bar notation."
    },
    {
     "cell_type": "raw",
     "metadata": {},
     "source": ""
    },
    {
     "cell_type": "heading",
     "level": 5,
     "metadata": {},
     "source": "Group Question 18: Uncle Ted is a severe hypochondriac who believes that he has both malaria and HIV. You have a brilliant idea to cure Ted\u2019s hypochondria: Give him a probability tree that shows the minuscule probability that he has both diseases. Sketch out a probability tree for Ted\u2019s two imagined diseases, and make up some tiny probabilities along the edges of the tree. Given those tiny probabilities, compute the final joint probability that Ted has both diseases. What are the numbers you show Ted?"
    },
    {
     "cell_type": "code",
     "collapsed": false,
     "input": "#use this code cell as a calculator, add comments to explain each step\n\nprob_malaria = #probability Ted has malaria\n\nprob_HIV = #probability Ted has HIV\n\nprob_both = #probability Ted has malaria AND HIV",
     "language": "python",
     "metadata": {},
     "outputs": []
    },
    {
     "cell_type": "heading",
     "level": 5,
     "metadata": {},
     "source": "Group Question 19: Find three other examples of false positives."
    },
    {
     "cell_type": "raw",
     "metadata": {},
     "source": ""
    },
    {
     "cell_type": "heading",
     "level": 5,
     "metadata": {},
     "source": "Group Question 20: In Part A of Figure 3, what percentage of women actually have breast cancer? (show your calculation)"
    },
    {
     "cell_type": "code",
     "collapsed": false,
     "input": "#use this code cell as a calculator, add comments to explain each step\n\nperc_breast_cancer = #percent of women with breast cancer",
     "language": "python",
     "metadata": {},
     "outputs": []
    },
    {
     "cell_type": "heading",
     "level": 5,
     "metadata": {},
     "source": "Group Question 21, Part 1: In Part A of Figure 3, what percentage of women with breast cancer test positive? (Show your work.) "
    },
    {
     "cell_type": "code",
     "collapsed": false,
     "input": "#use this code cell as a calculator, add comments to explain each step\n\nperc_bc_pos_test = #percent of women with breast cancer that test positive",
     "language": "python",
     "metadata": {},
     "outputs": []
    },
    {
     "cell_type": "heading",
     "level": 5,
     "metadata": {},
     "source": "Group Question 21, Part 2: On the surface, does that seem like a pretty good diagnostic test?"
    },
    {
     "cell_type": "raw",
     "metadata": {},
     "source": ""
    },
    {
     "cell_type": "heading",
     "level": 5,
     "metadata": {},
     "source": "Group Question 22, Part 1: In Part A of Figure 3, what percentage of women without breast cancer test negative? (Show your work.) "
    },
    {
     "cell_type": "code",
     "collapsed": false,
     "input": "#use this code cell as a calculator, add comments to explain each step\n\nperc_no_cancer_neg_test = #percent of women WITHOUT breast cancer that test negative",
     "language": "python",
     "metadata": {},
     "outputs": []
    },
    {
     "cell_type": "heading",
     "level": 5,
     "metadata": {},
     "source": "Group Question 22, Part 2: On the surface, does that seem like a pretty good diagnostic test?"
    },
    {
     "cell_type": "raw",
     "metadata": {},
     "source": ""
    },
    {
     "cell_type": "heading",
     "level": 5,
     "metadata": {},
     "source": "Group Question 23A: Compute P(breast cancer | positive test). "
    },
    {
     "cell_type": "code",
     "collapsed": false,
     "input": "#use this code cell as a calculator, add comments to explain each step\np_bc_given_pos_test = ",
     "language": "python",
     "metadata": {},
     "outputs": []
    },
    {
     "cell_type": "heading",
     "level": 5,
     "metadata": {},
     "source": "Group Question 23B: Now, what do you think about this medical screening test?"
    },
    {
     "cell_type": "raw",
     "metadata": {},
     "source": ""
    },
    {
     "cell_type": "heading",
     "level": 5,
     "metadata": {},
     "source": "Group Question 24: Look at In Part A of Figure 3 again and think carefully about this. . . We know that most women with breast cancer test positive (left half of Part A), and most healthy women test negative (right half of Part A), so the test seems pretty good. So, why is there such a high false positive rate?"
    },
    {
     "cell_type": "raw",
     "metadata": {},
     "source": ""
    }
   ],
   "metadata": {}
  }
 ]
}