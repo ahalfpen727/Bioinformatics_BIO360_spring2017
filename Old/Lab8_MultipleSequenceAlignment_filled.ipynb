{
 "cells": [
  {
   "cell_type": "markdown",
   "metadata": {},
   "source": [
    "## Lab 8: Multiple Sequence Alignment"
   ]
  },
  {
   "cell_type": "markdown",
   "metadata": {},
   "source": [
    "#### Q0: What's your name?"
   ]
  },
  {
   "cell_type": "raw",
   "metadata": {},
   "source": []
  },
  {
   "cell_type": "markdown",
   "metadata": {},
   "source": [
    "This week we'll use Biopython to learn more about amino acid substitutions observed in your protein as a whole as well as within a conserved domain.\n",
    "\n",
    "The idea is that if a region of a protein is not under selection then the amino acids would be expected to be present in equal frequencies. So if there are positions within homologous protein sequences where only a very few amino acids are regularly observed - given a large enough set of homologous proteins - we presume that amino acids which are absent or observed infrequently are deleterious to the protein's function.    \n",
    "\n",
    "Before we begin - generate a multiple sequence alignment (MSA) by uploading the protein sequences of your gene and likely homologs to either T-Coffee, Muscle or MAFFT multiple sequence alignment servers.    \n",
    "http://tcoffee.crg.cat/apps/tcoffee/do:regular   \n",
    "https://www.ebi.ac.uk/Tools/msa/muscle/   \n",
    "https://www.ebi.ac.uk/Tools/msa/mafft/\n",
    "\n",
    "Once the alignment is generated, save the alignment in the clustal format. If you're using the Muscle or MAFFT websites - right click on \"Download Alignment File\", select \"Save Link As . . . \", and save the file to the 'BIOL361_GeneEx5' file which you have generated on your desktop. If you're using the T-Coffee website - right click on \"clustalw_aln file\", select \"Save Link As . . . \", and save the file to the working directory. Do not include spaces in your file name - for example, do not name your file \"aryl hydrocarbon receptor.clw\"; better names are \"aryl _hydrocarbon_receptor.clw\" or \"ArylHydrocarbonReceptor.clw\".\n",
    "\n",
    "While the MSA is being generated we'll go through the exercise as a class, using a MSA (saved in the clustal format) of prion protein sequences, \"prnp_alignment_muscle.clw\".  \n",
    "\n",
    "After we have gone over this exercise as a class - you will redo the analysis using the your protein's MSA."
   ]
  },
  {
   "cell_type": "code",
   "execution_count": 1,
   "metadata": {
    "collapsed": false
   },
   "outputs": [
    {
     "name": "stdout",
     "output_type": "stream",
     "text": [
      "SingleLetterAlphabet() alignment with 23 rows and 264 columns\n",
      "MVKSHIGSWILVLFVAMWSDVGLCKKRPKPGGGWNTGGSRYPGQ...IVG gi|119655287|gb|ABL86015.1|\n",
      "MMKSHIGSWILVLFVAMWSDVGLCKKRPKPGGGWNTGGSRYPGQ...IVG gi|73697721|gb|AAZ81476.1|\n",
      "MVKSHIGSWILVLFVVMWSDVGLCKKRPKPGGGWNTGGSRYPGQ...IVG gi|54125465|gb|AAV30492.1|\n",
      "MVKSHIGSWILVLFVVMWSDVGLCKKRPKPGGGWNTGGSRYPGQ...IVG gi|54125467|gb|AAV30493.1|\n",
      "MVKSHIGSWILVLFVAMWSDVGLCKKRPKPGGGWNTGGSRYPGQ...IVG gi|110613053|gb|ABG78359.1|\n",
      "MVKSHIGSWILVLFVAMWSDVGLCKKRPKPGGGWNTGGSRYPGQ...IVG gi|2406626|gb|AAB70468.1|\n",
      "MVKSHIGSWILVLFVAMWSDVGLCKKRPKPGGGWNTGGSRYPGQ...IVG gi|154819110|gb|ABS87899.1|\n",
      "MVKSHIGSWILVLFVAMWSDVGLCKKRPKPGGGWNTGGSRYPGQ...IVG gi|256859470|gb|ACV31922.1|\n",
      "MVKSHIGSWILVLFVAMWSDVGLCKKRPKPGGGWNTGGSRYPGQ...IVG gi|217598|dbj|BAA01469.1|\n",
      "MVKSHIGSWILVLFVAMWSDVGLCKKRPKPGGGWNTGGSRYPGQ...IVG gi|34334040|gb|AAQ64647.1|\n",
      "MVKSHIGSWILVLFVATWSDVGLCKKRPKPGGGWNTGGSRYPGQ...IVG gi|54125485|gb|AAV30502.1|\n",
      "MVKSHIGSWILVLFVAMWSDVGLCKKRPKPGGGWNTGGSRYPGQ...IVG gi|156953734|gb|ABU98047.1|\n",
      "MVKSHIGSWILVLFVAMWSDVGLCKKRPKPGGGWNTGGSRYPGQ...IVG gi|54125477|gb|AAV30498.1|\n",
      "MVKSHIGSWILVLFVAMWSDVGLCKKRPKPGGGWNTGGSRYPGQ...IVG gi|34334030|gb|AAQ64642.1|\n",
      "MVKSHIGSWILVLFVAMWSDVGLCKKRPKPGGGWNTGGSRYPGQ...IVG gi|197114556|gb|ACH43175.1|\n",
      "MVKSHIGSWILVLFVAMWSDVGLCKKRPKPGGGWNTGGSRYPGQ...IVG gi|154819104|gb|ABS87896.1|\n",
      "MVKSHIGSWILVLFVAMWSDVGLCKKRPKPGGGWNTGGSRYPGQ...IVG gi|119655297|gb|ABL86020.1|\n",
      "MVKSHIGSWILVLFVAMWSDVGLCKKRPKPGGGWNTGGSRYPGQ...IVG gi|154819106|gb|ABS87897.1|\n",
      "...\n",
      "MVKSHIGSWILVLFVAMWSDVGLCKKRPKPGGGWNTGGSRYPGQ...IVG gi|218563421|dbj|BAH03443.1|\n"
     ]
    }
   ],
   "source": [
    "from Bio import AlignIO\n",
    "align_file = open(\"prnp_alignment_muscle.clw\")\n",
    "align = AlignIO.read(align_file, \"clustal\")\n",
    "print align\n"
   ]
  },
  {
   "cell_type": "markdown",
   "metadata": {},
   "source": [
    "#### Q1: How many sequences were aligned in the PRNP alignment? How many sequences are present in your protein's MSA?"
   ]
  },
  {
   "cell_type": "raw",
   "metadata": {},
   "source": []
  },
  {
   "cell_type": "markdown",
   "metadata": {},
   "source": [
    "#### Q2: How many amino acid positions are in the PRNP alignment? How many amino acid positions are in your protein's MSA?"
   ]
  },
  {
   "cell_type": "raw",
   "metadata": {},
   "source": []
  },
  {
   "cell_type": "markdown",
   "metadata": {},
   "source": [
    "We can access the sequences in the alignment using the notation - align[#]. Where # = 0 refers to the first sequence in the alignment, # = 1 refers to the second, etc. \n",
    "\n",
    "Use this notation to print out the fourth sequence in this alignment."
   ]
  },
  {
   "cell_type": "code",
   "execution_count": 2,
   "metadata": {
    "collapsed": false
   },
   "outputs": [
    {
     "name": "stdout",
     "output_type": "stream",
     "text": [
      "ID: gi|54125467|gb|AAV30493.1|\n",
      "Name: <unknown name>\n",
      "Description: gi|54125467|gb|AAV30493.1|\n",
      "Number of features: 0\n",
      "Seq('MVKSHIGSWILVLFVVMWSDVGLCKKRPKPGGGWNTGGSRYPGQGSPGGNRYPS...IVG', SingleLetterAlphabet())\n"
     ]
    }
   ],
   "source": [
    "print align[3]"
   ]
  },
  {
   "cell_type": "markdown",
   "metadata": {},
   "source": [
    "Notice that each record in the alignment has 5 attributes. You can reference each of them as shown below."
   ]
  },
  {
   "cell_type": "code",
   "execution_count": 2,
   "metadata": {
    "collapsed": false
   },
   "outputs": [],
   "source": [
    "print align[0].id\n",
    "print align[0].description\n",
    "print align[0].features\n",
    "print align[0].name\n",
    "print align[0].seq"
   ]
  },
  {
   "cell_type": "markdown",
   "metadata": {},
   "source": [
    "We can print the length of each sequence in the alignment. Print the length of the second sequence in the alignment."
   ]
  },
  {
   "cell_type": "code",
   "execution_count": 3,
   "metadata": {
    "collapsed": false
   },
   "outputs": [
    {
     "name": "stdout",
     "output_type": "stream",
     "text": [
      "264\n"
     ]
    }
   ],
   "source": [
    "print len(align[1])"
   ]
  },
  {
   "cell_type": "markdown",
   "metadata": {},
   "source": [
    "#### Q3: Are all of the sequences in the alignment object (\"align\") the same length? You should be able to answer this based on the analysis you've done - explain."
   ]
  },
  {
   "cell_type": "raw",
   "metadata": {},
   "source": []
  },
  {
   "cell_type": "markdown",
   "metadata": {},
   "source": [
    "Write code below to check if your assumption was correct."
   ]
  },
  {
   "cell_type": "code",
   "execution_count": 4,
   "metadata": {
    "collapsed": false
   },
   "outputs": [
    {
     "name": "stdout",
     "output_type": "stream",
     "text": [
      "264\n",
      "264\n",
      "264\n",
      "264\n",
      "264\n",
      "264\n",
      "264\n",
      "264\n",
      "264\n",
      "264\n",
      "264\n",
      "264\n",
      "264\n",
      "264\n",
      "264\n",
      "264\n",
      "264\n",
      "264\n",
      "264\n",
      "264\n",
      "264\n",
      "264\n",
      "264\n"
     ]
    }
   ],
   "source": [
    "for seq in align:\n",
    "    print len(seq)"
   ]
  },
  {
   "cell_type": "markdown",
   "metadata": {},
   "source": [
    "Above we've referenced just the rows of the alignment - but we can also reference the columns of the alignment or reference particular columns of particular rows. \n",
    "\n",
    "The alignment object essentially consists of a matrix with the same number of rows as there are sequences and the same number of columns as positions in the alignment.\n",
    "\n",
    "Both the rows and columns of the alignment \"matrix\" can be treated as strings.  \n",
    "\n",
    "Recall how we can slice elements of a string:  \n",
    "variable_name[begining_position:ending_position]   "
   ]
  },
  {
   "cell_type": "code",
   "execution_count": 6,
   "metadata": {
    "collapsed": false
   },
   "outputs": [
    {
     "name": "stdout",
     "output_type": "stream",
     "text": [
      "fun\n"
     ]
    }
   ],
   "source": [
    "a = \"fundamental\" #here's a string\n",
    "print a[:3] #use the square bracket notation to print out the \"fun\" in fundamental\n"
   ]
  },
  {
   "cell_type": "markdown",
   "metadata": {},
   "source": [
    "We can likewise use this same notation to access both a subset of the rows and a subset of the columns.\n",
    "\n",
    "alignment_variable_name[begining_row:ending_row, begining_column:ending_column]  "
   ]
  },
  {
   "cell_type": "code",
   "execution_count": 7,
   "metadata": {
    "collapsed": false
   },
   "outputs": [
    {
     "name": "stdout",
     "output_type": "stream",
     "text": [
      "SingleLetterAlphabet() alignment with 4 rows and 4 columns\n",
      "MVKS gi|119655287|gb|ABL86015.1|\n",
      "MMKS gi|73697721|gb|AAZ81476.1|\n",
      "MVKS gi|54125465|gb|AAV30492.1|\n",
      "MVKS gi|54125467|gb|AAV30493.1|\n"
     ]
    }
   ],
   "source": [
    "a = align[:4, :4] #a is a variable assigned to the first four positions of the first four sequences\n",
    "print a\n"
   ]
  },
  {
   "cell_type": "markdown",
   "metadata": {},
   "source": [
    "Remember that we can use negative numbers to index."
   ]
  },
  {
   "cell_type": "code",
   "execution_count": 9,
   "metadata": {
    "collapsed": false
   },
   "outputs": [
    {
     "name": "stdout",
     "output_type": "stream",
     "text": [
      "SingleLetterAlphabet() alignment with 4 rows and 4 columns\n",
      "LIVG gi|8885894|gb|AAF80283.1|AF15618\n",
      "LIVG gi|53801347|gb|AAU93883.1|\n",
      "LIVG gi|8885900|gb|AAF80286.1|AF15618\n",
      "LIVG gi|218563421|dbj|BAH03443.1|\n"
     ]
    }
   ],
   "source": [
    "b = align[-4:, -4:] #b is a variable assigned to the last four positions of the last four sequences\n",
    "print b\n"
   ]
  },
  {
   "cell_type": "markdown",
   "metadata": {},
   "source": [
    "Given a good multiple sequence aligment, we're usually more interested in the amino acids within a column, than those within a row. After all, if we wanted to look sequence variation within a single protein an unaligned record in a fasta file would be just as good.   \n",
    "\n",
    "We'd like to loop over all the columns in our alignment and print out all the amino acids in that postion. "
   ]
  },
  {
   "cell_type": "code",
   "execution_count": 10,
   "metadata": {
    "collapsed": false
   },
   "outputs": [
    {
     "name": "stdout",
     "output_type": "stream",
     "text": [
      "Column: 1 MMMMMMMMMMMMMMMMMMMMMMM\n",
      "Column: 2 VMVVVVVVVVVVVVVVVVVVVVV\n",
      "Column: 3 KKKKKKKKKKKKKKKKKKKKKKK\n",
      "Column: 4 SSSSSSSSSSSSSSSSSSSSSSS\n",
      "Column: 5 HHHHHHHHHHHHHHHHHHHHHHH\n",
      "Column: 6 IIIIIIIIIIIIIIIIIIIIIII\n",
      "Column: 7 GGGGGGGGGGGGGGGGGGGGGGG\n",
      "Column: 8 SSSSSSSSSSSSSSSSSSSSSSS\n",
      "Column: 9 WWWWWWWWWWWWWWWWWWWWWWW\n",
      "Column: 10 IIIIIIIIIIIIIIIIIIIIIII\n",
      "Column: 11 LLLLLLLLLLLLLLLLLLLLLLL\n",
      "Column: 12 VVVVVVVVVVVVVVVVVVVVVVV\n",
      "Column: 13 LLLLLLLLLLLLLLLLLLLLLLL\n",
      "Column: 14 FFFFFFFFFFFFFFFFFFFFFFF\n",
      "Column: 15 VVVVVVVVVVVVVVVVVVVVVVV\n",
      "Column: 16 AAVVAAAAAAAAAAAAAAAAAAA\n",
      "Column: 17 MMMMMMMMMMTMMMMMMMMMMMM\n",
      "Column: 18 WWWWWWWWWWWWWWWWWWWWWWW\n",
      "Column: 19 SSSSSSSSSSSSSSSSSSSSSSS\n",
      "Column: 20 DDDDDDDDDDDDDDDDDDDDDDD\n",
      "Column: 21 VVVVVVVVVVVVVVVVVVVVVVV\n",
      "Column: 22 GGGGGGGGGGGGGGGGGGGGGGG\n",
      "Column: 23 LLLLLLLLLLLLLLLLLLLLLLL\n",
      "Column: 24 CCCCCCCCCCCCCCCCCCCCCCC\n",
      "Column: 25 KKKKKKKKKKKKKKKKKKKKKKK\n",
      "Column: 26 KKKKKKKKKKKKKKKKKKKKKKK\n",
      "Column: 27 RRRRRRRRRRRRRRRRRRRRRRR\n",
      "Column: 28 PPPPPPPPPPPPPPPPPPPPPPP\n",
      "Column: 29 KKKKKKKKKKKKKKKKKKKKKKK\n",
      "Column: 30 PPPPPPPPPPPPPPPPPPPPPPP\n",
      "Column: 31 GGGGGGGGGGGGGGGGGGGGGGG\n",
      "Column: 32 GGGGGGGGGGGGGGGGGGGGGGG\n",
      "Column: 33 GGGGGGGGGGGGGGGGGGGGGGG\n",
      "Column: 34 WWWWWWWWWWWWWWWWWWWWWWW\n",
      "Column: 35 NNNNNNNNNNNNNNNNNNNNNNN\n",
      "Column: 36 TTTTTTTTTTTTTTTTTTTTTTT\n",
      "Column: 37 GGGGGGGGGGGGGGGGGGGGGGG\n",
      "Column: 38 GGGGGGGGGGGGGGGGGGGGGGG\n",
      "Column: 39 SSSSSSSSSSSSSSSSSSSSSSS\n",
      "Column: 40 RRRRRRRRRRRRRRRRRRRRRRR\n",
      "Column: 41 YYYYYYYYYYYYYYYYYYYYYYY\n",
      "Column: 42 PPPPPPPPPPPPPPPPPPPPPPP\n",
      "Column: 43 GGGGGGGGGGGGGGGGGGGGGGG\n",
      "Column: 44 QQQQQQQQQQQQQQQQQQQQQQQ\n",
      "Column: 45 GGGGGGGGGGGGGGGGGGGGGGG\n",
      "Column: 46 SSSSSSSSSSSSSSSSSSSSSSS\n",
      "Column: 47 PPPPPPPPPPPPPPPPPPPPPPP\n",
      "Column: 48 GGGGGGGGGGGGGGGGGGGGGGG\n",
      "Column: 49 GGGGGGGGGGGGGGGGGGGGGGG\n",
      "Column: 50 NNNNNNNNNNNNNNNNNNNNNNN\n",
      "Column: 51 RRRRRRRRRRRRRRRRRRRRRRR\n",
      "Column: 52 YYYYYYYYYYYYYYYYYYYYYYY\n",
      "Column: 53 PPPPPPPPPPPPPPPPPPPPPPP\n",
      "Column: 54 SPSSPPPPPPPPPPPPPPPPPPP\n",
      "Column: 55 QQQQQQQQQQQQQQQQQQQQQQQ\n",
      "Column: 56 GGGGGGGGGGGGGGGGGGGGGGG\n",
      "Column: 57 G-GG-----GGGGGGGG----G-\n",
      "Column: 58 G-GG-----GGGGGGGG----G-\n",
      "Column: 59 G-GG-----GGXGGGGG----G-\n",
      "Column: 60 W-WW-----WWWWWWWW----W-\n",
      "Column: 61 G-GG-----GGGGGGGG----G-\n",
      "Column: 62 Q-QQ-----QQQQQQQQ----Q-\n",
      "Column: 63 P-PP-----PPPPPPPP----P-\n",
      "Column: 64 H-HH-----HHHHHHHH----H-\n",
      "Column: 65 GGGGGGGGGGGGGGGGGGGGGGG\n",
      "Column: 66 GGGGGGGGGGGGGGGGGGGGGGG\n",
      "Column: 67 GGGGGGGGGGGGGGGGGGGGSGG\n",
      "Column: 68 WWWWWWWWWWWWWWWWWWWWWWW\n",
      "Column: 69 GGGGGGGGGGGGGGGGGGGGGGG\n",
      "Column: 70 QQQQQQQQQQQQQQQQQQQQQQQ\n",
      "Column: 71 PPPPPPPLPPPPPPPPPPPPPPP\n",
      "Column: 72 HHHHHHHHHHHHHHHHHHHHHHH\n",
      "Column: 73 GGGGGGGGGGGGGGGGGGGGGGG\n",
      "Column: 74 GGGGGGGGGGGGGGGGGGGGGGG\n",
      "Column: 75 GGGGGGGGGGGGGGGGGGGGGGG\n",
      "Column: 76 WWWWWWWWWWWWWWWWWWWWWWW\n",
      "Column: 77 GGGGGGGGGGGGGGGGGGGGGGG\n",
      "Column: 78 QQQQQQQQQQQQQQQQQQQQQQQ\n",
      "Column: 79 PPPPPPPPPPPPPPPPPPPPPPP\n",
      "Column: 80 HHHHHHHHHHHHHHHHHHHHHHH\n",
      "Column: 81 GGGGGGGGGGGGGGGGGGGGGGG\n",
      "Column: 82 GGGGGGGGGGGGGGGGGGGGGGG\n",
      "Column: 83 GGGGGGGGGGGGGGGGGGGGGGG\n",
      "Column: 84 WWWWWWWWWWWWWWWWWWWWWWW\n",
      "Column: 85 GGGGGGGGGGGGGGGGGGGGGGG\n",
      "Column: 86 QQQQQQQQQQQQQQQQQQQQQQQ\n",
      "Column: 87 PPPPPPPPPPPPPPPPPPPPPPP\n",
      "Column: 88 HHHHHHHHHHHHHHHHHHHHHHH\n",
      "Column: 89 GGGGGGGGGGGGGGGGGGGGGGG\n",
      "Column: 90 GGGGGGGGGGGGGGGGGGGGGGG\n",
      "Column: 91 GGGGGGGGGGGGGGGGGGGGGGG\n",
      "Column: 92 WWWWWWWWWWWWWWWWWWWWWWW\n",
      "Column: 93 GGGGGGGGGGGGGGGGGGGGGGG\n",
      "Column: 94 QQQQQQQQQQQQQQQQQQQQQQQ\n",
      "Column: 95 PPPPPPPPPPPPPPPPPPPPPPP\n",
      "Column: 96 HHHHHHHHHHHHHHHHHHHHHHH\n",
      "Column: 97 GGGGGGGGGGGGGGGGGGGGGGG\n",
      "Column: 98 GGGGGGGGGGGGGGGGGGGGGGG\n",
      "Column: 99 GGGGGGGGGGGGGGGGGGGGGGG\n",
      "Column: 100 SGGGGGGGGGGGGGGGGGGGGGG\n",
      "Column: 101 WWWWWWWWWWWWWWWWWWWWWWW\n",
      "Column: 102 GGGGGGGGGGGGGGGGGGGGGGG\n",
      "Column: 103 QQQQQQQQQQQQQQQQQQQQQQQ\n",
      "Column: 104 GGGGGGGGGGGGGGGGGCGSGGG\n",
      "Column: 105 GGGGGGGGGGGGGGGGGGGGGGG\n",
      "Column: 106 TTTTSSSSSTTTTTTTTTTTTTT\n",
      "Column: 107 HHHHHHHHHHHHHHHHHHHHHHH\n",
      "Column: 108 GSGGSSSSSGGGGGGSSSSSSSS\n",
      "Column: 109 QQQQQQQQQQQQQQQQQQQQQQQ\n",
      "Column: 110 WWWWWWWWWWWWWWWWWWWWWWW\n",
      "Column: 111 NNNNNNNNNNNNNNNNNNNNNNN\n",
      "Column: 112 KKKKKKKKKKKKKKKKKKKKKKK\n",
      "Column: 113 PPPPPPPPPPPPPPPPPPPPPPP\n",
      "Column: 114 SSSSSSSSSSSSSSSXSSSSSSS\n",
      "Column: 115 KKKKKKKKKKKKKKKKKKKKKKK\n",
      "Column: 116 PPPPPPPPPPPPPPPPPPPPPPP\n",
      "Column: 117 KKKKKKKKKKKKKKKKKKKKKKK\n",
      "Column: 118 TTTTTTTTTTTTTTTTTTTTTTT\n",
      "Column: 119 NNNNNNNNNNNNNNNNNNNNNNN\n",
      "Column: 120 MMMMMMMMMMMMMMMMMMMMMMM\n",
      "Column: 121 KKKKKKKKKKKKKKKKKKKKKKK\n",
      "Column: 122 HHHHHHHHHHHHHHHHHHHHHHH\n",
      "Column: 123 VVVVVVVVVVVVVVVVMVMVVVV\n",
      "Column: 124 AAAAAAAAAAAAAAAAAAAAAAA\n",
      "Column: 125 GGGGGGGGGGGGGGGGGGGGGGG\n",
      "Column: 126 AAAAAAAAAAAAAAAAAAAAAAA\n",
      "Column: 127 AAAAAAAAAAAAAAAAAAAAAAA\n",
      "Column: 128 AAAAAAAAAAAAAAAAAAAAAAA\n",
      "Column: 129 AAAAAAAAAAAAAVAAAAAAAAA\n",
      "Column: 130 GGGGGGGGGGGGGGGGGGGGGGG\n",
      "Column: 131 AAAAAAAAAAAAAAAAATAAAAA\n",
      "Column: 132 VVVVVVVVVVVVVVVVVVVVVVV\n",
      "Column: 133 VVVVVVVVVVVVVVVVVVVVVVV\n",
      "Column: 134 GGGGGGGGGGGGGGGGGGGGGGG\n",
      "Column: 135 GGGGSGGGGGGGGGGGGGGGGGG\n",
      "Column: 136 LLLLLLLLLLLLLLLLLLLLLLL\n",
      "Column: 137 GSGGGGGGGGGGGGGGGGGGGGG\n",
      "Column: 138 GGGGGGGGGGGGGGGGGGGGGGG\n",
      "Column: 139 YYYYYYYYYYYYYYYYYYYYYYY\n",
      "Column: 140 MMMMMMMMMMMMMMMMMMMMMMM\n",
      "Column: 141 LLLLLLLLLLLLLLLLLLLLLLL\n",
      "Column: 142 GGGGGGGGGGGGGGGGGGGGGGG\n",
      "Column: 143 SSSSSSSSSSSSSSSSSSSSSSS\n",
      "Column: 144 AAAAAAAAAAAAAAAAAAAAAAA\n",
      "Column: 145 MMMMMMMMMMMMMMMMMMMMMMM\n",
      "Column: 146 SSSSSSSSSSSSSSSSSSSSSSS\n",
      "Column: 147 RRRRRRRRRRRRRRRRRRRRRRR\n",
      "Column: 148 PPPPPPPPPPPPPPPPPPPPPPP\n",
      "Column: 149 LLLLLLLLLLLLLLLLLLLLLLL\n",
      "Column: 150 IIIIIIMIIIIIIIIIIIIIIII\n",
      "Column: 151 HHHHHHHHHHHHHHHHHHHHHHH\n",
      "Column: 152 FFFFFFFFFFFFFFFFFFFFFFF\n",
      "Column: 153 GGGGGGGGGGGGGGGGGGGGGGG\n",
      "Column: 154 SNNNNNNNNNSSSSSNNNNNNNN\n",
      "Column: 155 DDDDDDDDDDDDDDDDDDDDDDD\n",
      "Column: 156 YYYYYYYYYYYYYYYYYYYYYYY\n",
      "Column: 157 EEEEEEEEEEEEEEEEEEEEEEE\n",
      "Column: 158 DDDDDDDDDDDDDDDDDDDDDDD\n",
      "Column: 159 RRRRRRRRRRRRRRRRRRRRRRR\n",
      "Column: 160 YYYYYYYYYYYYYYYYYYYYYYY\n",
      "Column: 161 YYYYYYYYYYYYYYYYYYYYYYY\n",
      "Column: 162 RRRRRRRRRRRRRRRRRRRRRRR\n",
      "Column: 163 EEEEEEEEEEEEEEEEEEEEEEE\n",
      "Column: 164 NNNNNNNNNNNNNNNNNNNNNNN\n",
      "Column: 165 MMMMMMMMMMMMMMMMMMMMMMM\n",
      "Column: 166 YYHHYYYYHHHHHHHYYYYYYYY\n",
      "Column: 167 RRRRRRRRRRRRRRRRRRRRRRR\n",
      "Column: 168 YYYYYYYYYYYYYYYYYYYYYYY\n",
      "Column: 169 PPPPPPPPPPPPPPPPPPPPPPP\n",
      "Column: 170 NNNNNNNNNNNNNNNNNNNNNNN\n",
      "Column: 171 QQQQQQQQQQQQQQQQQQQQQQQ\n",
      "Column: 172 VVVVVVVVVVVVVVVVVVVVVVV\n",
      "Column: 173 YYYYYYYYYYYYYYYYYYYYYYY\n",
      "Column: 174 YYYYYYYYYYYYYYYYYYYYYYY\n",
      "Column: 175 RRRRRRRRRRRRRRRRRRRRRRR\n",
      "Column: 176 PPPPPPPPPPPPPPPPPPPPPPP\n",
      "Column: 177 VMVVVVVVVVVVVVVVVVVVVVV\n",
      "Column: 178 DDDDDDDDDDDDDDDDDDDDDDD\n",
      "Column: 179 QQQQQQQQQQQQQQQRQQQQQQQ\n",
      "Column: 180 YYYYYYYYYYYYYYYYYYYYYYY\n",
      "Column: 181 SNSSSSSSSSSSSSSSSNSNNSS\n",
      "Column: 182 NNNNNNNNNNNNNNNNNNNNNNN\n",
      "Column: 183 QQQQQQQQQQQQQQQQQQQQQQQ\n",
      "Column: 184 NNNNNNNNNNNNNNNNNDNNNNN\n",
      "Column: 185 NTSNNNNNNNNNSNNNNTNTTTN\n",
      "Column: 186 FFFFFFFFFFFFFFFFFFFFFFF\n",
      "Column: 187 VVVVVVVVVVVVVVVVVVVVVVV\n",
      "Column: 188 HHHHHHHHHHHHHHHHHHHHHHH\n",
      "Column: 189 DDDDDDDDDDDDDDDDDDDDDDD\n",
      "Column: 190 CCCCCCCCCCCCCCCCCCCCCCC\n",
      "Column: 191 VVVVVVVVVVVVVVVVVVVVVVV\n",
      "Column: 192 NNNNNNNNNNNNNNNNNNNNNNN\n",
      "Column: 193 IIIIIIIIIIIIIIIIIIIIIII\n",
      "Column: 194 TTTTTTTTTTTTTTTTTTTTTTT\n",
      "Column: 195 VVVVVVVVVVVVVVVVVVVVVVV\n",
      "Column: 196 KKKKKKKKKKKKKKKKKKKKKKK\n",
      "Column: 197 QQEELQQQEEEEEEEQQQQQQQQ\n",
      "Column: 198 HHHHHHHHHHHHHHHHHHHHHHH\n",
      "Column: 199 TTTTTTTTTTTTTTTTTTTTTTT\n",
      "Column: 200 VVVVVVVVVVVVVVVVVVVVVVV\n",
      "Column: 201 TTTTTTTTTTTTTTTTTTTTTTT\n",
      "Column: 202 TTTTTTTTTTTTTTTTTTTTTTT\n",
      "Column: 203 TTTTTTTTTTTTTTTTTTTTTTT\n",
      "Column: 204 TTTTTTTTTTTTTTTTTTTTTTT\n",
      "Column: 205 KKKKKKKKKKKKKKKKKKKKKKK\n",
      "Column: 206 GGGGGGGGGGGGGGGGGGGGGGG\n",
      "Column: 207 EEEEEEEEEEEEEEEEEEEEEEE\n",
      "Column: 208 NNNNNNNNNNNNNNNNNNNNNNN\n",
      "Column: 209 FFFFFFFFFFFFFFFFFFFFFFF\n",
      "Column: 210 TTTTTTTTTTTTTTTTTTTTTTT\n",
      "Column: 211 EEEEEEEEEEEEEEXEEEEEEEE\n",
      "Column: 212 TTTTTTTTTTTTTTTTTTTTTTT\n",
      "Column: 213 DDDDDDDDDDDDDDDDDDDDDDD\n",
      "Column: 214 IIVVIIIIIIIIIIIIIIIIIII\n",
      "Column: 215 KKKKKKKKKKKKKKKKKKKKKKK\n",
      "Column: 216 MMMMIIIIMMMMMMMMMMIMMMM\n",
      "Column: 217 MMMMMMMMMMMMMMMMMMMMMMM\n",
      "Column: 218 EEEEEEEEEEEEEEEEEEEEEEE\n",
      "Column: 219 RRRRRRRRRRRRRRRRRRRRRRR\n",
      "Column: 220 VVVVVVVVVVVVVVVVVVVVVVV\n",
      "Column: 221 VVVVVVVVVVVVVVVVVVVVVVV\n",
      "Column: 222 EEEEEEEEEEEEEEEEEEEEEEE\n",
      "Column: 223 QQQQQQQQQQQQQQQQQQQQQQQ\n",
      "Column: 224 MMMMMMMMMMMMMMMMMMMMMMM\n",
      "Column: 225 CCCCCCCCCCCCCCCCCCCCCCC\n",
      "Column: 226 IIIIIIIIIIIIIIIIIIIIIII\n",
      "Column: 227 TTTTTTTTTTTTTTTTTTTTTTT\n",
      "Column: 228 QQQQQQQQQQQQQQQQQQQQQQQ\n",
      "Column: 229 YYYYYYYYYYYYYYYYYYYYYYY\n",
      "Column: 230 QQQQQQQQQQQQQQQQQQQQQQQ\n",
      "Column: 231 RRRRRRRRRRRRRRRRRRRRRRR\n",
      "Column: 232 EEEEEEEEEEEEEEEEEEEEEEE\n",
      "Column: 233 SSSSSSSSSSSSSSSSSSSSSSS\n",
      "Column: 234 EQQEQEQQQQQQQQQEEQQQQQQ\n",
      "Column: 235 AAAAAAAAAAAAAAAAAAAAAAA\n",
      "Column: 236 YYYYYYYYYYYYYYYYYYYYYYY\n",
      "Column: 237 YYYYYYYYYYYYYYYYYYYYYYY\n",
      "Column: 238 QQQQQQQQQQQQQQQQQQQQQQQ\n",
      "Column: 239 RRRRRRRRRRRRRRRRRRRRRRR\n",
      "Column: 240 GGGGGGGGGGGGGGGGGGGGGGG\n",
      "Column: 241 AAAAAAAAAAAAAAAAAAAAAAA\n",
      "Column: 242 SSSSSSSSSSSSSSSSSSSSSSS\n",
      "Column: 243 VVVVVVVVVVVVVVVVVVVVVVV\n",
      "Column: 244 IIIIIIIIIIIIIIIIIIIIIII\n",
      "Column: 245 LLLLLLLLLLLLLLLLLLLLLLL\n",
      "Column: 246 FFFFFFFFFFFFFFFFFFFFFFF\n",
      "Column: 247 SSSSSSSSSSSSSSSSSSSSSSS\n",
      "Column: 248 SSSSSSSPSSSSSSSSSSSSSSS\n",
      "Column: 249 PPPPPPPPPPPPPPPPPPPPPPP\n",
      "Column: 250 PPPPPPPPPPPPPPPPPPPPPPP\n",
      "Column: 251 VVVVVVVVVVVVVVVVVVVVVVV\n",
      "Column: 252 IIIIIIIIIIIIIIIIIIIIIII\n",
      "Column: 253 LLLLLLLLLLLLLLLFFLLLLLL\n",
      "Column: 254 LLLLLLLLLLLLLLLLLLLLLLL\n",
      "Column: 255 IIIIIIIIIIIIIIIIIIIIIII\n",
      "Column: 256 SSSSSSSSSSSSSSSSSSSSSSS\n",
      "Column: 257 FFFFFFFFFFFFFFFFFFFFFFF\n",
      "Column: 258 LLLLLLLLLLLLLLLLLLLLLLL\n",
      "Column: 259 IIIIIIIIIIIIIIIIIIIIIII\n",
      "Column: 260 FFFFFFFFFFFFFFFFFFFFFFF\n",
      "Column: 261 LLLLLLLLLLLLLLLLLLLLLLL\n",
      "Column: 262 IIIIIIIIIIIIIIIIIIIIIII\n",
      "Column: 263 VVVVVVVVVVVVVVVVVVVVVVV\n",
      "Column: 264 GGGGGGGGGGGGGGGGGGGGGGG\n"
     ]
    }
   ],
   "source": [
    "# count is a variable set to zero, which will be incremented to count the number of positions (columns) in the alignment\n",
    "count = 0\n",
    "for i in range(len(align[0])): # for each number in a list of numbers from 0 to the length of the sequences in the alignment\n",
    "    # increment the value of count\n",
    "    count += 1\n",
    "    print \"Column:\", count, align[:,i] # print the position in the alignment and the amino acids in the column at the position\n",
    "    "
   ]
  },
  {
   "cell_type": "markdown",
   "metadata": {},
   "source": [
    "Now that we're able to isolate individual columns of our alignment - we'd like to know something about the alignment at each position. Two things we're particularly interested in - the presence of gaps and the amino acid composition of the column.  \n",
    "\n",
    "Remember that we can test wether a character is in a string quite simply."
   ]
  },
  {
   "cell_type": "code",
   "execution_count": 11,
   "metadata": {
    "collapsed": false
   },
   "outputs": [
    {
     "data": {
      "text/plain": [
       "True"
      ]
     },
     "execution_count": 11,
     "metadata": {},
     "output_type": "execute_result"
    }
   ],
   "source": [
    "\"-\" in \"Q-QQ-----QQQQQQQQ----Q-\"\n"
   ]
  },
  {
   "cell_type": "code",
   "execution_count": 12,
   "metadata": {
    "collapsed": false
   },
   "outputs": [
    {
     "data": {
      "text/plain": [
       "False"
      ]
     },
     "execution_count": 12,
     "metadata": {},
     "output_type": "execute_result"
    }
   ],
   "source": [
    "\"-\" in \"SPSSPPPPPPPPPPPPPPPPPPP\"\n"
   ]
  },
  {
   "cell_type": "markdown",
   "metadata": {},
   "source": [
    "We can use this as part of a conditional statement. "
   ]
  },
  {
   "cell_type": "code",
   "execution_count": 13,
   "metadata": {
    "collapsed": false
   },
   "outputs": [
    {
     "name": "stdout",
     "output_type": "stream",
     "text": [
      "Found a dash\n"
     ]
    }
   ],
   "source": [
    "# if there is a dash in the string\n",
    "if \"-\" in \"Q-QQ-----QQQQQQQQ----Q-\":\n",
    "    # print out a message\n",
    "    print \"Found a dash\"\n",
    "    "
   ]
  },
  {
   "cell_type": "markdown",
   "metadata": {},
   "source": [
    "Maybe we want to count the number of columns in an alignment where at least one sequence contains a gap."
   ]
  },
  {
   "cell_type": "code",
   "execution_count": 12,
   "metadata": {
    "collapsed": false
   },
   "outputs": [],
   "source": [
    "# count is a variable set to zero, which will be incremented to count the number of positions (columns) in the alignment containing a gap\n",
    "count_dash = 0\n",
    "for i in range(len(align[0])): # for each number in a list of numbers from 0 to the length of the sequences in the alignment\n",
    "# if there is a dash in the string\n",
    "    if \"-\" in align[:,i]:\n",
    "    # increment the value of count_dash by one\n",
    "        count_dash += 1\n",
    "print count_dash\n"
   ]
  },
  {
   "cell_type": "markdown",
   "metadata": {},
   "source": [
    "In the cell below, calculate the proportion of all positions in the alignment have a gap in at least one of the sequences."
   ]
  },
  {
   "cell_type": "code",
   "execution_count": null,
   "metadata": {
    "collapsed": false
   },
   "outputs": [],
   "source": []
  },
  {
   "cell_type": "markdown",
   "metadata": {},
   "source": [
    "Next, count the number of different states (amino acids or positions) that are found in each position in the alignment. "
   ]
  },
  {
   "cell_type": "code",
   "execution_count": null,
   "metadata": {
    "collapsed": false
   },
   "outputs": [],
   "source": [
    "aa_list = [] # position_list is a list to contain the count of the number of unique amino acids found at each position\n",
    "gap_list = [] # gap_list is a list to contain the count of the number of gaps found at each position\n",
    "for i in range(len(align[0])): # for each number in a list of numbers from 0 to the length of the sequences in the alignment\n",
    "    temp_aa_list = [] # list to contain each unique amino acid\n",
    "    temp_gap = 0\n",
    "    for j in align[:,i]: # loop over each character in the alignment column\n",
    "        if  j == \"-\": # if there is a gap in the position \n",
    "            temp_gap +=1 # increment the value of temp_gap by one\n",
    "        elif j in temp_aa_list: # if amino acid is already in temp_aa_list\n",
    "            continue# continue on the the next iteration of the for loop\n",
    "        else: # if the aa is not already in temp_aa_list\n",
    "            temp_aa_list.append(j) # add that amino acid to the list\n",
    "    aa_list.append(len(temp_aa_list)) # count the number of unique amino acids found at that position (the length of temp_aa_list, add that value to aa_list\n",
    "    gap_list.append(temp_gap)# add the number of gaps found at that position to gap_list\n",
    "        \n",
    "assert len(aa_list) == len(gap_list) == len(align[0]) # check that there are as many elements in the amino acid list and in the gap_list as there are positions in each aligned sequence\n",
    "print aa_list\n",
    "print gap_list"
   ]
  },
  {
   "cell_type": "code",
   "execution_count": null,
   "metadata": {
    "collapsed": false
   },
   "outputs": [],
   "source": [
    "import matplotlib.pyplot as plt \n",
    "%pylab inline\n",
    "\n",
    "\n",
    "xaxis = arange(len(aa_list)) # the x-axis has the same number of positions as there are in the whole alignment\n",
    "plt.plot(aa_list, 'b') # plot the count of unique amino acids for each position, in blue\n",
    "plt.plot(gap_list, 'r') # plot the count of gaps in the alignemnt for each position, in red\n",
    "title(\"Number of different amino acids and gaps \\n at each position in alignment\") #add a title to the graph\n",
    "ylabel(\"Count\") #label the y-axis\n",
    "xlabel(\"aa position in protein\") #label the x-axis\n",
    "show()\n"
   ]
  },
  {
   "cell_type": "markdown",
   "metadata": {},
   "source": [
    "**Q4: Refer to the lecture HW assignments and enter the following information about a domain in your protein in the box below:**    \n",
    "\n",
    "* the name and function of the conserved domain    \n",
    "\n",
    "* the CDD or SMART or Pfam accession number of the domain   \n",
    "\n",
    "* the begining and ending postion of the domain relative to your gene's protein sequence\n",
    "\n",
    "If your protein does not have a conserved domain - refer to the MSA of your gene's protein sequence and chose the region of your protein which appears to be most conserved. Estimate the begining and ending position of this region."
   ]
  },
  {
   "cell_type": "raw",
   "metadata": {},
   "source": []
  },
  {
   "cell_type": "markdown",
   "metadata": {},
   "source": [
    "First, we need to find our reference protein in the alignment. Then we will want to identify the positions of the alignment that correspond to the conserved domain. Note that the location of the domain within our sequence may not correspond to the same location within our alignment, as the alignment might have introduced gaps in this region of our sequence. In addition to mapping the position of the domain onto the positions of the alignment, we need to map real world positions into Python positions."
   ]
  },
  {
   "cell_type": "code",
   "execution_count": 15,
   "metadata": {
    "collapsed": false
   },
   "outputs": [],
   "source": [
    "prot_of_int = \"AAZ81476.1\" #the accession number of our reference protein\n",
    "prot_begin_domain = 1 # begining aa of the domain relative to our protein of interest, real world position\n",
    "prot_end_domain = 30 # ending aa of the domain relative to our protein of interest, real world position\n",
    "\n",
    "len_domain = prot_end_domain - prot_begin_domain + 1\n",
    "print \"The domain has\", len_domain, \"amino acids in the reference sequence\", prot_of_int\n",
    "\n",
    "for i in align: # for each record in the alignment\n",
    "    if prot_of_int in i.id: #if the accession number of our protein of interest is in the id of the record\n",
    "        align_pos_counter = 0 # postion within the alignment, Python counting\n",
    "        aa_counter = 1 # postion of in amino acid sequence, real counting\n",
    "        for j in i.seq: # for each position in the aligned of the sequence of that record\n",
    "            if j.isalpha() is True: #ask if j is an amino acid (a letter) as opposed to a gap\n",
    "                if aa_counter == prot_begin_domain: #if the position in the amino acid sequence of the alignment is equal to the starting position of the domain\n",
    "                    # create a variable called align_begin_domain and assign it the value of align_pos_counter\n",
    "                elif aa_counter == prot_end_domain: #if the position in the amino acid sequence of the alignment is equal to the ending position of the domain \n",
    "                    # create a variable called align_end_domain and assign it the value of align_pos_counter plus one\n",
    "                # advance the count of the amino acid in the reference sequence\n",
    "            # advance the count of the positions in the alignment\n",
    "        ref_domain_region = i.seq[align_begin_domain:align_end_domain] # the region of the alignment corresponding to the location of the domain in our protein of interest\n",
    "        print \"Domain region of alignment: \", ref_domain_region\n",
    "        print \"Length of domain region: \", len(ref_domain_region)\n",
    "        \n",
    "#check that our alignment position counter as counted as many amino acids as there are positions in the domain\n",
    "\n",
    "print \"The domain begins at position \", align_begin_domain, \" of the alignment.\"\n",
    "print \"The domain ends at position \", align_end_domain, \" of the alignment.\"\n"
   ]
  },
  {
   "cell_type": "markdown",
   "metadata": {},
   "source": [
    "Now that we know what positions in the alignment correspond to the location of the domain, it might be interesting to see where the domain is found relative to the gaps and regions of amino acid diveristy in your protein."
   ]
  },
  {
   "cell_type": "code",
   "execution_count": null,
   "metadata": {
    "collapsed": false
   },
   "outputs": [],
   "source": [
    "import matplotlib.pyplot as plt \n",
    "%pylab inline\n",
    "\n",
    "\n",
    "xaxis = arange(len(aa_list)) # the x-axis has the same number of positions as there are in the whole alignment\n",
    "plt.plot(aa_list, 'b') # plot the count of unique amino acids for each position, in blue\n",
    "plt.plot(gap_list, 'r') # plot the count of gaps in the alignemnt for each position, in red\n",
    "plt.axvspan(align_begin_domain, align_end_domain, facecolor='grey', alpha=0.5) # create a grey region corresponding to the coding region\n",
    "title(\"Number of different amino acids and gaps \\n at each position in alignment\") #add a title to the graph\n",
    "ylabel(\"Count\") #label the y-axis\n",
    "xlabel(\"aa position in protein\") #label the x-axis\n",
    "show()\n"
   ]
  },
  {
   "cell_type": "markdown",
   "metadata": {},
   "source": [
    "#### **Q5**: For the PRNP alignment, were gaps introduced into the N-terminal PRNP domain? For the alignment of your gene, were gaps introduced in your chosen domain?"
   ]
  },
  {
   "cell_type": "raw",
   "metadata": {},
   "source": []
  },
  {
   "cell_type": "markdown",
   "metadata": {},
   "source": [
    "Now that we know the region of the alignment that corresponds to the domain we're interested in - let's pull the aligned domain out of the main alignment."
   ]
  },
  {
   "cell_type": "code",
   "execution_count": 16,
   "metadata": {
    "collapsed": false
   },
   "outputs": [],
   "source": [
    "domain_align = align[:, align_begin_domain:align_end_domain] #domain_align is a variable assigned to the part of the alignment corresponding to the domain\n",
    "print domain_align \n"
   ]
  },
  {
   "cell_type": "markdown",
   "metadata": {},
   "source": [
    "Now let's loop over each position in the domain alignment and count the number of times the amino acid of the reference sequence is found at that position."
   ]
  },
  {
   "cell_type": "code",
   "execution_count": 18,
   "metadata": {
    "collapsed": false
   },
   "outputs": [],
   "source": [
    "perc_ref_aa_list = [] # perc_ref_aa_list is an empty list, later to hold the percent of sequences having the reference amino acid\n",
    "\n",
    "# for each number, i, in a list of numbers from 0 to the length of the domain in the alignment of your protein - ref_domain_region, defined above\n",
    "    # create count_aa a variable to hold the count of the number of times the reference amino acid is found\n",
    "    for aa in domain_align[:,i]: # for each amino acid in the string containing all amino acids at that position in the alignment\n",
    "        # if the amino acid is the reference amino acid\n",
    "            # increase the value of count_aa by one\n",
    "    perc_aa = # calculate the number of times the amino acid in the reference sequence occurs in the other sequences at that position in the alignment\n",
    "    perc_ref_aa_list.append(count_aa/float(len(domain_align[:,i]))*100) # add perc_aa to the list perc_ref_aa_list\n",
    "\n",
    "assert len(perc_ref_aa_list) == len(ref_domain_region) # check that there are as many elements in perc_ref_aa_list as there are positions in the aligned domain\n",
    "print perc_ref_aa_list\n"
   ]
  },
  {
   "cell_type": "code",
   "execution_count": 19,
   "metadata": {
    "collapsed": false
   },
   "outputs": [],
   "source": [
    "import matplotlib.pyplot as plt # import a set of code written for generating graphics and tell the computer how to display graphs\n",
    "%pylab inline\n",
    "xaxis = arange() # the x-axis has the same number of positions as there are in the domain alignment\n",
    "bar(xaxis, perc_ref_aa_list) # chart will be a bar chart, as many positions on the x-axis as there are positions in the domain and the count of the reference amino acids at the position on the y-axis\n",
    "xticks(xaxis+0.5, ref_domain_region) # label the x-axis with the sequence of the alignment corresponding to the domain in our protein of interest\n",
    "xlim(0, len(perc_ref_aa_list))\n",
    "title(\"Percentage of sequences with same amino acid as \" + prot_of_int ) #add a title to the graph\n",
    "ylabel(\"Percent\") #label the y-axis\n",
    "show()\n"
   ]
  },
  {
   "cell_type": "markdown",
   "metadata": {},
   "source": [
    "That's all folks! Upload your notebook and the multiple sequence alignment file for your protein to Blackboard!"
   ]
  }
 ],
 "metadata": {
  "kernelspec": {
   "display_name": "Python 2",
   "language": "python",
   "name": "python2"
  },
  "language_info": {
   "codemirror_mode": {
    "name": "ipython",
    "version": 2
   },
   "file_extension": ".py",
   "mimetype": "text/x-python",
   "name": "python",
   "nbconvert_exporter": "python",
   "pygments_lexer": "ipython2",
   "version": "2.7.9"
  }
 },
 "nbformat": 4,
 "nbformat_minor": 0
}
