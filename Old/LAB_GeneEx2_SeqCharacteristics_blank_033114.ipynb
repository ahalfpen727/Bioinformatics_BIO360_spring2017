{
 "metadata": {
  "name": ""
 },
 "nbformat": 3,
 "nbformat_minor": 0,
 "worksheets": [
  {
   "cells": [
    {
     "cell_type": "heading",
     "level": 5,
     "metadata": {},
     "source": [
      "Q0: What's your name?"
     ]
    },
    {
     "cell_type": "raw",
     "metadata": {},
     "source": []
    },
    {
     "cell_type": "markdown",
     "metadata": {},
     "source": [
      "The purpose of this exercise is to retrieve your gene's mRNA and protein sequences from Genbank and perform some preliminary analysis."
     ]
    },
    {
     "cell_type": "code",
     "collapsed": false,
     "input": [
      "import os\n",
      "os.getcwd() # identify the current working directory"
     ],
     "language": "python",
     "metadata": {},
     "outputs": [],
     "prompt_number": 3
    },
    {
     "cell_type": "code",
     "collapsed": false,
     "input": [
      "os.chdir(os.path.join(os.getcwd(), 'Desktop')) # change the working directory to your computer's desktop\n",
      "os.mkdir('BIOL361_GeneEx2') # make a folder on the Desktop called BIOL361_GeneEx2\n",
      "\n",
      "os.chdir(os.path.join(os.getcwd(),'BIOL361_GeneEx2')) # change the working directory to BIOL361_GeneEx2\n",
      "os.getcwd() # then check the current working directory"
     ],
     "language": "python",
     "metadata": {},
     "outputs": [],
     "prompt_number": 4
    },
    {
     "cell_type": "markdown",
     "metadata": {},
     "source": [
      "Transfer the fasta files containing the 5'UTR, CDS, and 3'UTR sequences of your gene into the file BIOL361_GeneEx2."
     ]
    },
    {
     "cell_type": "heading",
     "level": 3,
     "metadata": {},
     "source": [
      "1. Identifying the GC content of regions of your mRNA."
     ]
    },
    {
     "cell_type": "code",
     "collapsed": false,
     "input": [
      "from Bio import Entrez # we'll import a set of code written for querying NCBI databases using Entrez\n",
      "from Bio import SeqIO # and a set of code specific for dealing with sequences"
     ],
     "language": "python",
     "metadata": {},
     "outputs": [],
     "prompt_number": 3
    },
    {
     "cell_type": "code",
     "collapsed": false,
     "input": [
      "GI_id = \"\" # enter the accession # or GeneID for the mRNA sequence of your gene ***as a string***"
     ],
     "language": "python",
     "metadata": {},
     "outputs": [],
     "prompt_number": 48
    },
    {
     "cell_type": "markdown",
     "metadata": {},
     "source": [
      "Documentation for efecth http://www.ncbi.nlm.nih.gov/books/NBK25499/#chapter4.EFetch  \n",
      "\n",
      "Code adapted from Biopython Tutorial, 5.3.1  Parsing GenBank records from the net"
     ]
    },
    {
     "cell_type": "code",
     "collapsed": false,
     "input": [
      "Entrez.email = \"\" # let NCBI know who you are\n",
      "handle = Entrez.efetch(db=\"nucleotide\", rettype=\"gb\", retmode=\"text\", id=GI_id) # db = database to query, rettype = retrieval type, retmode = retrieval mode \n",
      "nt_seq_record = SeqIO.read(handle, \"gb\") #read the contents \"fetched\" from NCBI\n",
      "handle.close()"
     ],
     "language": "python",
     "metadata": {},
     "outputs": [],
     "prompt_number": 2
    },
    {
     "cell_type": "code",
     "collapsed": false,
     "input": [
      "ntid = nt_seq_record.id # assign the accession number of the sequence (stored in the id attribute of nt_seq_record) to the variable ntid\n",
      "#print the accession number\n",
      "\n",
      "ntseq = nt_seq_record.seq # assign the sequence (stored in the seq attribute of nt_seq_record) to the variable ntseq \n",
      "#print the sequence\n",
      "\n",
      "#print the number of nucleotides in the sequence "
     ],
     "language": "python",
     "metadata": {},
     "outputs": [],
     "prompt_number": 4
    },
    {
     "cell_type": "markdown",
     "metadata": {},
     "source": [
      "Next we'll count the number of times each nucletide occurs in the sequence. In this lab exercise we will be counting the number of nucleotides over the entire mRNA sequence as well as within the 5'UTR, the CDS, and the 3'UTR. Instead of writing 4 for loops (one for each sequence/sub-sequence) its much more efficient to write a function which you can call again and again. \n",
      "\n",
      "Funtions consist of a function definition, denoted def. The entire body of the definintion is indented. \n",
      "\n",
      "See the example function below."
     ]
    },
    {
     "cell_type": "code",
     "collapsed": false,
     "input": [
      "def greetings(input_string): # this the defintion of a function called greetings, it takes as an argument a string called input_string\n",
      "    output_string = input_string + \" World\" # the varibable output_string is the sum of input_string and the string \" World\"\n",
      "    return output_string # returns output_string\n",
      "\n",
      "input_string = \"Hello\" # assign input_string the value \"Hello\"\n",
      "result = greetings(input_string) # the variable result is assigned to the result of sending the argument input_string into the function greetings \n",
      "\n",
      "\n",
      "print \"input_string:\", input_string\n",
      "print \"result:\", result"
     ],
     "language": "python",
     "metadata": {},
     "outputs": [],
     "prompt_number": 16
    },
    {
     "cell_type": "markdown",
     "metadata": {},
     "source": [
      "Take the following code (written in a previous lab section) and turn it into a function called GC_content which takes a nucleotide sequence seq and returns a list called containing the counts of A's, T's, C's, and G's. "
     ]
    },
    {
     "cell_type": "code",
     "collapsed": false,
     "input": [
      "# this is the definition of the function GC_content, it input consisting of a nucleotide sequence called sequence\n",
      "countA=0 # create variables to hold the count of each nucleotide\n",
      "countC=0\n",
      "countG=0\n",
      "countT=0\n",
      "countN=0 # create a variable to hold the count of any non-standard nucleotides\n",
      "    \n",
      "for nt in sequence:#Loop over each nucleotide in the sequence\n",
      "    if nt == \"C\": # ask if the nt is cytosine \n",
      "        countC +=1 # increase countC by one\n",
      "    elif nt == \"A\": # ask if the nt is adenosine\n",
      "        countA +=1 # increase countA by one\n",
      "    elif nt == \"T\": # ask if the nt is thymine\n",
      "        countT +=1 # increase countT by one\n",
      "    elif nt == \"G\": # ask if the nt is guanine\n",
      "        countG +=1 # increase countG by one\n",
      "    else: # if above not True then nt is not a standard nucleotide\n",
      "        countN +=1 # increase countN by one\n",
      "    print \"Non-standard nt\", nt # print a warning message\n",
      "\n",
      "print \"countA\", countA # print the values of the count variables\n",
      "print \"countC\", countC\n",
      "print \"countG\", countG\n",
      "print \"countT\", countT\n",
      "print \"countN\", countN\n",
      "    \n",
      "counts = [countA, countT, countC, countG] # generate a list containing the number of A, T, C, and G in the sequence.\n",
      "    \n",
      "return counts # return the list counts\n",
      "\n",
      "# assign the value of the variable ntseq to the variable sequence\n",
      "# the variable counts is assigned to the result of sending the argument sequence into the function GC_content"
     ],
     "language": "python",
     "metadata": {},
     "outputs": [],
     "prompt_number": 6
    },
    {
     "cell_type": "heading",
     "level": 4,
     "metadata": {},
     "source": [
      "Q1: Explain the idea behind \"reusable code\". Why is this so important? Name at least two means by which you can make your code more reusable."
     ]
    },
    {
     "cell_type": "raw",
     "metadata": {},
     "source": []
    },
    {
     "cell_type": "markdown",
     "metadata": {},
     "source": [
      "Next, calculate the number of cytosine and guanine nucleotides as a percentage of the total number of nt's in the sequence"
     ]
    },
    {
     "cell_type": "code",
     "collapsed": false,
     "input": [
      "assert len(counts) == 4 \n",
      "# create a variable countGC to hold the count of G's and C's in the sequence\n",
      "# define a variable, percGC, which is the countGC/float(total number of nt)*100\n",
      "# print the value of percGC"
     ],
     "language": "python",
     "metadata": {},
     "outputs": [],
     "prompt_number": 17
    },
    {
     "cell_type": "heading",
     "level": 4,
     "metadata": {},
     "source": [
      "Q2: What does assert do and why is it useful?"
     ]
    },
    {
     "cell_type": "raw",
     "metadata": {},
     "source": []
    },
    {
     "cell_type": "markdown",
     "metadata": {},
     "source": [
      "Generate a list containing the number of A, T, C, G as a proportion of the total number of nucleotides."
     ]
    },
    {
     "cell_type": "code",
     "collapsed": false,
     "input": [
      "# generate a list called propor to hold the proportions\n",
      "# for each element x in counts\n",
      "    # define a variable, p, which is the count/float(total number of nt)\n",
      "    # add a the calculated proportion to the list propor\n",
      "\n",
      "    \n",
      "# print the list propor"
     ],
     "language": "python",
     "metadata": {},
     "outputs": [],
     "prompt_number": 18
    },
    {
     "cell_type": "markdown",
     "metadata": {},
     "source": [
      "Now we can create a graph - with the four nucleotides on the x-axis and the percentages on the y-axis."
     ]
    },
    {
     "cell_type": "code",
     "collapsed": false,
     "input": [
      "import matplotlib.pyplot as plt # import a set of code written for generating graphics and tell the computer how to display graphs\n",
      "%pylab inline \n",
      "\n",
      "nucleotides = arange(4) # the x-axis has four positions, one for each of the four nucleotides\n",
      "bar(nucleotides, propor) # chart will be a bar chart, containing nucleotides on the x-axis and count as percent of length of the sequence on the y-axis\n",
      "xticks(nucleotides + 0.5,  ('A', 'T', 'C', 'G') ) # label the x-axis with the nucleotides in the same order as in the counts list\n",
      "title(\"Nucleotide composition of \" + ntid) #add a title to the graph\n",
      "ylabel(\"Proportion\") #label the y-axis\n",
      "show()"
     ],
     "language": "python",
     "metadata": {},
     "outputs": [],
     "prompt_number": 19
    },
    {
     "cell_type": "markdown",
     "metadata": {},
     "source": [
      "Next test if the nucleotide composition of your gene differs significantly from the expected equal representation of nucleotides using the chi-square test. Remember that the chi-square test statistic is the sum over all values (here each of the four nucleotides) of the difference between the number of times that nucleotide occurs within your sequence (\"the observed\") and the number of times you would expect to see that nucleotide if the nucleotides occur with equal frequencies (\"the expected\"), squared, divided by the expected. The smaller the difference between the observed and the expected, the smaller the test statistic will be and the less support you have for rejecting the null hypothesis that the observed and expected data come from the same distribution, i.e. are equally distributed. Assuming that the null hypothesis is true, the p-value represents the probability of finding a test statistic equal to or greater than your test statistic by chance. A p-value of 0.05 or less is the generally accepted standard for significance in scientific publications. Where the p-value is less than 0.05 we reject the null hypothesis; if the p-value is greater than 0.05 we fail to reject the null hypothesis. An excellent video reviewing the concept can be found here - http://youtu.be/HwD7ekD5l0g (ignore the part using the statistical software \"R\")."
     ]
    },
    {
     "cell_type": "code",
     "collapsed": false,
     "input": [
      "from scipy import stats # import a set of code written for computing statistical tests\n",
      "\n",
      "def chi_calcs(sequence, counts): # define a function named chi_calcs for performing a chi-squared test on the nucleotide frequency within a sequence\n",
      "    expfreq = [int(round(0.25*len(sequence),0)), int(round(0.25*len(sequence),0)), int(round(0.25*len(sequence),0)), int(round(0.25*len(sequence),0))] # the expected number of each nucleotide in a sequence the length of your sequence at equal frequency \n",
      "    print \"Expected number of nucleotides: \", expfreq # print out the list containing the expected frequency of each nucleotide\n",
      "    obsfreq = counts # assign the observed frequency of each nucleotide in the list counts to the variable named obsfreq\n",
      "    print \"Observed number of nucleotides: \", obsfreq # print out the list containing the observed frequency of each nucleotide\n",
      "    assert len(expfreq) == len(obsfreq) # assert that the number of items in the two lists are the equal\n",
      "\n",
      "    chi2, pval = stats.chisquare(obsfreq, expfreq) # calculates the chi2 test statistic (chi2) and the p-value (pval) using the observed and expected frequency lists\n",
      "    print \"Chi-squared test statistic: \", chi2 # print the value of the chi-square test statistic\n",
      "    print \"p-value: \", pval # print the p-value\n",
      "\n",
      "# assign the value of the variable ntseq to the variable sequence\n",
      "# send the arguments sequence and observed frequencies of nucleotides to the function chi_calcs"
     ],
     "language": "python",
     "metadata": {},
     "outputs": [],
     "prompt_number": 26
    },
    {
     "cell_type": "heading",
     "level": 4,
     "metadata": {},
     "source": [
      "Q3: Considering your mRNA sequence as a whole, are the four nucleotides present in equal frequencies?"
     ]
    },
    {
     "cell_type": "raw",
     "metadata": {},
     "source": []
    },
    {
     "cell_type": "markdown",
     "metadata": {
      "slideshow": {
       "slide_type": "-"
      }
     },
     "source": [
      "As we've seen, the nucleotide content of a gene can differ significantly over the length of an mRNA sequence. Using the fasta files you generated last week, calculate the nucleotide content over the 5'UTR, CDS, and 3'UTR regions of your gene.\n",
      "\n",
      "We'll use Biopython's SeqIO module to parse the fasta files into their header's and sequence's.\n"
     ]
    },
    {
     "cell_type": "code",
     "collapsed": false,
     "input": [
      "from Bio import SeqIO\n",
      "\n",
      "five_UTR_filename = ntid + \"_5UTR_seq.fasta\" # the file where you saved your gene's 5'UTR sequence\n",
      "CDS_filename = ntid + \"_CDS_seq.fasta\" # the file where you saved your gene's CDS\n",
      "three_UTR_filename = ntid + \"_3UTR_seq.fasta\" # the file where you saved your gene's 3'UTR sequence\n",
      "\n",
      "gene_regions = {} # create a dictionary called gene_regions\n",
      "\n",
      "fasta_list = [five_UTR_filename, CDS_filename, three_UTR_filename] # put the file names into a list\n",
      "for fl in fasta_list: # for each file, fl, in the list, fasta_list\n",
      "    for s in SeqIO.parse(fl, \"fasta\"): # for each fasta record, s, in the file, fl, parse the fasta records (separates the text into the fasta header and sequence)\n",
      "        print s.id # print the fasta header of the fasta record\n",
      "        print s.seq # print the sequence contained in the fasta record\n",
      "        # convert the sequence to a string\n",
      "        # add an element to the dictionary, gene_regions, where the key is the fasta header and the value is the string of the sequence\n",
      "        # print the length of the fasta sequence\n",
      "        # print a newline to create a visual separation between the sequences"
     ],
     "language": "python",
     "metadata": {},
     "outputs": [],
     "prompt_number": 27
    },
    {
     "cell_type": "markdown",
     "metadata": {},
     "source": [
      "For each sequence in the dictionary gene_regions, call the function GC_content. Remember that GC_content returns a list of the counts of each nucleotide in the sequence. Call the chi_calcs function, giving it the sequence and the list of counts - this will print out the observed and expected number of nucleotides, the chi-squared test statistic, and corresponding p-value."
     ]
    },
    {
     "cell_type": "code",
     "collapsed": false,
     "input": [
      "# for each element of the dictionary gene_regions\n",
      "    # print the dictionary key, the sequence id\n",
      "    # assign the nucleotide seq to a variable called sequence\n",
      "    # print a message with the number of nucleotides in the sequence\n",
      "    counts = GC_content(sequence) # send the sequence to the function GC_content, returns a list called counts containing the counts of each nucleotide  \n",
      "    chi_calcs(sequence, counts) # send the sequence and list counts to the function chi_calcs, this will print out the expected and observed nucletides, the chi-square statistic and the p-value\n",
      "    # print a newline as a visual separation between records\n"
     ],
     "language": "python",
     "metadata": {
      "slideshow": {
       "slide_type": "-"
      }
     },
     "outputs": [],
     "prompt_number": 5
    },
    {
     "cell_type": "heading",
     "level": 4,
     "metadata": {},
     "source": [
      "Q4: Can you reject the null hypothesis of equal distribution of nucleotides for any of the regions of your gene? Explain. If you reject the null hypothesis, which nucletides appear to be over or under represented?"
     ]
    },
    {
     "cell_type": "raw",
     "metadata": {},
     "source": []
    },
    {
     "cell_type": "markdown",
     "metadata": {
      "slideshow": {
       "slide_type": "-"
      }
     },
     "source": [
      "Now, let's generate a graph showing the percent GC of 50 nt bins accross your gene's entire mRNA sequence."
     ]
    },
    {
     "cell_type": "code",
     "collapsed": false,
     "input": [
      "# create an empty list called region\n",
      "\n",
      "for i in range(0, len(ntseq)): # for each number i in the list of numbers from 1 to length of ntseq in steps of 50\n",
      "    # set the variable gcnum to 0 \n",
      "    for nt in ntseq[i:i+50]: # loop over the slice of nt_seq\n",
      "        # ask if the nt is either G or C\n",
      "            # if so increase the value of gcnum by 1\n",
      "    reg_perc_GC = float(gcnum)/len(ntseq[i:i+50])*100 # when the loop over the slice is complete, calculate the percent of nts in the region that are G or C\n",
      "    #add the percentage to the list \"region\""
     ],
     "language": "python",
     "metadata": {},
     "outputs": [],
     "prompt_number": 7
    },
    {
     "cell_type": "markdown",
     "metadata": {},
     "source": [
      "We'd like to plot the GC content by region over the length with the coding region of your gene highlighted. To do this we first need to know the begining and ending position of the coding region. Write a for loop using the features attribute of nt_seq_record; if the feature type is \"CDS\", assign the starting position to cds_start and the ending position to cds_end."
     ]
    },
    {
     "cell_type": "code",
     "collapsed": false,
     "input": [
      "# for each feature in this record's features, using the .features attribute of nt_seq_record\n",
      "    # ask if the feature is a CDS, using the .type attribute of the feature\n",
      "        # if so, assign the start location to the variable cds_start, using the .location.start attribute of the feature\n",
      "        # if so, assign the end location to the variable cds_end, using the .location.end attribute of the feature\n",
      "# print the value of cds_start\n",
      "# print the value of cds_end"
     ],
     "language": "python",
     "metadata": {},
     "outputs": [],
     "prompt_number": 8
    },
    {
     "cell_type": "code",
     "collapsed": false,
     "input": [
      "import matplotlib.pyplot as plt # import a set of code written for generating graphics and tell the computer how to display graphs\n",
      "%pylab inline\n",
      "\n",
      "plt.plot(region) # plot the values of region\n",
      "plt.axhline(0, color='black') # forces the y-axis to start at 0\n",
      "plt.axhline(50, color='red') # add a red line representing the average GC content of the entire sequence\n",
      "\n",
      "plt.axvspan(cds_start, cds_end, facecolor='grey', alpha=0.5) # create a grey region corresponding to the coding region\n",
      "plt.ylabel(\"Percent\") # label the y-axis\n",
      "plt.xlabel(\"nt position (5'-3')\") # label the x-axis\n",
      "plt.title(\"GC percentage of \" + ntid + \"\\n calculated over 50 nt regions\") # add a title\n",
      "plt.show()"
     ],
     "language": "python",
     "metadata": {
      "slideshow": {
       "slide_type": "-"
      }
     },
     "outputs": [],
     "prompt_number": 9
    },
    {
     "cell_type": "heading",
     "level": 4,
     "metadata": {},
     "source": [
      "Q5: Are there noticeable differences in the GC content between the different regions of the mRNA sequence? Explain."
     ]
    },
    {
     "cell_type": "code",
     "collapsed": false,
     "input": [],
     "language": "python",
     "metadata": {},
     "outputs": [],
     "prompt_number": 62
    },
    {
     "cell_type": "heading",
     "level": 3,
     "metadata": {
      "slideshow": {
       "slide_type": "-"
      }
     },
     "source": [
      "B. Predict characteristics of your protein"
     ]
    },
    {
     "cell_type": "markdown",
     "metadata": {},
     "source": [
      "First we'll retreive a protein sequence from NCBI."
     ]
    },
    {
     "cell_type": "code",
     "collapsed": false,
     "input": [
      "from Bio import Entrez # we'll import a set of code written for common biological applications\n",
      "from Bio import SeqIO"
     ],
     "language": "python",
     "metadata": {},
     "outputs": [],
     "prompt_number": 3
    },
    {
     "cell_type": "code",
     "collapsed": false,
     "input": [
      "prot_id = \"\" #the accession number of our protein of interest"
     ],
     "language": "python",
     "metadata": {},
     "outputs": [],
     "prompt_number": 4
    },
    {
     "cell_type": "code",
     "collapsed": false,
     "input": [
      "Entrez.email = \"\" # let NCBI know who you are\n",
      "handle = Entrez.efetch(db=\"protein\", rettype=\"gb\", retmode=\"text\", id=prot_id) # db = database to query, rettype = retrieval type, retmode = retrieval mode \n",
      "seq_record = SeqIO.read(handle, \"gb\") # read the contents \"fetched\" from NCBI\n",
      "handle.close()"
     ],
     "language": "python",
     "metadata": {},
     "outputs": [],
     "prompt_number": 6
    },
    {
     "cell_type": "code",
     "collapsed": false,
     "input": [
      "protdes = seq_record.description # assign the protein's description to protdes\n",
      "# print the protein  description\n",
      "\n",
      "protseq = seq_record.seq # pull out the sequence associated with this record\n",
      "# print the amino acid sequence\n",
      "\n",
      "# print the number of amino acids in the sequence"
     ],
     "language": "python",
     "metadata": {},
     "outputs": [],
     "prompt_number": 7
    },
    {
     "cell_type": "markdown",
     "metadata": {},
     "source": [
      "Biopython's SeqUtils module contains functions for estimating properties of your protein. You can find more information on the class ProteinAnalysis here - http://biopython.org/DIST/docs/api/Bio.SeqUtils.ProtParam.ProteinAnalysis-class.html. "
     ]
    },
    {
     "cell_type": "code",
     "collapsed": false,
     "input": [
      "from Bio.SeqUtils.ProtParam import ProteinAnalysis\n",
      "from Bio.SeqUtils import ProtParamData\n",
      "from Bio import SeqIO\n",
      "\n",
      "prot = ProteinAnalysis(str(protseq))\n",
      "\n",
      "print \"The predicted molecular weight of\", prot_id, \"is\", prot.molecular_weight(), \"Daltons\" # molecular weight of your protein in Daltons\n",
      "print \"The relative frequency of phenylalanine, tryptophan, and tyrosine (\\\"aromaticity\\\") in\", prot_id, \"is\", prot.aromaticity() # the relative frequency of Phe+Trp+Tyr\n",
      "print \"The predicted isoelectric point of\", prot_id, \"is\", prot.isoelectric_point() # the pH at which the protein has no net charge\n",
      "print \"The instability index of\", prot_id, \"is\", prot.instability_index()  # predicts the instability of the protein, values over 40 suggest an unstable structure \n",
      "\n",
      "print round(prot.secondary_structure_fraction()[0]*100, 1), \"% of amino acids in\", prot_id, \"tend to form helices.\" # returns a tuple of the fraction of amino acids which tend to form helixes, turns or sheets.\n",
      "print round(prot.secondary_structure_fraction()[1]*100, 1), \"% of amino acids in\", prot_id, \"tend to form turns.\"\n",
      "print round(prot.secondary_structure_fraction()[2]*100, 1), \"% of amino acids in\", prot_id, \"tend to form sheets.\" "
     ],
     "language": "python",
     "metadata": {},
     "outputs": [],
     "prompt_number": 11
    },
    {
     "cell_type": "heading",
     "level": 4,
     "metadata": {},
     "source": [
      "Q6: Briefly discuss the relevance of the above characteristics to the biology of your protein."
     ]
    },
    {
     "cell_type": "raw",
     "metadata": {},
     "source": []
    },
    {
     "cell_type": "heading",
     "level": 4,
     "metadata": {},
     "source": [
      "Q7: If the amino acids were evenly distributed in your protein, how many aromatic amino acids (phenylalanine, tryptophan, and tyrosine) would you expect to see in a protein the length of your protein? Show your work below."
     ]
    },
    {
     "cell_type": "code",
     "collapsed": false,
     "input": [],
     "language": "python",
     "metadata": {},
     "outputs": [],
     "prompt_number": 24
    },
    {
     "cell_type": "code",
     "collapsed": false,
     "input": [
      "import matplotlib.pyplot as plt # import a set of code written for generating graphics and tell the computer how to display graphs\n",
      "%pylab inline\n",
      "\n",
      "percaa = prot.get_amino_acids_percent() # returns a dictionary of the number of times each aa occurs in your protein sequence\n",
      "amino_a = arange(20) # the x-axis has twenty positions, one for each of the 20 amino acids\n",
      "bar(amino_a, percaa.values()) # chart will be a bar chart, containing amino acids on the x-axis and count as percent of length of the sequence on the y-axis\n",
      "xticks(amino_a + 0.5, percaa.keys()) # label the x-axis with the amino acids in the same order as in the counts list\n",
      "title(\"Amino acid composition of \" + prot_id) #add a title to the graph\n",
      "ylabel(\"Proportion\") #label the y-axis\n",
      "show()"
     ],
     "language": "python",
     "metadata": {},
     "outputs": [],
     "prompt_number": 12
    },
    {
     "cell_type": "heading",
     "level": 4,
     "metadata": {},
     "source": [
      "Q8: Based on the graph you've generated, do the amino acids appear with equal frequency within your protein? What type of amino acids appear over or under represented?"
     ]
    },
    {
     "cell_type": "raw",
     "metadata": {},
     "source": []
    },
    {
     "cell_type": "markdown",
     "metadata": {},
     "source": [
      "Next generate a graph, with the predicted flexibility values plotted over the length of your protein sequence. Regions with a flexibility index less than 1 are classified as rigid."
     ]
    },
    {
     "cell_type": "code",
     "collapsed": false,
     "input": [
      "import matplotlib.pyplot as plt # import a set of code written for generating graphics and tell the computer how to display graphs\n",
      "%pylab inline\n",
      "\n",
      "flex = prot.flexibility()\n",
      "\n",
      "plt.plot(flex) # plot the flexibility values\n",
      "plt.axhline(0, color='black') # forces the y-axis to start at 0\n",
      "plt.ylabel(\"flexibility value\") # label the y-axis\n",
      "plt.xlabel(\"amino acid position\") # label the x-axis\n",
      "plt.title(\"Predicted flexibility of  \" + prot_id) # add a title\n",
      "plt.show()"
     ],
     "language": "python",
     "metadata": {},
     "outputs": [],
     "prompt_number": 13
    },
    {
     "cell_type": "heading",
     "level": 4,
     "metadata": {},
     "source": [
      "Q9: Do the predicted flexibility scores differ over the length of your protein?"
     ]
    },
    {
     "cell_type": "raw",
     "metadata": {},
     "source": []
    },
    {
     "cell_type": "markdown",
     "metadata": {},
     "source": [
      "The distribution of hydrophobic/hydrophilic amino acids throughout a protein sequence is associated with a protein's three-dimensional structure.   \n",
      "\n",
      "We'll loop over the amino acids in the protein, look up the hydrophobicity value of the amino acid, and generate a graph of the hydrophobicity values across the length of the protein sequence.  "
     ]
    },
    {
     "cell_type": "markdown",
     "metadata": {},
     "source": [
      "First, we'll generate a dictionary of the amino acids and their hydrophobicity values . . ."
     ]
    },
    {
     "cell_type": "code",
     "collapsed": true,
     "input": [
      "hydro = {\"I\":4.5, \"V\":4.2, \"L\":3.8, \"F\":2.8, \"C\":2.5, \"M\":1.9, \"A\":1.8, \"G\":-0.4, \"T\":-0.7, \"S\":-0.8, \"W\":-0.9, \"Y\":-1.3, \"P\":-1.6, \"H\":-3.2, \"E\":-3.5, \"Q\":-3.5, \"D\":-3.5, \"N\":-3.5, \"K\":-3.9, \"R\":-4.5}\n",
      "print len(hydro)"
     ],
     "language": "python",
     "metadata": {},
     "outputs": [
      {
       "output_type": "stream",
       "stream": "stdout",
       "text": [
        "20\n"
       ]
      }
     ],
     "prompt_number": 70
    },
    {
     "cell_type": "markdown",
     "metadata": {},
     "source": [
      "The more positive the number the more hydrophobic the amino acid.  \n",
      "The hydrophobicity values were derived from Kyte J, Doolittle RF. (1982) A simple method for displaying the hydropathic character of a protein. J Mol Biol. 157(1):105-32."
     ]
    },
    {
     "cell_type": "markdown",
     "metadata": {},
     "source": [
      "Loop over the amino acids in the protein sequence, then look up the amino acid in the hydrophobicity dictionary."
     ]
    },
    {
     "cell_type": "code",
     "collapsed": false,
     "input": [
      "# hvalues is a empty list to hold the hydrophobicity values along the length of the protein\n",
      "# for each amino acid in the protein sequence, protseq\n",
      "    # ask if the amino acid is in the dictionary's keys\n",
      "        # if so, print the amino acid and it's hydrophobicity value\n",
      "        # add the hydrophobicity value to the list hvalues\n",
      "    # if the amino acid is NOT in the dictionary's keys\n",
      "        print \"Amino acid\", aa, \"not in dictionary.\" # print out a warning\n",
      "        break # stop the flow of the for loop"
     ],
     "language": "python",
     "metadata": {},
     "outputs": [],
     "prompt_number": 8
    },
    {
     "cell_type": "markdown",
     "metadata": {},
     "source": [
      "Now, let's generate a graph."
     ]
    },
    {
     "cell_type": "markdown",
     "metadata": {},
     "source": [
      "Ploting the hydrophobicity of each position in the protein sequence results in a noisy graph. Let's calculate the average hydrophobicity over a sliding window 20 aa in length, and include a red line on the graph at 1.6 on the hydrophobicity scale. Regions with hydrophobicity values greater than 1.6 are more likely to be transmembrane domains."
     ]
    },
    {
     "cell_type": "code",
     "collapsed": false,
     "input": [
      "window_len = 20 # define the length of the window\n",
      "smooth_hydro = []# smooth_hydro = a list to hold the moving average values\n",
      "for i in range(len(hvalues)-window_len): # for each number in a list\n",
      "    # set the hydrophobicity value, hval, to 0\n",
      "    for aa in hvalues[i:i+window_len]:# for each aa in window\n",
      "        # look-up hydrophobicity of aa, assign to variable \"v\"\n",
      "        # increment the value of hval by v\n",
      "    avh = hval/len(protseq[i:i+window_len]) # when the loop over the slice is complete, calculate the average hydrophobicity value of the region\n",
      "    # add the average to the list smooth_hydro"
     ],
     "language": "python",
     "metadata": {},
     "outputs": [],
     "prompt_number": 72
    },
    {
     "cell_type": "markdown",
     "metadata": {},
     "source": [
      "We'll generate a graph of the smoothed values."
     ]
    },
    {
     "cell_type": "code",
     "collapsed": false,
     "input": [
      "import matplotlib.pyplot as plt # import a set of code written for generating graphics and tell the computer how to display graphs\n",
      "%pylab inline\n",
      "\n",
      "plt.plot(smooth_hydro) # plot the value of smooth_hydro\n",
      "plt.axhline(0, color='grey') # add a horizontal grey line at y=0\n",
      "plt.axhline(1.6, color='red')# add a horizontal red line at y=1.6\n",
      "plt.ylabel('Hydrophobicity') # add a label to the y-axis\n",
      "plt.xlabel('Amino acid position') # add a label to the x-axis\n",
      "plt.title(\"Kyte Doolittle Hydrophobicity of \" + prot_id + \"\\n 20 nt sliding window\") # add a title to the graph\n",
      "plt.show()"
     ],
     "language": "python",
     "metadata": {},
     "outputs": [],
     "prompt_number": 15
    },
    {
     "cell_type": "heading",
     "level": 4,
     "metadata": {},
     "source": [
      "Q10: Based on the graph you've generated, do you think there are any transmembrane domains in your protein? Explain."
     ]
    },
    {
     "cell_type": "raw",
     "metadata": {},
     "source": []
    },
    {
     "cell_type": "markdown",
     "metadata": {},
     "source": [
      "That's all folks!  \n",
      "Please save your notebook and upload the notebook to Blackboard."
     ]
    }
   ],
   "metadata": {}
  }
 ]
}