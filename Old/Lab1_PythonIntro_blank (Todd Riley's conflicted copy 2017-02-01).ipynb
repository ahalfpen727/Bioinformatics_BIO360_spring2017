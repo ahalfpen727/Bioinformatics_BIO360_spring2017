{
 "cells": [
  {
   "cell_type": "markdown",
   "metadata": {},
   "source": [
    "## Lab 1: Python Introduction"
   ]
  },
  {
   "cell_type": "markdown",
   "metadata": {},
   "source": [
    "Some preliminary stuff:  \n",
    "\n",
    "* CHROME needs to be your default browser. To check this open Chrome, click on the button with the three horizontal bars located to the right of the address bar, click \"Settings\", scroll down to the section \"Default Browser\" and confirm that Chrome is set as the default browser."
   ]
  },
  {
   "cell_type": "markdown",
   "metadata": {},
   "source": [
    "##### Q0: What's your name?"
   ]
  },
  {
   "cell_type": "raw",
   "metadata": {},
   "source": []
  },
  {
   "cell_type": "markdown",
   "metadata": {},
   "source": [
    "We'll go over these excercises together, as a class. \n",
    "We'll modify the code as we go to explore common errors. \n",
    "\n",
    "The writeup for this week's lab will consist of a copy of this document.\n",
    "Things we'll be looking for while grading your work:\n",
    "\n",
    "- Where we encounter errors, include notes on the error and how it was corrected.\n",
    "\n",
    "- Clear, relevant and extensive comments on your code"
   ]
  },
  {
   "cell_type": "markdown",
   "metadata": {},
   "source": [
    "A note on iPython notebooks . . . "
   ]
  },
  {
   "cell_type": "raw",
   "metadata": {},
   "source": [
    "The notebook is comprised of cells - some contain plain text (like this one) and some contain executeable code.\n",
    "\n",
    "Code cells have In [ ]: to the left of the cell. To execute the code in a code cell - hold down the SHIFT key and press RETURN.\n",
    "\n",
    "To add notes - you can insert a raw text cell by selecting \"Insert\" on the main menu bar. By default, inserted cells will be code cells. You can change the type of the inserted cell by selecting \"Raw Text\" from the dropdown menu to the right of the buttons."
   ]
  },
  {
   "cell_type": "markdown",
   "metadata": {},
   "source": [
    "A comment on comments . . . "
   ]
  },
  {
   "cell_type": "code",
   "execution_count": 2,
   "metadata": {
    "collapsed": true
   },
   "outputs": [],
   "source": [
    "# this is code \n",
    "# this is a comment, putting anything behind a # will hide it\n",
    "\n",
    "# Write your code so that someone reading through your code can easily figure out the purpose of each line of code."
   ]
  },
  {
   "cell_type": "code",
   "execution_count": null,
   "metadata": {
    "collapsed": true
   },
   "outputs": [],
   "source": []
  },
  {
   "cell_type": "markdown",
   "metadata": {},
   "source": [
    "### PART 1: STRING BASICS"
   ]
  },
  {
   "cell_type": "markdown",
   "metadata": {},
   "source": [
    "First we'll assign an identifier to a DNA sequence"
   ]
  },
  {
   "cell_type": "code",
   "execution_count": 3,
   "metadata": {
    "collapsed": true
   },
   "outputs": [],
   "source": [
    "tiny = \"ACTGCCCTTCACAG\" # This is a tiny bit of DNA sequence"
   ]
  },
  {
   "cell_type": "markdown",
   "metadata": {},
   "source": [
    "To see the value, or type of a variable or to display the results of a calculation - we need to tell the program to \"print\"."
   ]
  },
  {
   "cell_type": "code",
   "execution_count": 4,
   "metadata": {
    "collapsed": false
   },
   "outputs": [
    {
     "name": "stdout",
     "output_type": "stream",
     "text": [
      "ACTGCCCTTCACAG\n"
     ]
    }
   ],
   "source": [
    "print (tiny)# Display the value of tiny"
   ]
  },
  {
   "cell_type": "markdown",
   "metadata": {},
   "source": [
    "Let's generate two more short DNA sequences . . ."
   ]
  },
  {
   "cell_type": "code",
   "execution_count": 5,
   "metadata": {
    "collapsed": true
   },
   "outputs": [],
   "source": [
    "very_tiny = \"CAG\"# Assign a very short DNA sequence to the variable very_tiny                               "
   ]
  },
  {
   "cell_type": "code",
   "execution_count": 6,
   "metadata": {
    "collapsed": false
   },
   "outputs": [
    {
     "data": {
      "text/plain": [
       "False"
      ]
     },
     "execution_count": 6,
     "metadata": {},
     "output_type": "execute_result"
    }
   ],
   "source": [
    "tiny == very_tiny # Ask if tiny is equal to very_tiny"
   ]
  },
  {
   "cell_type": "code",
   "execution_count": 7,
   "metadata": {
    "collapsed": false
   },
   "outputs": [
    {
     "data": {
      "text/plain": [
       "True"
      ]
     },
     "execution_count": 7,
     "metadata": {},
     "output_type": "execute_result"
    }
   ],
   "source": [
    "very_tiny in tiny # Ask if the string very_tiny is found within the larger string tiny"
   ]
  },
  {
   "cell_type": "markdown",
   "metadata": {},
   "source": [
    "##### Q1: What is the difference between \"==\" and \"=\"?"
   ]
  },
  {
   "cell_type": "raw",
   "metadata": {},
   "source": []
  },
  {
   "cell_type": "code",
   "execution_count": 8,
   "metadata": {
    "collapsed": false
   },
   "outputs": [
    {
     "ename": "NameError",
     "evalue": "name 'TAG' is not defined",
     "output_type": "error",
     "traceback": [
      "\u001b[1;31m---------------------------------------------------------------------------\u001b[0m",
      "\u001b[1;31mNameError\u001b[0m                                 Traceback (most recent call last)",
      "\u001b[1;32m<ipython-input-8-269431442bd6>\u001b[0m in \u001b[0;36m<module>\u001b[1;34m()\u001b[0m\n\u001b[1;32m----> 1\u001b[1;33m \u001b[0mnew_seq\u001b[0m \u001b[1;33m=\u001b[0m \u001b[0mTAG\u001b[0m\u001b[1;33m\u001b[0m\u001b[0m\n\u001b[0m",
      "\u001b[1;31mNameError\u001b[0m: name 'TAG' is not defined"
     ]
    }
   ],
   "source": [
    "new_seq = TAG"
   ]
  },
  {
   "cell_type": "markdown",
   "metadata": {},
   "source": [
    "##### Q2: How can you (and the program) tell if a group of characters is a string or a variable name?"
   ]
  },
  {
   "cell_type": "raw",
   "metadata": {},
   "source": []
  },
  {
   "cell_type": "markdown",
   "metadata": {},
   "source": [
    "What type of information is our sequence? (this is important to know, as certain functions require certain data types)"
   ]
  },
  {
   "cell_type": "code",
   "execution_count": null,
   "metadata": {
    "collapsed": false
   },
   "outputs": [],
   "source": [
    "type(10)# determine what type of data is contained in tiny"
   ]
  },
  {
   "cell_type": "markdown",
   "metadata": {},
   "source": [
    "#### A. METHODS OF ACCESSING ELEMENTS OF A STRING"
   ]
  },
  {
   "cell_type": "markdown",
   "metadata": {},
   "source": [
    "Often we want to query specific parts of, sometimes very large, sequences - below are several common methods. "
   ]
  },
  {
   "cell_type": "markdown",
   "metadata": {},
   "source": [
    "But first let's find out how how long a string we're dealing with."
   ]
  },
  {
   "cell_type": "code",
   "execution_count": null,
   "metadata": {
    "collapsed": false
   },
   "outputs": [],
   "source": [
    "print (tiny) # display \"tiny\" \n",
    "len(tiny)# display the length of the string \"tiny\""
   ]
  },
  {
   "cell_type": "markdown",
   "metadata": {},
   "source": [
    "If we only want to access one character we can access it directly by refering to its position."
   ]
  },
  {
   "cell_type": "code",
   "execution_count": null,
   "metadata": {
    "collapsed": false
   },
   "outputs": [],
   "source": [
    "first = tiny[] # assign the value of the first character of \"tiny\" to a variable named \"first\"\n",
    "print (first)# display the first character in the string \"tiny\""
   ]
  },
  {
   "cell_type": "markdown",
   "metadata": {},
   "source": [
    "##### Q3: Why didn't tiny[1] return the first character of the string tiny?"
   ]
  },
  {
   "cell_type": "raw",
   "metadata": {},
   "source": []
  },
  {
   "cell_type": "markdown",
   "metadata": {},
   "source": [
    "But what if we want to pull out not just a single character, but rather a multi-character segment (a \"slice\") of a string?   \n",
    "The positions within a string are defined by indices. The cell below shows the positions (\"|\") and indices (numbers) for a string \"ACTGC\" named \"really_tiny\". "
   ]
  },
  {
   "cell_type": "raw",
   "metadata": {},
   "source": [
    "       0   1   2   3   4   5      \n",
    "seq = \"| A | N | T | G | N |\"     "
   ]
  },
  {
   "cell_type": "code",
   "execution_count": null,
   "metadata": {
    "collapsed": false
   },
   "outputs": [],
   "source": [
    "seq = \"ANTGN\"\n",
    "one_two = seq[0:1]# assign the value of the first and second character of \"seq\" to a variable named \"one_two\"\n",
    "print (one_two)# display the first character in the string \"seq\""
   ]
  },
  {
   "cell_type": "code",
   "execution_count": null,
   "metadata": {
    "collapsed": false
   },
   "outputs": [],
   "source": [
    "two_four = seq []# assign the value of the second, third and fourth characters of \"seq\" to a variable named \"two_four\"\n",
    "print (two_four)# display two_four"
   ]
  },
  {
   "cell_type": "markdown",
   "metadata": {},
   "source": [
    "Another way to access elements of a string is to loop over them . . ."
   ]
  },
  {
   "cell_type": "code",
   "execution_count": null,
   "metadata": {
    "collapsed": false
   },
   "outputs": [],
   "source": [
    "# go through each character of the string \"seq\"\n",
    "for c in seq:\n",
    "# display the character\n",
    "print (c)"
   ]
  },
  {
   "cell_type": "code",
   "execution_count": null,
   "metadata": {
    "collapsed": false
   },
   "outputs": [],
   "source": [
    "# counter is a variable to hold the value of the count of characters in \"seq\"\n",
    "counter = 0\n",
    "# go through each character of the string \"seq\"\n",
    "for c in seq:\n",
    "# display the value of counter and the associated character\n",
    "print (counter, c)\n",
    "# increment the value of counter by one\n",
    "counter += 1"
   ]
  },
  {
   "cell_type": "markdown",
   "metadata": {},
   "source": [
    "We can use a for loop and an if statement to access a particular element of \"seq\"."
   ]
  },
  {
   "cell_type": "code",
   "execution_count": null,
   "metadata": {
    "collapsed": false
   },
   "outputs": [],
   "source": [
    "# counter, a variable to hold the value of the positions in seq\n",
    "counter = 0\n",
    "# go through each character of \"seq\"\n",
    "for c in seq:\n",
    "# if the character is N, do something\n",
    "if c == \"N\":\n",
    "    print (c)\n",
    "# display the value of counter\n",
    "print (\"counter is\", counter)\n",
    "# increment the value of counter by one\n",
    "counter += 1"
   ]
  },
  {
   "cell_type": "markdown",
   "metadata": {},
   "source": [
    "##### Q4: How does the code in the following two cells differ? How do the results generated differ? What does this tell you about the order in which lines are executed? "
   ]
  },
  {
   "cell_type": "raw",
   "metadata": {},
   "source": []
  },
  {
   "cell_type": "markdown",
   "metadata": {},
   "source": [
    "Cell 1"
   ]
  },
  {
   "cell_type": "code",
   "execution_count": 9,
   "metadata": {
    "collapsed": false
   },
   "outputs": [
    {
     "name": "stdout",
     "output_type": "stream",
     "text": [
      "1\n",
      "2\n",
      "3\n",
      "4\n",
      "5\n",
      "6\n",
      "7\n",
      "8\n",
      "9\n",
      "10\n",
      "11\n",
      "12\n",
      "13\n",
      "14\n"
     ]
    }
   ],
   "source": [
    "counter = 0 # variable to hold the value of the count of characters in \"tiny\"\n",
    "for c in tiny: # go through each character of the string \"tiny\" \n",
    "    counter +=1 # increment the value of counter by one\n",
    "    print (counter)"
   ]
  },
  {
   "cell_type": "markdown",
   "metadata": {},
   "source": [
    "Cell 2"
   ]
  },
  {
   "cell_type": "code",
   "execution_count": 10,
   "metadata": {
    "collapsed": false
   },
   "outputs": [
    {
     "name": "stdout",
     "output_type": "stream",
     "text": [
      "14\n"
     ]
    }
   ],
   "source": [
    "counter = 0 # counter, a variable to hold the value of the count of characters in \"tiny\"\n",
    "for c in tiny: # go through each character of the string \"tiny\" \n",
    "    counter +=1 # increment the value of counter by one\n",
    "print (counter)"
   ]
  },
  {
   "cell_type": "markdown",
   "metadata": {},
   "source": [
    "Often the number of times you want to go through a loop a certain number of times - for this, \"range\" is a very useful function. Often in biology, the number of times through a loop will be related to the length of a DNA or amino acid sequence . . . "
   ]
  },
  {
   "cell_type": "code",
   "execution_count": 11,
   "metadata": {
    "collapsed": false
   },
   "outputs": [
    {
     "name": "stdout",
     "output_type": "stream",
     "text": [
      "range(len(tiny)) [0, 1, 2, 3, 4, 5, 6, 7, 8, 9, 10, 11, 12, 13]\n"
     ]
    }
   ],
   "source": [
    "print (\"range(len(tiny))\", range(len(tiny)))"
   ]
  },
  {
   "cell_type": "markdown",
   "metadata": {},
   "source": [
    "##### Q4: If you don't know what a function does, how can you check (without Googling, that is)?"
   ]
  },
  {
   "cell_type": "raw",
   "metadata": {},
   "source": []
  },
  {
   "cell_type": "markdown",
   "metadata": {},
   "source": [
    "Let's investigate range.\n",
    "But first let's assign it to a shorter name so we don't have to keep typing: range(len(tiny))."
   ]
  },
  {
   "cell_type": "code",
   "execution_count": 12,
   "metadata": {
    "collapsed": false
   },
   "outputs": [],
   "source": [
    "r = range(len(tiny)) #assign range(len(tiny)) to \"r\"\n",
    "#display value of r"
   ]
  },
  {
   "cell_type": "code",
   "execution_count": 13,
   "metadata": {
    "collapsed": false
   },
   "outputs": [
    {
     "name": "stdout",
     "output_type": "stream",
     "text": [
      "<type 'list'>\n"
     ]
    }
   ],
   "source": [
    "print (type(r)) # print the type of r"
   ]
  },
  {
   "cell_type": "markdown",
   "metadata": {},
   "source": [
    "We can index the elements of a list . . ."
   ]
  },
  {
   "cell_type": "code",
   "execution_count": 14,
   "metadata": {
    "collapsed": false
   },
   "outputs": [
    {
     "name": "stdout",
     "output_type": "stream",
     "text": [
      "r [0, 1, 2, 3, 4, 5, 6, 7, 8, 9, 10, 11, 12, 13]\n",
      "r[0] 0\n",
      "r[-1] 13\n",
      "r[4:9] [4, 5, 6, 7]\n"
     ]
    }
   ],
   "source": [
    "print (\"r\", r) #print the list \"r\" \n",
    "print (\"r[0]\", r[0]) #print out the first item in the list \"r\" \n",
    "print (\"r[-1]\", r[-1]) #print out the last item in the list \"r\"\n",
    "print (\"r[4:9]\", r[4:8]) #print out the fifth through eighth position in the list \"r\""
   ]
  },
  {
   "cell_type": "markdown",
   "metadata": {},
   "source": [
    "We can loop over the elements of a list . . ."
   ]
  },
  {
   "cell_type": "code",
   "execution_count": 15,
   "metadata": {
    "collapsed": false
   },
   "outputs": [
    {
     "name": "stdout",
     "output_type": "stream",
     "text": [
      "0\n",
      "1\n",
      "2\n",
      "3\n",
      "4\n",
      "5\n",
      "6\n",
      "7\n",
      "8\n",
      "9\n",
      "10\n",
      "11\n",
      "12\n",
      "13\n"
     ]
    }
   ],
   "source": [
    "for el in r: # Go through each element in the list \"r\" \n",
    "    print (el) # Print each element\n",
    "    #print el, \":\", tiny[el] # Print each element of list \"r\" and the coresponding position of the string \"tiny\" "
   ]
  },
  {
   "cell_type": "markdown",
   "metadata": {},
   "source": [
    "### PART 2 - Using loops to do cool stuff"
   ]
  },
  {
   "cell_type": "markdown",
   "metadata": {},
   "source": [
    "Now that we have some basic skills - let's try a more interesting example."
   ]
  },
  {
   "cell_type": "markdown",
   "metadata": {},
   "source": [
    "### A. Determine the GC content of a gene"
   ]
  },
  {
   "cell_type": "code",
   "execution_count": 16,
   "metadata": {
    "collapsed": false
   },
   "outputs": [],
   "source": [
    "from Bio import Entrez # we'll import a set of code written for common biological applications\n",
    "from Bio import SeqIO"
   ]
  },
  {
   "cell_type": "code",
   "execution_count": 17,
   "metadata": {
    "collapsed": false
   },
   "outputs": [],
   "source": [
    "GI_id = \"287297\" #the GI accession of our gene of interest"
   ]
  },
  {
   "cell_type": "markdown",
   "metadata": {},
   "source": [
    "Documentation for efecth http://www.ncbi.nlm.nih.gov/books/NBK25499/#chapter4.EFetch  \n",
    "\n",
    "Code adapted from Biopython Tutorial, 5.3.1  Parsing GenBank records from the net"
   ]
  },
  {
   "cell_type": "code",
   "execution_count": 18,
   "metadata": {
    "collapsed": false
   },
   "outputs": [
    {
     "name": "stdout",
     "output_type": "stream",
     "text": [
      "ID: D14673.1\n",
      "Name: RICAAT\n",
      "Description: Oryza sativa Japonica Group mRNA for aspartate aminotransferase, complete cds.\n",
      "Number of features: 3\n",
      "/sequence_version=1\n",
      "/source=Oryza sativa Japonica Group (Japanese rice)\n",
      "/taxonomy=['Eukaryota', 'Viridiplantae', 'Streptophyta', 'Embryophyta', 'Tracheophyta', 'Spermatophyta', 'Magnoliophyta', 'Liliopsida', 'Poales', 'Poaceae', 'BOP clade', 'Oryzoideae', 'Oryzeae', 'Oryzinae', 'Oryza']\n",
      "/keywords=['aspartate aminotransferase']\n",
      "/references=[Reference(title='Characterization and mapping of cDNA encoding aspartate aminotransferase in rice, Oryza sativa L', ...), Reference(title='Direct Submission', ...)]\n",
      "/accessions=['D14673']\n",
      "/data_file_division=PLN\n",
      "/date=19-FEB-2008\n",
      "/organism=Oryza sativa Japonica Group\n",
      "/gi=287297\n",
      "Seq('CAGCAACCACCACCAGCACCTCCTCCTCCGCCGCCGACGCCGACTCCTCCCTCC...ACC', IUPACAmbiguousDNA())\n"
     ]
    }
   ],
   "source": [
    "Entrez.email = \"\" # let NCBI know who you are\n",
    "handle = Entrez.efetch(db=\"nucleotide\", rettype=\"gb\", retmode=\"text\", id=GI_id) # db = database to query, rettype = retrieval type, retmode = retrieval mode \n",
    "seq_record = SeqIO.read(handle, \"gb\") #read the contents \"fetched\" from NCBI\n",
    "handle.close()\n",
    "\n",
    "print (seq_record) #print the contents of \"seq_record\""
   ]
  },
  {
   "cell_type": "code",
   "execution_count": 19,
   "metadata": {
    "collapsed": false
   },
   "outputs": [
    {
     "name": "stdout",
     "output_type": "stream",
     "text": [
      "D14673.1\n",
      "CAGCAACCACCACCAGCACCTCCTCCTCCGCCGCCGACGCCGACTCCTCCCTCCAAGCTTTCCCCACCATGGCGTCGTCGTCCGTCTTCGCTGGCCTCGCGCAGGCGCCGGAGGACCCCATCCTCGGGGTGACGGTCGCGTACAACAAGGATCCCAGCCCCGTGAAGGTCAATCTCGGCGTCGGCGCCTACCGGACCGAGGAAGGGAAGCCCCTGGTGCTGAATGTGGTCAGGCGCGCTGAGCAGATGCTGATCAACAACCCGTCACGTGTTAAGGAGTATTTGCCGATCACTGGACTGGCCGATTTCAATAAGCTGAGTGCTAAGCTTATTTTTGGTGCTGACAGTCCTGCCATTCAAGAGAATAGGGTGGCTACAGTTCAGTGCTTGTCAGGAACTGGTTCTTTAAGGGTGGGAGGTGAATTTCTTGCAAGGCATTATCATGAACGCACTATATACATCCCACAGCCAACCTGGGGGAATCACCCCAAAGTGTTCACTTTAGCTGGCCTGACTGTTAGGAGTTACCGCTACTATGATCCTGCAACCCGTGGACTGGATTTCCAAGGGCTGTTAGAAGATCTCGGTTCAGCTCCTTCAGGTGCAATTGTACTGCTTCATGCTTGTGCCCACAACCCTACTGGAGTAGACCCAACTTTGGACCAGTGGGAACAGATCAGGCAGTTGATGAGATCAAAAGCATTGCTGCCATTCTTTGATAGCGCTTATCAGGGATTTGCAAGTGGAAGTCTTGACCAAGATGCTCAATCAGTGCGCATGTTTGTTGCTGATGGTGGTGAATTGCTCATGGCTCAGAGCTACGCTAAGAACATGGGATTGTATGGAGAGCGTGTCGGTGCTTTAAGCATAGTTTGTGGAAGTGCTGATGTAGCTGTCAGGGTTGAAAGTCAACTTAAGCTTGTAATTAGGCCTATGTATTCAAACCCTCCTATTCATGGTGCATCTATCGTGGCTACCATACTTAAGGACAGTGCAATGTTCAATGAATGGACTGTGGAGCTGAAGGGCATGGCTGATAGGATTATTAGCATGAGGCAACAGCTTTTTGATGCTCTGAAAACGAGAGAAACTCCTGGAGACTGGAGTCACATCATTAAGCAGATCGGAATGTTCACTTTCACTGGGCTCAACAGTGATCAAGTGGCTTTCATGAGGCAGGAATACCACATTTACATGACATCTGATGGGAGGATCAGTATGGCTGGTTTGAGCGGGAGGACCATTCCGCATCTTGCAGATGCAATCCATGCCGCAGTCACAAAACTGAAGTGAATGATGGTAGCATAGCAGCTCCCTCCAAGAATAACATCTTAAAACCATCCGCAGCAGTGTTCTGAGGATTCAGACAGTGATGTTTGCTGGCTGAGCACATCCTGGAAGGTTTCCTTGTAATAGACTCGTGTGACTTCTTTTGGGAGCAGTTTTGTACCAGTGGATTCAGAAAAAGTGGTGATTTCGAATCACCTAATAAGCTCCATCGGTGATGCTTTTACC\n",
      "Len of nucleotide sequence: 1514\n"
     ]
    }
   ],
   "source": [
    "ntid = seq_record.id # assign the id of the sequence to the variable prot_ref\n",
    "print (ntid) #print the id\n",
    "\n",
    "ntseq = seq_record.seq #pull out the sequence associated with this record\n",
    "print (ntseq) #print the sequence\n",
    "\n",
    "print (\"Len of nucleotide sequence:\", len(ntseq)) #print the number of nucleotides in the sequence"
   ]
  },
  {
   "cell_type": "markdown",
   "metadata": {},
   "source": [
    "Next we'll count the number of times each nucletide occurs in the sequence."
   ]
  },
  {
   "cell_type": "code",
   "execution_count": 20,
   "metadata": {
    "collapsed": false
   },
   "outputs": [
    {
     "ename": "IndentationError",
     "evalue": "expected an indented block (<ipython-input-20-0512e71dcfff>, line 18)",
     "output_type": "error",
     "traceback": [
      "\u001b[1;36m  File \u001b[1;32m\"<ipython-input-20-0512e71dcfff>\"\u001b[1;36m, line \u001b[1;32m18\u001b[0m\n\u001b[1;33m    print \"Non-standard nt\", nt # print a warning message\u001b[0m\n\u001b[1;37m        ^\u001b[0m\n\u001b[1;31mIndentationError\u001b[0m\u001b[1;31m:\u001b[0m expected an indented block\n"
     ]
    }
   ],
   "source": [
    "countA=0 # create variables to hold the count of each nucleotide\n",
    "countC=0\n",
    "countG=0\n",
    "countT=0\n",
    "countN=0 # create a variable to hold the count of any non-standard nucleotides\n",
    "\n",
    "for nt in ntseq:#Loop over each nucleotide in the sequence\n",
    "# ask if the nt is cytosine\n",
    "# increase countC by one\n",
    "# ask if the nt is adenosine\n",
    "# increase countA by one\n",
    "# ask if the nt is thymine\n",
    "# increase countT by one\n",
    "# ask if the nt is guanine\n",
    "# increase countG by one\n",
    "# if above not True then nt is not a standard nucleotide\n",
    "# increase countN by one\n",
    "print (\"Non-standard nt\", nt)# print a warning message\n",
    "\n",
    "print (\"countA\", countA)# print the values of the count variables\n",
    "print (\"countC\", countC)\n",
    "print (\"countG\", countG)\n",
    "print (\"countT\", countT)\n",
    "print (\"countN\", countN)"
   ]
  },
  {
   "cell_type": "markdown",
   "metadata": {},
   "source": [
    "Next, calculate the number of cytosine and guanine nucleotides as a percentage of the total number of nt's in the sequence"
   ]
  },
  {
   "cell_type": "code",
   "execution_count": null,
   "metadata": {
    "collapsed": false,
    "scrolled": true
   },
   "outputs": [],
   "source": [
    "countGC = # create a variable countGC to hold the count of G's and C's in the sequence \n",
    "percGC =  # calculate the percent of total nucleotides that are G or C\n",
    "print (percGC)"
   ]
  },
  {
   "cell_type": "markdown",
   "metadata": {},
   "source": [
    "Integer divsion digression . . . "
   ]
  },
  {
   "cell_type": "code",
   "execution_count": null,
   "metadata": {
    "collapsed": true
   },
   "outputs": [],
   "source": [
    "1/3"
   ]
  },
  {
   "cell_type": "code",
   "execution_count": null,
   "metadata": {
    "collapsed": true
   },
   "outputs": [],
   "source": [
    "1/3.0"
   ]
  },
  {
   "cell_type": "code",
   "execution_count": null,
   "metadata": {
    "collapsed": true
   },
   "outputs": [],
   "source": [
    "float(3)\n"
   ]
  },
  {
   "cell_type": "code",
   "execution_count": null,
   "metadata": {
    "collapsed": true
   },
   "outputs": [],
   "source": [
    "1/float(3)"
   ]
  },
  {
   "cell_type": "code",
   "execution_count": null,
   "metadata": {
    "collapsed": false
   },
   "outputs": [],
   "source": [
    "type(countGC)"
   ]
  },
  {
   "cell_type": "code",
   "execution_count": null,
   "metadata": {
    "collapsed": false
   },
   "outputs": [],
   "source": [
    "percGC = float(countGC)/len(ntseq)*100 # calculate the percent of total nucleotides that are G or C\n",
    "print (percGC)"
   ]
  },
  {
   "cell_type": "markdown",
   "metadata": {},
   "source": [
    "Q5: What is the result of integer division? In the cells below show two *different* methods to obtain an answer of 0.10 when computing 1 divided by 10."
   ]
  },
  {
   "cell_type": "raw",
   "metadata": {},
   "source": []
  },
  {
   "cell_type": "code",
   "execution_count": null,
   "metadata": {
    "collapsed": true
   },
   "outputs": [],
   "source": [
    "1/10"
   ]
  },
  {
   "cell_type": "code",
   "execution_count": null,
   "metadata": {
    "collapsed": true
   },
   "outputs": [],
   "source": [
    "1/10"
   ]
  },
  {
   "cell_type": "markdown",
   "metadata": {},
   "source": [
    "Generate a list containing the percent of A, T, C, and G in the sequence."
   ]
  },
  {
   "cell_type": "code",
   "execution_count": null,
   "metadata": {
    "collapsed": false
   },
   "outputs": [],
   "source": [
    "counts = # create a list \"counts\" containing the counts of A, T, C, G\n",
    "print (counts)\n",
    "\n",
    "percents = [x/float(len(ntseq))*100 for x in counts] # create a list containing the number of each nt as a percent of the total number of nt in the sequence\n",
    "print (percents)"
   ]
  },
  {
   "cell_type": "markdown",
   "metadata": {},
   "source": [
    "We generated percents using a list comprehension. It is equivalent to the following for loop."
   ]
  },
  {
   "cell_type": "code",
   "execution_count": null,
   "metadata": {
    "collapsed": false
   },
   "outputs": [],
   "source": [
    "percents = []\n",
    "for x in counts:\n",
    "    p = x/float(len(ntseq))*100\n",
    "    percents.append(p)\n",
    "print (percents)"
   ]
  },
  {
   "cell_type": "markdown",
   "metadata": {},
   "source": [
    "Now we can create a graph - with the four nucleotides on the x-axis and the percentages on the y-axis."
   ]
  },
  {
   "cell_type": "code",
   "execution_count": null,
   "metadata": {
    "collapsed": false
   },
   "outputs": [],
   "source": [
    "import matplotlib.pyplot as plt # import a set of code written for generating graphics and tell the computer how to display graphs\n",
    "%pylab inline "
   ]
  },
  {
   "cell_type": "code",
   "execution_count": null,
   "metadata": {
    "collapsed": false
   },
   "outputs": [],
   "source": [
    "nucleotides = arange(4) # the x-axis has four positions, one for each of the four nucleotides\n",
    "bar(nucleotides, percents) # chart will be a bar chart, containing nucleotides on the x-axis and count as percent of length of the sequence on the y-axis\n",
    "xticks(nucleotides + 0.5,  ('A', 'T', 'C', 'G') ) # label the x-axis with the nucleotides in the same order as in the counts list\n",
    "title(\"Nucleotide composition of \" + ntid) #add a title to the graph\n",
    "ylabel(\"Percent\") #label the y-axis\n",
    "show()"
   ]
  },
  {
   "cell_type": "markdown",
   "metadata": {},
   "source": [
    "In a 2002 paper, researchers found that the GC content of this gene was significantly higher in the begining of the coding region than in the remainder of the sequence. Let's see if we can confirm their findings.\n",
    "\n",
    "\n",
    "For more on this gene and nucleotide composition, see: Wong et al. (2002) Compositional Gradients in Gramineae Genes. Genome Res. 12: 851-856"
   ]
  },
  {
   "cell_type": "markdown",
   "metadata": {},
   "source": [
    "Let's first explore the range function's optional \"step\" argument and how we can use it slice our sequence into short regions."
   ]
  },
  {
   "cell_type": "code",
   "execution_count": null,
   "metadata": {
    "collapsed": false
   },
   "outputs": [],
   "source": [
    "for i in range(0, len(ntseq), 50): # for each number in a list from 0 to len(ntseq) counting in increments of 50\n",
    "    print (i)\n",
    "    #print i, i + 50 # the regions will be defined by the number i and a number 50 nts down\n",
    "    #print ntseq[i:i+50] # print the slice of nt_seq from i to i+50\n",
    "    #print \"length of slice\", len(ntseq[i:i+50]) # print the length of the slice"
   ]
  },
  {
   "cell_type": "code",
   "execution_count": null,
   "metadata": {
    "collapsed": false
   },
   "outputs": [],
   "source": [
    "region = [] # a list to hold the GC percent of each 50 nt region \n",
    "for i in range(0, len(ntseq), 50):\n",
    "    # set the counter \"countGC\" to 0 at the begining of each region\n",
    "    for nt in ntseq[i:i+50]: # loop over the slice of nt_seq\n",
    "        if nt in \"GC\": # ask if the nt is either G or C\n",
    "            # if so increment the counter \"countGC\" by 1\n",
    "    reg_perc_GC = float(countGC)/len(ntseq[i:i+50])*100 # when the loop is complete, calculte the percent of nts in the region that are G or C\n",
    "    region.append(reg_perc_GC)#add the percentage to the list \"region\"\n",
    "\n",
    "print (region)"
   ]
  },
  {
   "cell_type": "markdown",
   "metadata": {},
   "source": [
    "Now, let's generate a graph showing the percent GC of 50 nt bins along the coding region of this gene. We'll also plot the percent GC that we calculated from the coding sequence as a whole."
   ]
  },
  {
   "cell_type": "code",
   "execution_count": null,
   "metadata": {
    "collapsed": false
   },
   "outputs": [],
   "source": [
    "import matplotlib.pyplot as plt # import a set of code written for generating graphics and tell the computer how to display graphs\n",
    "%pylab inline\n",
    "\n",
    "plt.plot() # plot the values of region\n",
    "plt.axhline(0, color='black') # forces the y-axis to start at 0\n",
    "# add a red line representing the average GC content of the entire sequence\n",
    "plt.ylabel(\"\") # label the y-axis\n",
    "plt.xlabel(\"\") # label the x-axis\n",
    "plt.title(\"GC percentage of \" + ntid + \"\\n calculated over 50 nt bins\") # add a title\n",
    "plt.show()"
   ]
  },
  {
   "cell_type": "markdown",
   "metadata": {
    "slideshow": {
     "slide_type": "-"
    }
   },
   "source": [
    "### B. Predict transmembrane regions of a protein"
   ]
  },
  {
   "cell_type": "markdown",
   "metadata": {},
   "source": [
    "First we'll retreive a protein sequence from NCBI."
   ]
  },
  {
   "cell_type": "code",
   "execution_count": null,
   "metadata": {
    "collapsed": false
   },
   "outputs": [],
   "source": [
    "from Bio import Entrez # we'll import a set of code written for common biological applications\n",
    "from Bio import SeqIO"
   ]
  },
  {
   "cell_type": "code",
   "execution_count": null,
   "metadata": {
    "collapsed": false
   },
   "outputs": [],
   "source": [
    "GI_id = \"269973880\" #the GI accession of our protein of interest"
   ]
  },
  {
   "cell_type": "code",
   "execution_count": null,
   "metadata": {
    "collapsed": false
   },
   "outputs": [],
   "source": [
    "Entrez.email = \"\" # let NCBI know who you are\n",
    "handle = Entrez.efetch(db=\"protein\", rettype=\"gb\", retmode=\"text\", id=GI_id) # db = database to query, rettype = retrieval type, retmode = retrieval mode \n",
    "seq_record = SeqIO.read(handle, \"gb\") # read the contents \"fetched\" from NCBI\n",
    "handle.close()"
   ]
  },
  {
   "cell_type": "code",
   "execution_count": null,
   "metadata": {
    "collapsed": false
   },
   "outputs": [],
   "source": [
    "protid = seq_record.id# assign the RefSeq id of the sequence to the variable prot_ref\n",
    "print (protid) # print the RefSeq id\n",
    "\n",
    "protdes = seq_record.description #assign the protein's description to protdes\n",
    "print (protdes)\n",
    "\n",
    "protseq = seq_record.seq# pull out the sequence associated with this record\n",
    "print (protseq)\n",
    "\n",
    "print (\"Len of protein:\", len(protseq)) # print the number of amino acids in the sequence"
   ]
  },
  {
   "cell_type": "markdown",
   "metadata": {},
   "source": [
    "The distribution of hydrophobic/hydrophilic amino acids throughout a protein sequence is associated with a protein's three-dimensional structure. \n",
    "\n",
    "In particular we're interested in identifying transmembrane domains. The location of transmembrane domains can be predicted by generating a graph with the positions of amino acids in a protein sequence on the x-axis and hydrophobicity values on the y-axis.  \n",
    "\n",
    "We'll loop over the amino acids in the protein, look up the hydrophobicity value of the amino acid, and generate a graph of the hydrophobicity values across the length of the protein sequence.  "
   ]
  },
  {
   "cell_type": "markdown",
   "metadata": {},
   "source": [
    "First, we'll generate a dictionary of the amino acids and their hydrophobicity values . . ."
   ]
  },
  {
   "cell_type": "code",
   "execution_count": null,
   "metadata": {
    "collapsed": true
   },
   "outputs": [],
   "source": [
    "hydro = {\"I\":4.5, \"V\":4.2, \"L\":3.8, \"F\":2.8, \"C\":2.5, \"M\":1.9, \"A\":1.8, \"G\":-0.4, \"T\":-0.7, \"S\":-0.8, \"W\":-0.9, \"Y\":-1.3, \"P\":-1.6, \"H\":-3.2, \"E\":-3.5, \"Q\":-3.5, \"D\":-3.5, \"N\":-3.5, \"K\":-3.9, \"R\":-4.5}\n",
    "print (len(hydro))"
   ]
  },
  {
   "cell_type": "markdown",
   "metadata": {},
   "source": [
    "The more positive the number the more hydrophobic the amino acid.  \n",
    "The hydrophobicity values were derived from Kyte J, Doolittle RF. (1982) A simple method for displaying the hydropathic character of a protein. J Mol Biol. 157(1):105-32."
   ]
  },
  {
   "cell_type": "markdown",
   "metadata": {},
   "source": [
    "#### Dictionary digression . . . "
   ]
  },
  {
   "cell_type": "markdown",
   "metadata": {},
   "source": [
    "You'll notice that the dictionary, hydro, is enclosed in curly brackets {}, and the elements of the dictionary'e entries contain two parts separated by a \":\". A dictionary gives you an easy way to lookup a string (a \"key\", the part before the :) and get back a value (the part after the :)."
   ]
  },
  {
   "cell_type": "code",
   "execution_count": null,
   "metadata": {
    "collapsed": false
   },
   "outputs": [],
   "source": [
    "print (hydro.keys()) #return a list of the keys in the dictionary \"hydro\""
   ]
  },
  {
   "cell_type": "code",
   "execution_count": null,
   "metadata": {
    "collapsed": false
   },
   "outputs": [],
   "source": [
    "print (hydro.values()) #return a list of the values in the dictionary \"hydro\""
   ]
  },
  {
   "cell_type": "markdown",
   "metadata": {},
   "source": [
    "We can acess the values of the dictionary by providing the key."
   ]
  },
  {
   "cell_type": "code",
   "execution_count": null,
   "metadata": {
    "collapsed": false
   },
   "outputs": [],
   "source": [
    "print (hydro[\"T\"]) #return the hydrophobicity value of threonine (T)"
   ]
  },
  {
   "cell_type": "markdown",
   "metadata": {},
   "source": [
    "We can loop over the elements of a dictionary and print the keys."
   ]
  },
  {
   "cell_type": "code",
   "execution_count": null,
   "metadata": {
    "collapsed": false
   },
   "outputs": [],
   "source": [
    "for a in hydro:# Go through each key in the dictionary\n",
    "    print (a) # print the key "
   ]
  },
  {
   "cell_type": "markdown",
   "metadata": {},
   "source": [
    "We can loop over the elements of a dictionary and print the values."
   ]
  },
  {
   "cell_type": "code",
   "execution_count": null,
   "metadata": {
    "collapsed": false
   },
   "outputs": [],
   "source": [
    "for k in hydro: # Go through each key in the dictionary\n",
    "    print (hydro[k]) #print the value"
   ]
  },
  {
   "cell_type": "markdown",
   "metadata": {},
   "source": [
    "Loop over the amino acids in the protein sequence, then look up the amino acid in the hydrophobicity dictionary."
   ]
  },
  {
   "cell_type": "code",
   "execution_count": null,
   "metadata": {
    "collapsed": false
   },
   "outputs": [],
   "source": [
    "hvalues = [] # an empty list to hold the hydrophobicity values along the length of the protein\n",
    "for aa in protseq:# go through amino acid in the protein sequence, protseq\n",
    "    # ask if the amino acid is in the dictionary's keys\n",
    "    # print the amino acid and it's hydrophobicity value\n",
    "    # add the hydrophobicity value to the list hvalues\n",
    "    else:# if the amino acid is not in the dictionary's keys\n",
    "        print (\"Amino acid\", aa, \"not in dictionary.\") # print out a warning\n",
    "        break # stop the flow of the for loop"
   ]
  },
  {
   "cell_type": "markdown",
   "metadata": {},
   "source": [
    "Now, let's generate a graph."
   ]
  },
  {
   "cell_type": "code",
   "execution_count": null,
   "metadata": {
    "collapsed": false
   },
   "outputs": [],
   "source": [
    "import matplotlib.pyplot as plt # import a set of code written for generating graphics and tell the computer how to display graphs\n",
    "%pylab inline\n",
    "\n",
    "plt.plot(hvalues) # plot the hydrophobicity values of the protein sequence\n",
    "plt.axhline(0, color='grey') # add a horizontal grey line at y=0\n",
    "plt.ylabel() # add a label to the y-axis\n",
    "plt.xlabel() # add a label to the x-axis\n",
    "plt.title(\"Kyte Doolittle Hydrophobicity of \" + protid) #add a title to the graph\n",
    "plt.show()"
   ]
  },
  {
   "cell_type": "markdown",
   "metadata": {},
   "source": [
    "Ploting the hydrophobicity of each position in the protein sequence results in a noisy graph. Let's calculate the average hydrophobicity over a sliding window 20 aa in length, and include a red line on the graph at 1.6 on the hydrophobicity scale. Regions with hydrophobicity values greater than 1.6 are more likely to be transmembrane domains."
   ]
  },
  {
   "cell_type": "code",
   "execution_count": null,
   "metadata": {
    "collapsed": false
   },
   "outputs": [],
   "source": [
    "window_len = 20 # define the length of the window\n",
    "smooth_hydro = []# smooth_hydro = a list to hold the moving average values\n",
    "for i in range(len(protseq)-window_len): # for each number in a list\n",
    "    hval = 0 # for each region reset the cumulative hydrophobicity value, hval, to 0\n",
    "    for aa in protseq[i:i+window_len]:# for each aa in window\n",
    "        v = #look-up hydrophobicity of aa, assign to variable \"v\"\n",
    "        hval += #increment the value of hval by v\n",
    "    avh = hval/len(protseq[i:i+window_len]) # calculate the average hydrophobicity value of the region\n",
    "    smooth_hydro.append(avh) # add the average to the list smooth_hydro"
   ]
  },
  {
   "cell_type": "markdown",
   "metadata": {},
   "source": [
    "We'll generate a graph of the smoothed values."
   ]
  },
  {
   "cell_type": "code",
   "execution_count": null,
   "metadata": {
    "collapsed": false
   },
   "outputs": [],
   "source": [
    "import matplotlib.pyplot as plt # import a set of code written for generating graphics and tell the computer how to display graphs\n",
    "%pylab inline\n",
    "\n",
    "plt.plot(smooth_hydro) # plot the value of smooth_hydro\n",
    "plt.axhline(0, color='grey') # add a horizontal grey line at y=0\n",
    "plt.axhline(1.6, color='red')# add a horizontal red line at y=1.6\n",
    "plt.ylabel('Hydrophobicity') # add a label to the y-axis\n",
    "plt.xlabel('Amino acid position') # add a label to the x-axis\n",
    "plt.title(\"Kyte Doolittle Hydrophobicity of \" + protid + \"\\n 20 nt sliding window\") # add a title to the graph\n",
    "plt.show()"
   ]
  },
  {
   "cell_type": "markdown",
   "metadata": {},
   "source": [
    "That's all folks!  \n",
    "Please save your notebook and upload the notebook to Blackboard."
   ]
  },
  {
   "cell_type": "code",
   "execution_count": null,
   "metadata": {
    "collapsed": false
   },
   "outputs": [],
   "source": []
  }
 ],
 "metadata": {
  "kernelspec": {
   "display_name": "Python 2",
   "language": "python",
   "name": "python2"
  },
  "language_info": {
   "codemirror_mode": {
    "name": "ipython",
    "version": 2
   },
   "file_extension": ".py",
   "mimetype": "text/x-python",
   "name": "python",
   "nbconvert_exporter": "python",
   "pygments_lexer": "ipython2",
   "version": "2.7.13"
  }
 },
 "nbformat": 4,
 "nbformat_minor": 0
}
