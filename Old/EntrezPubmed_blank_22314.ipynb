{
 "metadata": {
  "name": "EntrezPubmed_blank_22314"
 },
 "nbformat": 3,
 "nbformat_minor": 0,
 "worksheets": [
  {
   "cells": [
    {
     "cell_type": "heading",
     "level": 2,
     "metadata": {},
     "source": "Lab 3: Database Searching Using Biopython"
    },
    {
     "cell_type": "heading",
     "level": 4,
     "metadata": {},
     "source": "Enter your name below."
    },
    {
     "cell_type": "raw",
     "metadata": {},
     "source": ""
    },
    {
     "cell_type": "heading",
     "level": 3,
     "metadata": {},
     "source": "Part 1: Search NCBI's Gene database for genes involved in cystic fibrosis."
    },
    {
     "cell_type": "heading",
     "level": 5,
     "metadata": {},
     "source": "1. Load the Biopython module \"Entrez\". You must execute the following cell!"
    },
    {
     "cell_type": "code",
     "collapsed": true,
     "input": "from Bio import Entrez\n\n#Tell NCBI who you are\nEntrez.email = \"\"",
     "language": "python",
     "metadata": {},
     "outputs": [],
     "prompt_number": 123
    },
    {
     "cell_type": "heading",
     "level": 5,
     "metadata": {},
     "source": "2. Generate query and execute the search."
    },
    {
     "cell_type": "code",
     "collapsed": false,
     "input": "#This is the database we want to search\ndb = \"gene\"\n\n#This is the query\nquery = \"cystic fibrosis\"\n\n#We'll use the function Entrez.esearch to search the pubmed database with our query\nh_search =  Entrez.esearch(db=db, term=query) #tell Entrez what database we want to search, who we are, and what we want to look for\n\nrecord = Entrez.read(h_search) #read the esearch record\n\nres_ids = record[\"IdList\"] #save the list of ids returned by our query to res_ids\n\n#print the list of ids",
     "language": "python",
     "metadata": {},
     "outputs": [],
     "prompt_number": 125
    },
    {
     "cell_type": "code",
     "collapsed": false,
     "input": "#Use Entrez esummary to retrieve the record for the first id in the list \nsummary = Entrez.esummary(db=db, id=res_ids[0])\n\n#Read the summary and print it out\ngene_summary = Entrez.read(summary)\nprint gene_summary",
     "language": "python",
     "metadata": {},
     "outputs": [],
     "prompt_number": 1
    },
    {
     "cell_type": "markdown",
     "metadata": {},
     "source": "Q1: Name three data types you see in the printed output of gene_summary."
    },
    {
     "cell_type": "raw",
     "metadata": {},
     "source": ""
    },
    {
     "cell_type": "code",
     "collapsed": false,
     "input": "#access the elements of a record\nprint gene_summary[0].keys()",
     "language": "python",
     "metadata": {},
     "outputs": [],
     "prompt_number": 2
    },
    {
     "cell_type": "heading",
     "level": 5,
     "metadata": {},
     "source": "3. Analyze the results."
    },
    {
     "cell_type": "code",
     "collapsed": false,
     "input": "for r_id in res_ids: #loop over pubmed IDs\n    summary = Entrez.esummary(db=db, id=r_id, email=\"tagulick@gmail.com\") #retrieve summary of document\n    gene_summary = Entrez.read(summary) #use biopython to parse the summary\n    print gene_summary[0]\n    #print gene_summary[0]['Description'] \n    #print gene_summary[0]['Orgname']\n    #print gene_summary[0]['Summary']\n    #print gene_summary[0]['OtherAliases']\n    #print '\\n'",
     "language": "python",
     "metadata": {},
     "outputs": [],
     "prompt_number": 4
    },
    {
     "cell_type": "markdown",
     "metadata": {},
     "source": "Let's quantify the success of our query using true and false positive terminology.  \nTalk with your team and decide how you will categorize the results as true and false positives. Write your definitions below."
    },
    {
     "cell_type": "raw",
     "metadata": {},
     "source": "A result is a true positive if \nA result is a false positive if"
    },
    {
     "cell_type": "code",
     "collapsed": false,
     "input": "#Use a for loop to sort through the genes returned by your query. \n#Assign the genes into true and false positive lists based on your criteria.\n#Remember that Python considers the case of a string when checking equality.\n#Hint - you can convert both the query and the subject to a lower case string using str.lower(\"YourString\")\n\ntrue_positive = []\nfalse_positive = []\nfor r_id in res_ids: #loop over pubmed IDs\n    summary = Entrez.esummary(db=db, id=r_id) #retrieve summary of document\n    gene_summary = Entrez.read(summary) #use biopython to parse the summary\n    #use an if statement to define the true positive classification, remember that Python considers the case of the string used   \n    #if the condition is met add the title to the true positive list\n    #else?\n",
     "language": "python",
     "metadata": {},
     "outputs": [],
     "prompt_number": 5
    },
    {
     "cell_type": "code",
     "collapsed": false,
     "input": "#print out a statement describing how many of the results were true/false positives",
     "language": "python",
     "metadata": {},
     "outputs": []
    },
    {
     "cell_type": "code",
     "collapsed": false,
     "input": "#Write a for loop to check if the gene cystic fibrosis transmembrane conductance regulator, \n#abbreviated \"CFTR\", was classified as a true positive.",
     "language": "python",
     "metadata": {},
     "outputs": []
    },
    {
     "cell_type": "heading",
     "level": 3,
     "metadata": {},
     "source": "2. Craft a PubMed query to return journal articles about CFTR."
    },
    {
     "cell_type": "code",
     "collapsed": false,
     "input": "#This is the database we want to search\ndb = \"pubmed\"\n\n#This is the query\nquery = \"cystic fibrosis transmembrane conductance regulator\"\n\n#We'll use the function Entrez.esearch to search the pubmed database with our query\nh_search =  Entrez.esearch(db=db, term=query) #tell Entrez what database we want to search, who we are, \n\nrecord = Entrez.read(h_search)\n\nres_ids = record[\"IdList\"] #save the list of ids returned by our query to res_ids\n\nprint res_ids #print the list of ids",
     "language": "python",
     "metadata": {},
     "outputs": [],
     "prompt_number": 6
    },
    {
     "cell_type": "code",
     "collapsed": false,
     "input": "#How many records were returned?\n",
     "language": "python",
     "metadata": {},
     "outputs": [],
     "prompt_number": 7
    },
    {
     "cell_type": "code",
     "collapsed": false,
     "input": "#Use Entrez esummary to retrieve the record for the first id in the list \nsumm = Entrez.esummary(db=db, id=res_ids[0])\n\n#Read the summary and print it out\npub_summary = Entrez.read(summ)\nprint pub_summary",
     "language": "python",
     "metadata": {},
     "outputs": [],
     "prompt_number": 8
    },
    {
     "cell_type": "code",
     "collapsed": false,
     "input": "#print out the elements of a record\n",
     "language": "python",
     "metadata": {},
     "outputs": [],
     "prompt_number": 9
    },
    {
     "cell_type": "markdown",
     "metadata": {},
     "source": "NCBI's PubMed database contains both primary and secondary research articles. Write a for loop to count the number of primary research articles ('Journal Article') and secondary research articles ('Review').   \nThis information is contained in pub_summary[0]['PubTypeList']."
    },
    {
     "cell_type": "code",
     "collapsed": false,
     "input": "count_journal = 0\ncount_review = 0\nfor r_id in res_ids: #loop over pubmed IDs\n    summary = Entrez.esummary(db=db, id=r_id, email=my_email) #retrieve summary of document\n    pub_summary = Entrez.read(summary)#use biopython to parse the summary\n    #ask if 'Journal Article' is in pub_summary[0]['PubTypeList']\n    #if so increase the value of count_journal by one\n    #ask if 'Review' is in pub_summary[0]['PubTypeList']\n    #if so increase the value of count_review by one\n    \nprint \"Number of primary research articles:\", count_journal\nprint \"Number of review articles:\", count_review",
     "language": "python",
     "metadata": {},
     "outputs": [],
     "prompt_number": 11
    },
    {
     "cell_type": "markdown",
     "metadata": {},
     "source": "NCBI's PubMed database contains research articles written in many different languages. Write a for loop and print out the title of articles written in a language **other than** English.   \nThe language information is stored in pub_summary[0]['LangList']."
    },
    {
     "cell_type": "code",
     "collapsed": false,
     "input": "for r_id in res_ids: #loop over pubmed IDs\n    summary = Entrez.esummary(db=db, id=r_id, email=my_email) #retrieve summary of document\n    pub_summary = Entrez.read(summary) #use biopython to parse the summary\n    #ask if 'English' is not in pub_summary[0]['LangList']\n    #if so print pub_summary[0]['LangList'] AND\n    #also print the title of the article",
     "language": "python",
     "metadata": {},
     "outputs": [],
     "prompt_number": 12
    },
    {
     "cell_type": "markdown",
     "metadata": {},
     "source": "Q2: What is difference between the titles of articles written in English and titles of articles written in other languages? It can be helpful to know at a glance if an article is written in English."
    },
    {
     "cell_type": "raw",
     "metadata": {},
     "source": ""
    },
    {
     "cell_type": "code",
     "collapsed": false,
     "input": "#Generate a list of the titles of the publications\ntitle_list = []\nfor r_id in res_ids: #loop over pubmed IDs\n    summary = Entrez.esummary(db=db, id=r_id, email=my_email) #retrieve summary of document\n    pub_summary = Entrez.read(summary) #use biopython to parse the summary\n    #assign the value of \"Title\" to a variable title\n    #print the title and a new line for readability\n    #add the title to the list title_list",
     "language": "python",
     "metadata": {},
     "outputs": [],
     "prompt_number": 13
    },
    {
     "cell_type": "markdown",
     "metadata": {},
     "source": "Quantify the success of your query using true and false positive terminology.  \nTalk with your team and decide how you will categorize the results as true and false positives. Write your definitions below."
    },
    {
     "cell_type": "raw",
     "metadata": {},
     "source": "A result is a true positive if \nA result is a false positive if"
    },
    {
     "cell_type": "code",
     "collapsed": false,
     "input": "#Use a for loop to sort through the journal articles returned by your query. \n#Assign the titles into true and false positive lists based on your criteria.\n#Remember that Python considers the case of a string when checking equality.\n#Hint - you can convert both the query and the subject to a lower case string using str.lower(\"YourString\")\n\ntrue_positive = [] #an empty list to contain the titles of the true positives\nfalse_positive = [] #an empty list to contain the title of the false positives\nfor t in title_list:\n    #use an if statement to define the true positive classification, remember that Python considers the case of the string use\n    #if the condition is met add the title to the true positive list\n    #else?",
     "language": "python",
     "metadata": {},
     "outputs": []
    },
    {
     "cell_type": "code",
     "collapsed": false,
     "input": "#print out a statement describing how many of the results were true/false positives",
     "language": "python",
     "metadata": {},
     "outputs": []
    },
    {
     "cell_type": "heading",
     "level": 4,
     "metadata": {},
     "source": "That's all folks!!! Save and download your notebook, then upload it to Blackboard."
    }
   ],
   "metadata": {}
  }
 ]
}