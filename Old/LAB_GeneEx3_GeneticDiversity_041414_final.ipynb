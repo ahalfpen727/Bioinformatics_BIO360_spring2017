{
 "metadata": {
  "name": ""
 },
 "nbformat": 3,
 "nbformat_minor": 0,
 "worksheets": [
  {
   "cells": [
    {
     "cell_type": "heading",
     "level": 4,
     "metadata": {},
     "source": [
      "Q0: What's your name?"
     ]
    },
    {
     "cell_type": "raw",
     "metadata": {},
     "source": []
    },
    {
     "cell_type": "code",
     "collapsed": false,
     "input": [
      "import os\n",
      "os.getcwd() # identify the current working directory"
     ],
     "language": "python",
     "metadata": {},
     "outputs": [
      {
       "metadata": {},
       "output_type": "pyout",
       "prompt_number": 2,
       "text": [
        "'/Users/tg/Documents/BIOL361_Lab_Exs'"
       ]
      }
     ],
     "prompt_number": 2
    },
    {
     "cell_type": "code",
     "collapsed": false,
     "input": [
      "os.chdir(os.path.join(os.getcwd(), 'Desktop')) # change the working directory to your computer's desktop\n",
      "os.mkdir('BIOL361_GeneEx3') # make a folder on the Desktop called BIOL361_GeneEx2\n",
      "\n",
      "os.chdir(os.path.join(os.getcwd(),'BIOL361_GeneEx3')) # change the working directory to BIOL361_GeneEx2\n",
      "os.getcwd() # then check the current working directory"
     ],
     "language": "python",
     "metadata": {},
     "outputs": [
      {
       "ename": "OSError",
       "evalue": "[Errno 2] No such file or directory: '/Users/tg/Documents/BIOL361_Lab_Exs/Desktop'",
       "output_type": "pyerr",
       "traceback": [
        "\u001b[0;31m---------------------------------------------------------------------------\u001b[0m\n\u001b[0;31mOSError\u001b[0m                                   Traceback (most recent call last)",
        "\u001b[0;32m<ipython-input-3-f0f2250cc786>\u001b[0m in \u001b[0;36m<module>\u001b[0;34m()\u001b[0m\n\u001b[0;32m----> 1\u001b[0;31m \u001b[0mos\u001b[0m\u001b[0;34m.\u001b[0m\u001b[0mchdir\u001b[0m\u001b[0;34m(\u001b[0m\u001b[0mos\u001b[0m\u001b[0;34m.\u001b[0m\u001b[0mpath\u001b[0m\u001b[0;34m.\u001b[0m\u001b[0mjoin\u001b[0m\u001b[0;34m(\u001b[0m\u001b[0mos\u001b[0m\u001b[0;34m.\u001b[0m\u001b[0mgetcwd\u001b[0m\u001b[0;34m(\u001b[0m\u001b[0;34m)\u001b[0m\u001b[0;34m,\u001b[0m \u001b[0;34m'Desktop'\u001b[0m\u001b[0;34m)\u001b[0m\u001b[0;34m)\u001b[0m \u001b[0;31m# change the working directory to your computer's desktop\u001b[0m\u001b[0;34m\u001b[0m\u001b[0m\n\u001b[0m\u001b[1;32m      2\u001b[0m \u001b[0mos\u001b[0m\u001b[0;34m.\u001b[0m\u001b[0mmkdir\u001b[0m\u001b[0;34m(\u001b[0m\u001b[0;34m'BIOL361_GeneEx3'\u001b[0m\u001b[0;34m)\u001b[0m \u001b[0;31m# make a folder on the Desktop called BIOL361_GeneEx2\u001b[0m\u001b[0;34m\u001b[0m\u001b[0m\n\u001b[1;32m      3\u001b[0m \u001b[0;34m\u001b[0m\u001b[0m\n\u001b[1;32m      4\u001b[0m \u001b[0mos\u001b[0m\u001b[0;34m.\u001b[0m\u001b[0mchdir\u001b[0m\u001b[0;34m(\u001b[0m\u001b[0mos\u001b[0m\u001b[0;34m.\u001b[0m\u001b[0mpath\u001b[0m\u001b[0;34m.\u001b[0m\u001b[0mjoin\u001b[0m\u001b[0;34m(\u001b[0m\u001b[0mos\u001b[0m\u001b[0;34m.\u001b[0m\u001b[0mgetcwd\u001b[0m\u001b[0;34m(\u001b[0m\u001b[0;34m)\u001b[0m\u001b[0;34m,\u001b[0m\u001b[0;34m'BIOL361_GeneEx3'\u001b[0m\u001b[0;34m)\u001b[0m\u001b[0;34m)\u001b[0m \u001b[0;31m# change the working directory to BIOL361_GeneEx2\u001b[0m\u001b[0;34m\u001b[0m\u001b[0m\n\u001b[1;32m      5\u001b[0m \u001b[0mos\u001b[0m\u001b[0;34m.\u001b[0m\u001b[0mgetcwd\u001b[0m\u001b[0;34m(\u001b[0m\u001b[0;34m)\u001b[0m \u001b[0;31m# then check the current working directory\u001b[0m\u001b[0;34m\u001b[0m\u001b[0m\n",
        "\u001b[0;31mOSError\u001b[0m: [Errno 2] No such file or directory: '/Users/tg/Documents/BIOL361_Lab_Exs/Desktop'"
       ]
      }
     ],
     "prompt_number": 3
    },
    {
     "cell_type": "heading",
     "level": 3,
     "metadata": {
      "slideshow": {
       "slide_type": "slide"
      }
     },
     "source": [
      "Retrieve relevant background material on the biology of your gene. "
     ]
    },
    {
     "cell_type": "markdown",
     "metadata": {},
     "source": [
      "First search NCBI's Gene database for your gene. \n",
      "\n",
      "Enter your query then run the for loop. Note that the records are dictionaries. Dictionaries consist of \"key\" : \"value\" pairs. Modify the loop to print out the name of your gene, its description, other aliases, summary and genomic location."
     ]
    },
    {
     "cell_type": "code",
     "collapsed": false,
     "input": [
      "from Bio import Entrez\n",
      "Entrez.email = \"tagulick@gmail.com\" # let NCBI know who you are\n",
      "db = \"gene\"\n",
      "query = \"NM_000517\" # assign the RefSeq accession number (as a string!) to the variable \"query\" \n",
      "\n",
      "h_search = Entrez.esearch(db=db, email = Entrez.email, term = query) # look up your query at Entrez\n",
      "srecord = Entrez.read(h_search) # read the results\n",
      "res_ids = srecord['IdList'] # assign the primary ids to a variable res_ids\n",
      "\n",
      "for r_id in res_ids: # for each id in the list\n",
      "    h_summ = Entrez.esummary(db=db, id=r_id, email = Entrez.email) # look up the summary at Entrez\n",
      "    summ = Entrez.read(h_summ) # read the results\n",
      "    print summ[0] # print out the summary\n",
      "    print '\\n' # print out a visual separation"
     ],
     "language": "python",
     "metadata": {},
     "outputs": [
      {
       "ename": "BadStatusLine",
       "evalue": "''",
       "output_type": "pyerr",
       "traceback": [
        "\u001b[0;31m---------------------------------------------------------------------------\u001b[0m\n\u001b[0;31mBadStatusLine\u001b[0m                             Traceback (most recent call last)",
        "\u001b[0;32m<ipython-input-37-9058c22a1afe>\u001b[0m in \u001b[0;36m<module>\u001b[0;34m()\u001b[0m\n\u001b[1;32m      9\u001b[0m \u001b[0;34m\u001b[0m\u001b[0m\n\u001b[1;32m     10\u001b[0m \u001b[0;32mfor\u001b[0m \u001b[0mr_id\u001b[0m \u001b[0;32min\u001b[0m \u001b[0mres_ids\u001b[0m\u001b[0;34m:\u001b[0m \u001b[0;31m# for each id in the list\u001b[0m\u001b[0;34m\u001b[0m\u001b[0m\n\u001b[0;32m---> 11\u001b[0;31m     \u001b[0mh_summ\u001b[0m \u001b[0;34m=\u001b[0m \u001b[0mEntrez\u001b[0m\u001b[0;34m.\u001b[0m\u001b[0mesummary\u001b[0m\u001b[0;34m(\u001b[0m\u001b[0mdb\u001b[0m\u001b[0;34m=\u001b[0m\u001b[0mdb\u001b[0m\u001b[0;34m,\u001b[0m \u001b[0mid\u001b[0m\u001b[0;34m=\u001b[0m\u001b[0mr_id\u001b[0m\u001b[0;34m,\u001b[0m \u001b[0memail\u001b[0m \u001b[0;34m=\u001b[0m \u001b[0mEntrez\u001b[0m\u001b[0;34m.\u001b[0m\u001b[0memail\u001b[0m\u001b[0;34m)\u001b[0m \u001b[0;31m# look up the summary at Entrez\u001b[0m\u001b[0;34m\u001b[0m\u001b[0m\n\u001b[0m\u001b[1;32m     12\u001b[0m     \u001b[0msumm\u001b[0m \u001b[0;34m=\u001b[0m \u001b[0mEntrez\u001b[0m\u001b[0;34m.\u001b[0m\u001b[0mread\u001b[0m\u001b[0;34m(\u001b[0m\u001b[0mh_summ\u001b[0m\u001b[0;34m)\u001b[0m \u001b[0;31m# read the results\u001b[0m\u001b[0;34m\u001b[0m\u001b[0m\n\u001b[1;32m     13\u001b[0m     \u001b[0;32mprint\u001b[0m \u001b[0msumm\u001b[0m\u001b[0;34m[\u001b[0m\u001b[0;36m0\u001b[0m\u001b[0;34m]\u001b[0m \u001b[0;31m# print out the summary\u001b[0m\u001b[0;34m\u001b[0m\u001b[0m\n",
        "\u001b[0;32m/Users/tg/anaconda/lib/python2.7/site-packages/Bio/Entrez/__init__.pyc\u001b[0m in \u001b[0;36mesummary\u001b[0;34m(**keywds)\u001b[0m\n\u001b[1;32m    282\u001b[0m     \u001b[0mvariables\u001b[0m \u001b[0;34m=\u001b[0m \u001b[0;34m{\u001b[0m\u001b[0;34m}\u001b[0m\u001b[0;34m\u001b[0m\u001b[0m\n\u001b[1;32m    283\u001b[0m     \u001b[0mvariables\u001b[0m\u001b[0;34m.\u001b[0m\u001b[0mupdate\u001b[0m\u001b[0;34m(\u001b[0m\u001b[0mkeywds\u001b[0m\u001b[0;34m)\u001b[0m\u001b[0;34m\u001b[0m\u001b[0m\n\u001b[0;32m--> 284\u001b[0;31m     \u001b[0;32mreturn\u001b[0m \u001b[0m_open\u001b[0m\u001b[0;34m(\u001b[0m\u001b[0mcgi\u001b[0m\u001b[0;34m,\u001b[0m \u001b[0mvariables\u001b[0m\u001b[0;34m)\u001b[0m\u001b[0;34m\u001b[0m\u001b[0m\n\u001b[0m\u001b[1;32m    285\u001b[0m \u001b[0;34m\u001b[0m\u001b[0m\n\u001b[1;32m    286\u001b[0m \u001b[0;34m\u001b[0m\u001b[0m\n",
        "\u001b[0;32m/Users/tg/anaconda/lib/python2.7/site-packages/Bio/Entrez/__init__.pyc\u001b[0m in \u001b[0;36m_open\u001b[0;34m(cgi, params, post)\u001b[0m\n\u001b[1;32m    461\u001b[0m             \u001b[0;31m#HTTP GET\u001b[0m\u001b[0;34m\u001b[0m\u001b[0;34m\u001b[0m\u001b[0m\n\u001b[1;32m    462\u001b[0m             \u001b[0mcgi\u001b[0m \u001b[0;34m+=\u001b[0m \u001b[0;34m\"?\"\u001b[0m \u001b[0;34m+\u001b[0m \u001b[0moptions\u001b[0m\u001b[0;34m\u001b[0m\u001b[0m\n\u001b[0;32m--> 463\u001b[0;31m             \u001b[0mhandle\u001b[0m \u001b[0;34m=\u001b[0m \u001b[0m_urlopen\u001b[0m\u001b[0;34m(\u001b[0m\u001b[0mcgi\u001b[0m\u001b[0;34m)\u001b[0m\u001b[0;34m\u001b[0m\u001b[0m\n\u001b[0m\u001b[1;32m    464\u001b[0m     \u001b[0;32mexcept\u001b[0m \u001b[0m_HTTPError\u001b[0m \u001b[0;32mas\u001b[0m \u001b[0mexception\u001b[0m\u001b[0;34m:\u001b[0m\u001b[0;34m\u001b[0m\u001b[0m\n\u001b[1;32m    465\u001b[0m         \u001b[0;32mraise\u001b[0m \u001b[0mexception\u001b[0m\u001b[0;34m\u001b[0m\u001b[0m\n",
        "\u001b[0;32m/Users/tg/anaconda/python.app/Contents/lib/python2.7/urllib2.pyc\u001b[0m in \u001b[0;36murlopen\u001b[0;34m(url, data, timeout)\u001b[0m\n\u001b[1;32m    125\u001b[0m     \u001b[0;32mif\u001b[0m \u001b[0m_opener\u001b[0m \u001b[0;32mis\u001b[0m \u001b[0mNone\u001b[0m\u001b[0;34m:\u001b[0m\u001b[0;34m\u001b[0m\u001b[0m\n\u001b[1;32m    126\u001b[0m         \u001b[0m_opener\u001b[0m \u001b[0;34m=\u001b[0m \u001b[0mbuild_opener\u001b[0m\u001b[0;34m(\u001b[0m\u001b[0;34m)\u001b[0m\u001b[0;34m\u001b[0m\u001b[0m\n\u001b[0;32m--> 127\u001b[0;31m     \u001b[0;32mreturn\u001b[0m \u001b[0m_opener\u001b[0m\u001b[0;34m.\u001b[0m\u001b[0mopen\u001b[0m\u001b[0;34m(\u001b[0m\u001b[0murl\u001b[0m\u001b[0;34m,\u001b[0m \u001b[0mdata\u001b[0m\u001b[0;34m,\u001b[0m \u001b[0mtimeout\u001b[0m\u001b[0;34m)\u001b[0m\u001b[0;34m\u001b[0m\u001b[0m\n\u001b[0m\u001b[1;32m    128\u001b[0m \u001b[0;34m\u001b[0m\u001b[0m\n\u001b[1;32m    129\u001b[0m \u001b[0;32mdef\u001b[0m \u001b[0minstall_opener\u001b[0m\u001b[0;34m(\u001b[0m\u001b[0mopener\u001b[0m\u001b[0;34m)\u001b[0m\u001b[0;34m:\u001b[0m\u001b[0;34m\u001b[0m\u001b[0m\n",
        "\u001b[0;32m/Users/tg/anaconda/python.app/Contents/lib/python2.7/urllib2.pyc\u001b[0m in \u001b[0;36mopen\u001b[0;34m(self, fullurl, data, timeout)\u001b[0m\n\u001b[1;32m    402\u001b[0m             \u001b[0mreq\u001b[0m \u001b[0;34m=\u001b[0m \u001b[0mmeth\u001b[0m\u001b[0;34m(\u001b[0m\u001b[0mreq\u001b[0m\u001b[0;34m)\u001b[0m\u001b[0;34m\u001b[0m\u001b[0m\n\u001b[1;32m    403\u001b[0m \u001b[0;34m\u001b[0m\u001b[0m\n\u001b[0;32m--> 404\u001b[0;31m         \u001b[0mresponse\u001b[0m \u001b[0;34m=\u001b[0m \u001b[0mself\u001b[0m\u001b[0;34m.\u001b[0m\u001b[0m_open\u001b[0m\u001b[0;34m(\u001b[0m\u001b[0mreq\u001b[0m\u001b[0;34m,\u001b[0m \u001b[0mdata\u001b[0m\u001b[0;34m)\u001b[0m\u001b[0;34m\u001b[0m\u001b[0m\n\u001b[0m\u001b[1;32m    405\u001b[0m \u001b[0;34m\u001b[0m\u001b[0m\n\u001b[1;32m    406\u001b[0m         \u001b[0;31m# post-process response\u001b[0m\u001b[0;34m\u001b[0m\u001b[0;34m\u001b[0m\u001b[0m\n",
        "\u001b[0;32m/Users/tg/anaconda/python.app/Contents/lib/python2.7/urllib2.pyc\u001b[0m in \u001b[0;36m_open\u001b[0;34m(self, req, data)\u001b[0m\n\u001b[1;32m    420\u001b[0m         \u001b[0mprotocol\u001b[0m \u001b[0;34m=\u001b[0m \u001b[0mreq\u001b[0m\u001b[0;34m.\u001b[0m\u001b[0mget_type\u001b[0m\u001b[0;34m(\u001b[0m\u001b[0;34m)\u001b[0m\u001b[0;34m\u001b[0m\u001b[0m\n\u001b[1;32m    421\u001b[0m         result = self._call_chain(self.handle_open, protocol, protocol +\n\u001b[0;32m--> 422\u001b[0;31m                                   '_open', req)\n\u001b[0m\u001b[1;32m    423\u001b[0m         \u001b[0;32mif\u001b[0m \u001b[0mresult\u001b[0m\u001b[0;34m:\u001b[0m\u001b[0;34m\u001b[0m\u001b[0m\n\u001b[1;32m    424\u001b[0m             \u001b[0;32mreturn\u001b[0m \u001b[0mresult\u001b[0m\u001b[0;34m\u001b[0m\u001b[0m\n",
        "\u001b[0;32m/Users/tg/anaconda/python.app/Contents/lib/python2.7/urllib2.pyc\u001b[0m in \u001b[0;36m_call_chain\u001b[0;34m(self, chain, kind, meth_name, *args)\u001b[0m\n\u001b[1;32m    380\u001b[0m             \u001b[0mfunc\u001b[0m \u001b[0;34m=\u001b[0m \u001b[0mgetattr\u001b[0m\u001b[0;34m(\u001b[0m\u001b[0mhandler\u001b[0m\u001b[0;34m,\u001b[0m \u001b[0mmeth_name\u001b[0m\u001b[0;34m)\u001b[0m\u001b[0;34m\u001b[0m\u001b[0m\n\u001b[1;32m    381\u001b[0m \u001b[0;34m\u001b[0m\u001b[0m\n\u001b[0;32m--> 382\u001b[0;31m             \u001b[0mresult\u001b[0m \u001b[0;34m=\u001b[0m \u001b[0mfunc\u001b[0m\u001b[0;34m(\u001b[0m\u001b[0;34m*\u001b[0m\u001b[0margs\u001b[0m\u001b[0;34m)\u001b[0m\u001b[0;34m\u001b[0m\u001b[0m\n\u001b[0m\u001b[1;32m    383\u001b[0m             \u001b[0;32mif\u001b[0m \u001b[0mresult\u001b[0m \u001b[0;32mis\u001b[0m \u001b[0;32mnot\u001b[0m \u001b[0mNone\u001b[0m\u001b[0;34m:\u001b[0m\u001b[0;34m\u001b[0m\u001b[0m\n\u001b[1;32m    384\u001b[0m                 \u001b[0;32mreturn\u001b[0m \u001b[0mresult\u001b[0m\u001b[0;34m\u001b[0m\u001b[0m\n",
        "\u001b[0;32m/Users/tg/anaconda/python.app/Contents/lib/python2.7/urllib2.pyc\u001b[0m in \u001b[0;36mhttp_open\u001b[0;34m(self, req)\u001b[0m\n\u001b[1;32m   1212\u001b[0m \u001b[0;34m\u001b[0m\u001b[0m\n\u001b[1;32m   1213\u001b[0m     \u001b[0;32mdef\u001b[0m \u001b[0mhttp_open\u001b[0m\u001b[0;34m(\u001b[0m\u001b[0mself\u001b[0m\u001b[0;34m,\u001b[0m \u001b[0mreq\u001b[0m\u001b[0;34m)\u001b[0m\u001b[0;34m:\u001b[0m\u001b[0;34m\u001b[0m\u001b[0m\n\u001b[0;32m-> 1214\u001b[0;31m         \u001b[0;32mreturn\u001b[0m \u001b[0mself\u001b[0m\u001b[0;34m.\u001b[0m\u001b[0mdo_open\u001b[0m\u001b[0;34m(\u001b[0m\u001b[0mhttplib\u001b[0m\u001b[0;34m.\u001b[0m\u001b[0mHTTPConnection\u001b[0m\u001b[0;34m,\u001b[0m \u001b[0mreq\u001b[0m\u001b[0;34m)\u001b[0m\u001b[0;34m\u001b[0m\u001b[0m\n\u001b[0m\u001b[1;32m   1215\u001b[0m \u001b[0;34m\u001b[0m\u001b[0m\n\u001b[1;32m   1216\u001b[0m     \u001b[0mhttp_request\u001b[0m \u001b[0;34m=\u001b[0m \u001b[0mAbstractHTTPHandler\u001b[0m\u001b[0;34m.\u001b[0m\u001b[0mdo_request_\u001b[0m\u001b[0;34m\u001b[0m\u001b[0m\n",
        "\u001b[0;32m/Users/tg/anaconda/python.app/Contents/lib/python2.7/urllib2.pyc\u001b[0m in \u001b[0;36mdo_open\u001b[0;34m(self, http_class, req)\u001b[0m\n\u001b[1;32m   1185\u001b[0m         \u001b[0;32melse\u001b[0m\u001b[0;34m:\u001b[0m\u001b[0;34m\u001b[0m\u001b[0m\n\u001b[1;32m   1186\u001b[0m             \u001b[0;32mtry\u001b[0m\u001b[0;34m:\u001b[0m\u001b[0;34m\u001b[0m\u001b[0m\n\u001b[0;32m-> 1187\u001b[0;31m                 \u001b[0mr\u001b[0m \u001b[0;34m=\u001b[0m \u001b[0mh\u001b[0m\u001b[0;34m.\u001b[0m\u001b[0mgetresponse\u001b[0m\u001b[0;34m(\u001b[0m\u001b[0mbuffering\u001b[0m\u001b[0;34m=\u001b[0m\u001b[0mTrue\u001b[0m\u001b[0;34m)\u001b[0m\u001b[0;34m\u001b[0m\u001b[0m\n\u001b[0m\u001b[1;32m   1188\u001b[0m             \u001b[0;32mexcept\u001b[0m \u001b[0mTypeError\u001b[0m\u001b[0;34m:\u001b[0m \u001b[0;31m# buffering kw not supported\u001b[0m\u001b[0;34m\u001b[0m\u001b[0m\n\u001b[1;32m   1189\u001b[0m                 \u001b[0mr\u001b[0m \u001b[0;34m=\u001b[0m \u001b[0mh\u001b[0m\u001b[0;34m.\u001b[0m\u001b[0mgetresponse\u001b[0m\u001b[0;34m(\u001b[0m\u001b[0;34m)\u001b[0m\u001b[0;34m\u001b[0m\u001b[0m\n",
        "\u001b[0;32m/Users/tg/anaconda/python.app/Contents/lib/python2.7/httplib.pyc\u001b[0m in \u001b[0;36mgetresponse\u001b[0;34m(self, buffering)\u001b[0m\n\u001b[1;32m   1043\u001b[0m         \u001b[0mresponse\u001b[0m \u001b[0;34m=\u001b[0m \u001b[0mself\u001b[0m\u001b[0;34m.\u001b[0m\u001b[0mresponse_class\u001b[0m\u001b[0;34m(\u001b[0m\u001b[0;34m*\u001b[0m\u001b[0margs\u001b[0m\u001b[0;34m,\u001b[0m \u001b[0;34m**\u001b[0m\u001b[0mkwds\u001b[0m\u001b[0;34m)\u001b[0m\u001b[0;34m\u001b[0m\u001b[0m\n\u001b[1;32m   1044\u001b[0m \u001b[0;34m\u001b[0m\u001b[0m\n\u001b[0;32m-> 1045\u001b[0;31m         \u001b[0mresponse\u001b[0m\u001b[0;34m.\u001b[0m\u001b[0mbegin\u001b[0m\u001b[0;34m(\u001b[0m\u001b[0;34m)\u001b[0m\u001b[0;34m\u001b[0m\u001b[0m\n\u001b[0m\u001b[1;32m   1046\u001b[0m         \u001b[0;32massert\u001b[0m \u001b[0mresponse\u001b[0m\u001b[0;34m.\u001b[0m\u001b[0mwill_close\u001b[0m \u001b[0;34m!=\u001b[0m \u001b[0m_UNKNOWN\u001b[0m\u001b[0;34m\u001b[0m\u001b[0m\n\u001b[1;32m   1047\u001b[0m         \u001b[0mself\u001b[0m\u001b[0;34m.\u001b[0m\u001b[0m__state\u001b[0m \u001b[0;34m=\u001b[0m \u001b[0m_CS_IDLE\u001b[0m\u001b[0;34m\u001b[0m\u001b[0m\n",
        "\u001b[0;32m/Users/tg/anaconda/python.app/Contents/lib/python2.7/httplib.pyc\u001b[0m in \u001b[0;36mbegin\u001b[0;34m(self)\u001b[0m\n\u001b[1;32m    407\u001b[0m         \u001b[0;31m# read until we get a non-100 response\u001b[0m\u001b[0;34m\u001b[0m\u001b[0;34m\u001b[0m\u001b[0m\n\u001b[1;32m    408\u001b[0m         \u001b[0;32mwhile\u001b[0m \u001b[0mTrue\u001b[0m\u001b[0;34m:\u001b[0m\u001b[0;34m\u001b[0m\u001b[0m\n\u001b[0;32m--> 409\u001b[0;31m             \u001b[0mversion\u001b[0m\u001b[0;34m,\u001b[0m \u001b[0mstatus\u001b[0m\u001b[0;34m,\u001b[0m \u001b[0mreason\u001b[0m \u001b[0;34m=\u001b[0m \u001b[0mself\u001b[0m\u001b[0;34m.\u001b[0m\u001b[0m_read_status\u001b[0m\u001b[0;34m(\u001b[0m\u001b[0;34m)\u001b[0m\u001b[0;34m\u001b[0m\u001b[0m\n\u001b[0m\u001b[1;32m    410\u001b[0m             \u001b[0;32mif\u001b[0m \u001b[0mstatus\u001b[0m \u001b[0;34m!=\u001b[0m \u001b[0mCONTINUE\u001b[0m\u001b[0;34m:\u001b[0m\u001b[0;34m\u001b[0m\u001b[0m\n\u001b[1;32m    411\u001b[0m                 \u001b[0;32mbreak\u001b[0m\u001b[0;34m\u001b[0m\u001b[0m\n",
        "\u001b[0;32m/Users/tg/anaconda/python.app/Contents/lib/python2.7/httplib.pyc\u001b[0m in \u001b[0;36m_read_status\u001b[0;34m(self)\u001b[0m\n\u001b[1;32m    371\u001b[0m             \u001b[0;31m# Presumably, the server closed the connection before\u001b[0m\u001b[0;34m\u001b[0m\u001b[0;34m\u001b[0m\u001b[0m\n\u001b[1;32m    372\u001b[0m             \u001b[0;31m# sending a valid response.\u001b[0m\u001b[0;34m\u001b[0m\u001b[0;34m\u001b[0m\u001b[0m\n\u001b[0;32m--> 373\u001b[0;31m             \u001b[0;32mraise\u001b[0m \u001b[0mBadStatusLine\u001b[0m\u001b[0;34m(\u001b[0m\u001b[0mline\u001b[0m\u001b[0;34m)\u001b[0m\u001b[0;34m\u001b[0m\u001b[0m\n\u001b[0m\u001b[1;32m    374\u001b[0m         \u001b[0;32mtry\u001b[0m\u001b[0;34m:\u001b[0m\u001b[0;34m\u001b[0m\u001b[0m\n\u001b[1;32m    375\u001b[0m             \u001b[0;34m[\u001b[0m\u001b[0mversion\u001b[0m\u001b[0;34m,\u001b[0m \u001b[0mstatus\u001b[0m\u001b[0;34m,\u001b[0m \u001b[0mreason\u001b[0m\u001b[0;34m]\u001b[0m \u001b[0;34m=\u001b[0m \u001b[0mline\u001b[0m\u001b[0;34m.\u001b[0m\u001b[0msplit\u001b[0m\u001b[0;34m(\u001b[0m\u001b[0mNone\u001b[0m\u001b[0;34m,\u001b[0m \u001b[0;36m2\u001b[0m\u001b[0;34m)\u001b[0m\u001b[0;34m\u001b[0m\u001b[0m\n",
        "\u001b[0;31mBadStatusLine\u001b[0m: ''"
       ]
      },
      {
       "output_type": "stream",
       "stream": "stdout",
       "text": [
        "{'Mim': [141850], 'Orgname': 'Homo sapiens', 'TaxID': 9606, 'GeneWeight': 40536, 'GeneticSource': 'genomic', 'ChrSort': '16', 'Status': 0, 'OtherDesignations': 'alpha globin|alpha-2 globin|alpha-globin|hemoglobin alpha chain|hemoglobin subunit alpha', 'Description': 'hemoglobin, alpha 2', 'CurrentID': 0, 'GenomicInfo': [{'ChrAccVer': 'NC_000016.10', 'ChrLoc': '16', 'ExonCount': 3, 'ChrStop': 173709, 'ChrStart': 172846}], 'NomenclatureName': 'hemoglobin, alpha 2', 'NomenclatureSymbol': 'HBA2', 'Name': 'HBA2', 'Summary': \"The human alpha globin gene cluster located on chromosome 16 spans about 30 kb and includes seven loci: 5'- zeta - pseudozeta - mu - pseudoalpha-1 - alpha-2 - alpha-1 - theta - 3'. The alpha-2 (HBA2) and alpha-1 (HBA1) coding sequences are identical. These genes differ slightly over the 5' untranslated regions and the introns, but they differ significantly over the 3' untranslated regions. Two alpha chains plus two beta chains constitute HbA, which in normal adult life comprises about 97% of the total hemoglobin; alpha chains combine with delta chains to constitute HbA-2, which with HbF (fetal hemoglobin) makes up the remaining 3% of adult hemoglobin. Alpha thalassemias result from deletions of each of the alpha genes as well as deletions of both HBA2 and HBA1; some nondeletion alpha thalassemias have also been reported. [provided by RefSeq, Jul 2008]\", u'Item': [], 'ChrStart': 172846, 'NomenclatureStatus': 'Official', 'OtherAliases': 'HBH', 'MapLocation': '16p13.3', u'Id': '3040', 'Chromosome': '16'}\n",
        "\n",
        "\n"
       ]
      }
     ],
     "prompt_number": 37
    },
    {
     "cell_type": "markdown",
     "metadata": {},
     "source": [
      "Notice that the Entrez.read(..) returns a list containing a dictionary. Find the key 'GenomicInfo', look at the corresponding key. It is a dictionary with keys, 'ChrAccVer' - the accession number of the chromosome your gene's record is based on, 'ChrLoc' - the chromosome your gene is located on, 'ExonCount' - the number of exons in your gene, 'ChrStop' - the position on the chromosome where the gene ends, 'ChrStart' - the position on the chromosome where the gene starts. \n",
      "\n",
      "**Look closely at the values of 'ChrLoc', 'ChrStart', and 'ChrStop' - what types of data are these?**\n"
     ]
    },
    {
     "cell_type": "code",
     "collapsed": false,
     "input": [],
     "language": "python",
     "metadata": {},
     "outputs": [],
     "prompt_number": 37
    },
    {
     "cell_type": "markdown",
     "metadata": {},
     "source": [
      "Run the code below, then modify the code below to create:   \n",
      "\n",
      "  * a variable named oname to store the name of the organimsm  \n",
      "  \n",
      "  * a variable named chromosome to store the chromosome number where your gene is located\n",
      "  \n",
      "  * a variable named starting_position to store the location on the chromosome where your gene starts\n",
      "  \n",
      "  * a variable named ending_position to store the location on the chromosome where your gene ends\n",
      "  \n",
      "Make sure that the values assigned to chromosome, starting_position, ending_position are integers."
     ]
    },
    {
     "cell_type": "code",
     "collapsed": false,
     "input": [
      "for r_id in res_ids: # for each id in the list\n",
      "    h_summ = Entrez.esummary(db=db, id=r_id, email = Entrez.email) # look up the summary at Entrez\n",
      "    summ = Entrez.read(h_summ) # read the results\n",
      "\n",
      "    if summ[0]['GenomicInfo'] != []: # if the value corresponding to the key is not blank\n",
      "        oname = summ[0]['Orgname'] # create a variable oname and assign it to the value corresponding to the key 'Orgname'\n",
      "        print oname # display the value of oname\n",
      "        \n",
      "        chromosome = int(summ[0]['GenomicInfo'][0]['ChrLoc']) # create a variable chromosome and assign it to the value corresponding to the key 'ChrLoc' in the dictionary 'GenomicInfo'\n",
      "        \n",
      "        starting_position = int(summ[0]['GenomicInfo'][0]['ChrStart']) # create a variable starting_position and assign it to the value corresponding to the key 'ChrStart' in the dictionary 'GenomicInfo''\n",
      "        \n",
      "        ending_position = int(summ[0]['GenomicInfo'][0]['ChrStop']) # create a variable ending_position and assign it to the value corresponding to the key 'ChrStop' in the dictionary 'GenomicInfo'\n",
      "        \n",
      "        print query, \"is found on\", chromosome, \"from\", starting_position, \"to\", ending_position # display position of the gene\n",
      "        "
     ],
     "language": "python",
     "metadata": {},
     "outputs": [
      {
       "output_type": "stream",
       "stream": "stdout",
       "text": [
        "Homo sapiens\n",
        "NM_000517 is found on 16 from 172846 to 173709\n"
       ]
      }
     ],
     "prompt_number": 38
    },
    {
     "cell_type": "heading",
     "level": 4,
     "metadata": {},
     "source": [
      "How many exons does your gene have?"
     ]
    },
    {
     "cell_type": "raw",
     "metadata": {},
     "source": []
    },
    {
     "cell_type": "heading",
     "level": 3,
     "metadata": {},
     "source": [
      "Querying genetic diversity."
     ]
    },
    {
     "cell_type": "markdown",
     "metadata": {},
     "source": [
      "Last week you generated an xml file. Copy that into the GeneEx3 folder on your Desktop. We're going to use Biopython to parse the xml file and loop over the records. We'll use a regular expression to return the accession numbers of the hits with an e-value less than a threshold you define.  \n",
      "\n",
      "In Part 1 we'll find the accession number of each BLAST hit.  \n",
      "In Part 2 we'll filter the results by their e-value.  \n",
      "In Part 3 we'll put these pieces together in order to create a list of the accession numbers whose hits had an e-value less than a threshold you've defined.   \n",
      "In Part 4, we'll use the list of accesion numbers to look up the genomic location of each record."
     ]
    },
    {
     "cell_type": "heading",
     "level": 4,
     "metadata": {},
     "source": [
      "Part 1: Finding the accession number of each hit"
     ]
    },
    {
     "cell_type": "markdown",
     "metadata": {},
     "source": [
      "First we need to know something about how information is stored in a Biopython BLAST record. The BLAST record classes are illustrated in section 7.4 of the Biopython tutorial, \"The BLAST record class\". http://biopython.org/DIST/docs/tutorial/Tutorial.html\n",
      "\n",
      "Note that each blast record has three attributes - descriptions, alignments, multiple_alignment. We're most interested in the attributes of alignments.\n",
      "\n",
      "First we'll parse the xml file and print out the alignment titles."
     ]
    },
    {
     "cell_type": "code",
     "collapsed": false,
     "input": [
      "from Bio.Blast import NCBIXML # import the xml parsing library from Biopython\n",
      "\n",
      "result_handle = open(\"Example_hemoglobin_blast.xml\") # enter the name of the xml file here\n",
      "blast_records = NCBIXML.parse(result_handle) # ask the NCBIXML module to parse the file, organize the file according to its xml tags \n",
      "\n",
      "for blast_record in blast_records: # for each record in all the BLAST records parsed by NCBIXML.parse ##TAG CHECK - one record per query?\n",
      "    for alignment in blast_record.alignments: # for each alignment in blast_record's attribute alignments\n",
      "        print alignment.title# print the alignment's title, where .title is an attribute of alignment"
     ],
     "language": "python",
     "metadata": {},
     "outputs": [
      {
       "output_type": "stream",
       "stream": "stdout",
       "text": [
        "gi|14250290|gb|BC008572.1| Homo sapiens hemoglobin, alpha 1, mRNA (cDNA clone MGC:17020 IMAGE:4177243), complete cds\n",
        "gi|62898344|dbj|AK223392.1| Homo sapiens mRNA for alpha 2 globin variant, clone: FCC107C11\n",
        "gi|14456711|ref|NM_000558.3| Homo sapiens hemoglobin, alpha 1 (HBA1), mRNA\n",
        "gi|9624480|gb|AF281258.1|AF281258 Homo sapiens alpha one globin (HBA1) mRNA, partial cds\n",
        "gi|28546|emb|V00488.1| Human alpha-globin germ line gene\n",
        "gi|557564619|gb|KF372020.1| Homo sapiens mutant hemoglobin alpha 2 globin chain (HBA2) gene, exons 1, 2 and partial cds\n",
        "gi|90568483|gb|DQ431236.1| Homo sapiens -alpha970 alpha-globin variant (HBA1) gene, partial sequence\n",
        "gi|13958152|gb|AF363956.1|AF363956 Homo sapiens hemoglobin alpha 2 (HBA2) gene, exons 1 and 2 and partial cds\n",
        "gi|313482798|ref|NM_005331.4| Homo sapiens hemoglobin, theta 1 (HBQ1), mRNA\n",
        "gi|6633805|ref|NM_005332.2| Homo sapiens hemoglobin, zeta (HBZ), mRNA\n",
        "gi|183799|gb|M22814.1|HUMHBADY2 Human alpha-hemoglobin gene, exon 2\n",
        "gi|120660063|gb|BC130457.1| Homo sapiens hemoglobin, gamma G, mRNA (cDNA clone MGC:163329 IMAGE:40146488), complete cds\n",
        "gi|15012033|gb|BC010914.1| Homo sapiens hemoglobin, gamma A, mRNA (cDNA clone MGC:13466 IMAGE:4134713), complete cds\n",
        "gi|183397884|gb|EF103274.2| Homo sapiens amyloid beta A4 precursor protein-binding family B member 1 transcript variant 3 (APBB1) mRNA, complete cds, alternatively spliced\n",
        "gi|28302129|ref|NM_005330.3| Homo sapiens hemoglobin, epsilon 1 (HBE1), mRNA\n",
        "gi|34190424|gb|BC015537.2| Homo sapiens hemoglobin, epsilon 1, mRNA (cDNA clone MGC:9582 IMAGE:3884290), complete cds\n",
        "gi|548923956|ref|NM_001257319.2| Homo sapiens amyloid beta (A4) precursor protein-binding, family B, member 1 (Fe65) (APBB1), transcript variant 9, mRNA\n"
       ]
      }
     ],
     "prompt_number": 39
    },
    {
     "cell_type": "markdown",
     "metadata": {},
     "source": [
      "Notice that the first capital letters to appear in each title are the captital letters at the begining of the accession number and that there are two capital letters in a row.\n",
      "Also notice that the first character after the accession number is \"|\".\n",
      "\n",
      "With this information we can define regular expressions to parse out the accession number. We'll first use the regular expression function method search - re.search. re.search takes two arguments - first a specially formatted query string and second the string to be searched.  \n",
      "\n",
      "First we want to find two capital letters next to each other. To do this we can define a character set consisting of all the capital letters in the alphabet - [A-Z].   \n",
      "\n",
      "We want to find two capital letters next to each other, another way to say this is that we want to find a where there are two members of the set [A-Z] in a row. This is written as [A-Z]{2}. \n",
      "\n",
      "After the two capital letters there will be an unknown number of characters and then a |. Remember that . matches any character except a newline character. This is great, becasue we know RefSeq accession numbers contain an underscore _ but other accession numbers contain no non-alphanumeric characters. We want to match any number of these characters, we can do this by using \\* after the period.  \n",
      "\n",
      "The end of our match will have a |. One problem is | is a character with special meaning in regular expressions so to literally match a | we need to \"escape it\" by preceding it with a forward slash, e.g. \\\\|. Another problem is that the * operator is greedy, meaning it will match as many characters as it can until it hits the next element. Where there are multiple | in the title .\\* seeks to match as as many characters as possible and that would include all the | before the last one. We want to limit the greediness of * so that it returns the match with the fewest number of characters.   \n",
      "\n",
      "Putting all these pieces together, our final regular expression query is \"[A-Z].\\*?\\\\|\"."
     ]
    },
    {
     "cell_type": "code",
     "collapsed": false,
     "input": [
      "import re\n",
      "\n",
      "result_handle = open(\"Example_hemoglobin_blast.xml\") # enter the name of the xml file here\n",
      "blast_records = NCBIXML.parse(result_handle) # ask the NCBIXML module to parse the file, organize the file according to its xml tags \n",
      "\n",
      "for blast_record in blast_records: # for each blast_record in blast_records\n",
      "    for alignment in blast_record.alignments: # for each alignment in blast_record.alignments\n",
      "        print alignment.title # print the name of the hit, use the .title attribute of the alignment\n",
      "        find_acc = re.search(\"[A-Z].*?\\|\", alignment.title) # assign a variable called find_acc to the result of re.search using the query string derived above in the name of the hit \n",
      "        if find_acc == None: # if a match is not found in the alignment title\n",
      "            print \"Accession number not found in\", alignment.title # print out a warning, the alignment title \n",
      "            break # break out of the loop \n",
      "        print \"Start of match:\", find_acc.start() # print the begining of the match \n",
      "        print \"End of match:\", find_acc.end() # print the end of the match\n",
      "        print alignment.title[find_acc.start():find_acc.end()-1] # use the begining and end of the match to return a slice of alignment.title, note that the end of the slice is the match end -1 because we don't actually want to return the | that follows the accession number\n",
      "        print '\\n' # print a newline character as a visual barrier between records"
     ],
     "language": "python",
     "metadata": {},
     "outputs": [
      {
       "output_type": "stream",
       "stream": "stdout",
       "text": [
        "gi|14250290|gb|BC008572.1| Homo sapiens hemoglobin, alpha 1, mRNA (cDNA clone MGC:17020 IMAGE:4177243), complete cds\n",
        "Start of match: 15\n",
        "End of match: 26\n",
        "BC008572.1\n",
        "\n",
        "\n",
        "gi|62898344|dbj|AK223392.1| Homo sapiens mRNA for alpha 2 globin variant, clone: FCC107C11\n",
        "Start of match: 16\n",
        "End of match: 27\n",
        "AK223392.1\n",
        "\n",
        "\n",
        "gi|14456711|ref|NM_000558.3| Homo sapiens hemoglobin, alpha 1 (HBA1), mRNA\n",
        "Start of match: 16\n",
        "End of match: 28\n",
        "NM_000558.3\n",
        "\n",
        "\n",
        "gi|9624480|gb|AF281258.1|AF281258 Homo sapiens alpha one globin (HBA1) mRNA, partial cds\n",
        "Start of match: 14\n",
        "End of match: 25\n",
        "AF281258.1\n",
        "\n",
        "\n",
        "gi|28546|emb|V00488.1| Human alpha-globin germ line gene\n",
        "Start of match: 13\n",
        "End of match: 22\n",
        "V00488.1\n",
        "\n",
        "\n",
        "gi|557564619|gb|KF372020.1| Homo sapiens mutant hemoglobin alpha 2 globin chain (HBA2) gene, exons 1, 2 and partial cds\n",
        "Start of match: 16\n",
        "End of match: 27\n",
        "KF372020.1\n",
        "\n",
        "\n",
        "gi|90568483|gb|DQ431236.1| Homo sapiens -alpha970 alpha-globin variant (HBA1) gene, partial sequence\n",
        "Start of match: 15\n",
        "End of match: 26\n",
        "DQ431236.1\n",
        "\n",
        "\n",
        "gi|13958152|gb|AF363956.1|AF363956 Homo sapiens hemoglobin alpha 2 (HBA2) gene, exons 1 and 2 and partial cds\n",
        "Start of match: 15\n",
        "End of match: 26\n",
        "AF363956.1\n",
        "\n",
        "\n",
        "gi|313482798|ref|NM_005331.4| Homo sapiens hemoglobin, theta 1 (HBQ1), mRNA\n",
        "Start of match: 17\n",
        "End of match: 29\n",
        "NM_005331.4\n",
        "\n",
        "\n",
        "gi|6633805|ref|NM_005332.2| Homo sapiens hemoglobin, zeta (HBZ), mRNA\n",
        "Start of match: 15\n",
        "End of match: 27\n",
        "NM_005332.2\n",
        "\n",
        "\n",
        "gi|183799|gb|M22814.1|HUMHBADY2 Human alpha-hemoglobin gene, exon 2\n",
        "Start of match: 13\n",
        "End of match: 22\n",
        "M22814.1\n",
        "\n",
        "\n",
        "gi|120660063|gb|BC130457.1| Homo sapiens hemoglobin, gamma G, mRNA (cDNA clone MGC:163329 IMAGE:40146488), complete cds\n",
        "Start of match: 16\n",
        "End of match: 27\n",
        "BC130457.1\n",
        "\n",
        "\n",
        "gi|15012033|gb|BC010914.1| Homo sapiens hemoglobin, gamma A, mRNA (cDNA clone MGC:13466 IMAGE:4134713), complete cds\n",
        "Start of match: 15\n",
        "End of match: 26\n",
        "BC010914.1\n",
        "\n",
        "\n",
        "gi|183397884|gb|EF103274.2| Homo sapiens amyloid beta A4 precursor protein-binding family B member 1 transcript variant 3 (APBB1) mRNA, complete cds, alternatively spliced\n",
        "Start of match: 16\n",
        "End of match: 27\n",
        "EF103274.2\n",
        "\n",
        "\n",
        "gi|28302129|ref|NM_005330.3| Homo sapiens hemoglobin, epsilon 1 (HBE1), mRNA\n",
        "Start of match: 16\n",
        "End of match: 28\n",
        "NM_005330.3\n",
        "\n",
        "\n",
        "gi|34190424|gb|BC015537.2| Homo sapiens hemoglobin, epsilon 1, mRNA (cDNA clone MGC:9582 IMAGE:3884290), complete cds\n",
        "Start of match: 15\n",
        "End of match: 26\n",
        "BC015537.2\n",
        "\n",
        "\n",
        "gi|548923956|ref|NM_001257319.2| Homo sapiens amyloid beta (A4) precursor protein-binding, family B, member 1 (Fe65) (APBB1), transcript variant 9, mRNA\n",
        "Start of match: 17\n",
        "End of match: 32\n",
        "NM_001257319.2\n",
        "\n",
        "\n"
       ]
      }
     ],
     "prompt_number": 40
    },
    {
     "cell_type": "heading",
     "level": 4,
     "metadata": {},
     "source": [
      "Part 2: Filtering by e-value"
     ]
    },
    {
     "cell_type": "markdown",
     "metadata": {},
     "source": [
      "First, you'll need to define the maximum e-value which supports an inferrence of homology. \n",
      "\n",
      "**Define a relevant e-value threshold and provide an explanation below.**"
     ]
    },
    {
     "cell_type": "raw",
     "metadata": {},
     "source": []
    },
    {
     "cell_type": "markdown",
     "metadata": {},
     "source": [
      "The e-value is found in the expect attribute of the hsps attribute of each alignment. How many hits in your BLAST results have e-values less than or equal to your threshold? For each blast hit you'll first ask if the e-value is less than or equal to your threshold, if so then increase a counter variable by one. Then print out the full length of the subject sequence, the length of the alignment, the number of identical positions within the alignment, the e-value, and the first 75 characters of each alignment."
     ]
    },
    {
     "cell_type": "code",
     "collapsed": false,
     "input": [
      "result_handle = open(\"Example_hemoglobin_blast.xml\") # enter the name of the xml file here\n",
      "blast_records = NCBIXML.parse(result_handle) # ask the NCBIXML module to parse the file, organize the file according to its xml tags \n",
      "\n",
      "e_value_thresh = 0.05 # enter the minimum e-value threshold here \n",
      "\n",
      "count_hits = 0 # create a variable named count_hits to hold the count of the number of hits with e-value less than threshold\n",
      "\n",
      "for blast_record in blast_records:  # for each blast_record in blast_records\n",
      "    for alignment in blast_record.alignments: # for each alignment in blast_record.alignments\n",
      "        for hsp in alignment.hsps: # for each high scoring pair in alignment.hsps\n",
      "            if hsp.expect <= e_value_thresh: # if the e-value (\"expect\") is less than or equal to your threshold\n",
      "                count_hits +=1\n",
      "                print 'length:', alignment.length # display the length of the full subject sequence\n",
      "                print 'length of local alignment:', len(hsp.sbjct) # display the length of the local alignment\n",
      "                print 'identical positions:', hsp.identities # display the number of identical positions in local alignment\n",
      "                print 'e value:', hsp.expect # display the e-value\n",
      "            \n",
      "                print(hsp.query[0:75] + '...') # print out the first 75 characters of the aligned query\n",
      "                print(hsp.match[0:75] + '...') # print out the | characters representing matching positions for the first 75 characters of the alignment\n",
      "                print(hsp.sbjct[0:75] + '...') # print out the first 75 characters of the aligned subject \n",
      "                print '\\n' # print a newline character as a visual barrier between records\n",
      "print \"Number of hits with e-value less than or equal to\", e_value_thresh, \":\", count_hits # display the value of count_hits"
     ],
     "language": "python",
     "metadata": {},
     "outputs": [
      {
       "output_type": "stream",
       "stream": "stdout",
       "text": [
        "length: 579\n",
        "length of local alignment: 579\n",
        "identical positions: 578\n",
        "e value: 0.0\n",
        "CACAGACTCAGAGAGAACCCACCATGGTGCTGTCTCCTGCCGACAAGACCAACGTCAAGGCCGCCTGGGGTAAGG...\n",
        "|||||||||||||||||||||||||||||||||||||||||||||||||||||||||||||||||||||||||||...\n",
        "CACAGACTCAGAGAGAACCCACCATGGTGCTGTCTCCTGCCGACAAGACCAACGTCAAGGCCGCCTGGGGTAAGG...\n",
        "\n",
        "\n",
        "length: 608\n",
        "length of local alignment: 594\n",
        "identical positions: 573\n",
        "e value: 0.0\n",
        "ACTCTTCTGGTCCCCACAGACTCAGAGAGAACCCACCATGGTGCTGTCTCCTGCCGACAAGACCAACGTCAAGGC...\n",
        "|||||||||||||||||||||||||||||||||||||||||||||||||||||||||||||||| ||||||||||...\n",
        "ACTCTTCTGGTCCCCACAGACTCAGAGAGAACCCACCATGGTGCTGTCTCCTGCCGACAAGACCCACGTCAAGGC...\n",
        "\n",
        "\n",
        "length: 576\n",
        "length of local alignment: 576\n",
        "identical positions: 556\n",
        "e value: 0.0\n",
        "ACTCTTCTGGTCCCCACAGACTCAGAGAGAACCCACCATGGTGCTGTCTCCTGCCGACAAGACCAACGTCAAGGC...\n",
        "|||||||||||||||||||||||||||||||||||||||||||||||||||||||||||||||||||||||||||...\n",
        "ACTCTTCTGGTCCCCACAGACTCAGAGAGAACCCACCATGGTGCTGTCTCCTGCCGACAAGACCAACGTCAAGGC...\n",
        "\n",
        "\n",
        "length: 316\n",
        "length of local alignment: 316\n",
        "identical positions: 308\n",
        "e value: 3.02039e-149\n",
        "CGGCTCTGCCCAGGTTAAGGGCCACGGCAAGAAGGTGGCCGACGCGCTGACCAACGCCGTGGCGCACGTGGACGA...\n",
        "|||||||||||||||||||||||||||||||||||||||||||||||||||||||||||||||||||||||||||...\n",
        "CGGCTCTGCCCAGGTTAAGGGCCACGGCAAGAAGGTGGCCGACGCGCTGACCAACGCCGTGGCGCACGTGGACGA...\n",
        "\n",
        "\n",
        "length: 1138\n",
        "length of local alignment: 241\n",
        "identical positions: 239\n",
        "e value: 1.12758e-116\n",
        "AGCTCCTAAGCCACTGCCTGCTGGTGACCCTGGCCGCCCACCTCCCCGCCGAGTTCACCCCTGCGGTGCACGCCT...\n",
        "||||||||||||||||||||||||||||||||||||||||||||||||||||||||||||||||||||||||| |...\n",
        "AGCTCCTAAGCCACTGCCTGCTGGTGACCCTGGCCGCCCACCTCCCCGCCGAGTTCACCCCTGCGGTGCACGCTT...\n",
        "\n",
        "\n",
        "length: 1138\n",
        "length of local alignment: 207\n",
        "identical positions: 206\n",
        "e value: 2.65417e-99\n",
        "AGGATGTTCCTGTCCTTCCCCACCACCAAGACCTACTTCCCGCACTTCGACCTGAGCCACGGCTCTGCCCAGGTT...\n",
        "||||||||||||||||||||||||||||||||||||||||||||||||||||||||||||||||||||||| |||...\n",
        "AGGATGTTCCTGTCCTTCCCCACCACCAAGACCTACTTCCCGCACTTCGACCTGAGCCACGGCTCTGCCCAAGTT...\n",
        "\n",
        "\n",
        "length: 1138\n",
        "length of local alignment: 162\n",
        "identical positions: 161\n",
        "e value: 7.12841e-75\n",
        "CATAAACCCTGGCGCGCTCGCGGGCCGGCACTCTTCTGGTCCCCACAGACTCAGAGAGAACCCACCATGGTGCTG...\n",
        "||||||||||||||||||||||| |||||||||||||||||||||||||||||||||||||||||||||||||||...\n",
        "CATAAACCCTGGCGCGCTCGCGGCCCGGCACTCTTCTGGTCCCCACAGACTCAGAGAGAACCCACCATGGTGCTG...\n",
        "\n",
        "\n",
        "length: 483\n",
        "length of local alignment: 207\n",
        "identical positions: 207\n",
        "e value: 6.242e-101\n",
        "AGGATGTTCCTGTCCTTCCCCACCACCAAGACCTACTTCCCGCACTTCGACCTGAGCCACGGCTCTGCCCAGGTT...\n",
        "|||||||||||||||||||||||||||||||||||||||||||||||||||||||||||||||||||||||||||...\n",
        "AGGATGTTCCTGTCCTTCCCCACCACCAAGACCTACTTCCCGCACTTCGACCTGAGCCACGGCTCTGCCCAGGTT...\n",
        "\n",
        "\n",
        "length: 483\n",
        "length of local alignment: 162\n",
        "identical positions: 162\n",
        "e value: 1.67644e-76\n",
        "CATAAACCCTGGCGCGCTCGCGGGCCGGCACTCTTCTGGTCCCCACAGACTCAGAGAGAACCCACCATGGTGCTG...\n",
        "|||||||||||||||||||||||||||||||||||||||||||||||||||||||||||||||||||||||||||...\n",
        "CATAAACCCTGGCGCGCTCGCGGGCCGGCACTCTTCTGGTCCCCACAGACTCAGAGAGAACCCACCATGGTGCTG...\n",
        "\n",
        "\n",
        "length: 1043\n",
        "length of local alignment: 207\n",
        "identical positions: 207\n",
        "e value: 6.242e-101\n",
        "AGGATGTTCCTGTCCTTCCCCACCACCAAGACCTACTTCCCGCACTTCGACCTGAGCCACGGCTCTGCCCAGGTT...\n",
        "|||||||||||||||||||||||||||||||||||||||||||||||||||||||||||||||||||||||||||...\n",
        "AGGATGTTCCTGTCCTTCCCCACCACCAAGACCTACTTCCCGCACTTCGACCTGAGCCACGGCTCTGCCCAGGTT...\n",
        "\n",
        "\n",
        "length: 1043\n",
        "length of local alignment: 174\n",
        "identical positions: 167\n",
        "e value: 3.03108e-73\n",
        "AGCTCCTAAGCCACTGCCTGCTGGTGACCCTGGCCGCCCACCTCCCCGCCGAGTTCACCCCTGCGGTGCACGCCT...\n",
        "|||||||||||||||||||||||||||||||||||||||||||||||||||||||||||||||||||||||||||...\n",
        "AGCTCCTAAGCCACTGCCTGCTGGTGACCCTGGCCGCCCACCTCCCCGCCGAGTTCACCCCTGCGGTGCACGCCT...\n",
        "\n",
        "\n",
        "length: 1043\n",
        "length of local alignment: 107\n",
        "identical positions: 107\n",
        "e value: 1.20819e-46\n",
        "GAGAACCCACCATGGTGCTGTCTCCTGCCGACAAGACCAACGTCAAGGCCGCCTGGGGTAAGGTCGGCGCGCACG...\n",
        "|||||||||||||||||||||||||||||||||||||||||||||||||||||||||||||||||||||||||||...\n",
        "GAGAACCCACCATGGTGCTGTCTCCTGCCGACAAGACCAACGTCAAGGCCGCCTGGGGTAAGGTCGGCGCGCACG...\n",
        "\n",
        "\n",
        "length: 375\n",
        "length of local alignment: 207\n",
        "identical positions: 206\n",
        "e value: 2.65417e-99\n",
        "AGGATGTTCCTGTCCTTCCCCACCACCAAGACCTACTTCCCGCACTTCGACCTGAGCCACGGCTCTGCCCAGGTT...\n",
        "|||||||||||||||||||||||||||||||||||||||||||||||||||||||||||||||||||||||||||...\n",
        "AGGATGTTCCTGTCCTTCCCCACCACCAAGACCTACTTCCCGCACTTCGACCTGAGCCACGGCTCTGCCCAGGTT...\n",
        "\n",
        "\n",
        "length: 375\n",
        "length of local alignment: 25\n",
        "identical positions: 25\n",
        "e value: 0.0395657\n",
        "GTATGGTGCGGAGGCCCTGGAGAGG...\n",
        "|||||||||||||||||||||||||...\n",
        "GTATGGTGCGGAGGCCCTGGAGAGG...\n",
        "\n",
        "\n",
        "length: 653\n",
        "length of local alignment: 309\n",
        "identical positions: 250\n",
        "e value: 5.85136e-76\n",
        "GAGGCCCTGGAGAGGATGTTCCTGTCCTTCCCCACCACCAAGACCTACTTCCCGCACTTCGACCTGAGCCACGGC...\n",
        "||||||||||| ||||  |||||| | |||||| |||| |||||||||||| | ||| | |||||||||| ||||...\n",
        "GAGGCCCTGGAAAGGACCTTCCTGGCTTTCCCCGCCACGAAGACCTACTTCTCCCACCTGGACCTGAGCCCCGGC...\n",
        "\n",
        "\n",
        "length: 589\n",
        "length of local alignment: 309\n",
        "identical positions: 233\n",
        "e value: 5.48516e-51\n",
        "GAGGCCCTGGAGAGGATGTTCCTGTCCTTCCCCACCACCAAGACCTACTTCCCGCACTTCGACCTGAGCCACGGC...\n",
        "||| | ||||||||| | |||||   |  |||    ||||||||||||||||||||||||||||||  ||  || ...\n",
        "GAGACTCTGGAGAGGCTCTTCCTCAGCCACCCGCAGACCAAGACCTACTTCCCGCACTTCGACCTGCACCCGGGG...\n",
        "\n",
        "\n",
        "length: 79\n",
        "length of local alignment: 78\n",
        "identical positions: 78\n",
        "e value: 6.6882e-31\n",
        "AGGATGTTCCTGTCCTTCCCCACCACCAAGACCTACTTCCCGCACTTCGACCTGAGCCACGGCTCTGCCCAGGTT...\n",
        "|||||||||||||||||||||||||||||||||||||||||||||||||||||||||||||||||||||||||||...\n",
        "AGGATGTTCCTGTCCTTCCCCACCACCAAGACCTACTTCCCGCACTTCGACCTGAGCCACGGCTCTGCCCAGGTT...\n",
        "\n",
        "\n",
        "length: 513\n",
        "length of local alignment: 186\n",
        "identical positions: 126\n",
        "e value: 2.18832e-05\n",
        "CTGAGCGACCTGCACGCGCACAAGCTTCGGGTGGACCCGGTCAACTTCAAGCTCCTAAGCCACTGCCTGCTGGTG...\n",
        "||||| || ||||||    ||||||| |  ||||| || |  ||||||||||||||  |  | ||  ||||||||...\n",
        "CTGAGTGAACTGCACTGTGACAAGCTGCATGTGGATCCTGAGAACTTCAAGCTCCT-GGGAAATG--TGCTGGTG...\n",
        "\n",
        "\n",
        "length: 618\n",
        "length of local alignment: 186\n",
        "identical positions: 126\n",
        "e value: 2.18832e-05\n",
        "CTGAGCGACCTGCACGCGCACAAGCTTCGGGTGGACCCGGTCAACTTCAAGCTCCTAAGCCACTGCCTGCTGGTG...\n",
        "||||| || ||||||    ||||||| |  ||||| || |  ||||||||||||||  |  | ||  ||||||||...\n",
        "CTGAGTGAACTGCACTGTGACAAGCTGCATGTGGATCCTGAGAACTTCAAGCTCCT-GGGAAATG--TGCTGGTG...\n",
        "\n",
        "\n",
        "length: 1972\n",
        "length of local alignment: 39\n",
        "identical positions: 34\n",
        "e value: 0.0113358\n",
        "AATAAAGTCTGAGTGGGCAGCAAAAAAAAAAAAAAAAAA...\n",
        "|||||||||||  ||  | ||||||||||||||||||||...\n",
        "AATAAAGTCTGTCTGCACTGCAAAAAAAAAAAAAAAAAA...\n",
        "\n",
        "\n",
        "length: 816\n",
        "length of local alignment: 150\n",
        "identical positions: 102\n",
        "e value: 0.0113358\n",
        "CTGAGCGACCTGCACGCGCACAAGCTTCGGGTGGACCCGGTCAACTTCAAGCTCCTAAGCCACTGCCTGCTGGTG...\n",
        "||||| || ||||||    ||||||| |  ||||| || |  ||||||||||||||  |  ||    || || | ...\n",
        "CTGAGTGAGCTGCACTGTGACAAGCTGCATGTGGATCCTGAGAACTTCAAGCTCCTGGGTAACGTGATGGTGATT...\n",
        "\n",
        "\n",
        "length: 919\n",
        "length of local alignment: 150\n",
        "identical positions: 102\n",
        "e value: 0.0113358\n",
        "CTGAGCGACCTGCACGCGCACAAGCTTCGGGTGGACCCGGTCAACTTCAAGCTCCTAAGCCACTGCCTGCTGGTG...\n",
        "||||| || ||||||    ||||||| |  ||||| || |  ||||||||||||||  |  ||    || || | ...\n",
        "CTGAGTGAGCTGCACTGTGACAAGCTGCATGTGGATCCTGAGAACTTCAAGCTCCTGGGTAACGTGATGGTGATT...\n",
        "\n",
        "\n",
        "Number of hits with e-value less than or equal to 0.05 : 22\n"
       ]
      }
     ],
     "prompt_number": 41
    },
    {
     "cell_type": "heading",
     "level": 4,
     "metadata": {},
     "source": [
      "Part 3: Generate a list of the accession numbers of sequences containing hits with e-values less than your threshold. "
     ]
    },
    {
     "cell_type": "markdown",
     "metadata": {},
     "source": [
      "Now we'll combine the filtering by e-value with the regular expression designed above to create a list of the accession numbers of subject sequences containing hits with e-values less than or equal to the threshold set above.   \n",
      "\n",
      "**Before going on consider - do you think a single subject sequence could contain more than one BLAST hit? Write your hypothesis below, we will test this hypothesis later. **"
     ]
    },
    {
     "cell_type": "raw",
     "metadata": {},
     "source": []
    },
    {
     "cell_type": "code",
     "collapsed": false,
     "input": [
      "import re\n",
      "\n",
      "result_handle = open(\"Example_hemoglobin_blast.xml\") # enter the name of the xml file here\n",
      "blast_records = NCBIXML.parse(result_handle) # ask the NCBIXML module to parse the file, organize the file according to its xml tags \n",
      "\n",
      "acc_list = [] # create an empty list named acc_list to hold the accession numbers of hits passing your filter\n",
      "\n",
      "for blast_record in blast_records:  # for each blast_record in blast_records\n",
      "    for alignment in blast_record.alignments: # for each alignment in blast_record.alignments\n",
      "        for hsp in alignment.hsps: # for each high scoring pair in alignment.hsps\n",
      "            if hsp.expect <= e_value_thresh: # if the e-value (\"expect\") is less than or equal to your threshold\n",
      "                find_acc = re.search(\"[A-Z].*?\\|\", alignment.title) # assign a variable called find_acc to the result of re.search using the query string derived above in the name of the hit \n",
      "                if find_acc == None: # if a match is not found in the alignment title\n",
      "                    print \"Accession number not found in\", alignment.title # print out a warning, the alignment title \n",
      "                    break # break out of the loop \n",
      "                acc_id = alignment.title[find_acc.start():find_acc.end()-1] # use the begining and end of the match to return a slice of alignment.title, note that the end of the slice is the match end -1 because we don't actually want to return the | that follows the accession number\n",
      "                \n",
      "                if acc_id not in acc_list: # if the accession number is not already in the list acc_list\n",
      "                    acc_list.append(acc_id) # add the accession number to acc_list\n",
      "                    \n",
      "\n",
      "print acc_list # display the value of acc_list\n",
      "print \"Number of accession numbers:\", len(acc_list)"
     ],
     "language": "python",
     "metadata": {},
     "outputs": [
      {
       "output_type": "stream",
       "stream": "stdout",
       "text": [
        "[u'BC008572.1', u'AK223392.1', u'NM_000558.3', u'AF281258.1', u'V00488.1', u'KF372020.1', u'DQ431236.1', u'AF363956.1', u'NM_005331.4', u'NM_005332.2', u'M22814.1', u'BC130457.1', u'BC010914.1', u'EF103274.2', u'NM_005330.3', u'BC015537.2']\n",
        "Number of accession numbers: 16\n"
       ]
      }
     ],
     "prompt_number": 42
    },
    {
     "cell_type": "markdown",
     "metadata": {},
     "source": [
      "**Are the number of hits with e-values less than threshold equal to the number of accession numbers containing hits with e-values less than threshold?**"
     ]
    },
    {
     "cell_type": "raw",
     "metadata": {},
     "source": []
    },
    {
     "cell_type": "markdown",
     "metadata": {},
     "source": [
      "Where the BLASTn query returns multiple hits within a species we need to determine if those hits are sequence/splice variants or paralogs. We can do this by looking up the Genbank record of each hit, returning the genomic location of the hit, and comparing the location to that of the original BLAST query. \n",
      "\n",
      "But first, we need to group the accession numbers according to the organism in which they are found."
     ]
    },
    {
     "cell_type": "code",
     "collapsed": false,
     "input": [
      "Entrez.email = \"tagulick@gmail.com\" # let NCBI know who you are\n",
      "db = \"gene\" # enter the database to query\n",
      "organism_dict = {} # create an empty dictionary called organism_dict, organism name will be the key and a list of accession numbers of records in that organism\n",
      "r_id_list = []\n",
      "\n",
      "for i in acc_list: # loop over each accession number in the list acc_list\n",
      "    h_search = Entrez.esearch(db=db, email = Entrez.email, term = i) # use Entrez.esearch to look up records associated with each accession number in the Gene database\n",
      "    srecord = Entrez.read(h_search) # read the results of the Entrez.esearch query\n",
      "    res_ids = srecord[\"IdList\"] # get the list of primary ids from that query\n",
      "    for r_id in res_ids: # for each id in the list res_ids\n",
      "        h_summ = Entrez.esummary(db=db, id=r_id, email = Entrez.email) # query the Entrez db with that id\n",
      "        summ = Entrez.read(h_summ) # read the result\n",
      "        if summ[0]['GenomicInfo'] != []: # only the records having information on the genomic position are relevant\n",
      "            if summ[0]['Orgname'] in organism_dict: # ask if the organism of the summary is in the dictionary organism_dict\n",
      "                if i not in organism_dict[summ[0]['Orgname']]:  # if the accesion number is not already associated with that organism\n",
      "                    organism_dict[summ[0]['Orgname']].append(i)# add the accession number i to the list of accession numbers\n",
      "            else: # if the organism is not already in the dictionary organism_dict\n",
      "                organism_dict[summ[0]['Orgname']] = [i] # add the organism as a key to the dictionary and associate it with the accession number as a list\n",
      "            \n",
      "print organism_dict # display the value of the dictionary organism_dict"
     ],
     "language": "python",
     "metadata": {},
     "outputs": [
      {
       "output_type": "stream",
       "stream": "stdout",
       "text": [
        "{'Homo sapiens': [u'BC008572.1', u'AK223392.1', u'NM_000558.3', u'AF281258.1', u'V00488.1', u'AF363956.1', u'NM_005331.4', u'NM_005332.2', u'M22814.1', u'BC130457.1', u'BC010914.1', u'EF103274.2', u'NM_005330.3', u'BC015537.2']}\n"
       ]
      }
     ],
     "prompt_number": 45
    },
    {
     "cell_type": "markdown",
     "metadata": {},
     "source": [
      "We're most intersted in the organism in which the gene you're studying is found. So let's loop over the organism dictionary, organism_dict, and only where the key (organism name) is equal to your organism's we'll assign the records to a dictionary, chromosome_dict, where the chromosome number will be the key and the value will be a list of lists containing information about each gene located on that chromromse. \n"
     ]
    },
    {
     "cell_type": "code",
     "collapsed": false,
     "input": [
      "db = \"gene\" # the Entrez database we'll query\n",
      "chromosome_dict = {} # a dictionary with keys = chromosomes and values = accession number, gene description, number of exons, chromosome accession number, begining position of gene, ending position of gene  \n",
      "\n",
      "for i in organism_dict: # for each organism in the dictionary\n",
      "    if i == oname: # if the organism is the same as the organism where your gene is found\n",
      "        for j in organism_dict[i]: # for each accession number in the list of all accession numbers associated with that organism\n",
      "            acc = j # create a variable named acc and assign it to the accession number\n",
      "            h_search = Entrez.esearch(db=db, email = Entrez.email, term = j) # query the Entrez database with the accession number\n",
      "            srecord = Entrez.read(h_search) # read the record returned\n",
      "            res_ids = srecord[\"IdList\"] # create a list of ids\n",
      "            for r_id in res_ids: # for each id in list\n",
      "                h_summ = Entrez.esummary(db=db, id=r_id, email = Entrez.email) # use the id to query the Entrez database\n",
      "                summ = Entrez.read(h_summ) # read the result\n",
      "                if summ[0]['GenomicInfo'] != []: # only the records having information on the genomic position are relevant\n",
      "                    chrom_version = summ[0]['GenomicInfo'][0]['ChrAccVer'] # create a variable chrom_version and assign it to the value corresponding to the key 'ChrAccVer' in the dictionary 'GenomicInfo'\n",
      "                    gene_descrip = summ[0]['Description'] # create a variable gene_descrip and assign it to the value corresponding to the key 'Description' in the dictionary summ[0]\n",
      "                    exon_num = int(summ[0]['GenomicInfo'][0]['ExonCount']) # create a variable exon_num and assign it to the value corresponding to the key 'ExonCount' in the dictionary 'GenomicInfo'\n",
      "                    hit_chrom_loc = int(summ[0]['GenomicInfo'][0]['ChrLoc']) # create a variable hit_chrom_loc and assign it to the value corresponding to the key 'ChrLoc' in the dictionary 'GenomicInfo'\n",
      "                    hit_gene_start = int(summ[0]['GenomicInfo'][0]['ChrStart']) # create a variable hit_gene_start and assign it to the value corresponding to the key 'ChrStart' in the dictionary 'GenomicInfo'\n",
      "                    hit_gene_end = int(summ[0]['GenomicInfo'][0]['ChrStop']) # create a variable hit_gene_end and assign it to the value corresponding to the key 'ChrStop' in the dictionary 'GenomicInfo'\n",
      "                    if hit_chrom_loc in chromosome_dict: # if the chromosome number is already a key in the dictionary chromosome_dict\n",
      "                        chromosome_dict[hit_chrom_loc].append([acc, gene_descrip, exon_num, chrom_version, hit_gene_start, hit_gene_end]) # add a list containing, the accession number, description of the gene, version of the chromosome accession number, the begining position of the hit and the end position of the hit, to the list associated with that chromosome key\n",
      "                    else: # if the chromosome number is not already in the dictionary chromosome_dict \n",
      "                        chromosome_dict[hit_chrom_loc] = [[acc, gene_descrip, exon_num, chrom_version, hit_gene_start, hit_gene_end]] # add a the chromosome as a key of the dictionary with the value a list containing a list of the accession number, description of the gene, version of the chromosome accession number, the begining position of the hit and the end position of the hit\n",
      "print chromosome_dict # display the value of chromosome_dict\n"
     ],
     "language": "python",
     "metadata": {},
     "outputs": [
      {
       "output_type": "stream",
       "stream": "stdout",
       "text": [
        "{16: [[u'BC008572.1', 'hemoglobin, alpha 1', 3, 'NC_000016.10', 176679, 177520], [u'BC008572.1', 'hemoglobin, alpha 2', 3, 'NC_000016.10', 172846, 173709], [u'AK223392.1', 'hemoglobin, alpha 1', 3, 'NC_000016.10', 176679, 177520], [u'AK223392.1', 'hemoglobin, alpha 2', 3, 'NC_000016.10', 172846, 173709], [u'NM_000558.3', 'hemoglobin, alpha 1', 3, 'NC_000016.10', 176679, 177520], [u'AF281258.1', 'hemoglobin, alpha 1', 3, 'NC_000016.10', 176679, 177520], [u'AF281258.1', 'hemoglobin, alpha 2', 3, 'NC_000016.10', 172846, 173709], [u'V00488.1', 'hemoglobin, alpha 2', 3, 'NC_000016.10', 172846, 173709], [u'AF363956.1', 'hemoglobin, alpha 1', 3, 'NC_000016.10', 176679, 177520], [u'NM_005331.4', 'hemoglobin, theta 1', 3, 'NC_000016.10', 180333, 181178], [u'NM_005332.2', 'hemoglobin, zeta', 4, 'NC_000016.10', 142921, 154504], [u'M22814.1', 'hemoglobin, alpha 1', 3, 'NC_000016.10', 176679, 177520]], 11: [[u'BC130457.1', 'hemoglobin, gamma G', 3, 'NC_000011.10', 5254780, 5253190], [u'BC010914.1', 'hemoglobin, gamma A', 3, 'NC_000011.10', 5249856, 5248271], [u'EF103274.2', 'amyloid beta (A4) precursor protein-binding, family B, member 1 (Fe65)', 18, 'NC_000011.10', 6419612, 6395123], [u'NM_005330.3', 'hemoglobin, epsilon 1', 3, 'NC_000011.10', 5270142, 5268349], [u'BC015537.2', 'hemoglobin, epsilon 1', 3, 'NC_000011.10', 5270142, 5268349]]}\n"
       ]
      }
     ],
     "prompt_number": 46
    },
    {
     "cell_type": "markdown",
     "metadata": {},
     "source": [
      "As a first pass, let's check how many chromosomes have good BLAST hits. "
     ]
    },
    {
     "cell_type": "code",
     "collapsed": false,
     "input": [
      "print \"Hits were found on these chromosomes:\", chromosome_dict.keys()"
     ],
     "language": "python",
     "metadata": {},
     "outputs": [
      {
       "output_type": "stream",
       "stream": "stdout",
       "text": [
        "Hits were found on these chromosomes: [16, 11]\n"
       ]
      }
     ],
     "prompt_number": 47
    },
    {
     "cell_type": "markdown",
     "metadata": {},
     "source": [
      "Next, we need to identify the locations where the hits occur on the chromosomes, keeping in mind that there may be sequence/splice variants both of your gene and of the potential paralogs.  \n",
      "We'll divide each chromosome into \"hit regions\", and create a new \"hit region\" if a hit does not overlap with a previous hit. We'll check later if different regions are an artifact of different versions of the chromosome sequence."
     ]
    },
    {
     "cell_type": "code",
     "collapsed": false,
     "input": [
      "hit_region_dict = {} # create a dictionary hit_region_dict \n",
      "for ch in chromosome_dict: # for each chromosome in chromosome_dict\n",
      "    hit_region_dict[ch] = [] # create add the chromosome as a key in the dictionary hit_region_dict, assign it the value of an empty list\n",
      "    for p in chromosome_dict[ch]: # for each accession number associated with that chromosome number in chromosome_dict\n",
      "        min_p = min(p[4], p[5]) # assign to the variable min_p the lowest of the two position numbers, this will not always be the first number as the gene might be on the - strand\n",
      "        max_p = max(p[4], p[5]) # assign to the variable max_p the larger of the two position numbers\n",
      "        for r in hit_region_dict[ch]: # for each region associated with that chromosome number in hit_region_dict\n",
      "            if (min_p <= r[0] and (max_p <= r[1] and max_p >= r[0])) or (min_p <= r[0] and max_p >= r[1]) or (min_p >= r[0] and max_p <= r[1]) or ((min_p >= r[0] and min_p <= r[1]) and max_p >= r[1]):\n",
      "                break # if the location of the gene overlaps with the region, break out of the loop and continue on with the next gene\n",
      "        else: # if the location of the gene does not overlap with a region already associated with that chromosome number in hit_region_dict\n",
      "            hit_region_dict[ch].append([min_p, max_p]) # add a new region\n",
      "                \n",
      "print hit_region_dict"
     ],
     "language": "python",
     "metadata": {},
     "outputs": [
      {
       "output_type": "stream",
       "stream": "stdout",
       "text": [
        "{16: [[176679, 177520], [172846, 173709], [180333, 181178], [142921, 154504]], 11: [[5253190, 5254780], [5248271, 5249856], [6395123, 6419612], [5268349, 5270142]]}\n"
       ]
      }
     ],
     "prompt_number": 48
    },
    {
     "cell_type": "markdown",
     "metadata": {},
     "source": [
      "Next, let's see how many regions were found on each of the chromosomes."
     ]
    },
    {
     "cell_type": "code",
     "collapsed": false,
     "input": [
      "for b in hit_region_dict:\n",
      "    print len(hit_region_dict[b]), \"region[s] were identified on chromosome\", b\n",
      "        "
     ],
     "language": "python",
     "metadata": {},
     "outputs": [
      {
       "output_type": "stream",
       "stream": "stdout",
       "text": [
        "4 region[s] were identified on chromosome 16\n",
        "4 region[s] were identified on chromosome 11\n"
       ]
      }
     ],
     "prompt_number": 49
    },
    {
     "cell_type": "markdown",
     "metadata": {},
     "source": [
      "Now, let's sort the accession numbers of our good hits according to the region in which they're found and then print out the genes' accession numbers, descriptions, version of the chromosome sequence, the begining position of the gene on the chromosome, the ending  position of the gene on the chromosome, and the number of exons the gene has."
     ]
    },
    {
     "cell_type": "code",
     "collapsed": false,
     "input": [
      "for x in hit_region_dict: # for each chromosome in hit_region_dict\n",
      "    print \"Chromosome\", x # print the chromosome number\n",
      "    for r in hit_region_dict[x]: # for each region associated with that chromosome number in hit_region_dict\n",
      "        print \"\\t Region\", r[0], \"to\", r[1] # print out the region\n",
      "        if starting_position in range(r[0], r[1]) or ending_position in range(r[0], r[1]): # ask if your gene's location is within that region\n",
      "            print \"\\t \\t ***** Location of\", query, \"*****\" # if so, print out a message saying so \n",
      "        for p in chromosome_dict[x]: # for each accession number associated with that chromosome number in chromosome_dict\n",
      "            min_p = min(p[4], p[5]) # assign to the variable min_p the lowest of the two position numbers\n",
      "            max_p = max(p[4], p[5]) # assign to the variable max_p the larger of the two position numbers\n",
      "            if (min_p <= r[0] and (max_p <= r[1] and max_p >= r[0])) or (min_p <= r[0] and max_p >= r[1]) or (min_p >= r[0] and max_p <= r[1]) or ((min_p >= r[0] and min_p <= r[1]) and max_p >= r[1]):\n",
      "                print \"\\t \\t Gene id:\", p[0], \"Description:\", p[1], \"Version of chromosome sequence:\", p[3], \"Begining position:\", p[4], \"Ending position:\", p[5], \"Number of exons:\", p[2]\n",
      "        print '\\n' # print a newline character to add a visual seperation between regions\n",
      "    print '\\n' # print a newline character to add a visual seperation between chromosomes"
     ],
     "language": "python",
     "metadata": {},
     "outputs": [
      {
       "output_type": "stream",
       "stream": "stdout",
       "text": [
        "Chromosome 16\n",
        "\t Region 176679 to 177520\n",
        "\t \t Gene id: BC008572.1 Description: hemoglobin, alpha 1 Version of chromosome sequence: NC_000016.10 Begining position: 176679 Ending position: 177520 Number of exons: 3\n",
        "\t \t Gene id: AK223392.1 Description: hemoglobin, alpha 1 Version of chromosome sequence: NC_000016.10 Begining position: 176679 Ending position: 177520 Number of exons: 3\n",
        "\t \t Gene id: NM_000558.3 Description: hemoglobin, alpha 1 Version of chromosome sequence: NC_000016.10 Begining position: 176679 Ending position: 177520 Number of exons: 3\n",
        "\t \t Gene id: AF281258.1 Description: hemoglobin, alpha 1 Version of chromosome sequence: NC_000016.10 Begining position: 176679 Ending position: 177520 Number of exons: 3\n",
        "\t \t Gene id: AF363956.1 Description: hemoglobin, alpha 1 Version of chromosome sequence: NC_000016.10 Begining position: 176679 Ending position: 177520 Number of exons: 3\n",
        "\t \t Gene id: M22814.1 Description: hemoglobin, alpha 1 Version of chromosome sequence: NC_000016.10 Begining position: 176679 Ending position: 177520 Number of exons: 3\n",
        "\n",
        "\n",
        "\t Region 172846 to 173709\n",
        "\t \t ***** Location of NM_000517 *****\n",
        "\t \t Gene id: BC008572.1 Description: hemoglobin, alpha 2 Version of chromosome sequence: NC_000016.10 Begining position: 172846 Ending position: 173709 Number of exons: 3\n",
        "\t \t Gene id: AK223392.1 Description: hemoglobin, alpha 2 Version of chromosome sequence: NC_000016.10 Begining position: 172846 Ending position: 173709 Number of exons: 3\n",
        "\t \t Gene id: AF281258.1 Description: hemoglobin, alpha 2 Version of chromosome sequence: NC_000016.10 Begining position: 172846 Ending position: 173709 Number of exons: 3\n",
        "\t \t Gene id: V00488.1 Description: hemoglobin, alpha 2 Version of chromosome sequence: NC_000016.10 Begining position: 172846 Ending position: 173709 Number of exons: 3\n",
        "\n",
        "\n",
        "\t Region 180333 to 181178\n",
        "\t \t Gene id: NM_005331.4 Description: hemoglobin, theta 1 Version of chromosome sequence: NC_000016.10 Begining position: 180333 Ending position: 181178 Number of exons: 3\n",
        "\n",
        "\n",
        "\t Region 142921 to 154504\n",
        "\t \t Gene id: NM_005332.2 Description: hemoglobin, zeta Version of chromosome sequence: NC_000016.10 Begining position: 142921 Ending position: 154504 Number of exons: 4\n",
        "\n",
        "\n",
        "\n",
        "\n",
        "Chromosome 11\n",
        "\t Region 5253190 to 5254780\n",
        "\t \t Gene id: BC130457.1 Description: hemoglobin, gamma G Version of chromosome sequence: NC_000011.10 Begining position: 5254780 Ending position: 5253190 Number of exons: 3\n",
        "\n",
        "\n",
        "\t Region 5248271 to 5249856\n",
        "\t \t Gene id: BC010914.1 Description: hemoglobin, gamma A Version of chromosome sequence: NC_000011.10 Begining position: 5249856 Ending position: 5248271 Number of exons: 3\n",
        "\n",
        "\n",
        "\t Region 6395123 to 6419612\n",
        "\t \t Gene id: EF103274.2 Description: amyloid beta (A4) precursor protein-binding, family B, member 1 (Fe65) Version of chromosome sequence: NC_000011.10 Begining position: 6419612 Ending position: 6395123 Number of exons: 18\n",
        "\n",
        "\n",
        "\t Region 5268349 to 5270142\n",
        "\t \t Gene id: NM_005330.3 Description: hemoglobin, epsilon 1 Version of chromosome sequence: NC_000011.10 Begining position: 5270142 Ending position: 5268349 Number of exons: 3\n",
        "\t \t Gene id: BC015537.2 Description: hemoglobin, epsilon 1 Version of chromosome sequence: NC_000011.10 Begining position: 5270142 Ending position: 5268349 Number of exons: 3\n",
        "\n",
        "\n",
        "\n",
        "\n"
       ]
      }
     ],
     "prompt_number": 52
    },
    {
     "cell_type": "heading",
     "level": 4,
     "metadata": {},
     "source": [
      "How many records occur within the same region as your gene? Based on the descriptions of these genes, do they have the same or simlar functions to that of your gene?"
     ]
    },
    {
     "cell_type": "raw",
     "metadata": {},
     "source": []
    },
    {
     "cell_type": "heading",
     "level": 4,
     "metadata": {},
     "source": [
      "Do the records within the same region as your gene, have the exact same begining and ending postion as your gene? Do any of the records have a different number of exons than your gene?"
     ]
    },
    {
     "cell_type": "raw",
     "metadata": {},
     "source": []
    },
    {
     "cell_type": "heading",
     "level": 4,
     "metadata": {},
     "source": [
      "Based on the descriptions of genes in other regions of the genome, do they have the same or simlar functions to that of your gene? The same number of exons? "
     ]
    },
    {
     "cell_type": "raw",
     "metadata": {},
     "source": []
    },
    {
     "cell_type": "heading",
     "level": 4,
     "metadata": {},
     "source": [
      "If there are regions on a chromosome which are close to each other - how confident are you that these regions are actually distinct? Hint - are the locations of genes in these two regions based on the same version of the chromosome sequence?"
     ]
    },
    {
     "cell_type": "raw",
     "metadata": {},
     "source": []
    },
    {
     "cell_type": "markdown",
     "metadata": {},
     "source": [
      "Based on your findings, how many paralogs do you belive your gene has? Note the location within the genome where these paralogs are found (chromosome number and region)."
     ]
    },
    {
     "cell_type": "raw",
     "metadata": {},
     "source": []
    },
    {
     "cell_type": "markdown",
     "metadata": {},
     "source": [
      "That's all folks! \n",
      "Please save your notebook and related files and upload the notebook to Blackboard."
     ]
    }
   ],
   "metadata": {}
  }
 ]
}