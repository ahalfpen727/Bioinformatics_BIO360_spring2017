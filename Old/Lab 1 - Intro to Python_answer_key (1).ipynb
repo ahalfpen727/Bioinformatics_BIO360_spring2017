{
 "cells": [
  {
   "cell_type": "markdown",
   "metadata": {},
   "source": [
    "## Lab 1: Python Introduction"
   ]
  },
  {
   "cell_type": "markdown",
   "metadata": {},
   "source": [
    "Some preliminary stuff:  \n",
    "\n",
    "* CHROME needs to be your default browser. To check this open Chrome, click on the button with the three horizontal bars located to the right of the address bar, click \"Settings\", scroll down to the section \"Default Browser\" and confirm that Chrome is set as the default browser."
   ]
  },
  {
   "cell_type": "markdown",
   "metadata": {},
   "source": [
    "##### Q0: What's your name?"
   ]
  },
  {
   "cell_type": "raw",
   "metadata": {},
   "source": [
    "Answer Key"
   ]
  },
  {
   "cell_type": "markdown",
   "metadata": {},
   "source": [
    "We'll go over these excercises together, as a class. \n",
    "We'll modify the code as we go to explore common errors. \n",
    "\n",
    "The writeup for this week's lab will consist of a copy of this document.\n",
    "Things we'll be looking for while grading your work:\n",
    "\n",
    "- Where we encounter errors, include notes on the error and how it was corrected.\n",
    "\n",
    "- Clear, relevant and extensive comments on your code"
   ]
  },
  {
   "cell_type": "markdown",
   "metadata": {},
   "source": [
    "A note on iPython notebooks . . . "
   ]
  },
  {
   "cell_type": "raw",
   "metadata": {},
   "source": [
    "The notebook is comprised of cells - some contain plain text (like this one) and some contain executeable code.\n",
    "\n",
    "Code cells have In [ ]: to the left of the cell. To execute the code in a code cell - hold down the SHIFT key and press RETURN.\n",
    "\n",
    "To add notes - you can insert a raw text cell by selecting \"Insert\" on the main menu bar. By default, inserted cells will be code cells. You can change the type of the inserted cell by selecting \"Raw Text\" from the dropdown menu to the right of the buttons."
   ]
  },
  {
   "cell_type": "markdown",
   "metadata": {},
   "source": [
    "A comment on comments . . . "
   ]
  },
  {
   "cell_type": "code",
   "execution_count": 1,
   "metadata": {
    "collapsed": false
   },
   "outputs": [],
   "source": [
    "####this is code \n",
    "# this is a comment, putting anything behind a # will hide it\n",
    "\n",
    "# Write your code so that someone reading through your code can easily figure out the purpose of each line of code."
   ]
  },
  {
   "cell_type": "markdown",
   "metadata": {},
   "source": [
    "### PART 1: STRING BASICS"
   ]
  },
  {
   "cell_type": "markdown",
   "metadata": {},
   "source": [
    "First we'll assign an identifier to a DNA sequence"
   ]
  },
  {
   "cell_type": "code",
   "execution_count": 1,
   "metadata": {
    "collapsed": true
   },
   "outputs": [],
   "source": [
    "tiny = \"ACTGCCCTTCACAT\" # This is a tiny bit of DNA sequence"
   ]
  },
  {
   "cell_type": "markdown",
   "metadata": {},
   "source": [
    "To see the value, or type of a variable or to display the results of a calculation - we need to tell the program to \"print\"."
   ]
  },
  {
   "cell_type": "code",
   "execution_count": 2,
   "metadata": {
    "collapsed": false
   },
   "outputs": [
    {
     "name": "stdout",
     "output_type": "stream",
     "text": [
      "ACTGCCCTTCACAT\n"
     ]
    }
   ],
   "source": [
    "print (tiny) # Display the value of tiny"
   ]
  },
  {
   "cell_type": "markdown",
   "metadata": {},
   "source": [
    "Let's generate two more short DNA sequences . . ."
   ]
  },
  {
   "cell_type": "code",
   "execution_count": 3,
   "metadata": {
    "collapsed": true
   },
   "outputs": [],
   "source": [
    "very_tiny = \"CAG\"# Assign a very short DNA sequence to the variable very_tiny                               "
   ]
  },
  {
   "cell_type": "code",
   "execution_count": 4,
   "metadata": {
    "collapsed": false
   },
   "outputs": [
    {
     "data": {
      "text/plain": [
       "False"
      ]
     },
     "execution_count": 4,
     "metadata": {},
     "output_type": "execute_result"
    }
   ],
   "source": [
    "tiny == very_tiny # Ask if tiny is equal to very_tiny"
   ]
  },
  {
   "cell_type": "code",
   "execution_count": 5,
   "metadata": {
    "collapsed": false
   },
   "outputs": [
    {
     "data": {
      "text/plain": [
       "False"
      ]
     },
     "execution_count": 5,
     "metadata": {},
     "output_type": "execute_result"
    }
   ],
   "source": [
    "very_tiny in tiny # Ask if the string very_tiny is found within the larger string tiny"
   ]
  },
  {
   "cell_type": "markdown",
   "metadata": {},
   "source": [
    "##### Q1: What is the difference between \"==\" and \"=\"?"
   ]
  },
  {
   "cell_type": "raw",
   "metadata": {},
   "source": [
    "== is a comparison, and = is an assignment"
   ]
  },
  {
   "cell_type": "code",
   "execution_count": 7,
   "metadata": {
    "collapsed": false
   },
   "outputs": [],
   "source": [
    "new_seq = \"TAG\""
   ]
  },
  {
   "cell_type": "markdown",
   "metadata": {},
   "source": [
    "##### Q2: How can you (and the program) tell if a group of characters is a string or a variable name?"
   ]
  },
  {
   "cell_type": "raw",
   "metadata": {},
   "source": [
    "a string is in quotes and a variable name is not in quotes"
   ]
  },
  {
   "cell_type": "markdown",
   "metadata": {},
   "source": [
    "What type of information is our sequence? (this is important to know, as certain functions require certain data types)"
   ]
  },
  {
   "cell_type": "code",
   "execution_count": 8,
   "metadata": {
    "collapsed": false
   },
   "outputs": [
    {
     "data": {
      "text/plain": [
       "float"
      ]
     },
     "execution_count": 8,
     "metadata": {},
     "output_type": "execute_result"
    }
   ],
   "source": [
    "type(10.5)# determine what type of data is contained in tiny"
   ]
  },
  {
   "cell_type": "markdown",
   "metadata": {},
   "source": [
    "#### A. METHODS OF ACCESSING ELEMENTS OF A STRING"
   ]
  },
  {
   "cell_type": "markdown",
   "metadata": {},
   "source": [
    "Often we want to query specific parts of, sometimes very large, sequences - below are several common methods. "
   ]
  },
  {
   "cell_type": "markdown",
   "metadata": {},
   "source": [
    "But first let's find out how how long a string we're dealing with."
   ]
  },
  {
   "cell_type": "code",
   "execution_count": 6,
   "metadata": {
    "collapsed": false
   },
   "outputs": [
    {
     "name": "stdout",
     "output_type": "stream",
     "text": [
      "ACTGCCCTTCACAT\n"
     ]
    },
    {
     "data": {
      "text/plain": [
       "14"
      ]
     },
     "execution_count": 6,
     "metadata": {},
     "output_type": "execute_result"
    }
   ],
   "source": [
    "print (tiny) # display \"tiny\" \n",
    "len(tiny)# display the length of the string \"tiny\""
   ]
  },
  {
   "cell_type": "markdown",
   "metadata": {},
   "source": [
    "If we only want to access one character we can access it directly by refering to its position."
   ]
  },
  {
   "cell_type": "code",
   "execution_count": 7,
   "metadata": {
    "collapsed": false
   },
   "outputs": [
    {
     "name": "stdout",
     "output_type": "stream",
     "text": [
      "A\n"
     ]
    }
   ],
   "source": [
    "first = tiny[0] # assign the value of the first character of \"tiny\" to a variable named \"first\"\n",
    "print (first) # display the first character in the string \"tiny\""
   ]
  },
  {
   "cell_type": "markdown",
   "metadata": {},
   "source": [
    "##### Q3: Why didn't tiny[1] return the first character of the string tiny?"
   ]
  },
  {
   "cell_type": "raw",
   "metadata": {},
   "source": [
    "Python uses zero-based indexing so that the first element is in index 0"
   ]
  },
  {
   "cell_type": "markdown",
   "metadata": {},
   "source": [
    "But what if we want to pull out not just a single character, but rather a multi-character segment (a \"slice\") of a string?   \n",
    "The positions within a string are defined by indices. The cell below shows the positions (\"|\") and indices (numbers) for a string \"ACTGC\" named \"really_tiny\". "
   ]
  },
  {
   "cell_type": "raw",
   "metadata": {},
   "source": [
    "       0   1   2   3   4   5      \n",
    "seq = \"| A | N | T | G | N |\"     \n"
   ]
  },
  {
   "cell_type": "code",
   "execution_count": 8,
   "metadata": {
    "collapsed": false
   },
   "outputs": [
    {
     "name": "stdout",
     "output_type": "stream",
     "text": [
      "AN\n"
     ]
    }
   ],
   "source": [
    "seq = \"ANTGN\"\n",
    "one_two = seq[0:2]# assign the value of the first and second character of \"seq\" to a variable named \"one_two\"\n",
    "print (one_two) # display the first character in the string \"seq\""
   ]
  },
  {
   "cell_type": "code",
   "execution_count": 9,
   "metadata": {
    "collapsed": false
   },
   "outputs": [
    {
     "name": "stdout",
     "output_type": "stream",
     "text": [
      "NTG\n"
     ]
    }
   ],
   "source": [
    "two_four = seq [1:4]# assign the value of the second, third and fourth characters of \"seq\" to a variable named \"two_four\"\n",
    "print (two_four) # display two_four"
   ]
  },
  {
   "cell_type": "markdown",
   "metadata": {},
   "source": [
    "Another way to access elements of a string is to loop over them . . ."
   ]
  },
  {
   "cell_type": "code",
   "execution_count": 10,
   "metadata": {
    "collapsed": false
   },
   "outputs": [
    {
     "name": "stdout",
     "output_type": "stream",
     "text": [
      "A\n",
      "N\n",
      "T\n",
      "G\n",
      "N\n"
     ]
    }
   ],
   "source": [
    "# go through each character of the string \"seq\"\n",
    "for nt in seq:\n",
    "    print (nt) # display the character\n"
   ]
  },
  {
   "cell_type": "code",
   "execution_count": 11,
   "metadata": {
    "collapsed": false
   },
   "outputs": [
    {
     "name": "stdout",
     "output_type": "stream",
     "text": [
      "('counter = ', 0, '; nt = ', 'A')\n",
      "('counter = ', 1, '; nt = ', 'N')\n",
      "('counter = ', 2, '; nt = ', 'T')\n",
      "('counter = ', 3, '; nt = ', 'G')\n",
      "('counter = ', 4, '; nt = ', 'N')\n"
     ]
    }
   ],
   "source": [
    "# counter is a variable to hold the value of the count of characters in \"seq\"\n",
    "counter = 0\n",
    "\n",
    "# go through each character of the string \"seq\" \n",
    "for nt in seq:\n",
    "    print (\"counter = \", counter, \"; nt = \",nt) # display the value of counter and the associated character\n",
    "    counter += 1# increment the value of counter by one"
   ]
  },
  {
   "cell_type": "markdown",
   "metadata": {},
   "source": [
    "We can use a for loop and an if statement to access a particular element of \"seq\"."
   ]
  },
  {
   "cell_type": "code",
   "execution_count": 12,
   "metadata": {
    "collapsed": false
   },
   "outputs": [
    {
     "name": "stdout",
     "output_type": "stream",
     "text": [
      "('counter = ', 0)\n",
      "nt is N\n",
      "('counter = ', 1)\n",
      "('counter = ', 2)\n",
      "('counter = ', 3)\n",
      "nt is N\n",
      "('counter = ', 4)\n"
     ]
    }
   ],
   "source": [
    "# counter, a variable to hold the value of the positions in seq\n",
    "counter = 0\n",
    "\n",
    "# go through each character of \"seq\" \n",
    "for nt in seq:\n",
    "    # if the character is N, do something\n",
    "    if (nt == \"N\"):\n",
    "        print (\"nt is N\")\n",
    "        \n",
    "    print (\"counter = \", counter) # display the value of counter\n",
    "    counter += 1# increment the value of counter by one"
   ]
  },
  {
   "cell_type": "markdown",
   "metadata": {},
   "source": [
    "##### Q4: How does the code in the following two cells differ? How do the results generated differ? What does this tell you about the order in which lines are executed? "
   ]
  },
  {
   "cell_type": "raw",
   "metadata": {},
   "source": [
    "In cell 1 the print function is included in the for-loop because it is indented, while in cell 2 the print funtion is not in the for-loop since it is not indented."
   ]
  },
  {
   "cell_type": "markdown",
   "metadata": {},
   "source": [
    "Cell 1"
   ]
  },
  {
   "cell_type": "code",
   "execution_count": 13,
   "metadata": {
    "collapsed": false
   },
   "outputs": [
    {
     "name": "stdout",
     "output_type": "stream",
     "text": [
      "1\n",
      "2\n",
      "3\n",
      "4\n",
      "5\n",
      "6\n",
      "7\n",
      "8\n",
      "9\n",
      "10\n",
      "11\n",
      "12\n",
      "13\n",
      "14\n"
     ]
    }
   ],
   "source": [
    "counter = 0 # variable to hold the value of the count of characters in \"tiny\"\n",
    "for c in tiny: # go through each character of the string \"tiny\" \n",
    "    counter +=1 # increment the value of counter by one\n",
    "    print (counter)"
   ]
  },
  {
   "cell_type": "markdown",
   "metadata": {},
   "source": [
    "Cell 2"
   ]
  },
  {
   "cell_type": "code",
   "execution_count": 14,
   "metadata": {
    "collapsed": false
   },
   "outputs": [
    {
     "name": "stdout",
     "output_type": "stream",
     "text": [
      "14\n"
     ]
    }
   ],
   "source": [
    "counter = 0 # counter, a variable to hold the value of the count of characters in \"tiny\"\n",
    "for c in tiny: # go through each character of the string \"tiny\" \n",
    "    counter +=1 # increment the value of counter by one\n",
    "print (counter)"
   ]
  },
  {
   "cell_type": "markdown",
   "metadata": {},
   "source": [
    "Often the number of times you want to go through a loop a certain number of times - for this, \"range\" is a very useful function. Often in biology, the number of times through a loop will be related to the length of a DNA or amino acid sequence . . . "
   ]
  },
  {
   "cell_type": "code",
   "execution_count": 15,
   "metadata": {
    "collapsed": false
   },
   "outputs": [
    {
     "name": "stdout",
     "output_type": "stream",
     "text": [
      "('range(len(tiny))=', [0, 1, 2, 3, 4, 5, 6, 7, 8, 9, 10, 11, 12, 13])\n"
     ]
    }
   ],
   "source": [
    "print (\"range(len(tiny))=\", range(len(tiny)))"
   ]
  },
  {
   "cell_type": "markdown",
   "metadata": {},
   "source": [
    "##### Q4: If you don't know what a function does, how can you check (without Googling, that is)?"
   ]
  },
  {
   "cell_type": "raw",
   "metadata": {},
   "source": [
    "You can execute ?function if you want to learn what a function does."
   ]
  },
  {
   "cell_type": "markdown",
   "metadata": {},
   "source": [
    "Let's investigate range.\n",
    "But first let's assign it to a shorter name so we don't have to keep typing: range(len(tiny))."
   ]
  },
  {
   "cell_type": "code",
   "execution_count": 16,
   "metadata": {
    "collapsed": false
   },
   "outputs": [],
   "source": [
    "r = range(len(tiny)) #assign range(len(tiny)) to \"r\"\n",
    "#display value of r"
   ]
  },
  {
   "cell_type": "code",
   "execution_count": 17,
   "metadata": {
    "collapsed": false
   },
   "outputs": [
    {
     "name": "stdout",
     "output_type": "stream",
     "text": [
      "<type 'list'>\n"
     ]
    }
   ],
   "source": [
    "print (type(r)) # print the type of r"
   ]
  },
  {
   "cell_type": "markdown",
   "metadata": {},
   "source": [
    "We can index the elements of a list . . ."
   ]
  },
  {
   "cell_type": "code",
   "execution_count": 18,
   "metadata": {
    "collapsed": false
   },
   "outputs": [
    {
     "name": "stdout",
     "output_type": "stream",
     "text": [
      "('r', [0, 1, 2, 3, 4, 5, 6, 7, 8, 9, 10, 11, 12, 13])\n",
      "('r[0]', 0)\n",
      "('r[-1]', 13)\n",
      "('r[4:9]', [4, 5, 6, 7])\n"
     ]
    }
   ],
   "source": [
    "print (\"r\", r) #print the list \"r\" \n",
    "print (\"r[0]\", r[0]) #print out the first item in the list \"r\" \n",
    "print (\"r[-1]\", r[-1]) #print out the last item in the list \"r\"\n",
    "print (\"r[4:9]\", r[4:8]) #print out the fifth through eighth position in the list \"r\""
   ]
  },
  {
   "cell_type": "markdown",
   "metadata": {},
   "source": [
    "We can loop over the elements of a list . . ."
   ]
  },
  {
   "cell_type": "code",
   "execution_count": 19,
   "metadata": {
    "collapsed": false
   },
   "outputs": [
    {
     "name": "stdout",
     "output_type": "stream",
     "text": [
      "0\n",
      "1\n",
      "2\n",
      "3\n",
      "4\n",
      "5\n",
      "6\n",
      "7\n",
      "8\n",
      "9\n",
      "10\n",
      "11\n",
      "12\n",
      "13\n"
     ]
    }
   ],
   "source": [
    "for el in r: # Go through each element in the list \"r\" \n",
    "    print (el) # Print each element\n",
    "    #print el, \":\", tiny[el] # Print each element of list \"r\" and the coresponding position of the string \"tiny\" "
   ]
  },
  {
   "cell_type": "markdown",
   "metadata": {},
   "source": [
    "### PART 2 - Using loops to do cool stuff"
   ]
  },
  {
   "cell_type": "markdown",
   "metadata": {},
   "source": [
    "Now that we have some basic skills - let's try a more interesting example."
   ]
  },
  {
   "cell_type": "markdown",
   "metadata": {},
   "source": [
    "### A. Determine the GC content of a gene"
   ]
  },
  {
   "cell_type": "code",
   "execution_count": 20,
   "metadata": {
    "collapsed": false
   },
   "outputs": [],
   "source": [
    "from Bio import Entrez # we'll import a set of code written for common biological applications\n",
    "from Bio import SeqIO"
   ]
  },
  {
   "cell_type": "code",
   "execution_count": 21,
   "metadata": {
    "collapsed": false
   },
   "outputs": [],
   "source": [
    "GI_id = \"287297\" #the GI accession of our gene of interest"
   ]
  },
  {
   "cell_type": "markdown",
   "metadata": {},
   "source": [
    "Documentation for efecth http://www.ncbi.nlm.nih.gov/books/NBK25499/#chapter4.EFetch  \n",
    "\n",
    "Code adapted from Biopython Tutorial, 5.3.1  Parsing GenBank records from the net"
   ]
  },
  {
   "cell_type": "code",
   "execution_count": 22,
   "metadata": {
    "collapsed": false
   },
   "outputs": [
    {
     "name": "stdout",
     "output_type": "stream",
     "text": [
      "ID: D14673.1\n",
      "Name: RICAAT\n",
      "Description: Oryza sativa Japonica Group mRNA for aspartate aminotransferase, complete cds.\n",
      "Number of features: 3\n",
      "/source=Oryza sativa Japonica Group (Japanese rice)\n",
      "/taxonomy=['Eukaryota', 'Viridiplantae', 'Streptophyta', 'Embryophyta', 'Tracheophyta', 'Spermatophyta', 'Magnoliophyta', 'Liliopsida', 'Poales', 'Poaceae', 'BOP clade', 'Oryzoideae', 'Oryzeae', 'Oryzinae', 'Oryza']\n",
      "/keywords=['aspartate aminotransferase']\n",
      "/references=[Reference(title='Characterization and mapping of cDNA encoding aspartate aminotransferase in rice, Oryza sativa L', ...), Reference(title='Direct Submission', ...)]\n",
      "/accessions=['D14673']\n",
      "/data_file_division=PLN\n",
      "/date=19-FEB-2008\n",
      "/organism=Oryza sativa Japonica Group\n",
      "/sequence_version=1\n",
      "/topology=linear\n",
      "Seq('CAGCAACCACCACCAGCACCTCCTCCTCCGCCGCCGACGCCGACTCCTCCCTCC...ACC', IUPACAmbiguousDNA())\n"
     ]
    }
   ],
   "source": [
    "Entrez.email = \"\" # let NCBI know who you are\n",
    "handle = Entrez.efetch(db=\"nucleotide\", rettype=\"gb\", retmode=\"text\", id=GI_id) # db = database to query, rettype = retrieval type, retmode = retrieval mode \n",
    "seq_record = SeqIO.read(handle, \"gb\") #read the contents \"fetched\" from NCBI\n",
    "handle.close()\n",
    "\n",
    "print (seq_record) #print the contents of \"seq_record\""
   ]
  },
  {
   "cell_type": "code",
   "execution_count": 23,
   "metadata": {
    "collapsed": false
   },
   "outputs": [
    {
     "name": "stdout",
     "output_type": "stream",
     "text": [
      "D14673.1\n",
      "CAGCAACCACCACCAGCACCTCCTCCTCCGCCGCCGACGCCGACTCCTCCCTCCAAGCTTTCCCCACCATGGCGTCGTCGTCCGTCTTCGCTGGCCTCGCGCAGGCGCCGGAGGACCCCATCCTCGGGGTGACGGTCGCGTACAACAAGGATCCCAGCCCCGTGAAGGTCAATCTCGGCGTCGGCGCCTACCGGACCGAGGAAGGGAAGCCCCTGGTGCTGAATGTGGTCAGGCGCGCTGAGCAGATGCTGATCAACAACCCGTCACGTGTTAAGGAGTATTTGCCGATCACTGGACTGGCCGATTTCAATAAGCTGAGTGCTAAGCTTATTTTTGGTGCTGACAGTCCTGCCATTCAAGAGAATAGGGTGGCTACAGTTCAGTGCTTGTCAGGAACTGGTTCTTTAAGGGTGGGAGGTGAATTTCTTGCAAGGCATTATCATGAACGCACTATATACATCCCACAGCCAACCTGGGGGAATCACCCCAAAGTGTTCACTTTAGCTGGCCTGACTGTTAGGAGTTACCGCTACTATGATCCTGCAACCCGTGGACTGGATTTCCAAGGGCTGTTAGAAGATCTCGGTTCAGCTCCTTCAGGTGCAATTGTACTGCTTCATGCTTGTGCCCACAACCCTACTGGAGTAGACCCAACTTTGGACCAGTGGGAACAGATCAGGCAGTTGATGAGATCAAAAGCATTGCTGCCATTCTTTGATAGCGCTTATCAGGGATTTGCAAGTGGAAGTCTTGACCAAGATGCTCAATCAGTGCGCATGTTTGTTGCTGATGGTGGTGAATTGCTCATGGCTCAGAGCTACGCTAAGAACATGGGATTGTATGGAGAGCGTGTCGGTGCTTTAAGCATAGTTTGTGGAAGTGCTGATGTAGCTGTCAGGGTTGAAAGTCAACTTAAGCTTGTAATTAGGCCTATGTATTCAAACCCTCCTATTCATGGTGCATCTATCGTGGCTACCATACTTAAGGACAGTGCAATGTTCAATGAATGGACTGTGGAGCTGAAGGGCATGGCTGATAGGATTATTAGCATGAGGCAACAGCTTTTTGATGCTCTGAAAACGAGAGAAACTCCTGGAGACTGGAGTCACATCATTAAGCAGATCGGAATGTTCACTTTCACTGGGCTCAACAGTGATCAAGTGGCTTTCATGAGGCAGGAATACCACATTTACATGACATCTGATGGGAGGATCAGTATGGCTGGTTTGAGCGGGAGGACCATTCCGCATCTTGCAGATGCAATCCATGCCGCAGTCACAAAACTGAAGTGAATGATGGTAGCATAGCAGCTCCCTCCAAGAATAACATCTTAAAACCATCCGCAGCAGTGTTCTGAGGATTCAGACAGTGATGTTTGCTGGCTGAGCACATCCTGGAAGGTTTCCTTGTAATAGACTCGTGTGACTTCTTTTGGGAGCAGTTTTGTACCAGTGGATTCAGAAAAAGTGGTGATTTCGAATCACCTAATAAGCTCCATCGGTGATGCTTTTACC\n",
      "('Len of nucleotide sequence:', 1514)\n"
     ]
    }
   ],
   "source": [
    "ntid = seq_record.id # assign the id of the sequence to the variable prot_ref\n",
    "print (ntid) #print the id\n",
    "\n",
    "ntseq = seq_record.seq #pull out the sequence associated with this record\n",
    "print (ntseq) #print the sequence\n",
    "\n",
    "print (\"Len of nucleotide sequence:\", len(ntseq)) #print the number of nucleotides in the sequence"
   ]
  },
  {
   "cell_type": "markdown",
   "metadata": {},
   "source": [
    "Next we'll count the number of times each nucletide occurs in the sequence."
   ]
  },
  {
   "cell_type": "code",
   "execution_count": 24,
   "metadata": {
    "collapsed": false
   },
   "outputs": [
    {
     "name": "stdout",
     "output_type": "stream",
     "text": [
      "('countA', 370)\n",
      "('countC', 357)\n",
      "('countG', 397)\n",
      "('countT', 390)\n",
      "('countN', 0)\n"
     ]
    }
   ],
   "source": [
    "countA=0 # create variables to hold the count of each nucleotide\n",
    "countC=0\n",
    "countG=0\n",
    "countT=0\n",
    "countN=0 # create a variable to hold the count of any non-standard nucleotides\n",
    "\n",
    "for nt in ntseq:#Loop over each nucleotide in the sequence\n",
    "    \n",
    "    # ask if the nt is cytosine \n",
    "    if (nt==\"C\"):\n",
    "        # increase countC by one\n",
    "        countC += 1\n",
    "\n",
    "    # ask if the nt is adenosine\n",
    "    if (nt ==\"A\"):\n",
    "        # increase countA by one\n",
    "        countA += 1\n",
    "        \n",
    "    # ask if the nt is thymine\n",
    "    if (nt==\"T\"):\n",
    "        # increase countT by one\n",
    "        countT += 1\n",
    "        \n",
    "    # ask if the nt is guanine\n",
    "    if (nt ==\"G\"):\n",
    "        # increase countG by one\n",
    "        countG += 1\n",
    "        \n",
    "    # if above not True then nt is not a standard nucleotide\n",
    "    if (nt!=\"A\") & (nt!=\"C\") & (nt!=\"G\") & (nt!=\"T\"):\n",
    "        # increase countN by one\n",
    "        countN +=1\n",
    "        print (\"Non-standard nt\", nt) # print a warning message\n",
    "\n",
    "print (\"countA\", countA) # print the values of the count variables\n",
    "print (\"countC\", countC)\n",
    "print (\"countG\", countG)\n",
    "print (\"countT\", countT)\n",
    "print (\"countN\", countN)"
   ]
  },
  {
   "cell_type": "markdown",
   "metadata": {},
   "source": [
    "Next, calculate the number of cytosine and guanine nucleotides as a percentage of the total number of nt's in the sequence"
   ]
  },
  {
   "cell_type": "code",
   "execution_count": 25,
   "metadata": {
    "collapsed": false
   },
   "outputs": [
    {
     "name": "stdout",
     "output_type": "stream",
     "text": [
      "0.498018494055\n"
     ]
    }
   ],
   "source": [
    "countGC = countC + countG; # create a variable countGC to hold the count of G's and C's in the sequence \n",
    "percGC = float(countGC) / len(ntseq);# calculate the percent of total nucleotides that are G or C\n",
    "print (percGC)"
   ]
  },
  {
   "cell_type": "markdown",
   "metadata": {},
   "source": [
    "Integer divsion digression . . . "
   ]
  },
  {
   "cell_type": "code",
   "execution_count": 26,
   "metadata": {
    "collapsed": false
   },
   "outputs": [
    {
     "data": {
      "text/plain": [
       "0"
      ]
     },
     "execution_count": 26,
     "metadata": {},
     "output_type": "execute_result"
    }
   ],
   "source": [
    "1/3"
   ]
  },
  {
   "cell_type": "code",
   "execution_count": 27,
   "metadata": {
    "collapsed": false
   },
   "outputs": [
    {
     "data": {
      "text/plain": [
       "0.3333333333333333"
      ]
     },
     "execution_count": 27,
     "metadata": {},
     "output_type": "execute_result"
    }
   ],
   "source": [
    "1/3.0"
   ]
  },
  {
   "cell_type": "code",
   "execution_count": 28,
   "metadata": {
    "collapsed": false
   },
   "outputs": [
    {
     "data": {
      "text/plain": [
       "3.0"
      ]
     },
     "execution_count": 28,
     "metadata": {},
     "output_type": "execute_result"
    }
   ],
   "source": [
    "float(3)\n"
   ]
  },
  {
   "cell_type": "code",
   "execution_count": 29,
   "metadata": {
    "collapsed": false
   },
   "outputs": [
    {
     "data": {
      "text/plain": [
       "0.3333333333333333"
      ]
     },
     "execution_count": 29,
     "metadata": {},
     "output_type": "execute_result"
    }
   ],
   "source": [
    "1/float(3)"
   ]
  },
  {
   "cell_type": "code",
   "execution_count": 30,
   "metadata": {
    "collapsed": false
   },
   "outputs": [
    {
     "data": {
      "text/plain": [
       "int"
      ]
     },
     "execution_count": 30,
     "metadata": {},
     "output_type": "execute_result"
    }
   ],
   "source": [
    "type(countGC)"
   ]
  },
  {
   "cell_type": "code",
   "execution_count": 31,
   "metadata": {
    "collapsed": false
   },
   "outputs": [
    {
     "name": "stdout",
     "output_type": "stream",
     "text": [
      "49.8018494055\n"
     ]
    }
   ],
   "source": [
    "percGC = float(countGC)/len(ntseq)*100# calculate the percent of total nucleotides that are G or C\n",
    "print (percGC)"
   ]
  },
  {
   "cell_type": "markdown",
   "metadata": {},
   "source": [
    "##### Q5: What is the result of integer division? In the cells below show two *different* methods to obtain an answer of 0.10 when computing 1 divided by 10."
   ]
  },
  {
   "cell_type": "raw",
   "metadata": {},
   "source": [
    "The result is a integer that is nearest to the decimal value. 1/10.0 and 1/float(10)"
   ]
  },
  {
   "cell_type": "code",
   "execution_count": 32,
   "metadata": {
    "collapsed": false
   },
   "outputs": [
    {
     "data": {
      "text/plain": [
       "0.1"
      ]
     },
     "execution_count": 32,
     "metadata": {},
     "output_type": "execute_result"
    }
   ],
   "source": [
    "1/10.0"
   ]
  },
  {
   "cell_type": "code",
   "execution_count": 33,
   "metadata": {
    "collapsed": false
   },
   "outputs": [
    {
     "data": {
      "text/plain": [
       "0.1"
      ]
     },
     "execution_count": 33,
     "metadata": {},
     "output_type": "execute_result"
    }
   ],
   "source": [
    "1/float(10)"
   ]
  },
  {
   "cell_type": "markdown",
   "metadata": {},
   "source": [
    "Generate a list containing the percent of A, T, C, and G in the sequence."
   ]
  },
  {
   "cell_type": "code",
   "execution_count": 34,
   "metadata": {
    "collapsed": false
   },
   "outputs": [
    {
     "name": "stdout",
     "output_type": "stream",
     "text": [
      "[370, 390, 357, 397]\n",
      "[24.438573315719946, 25.75957727873184, 23.57992073976222, 26.221928665786]\n"
     ]
    }
   ],
   "source": [
    "counts = [countA, countT, countC, countG]# create a list \"counts\" containing the counts of A, T, C, G\n",
    "print (counts)\n",
    "\n",
    "percents = [x/float(len(ntseq))*100 for x in counts] # create a list containing the number of each nt as a percent of the total number of nt in the sequence\n",
    "print (percents)"
   ]
  },
  {
   "cell_type": "markdown",
   "metadata": {},
   "source": [
    "We generated percents using a list comprehension. It is equivalent to the following for loop."
   ]
  },
  {
   "cell_type": "code",
   "execution_count": 35,
   "metadata": {
    "collapsed": false
   },
   "outputs": [
    {
     "name": "stdout",
     "output_type": "stream",
     "text": [
      "[24.438573315719946, 25.75957727873184, 23.57992073976222, 26.221928665786]\n"
     ]
    }
   ],
   "source": [
    "percents = []\n",
    "for x in counts:\n",
    "    p = x/float(len(ntseq))*100\n",
    "    percents.append(p)\n",
    "print (percents)"
   ]
  },
  {
   "cell_type": "markdown",
   "metadata": {},
   "source": [
    "Now we can create a graph - with the four nucleotides on the x-axis and the percentages on the y-axis."
   ]
  },
  {
   "cell_type": "code",
   "execution_count": 36,
   "metadata": {
    "collapsed": false
   },
   "outputs": [
    {
     "name": "stdout",
     "output_type": "stream",
     "text": [
      "Populating the interactive namespace from numpy and matplotlib\n"
     ]
    }
   ],
   "source": [
    "import matplotlib.pyplot as plt # import a set of code written for generating graphics and tell the computer how to display graphs\n",
    "%pylab inline "
   ]
  },
  {
   "cell_type": "code",
   "execution_count": 37,
   "metadata": {
    "collapsed": false
   },
   "outputs": [
    {
     "data": {
      "image/png": "[encoded data removed]",
      "text/plain": [
       "<matplotlib.figure.Figure at 0x7de07b8>"
      ]
     },
     "metadata": {},
     "output_type": "display_data"
    }
   ],
   "source": [
    "nucleotides = arange(4) # the x-axis has four positions, one for each of the four nucleotides\n",
    "bar(nucleotides,percents) # chart will be a bar chart, containing nucleotides on the x-axis and count as percent of length of the sequence on the y-axis\n",
    "xticks(nucleotides + 0.5,  ('A', 'T', 'C', 'G') ) # label the x-axis with the nucleotides in the same order as in the counts list\n",
    "title(\"Nucleotide composition of \" + ntid) #add a title to the graph\n",
    "ylabel(\"Percent\") #label the y-axis\n",
    "show()"
   ]
  },
  {
   "cell_type": "markdown",
   "metadata": {},
   "source": [
    "In a 2002 paper, researchers found that the GC content of this gene was significantly higher in the begining of the coding region than in the remainder of the sequence. Let's see if we can confirm their findings.\n",
    "\n",
    "\n",
    "For more on this gene and nucleotide composition, see: Wong et al. (2002) Compositional Gradients in Gramineae Genes. Genome Res. 12: 851-856"
   ]
  },
  {
   "cell_type": "markdown",
   "metadata": {},
   "source": [
    "Let's first explore the range function's optional \"step\" argument and how we can use it slice our sequence into short regions."
   ]
  },
  {
   "cell_type": "code",
   "execution_count": 38,
   "metadata": {
    "collapsed": false
   },
   "outputs": [
    {
     "name": "stdout",
     "output_type": "stream",
     "text": [
      "0\n",
      "50\n",
      "100\n",
      "150\n",
      "200\n",
      "250\n",
      "300\n",
      "350\n",
      "400\n",
      "450\n",
      "500\n",
      "550\n",
      "600\n",
      "650\n",
      "700\n",
      "750\n",
      "800\n",
      "850\n",
      "900\n",
      "950\n",
      "1000\n",
      "1050\n",
      "1100\n",
      "1150\n",
      "1200\n",
      "1250\n",
      "1300\n",
      "1350\n",
      "1400\n",
      "1450\n",
      "1500\n"
     ]
    }
   ],
   "source": [
    "for i in range(0, len(ntseq), 50): # for each number in a list from 0 to len(ntseq) counting in increments of 50\n",
    "    print (i)\n",
    "    #print i, i + 50 # the regions will be defined by the number i and a number 50 nts down\n",
    "    #print ntseq[i:i+50] # print the slice of nt_seq from i to i+50\n",
    "    #print \"length of slice\", len(ntseq[i:i+50]) # print the length of the slice"
   ]
  },
  {
   "cell_type": "code",
   "execution_count": 39,
   "metadata": {
    "collapsed": false
   },
   "outputs": [
    {
     "name": "stdout",
     "output_type": "stream",
     "text": [
      "[72.0, 66.0, 70.0, 68.0, 62.0, 50.0, 42.0, 50.0, 42.0, 50.0, 52.0, 50.0, 50.0, 48.0, 44.0, 46.0, 50.0, 48.0, 36.0, 42.0, 46.0, 46.0, 44.0, 42.0, 56.00000000000001, 46.0, 46.0, 50.0, 42.0, 40.0, 42.857142857142854]\n"
     ]
    }
   ],
   "source": [
    "region = [] # a list to hold the GC percent of each 50 nt region \n",
    "for i in range(0, len(ntseq), 50):\n",
    "    # set the counter \"countGC\" to 0 at the begining of each region\n",
    "    countGC = 0\n",
    "    for nt in ntseq[i:i+50]: # loop over the slice of nt_seq\n",
    "        if nt in \"GC\": # ask if the nt is either G or C\n",
    "            # if so increment the counter \"countGC\" by 1\n",
    "            countGC += 1\n",
    "    reg_perc_GC = float(countGC)/len(ntseq[i:i+50])*100 # when the loop is complete, calculte the percent of nts in the region that are G or C\n",
    "    region.append(reg_perc_GC)#add the percentage to the list \"region\"\n",
    "\n",
    "print (region)"
   ]
  },
  {
   "cell_type": "markdown",
   "metadata": {},
   "source": [
    "Now, let's generate a graph showing the percent GC of 50 nt bins along the coding region of this gene. We'll also plot the percent GC that we calculated from the coding sequence as a whole."
   ]
  },
  {
   "cell_type": "code",
   "execution_count": 40,
   "metadata": {
    "collapsed": false
   },
   "outputs": [
    {
     "name": "stdout",
     "output_type": "stream",
     "text": [
      "Populating the interactive namespace from numpy and matplotlib\n"
     ]
    },
    {
     "data": {
      "image/png": "[encoded data removed]",
      "text/plain": [
       "<matplotlib.figure.Figure at 0x7e83a58>"
      ]
     },
     "metadata": {},
     "output_type": "display_data"
    }
   ],
   "source": [
    "import matplotlib.pyplot as plt # import a set of code written for generating graphics and tell the computer how to display graphs\n",
    "%pylab inline\n",
    "\n",
    "plt.plot(region) # plot the values of region\n",
    "plt.axhline(0, color='black') # forces the y-axis to start at 0\n",
    "# add a red line representing the average GC content of the entire sequence\n",
    "plt.ylabel(\"\") # label the y-axis\n",
    "plt.xlabel(\"\") # label the x-axis\n",
    "plt.title(\"GC percentage of \" + ntid + \"\\n calculated over 50 nt bins\") # add a title\n",
    "plt.show()"
   ]
  },
  {
   "cell_type": "markdown",
   "metadata": {
    "slideshow": {
     "slide_type": "-"
    }
   },
   "source": [
    "### B. Predict transmembrane regions of a protein"
   ]
  },
  {
   "cell_type": "markdown",
   "metadata": {},
   "source": [
    "First we'll retreive a protein sequence from NCBI."
   ]
  },
  {
   "cell_type": "code",
   "execution_count": 41,
   "metadata": {
    "collapsed": false
   },
   "outputs": [],
   "source": [
    "from Bio import Entrez # we'll import a set of code written for common biological applications\n",
    "from Bio import SeqIO"
   ]
  },
  {
   "cell_type": "code",
   "execution_count": 42,
   "metadata": {
    "collapsed": false
   },
   "outputs": [],
   "source": [
    "GI_id = \"269973880\" #the GI accession of our protein of interest"
   ]
  },
  {
   "cell_type": "code",
   "execution_count": 43,
   "metadata": {
    "collapsed": false
   },
   "outputs": [],
   "source": [
    "Entrez.email = \"\" # let NCBI know who you are\n",
    "handle = Entrez.efetch(db=\"protein\", rettype=\"gb\", retmode=\"text\", id=GI_id) # db = database to query, rettype = retrieval type, retmode = retrieval mode \n",
    "seq_record = SeqIO.read(handle, \"gb\") # read the contents \"fetched\" from NCBI\n",
    "handle.close()"
   ]
  },
  {
   "cell_type": "code",
   "execution_count": 51,
   "metadata": {
    "collapsed": false
   },
   "outputs": [
    {
     "name": "stdout",
     "output_type": "stream",
     "text": [
      "NP_694547.2\n",
      "probable G-protein coupled receptor 156 isoform 1 [Homo sapiens].\n",
      "MEPEINCSELCDSFPGQELDRRPLHDLCKTTITSSHHSSKTISSLSPVLLGIVWTFLSCGLLLILFFLAFTIHCRKNRIVKMSSPNLNIVTLLGSCLTYSSAYLFGIQDVLVGSSMETLIQTRLSMLCIGTSLVFGPILGKSWRLYKVFTQRVPDKRVIIKDLQLLGLVAALLMADVILLMTWVLTDPIQCLQILSVSMTVTGKDVSCTSTSTHFCASRYSDVWIALIWGCKGLLLLYGAYLAGLTGHVSSPPVNQSLTIMVGVNLLVLAAGLLFVVTRYLHSWPNLVFGLTSGGIFVCTTTINCFIFIPQLKQWKAFEEENQTIRRMAKYFSTPNKSFHTQYGEEENCHPRGEKSSMERLLTEKNAVIESLQEQVNNAKEKIVRLMSAECTYDLPEGAAPPASSPNKDVQAVASVHTLAAAQGPSGHLSDFQNDPGMAARDSQCTSGPSSYAQSLEGPGKDSSFSPGKEEKISDSKDFSDHLDSGCSQKPWTEQSLGPERGDQVPMNPSQSLLPERGGSDPQRQRHLENSEEPPERRSRVSSVIREKLQEVLQDLGLGPEASLSTAPSCHQQTWKNSAAFSPQKMPLSKELGFSPYMVRRRRAAQRARSHFPGSAPSSVGHRANRTVPGAHSRLHVQNGDSPSLAPQTTDSRVRRPSSRKPSLPSDPQDRPGTLEGSKQSQTEPEGARGSKAAFLRQPSGSGRAPSPAAPCLSKASPDLPEQWQLWPPVPSGCASLSSQHSYFDTESSSSDEFFCRCHRPYCEICFQSSSDSSDSGTSDTDPEPTGGLASWEKLWARSKPIVNFKDDLKPTLV\n",
      "('Len of protein:', 814)\n"
     ]
    }
   ],
   "source": [
    "protid = seq_record.id# assign the RefSeq id of the sequence to the variable prot_ref\n",
    "print (protid)# print the RefSeq id\n",
    "\n",
    "protdes = seq_record.description #assign the protein's description to protdes\n",
    "print (protdes)\n",
    "\n",
    "protseq = seq_record.seq# pull out the sequence associated with this record\n",
    "print (protseq)\n",
    "\n",
    "print (\"Len of protein:\", len(protseq))# print the number of amino acids in the sequence"
   ]
  },
  {
   "cell_type": "markdown",
   "metadata": {},
   "source": [
    "The distribution of hydrophobic/hydrophilic amino acids throughout a protein sequence is associated with a protein's three-dimensional structure. \n",
    "\n",
    "In particular we're interested in identifying transmembrane domains. The location of transmembrane domains can be predicted by generating a graph with the positions of amino acids in a protein sequence on the x-axis and hydrophobicity values on the y-axis.  \n",
    "\n",
    "We'll loop over the amino acids in the protein, look up the hydrophobicity value of the amino acid, and generate a graph of the hydrophobicity values across the length of the protein sequence.  "
   ]
  },
  {
   "cell_type": "markdown",
   "metadata": {},
   "source": [
    "First, we'll generate a dictionary of the amino acids and their hydrophobicity values . . ."
   ]
  },
  {
   "cell_type": "code",
   "execution_count": 44,
   "metadata": {
    "collapsed": false
   },
   "outputs": [
    {
     "name": "stdout",
     "output_type": "stream",
     "text": [
      "20\n"
     ]
    }
   ],
   "source": [
    "hydro = {\"I\":4.5, \"V\":4.2, \"L\":3.8, \"F\":2.8, \"C\":2.5, \"M\":1.9, \"A\":1.8, \"G\":-0.4, \"T\":-0.7, \"S\":-0.8, \"W\":-0.9, \"Y\":-1.3, \"P\":-1.6, \"H\":-3.2, \"E\":-3.5, \"Q\":-3.5, \"D\":-3.5, \"N\":-3.5, \"K\":-3.9, \"R\":-4.5}\n",
    "print (len(hydro))"
   ]
  },
  {
   "cell_type": "markdown",
   "metadata": {},
   "source": [
    "The more positive the number the more hydrophobic the amino acid.  \n",
    "The hydrophobicity values were derived from Kyte J, Doolittle RF. (1982) A simple method for displaying the hydropathic character of a protein. J Mol Biol. 157(1):105-32."
   ]
  },
  {
   "cell_type": "markdown",
   "metadata": {},
   "source": [
    "#### Dictionary digression . . . "
   ]
  },
  {
   "cell_type": "markdown",
   "metadata": {},
   "source": [
    "You'll notice that the dictionary, hydro, is enclosed in curly brackets {}, and the elements of the dictionary'e entries contain two parts separated by a \":\". A dictionary gives you an easy way to lookup a string (a \"key\", the part before the :) and get back a value (the part after the :)."
   ]
  },
  {
   "cell_type": "code",
   "execution_count": 45,
   "metadata": {
    "collapsed": false
   },
   "outputs": [
    {
     "name": "stdout",
     "output_type": "stream",
     "text": [
      "['A', 'C', 'E', 'D', 'G', 'F', 'I', 'H', 'K', 'M', 'L', 'N', 'Q', 'P', 'S', 'R', 'T', 'W', 'V', 'Y']\n"
     ]
    }
   ],
   "source": [
    "print (hydro.keys()) #return a list of the keys in the dictionary \"hydro\""
   ]
  },
  {
   "cell_type": "code",
   "execution_count": 46,
   "metadata": {
    "collapsed": false
   },
   "outputs": [
    {
     "name": "stdout",
     "output_type": "stream",
     "text": [
      "[1.8, 2.5, -3.5, -3.5, -0.4, 2.8, 4.5, -3.2, -3.9, 1.9, 3.8, -3.5, -3.5, -1.6, -0.8, -4.5, -0.7, -0.9, 4.2, -1.3]\n"
     ]
    }
   ],
   "source": [
    "print (hydro.values()) #return a list of the values in the dictionary \"hydro\""
   ]
  },
  {
   "cell_type": "markdown",
   "metadata": {},
   "source": [
    "We can acess the values of the dictionary by providing the key."
   ]
  },
  {
   "cell_type": "code",
   "execution_count": 47,
   "metadata": {
    "collapsed": false
   },
   "outputs": [
    {
     "name": "stdout",
     "output_type": "stream",
     "text": [
      "-0.7\n"
     ]
    }
   ],
   "source": [
    "print (hydro[\"T\"]) #return the hydrophobicity value of threonine (T)"
   ]
  },
  {
   "cell_type": "markdown",
   "metadata": {},
   "source": [
    "We can loop over the elements of a dictionary and print the keys."
   ]
  },
  {
   "cell_type": "code",
   "execution_count": 48,
   "metadata": {
    "collapsed": false
   },
   "outputs": [
    {
     "name": "stdout",
     "output_type": "stream",
     "text": [
      "A\n",
      "C\n",
      "E\n",
      "D\n",
      "G\n",
      "F\n",
      "I\n",
      "H\n",
      "K\n",
      "M\n",
      "L\n",
      "N\n",
      "Q\n",
      "P\n",
      "S\n",
      "R\n",
      "T\n",
      "W\n",
      "V\n",
      "Y\n"
     ]
    }
   ],
   "source": [
    "for a in hydro:# Go through each key in the dictionary\n",
    "    print (a) # print the key "
   ]
  },
  {
   "cell_type": "markdown",
   "metadata": {},
   "source": [
    "We can loop over the elements of a dictionary and print the values."
   ]
  },
  {
   "cell_type": "code",
   "execution_count": 49,
   "metadata": {
    "collapsed": false
   },
   "outputs": [
    {
     "name": "stdout",
     "output_type": "stream",
     "text": [
      "1.8\n",
      "2.5\n",
      "-3.5\n",
      "-3.5\n",
      "-0.4\n",
      "2.8\n",
      "4.5\n",
      "-3.2\n",
      "-3.9\n",
      "1.9\n",
      "3.8\n",
      "-3.5\n",
      "-3.5\n",
      "-1.6\n",
      "-0.8\n",
      "-4.5\n",
      "-0.7\n",
      "-0.9\n",
      "4.2\n",
      "-1.3\n"
     ]
    }
   ],
   "source": [
    "for k in hydro: # Go through each key in the dictionary\n",
    "    print (hydro[k])#print the value"
   ]
  },
  {
   "cell_type": "markdown",
   "metadata": {},
   "source": [
    "Loop over the amino acids in the protein sequence, then look up the amino acid in the hydrophobicity dictionary."
   ]
  },
  {
   "cell_type": "code",
   "execution_count": 52,
   "metadata": {
    "collapsed": false
   },
   "outputs": [
    {
     "name": "stdout",
     "output_type": "stream",
     "text": [
      "('M', 1.9)\n",
      "('E', -3.5)\n",
      "('P', -1.6)\n",
      "('E', -3.5)\n",
      "('I', 4.5)\n",
      "('N', -3.5)\n",
      "('C', 2.5)\n",
      "('S', -0.8)\n",
      "('E', -3.5)\n",
      "('L', 3.8)\n",
      "('C', 2.5)\n",
      "('D', -3.5)\n",
      "('S', -0.8)\n",
      "('F', 2.8)\n",
      "('P', -1.6)\n",
      "('G', -0.4)\n",
      "('Q', -3.5)\n",
      "('E', -3.5)\n",
      "('L', 3.8)\n",
      "('D', -3.5)\n",
      "('R', -4.5)\n",
      "('R', -4.5)\n",
      "('P', -1.6)\n",
      "('L', 3.8)\n",
      "('H', -3.2)\n",
      "('D', -3.5)\n",
      "('L', 3.8)\n",
      "('C', 2.5)\n",
      "('K', -3.9)\n",
      "('T', -0.7)\n",
      "('T', -0.7)\n",
      "('I', 4.5)\n",
      "('T', -0.7)\n",
      "('S', -0.8)\n",
      "('S', -0.8)\n",
      "('H', -3.2)\n",
      "('H', -3.2)\n",
      "('S', -0.8)\n",
      "('S', -0.8)\n",
      "('K', -3.9)\n",
      "('T', -0.7)\n",
      "('I', 4.5)\n",
      "('S', -0.8)\n",
      "('S', -0.8)\n",
      "('L', 3.8)\n",
      "('S', -0.8)\n",
      "('P', -1.6)\n",
      "('V', 4.2)\n",
      "('L', 3.8)\n",
      "('L', 3.8)\n",
      "('G', -0.4)\n",
      "('I', 4.5)\n",
      "('V', 4.2)\n",
      "('W', -0.9)\n",
      "('T', -0.7)\n",
      "('F', 2.8)\n",
      "('L', 3.8)\n",
      "('S', -0.8)\n",
      "('C', 2.5)\n",
      "('G', -0.4)\n",
      "('L', 3.8)\n",
      "('L', 3.8)\n",
      "('L', 3.8)\n",
      "('I', 4.5)\n",
      "('L', 3.8)\n",
      "('F', 2.8)\n",
      "('F', 2.8)\n",
      "('L', 3.8)\n",
      "('A', 1.8)\n",
      "('F', 2.8)\n",
      "('T', -0.7)\n",
      "('I', 4.5)\n",
      "('H', -3.2)\n",
      "('C', 2.5)\n",
      "('R', -4.5)\n",
      "('K', -3.9)\n",
      "('N', -3.5)\n",
      "('R', -4.5)\n",
      "('I', 4.5)\n",
      "('V', 4.2)\n",
      "('K', -3.9)\n",
      "('M', 1.9)\n",
      "('S', -0.8)\n",
      "('S', -0.8)\n",
      "('P', -1.6)\n",
      "('N', -3.5)\n",
      "('L', 3.8)\n",
      "('N', -3.5)\n",
      "('I', 4.5)\n",
      "('V', 4.2)\n",
      "('T', -0.7)\n",
      "('L', 3.8)\n",
      "('L', 3.8)\n",
      "('G', -0.4)\n",
      "('S', -0.8)\n",
      "('C', 2.5)\n",
      "('L', 3.8)\n",
      "('T', -0.7)\n",
      "('Y', -1.3)\n",
      "('S', -0.8)\n",
      "('S', -0.8)\n",
      "('A', 1.8)\n",
      "('Y', -1.3)\n",
      "('L', 3.8)\n",
      "('F', 2.8)\n",
      "('G', -0.4)\n",
      "('I', 4.5)\n",
      "('Q', -3.5)\n",
      "('D', -3.5)\n",
      "('V', 4.2)\n",
      "('L', 3.8)\n",
      "('V', 4.2)\n",
      "('G', -0.4)\n",
      "('S', -0.8)\n",
      "('S', -0.8)\n",
      "('M', 1.9)\n",
      "('E', -3.5)\n",
      "('T', -0.7)\n",
      "('L', 3.8)\n",
      "('I', 4.5)\n",
      "('Q', -3.5)\n",
      "('T', -0.7)\n",
      "('R', -4.5)\n",
      "('L', 3.8)\n",
      "('S', -0.8)\n",
      "('M', 1.9)\n",
      "('L', 3.8)\n",
      "('C', 2.5)\n",
      "('I', 4.5)\n",
      "('G', -0.4)\n",
      "('T', -0.7)\n",
      "('S', -0.8)\n",
      "('L', 3.8)\n",
      "('V', 4.2)\n",
      "('F', 2.8)\n",
      "('G', -0.4)\n",
      "('P', -1.6)\n",
      "('I', 4.5)\n",
      "('L', 3.8)\n",
      "('G', -0.4)\n",
      "('K', -3.9)\n",
      "('S', -0.8)\n",
      "('W', -0.9)\n",
      "('R', -4.5)\n",
      "('L', 3.8)\n",
      "('Y', -1.3)\n",
      "('K', -3.9)\n",
      "('V', 4.2)\n",
      "('F', 2.8)\n",
      "('T', -0.7)\n",
      "('Q', -3.5)\n",
      "('R', -4.5)\n",
      "('V', 4.2)\n",
      "('P', -1.6)\n",
      "('D', -3.5)\n",
      "('K', -3.9)\n",
      "('R', -4.5)\n",
      "('V', 4.2)\n",
      "('I', 4.5)\n",
      "('I', 4.5)\n",
      "('K', -3.9)\n",
      "('D', -3.5)\n",
      "('L', 3.8)\n",
      "('Q', -3.5)\n",
      "('L', 3.8)\n",
      "('L', 3.8)\n",
      "('G', -0.4)\n",
      "('L', 3.8)\n",
      "('V', 4.2)\n",
      "('A', 1.8)\n",
      "('A', 1.8)\n",
      "('L', 3.8)\n",
      "('L', 3.8)\n",
      "('M', 1.9)\n",
      "('A', 1.8)\n",
      "('D', -3.5)\n",
      "('V', 4.2)\n",
      "('I', 4.5)\n",
      "('L', 3.8)\n",
      "('L', 3.8)\n",
      "('M', 1.9)\n",
      "('T', -0.7)\n",
      "('W', -0.9)\n",
      "('V', 4.2)\n",
      "('L', 3.8)\n",
      "('T', -0.7)\n",
      "('D', -3.5)\n",
      "('P', -1.6)\n",
      "('I', 4.5)\n",
      "('Q', -3.5)\n",
      "('C', 2.5)\n",
      "('L', 3.8)\n",
      "('Q', -3.5)\n",
      "('I', 4.5)\n",
      "('L', 3.8)\n",
      "('S', -0.8)\n",
      "('V', 4.2)\n",
      "('S', -0.8)\n",
      "('M', 1.9)\n",
      "('T', -0.7)\n",
      "('V', 4.2)\n",
      "('T', -0.7)\n",
      "('G', -0.4)\n",
      "('K', -3.9)\n",
      "('D', -3.5)\n",
      "('V', 4.2)\n",
      "('S', -0.8)\n",
      "('C', 2.5)\n",
      "('T', -0.7)\n",
      "('S', -0.8)\n",
      "('T', -0.7)\n",
      "('S', -0.8)\n",
      "('T', -0.7)\n",
      "('H', -3.2)\n",
      "('F', 2.8)\n",
      "('C', 2.5)\n",
      "('A', 1.8)\n",
      "('S', -0.8)\n",
      "('R', -4.5)\n",
      "('Y', -1.3)\n",
      "('S', -0.8)\n",
      "('D', -3.5)\n",
      "('V', 4.2)\n",
      "('W', -0.9)\n",
      "('I', 4.5)\n",
      "('A', 1.8)\n",
      "('L', 3.8)\n",
      "('I', 4.5)\n",
      "('W', -0.9)\n",
      "('G', -0.4)\n",
      "('C', 2.5)\n",
      "('K', -3.9)\n",
      "('G', -0.4)\n",
      "('L', 3.8)\n",
      "('L', 3.8)\n",
      "('L', 3.8)\n",
      "('L', 3.8)\n",
      "('Y', -1.3)\n",
      "('G', -0.4)\n",
      "('A', 1.8)\n",
      "('Y', -1.3)\n",
      "('L', 3.8)\n",
      "('A', 1.8)\n",
      "('G', -0.4)\n",
      "('L', 3.8)\n",
      "('T', -0.7)\n",
      "('G', -0.4)\n",
      "('H', -3.2)\n",
      "('V', 4.2)\n",
      "('S', -0.8)\n",
      "('S', -0.8)\n",
      "('P', -1.6)\n",
      "('P', -1.6)\n",
      "('V', 4.2)\n",
      "('N', -3.5)\n",
      "('Q', -3.5)\n",
      "('S', -0.8)\n",
      "('L', 3.8)\n",
      "('T', -0.7)\n",
      "('I', 4.5)\n",
      "('M', 1.9)\n",
      "('V', 4.2)\n",
      "('G', -0.4)\n",
      "('V', 4.2)\n",
      "('N', -3.5)\n",
      "('L', 3.8)\n",
      "('L', 3.8)\n",
      "('V', 4.2)\n",
      "('L', 3.8)\n",
      "('A', 1.8)\n",
      "('A', 1.8)\n",
      "('G', -0.4)\n",
      "('L', 3.8)\n",
      "('L', 3.8)\n",
      "('F', 2.8)\n",
      "('V', 4.2)\n",
      "('V', 4.2)\n",
      "('T', -0.7)\n",
      "('R', -4.5)\n",
      "('Y', -1.3)\n",
      "('L', 3.8)\n",
      "('H', -3.2)\n",
      "('S', -0.8)\n",
      "('W', -0.9)\n",
      "('P', -1.6)\n",
      "('N', -3.5)\n",
      "('L', 3.8)\n",
      "('V', 4.2)\n",
      "('F', 2.8)\n",
      "('G', -0.4)\n",
      "('L', 3.8)\n",
      "('T', -0.7)\n",
      "('S', -0.8)\n",
      "('G', -0.4)\n",
      "('G', -0.4)\n",
      "('I', 4.5)\n",
      "('F', 2.8)\n",
      "('V', 4.2)\n",
      "('C', 2.5)\n",
      "('T', -0.7)\n",
      "('T', -0.7)\n",
      "('T', -0.7)\n",
      "('I', 4.5)\n",
      "('N', -3.5)\n",
      "('C', 2.5)\n",
      "('F', 2.8)\n",
      "('I', 4.5)\n",
      "('F', 2.8)\n",
      "('I', 4.5)\n",
      "('P', -1.6)\n",
      "('Q', -3.5)\n",
      "('L', 3.8)\n",
      "('K', -3.9)\n",
      "('Q', -3.5)\n",
      "('W', -0.9)\n",
      "('K', -3.9)\n",
      "('A', 1.8)\n",
      "('F', 2.8)\n",
      "('E', -3.5)\n",
      "('E', -3.5)\n",
      "('E', -3.5)\n",
      "('N', -3.5)\n",
      "('Q', -3.5)\n",
      "('T', -0.7)\n",
      "('I', 4.5)\n",
      "('R', -4.5)\n",
      "('R', -4.5)\n",
      "('M', 1.9)\n",
      "('A', 1.8)\n",
      "('K', -3.9)\n",
      "('Y', -1.3)\n",
      "('F', 2.8)\n",
      "('S', -0.8)\n",
      "('T', -0.7)\n",
      "('P', -1.6)\n",
      "('N', -3.5)\n",
      "('K', -3.9)\n",
      "('S', -0.8)\n",
      "('F', 2.8)\n",
      "('H', -3.2)\n",
      "('T', -0.7)\n",
      "('Q', -3.5)\n",
      "('Y', -1.3)\n",
      "('G', -0.4)\n",
      "('E', -3.5)\n",
      "('E', -3.5)\n",
      "('E', -3.5)\n",
      "('N', -3.5)\n",
      "('C', 2.5)\n",
      "('H', -3.2)\n",
      "('P', -1.6)\n",
      "('R', -4.5)\n",
      "('G', -0.4)\n",
      "('E', -3.5)\n",
      "('K', -3.9)\n",
      "('S', -0.8)\n",
      "('S', -0.8)\n",
      "('M', 1.9)\n",
      "('E', -3.5)\n",
      "('R', -4.5)\n",
      "('L', 3.8)\n",
      "('L', 3.8)\n",
      "('T', -0.7)\n",
      "('E', -3.5)\n",
      "('K', -3.9)\n",
      "('N', -3.5)\n",
      "('A', 1.8)\n",
      "('V', 4.2)\n",
      "('I', 4.5)\n",
      "('E', -3.5)\n",
      "('S', -0.8)\n",
      "('L', 3.8)\n",
      "('Q', -3.5)\n",
      "('E', -3.5)\n",
      "('Q', -3.5)\n",
      "('V', 4.2)\n",
      "('N', -3.5)\n",
      "('N', -3.5)\n",
      "('A', 1.8)\n",
      "('K', -3.9)\n",
      "('E', -3.5)\n",
      "('K', -3.9)\n",
      "('I', 4.5)\n",
      "('V', 4.2)\n",
      "('R', -4.5)\n",
      "('L', 3.8)\n",
      "('M', 1.9)\n",
      "('S', -0.8)\n",
      "('A', 1.8)\n",
      "('E', -3.5)\n",
      "('C', 2.5)\n",
      "('T', -0.7)\n",
      "('Y', -1.3)\n",
      "('D', -3.5)\n",
      "('L', 3.8)\n",
      "('P', -1.6)\n",
      "('E', -3.5)\n",
      "('G', -0.4)\n",
      "('A', 1.8)\n",
      "('A', 1.8)\n",
      "('P', -1.6)\n",
      "('P', -1.6)\n",
      "('A', 1.8)\n",
      "('S', -0.8)\n",
      "('S', -0.8)\n",
      "('P', -1.6)\n",
      "('N', -3.5)\n",
      "('K', -3.9)\n",
      "('D', -3.5)\n",
      "('V', 4.2)\n",
      "('Q', -3.5)\n",
      "('A', 1.8)\n",
      "('V', 4.2)\n",
      "('A', 1.8)\n",
      "('S', -0.8)\n",
      "('V', 4.2)\n",
      "('H', -3.2)\n",
      "('T', -0.7)\n",
      "('L', 3.8)\n",
      "('A', 1.8)\n",
      "('A', 1.8)\n",
      "('A', 1.8)\n",
      "('Q', -3.5)\n",
      "('G', -0.4)\n",
      "('P', -1.6)\n",
      "('S', -0.8)\n",
      "('G', -0.4)\n",
      "('H', -3.2)\n",
      "('L', 3.8)\n",
      "('S', -0.8)\n",
      "('D', -3.5)\n",
      "('F', 2.8)\n",
      "('Q', -3.5)\n",
      "('N', -3.5)\n",
      "('D', -3.5)\n",
      "('P', -1.6)\n",
      "('G', -0.4)\n",
      "('M', 1.9)\n",
      "('A', 1.8)\n",
      "('A', 1.8)\n",
      "('R', -4.5)\n",
      "('D', -3.5)\n",
      "('S', -0.8)\n",
      "('Q', -3.5)\n",
      "('C', 2.5)\n",
      "('T', -0.7)\n",
      "('S', -0.8)\n",
      "('G', -0.4)\n",
      "('P', -1.6)\n",
      "('S', -0.8)\n",
      "('S', -0.8)\n",
      "('Y', -1.3)\n",
      "('A', 1.8)\n",
      "('Q', -3.5)\n",
      "('S', -0.8)\n",
      "('L', 3.8)\n",
      "('E', -3.5)\n",
      "('G', -0.4)\n",
      "('P', -1.6)\n",
      "('G', -0.4)\n",
      "('K', -3.9)\n",
      "('D', -3.5)\n",
      "('S', -0.8)\n",
      "('S', -0.8)\n",
      "('F', 2.8)\n",
      "('S', -0.8)\n",
      "('P', -1.6)\n",
      "('G', -0.4)\n",
      "('K', -3.9)\n",
      "('E', -3.5)\n",
      "('E', -3.5)\n",
      "('K', -3.9)\n",
      "('I', 4.5)\n",
      "('S', -0.8)\n",
      "('D', -3.5)\n",
      "('S', -0.8)\n",
      "('K', -3.9)\n",
      "('D', -3.5)\n",
      "('F', 2.8)\n",
      "('S', -0.8)\n",
      "('D', -3.5)\n",
      "('H', -3.2)\n",
      "('L', 3.8)\n",
      "('D', -3.5)\n",
      "('S', -0.8)\n",
      "('G', -0.4)\n",
      "('C', 2.5)\n",
      "('S', -0.8)\n",
      "('Q', -3.5)\n",
      "('K', -3.9)\n",
      "('P', -1.6)\n",
      "('W', -0.9)\n",
      "('T', -0.7)\n",
      "('E', -3.5)\n",
      "('Q', -3.5)\n",
      "('S', -0.8)\n",
      "('L', 3.8)\n",
      "('G', -0.4)\n",
      "('P', -1.6)\n",
      "('E', -3.5)\n",
      "('R', -4.5)\n",
      "('G', -0.4)\n",
      "('D', -3.5)\n",
      "('Q', -3.5)\n",
      "('V', 4.2)\n",
      "('P', -1.6)\n",
      "('M', 1.9)\n",
      "('N', -3.5)\n",
      "('P', -1.6)\n",
      "('S', -0.8)\n",
      "('Q', -3.5)\n",
      "('S', -0.8)\n",
      "('L', 3.8)\n",
      "('L', 3.8)\n",
      "('P', -1.6)\n",
      "('E', -3.5)\n",
      "('R', -4.5)\n",
      "('G', -0.4)\n",
      "('G', -0.4)\n",
      "('S', -0.8)\n",
      "('D', -3.5)\n",
      "('P', -1.6)\n",
      "('Q', -3.5)\n",
      "('R', -4.5)\n",
      "('Q', -3.5)\n",
      "('R', -4.5)\n",
      "('H', -3.2)\n",
      "('L', 3.8)\n",
      "('E', -3.5)\n",
      "('N', -3.5)\n",
      "('S', -0.8)\n",
      "('E', -3.5)\n",
      "('E', -3.5)\n",
      "('P', -1.6)\n",
      "('P', -1.6)\n",
      "('E', -3.5)\n",
      "('R', -4.5)\n",
      "('R', -4.5)\n",
      "('S', -0.8)\n",
      "('R', -4.5)\n",
      "('V', 4.2)\n",
      "('S', -0.8)\n",
      "('S', -0.8)\n",
      "('V', 4.2)\n",
      "('I', 4.5)\n",
      "('R', -4.5)\n",
      "('E', -3.5)\n",
      "('K', -3.9)\n",
      "('L', 3.8)\n",
      "('Q', -3.5)\n",
      "('E', -3.5)\n",
      "('V', 4.2)\n",
      "('L', 3.8)\n",
      "('Q', -3.5)\n",
      "('D', -3.5)\n",
      "('L', 3.8)\n",
      "('G', -0.4)\n",
      "('L', 3.8)\n",
      "('G', -0.4)\n",
      "('P', -1.6)\n",
      "('E', -3.5)\n",
      "('A', 1.8)\n",
      "('S', -0.8)\n",
      "('L', 3.8)\n",
      "('S', -0.8)\n",
      "('T', -0.7)\n",
      "('A', 1.8)\n",
      "('P', -1.6)\n",
      "('S', -0.8)\n",
      "('C', 2.5)\n",
      "('H', -3.2)\n",
      "('Q', -3.5)\n",
      "('Q', -3.5)\n",
      "('T', -0.7)\n",
      "('W', -0.9)\n",
      "('K', -3.9)\n",
      "('N', -3.5)\n",
      "('S', -0.8)\n",
      "('A', 1.8)\n",
      "('A', 1.8)\n",
      "('F', 2.8)\n",
      "('S', -0.8)\n",
      "('P', -1.6)\n",
      "('Q', -3.5)\n",
      "('K', -3.9)\n",
      "('M', 1.9)\n",
      "('P', -1.6)\n",
      "('L', 3.8)\n",
      "('S', -0.8)\n",
      "('K', -3.9)\n",
      "('E', -3.5)\n",
      "('L', 3.8)\n",
      "('G', -0.4)\n",
      "('F', 2.8)\n",
      "('S', -0.8)\n",
      "('P', -1.6)\n",
      "('Y', -1.3)\n",
      "('M', 1.9)\n",
      "('V', 4.2)\n",
      "('R', -4.5)\n",
      "('R', -4.5)\n",
      "('R', -4.5)\n",
      "('R', -4.5)\n",
      "('A', 1.8)\n",
      "('A', 1.8)\n",
      "('Q', -3.5)\n",
      "('R', -4.5)\n",
      "('A', 1.8)\n",
      "('R', -4.5)\n",
      "('S', -0.8)\n",
      "('H', -3.2)\n",
      "('F', 2.8)\n",
      "('P', -1.6)\n",
      "('G', -0.4)\n",
      "('S', -0.8)\n",
      "('A', 1.8)\n",
      "('P', -1.6)\n",
      "('S', -0.8)\n",
      "('S', -0.8)\n",
      "('V', 4.2)\n",
      "('G', -0.4)\n",
      "('H', -3.2)\n",
      "('R', -4.5)\n",
      "('A', 1.8)\n",
      "('N', -3.5)\n",
      "('R', -4.5)\n",
      "('T', -0.7)\n",
      "('V', 4.2)\n",
      "('P', -1.6)\n",
      "('G', -0.4)\n",
      "('A', 1.8)\n",
      "('H', -3.2)\n",
      "('S', -0.8)\n",
      "('R', -4.5)\n",
      "('L', 3.8)\n",
      "('H', -3.2)\n",
      "('V', 4.2)\n",
      "('Q', -3.5)\n",
      "('N', -3.5)\n",
      "('G', -0.4)\n",
      "('D', -3.5)\n",
      "('S', -0.8)\n",
      "('P', -1.6)\n",
      "('S', -0.8)\n",
      "('L', 3.8)\n",
      "('A', 1.8)\n",
      "('P', -1.6)\n",
      "('Q', -3.5)\n",
      "('T', -0.7)\n",
      "('T', -0.7)\n",
      "('D', -3.5)\n",
      "('S', -0.8)\n",
      "('R', -4.5)\n",
      "('V', 4.2)\n",
      "('R', -4.5)\n",
      "('R', -4.5)\n",
      "('P', -1.6)\n",
      "('S', -0.8)\n",
      "('S', -0.8)\n",
      "('R', -4.5)\n",
      "('K', -3.9)\n",
      "('P', -1.6)\n",
      "('S', -0.8)\n",
      "('L', 3.8)\n",
      "('P', -1.6)\n",
      "('S', -0.8)\n",
      "('D', -3.5)\n",
      "('P', -1.6)\n",
      "('Q', -3.5)\n",
      "('D', -3.5)\n",
      "('R', -4.5)\n",
      "('P', -1.6)\n",
      "('G', -0.4)\n",
      "('T', -0.7)\n",
      "('L', 3.8)\n",
      "('E', -3.5)\n",
      "('G', -0.4)\n",
      "('S', -0.8)\n",
      "('K', -3.9)\n",
      "('Q', -3.5)\n",
      "('S', -0.8)\n",
      "('Q', -3.5)\n",
      "('T', -0.7)\n",
      "('E', -3.5)\n",
      "('P', -1.6)\n",
      "('E', -3.5)\n",
      "('G', -0.4)\n",
      "('A', 1.8)\n",
      "('R', -4.5)\n",
      "('G', -0.4)\n",
      "('S', -0.8)\n",
      "('K', -3.9)\n",
      "('A', 1.8)\n",
      "('A', 1.8)\n",
      "('F', 2.8)\n",
      "('L', 3.8)\n",
      "('R', -4.5)\n",
      "('Q', -3.5)\n",
      "('P', -1.6)\n",
      "('S', -0.8)\n",
      "('G', -0.4)\n",
      "('S', -0.8)\n",
      "('G', -0.4)\n",
      "('R', -4.5)\n",
      "('A', 1.8)\n",
      "('P', -1.6)\n",
      "('S', -0.8)\n",
      "('P', -1.6)\n",
      "('A', 1.8)\n",
      "('A', 1.8)\n",
      "('P', -1.6)\n",
      "('C', 2.5)\n",
      "('L', 3.8)\n",
      "('S', -0.8)\n",
      "('K', -3.9)\n",
      "('A', 1.8)\n",
      "('S', -0.8)\n",
      "('P', -1.6)\n",
      "('D', -3.5)\n",
      "('L', 3.8)\n",
      "('P', -1.6)\n",
      "('E', -3.5)\n",
      "('Q', -3.5)\n",
      "('W', -0.9)\n",
      "('Q', -3.5)\n",
      "('L', 3.8)\n",
      "('W', -0.9)\n",
      "('P', -1.6)\n",
      "('P', -1.6)\n",
      "('V', 4.2)\n",
      "('P', -1.6)\n",
      "('S', -0.8)\n",
      "('G', -0.4)\n",
      "('C', 2.5)\n",
      "('A', 1.8)\n",
      "('S', -0.8)\n",
      "('L', 3.8)\n",
      "('S', -0.8)\n",
      "('S', -0.8)\n",
      "('Q', -3.5)\n",
      "('H', -3.2)\n",
      "('S', -0.8)\n",
      "('Y', -1.3)\n",
      "('F', 2.8)\n",
      "('D', -3.5)\n",
      "('T', -0.7)\n",
      "('E', -3.5)\n",
      "('S', -0.8)\n",
      "('S', -0.8)\n",
      "('S', -0.8)\n",
      "('S', -0.8)\n",
      "('D', -3.5)\n",
      "('E', -3.5)\n",
      "('F', 2.8)\n",
      "('F', 2.8)\n",
      "('C', 2.5)\n",
      "('R', -4.5)\n",
      "('C', 2.5)\n",
      "('H', -3.2)\n",
      "('R', -4.5)\n",
      "('P', -1.6)\n",
      "('Y', -1.3)\n",
      "('C', 2.5)\n",
      "('E', -3.5)\n",
      "('I', 4.5)\n",
      "('C', 2.5)\n",
      "('F', 2.8)\n",
      "('Q', -3.5)\n",
      "('S', -0.8)\n",
      "('S', -0.8)\n",
      "('S', -0.8)\n",
      "('D', -3.5)\n",
      "('S', -0.8)\n",
      "('S', -0.8)\n",
      "('D', -3.5)\n",
      "('S', -0.8)\n",
      "('G', -0.4)\n",
      "('T', -0.7)\n",
      "('S', -0.8)\n",
      "('D', -3.5)\n",
      "('T', -0.7)\n",
      "('D', -3.5)\n",
      "('P', -1.6)\n",
      "('E', -3.5)\n",
      "('P', -1.6)\n",
      "('T', -0.7)\n",
      "('G', -0.4)\n",
      "('G', -0.4)\n",
      "('L', 3.8)\n",
      "('A', 1.8)\n",
      "('S', -0.8)\n",
      "('W', -0.9)\n",
      "('E', -3.5)\n",
      "('K', -3.9)\n",
      "('L', 3.8)\n",
      "('W', -0.9)\n",
      "('A', 1.8)\n",
      "('R', -4.5)\n",
      "('S', -0.8)\n",
      "('K', -3.9)\n",
      "('P', -1.6)\n",
      "('I', 4.5)\n",
      "('V', 4.2)\n",
      "('N', -3.5)\n",
      "('F', 2.8)\n",
      "('K', -3.9)\n",
      "('D', -3.5)\n",
      "('D', -3.5)\n",
      "('L', 3.8)\n",
      "('K', -3.9)\n",
      "('P', -1.6)\n",
      "('T', -0.7)\n",
      "('L', 3.8)\n",
      "('V', 4.2)\n"
     ]
    }
   ],
   "source": [
    "hvalues = [] # an empty list to hold the hydrophobicity values along the length of the protein\n",
    "for aa in protseq:# go through amino acid in the protein sequence, protseq\n",
    "    # ask if the amino acid is in the dictionary's keys\n",
    "    if (aa in hydro):\n",
    "        # print the amino acid and it's hydrophobicity value\n",
    "        print(aa,hydro[aa])\n",
    "        # add the hydrophobicity value to the list hvalues\n",
    "        hvalues.append(hydro[aa])\n",
    "    else:# if the amino acid is not in the dictionary's keys\n",
    "        print (\"Amino acid\", aa, \"not in dictionary.\") # print out a warning\n",
    "        break # stop the flow of the for loop"
   ]
  },
  {
   "cell_type": "markdown",
   "metadata": {},
   "source": [
    "Now, let's generate a graph."
   ]
  },
  {
   "cell_type": "code",
   "execution_count": 53,
   "metadata": {
    "collapsed": false
   },
   "outputs": [
    {
     "name": "stdout",
     "output_type": "stream",
     "text": [
      "Populating the interactive namespace from numpy and matplotlib\n"
     ]
    },
    {
     "data": {
      "image/png": "[encoded data removed]",
      "text/plain": [
       "<matplotlib.figure.Figure at 0x7a6d550>"
      ]
     },
     "metadata": {},
     "output_type": "display_data"
    }
   ],
   "source": [
    "import matplotlib.pyplot as plt # import a set of code written for generating graphics and tell the computer how to display graphs\n",
    "%pylab inline\n",
    "\n",
    "plt.plot(hvalues) # plot the hydrophobicity values of the protein sequence\n",
    "plt.axhline(0, color='grey') # add a horizontal grey line at y=0\n",
    "plt.ylabel(\"hydrophobicity\") # add a label to the y-axis\n",
    "plt.xlabel(\"50bp sequence block\") # add a label to the x-axis\n",
    "plt.title(\"Kyte Doolittle Hydrophobicity of \" + protid) #add a title to the graph\n",
    "plt.show()"
   ]
  },
  {
   "cell_type": "markdown",
   "metadata": {},
   "source": [
    "Ploting the hydrophobicity of each position in the protein sequence results in a noisy graph. Let's calculate the average hydrophobicity over a sliding window 20 aa in length, and include a red line on the graph at 1.6 on the hydrophobicity scale. Regions with hydrophobicity values greater than 1.6 are more likely to be transmembrane domains."
   ]
  },
  {
   "cell_type": "code",
   "execution_count": 54,
   "metadata": {
    "collapsed": false
   },
   "outputs": [],
   "source": [
    "window_len = 20 # define the length of the window\n",
    "smooth_hydro = []# smooth_hydro = a list to hold the moving average values\n",
    "for i in range(len(protseq)-window_len): # for each number in a list\n",
    "    hval = 0 # for each region reset the cumulative hydrophobicity value, hval, to 0\n",
    "    for aa in protseq[i:i+window_len]:# for each aa in window\n",
    "        v = hydro[aa]#look-up hydrophobicity of aa, assign to variable \"v\"\n",
    "        hval += v #increment the value of hval by v\n",
    "    avh = hval/len(protseq[i:i+window_len]) # calculate the average hydrophobicity value of the region\n",
    "    smooth_hydro.append(avh) # add the average to the list smooth_hydro"
   ]
  },
  {
   "cell_type": "markdown",
   "metadata": {},
   "source": [
    "We'll generate a graph of the smoothed values."
   ]
  },
  {
   "cell_type": "code",
   "execution_count": 55,
   "metadata": {
    "collapsed": false
   },
   "outputs": [
    {
     "name": "stdout",
     "output_type": "stream",
     "text": [
      "Populating the interactive namespace from numpy and matplotlib\n"
     ]
    },
    {
     "data": {
      "image/png": "[encoded data removed]",
      "text/plain": [
       "<matplotlib.figure.Figure at 0x81030b8>"
      ]
     },
     "metadata": {},
     "output_type": "display_data"
    }
   ],
   "source": [
    "import matplotlib.pyplot as plt # import a set of code written for generating graphics and tell the computer how to display graphs\n",
    "%pylab inline\n",
    "\n",
    "plt.plot(smooth_hydro) # plot the value of smooth_hydro\n",
    "plt.axhline(0, color='grey') # add a horizontal grey line at y=0\n",
    "plt.axhline(1.6, color='red')# add a horizontal red line at y=1.6\n",
    "plt.ylabel('Hydrophobicity') # add a label to the y-axis\n",
    "plt.xlabel('Amino acid position') # add a label to the x-axis\n",
    "plt.title(\"Kyte Doolittle Hydrophobicity of \" + protid + \"\\n 20 nt sliding window\") # add a title to the graph\n",
    "plt.show()"
   ]
  },
  {
   "cell_type": "markdown",
   "metadata": {},
   "source": [
    "That's all folks!  \n",
    "Please save your notebook and upload the notebook to Blackboard."
   ]
  },
  {
   "cell_type": "code",
   "execution_count": null,
   "metadata": {
    "collapsed": false
   },
   "outputs": [],
   "source": []
  }
 ],
 "metadata": {
  "kernelspec": {
   "display_name": "Python 2",
   "language": "python",
   "name": "python2"
  },
  "language_info": {
   "codemirror_mode": {
    "name": "ipython",
    "version": 2
   },
   "file_extension": ".py",
   "mimetype": "text/x-python",
   "name": "python",
   "nbconvert_exporter": "python",
   "pygments_lexer": "ipython2",
   "version": "2.7.13"
  }
 },
 "nbformat": 4,
 "nbformat_minor": 0
}
