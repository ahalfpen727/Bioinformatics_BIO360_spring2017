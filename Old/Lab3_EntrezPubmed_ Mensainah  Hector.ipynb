{
 "cells": [
  {
   "cell_type": "markdown",
   "metadata": {},
   "source": [
    "## Lab 3: Database Searching Using Biopython"
   ]
  },
  {
   "cell_type": "markdown",
   "metadata": {},
   "source": [
    "#### Enter your name below."
   ]
  },
  {
   "cell_type": "raw",
   "metadata": {},
   "source": []
  },
  {
   "cell_type": "markdown",
   "metadata": {},
   "source": [
    "### Part 1: Search NCBI's Gene database for genes involved in cystic fibrosis."
   ]
  },
  {
   "cell_type": "markdown",
   "metadata": {},
   "source": [
    "Your goal in this section is to use NCBI's Gene database to identify genes involved in cystic fibrosis in humans."
   ]
  },
  {
   "cell_type": "markdown",
   "metadata": {},
   "source": [
    "##### 1. Load the Biopython module \"Entrez\", enter your email address, then execute."
   ]
  },
  {
   "cell_type": "code",
   "execution_count": 1,
   "metadata": {
    "collapsed": true
   },
   "outputs": [],
   "source": [
    "from Bio import Entrez\n",
    "\n",
    "#Tell NCBI who you are\n",
    "Entrez.email = \"mensainah.hector001@umb.edu\""
   ]
  },
  {
   "cell_type": "markdown",
   "metadata": {},
   "source": [
    "##### 2. Generate query and execute the search."
   ]
  },
  {
   "cell_type": "code",
   "execution_count": 2,
   "metadata": {
    "collapsed": false
   },
   "outputs": [
    {
     "name": "stdout",
     "output_type": "stream",
     "text": [
      "['7124', '3569', '7040', '1636', '3586', '3091', '21926', '4790', '5743', '5243', '4318', '21898', '3553', '207', '7421', '1080', '5468', '7099', '3576', '6774']\n"
     ]
    },
    {
     "data": {
      "text/plain": [
       "Bio.Entrez.Parser.ListElement"
      ]
     },
     "execution_count": 2,
     "metadata": {},
     "output_type": "execute_result"
    }
   ],
   "source": [
    "db = \"gene\" #This is the database we want to search\n",
    "\n",
    "query = \"cystic fibrosis\" #This is the query\n",
    "\n",
    "#We'll use the function Entrez.esearch to search the pubmed database with our query\n",
    "h_search =  Entrez.esearch(db=db, term=query) #tell Entrez what database we want to search, who we are, and what we want to look for\n",
    "\n",
    "record = Entrez.read(h_search) #read the esearch record\n",
    "\n",
    "res_ids = record[\"IdList\"] #save the list of ids returned by our query to res_ids\n",
    "\n",
    "#print the list of ids\n",
    "print (res_ids)\n",
    "type (res_ids)"
   ]
  },
  {
   "cell_type": "code",
   "execution_count": 3,
   "metadata": {
    "collapsed": false,
    "scrolled": true
   },
   "outputs": [
    {
     "name": "stdout",
     "output_type": "stream",
     "text": [
      "{u'DocumentSummarySet': DictElement({u'DbBuild': 'Build160404-0125m.1', u'DocumentSummary': [DictElement({u'Status': '0', u'NomenclatureSymbol': 'TNF', u'OtherDesignations': 'APC1 protein|TNF, macrophage-derived|TNF, monocyte-derived|TNF-a|cachectin|tumor necrosis factor ligand 1F|tumor necrosis factor ligand superfamily member 2|tumor necrosis factor-alpha', u'Mim': ['191160'], u'Name': 'TNF', u'NomenclatureName': 'tumor necrosis factor', u'CurrentID': '0', u'GenomicInfo': [{u'ChrAccVer': 'NC_000006.12', u'ChrLoc': '6', u'ExonCount': '4', u'ChrStop': '31578335', u'ChrStart': '31575566'}], u'OtherAliases': 'DIF, TNF-alpha, TNFA, TNFSF2, TNLG1F', u'Summary': 'This gene encodes a multifunctional proinflammatory cytokine that belongs to the tumor necrosis factor (TNF) superfamily. This cytokine is mainly secreted by macrophages. It can bind to, and thus functions through its receptors TNFRSF1A/TNFR1 and TNFRSF1B/TNFBR. This cytokine is involved in the regulation of a wide spectrum of biological processes including cell proliferation, differentiation, apoptosis, lipid metabolism, and coagulation. This cytokine has been implicated in a variety of diseases, including autoimmune diseases, insulin resistance, and cancer. Knockout studies in mice also suggested the neuroprotective function of this cytokine. [provided by RefSeq, Jul 2008]', u'GeneWeight': '603020', u'GeneticSource': 'genomic', u'MapLocation': '6p21.3', u'ChrSort': '06', u'ChrStart': '31575566', u'LocationHist': [{u'AssemblyAccVer': 'GCF_000001405.28', u'ChrAccVer': 'NC_000006.12', u'AnnotationRelease': '107', u'ChrStop': '31578335', u'ChrStart': '31575566'}, {u'AssemblyAccVer': 'GCF_000001405.28', u'ChrAccVer': 'NT_113891.3', u'AnnotationRelease': '107', u'ChrStop': '3055622', u'ChrStart': '3052853'}, {u'AssemblyAccVer': 'GCF_000001405.28', u'ChrAccVer': 'NT_167244.2', u'AnnotationRelease': '107', u'ChrStop': '2910914', u'ChrStart': '2909107'}, {u'AssemblyAccVer': 'GCF_000001405.28', u'ChrAccVer': 'NT_167245.2', u'AnnotationRelease': '107', u'ChrStop': '2826068', u'ChrStart': '2823299'}, {u'AssemblyAccVer': 'GCF_000001405.28', u'ChrAccVer': 'NT_167246.2', u'AnnotationRelease': '107', u'ChrStop': '2883376', u'ChrStart': '2880607'}, {u'AssemblyAccVer': 'GCF_000001405.28', u'ChrAccVer': 'NT_167247.2', u'AnnotationRelease': '107', u'ChrStop': '2920233', u'ChrStart': '2917464'}, {u'AssemblyAccVer': 'GCF_000001405.28', u'ChrAccVer': 'NT_167248.2', u'AnnotationRelease': '107', u'ChrStop': '2834156', u'ChrStart': '2831385'}, {u'AssemblyAccVer': 'GCF_000001405.28', u'ChrAccVer': 'NT_167249.2', u'AnnotationRelease': '107', u'ChrStop': '2877615', u'ChrStart': '2874846'}, {u'AssemblyAccVer': 'GCF_000306695.2', u'ChrAccVer': 'NC_018917.2', u'AnnotationRelease': '107', u'ChrStop': '31548244', u'ChrStart': '31545475'}, {u'AssemblyAccVer': 'GCF_000001405.26', u'ChrAccVer': 'NC_000006.12', u'AnnotationRelease': '106', u'ChrStop': '31578335', u'ChrStart': '31575566'}, {u'AssemblyAccVer': 'GCF_000001405.26', u'ChrAccVer': 'NT_113891.3', u'AnnotationRelease': '106', u'ChrStop': '3055622', u'ChrStart': '3052853'}, {u'AssemblyAccVer': 'GCF_000001405.26', u'ChrAccVer': 'NT_167244.2', u'AnnotationRelease': '106', u'ChrStop': '2910914', u'ChrStart': '2909107'}, {u'AssemblyAccVer': 'GCF_000001405.26', u'ChrAccVer': 'NT_167245.2', u'AnnotationRelease': '106', u'ChrStop': '2826068', u'ChrStart': '2823299'}, {u'AssemblyAccVer': 'GCF_000001405.26', u'ChrAccVer': 'NT_167246.2', u'AnnotationRelease': '106', u'ChrStop': '2883376', u'ChrStart': '2880607'}, {u'AssemblyAccVer': 'GCF_000001405.26', u'ChrAccVer': 'NT_167247.2', u'AnnotationRelease': '106', u'ChrStop': '2920233', u'ChrStart': '2917464'}, {u'AssemblyAccVer': 'GCF_000001405.26', u'ChrAccVer': 'NT_167248.2', u'AnnotationRelease': '106', u'ChrStop': '2834156', u'ChrStart': '2831385'}, {u'AssemblyAccVer': 'GCF_000001405.26', u'ChrAccVer': 'NT_167249.2', u'AnnotationRelease': '106', u'ChrStop': '2877615', u'ChrStart': '2874846'}, {u'AssemblyAccVer': 'GCF_000002125.1', u'ChrAccVer': 'AC_000138.1', u'AnnotationRelease': '106', u'ChrStop': '31332846', u'ChrStart': '31330077'}, {u'AssemblyAccVer': 'GCF_000306695.2', u'ChrAccVer': 'NC_018917.2', u'AnnotationRelease': '106', u'ChrStop': '31548244', u'ChrStart': '31545475'}, {u'AssemblyAccVer': 'GCF_000001405.25', u'ChrAccVer': 'NC_000006.11', u'AnnotationRelease': '105', u'ChrStop': '31546112', u'ChrStart': '31543343'}, {u'AssemblyAccVer': 'GCF_000001405.25', u'ChrAccVer': 'NT_113891.2', u'AnnotationRelease': '105', u'ChrStop': '3055728', u'ChrStart': '3052959'}, {u'AssemblyAccVer': 'GCF_000001405.25', u'ChrAccVer': 'NT_167244.1', u'AnnotationRelease': '105', u'ChrStop': '2860830', u'ChrStart': '2859023'}, {u'AssemblyAccVer': 'GCF_000001405.25', u'ChrAccVer': 'NT_167245.1', u'AnnotationRelease': '105', u'ChrStop': '2831653', u'ChrStart': '2828884'}, {u'AssemblyAccVer': 'GCF_000001405.25', u'ChrAccVer': 'NT_167246.1', u'AnnotationRelease': '105', u'ChrStop': '2888996', u'ChrStart': '2886227'}, {u'AssemblyAccVer': 'GCF_000001405.25', u'ChrAccVer': 'NT_167247.1', u'AnnotationRelease': '105', u'ChrStop': '2925818', u'ChrStart': '2923049'}, {u'AssemblyAccVer': 'GCF_000001405.25', u'ChrAccVer': 'NT_167248.1', u'AnnotationRelease': '105', u'ChrStop': '2839752', u'ChrStart': '2836981'}, {u'AssemblyAccVer': 'GCF_000001405.25', u'ChrAccVer': 'NT_167249.1', u'AnnotationRelease': '105', u'ChrStop': '2876913', u'ChrStart': '2874144'}, {u'AssemblyAccVer': 'GCF_000002125.1', u'ChrAccVer': 'AC_000138.1', u'AnnotationRelease': '105', u'ChrStop': '31332846', u'ChrStart': '31330077'}, {u'AssemblyAccVer': 'GCF_000306695.2', u'ChrAccVer': 'NC_018917.2', u'AnnotationRelease': '105', u'ChrStop': '31548244', u'ChrStart': '31545475'}, {u'AssemblyAccVer': 'GCF_000001405.22', u'ChrAccVer': 'NC_000006.11', u'AnnotationRelease': '104', u'ChrStop': '31546112', u'ChrStart': '31543343'}, {u'AssemblyAccVer': 'GCF_000001405.22', u'ChrAccVer': 'NT_113891.2', u'AnnotationRelease': '104', u'ChrStop': '3055728', u'ChrStart': '3052959'}, {u'AssemblyAccVer': 'GCF_000001405.22', u'ChrAccVer': 'NT_167244.1', u'AnnotationRelease': '104', u'ChrStop': '2860830', u'ChrStart': '2859023'}, {u'AssemblyAccVer': 'GCF_000001405.22', u'ChrAccVer': 'NT_167245.1', u'AnnotationRelease': '104', u'ChrStop': '2831653', u'ChrStart': '2828884'}, {u'AssemblyAccVer': 'GCF_000001405.22', u'ChrAccVer': 'NT_167246.1', u'AnnotationRelease': '104', u'ChrStop': '2888996', u'ChrStart': '2886227'}, {u'AssemblyAccVer': 'GCF_000001405.22', u'ChrAccVer': 'NT_167247.1', u'AnnotationRelease': '104', u'ChrStop': '2925818', u'ChrStart': '2923049'}, {u'AssemblyAccVer': 'GCF_000001405.22', u'ChrAccVer': 'NT_167248.1', u'AnnotationRelease': '104', u'ChrStop': '2839752', u'ChrStart': '2836981'}, {u'AssemblyAccVer': 'GCF_000001405.22', u'ChrAccVer': 'NT_167249.1', u'AnnotationRelease': '104', u'ChrStop': '2876913', u'ChrStart': '2874144'}, {u'AssemblyAccVer': 'GCF_000002125.1', u'ChrAccVer': 'AC_000138.1', u'AnnotationRelease': '104', u'ChrStop': '31332846', u'ChrStart': '31330077'}, {u'AssemblyAccVer': 'GCF_000306695.1', u'ChrAccVer': 'NC_018917.1', u'AnnotationRelease': '104', u'ChrStop': '31463064', u'ChrStart': '31460295'}, {u'AssemblyAccVer': 'GCF_000001405.21', u'ChrAccVer': 'NC_000006.11', u'AnnotationRelease': '103', u'ChrStop': '31546112', u'ChrStart': '31543343'}, {u'AssemblyAccVer': 'GCF_000001405.21', u'ChrAccVer': 'NT_113891.2', u'AnnotationRelease': '103', u'ChrStop': '3055728', u'ChrStart': '3052959'}, {u'AssemblyAccVer': 'GCF_000001405.21', u'ChrAccVer': 'NT_167244.1', u'AnnotationRelease': '103', u'ChrStop': '2860830', u'ChrStart': '2859023'}, {u'AssemblyAccVer': 'GCF_000001405.21', u'ChrAccVer': 'NT_167245.1', u'AnnotationRelease': '103', u'ChrStop': '2831653', u'ChrStart': '2828884'}, {u'AssemblyAccVer': 'GCF_000001405.21', u'ChrAccVer': 'NT_167246.1', u'AnnotationRelease': '103', u'ChrStop': '2888996', u'ChrStart': '2886227'}, {u'AssemblyAccVer': 'GCF_000001405.21', u'ChrAccVer': 'NT_167247.1', u'AnnotationRelease': '103', u'ChrStop': '2925818', u'ChrStart': '2923049'}, {u'AssemblyAccVer': 'GCF_000001405.21', u'ChrAccVer': 'NT_167248.1', u'AnnotationRelease': '103', u'ChrStop': '2839752', u'ChrStart': '2836981'}, {u'AssemblyAccVer': 'GCF_000001405.21', u'ChrAccVer': 'NT_167249.1', u'AnnotationRelease': '103', u'ChrStop': '2876913', u'ChrStart': '2874144'}, {u'AssemblyAccVer': 'GCF_000002125.1', u'ChrAccVer': 'AC_000138.1', u'AnnotationRelease': '103', u'ChrStop': '31332846', u'ChrStart': '31330077'}, {u'AssemblyAccVer': 'GCF_000001405.17', u'ChrAccVer': 'NC_000006.11', u'AnnotationRelease': '37.3', u'ChrStop': '31546111', u'ChrStart': '31543349'}, {u'AssemblyAccVer': 'GCF_000001405.17', u'ChrAccVer': 'NT_113891.2', u'AnnotationRelease': '37.3', u'ChrStop': '3055727', u'ChrStart': '3052965'}, {u'AssemblyAccVer': 'GCF_000001405.17', u'ChrAccVer': 'NT_167244.1', u'AnnotationRelease': '37.3', u'ChrStop': '2860829', u'ChrStart': '2859023'}, {u'AssemblyAccVer': 'GCF_000001405.17', u'ChrAccVer': 'NT_167245.1', u'AnnotationRelease': '37.3', u'ChrStop': '2831652', u'ChrStart': '2828890'}, {u'AssemblyAccVer': 'GCF_000001405.17', u'ChrAccVer': 'NT_167246.1', u'AnnotationRelease': '37.3', u'ChrStop': '2888995', u'ChrStart': '2886233'}, {u'AssemblyAccVer': 'GCF_000001405.17', u'ChrAccVer': 'NT_167247.1', u'AnnotationRelease': '37.3', u'ChrStop': '2925817', u'ChrStart': '2923055'}, {u'AssemblyAccVer': 'GCF_000001405.17', u'ChrAccVer': 'NT_167248.1', u'AnnotationRelease': '37.3', u'ChrStop': '2839751', u'ChrStart': '2836987'}, {u'AssemblyAccVer': 'GCF_000001405.17', u'ChrAccVer': 'NT_167249.1', u'AnnotationRelease': '37.3', u'ChrStop': '2876912', u'ChrStart': '2874150'}, {u'AssemblyAccVer': 'GCF_000002125.1', u'ChrAccVer': 'AC_000138.1', u'AnnotationRelease': '37.3', u'ChrStop': '31332845', u'ChrStart': '31330083'}, {u'AssemblyAccVer': 'GCF_000001405.14', u'ChrAccVer': 'NC_000006.11', u'AnnotationRelease': '37.2', u'ChrStop': '31546111', u'ChrStart': '31543349'}, {u'AssemblyAccVer': 'GCF_000001405.14', u'ChrAccVer': 'NT_113891.2', u'AnnotationRelease': '37.2', u'ChrStop': '3055727', u'ChrStart': '3052965'}, {u'AssemblyAccVer': 'GCF_000001405.14', u'ChrAccVer': 'NT_167244.1', u'AnnotationRelease': '37.2', u'ChrStop': '2860829', u'ChrStart': '2859261'}, {u'AssemblyAccVer': 'GCF_000001405.14', u'ChrAccVer': 'NT_167245.1', u'AnnotationRelease': '37.2', u'ChrStop': '2831652', u'ChrStart': '2828890'}, {u'AssemblyAccVer': 'GCF_000001405.14', u'ChrAccVer': 'NT_167246.1', u'AnnotationRelease': '37.2', u'ChrStop': '2888995', u'ChrStart': '2886233'}, {u'AssemblyAccVer': 'GCF_000001405.14', u'ChrAccVer': 'NT_167247.1', u'AnnotationRelease': '37.2', u'ChrStop': '2925817', u'ChrStart': '2923055'}, {u'AssemblyAccVer': 'GCF_000001405.14', u'ChrAccVer': 'NT_167248.1', u'AnnotationRelease': '37.2', u'ChrStop': '2839751', u'ChrStart': '2836987'}, {u'AssemblyAccVer': 'GCF_000001405.14', u'ChrAccVer': 'NT_167249.1', u'AnnotationRelease': '37.2', u'ChrStop': '2876912', u'ChrStart': '2874150'}, {u'AssemblyAccVer': 'GCF_000002115.2', u'ChrAccVer': 'AC_000049.1', u'AnnotationRelease': '37.2', u'ChrStop': '33144326', u'ChrStart': '33141564'}, {u'AssemblyAccVer': 'GCF_000002125.1', u'ChrAccVer': 'AC_000138.1', u'AnnotationRelease': '37.2', u'ChrStop': '31332845', u'ChrStart': '31330083'}, {u'AssemblyAccVer': 'GCF_000001405.13', u'ChrAccVer': 'NC_000006.11', u'AnnotationRelease': '37.1', u'ChrStop': '31546111', u'ChrStart': '31543349'}, {u'AssemblyAccVer': 'GCF_000001405.13', u'ChrAccVer': 'NT_113891.2', u'AnnotationRelease': '37.1', u'ChrStop': '3055727', u'ChrStart': '3052965'}, {u'AssemblyAccVer': 'GCF_000001405.13', u'ChrAccVer': 'NT_167244.1', u'AnnotationRelease': '37.1', u'ChrStop': '2860829', u'ChrStart': '2859261'}, {u'AssemblyAccVer': 'GCF_000001405.13', u'ChrAccVer': 'NT_167245.1', u'AnnotationRelease': '37.1', u'ChrStop': '2831652', u'ChrStart': '2828890'}, {u'AssemblyAccVer': 'GCF_000001405.13', u'ChrAccVer': 'NT_167246.1', u'AnnotationRelease': '37.1', u'ChrStop': '2888995', u'ChrStart': '2886233'}, {u'AssemblyAccVer': 'GCF_000001405.13', u'ChrAccVer': 'NT_167247.1', u'AnnotationRelease': '37.1', u'ChrStop': '2925817', u'ChrStart': '2923055'}, {u'AssemblyAccVer': 'GCF_000001405.13', u'ChrAccVer': 'NT_167248.1', u'AnnotationRelease': '37.1', u'ChrStop': '2839751', u'ChrStart': '2836987'}, {u'AssemblyAccVer': 'GCF_000001405.13', u'ChrAccVer': 'NT_167249.1', u'AnnotationRelease': '37.1', u'ChrStop': '2876912', u'ChrStart': '2874150'}, {u'AssemblyAccVer': 'GCF_000002115.2', u'ChrAccVer': 'AC_000049.1', u'AnnotationRelease': '37.1', u'ChrStop': '33144326', u'ChrStart': '33141564'}, {u'AssemblyAccVer': 'GCF_000002125.1', u'ChrAccVer': 'AC_000138.1', u'AnnotationRelease': '37.1', u'ChrStop': '31332845', u'ChrStart': '31330083'}, {u'AssemblyAccVer': 'GCF_000001405.12', u'ChrAccVer': 'NC_000006.10', u'AnnotationRelease': '36.3', u'ChrStop': '31654090', u'ChrStart': '31651328'}, {u'AssemblyAccVer': 'GCF_000002115.2', u'ChrAccVer': 'AC_000049.1', u'AnnotationRelease': '36.3', u'ChrStop': '33144326', u'ChrStart': '33141564'}, {u'AssemblyAccVer': 'GCF_000002125.1', u'ChrAccVer': 'AC_000138.1', u'AnnotationRelease': '36.3', u'ChrStop': '31332845', u'ChrStart': '31330083'}, {u'AssemblyAccVer': 'GCF_000001405.12', u'ChrAccVer': 'NT_113891.1', u'AnnotationRelease': '36.3', u'ChrStop': '2992234', u'ChrStart': '2989472'}, {u'AssemblyAccVer': 'GCF_000001405.12', u'ChrAccVer': 'NT_113894.1', u'AnnotationRelease': '36.3', u'ChrStop': '107687', u'ChrStart': '104923'}], u'Organism': {u'CommonName': 'human', u'ScientificName': 'Homo sapiens', u'TaxID': '9606'}, u'NomenclatureStatus': 'Official', u'Chromosome': '6', u'Description': 'tumor necrosis factor'}, attributes={u'uid': u'7124'})]}, attributes={u'status': u'OK'})}\n"
     ]
    }
   ],
   "source": [
    "#Use Entrez esummary to retrieve the record for the first id in the list \n",
    "summary = Entrez.esummary(db=db, id=res_ids[0])\n",
    "\n",
    "#Read the summary \n",
    "gene_summary = Entrez.read(summary)\n",
    "\n",
    "#and print it out\n",
    "print (gene_summary)"
   ]
  },
  {
   "cell_type": "markdown",
   "metadata": {},
   "source": [
    "Q1: Name three data types you see in the printed output of gene_summary."
   ]
  },
  {
   "cell_type": "raw",
   "metadata": {},
   "source": [
    "organism, taxID, tumor necrosis factor, and description"
   ]
  },
  {
   "cell_type": "markdown",
   "metadata": {},
   "source": [
    "##### 3. Analyze the results."
   ]
  },
  {
   "cell_type": "code",
   "execution_count": 4,
   "metadata": {
    "collapsed": false
   },
   "outputs": [
    {
     "name": "stdout",
     "output_type": "stream",
     "text": [
      "Name: TNF\n",
      "Description: tumor necrosis factor\n",
      "Organism: {u'CommonName': 'human', u'ScientificName': 'Homo sapiens', u'TaxID': '9606'}\n",
      "Summary: This gene encodes a multifunctional proinflammatory cytokine that belongs to the tumor necrosis factor (TNF) superfamily. This cytokine is mainly secreted by macrophages. It can bind to, and thus functions through its receptors TNFRSF1A/TNFR1 and TNFRSF1B/TNFBR. This cytokine is involved in the regulation of a wide spectrum of biological processes including cell proliferation, differentiation, apoptosis, lipid metabolism, and coagulation. This cytokine has been implicated in a variety of diseases, including autoimmune diseases, insulin resistance, and cancer. Knockout studies in mice also suggested the neuroprotective function of this cytokine. [provided by RefSeq, Jul 2008]\n",
      "OtherAliases: DIF, TNF-alpha, TNFA, TNFSF2, TNLG1F\n",
      "\n",
      "\n",
      "Name: IL6\n",
      "Description: interleukin 6\n",
      "Organism: {u'CommonName': 'human', u'ScientificName': 'Homo sapiens', u'TaxID': '9606'}\n",
      "Summary: This gene encodes a cytokine that functions in inflammation and the maturation of B cells. In addition, the encoded protein has been shown to be an endogenous pyrogen capable of inducing fever in people with autoimmune diseases or infections. The protein is primarily produced at sites of acute and chronic inflammation, where it is secreted into the serum and induces a transcriptional inflammatory response through interleukin 6 receptor, alpha. The functioning of this gene is implicated in a wide variety of inflammation-associated disease states, including suspectibility to diabetes mellitus and systemic juvenile rheumatoid arthritis. Alternative splicing results in multiple transcript variants. [provided by RefSeq, Dec 2015]\n",
      "OtherAliases: BSF-2, BSF2, CDF, HGF, HSF, IFN-beta-2, IFNB2, IL-6\n",
      "\n",
      "\n",
      "Name: TGFB1\n",
      "Description: transforming growth factor beta 1\n",
      "Organism: {u'CommonName': 'human', u'ScientificName': 'Homo sapiens', u'TaxID': '9606'}\n",
      "Summary: This gene encodes a member of the transforming growth factor beta (TGFB) family of cytokines, which are multifunctional peptides that regulate proliferation, differentiation, adhesion, migration, and other functions in many cell types. Many cells have TGFB receptors, and the protein positively and negatively regulates many other growth factors. The secreted protein is cleaved into a latency-associated peptide (LAP) and a mature TGFB1 peptide, and is found in either a latent form composed of a TGFB1 homodimer, a LAP homodimer, and a latent TGFB1-binding protein, or in an active form composed of a TGFB1 homodimer. The mature peptide may also form heterodimers with other TGFB family members. This gene is frequently upregulated in tumor cells, and mutations in this gene result in Camurati-Engelmann disease.[provided by RefSeq, Oct 2009]\n",
      "OtherAliases: CED, DPD1, LAP, TGFB, TGFbeta\n",
      "\n",
      "\n",
      "Name: ACE\n",
      "Description: angiotensin I converting enzyme\n",
      "Organism: {u'CommonName': 'human', u'ScientificName': 'Homo sapiens', u'TaxID': '9606'}\n",
      "Summary: This gene encodes an enzyme involved in catalyzing the conversion of angiotensin I into a physiologically active peptide angiotensin II. Angiotensin II is a potent vasopressor and aldosterone-stimulating peptide that controls blood pressure and fluid-electrolyte balance. This enzyme plays a key role in the renin-angiotensin system. Many studies have associated the presence or absence of a 287 bp Alu repeat element in this gene with the levels of circulating enzyme or cardiovascular pathophysiologies. Multiple alternatively spliced transcript variants encoding different isoforms have been identified, and two most abundant spliced variants encode the somatic form and the testicular form, respectively, that are equally active. [provided by RefSeq, May 2010]\n",
      "OtherAliases: ACE1, CD143, DCP, DCP1, ICH, MVCD3\n",
      "\n",
      "\n",
      "Name: IL10\n",
      "Description: interleukin 10\n",
      "Organism: {u'CommonName': 'human', u'ScientificName': 'Homo sapiens', u'TaxID': '9606'}\n",
      "Summary: The protein encoded by this gene is a cytokine produced primarily by monocytes and to a lesser extent by lymphocytes. This cytokine has pleiotropic effects in immunoregulation and inflammation. It down-regulates the expression of Th1 cytokines, MHC class II Ags, and costimulatory molecules on macrophages. It also enhances B cell survival, proliferation, and antibody production. This cytokine can block NF-kappa B activity, and is involved in the regulation of the JAK-STAT signaling pathway. Knockout studies in mice suggested the function of this cytokine as an essential immunoregulator in the intestinal tract. Mutations in this gene are associated with an increased susceptibility to HIV-1 infection and rheumatoid arthritis.[provided by RefSeq, May 2011]\n",
      "OtherAliases: CSIF, GVHDS, IL-10, IL10A, TGIF\n",
      "\n",
      "\n",
      "Name: HIF1A\n",
      "Description: hypoxia inducible factor 1 alpha subunit\n",
      "Organism: {u'CommonName': 'human', u'ScientificName': 'Homo sapiens', u'TaxID': '9606'}\n",
      "Summary: This gene encodes the alpha subunit of transcription factor hypoxia-inducible factor-1 (HIF-1), which is a heterodimer composed of an alpha and a beta subunit. HIF-1 functions as a master regulator of cellular and systemic homeostatic response to hypoxia by activating transcription of many genes, including those involved in energy metabolism, angiogenesis, apoptosis, and other genes whose protein products increase oxygen delivery or facilitate metabolic adaptation to hypoxia. HIF-1 thus plays an essential role in embryonic vascularization, tumor angiogenesis and pathophysiology of ischemic disease. Alternatively spliced transcript variants encoding different isoforms have been identified for this gene. [provided by RefSeq, Jul 2011]\n",
      "OtherAliases: HIF-1-alpha, HIF-1A, HIF-1alpha, HIF1, HIF1-ALPHA, MOP1, PASD8, bHLHe78\n",
      "\n",
      "\n",
      "Name: Tnf\n",
      "Description: tumor necrosis factor\n",
      "Organism: {u'CommonName': 'house mouse', u'ScientificName': 'Mus musculus', u'TaxID': '10090'}\n",
      "Summary: This gene encodes a multifunctional proinflammatory cytokine that belongs to the tumor necrosis factor (TNF) superfamily. Members of this family are classified based on primary sequence, function, and structure. This protein is synthesized as a type-II transmembrane protein and is reported to be cleaved into products that exert distinct biological functions. It plays an important role in the innate immune response as well as regulating homeostasis but is also implicated in diseases of chronic inflammation. In mouse deficiency of this gene is associated with defects in response to bacterial infection, with defects in forming organized follicular dendritic cell networks and germinal centers, and with a lack of primary B cell follicles. Alternative splicing results in multiple transcript variants. [provided by RefSeq, Jun 2013]\n",
      "OtherAliases: DIF, TNF-a, TNF-alpha, TNFSF2, TNFalpha, Tnfa, Tnfsf1a, Tnlg1f\n",
      "\n",
      "\n",
      "Name: NFKB1\n",
      "Description: nuclear factor of kappa light polypeptide gene enhancer in B-cells 1\n",
      "Organism: {u'CommonName': 'human', u'ScientificName': 'Homo sapiens', u'TaxID': '9606'}\n",
      "Summary: This gene encodes a 105 kD protein which can undergo cotranslational processing by the 26S proteasome to produce a 50 kD protein. The 105 kD protein is a Rel protein-specific transcription inhibitor and the 50 kD protein is a DNA binding subunit of the NF-kappa-B (NFKB) protein complex. NFKB is a transcription regulator that is activated by various intra- and extra-cellular stimuli such as cytokines, oxidant-free radicals, ultraviolet irradiation, and bacterial or viral products. Activated NFKB translocates into the nucleus and stimulates the expression of genes involved in a wide variety of biological functions. Inappropriate activation of NFKB has been associated with a number of inflammatory diseases while persistent inhibition of NFKB leads to inappropriate immune cell development or delayed cell growth. Alternative splicing results in multiple transcript variants encoding different isoforms, at least one of which is proteolytically processed. [provided by RefSeq, Feb 2016]\n",
      "OtherAliases: CVID12, EBP-1, KBF1, NF-kB1, NF-kappa-B, NF-kappaB, NFKB-p105, NFKB-p50, NFkappaB, p105, p50\n",
      "\n",
      "\n",
      "Name: PTGS2\n",
      "Description: prostaglandin-endoperoxide synthase 2\n",
      "Organism: {u'CommonName': 'human', u'ScientificName': 'Homo sapiens', u'TaxID': '9606'}\n",
      "Summary: Prostaglandin-endoperoxide synthase (PTGS), also known as cyclooxygenase, is the key enzyme in prostaglandin biosynthesis, and acts both as a dioxygenase and as a peroxidase. There are two isozymes of PTGS: a constitutive PTGS1 and an inducible PTGS2, which differ in their regulation of expression and tissue distribution. This gene encodes the inducible isozyme. It is regulated by specific stimulatory events, suggesting that it is responsible for the prostanoid biosynthesis involved in inflammation and mitogenesis. [provided by RefSeq, Feb 2009]\n",
      "OtherAliases: COX-2, COX2, GRIPGHS, PGG/HS, PGHS-2, PHS-2, hCox-2\n",
      "\n",
      "\n",
      "Name: ABCB1\n",
      "Description: ATP binding cassette subfamily B member 1\n",
      "Organism: {u'CommonName': 'human', u'ScientificName': 'Homo sapiens', u'TaxID': '9606'}\n",
      "Summary: The membrane-associated protein encoded by this gene is a member of the superfamily of ATP-binding cassette (ABC) transporters. ABC proteins transport various molecules across extra- and intra-cellular membranes. ABC genes are divided into seven distinct subfamilies (ABC1, MDR/TAP, MRP, ALD, OABP, GCN20, White). This protein is a member of the MDR/TAP subfamily. Members of the MDR/TAP subfamily are involved in multidrug resistance. The protein encoded by this gene is an ATP-dependent drug efflux pump for xenobiotic compounds with broad substrate specificity. It is responsible for decreased drug accumulation in multidrug-resistant cells and often mediates the development of resistance to anticancer drugs. This protein also functions as a transporter in the blood-brain barrier. [provided by RefSeq, Jul 2008]\n",
      "OtherAliases: ABC20, CD243, CLCS, GP170, MDR1, P-GP, PGY1\n",
      "\n",
      "\n",
      "Name: MMP9\n",
      "Description: matrix metallopeptidase 9\n",
      "Organism: {u'CommonName': 'human', u'ScientificName': 'Homo sapiens', u'TaxID': '9606'}\n",
      "Summary: Proteins of the matrix metalloproteinase (MMP) family are involved in the breakdown of extracellular matrix in normal physiological processes, such as embryonic development, reproduction, and tissue remodeling, as well as in disease processes, such as arthritis and metastasis. Most MMP's are secreted as inactive proproteins which are activated when cleaved by extracellular proteinases. The enzyme encoded by this gene degrades type IV and V collagens. Studies in rhesus monkeys suggest that the enzyme is involved in IL-8-induced mobilization of hematopoietic progenitor cells from bone marrow, and murine studies suggest a role in tumor-associated tissue remodeling. [provided by RefSeq, Jul 2008]\n",
      "OtherAliases: CLG4B, GELB, MANDP2, MMP-9\n",
      "\n",
      "\n",
      "Name: Tlr4\n",
      "Description: toll-like receptor 4\n",
      "Organism: {u'CommonName': 'house mouse', u'ScientificName': 'Mus musculus', u'TaxID': '10090'}\n",
      "Summary: This gene belongs to the evolutionarily-conserved Toll-like receptor family, whose members are type-1 transmembrane proteins that are involved in innate immunity. Toll-like receptors are characterized by an extracellular leucine-rich repeat domain that functions in ligand recognition and an intracellular toll/interleukin-1 receptor-like domain that is crucial for signal transduction. The receptor encoded by this gene mediates the innate immune response to bacterial lipopolysaccharide, a major component of the outer membrane of Gram-negative bacteria, through synthesis of pro-inflammatory cytokines and chemokines. In addition, this protein can recognize other pathogens from Gram-negative and Gram-positive bacteria as well as viral components. Mice deficient in this gene display a number of immune response-related phenotypes including hyporesponsiveness to bacterial lipopolysaccharide and increased levels of respiratory syncytial virus compared to controls. [provided by RefSeq, Sep 2015]\n",
      "OtherAliases: Lps, Ly87, Ran/M1, Rasl2-8\n",
      "\n",
      "\n",
      "Name: IL1B\n",
      "Description: interleukin 1 beta\n",
      "Organism: {u'CommonName': 'human', u'ScientificName': 'Homo sapiens', u'TaxID': '9606'}\n",
      "Summary: The protein encoded by this gene is a member of the interleukin 1 cytokine family. This cytokine is produced by activated macrophages as a proprotein, which is proteolytically processed to its active form by caspase 1 (CASP1/ICE). This cytokine is an important mediator of the inflammatory response, and is involved in a variety of cellular activities, including cell proliferation, differentiation, and apoptosis. The induction of cyclooxygenase-2 (PTGS2/COX2) by this cytokine in the central nervous system (CNS) is found to contribute to inflammatory pain hypersensitivity. This gene and eight other interleukin 1 family genes form a cytokine gene cluster on chromosome 2. [provided by RefSeq, Jul 2008]\n",
      "OtherAliases: IL-1, IL1-BETA, IL1F2\n",
      "\n",
      "\n",
      "Name: AKT1\n",
      "Description: v-akt murine thymoma viral oncogene homolog 1\n",
      "Organism: {u'CommonName': 'human', u'ScientificName': 'Homo sapiens', u'TaxID': '9606'}\n",
      "Summary: The serine-threonine protein kinase encoded by the AKT1 gene is catalytically inactive in serum-starved primary and immortalized fibroblasts. AKT1 and the related AKT2 are activated by platelet-derived growth factor. The activation is rapid and specific, and it is abrogated by mutations in the pleckstrin homology domain of AKT1. It was shown that the activation occurs through phosphatidylinositol 3-kinase. In the developing nervous system AKT is a critical mediator of growth factor-induced neuronal survival. Survival factors can suppress apoptosis in a transcription-independent manner by activating the serine/threonine kinase AKT1, which then phosphorylates and inactivates components of the apoptotic machinery. Mutations in this gene have been associated with the Proteus syndrome. Multiple alternatively spliced transcript variants have been found for this gene. [provided by RefSeq, Jul 2011]\n",
      "OtherAliases: AKT, CWS6, PKB, PKB-ALPHA, PRKBA, RAC, RAC-ALPHA\n",
      "\n",
      "\n",
      "Name: VDR\n",
      "Description: vitamin D (1,25- dihydroxyvitamin D3) receptor\n",
      "Organism: {u'CommonName': 'human', u'ScientificName': 'Homo sapiens', u'TaxID': '9606'}\n",
      "Summary: This gene encodes the nuclear hormone receptor for vitamin D3. This receptor also functions as a receptor for the secondary bile acid lithocholic acid. The receptor belongs to the family of trans-acting transcriptional regulatory factors and shows sequence similarity to the steroid and thyroid hormone receptors. Downstream targets of this nuclear hormone receptor are principally involved in mineral metabolism though the receptor regulates a variety of other metabolic pathways, such as those involved in the immune response and cancer. Mutations in this gene are associated with type II vitamin D-resistant rickets. A single nucleotide polymorphism in the initiation codon results in an alternate translation start site three codons downstream. Alternative splicing results in multiple transcript variants encoding different proteins. [provided by RefSeq, Feb 2011]\n",
      "OtherAliases: NR1I1, PPP1R163\n",
      "\n",
      "\n",
      "Name: CFTR\n",
      "Description: cystic fibrosis transmembrane conductance regulator\n",
      "Organism: {u'CommonName': 'human', u'ScientificName': 'Homo sapiens', u'TaxID': '9606'}\n",
      "Summary: This gene encodes a member of the ATP-binding cassette (ABC) transporter superfamily. ABC proteins transport various molecules across extra- and intra-cellular membranes. ABC genes are divided into seven distinct subfamilies (ABC1, MDR/TAP, MRP, ALD, OABP, GCN20, White). This protein is a member of the MRP subfamily that is involved in multi-drug resistance. The encoded protein functions as a chloride channel and controls the regulation of other transport pathways. Mutations in this gene are associated with the autosomal recessive disorders cystic fibrosis and congenital bilateral aplasia of the vas deferens. Alternatively spliced transcript variants have been described, many of which result from mutations in this gene. [provided by RefSeq, Jul 2008]\n",
      "OtherAliases: ABC35, ABCC7, CF, CFTR/MRP, MRP7, TNR-CFTR, dJ760C5.1\n",
      "\n",
      "\n",
      "Name: PPARG\n",
      "Description: peroxisome proliferator activated receptor gamma\n",
      "Organism: {u'CommonName': 'human', u'ScientificName': 'Homo sapiens', u'TaxID': '9606'}\n",
      "Summary: This gene encodes a member of the peroxisome proliferator-activated receptor (PPAR) subfamily of nuclear receptors. PPARs form heterodimers with retinoid X receptors (RXRs) and these heterodimers regulate transcription of various genes. Three subtypes of PPARs are known: PPAR-alpha, PPAR-delta, and PPAR-gamma. The protein encoded by this gene is PPAR-gamma and is a regulator of adipocyte differentiation. Additionally, PPAR-gamma has been implicated in the pathology of numerous diseases including obesity, diabetes, atherosclerosis and cancer. Alternatively spliced transcript variants that encode different isoforms have been described. [provided by RefSeq, Jul 2008]\n",
      "OtherAliases: CIMT1, GLM1, NR1C3, PPARG1, PPARG2, PPARgamma\n",
      "\n",
      "\n",
      "Name: TLR4\n",
      "Description: toll like receptor 4\n",
      "Organism: {u'CommonName': 'human', u'ScientificName': 'Homo sapiens', u'TaxID': '9606'}\n",
      "Summary: The protein encoded by this gene is a member of the Toll-like receptor (TLR) family which plays a fundamental role in pathogen recognition and activation of innate immunity. TLRs are highly conserved from Drosophila to humans and share structural and functional similarities. They recognize pathogen-associated molecular patterns that are expressed on infectious agents, and mediate the production of cytokines necessary for the development of effective immunity. The various TLRs exhibit different patterns of expression. This receptor has been implicated in signal transduction events induced by lipopolysaccharide (LPS) found in most gram-negative bacteria. Mutations in this gene have been associated with differences in LPS responsiveness. Multiple transcript variants encoding different isoforms have been found for this gene. [provided by RefSeq, Jan 2012]\n",
      "OtherAliases: ARMD10, CD284, TLR-4, TOLL\n",
      "\n",
      "\n",
      "Name: CXCL8\n",
      "Description: C-X-C motif chemokine ligand 8\n",
      "Organism: {u'CommonName': 'human', u'ScientificName': 'Homo sapiens', u'TaxID': '9606'}\n",
      "Summary: The protein encoded by this gene is a member of the CXC chemokine family. This chemokine is one of the major mediators of the inflammatory response. This chemokine is secreted by several cell types. It functions as a chemoattractant, and is also a potent angiogenic factor. This gene is believed to play a role in the pathogenesis of bronchiolitis, a common respiratory tract disease caused by viral infection. This gene and other ten members of the CXC chemokine gene family form a chemokine gene cluster in a region mapped to chromosome 4q. [provided by RefSeq, Jul 2008]\n",
      "OtherAliases: GCP-1, GCP1, IL8, LECT, LUCT, LYNAP, MDNCF, MONAP, NAF, NAP-1, NAP1\n",
      "\n",
      "\n",
      "Name: STAT3\n",
      "Description: signal transducer and activator of transcription 3 (acute-phase response factor)\n",
      "Organism: {u'CommonName': 'human', u'ScientificName': 'Homo sapiens', u'TaxID': '9606'}\n",
      "Summary: The protein encoded by this gene is a member of the STAT protein family. In response to cytokines and growth factors, STAT family members are phosphorylated by the receptor associated kinases, and then form homo- or heterodimers that translocate to the cell nucleus where they act as transcription activators. This protein is activated through phosphorylation in response to various cytokines and growth factors including IFNs, EGF, IL5, IL6, HGF, LIF and BMP2. This protein mediates the expression of a variety of genes in response to cell stimuli, and thus plays a key role in many cellular processes such as cell growth and apoptosis. The small GTPase Rac1 has been shown to bind and regulate the activity of this protein. PIAS3 protein is a specific inhibitor of this protein. Mutations in this gene are associated with infantile-onset multisystem autoimmune disease and hyper-immunoglobulin E syndrome. Alternative splicing results in multiple transcript variants encoding distinct isoforms. [provided by RefSeq, Sep 2015]\n",
      "OtherAliases: ADMIO, APRF, HIES\n",
      "\n",
      "\n"
     ]
    }
   ],
   "source": [
    "for r_id in res_ids: #loop over pubmed IDs\n",
    "    summary = Entrez.esummary(db=db, id=r_id) #retrieve summary of document\n",
    "    gene_read = Entrez.read (summary)#use biopython to parse the summary\n",
    "    gene_summary = gene_read ['DocumentSummarySet'] ['DocumentSummary']\n",
    "    \n",
    "    #print gene_summary[0]\n",
    "    print (\"Name:\", gene_summary[0]['Name'])\n",
    "    print (\"Description:\", gene_summary[0]['Description']) \n",
    "    print (\"Organism:\", gene_summary[0]['Organism'])\n",
    "    print (\"Summary:\", gene_summary[0]['Summary'])\n",
    "    print (\"OtherAliases:\",  gene_summary[0]['OtherAliases'])\n",
    "    print ('\\n')"
   ]
  },
  {
   "cell_type": "markdown",
   "metadata": {},
   "source": [
    "Let's quantify the success of our query using true and false positive terminology.  \n",
    "Talk with your team and decide how you will categorize the results as true and false positives. Write your definitions below."
   ]
  },
  {
   "cell_type": "raw",
   "metadata": {},
   "source": [
    "A result is a true positive if the hits are about cystic fibrosis\n",
    "A result is a false positive if the hits is not about cystic fibrosis "
   ]
  },
  {
   "cell_type": "markdown",
   "metadata": {},
   "source": [
    "Use a for loop to sort through the genes returned by your query. \n",
    "Assign the genes into true and false positive lists based on your criteria.\n",
    "Remember that Python considers the case of a string when checking equality.\n",
    "Hint - you can convert both the query and the subject to a lower case string using str.lower(\"YourString\")"
   ]
  },
  {
   "cell_type": "code",
   "execution_count": 5,
   "metadata": {
    "collapsed": false
   },
   "outputs": [],
   "source": [
    "true_positive = []\n",
    "false_positive = []\n",
    "for r_id in res_ids: #loop over pubmed IDs\n",
    "    summary = Entrez.esummary(db=db, id=r_id) #retrieve summary of document\n",
    "    gene_read = Entrez.read(summary) #use biopython to parse the summary\n",
    "    gene_summary = gene_read ['DocumentSummarySet'] ['DocumentSummary']\n",
    "    \n",
    "    #use an if statement to define the true positive classification, remember that Python considers the case of the string used \n",
    "    if \"cystic fibrosis\" in str.lower(gene_summary[0]['Summary']):\n",
    "       \n",
    "        #if the condition is met add the record to the true positive list\n",
    "        true_positive.append(gene_summary)\n",
    "    \n",
    "    #if the condition is NOT met add the record to the false positive list\n",
    "    else:\n",
    "        false_positive.append(gene_summary) \n"
   ]
  },
  {
   "cell_type": "markdown",
   "metadata": {},
   "source": [
    "Q2: Why didn't we include any if statments for true or false negatives?"
   ]
  },
  {
   "cell_type": "raw",
   "metadata": {},
   "source": [
    " the question did not ask for any negatives."
   ]
  },
  {
   "cell_type": "code",
   "execution_count": 6,
   "metadata": {
    "collapsed": false
   },
   "outputs": [
    {
     "name": "stdout",
     "output_type": "stream",
     "text": [
      "true positives: 1\n",
      "false positive: 19\n"
     ]
    }
   ],
   "source": [
    "#print out a statement describing how many of the results were true/false positives\n",
    "print \"true positives:\", len (true_positive) \n",
    "print \"false positive:\", len (false_positive)\n"
   ]
  },
  {
   "cell_type": "code",
   "execution_count": 7,
   "metadata": {
    "collapsed": false
   },
   "outputs": [
    {
     "name": "stdout",
     "output_type": "stream",
     "text": [
      "[DictElement({u'Status': '0', u'NomenclatureSymbol': 'CFTR', u'OtherDesignations': 'cAMP-dependent chloride channel|channel conductance-controlling ATPase|cystic fibrosis transmembrane conductance regulator (ATP-binding cassette sub-family C, member 7)', u'Mim': ['602421'], u'Name': 'CFTR', u'NomenclatureName': 'cystic fibrosis transmembrane conductance regulator', u'CurrentID': '0', u'GenomicInfo': [{u'ChrAccVer': 'NC_000007.14', u'ChrLoc': '7', u'ExonCount': '33', u'ChrStop': '117668664', u'ChrStart': '117478339'}], u'OtherAliases': 'ABC35, ABCC7, CF, CFTR/MRP, MRP7, TNR-CFTR, dJ760C5.1', u'Summary': 'This gene encodes a member of the ATP-binding cassette (ABC) transporter superfamily. ABC proteins transport various molecules across extra- and intra-cellular membranes. ABC genes are divided into seven distinct subfamilies (ABC1, MDR/TAP, MRP, ALD, OABP, GCN20, White). This protein is a member of the MRP subfamily that is involved in multi-drug resistance. The encoded protein functions as a chloride channel and controls the regulation of other transport pathways. Mutations in this gene are associated with the autosomal recessive disorders cystic fibrosis and congenital bilateral aplasia of the vas deferens. Alternatively spliced transcript variants have been described, many of which result from mutations in this gene. [provided by RefSeq, Jul 2008]', u'GeneWeight': '230905', u'GeneticSource': 'genomic', u'MapLocation': '7q31.2', u'ChrSort': '07', u'ChrStart': '117478339', u'LocationHist': [{u'AssemblyAccVer': 'GCF_000001405.28', u'ChrAccVer': 'NC_000007.14', u'AnnotationRelease': '107', u'ChrStop': '117668664', u'ChrStart': '117478339'}, {u'AssemblyAccVer': 'GCF_000306695.2', u'ChrAccVer': 'NC_018918.2', u'AnnotationRelease': '107', u'ChrStop': '117242162', u'ChrStart': '117053368'}, {u'AssemblyAccVer': 'GCF_000001405.26', u'ChrAccVer': 'NC_000007.14', u'AnnotationRelease': '106', u'ChrStop': '117668664', u'ChrStart': '117470771'}, {u'AssemblyAccVer': 'GCF_000002125.1', u'ChrAccVer': 'AC_000139.1', u'AnnotationRelease': '106', u'ChrStop': '111674188', u'ChrStart': '111485639'}, {u'AssemblyAccVer': 'GCF_000306695.2', u'ChrAccVer': 'NC_018918.2', u'AnnotationRelease': '106', u'ChrStop': '117242162', u'ChrStart': '117053368'}, {u'AssemblyAccVer': 'GCF_000001405.25', u'ChrAccVer': 'NC_000007.13', u'AnnotationRelease': '105', u'ChrStop': '117308718', u'ChrStart': '117120016'}, {u'AssemblyAccVer': 'GCF_000002135.2', u'ChrAccVer': 'AC_000068.1', u'AnnotationRelease': '105', u'ChrStop': '116704153', u'ChrStart': '116515450'}, {u'AssemblyAccVer': 'GCF_000002125.1', u'ChrAccVer': 'AC_000139.1', u'AnnotationRelease': '105', u'ChrStop': '111674188', u'ChrStart': '111485639'}, {u'AssemblyAccVer': 'GCF_000306695.2', u'ChrAccVer': 'NC_018918.2', u'AnnotationRelease': '105', u'ChrStop': '117242162', u'ChrStart': '117053368'}, {u'AssemblyAccVer': 'GCF_000001405.22', u'ChrAccVer': 'NC_000007.13', u'AnnotationRelease': '104', u'ChrStop': '117308718', u'ChrStart': '117120016'}, {u'AssemblyAccVer': 'GCF_000002135.2', u'ChrAccVer': 'AC_000068.1', u'AnnotationRelease': '104', u'ChrStop': '116704153', u'ChrStart': '116515450'}, {u'AssemblyAccVer': 'GCF_000002125.1', u'ChrAccVer': 'AC_000139.1', u'AnnotationRelease': '104', u'ChrStop': '111674188', u'ChrStart': '111485639'}, {u'AssemblyAccVer': 'GCF_000306695.1', u'ChrAccVer': 'NC_018918.1', u'AnnotationRelease': '104', u'ChrStop': '120660326', u'ChrStart': '120471600'}, {u'AssemblyAccVer': 'GCF_000001405.21', u'ChrAccVer': 'NC_000007.13', u'AnnotationRelease': '103', u'ChrStop': '117308718', u'ChrStart': '117120016'}, {u'AssemblyAccVer': 'GCF_000002135.2', u'ChrAccVer': 'AC_000068.1', u'AnnotationRelease': '103', u'ChrStop': '116704153', u'ChrStart': '116515450'}, {u'AssemblyAccVer': 'GCF_000002125.1', u'ChrAccVer': 'AC_000139.1', u'AnnotationRelease': '103', u'ChrStop': '111674188', u'ChrStart': '111485639'}, {u'AssemblyAccVer': 'GCF_000001405.17', u'ChrAccVer': 'NC_000007.13', u'AnnotationRelease': '37.3', u'ChrStop': '117308718', u'ChrStart': '117120016'}, {u'AssemblyAccVer': 'GCF_000002135.2', u'ChrAccVer': 'AC_000068.1', u'AnnotationRelease': '37.3', u'ChrStop': '116704153', u'ChrStart': '116515450'}, {u'AssemblyAccVer': 'GCF_000002125.1', u'ChrAccVer': 'AC_000139.1', u'AnnotationRelease': '37.3', u'ChrStop': '111674188', u'ChrStart': '111485639'}, {u'AssemblyAccVer': 'GCF_000001405.14', u'ChrAccVer': 'NC_000007.13', u'AnnotationRelease': '37.2', u'ChrStop': '117308718', u'ChrStart': '117120016'}, {u'AssemblyAccVer': 'GCF_000002115.2', u'ChrAccVer': 'AC_000050.1', u'AnnotationRelease': '37.2', u'ChrStop': '112116894', u'ChrStart': '111928195'}, {u'AssemblyAccVer': 'GCF_000002135.2', u'ChrAccVer': 'AC_000068.1', u'AnnotationRelease': '37.2', u'ChrStop': '116704153', u'ChrStart': '116515450'}, {u'AssemblyAccVer': 'GCF_000002125.1', u'ChrAccVer': 'AC_000139.1', u'AnnotationRelease': '37.2', u'ChrStop': '111674188', u'ChrStart': '111485639'}, {u'AssemblyAccVer': 'GCF_000001405.13', u'ChrAccVer': 'NC_000007.13', u'AnnotationRelease': '37.1', u'ChrStop': '117308718', u'ChrStart': '117120016'}, {u'AssemblyAccVer': 'GCF_000002115.2', u'ChrAccVer': 'AC_000050.1', u'AnnotationRelease': '37.1', u'ChrStop': '112116894', u'ChrStart': '111928195'}, {u'AssemblyAccVer': 'GCF_000002135.2', u'ChrAccVer': 'AC_000068.1', u'AnnotationRelease': '37.1', u'ChrStop': '116704153', u'ChrStart': '116515450'}, {u'AssemblyAccVer': 'GCF_000002125.1', u'ChrAccVer': 'AC_000139.1', u'AnnotationRelease': '37.1', u'ChrStop': '111674188', u'ChrStart': '111485639'}, {u'AssemblyAccVer': 'GCF_000001405.12', u'ChrAccVer': 'NC_000007.12', u'AnnotationRelease': '36.3', u'ChrStop': '117095954', u'ChrStart': '116907252'}, {u'AssemblyAccVer': 'GCF_000002115.2', u'ChrAccVer': 'AC_000050.1', u'AnnotationRelease': '36.3', u'ChrStop': '112116894', u'ChrStart': '111928195'}, {u'AssemblyAccVer': 'GCF_000002135.2', u'ChrAccVer': 'AC_000068.1', u'AnnotationRelease': '36.3', u'ChrStop': '116704153', u'ChrStart': '116515450'}, {u'AssemblyAccVer': 'GCF_000002125.1', u'ChrAccVer': 'AC_000139.1', u'AnnotationRelease': '36.3', u'ChrStop': '111674188', u'ChrStart': '111485639'}], u'Organism': {u'CommonName': 'human', u'ScientificName': 'Homo sapiens', u'TaxID': '9606'}, u'NomenclatureStatus': 'Official', u'Chromosome': '7', u'Description': 'cystic fibrosis transmembrane conductance regulator'}, attributes={u'uid': u'1080'})] \n",
      "\n"
     ]
    }
   ],
   "source": [
    "#Write a for loop to check if the gene cystic fibrosis transmembrane conductance regulator, \n",
    "#abbreviated \"CFTR\", was classified as a true positive and print out all the information about CFTR if it was found..\n",
    "#if so, print out all of the information on the gene\n",
    "for gene in true_positive:\n",
    "    if gene[0] ['Name'] == \"CFTR\":\n",
    "        print gene, \"\\n\""
   ]
  },
  {
   "cell_type": "markdown",
   "metadata": {},
   "source": [
    "### 2. Craft a PubMed query to return journal articles about CFTR."
   ]
  },
  {
   "cell_type": "markdown",
   "metadata": {},
   "source": [
    "Your goal in this section is to retrieve articles (either journal or review articels) about the cystic fibrosis transmembrane conductance regulator gene (\"CFTR\")."
   ]
  },
  {
   "cell_type": "markdown",
   "metadata": {},
   "source": [
    "The code in the following cell is complete - simply execute and observe."
   ]
  },
  {
   "cell_type": "code",
   "execution_count": 8,
   "metadata": {
    "collapsed": false
   },
   "outputs": [
    {
     "name": "stdout",
     "output_type": "stream",
     "text": [
      "['27035618', '27034411', '27033560', '27031658', '27030675', '27017198', '27007499', '27004488', '26993289', '26989463', '26976279', '26973296', '26968770', '26968005', '26965147', '26962591', '26950439', '26939393', '26935091', '26930426']\n"
     ]
    }
   ],
   "source": [
    "#This is the database we want to search\n",
    "db = \"pubmed\"\n",
    "\n",
    "#This is the query\n",
    "query = \"cystic fibrosis transmembrane conductance regulator\"\n",
    "\n",
    "#We'll use the function Entrez.esearch to search the pubmed database with our query\n",
    "h_search =  Entrez.esearch(db=db, term=query) #tell Entrez what database we want to search, who we are, \n",
    "\n",
    "record = Entrez.read(h_search)\n",
    "\n",
    "ids = record[\"IdList\"] #save the list of ids returned by our query to res_ids\n",
    "\n",
    "print ids #print the list of ids"
   ]
  },
  {
   "cell_type": "markdown",
   "metadata": {},
   "source": [
    "How many records were returned? \n",
    "\n",
    "Don't count them yourself, write code below to find out!"
   ]
  },
  {
   "cell_type": "code",
   "execution_count": 9,
   "metadata": {
    "collapsed": false
   },
   "outputs": [
    {
     "name": "stdout",
     "output_type": "stream",
     "text": [
      "number of pubs: 20\n"
     ]
    }
   ],
   "source": [
    "print\"number of pubs:\", len(ids)\n"
   ]
  },
  {
   "cell_type": "markdown",
   "metadata": {},
   "source": [
    "The code in the following cell is complete - simply execute and observe."
   ]
  },
  {
   "cell_type": "code",
   "execution_count": 10,
   "metadata": {
    "collapsed": false
   },
   "outputs": [
    {
     "name": "stdout",
     "output_type": "stream",
     "text": [
      "{'DOI': '10.1038/cdd.2016.22', 'Title': 'A novel treatment of cystic fibrosis acting on-target: cysteamine plus epigallocatechin gallate for the autophagy-dependent rescue of class II-mutated CFTR.', 'Source': 'Cell Death Differ', 'PmcRefCount': 0, 'Issue': '', 'SO': '2016 Apr 1;', 'ISSN': '1350-9047', 'Volume': '', 'FullJournalName': 'Cell death and differentiation', 'RecordStatus': 'PubMed - as supplied by publisher', 'ESSN': '1476-5403', 'ELocationID': 'doi: 10.1038/cdd.2016.22', 'Pages': '', 'PubStatus': 'aheadofprint', 'AuthorList': ['Tosco A', 'De Gregorio F', 'Esposito S', 'De Stefano D', 'Sana I', 'Ferrari E', 'Sepe A', 'Salvadori L', 'Buonpensiero P', 'Di Pasqua A', 'Grassia R', 'Leone CA', 'Guido S', 'De Rosa G', 'Lusa S', 'Bona G', 'Stoll G', 'Maiuri MC', 'Mehta A', 'Kroemer G', 'Maiuri L', 'Raia V'], 'EPubDate': '2016 Apr 1', 'PubDate': '2016 Apr 1', 'NlmUniqueID': '9437445', 'LastAuthor': 'Raia V', 'ArticleIds': {'pii': 'cdd201622', 'medline': [], 'pubmed': ['27035618'], 'eid': '27035618', 'rid': '27035618', 'doi': '10.1038/cdd.2016.22'}, u'Item': [], 'History': {'received': '2015/11/25 00:00', 'medline': ['2016/04/02 06:00'], 'revised': '2016/01/25 00:00', 'pubmed': ['2016/04/02 06:00'], 'accepted': '2016/01/27 00:00', 'entrez': '2016/04/02 06:00'}, 'LangList': ['English'], 'HasAbstract': 1, 'References': [], 'PubTypeList': ['Journal Article'], u'Id': '27035618'}\n"
     ]
    }
   ],
   "source": [
    "#Use Entrez esummary to retrieve the record for the *first id* in the list \n",
    "summ = Entrez.esummary(db=db, id=ids[0])\n",
    "\n",
    "#Read the summary and print it out\n",
    "pub_summary = Entrez.read(summ)[0]\n",
    "print pub_summary"
   ]
  },
  {
   "cell_type": "markdown",
   "metadata": {},
   "source": [
    "Q3: What part of the code in the previous cell (copy and paste it below), limited the results to the record corresponding to the *first* id in the list?"
   ]
  },
  {
   "cell_type": "raw",
   "metadata": {},
   "source": [
    " using zero ids=ids[0]"
   ]
  },
  {
   "cell_type": "markdown",
   "metadata": {},
   "source": [
    "Q4: Modify the code in the following cell so that it prints out the record for the **3rd** id in the list."
   ]
  },
  {
   "cell_type": "code",
   "execution_count": 11,
   "metadata": {
    "collapsed": false
   },
   "outputs": [
    {
     "name": "stdout",
     "output_type": "stream",
     "text": [
      "{'DOI': '10.1007/s00125-016-3936-1', 'Title': 'Islet-intrinsic effects of CFTR mutation.', 'Source': 'Diabetologia', 'PmcRefCount': 0, 'Issue': '', 'SO': '2016 Mar 31;', 'ISSN': '0012-186X', 'Volume': '', 'FullJournalName': 'Diabetologia', 'RecordStatus': 'PubMed - as supplied by publisher', 'ESSN': '1432-0428', 'ELocationID': '', 'Pages': '', 'PubStatus': 'aheadofprint', 'AuthorList': ['Koivula FN', 'McClenaghan NH', 'Harper AG', 'Kelly C'], 'EPubDate': '2016 Mar 31', 'PubDate': '2016 Mar 31', 'NlmUniqueID': '0006777', 'LastAuthor': 'Kelly C', 'ArticleIds': {'pii': '10.1007/s00125-016-3936-1', 'medline': [], 'pubmed': ['27033560'], 'eid': '27033560', 'rid': '27033560', 'doi': '10.1007/s00125-016-3936-1'}, u'Item': [], 'History': {'received': '2016/01/19 00:00', 'medline': ['2016/04/02 06:00'], 'pubmed': ['2016/04/02 06:00'], 'aheadofprint': '2016/03/31 00:00', 'accepted': '2016/02/26 00:00', 'entrez': '2016/04/02 06:00'}, 'LangList': ['English'], 'HasAbstract': 1, 'References': [], 'PubTypeList': ['Journal Article', 'Review'], u'Id': '27033560'}\n"
     ]
    }
   ],
   "source": [
    "#Use Entrez esummary to retrieve the record for the *third id* in the list \n",
    "summ = Entrez.esummary(db=db, id=ids[2])\n",
    "\n",
    "#Read the summary and print it out\n",
    "pub_summary = Entrez.read(summ)[0]\n",
    "print pub_summary"
   ]
  },
  {
   "cell_type": "code",
   "execution_count": 12,
   "metadata": {
    "collapsed": false
   },
   "outputs": [
    {
     "name": "stdout",
     "output_type": "stream",
     "text": [
      "['DOI', 'Title', 'Source', 'PmcRefCount', 'Issue', 'SO', 'ISSN', 'Volume', 'FullJournalName', 'RecordStatus', 'ESSN', 'ELocationID', 'Pages', 'PubStatus', 'AuthorList', 'EPubDate', 'PubDate', 'NlmUniqueID', 'LastAuthor', 'ArticleIds', u'Item', 'History', 'LangList', 'HasAbstract', 'References', 'PubTypeList', u'Id']\n"
     ]
    }
   ],
   "source": [
    "#print out a list of the elements in the record pub_summary\n",
    "#hint use .keys()\n",
    "print pub_summary.keys()\n"
   ]
  },
  {
   "cell_type": "markdown",
   "metadata": {},
   "source": [
    "NCBI's PubMed database contains both primary and secondary research articles. Write a for loop to count the number of primary research articles ('Journal Article') and secondary research articles ('Review').   \n",
    "This information is contained in pub_summary[0]['PubTypeList']."
   ]
  },
  {
   "cell_type": "code",
   "execution_count": 13,
   "metadata": {
    "collapsed": false
   },
   "outputs": [
    {
     "name": "stdout",
     "output_type": "stream",
     "text": [
      "['Journal Article']\n",
      "['Journal Article']\n",
      "['Journal Article', 'Review']\n",
      "['Journal Article']\n",
      "['Journal Article', 'Review']\n",
      "['Journal Article']\n",
      "['Journal Article']\n",
      "['Journal Article']\n",
      "['Journal Article']\n",
      "['Journal Article', 'Review']\n",
      "['Journal Article', 'Review']\n",
      "['Journal Article', 'Review']\n",
      "['Journal Article']\n",
      "['Journal Article']\n",
      "['Journal Article']\n",
      "['Review']\n",
      "['Journal Article']\n",
      "['Journal Article']\n",
      "['Journal Article']\n",
      "['Journal Article']\n",
      "Number of primary research articles: 14\n",
      "Number of review articles: 6\n"
     ]
    }
   ],
   "source": [
    "count_journal = 0\n",
    "count_review = 0\n",
    "\n",
    "for id in ids: #loop over pubmed IDs\n",
    "    #print \"id:\",id\n",
    " \n",
    "    summary = Entrez.esummary(db=\"pubmed\", id=id) #retrieve summary of document\n",
    "    pub_summary = Entrez.read(summary)#use biopython to parse the summary\n",
    "    \n",
    "    print pub_summary[0]['PubTypeList']\n",
    " \n",
    "    #ask if 'Review' is in pub_summary[0]['PubTypeList']\n",
    "    if 'Review' in pub_summary[0]['PubTypeList']:\n",
    "        #if so increase the value of count_review by one\n",
    "         count_review += 1\n",
    "            \n",
    "    #ask if 'Journal Article' is in pub_summary[0]['PubTypeList'] \n",
    "    elif 'Journal Article' in pub_summary[0]['PubTypeList']:\n",
    "        #if so increase the value of count_review by one\n",
    "         count_journal += 1\n",
    "    \n",
    "print \"Number of primary research articles:\", count_journal\n",
    "print \"Number of review articles:\", count_review"
   ]
  },
  {
   "cell_type": "code",
   "execution_count": 14,
   "metadata": {
    "collapsed": false
   },
   "outputs": [
    {
     "name": "stdout",
     "output_type": "stream",
     "text": [
      "Title: A novel treatment of cystic fibrosis acting on-target: cysteamine plus epigallocatechin gallate for the autophagy-dependent rescue of class II-mutated CFTR.\n",
      "Title: Modeling Cystic Fibrosis Using Pluripotent Stem Cell-Derived Human Pancreatic Ductal Epithelial Cells.\n",
      "Title: Islet-intrinsic effects of CFTR mutation.\n",
      "Title: Cystic fibrosis: a model system for precision medicine.\n",
      "Title: New and emerging targeted therapies for cystic fibrosis.\n",
      "Title: Novel CFTR Mutations in Two Iranian Families with Severe Cystic Fibrosis.\n",
      "Title: Robust Stimulation of W1282X-CFTR Channel Activity by a Combination of Allosteric Modulators.\n",
      "Title: Effects of Helicobacter pylori Infection on the Expressions and Functional Activities of Human Duodenal Mucosal Bicarbonate Transport Proteins.\n",
      "Title: Staphylococcus aureus and Pseudomonas aeruginosa co-infection is associated with cystic fibrosis-related diabetes and poor clinical outcomes.\n",
      "Title: Emerging role of cystic fibrosis transmembrane conductance regulator - an epithelial chloride channel in gastrointestinal cancers.\n",
      "Title: Manipulating proteostasis to repair the F508del-CFTR defect in cystic fibrosis.\n",
      "Title: Neonatal Gastrointestinal and Respiratory Microbiome in Cystic Fibrosis: Potential Interactions and Implications for Systemic Health.\n",
      "Title: Combination Therapy with Cystic Fibrosis Transmembrane Conductance Regulator Modulators Augment the Airway Functional Microanatomy.\n",
      "Title: A safety evaluation of ivacaftor for the treatment of cystic fibrosis.\n",
      "Title: The adenosine A<sub>2B</sub> receptor is involved in anion secretion in human pancreatic duct Capan-1 epithelial cells.\n",
      "Title: \n",
      "Title: Role of Interaction and Nucleoside Diphosphate Kinase B in Regulation of the Cystic Fibrosis Transmembrane Conductance Regulator Function by cAMP-Dependent Protein Kinase A.\n",
      "Title: [Impact of the CFTR chloride channel on the cytoskeleton of mouse Sertoli cells].\n",
      "Title: Functional Expression of a Ca(2+)-activated Cl(-) Channel Modulator Involved in Ion Transport and Epithelial Cell Differentiation.\n",
      "Title: Alterations of the Nasopharyngeal Microbiota in Infants with Cystic Fibrosis. Cystic Fibrosis Transmembrane Conductance Regulator and Antibiotic Effects.\n"
     ]
    }
   ],
   "source": [
    "#Generate a list of the titles of the publications\n",
    "title_list = []\n",
    "for id in ids: #loop over pubmed IDs\n",
    "    summary = Entrez.esummary(db=db, id=id) #retrieve summary of document\n",
    "    pub_summary = Entrez.read(summary) #use biopython to parse the summary\n",
    "    #print the title and a new line '\\n' for readability\n",
    "    \n",
    "    print \"Title:\", pub_summary[0]['Title'] \n",
    "    \n",
    "    title_list.append(pub_summary[0]['Title'])#add the title to the list title_list"
   ]
  },
  {
   "cell_type": "markdown",
   "metadata": {},
   "source": [
    "**Based on the titles of your results** - quantify the success of your query using true and false positive terminology.  \n",
    "Talk with your team and decide how you will categorize the results as true and false positives. Write your definitions below."
   ]
  },
  {
   "cell_type": "raw",
   "metadata": {},
   "source": [
    "A result is a true positive if its about the gene CFTR\n",
    "A result is a false positive if it doesn't "
   ]
  },
  {
   "cell_type": "code",
   "execution_count": 15,
   "metadata": {
    "collapsed": false
   },
   "outputs": [
    {
     "name": "stdout",
     "output_type": "stream",
     "text": [
      "Title: Chlorpromazine metabolism VIII: blood levels of chlorpromazine and its sulfoxide in schizophrenic patients.\n",
      "Title: Chlorpromazine metabolism VIII: blood levels of chlorpromazine and its sulfoxide in schizophrenic patients.\n",
      "Title: Chlorpromazine metabolism VIII: blood levels of chlorpromazine and its sulfoxide in schizophrenic patients.\n",
      "Title: Chlorpromazine metabolism VIII: blood levels of chlorpromazine and its sulfoxide in schizophrenic patients.\n",
      "Title: Chlorpromazine metabolism VIII: blood levels of chlorpromazine and its sulfoxide in schizophrenic patients.\n",
      "Title: Chlorpromazine metabolism VIII: blood levels of chlorpromazine and its sulfoxide in schizophrenic patients.\n",
      "Title: Chlorpromazine metabolism VIII: blood levels of chlorpromazine and its sulfoxide in schizophrenic patients.\n",
      "Title: Chlorpromazine metabolism VIII: blood levels of chlorpromazine and its sulfoxide in schizophrenic patients.\n",
      "Title: Chlorpromazine metabolism VIII: blood levels of chlorpromazine and its sulfoxide in schizophrenic patients.\n",
      "Title: Chlorpromazine metabolism VIII: blood levels of chlorpromazine and its sulfoxide in schizophrenic patients.\n",
      "Title: Chlorpromazine metabolism VIII: blood levels of chlorpromazine and its sulfoxide in schizophrenic patients.\n",
      "Title: Chlorpromazine metabolism VIII: blood levels of chlorpromazine and its sulfoxide in schizophrenic patients.\n",
      "Title: Chlorpromazine metabolism VIII: blood levels of chlorpromazine and its sulfoxide in schizophrenic patients.\n",
      "Title: Chlorpromazine metabolism VIII: blood levels of chlorpromazine and its sulfoxide in schizophrenic patients.\n",
      "Title: Chlorpromazine metabolism VIII: blood levels of chlorpromazine and its sulfoxide in schizophrenic patients.\n",
      "Title: Chlorpromazine metabolism VIII: blood levels of chlorpromazine and its sulfoxide in schizophrenic patients.\n",
      "Title: Chlorpromazine metabolism VIII: blood levels of chlorpromazine and its sulfoxide in schizophrenic patients.\n",
      "Title: Chlorpromazine metabolism VIII: blood levels of chlorpromazine and its sulfoxide in schizophrenic patients.\n",
      "Title: Chlorpromazine metabolism VIII: blood levels of chlorpromazine and its sulfoxide in schizophrenic patients.\n",
      "Title: Chlorpromazine metabolism VIII: blood levels of chlorpromazine and its sulfoxide in schizophrenic patients.\n"
     ]
    }
   ],
   "source": [
    "#Use a for loop to sort through the journal articles returned by your query. \n",
    "#Assign the titles into true and false positive lists based on your criteria.\n",
    "#Remember that Python considers the case of a string when checking equality.\n",
    "#Hint - you can convert both the query and the subject to a lower case string using str.lower(\"YourString\")\n",
    "\n",
    "true_positive = [] #an empty list to contain the titles of the true positives\n",
    "false_positive = [] #an empty list to contain the title of the false positives\n",
    "#loop through the elements of title_list\n",
    "for id in ids: #loop over pubmed IDs\n",
    "    summary = Entrez.esummary(db=db, id=r_id) #retrieve summary of document\n",
    "    pub_summary = Entrez.read(summary) #use biopython to parse the summary\n",
    "    #print the title and a new line '\\n' for readability\n",
    "    title = pub_summary[0] ['Title']\n",
    "    print \"Title:\", title\n",
    "     \n",
    "    \n",
    "    #use an if statement to define the true positive classification, remember that Python considers the case of the string use\n",
    "    \n",
    "    #if the condition is met add the title to the true positive list\n",
    "    #else add the title to the list of false positives"
   ]
  },
  {
   "cell_type": "code",
   "execution_count": 16,
   "metadata": {
    "collapsed": false
   },
   "outputs": [],
   "source": [
    "#print out a statement describing how many of the results were true/false positives\n"
   ]
  },
  {
   "cell_type": "markdown",
   "metadata": {},
   "source": [
    "#### That's all folks!!! Save and download your notebook, then upload it to Blackboard."
   ]
  }
 ],
 "metadata": {
  "kernelspec": {
   "display_name": "Python 2",
   "language": "python",
   "name": "python2"
  },
  "language_info": {
   "codemirror_mode": {
    "name": "ipython",
    "version": 2
   },
   "file_extension": ".py",
   "mimetype": "text/x-python",
   "name": "python",
   "nbconvert_exporter": "python",
   "pygments_lexer": "ipython2",
   "version": "2.7.13"
  }
 },
 "nbformat": 4,
 "nbformat_minor": 0
}
