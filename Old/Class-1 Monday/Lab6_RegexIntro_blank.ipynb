{
 "metadata": {
  "name": ""
 },
 "nbformat": 3,
 "nbformat_minor": 0,
 "worksheets": [
  {
   "cells": [
    {
     "cell_type": "heading",
     "level": 2,
     "metadata": {},
     "source": [
      "Lab 6: Introduction to Regular Expressions"
     ]
    },
    {
     "cell_type": "heading",
     "level": 4,
     "metadata": {},
     "source": [
      "Q0: What's your name?"
     ]
    },
    {
     "cell_type": "raw",
     "metadata": {},
     "source": []
    },
    {
     "cell_type": "markdown",
     "metadata": {},
     "source": [
      "Regular expressions are a very powerful method for finding and retrieving matches to a text query. We can find matches to a pattern even when we don't know the exact characters used (example later).   \n",
      "\n",
      "We'll go through some regular expression, \"regex\", exercises today. A very useful resource on writing regular expressions in Python can be found here: https://docs.python.org/2/library/re.html. \n",
      "\n",
      "For example, the regular expression below searches for the string \"bag\" in the string \"cabbage\"."
     ]
    },
    {
     "cell_type": "code",
     "collapsed": false,
     "input": [
      "import re # import the library containing all the regular expression code\n",
      "\n",
      "print re.search(, )"
     ],
     "language": "python",
     "metadata": {},
     "outputs": [],
     "prompt_number": 1
    },
    {
     "cell_type": "markdown",
     "metadata": {},
     "source": [
      "This returns: <_sre.SRE_Match object at somejunk>\n",
      "\n",
      "But what is this? It is a \"MatchObject instance\", but we doing care what that is and it is not obviously telling us anything interesting (more on that in a minute). It is telling us that there is a match, though.\n",
      "\n",
      "Test what happens when the string \"cabbage\" does not contain a match."
     ]
    },
    {
     "cell_type": "code",
     "collapsed": false,
     "input": [
      "print re.search(, )"
     ],
     "language": "python",
     "metadata": {},
     "outputs": [],
     "prompt_number": 2
    },
    {
     "cell_type": "markdown",
     "metadata": {},
     "source": [
      "Ok, so what we really want to know is, if there is a match, where does it occur within the string we're searching?   \n",
      "To find out where the match starts within the string we use .start(); to find out where the match ends we use .end()\n",
      "\n",
      "For example:"
     ]
    },
    {
     "cell_type": "code",
     "collapsed": false,
     "input": [],
     "language": "python",
     "metadata": {},
     "outputs": [],
     "prompt_number": 2
    },
    {
     "cell_type": "markdown",
     "metadata": {},
     "source": [
      "Test if the slice of cabbage from 3 to 6 is equal to \"bag\"."
     ]
    },
    {
     "cell_type": "code",
     "collapsed": false,
     "input": [],
     "language": "python",
     "metadata": {},
     "outputs": [],
     "prompt_number": 2
    },
    {
     "cell_type": "markdown",
     "metadata": {},
     "source": [
      "That's a pretty simple case - regular expressions can do so much more. What if we don't know what exact characters we're looking for or how many of them there are?  \n",
      "\n",
      "For example, what if we have a large nucleotide sequence and want to identify recognition sites of the restriction enzyme AlfI . . . \n",
      "\n",
      "The recognition sequence of AlfI is GCAN6TGC. This means that enzyme recognizes GCA followed by any 6 nucleotides then TGC. Remember from the probability lab that the number of combinations of 4 the nucleotides in a X base fragment is 4^X. So there are 4096 possible combintions of the recognition sequence of AlfI . . . way too many to search for by hand.  \n",
      "\n",
      "Regualar expressions to the rescue! Regular expressions have some \"special characters\" - characters which have special meaning within a search string. Some helpful ones include:   \n",
      "\n",
      ". matches any character except for a newline   \n",
      "\n",
      "[  ] which defines a character set. For example the nucleotide character set would be [ACTG], which will match any one member of that set: A or C or T or G.\n",
      "\n",
      "{#} which defines the number of times the preceeding regular expression must be repeated. For example, A{5} would find a match to five As in a row (AAAAA) but not four (AAAA) or six (AAAAAA).\n",
      "\n",
      "If we combine these special characters with what we know about the ApoI recognition sequence - we come up with the query string 'GCA.{6}TGC'. We know the first three letters of the recognition sequence so we start with GCA then there are six unknown nucleotides represented by .{6} which means match any six characters. "
     ]
    },
    {
     "cell_type": "code",
     "collapsed": false,
     "input": [
      "test_DNA = \"AATCGTCGGGCACGTAGCTGCCGCTCGGAAAAGAGACGTC\""
     ],
     "language": "python",
     "metadata": {},
     "outputs": [],
     "prompt_number": 5
    },
    {
     "cell_type": "code",
     "collapsed": false,
     "input": [
      "find_ApoI = re.search() # use the regular expression \"GCA.{6}TGC\" to search test_DNA\n",
      "print find_ApoI.start() # find the start position of the hit find_ApoI\n",
      "print find_ApoI.end() # find the end position of the hit find_ApoI\n",
      "print # use the start and end positions to return the slice of test_DNA matching the regular expression"
     ],
     "language": "python",
     "metadata": {},
     "outputs": [],
     "prompt_number": 3
    },
    {
     "cell_type": "code",
     "collapsed": false,
     "input": [],
     "language": "python",
     "metadata": {},
     "outputs": []
    },
    {
     "cell_type": "markdown",
     "metadata": {},
     "source": [
      "But we have a problem - the regular expression \"GCA.{6}TGC\" would match GCA123456TGC or GCA!@##$%TGC or GCAAATCGGTGC or GCAIHEARTTGC. We can make this search more specific by limiting matches to characters commonly used in nucleotide abbreviations, see below. "
     ]
    },
    {
     "cell_type": "markdown",
     "metadata": {},
     "source": [
      "So what if we want to restrict matches of the six unknown nucleotdes in the ApoI recognition sequence to standard nucleotide abbreviations?  \n",
      "\n",
      "Instead of allowing matches to any, non-newline character define a character set for the nucleotides and replace the . in the previous regular expression with the character set.\n",
      "See http://www.genome.jp/kegg/catalog/codes1.html for a list of the standard nucleotide abbreviations."
     ]
    },
    {
     "cell_type": "code",
     "collapsed": false,
     "input": [],
     "language": "python",
     "metadata": {},
     "outputs": []
    },
    {
     "cell_type": "markdown",
     "metadata": {},
     "source": [
      "Let's do one more example - this time let's look for the recognition sequence for AosII, GRCGYC. Notice the R and the Y. R represents a purine, so either A or G in this position would be recognized by this enzyme. Y represents a pyrimidine, the enzyme would recognize either a C or T in this position.   \n",
      "\n",
      "Using character sets to represent R and Y, let's write a regular expression to search for AosII's recognition sequence."
     ]
    },
    {
     "cell_type": "code",
     "collapsed": false,
     "input": [],
     "language": "python",
     "metadata": {},
     "outputs": []
    },
    {
     "cell_type": "markdown",
     "metadata": {},
     "source": [
      "That's all folks! \n",
      "Please save your notebook upload the notebook to Blackboard."
     ]
    }
   ],
   "metadata": {}
  }
 ]
}