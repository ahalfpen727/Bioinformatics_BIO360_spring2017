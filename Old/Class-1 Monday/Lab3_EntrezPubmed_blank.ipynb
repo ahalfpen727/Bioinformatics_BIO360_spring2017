{
 "cells": [
  {
   "cell_type": "markdown",
   "metadata": {},
   "source": [
    "## Lab 3: Database Searching Using Biopython"
   ]
  },
  {
   "cell_type": "markdown",
   "metadata": {},
   "source": [
    "#### Enter your name below."
   ]
  },
  {
   "cell_type": "raw",
   "metadata": {},
   "source": []
  },
  {
   "cell_type": "markdown",
   "metadata": {},
   "source": [
    "### Part 1: Search NCBI's Gene database for genes involved in cystic fibrosis."
   ]
  },
  {
   "cell_type": "markdown",
   "metadata": {},
   "source": [
    "Your goal in this section is to use NCBI's Gene database to identify genes involved in cystic fibrosis in humans."
   ]
  },
  {
   "cell_type": "markdown",
   "metadata": {},
   "source": [
    "##### 1. Load the Biopython module \"Entrez\", enter your email address, then execute."
   ]
  },
  {
   "cell_type": "code",
   "execution_count": 1,
   "metadata": {
    "collapsed": true
   },
   "outputs": [],
   "source": [
    "from Bio import Entrez\n",
    "\n",
    "#Tell NCBI who you are\n",
    "Entrez.email = \"\""
   ]
  },
  {
   "cell_type": "markdown",
   "metadata": {},
   "source": [
    "##### 2. Generate query and execute the search."
   ]
  },
  {
   "cell_type": "code",
   "execution_count": 1,
   "metadata": {
    "collapsed": false
   },
   "outputs": [
    {
     "ename": "SyntaxError",
     "evalue": "Missing parentheses in call to 'print' (<ipython-input-1-af612ead37c4>, line 13)",
     "output_type": "error",
     "traceback": [
      "\u001b[1;36m  File \u001b[1;32m\"<ipython-input-1-af612ead37c4>\"\u001b[1;36m, line \u001b[1;32m13\u001b[0m\n\u001b[1;33m    print res_ids\u001b[0m\n\u001b[1;37m                ^\u001b[0m\n\u001b[1;31mSyntaxError\u001b[0m\u001b[1;31m:\u001b[0m Missing parentheses in call to 'print'\n"
     ]
    }
   ],
   "source": [
    "db = \"gene\" #This is the database we want to search\n",
    "\n",
    "query = \"cystic fibrosis\" #This is the query\n",
    "\n",
    "#We'll use the function Entrez.esearch to search the pubmed database with our query\n",
    "h_search =  Entrez.esearch(db=db, term=query) #tell Entrez what database we want to search, who we are, and what we want to look for\n",
    "\n",
    "record = Entrez.read(h_search) #read the esearch record\n",
    "\n",
    "res_ids = record[\"IdList\"] #save the list of ids returned by our query to res_ids\n",
    "\n",
    "#print the list of ids\n",
    "print res_ids"
   ]
  },
  {
   "cell_type": "code",
   "execution_count": 58,
   "metadata": {
    "collapsed": false
   },
   "outputs": [],
   "source": [
    "#Use Entrez esummary to retrieve the record for the first id in the list \n",
    "summary = Entrez.esummary(db=db, id=res_ids[0])\n",
    "\n",
    "#Read the summary \n",
    "gene_summary = Entrez.read(summary)\n",
    "\n",
    "#and print it out\n",
    "print gene_summary\n",
    "\n"
   ]
  },
  {
   "cell_type": "markdown",
   "metadata": {},
   "source": [
    "Q1: Name three data types you see in the printed output of gene_summary."
   ]
  },
  {
   "cell_type": "raw",
   "metadata": {},
   "source": []
  },
  {
   "cell_type": "markdown",
   "metadata": {},
   "source": [
    "##### 3. Analyze the results."
   ]
  },
  {
   "cell_type": "code",
   "execution_count": 61,
   "metadata": {
    "collapsed": false
   },
   "outputs": [],
   "source": [
    "for r_id in res_ids: #loop over pubmed IDs\n",
    "    summary = Entrez.esummary(db=db, id=r_id) #retrieve summary of document\n",
    "    gene_summary = Entrez.read(summary) #use biopython to parse the summary\n",
    "    #print gene_summary[0]\n",
    "    #print gene_summary[0]['Name']\n",
    "    #print gene_summary[0]['Description'] \n",
    "    #print gene_summary[0]['Orgname']\n",
    "    #print gene_summary[0]['Summary']\n",
    "    #print gene_summary[0]['OtherAliases']\n",
    "    #print '\\n'"
   ]
  },
  {
   "cell_type": "markdown",
   "metadata": {},
   "source": [
    "Let's quantify the success of our query using true and false positive terminology.  \n",
    "Talk with your team and decide how you will categorize the results as true and false positives. Write your definitions below."
   ]
  },
  {
   "cell_type": "raw",
   "metadata": {},
   "source": [
    "A result is a true positive if \n",
    "A result is a false positive if "
   ]
  },
  {
   "cell_type": "markdown",
   "metadata": {},
   "source": [
    "Use a for loop to sort through the genes returned by your query. \n",
    "Assign the genes into true and false positive lists based on your criteria.\n",
    "Remember that Python considers the case of a string when checking equality.\n",
    "Hint - you can convert both the query and the subject to a lower case string using str.lower(\"YourString\")"
   ]
  },
  {
   "cell_type": "code",
   "execution_count": 19,
   "metadata": {
    "collapsed": false
   },
   "outputs": [],
   "source": [
    "true_positive = []\n",
    "false_positive = []\n",
    "for r_id in res_ids: #loop over pubmed IDs\n",
    "    summary = Entrez.esummary(db=db, id=r_id) #retrieve summary of document\n",
    "    gene_summary = Entrez.read(summary) #use biopython to parse the summary\n",
    "    #use an if statement to define the true positive classification, remember that Python considers the case of the string used \n",
    "    #if the condition is met add the record to the true positive list\n",
    "    \n",
    "    #if the condition is NOT met add the record to the false positive list\n"
   ]
  },
  {
   "cell_type": "markdown",
   "metadata": {},
   "source": [
    "Q2: Why didn't we include any if statments for true or false negatives?"
   ]
  },
  {
   "cell_type": "raw",
   "metadata": {},
   "source": []
  },
  {
   "cell_type": "code",
   "execution_count": 62,
   "metadata": {
    "collapsed": false
   },
   "outputs": [],
   "source": [
    "#print out a statement describing how many of the results were true/false positives\n",
    "print len(true_positive), \"true positives\"\n",
    "print len(false_positive), \"false positives\""
   ]
  },
  {
   "cell_type": "code",
   "execution_count": 63,
   "metadata": {
    "collapsed": false
   },
   "outputs": [],
   "source": [
    "#Write a for loop to check if the gene cystic fibrosis transmembrane conductance regulator, \n",
    "#abbreviated \"CFTR\", was classified as a true positive and print out all the information about CFTR if it was found..\n",
    "for result in true positive:\n",
    "#if so, print out all of the information on the gene\n"
   ]
  },
  {
   "cell_type": "markdown",
   "metadata": {},
   "source": [
    "### 2. Craft a PubMed query to return journal articles about CFTR."
   ]
  },
  {
   "cell_type": "markdown",
   "metadata": {},
   "source": [
    "Your goal in this section is to retrieve articles (either journal or review articels) about the cystic fibrosis transmembrane conductance regulator gene (\"CFTR\")."
   ]
  },
  {
   "cell_type": "markdown",
   "metadata": {},
   "source": [
    "The code in the following cell is complete - simply execute and observe."
   ]
  },
  {
   "cell_type": "code",
   "execution_count": 71,
   "metadata": {
    "collapsed": false
   },
   "outputs": [],
   "source": [
    "#This is the database we want to search\n",
    "db = \"pubmed\"\n",
    "\n",
    "#This is the query\n",
    "query = \"cystic fibrosis transmembrane conductance regulator\"\n",
    "\n",
    "#We'll use the function Entrez.esearch to search the pubmed database with our query\n",
    "h_search =  Entrez.esearch(db=db, term=query) #tell Entrez what database we want to search, who we are, \n",
    "\n",
    "record = Entrez.read(h_search)\n",
    "\n",
    "ids = record[\"IdList\"] #save the list of ids returned by our query to res_ids\n",
    "\n",
    "print ids #print the list of ids"
   ]
  },
  {
   "cell_type": "markdown",
   "metadata": {},
   "source": [
    "How many records were returned? \n",
    "\n",
    "Don't count them yourself, write code below to find out!"
   ]
  },
  {
   "cell_type": "code",
   "execution_count": 65,
   "metadata": {
    "collapsed": false
   },
   "outputs": [],
   "source": [
    "print len(ids)"
   ]
  },
  {
   "cell_type": "markdown",
   "metadata": {},
   "source": [
    "The code in the following cell is complete - simply execute and observe."
   ]
  },
  {
   "cell_type": "code",
   "execution_count": 70,
   "metadata": {
    "collapsed": false
   },
   "outputs": [],
   "source": [
    "#Use Entrez esummary to retrieve the record for the *first id* in the list \n",
    "summ = Entrez.esummary(db=db, id=ids[0])\n",
    "\n",
    "#Read the summary and print it out\n",
    "pub_summary = Entrez.read(summ)[0]\n",
    "print pub_summary"
   ]
  },
  {
   "cell_type": "markdown",
   "metadata": {},
   "source": [
    "Q3: What part of the code in the previous cell (copy and paste it below), limited the results to the record corresponding to the *first* id in the list?"
   ]
  },
  {
   "cell_type": "raw",
   "metadata": {},
   "source": []
  },
  {
   "cell_type": "markdown",
   "metadata": {},
   "source": [
    "Q4: Modify the code in the following cell so that it prints out the record for the **3rd** id in the list."
   ]
  },
  {
   "cell_type": "code",
   "execution_count": null,
   "metadata": {
    "collapsed": false
   },
   "outputs": [],
   "source": [
    "#Use Entrez esummary to retrieve the record for the *third id* in the list \n",
    "summ = Entrez.esummary(db=db, id=ids[0])\n",
    "\n",
    "#Read the summary and print it out\n",
    "pub_summary = Entrez.read(summ)[0]\n",
    "print pub_summary"
   ]
  },
  {
   "cell_type": "code",
   "execution_count": 72,
   "metadata": {
    "collapsed": false
   },
   "outputs": [],
   "source": [
    "#print out a list of the elements in the record pub_summary\n",
    "#hint use .keys()\n",
    "print pub_summary.keys()"
   ]
  },
  {
   "cell_type": "markdown",
   "metadata": {},
   "source": [
    "NCBI's PubMed database contains both primary and secondary research articles. Write a for loop to count the number of primary research articles ('Journal Article') and secondary research articles ('Review').   \n",
    "This information is contained in pub_summary[0]['PubTypeList']."
   ]
  },
  {
   "cell_type": "code",
   "execution_count": 73,
   "metadata": {
    "collapsed": false
   },
   "outputs": [],
   "source": [
    "count_journal = 0\n",
    "count_review = 0\n",
    "for r_id in res_ids: #loop over pubmed IDs\n",
    "    summary = Entrez.esummary(db=db, id=r_id) #retrieve summary of document\n",
    "    pub_summary = Entrez.read(summary)#use biopython to parse the summary\n",
    "    #ask if 'Journal Article' is in pub_summary[0]['PubTypeList']\n",
    "    if 'Journal Article' in pub_summary[0]['PubTypeList']:\n",
    "    #if so increase the value of count_journal by one\n",
    "    count_journal += 1\n",
    "    #ask if 'Review' is in pub_summary[0]['PubTypeList']\n",
    "    elif 'Review' in pub_summary[0]['PubTypeList']:\n",
    "    #if so increase the value of count_review by one\n",
    "    count_review += 1\n",
    "    \n",
    "print \"Number of primary research articles:\", count_journal\n",
    "print \"Number of review articles:\", count_review"
   ]
  },
  {
   "cell_type": "code",
   "execution_count": 74,
   "metadata": {
    "collapsed": false
   },
   "outputs": [],
   "source": [
    "#Generate a list of the titles of the publications\n",
    "title_list = []\n",
    "for r_id in res_ids: #loop over pubmed IDs\n",
    "    summary = Entrez.esummary(db=db, id=r_id) #retrieve summary of document\n",
    "    try:\n",
    "        pub_summary = Entrez.read(summary) #use biopython to parse the summary\n",
    "        #print the title and a new line '\\n' for readability\n",
    "         print pub_summary[0]['Title'], '\\n'\n",
    "        #title_list.append(pub_summary[0]['Title'])#add the title to the list title_list\n",
    "    except:\n",
    "        "
   ]
  },
  {
   "cell_type": "markdown",
   "metadata": {},
   "source": [
    "**Based on the titles of your results** - quantify the success of your query using true and false positive terminology.  \n",
    "Talk with your team and decide how you will categorize the results as true and false positives. Write your definitions below."
   ]
  },
  {
   "cell_type": "raw",
   "metadata": {},
   "source": [
    "A result is a true positive if \n",
    "A result is a false positive if "
   ]
  },
  {
   "cell_type": "code",
   "execution_count": 49,
   "metadata": {
    "collapsed": false
   },
   "outputs": [],
   "source": [
    "#Use a for loop to sort through the journal articles returned by your query. \n",
    "#Assign the titles into true and false positive lists based on your criteria.\n",
    "#Remember that Python considers the case of a string when checking equality.\n",
    "#Hint - you can convert both the query and the subject to a lower case string using str.lower(\"YourString\")\n",
    "\n",
    "true_positive = [] #an empty list to contain the titles of the true positives\n",
    "false_positive = [] #an empty list to contain the title of the false positives\n",
    "#loop through the elements of title_list\n",
    "\n",
    "    #use an if statement to define the true positive classification, remember that Python considers the case of the string use\n",
    "    #if the condition is met add the title to the true positive list\n",
    "    #else add the title to the list of false positives"
   ]
  },
  {
   "cell_type": "code",
   "execution_count": 75,
   "metadata": {
    "collapsed": false
   },
   "outputs": [],
   "source": [
    "#print out a statement describing how many of the results were true/false positives\n"
   ]
  },
  {
   "cell_type": "markdown",
   "metadata": {},
   "source": [
    "#### That's all folks!!! Save and download your notebook, then upload it to Blackboard."
   ]
  }
 ],
 "metadata": {
  "kernelspec": {
   "display_name": "Python 3",
   "language": "python",
   "name": "python3"
  },
  "language_info": {
   "codemirror_mode": {
    "name": "ipython",
    "version": 3
   },
   "file_extension": ".py",
   "mimetype": "text/x-python",
   "name": "python",
   "nbconvert_exporter": "python",
   "pygments_lexer": "ipython3",
   "version": "3.5.1"
  }
 },
 "nbformat": 4,
 "nbformat_minor": 0
}
