{
 "metadata": {
  "name": "",
  "signature": "sha256:a66f7ef934640ffde2f620e6f296394d678adfdc570ef9509eb33acfb98f24ea"
 },
 "nbformat": 3,
 "nbformat_minor": 0,
 "worksheets": [
  {
   "cells": [
    {
     "cell_type": "heading",
     "level": 2,
     "metadata": {},
     "source": [
      "Lab 6: Sequence Characteristics"
     ]
    },
    {
     "cell_type": "heading",
     "level": 5,
     "metadata": {},
     "source": [
      "Q0: What's your name?"
     ]
    },
    {
     "cell_type": "raw",
     "metadata": {},
     "source": []
    },
    {
     "cell_type": "heading",
     "level": 3,
     "metadata": {
      "slideshow": {
       "slide_type": "-"
      }
     },
     "source": [
      "B. Predict characteristics of your protein"
     ]
    },
    {
     "cell_type": "markdown",
     "metadata": {},
     "source": [
      "First we'll retreive a protein sequence from NCBI."
     ]
    },
    {
     "cell_type": "code",
     "collapsed": false,
     "input": [
      "from Bio import Entrez # we'll import a set of code written for common biological applications\n",
      "from Bio import SeqIO"
     ],
     "language": "python",
     "metadata": {},
     "outputs": [],
     "prompt_number": 1
    },
    {
     "cell_type": "code",
     "collapsed": false,
     "input": [
      "prot_id = \"NP_000302\" #the accession number of our protein of interest"
     ],
     "language": "python",
     "metadata": {},
     "outputs": [],
     "prompt_number": 2
    },
    {
     "cell_type": "code",
     "collapsed": false,
     "input": [
      "Entrez.email = \"\" # let NCBI know who you are\n",
      "handle = Entrez.efetch(db=\"protein\", rettype=\"gb\", retmode=\"text\", id=prot_id) # db = database to query, rettype = retrieval type, retmode = retrieval mode \n",
      "seq_record = SeqIO.read(handle, \"gb\") # read the contents \"fetched\" from NCBI\n",
      "handle.close()"
     ],
     "language": "python",
     "metadata": {},
     "outputs": [],
     "prompt_number": 3
    },
    {
     "cell_type": "code",
     "collapsed": false,
     "input": [
      "protdes = seq_record.description # assign the protein's description to protdes\n",
      "# print the protein  description\n",
      "print protdes\n",
      "protseq = seq_record.seq # pull out the sequence associated with this record\n",
      "# print the amino acid sequence\n",
      "print protseq\n",
      "# print the number of amino acids in the sequence\n",
      "print len(protseq)"
     ],
     "language": "python",
     "metadata": {},
     "outputs": [
      {
       "output_type": "stream",
       "stream": "stdout",
       "text": [
        "major prion protein preproprotein [Homo sapiens].\n",
        "MANLGCWMLVLFVATWSDLGLCKKRPKPGGWNTGGSRYPGQGSPGGNRYPPQGGGGWGQPHGGGWGQPHGGGWGQPHGGGWGQPHGGGWGQGGGTHSQWNKPSKPKTNMKHMAGAAAAGAVVGGLGGYMLGSAMSRPIIHFGSDYEDRYYRENMHRYPNQVYYRPMDEYSNQNNFVHDCVNITIKQHTVTTTTKGENFTETDVKMMERVVEQMCITQYERESQAYYQRGSSMVLFSSPPVILLISFLIFLIVG\n",
        "253\n"
       ]
      }
     ],
     "prompt_number": 4
    },
    {
     "cell_type": "markdown",
     "metadata": {},
     "source": [
      "Biopython's SeqUtils module contains functions for estimating properties of your protein.   \n",
      "You can find more information on the class ProteinAnalysis here:  \n",
      "http://biopython.org/DIST/docs/api/Bio.SeqUtils.ProtParam.ProteinAnalysis-class.html. "
     ]
    },
    {
     "cell_type": "code",
     "collapsed": false,
     "input": [
      "from Bio.SeqUtils.ProtParam import ProteinAnalysis\n",
      "from Bio.SeqUtils import ProtParamData\n",
      "from Bio import SeqIO\n",
      "\n",
      "prot = ProteinAnalysis(str(protseq))\n",
      "\n",
      "print \"The predicted molecular weight of\", prot_id, \"is\", prot.molecular_weight(), \"Daltons\" # molecular weight of your protein in Daltons\n",
      "print \"The relative frequency of phenylalanine, tryptophan, and tyrosine (\\\"aromaticity\\\") in\", prot_id, \"is\", prot.aromaticity() # the relative frequency of Phe+Trp+Tyr\n",
      "print \"The predicted isoelectric point of\", prot_id, \"is\", prot.isoelectric_point() # the pH at which the protein has no net charge\n",
      "print \"The instability index of\", prot_id, \"is\", prot.instability_index()  # predicts the instability of the protein, values over 40 suggest an unstable structure \n",
      "\n",
      "print round(prot.secondary_structure_fraction()[0]*100, 1), \"% of amino acids in\", prot_id, \"tend to form helices.\" # returns a tuple of the fraction of amino acids which tend to form helixes, turns or sheets.\n",
      "print round(prot.secondary_structure_fraction()[1]*100, 1), \"% of amino acids in\", prot_id, \"tend to form turns.\"\n",
      "print round(prot.secondary_structure_fraction()[2]*100, 1), \"% of amino acids in\", prot_id, \"tend to form sheets.\" "
     ],
     "language": "python",
     "metadata": {},
     "outputs": [
      {
       "output_type": "stream",
       "stream": "stdout",
       "text": [
        "The predicted molecular weight of NP_000302 is 27659.6898 Daltons\n",
        "The relative frequency of phenylalanine, tryptophan, and tyrosine (\"aromaticity\") in NP_000302 is 0.114624505929\n",
        "The predicted isoelectric point of NP_000302 is 9.12603759766\n",
        "The instability index of NP_000302 is 43.1098814229\n",
        "25.3 % of amino acids in NP_000302 tend to form helices.\n",
        "35.2 % of amino acids in NP_000302 tend to form turns.\n",
        "17.0 % of amino acids in NP_000302 tend to form sheets.\n"
       ]
      }
     ],
     "prompt_number": 5
    },
    {
     "cell_type": "heading",
     "level": 4,
     "metadata": {},
     "source": [
      "Q6: Briefly discuss the relevance of the above characteristics to the biology of your protein."
     ]
    },
    {
     "cell_type": "raw",
     "metadata": {},
     "source": []
    },
    {
     "cell_type": "heading",
     "level": 4,
     "metadata": {},
     "source": [
      "Q7: If the amino acids were evenly distributed in your protein, how many aromatic amino acids (phenylalanine, tryptophan, and tyrosine) would you expect to see in a protein the length of your protein? Show your work below."
     ]
    },
    {
     "cell_type": "code",
     "collapsed": false,
     "input": [
      "prot.aromaticity() * len(protseq)"
     ],
     "language": "python",
     "metadata": {},
     "outputs": [
      {
       "metadata": {},
       "output_type": "pyout",
       "prompt_number": 6,
       "text": [
        "29.0"
       ]
      }
     ],
     "prompt_number": 6
    },
    {
     "cell_type": "markdown",
     "metadata": {},
     "source": [
      "Next generate a graph, with the number of times each amino acid occurs displayed as a percentage of your protein's overall length. The code is executable as written, read through and make sure you understand what is happening at each step."
     ]
    },
    {
     "cell_type": "code",
     "collapsed": false,
     "input": [
      "import matplotlib.pyplot as plt # import a set of code written for generating graphics and tell the computer how to display graphs\n",
      "%pylab inline\n",
      "\n",
      "percaa = prot.get_amino_acids_percent() # returns a dictionary of the number of times each aa occurs in your protein sequence\n",
      "amino_a = arange(20) # the x-axis has twenty positions, one for each of the 20 amino acids\n",
      "bar(amino_a, percaa.values()) # chart will be a bar chart, containing amino acids on the x-axis and count as percent of length of the sequence on the y-axis\n",
      "xticks(amino_a + 0.5, percaa.keys()) # label the x-axis with the amino acids in the same order as in the counts list\n",
      "title(\"Amino acid composition of \" + prot_id) #add a title to the graph\n",
      "ylabel(\"Proportion\") #label the y-axis\n",
      "show()"
     ],
     "language": "python",
     "metadata": {},
     "outputs": [
      {
       "output_type": "stream",
       "stream": "stdout",
       "text": [
        "Populating the interactive namespace from numpy and matplotlib\n"
       ]
      },
      {
       "metadata": {},
       "output_type": "display_data",
       "png": "[encoded data removed]",
       "text": [
        "<matplotlib.figure.Figure at 0x107f44ed0>"
       ]
      }
     ],
     "prompt_number": 7
    },
    {
     "cell_type": "heading",
     "level": 4,
     "metadata": {},
     "source": [
      "Q8: Based on the graph you've generated, do the amino acids appear with equal frequency within your protein? What type of amino acids appear over or under represented?"
     ]
    },
    {
     "cell_type": "raw",
     "metadata": {},
     "source": []
    },
    {
     "cell_type": "markdown",
     "metadata": {},
     "source": [
      "Next generate a graph, with the predicted flexibility values plotted over the length of your protein sequence. Regions with a flexibility index less than 1 are classified as rigid."
     ]
    },
    {
     "cell_type": "code",
     "collapsed": false,
     "input": [
      "import matplotlib.pyplot as plt # import a set of code written for generating graphics and tell the computer how to display graphs\n",
      "%pylab inline\n",
      "\n",
      "flex = prot.flexibility()\n",
      "\n",
      "plt.plot(flex) # plot the flexibility values\n",
      "plt.axhline(0, color='black') # forces the y-axis to start at 0\n",
      "plt.ylabel(\"flexibility value\") # label the y-axis\n",
      "plt.xlabel(\"amino acid position\") # label the x-axis\n",
      "plt.title(\"Predicted flexibility of  \" + prot_id) # add a title\n",
      "plt.show()"
     ],
     "language": "python",
     "metadata": {},
     "outputs": [
      {
       "output_type": "stream",
       "stream": "stdout",
       "text": [
        "Populating the interactive namespace from numpy and matplotlib\n"
       ]
      },
      {
       "metadata": {},
       "output_type": "display_data",
       "png": "[encoded data removed]",
       "text": [
        "<matplotlib.figure.Figure at 0x1073b8210>"
       ]
      }
     ],
     "prompt_number": 7
    },
    {
     "cell_type": "heading",
     "level": 4,
     "metadata": {},
     "source": [
      "Q9: Do the predicted flexibility scores differ over the length of your protein?"
     ]
    },
    {
     "cell_type": "raw",
     "metadata": {},
     "source": []
    },
    {
     "cell_type": "markdown",
     "metadata": {},
     "source": [
      "The distribution of hydrophobic/hydrophilic amino acids throughout a protein sequence is associated with a protein's three-dimensional structure.   \n",
      "\n",
      "We'll loop over the amino acids in the protein, look up the hydrophobicity value of the amino acid, and generate a graph of the hydrophobicity values across the length of the protein sequence.  "
     ]
    },
    {
     "cell_type": "markdown",
     "metadata": {},
     "source": [
      "First, we'll generate a dictionary of the amino acids and their hydrophobicity values . . ."
     ]
    },
    {
     "cell_type": "code",
     "collapsed": true,
     "input": [
      "hydro = {\"I\":4.5, \"V\":4.2, \"L\":3.8, \"F\":2.8, \"C\":2.5, \"M\":1.9, \"A\":1.8, \"G\":-0.4, \"T\":-0.7, \"S\":-0.8, \"W\":-0.9, \"Y\":-1.3, \"P\":-1.6, \"H\":-3.2, \"E\":-3.5, \"Q\":-3.5, \"D\":-3.5, \"N\":-3.5, \"K\":-3.9, \"R\":-4.5}\n",
      "print len(hydro)"
     ],
     "language": "python",
     "metadata": {},
     "outputs": [
      {
       "output_type": "stream",
       "stream": "stdout",
       "text": [
        "20\n"
       ]
      }
     ],
     "prompt_number": 9
    },
    {
     "cell_type": "markdown",
     "metadata": {},
     "source": [
      "The more positive the number the more hydrophobic the amino acid.  \n",
      "The hydrophobicity values were derived from Kyte J, Doolittle RF. (1982) A simple method for displaying the hydropathic character of a protein. J Mol Biol. 157(1):105-32."
     ]
    },
    {
     "cell_type": "markdown",
     "metadata": {},
     "source": [
      "Loop over the amino acids in the protein sequence, then look up the amino acid in the hydrophobicity dictionary."
     ]
    },
    {
     "cell_type": "code",
     "collapsed": false,
     "input": [
      "# hvalues is a empty list to hold the hydrophobicity values along the length of the protein\n",
      "hvalues = []\n",
      "# for each amino acid in the protein sequence, protseq\n",
      "for aa in protseq:\n",
      "    # ask if the amino acid is in the dictionary's keys\n",
      "    if aa in hydro.keys():\n",
      "        # if so, print the amino acid and it's hydrophobicity value\n",
      "        print aa, \"hydrophobicity:\", hydro[aa]\n",
      "        # add the hydrophobicity value to the list hvalues\n",
      "        hvalues.append(hydro[aa])\n",
      "    # if the amino acid is NOT in the dictionary's keys\n",
      "    else:\n",
      "        print \"Amino acid\", aa, \"not in dictionary.\" # print out a warning\n",
      "        break # stop the flow of the for loop"
     ],
     "language": "python",
     "metadata": {},
     "outputs": []
    },
    {
     "cell_type": "markdown",
     "metadata": {},
     "source": [
      "Now, let's generate a graph."
     ]
    },
    {
     "cell_type": "markdown",
     "metadata": {},
     "source": [
      "Ploting the hydrophobicity of each position in the protein sequence results in a noisy graph. Let's calculate the average hydrophobicity over a sliding window 20 aa in length, and include a red line on the graph at 1.6 on the hydrophobicity scale. Regions with hydrophobicity values greater than 1.6 are more likely to be transmembrane domains."
     ]
    },
    {
     "cell_type": "code",
     "collapsed": false,
     "input": [
      "window_len = 20 # define the length of the window\n",
      "smooth_hydro = []# smooth_hydro = a list to hold the moving average values\n",
      "for i in range(len(hvalues)-window_len): # for each number in a list\n",
      "    # set the hydrophobicity value, hval, to 0\n",
      "    hval = 0\n",
      "    for v in hvalues[i:i+window_len]:# for each aa in window\n",
      "        # increment the value of hval by v\n",
      "        hval += v\n",
      "    avh = hval/len(protseq[i:i+window_len]) # when the loop over the slice is complete, calculate the average hydrophobicity value of the region\n",
      "    # add the average to the list smooth_hydro\n",
      "    smooth_hydro.append(avh)"
     ],
     "language": "python",
     "metadata": {},
     "outputs": [],
     "prompt_number": 13
    },
    {
     "cell_type": "markdown",
     "metadata": {},
     "source": [
      "We'll generate a graph of the smoothed values."
     ]
    },
    {
     "cell_type": "code",
     "collapsed": false,
     "input": [
      "import matplotlib.pyplot as plt # import a set of code written for generating graphics and tell the computer how to display graphs\n",
      "%pylab inline\n",
      "\n",
      "plt.plot(smooth_hydro) # plot the value of smooth_hydro\n",
      "plt.axhline(0, color='grey') # add a horizontal grey line at y=0\n",
      "plt.axhline(1.6, color='red')# add a horizontal red line at y=1.6\n",
      "plt.ylabel('Hydrophobicity') # add a label to the y-axis\n",
      "plt.xlabel('Amino acid position') # add a label to the x-axis\n",
      "plt.title(\"Kyte Doolittle Hydrophobicity of \" + prot_id + \"\\n 20 nt sliding window\") # add a title to the graph\n",
      "plt.show()"
     ],
     "language": "python",
     "metadata": {},
     "outputs": [
      {
       "output_type": "stream",
       "stream": "stdout",
       "text": [
        "Populating the interactive namespace from numpy and matplotlib\n"
       ]
      },
      {
       "metadata": {},
       "output_type": "display_data",
       "png": "[encoded data removed]",
       "text": [
        "<matplotlib.figure.Figure at 0x107f346d0>"
       ]
      }
     ],
     "prompt_number": 14
    },
    {
     "cell_type": "heading",
     "level": 4,
     "metadata": {},
     "source": [
      "Q10: Based on the graph you've generated, do you think there are any transmembrane domains in your protein? Explain."
     ]
    },
    {
     "cell_type": "raw",
     "metadata": {},
     "source": []
    },
    {
     "cell_type": "markdown",
     "metadata": {},
     "source": [
      "That's all folks!  \n",
      "Please save your notebook and upload the notebook to Blackboard."
     ]
    }
   ],
   "metadata": {}
  }
 ]
}