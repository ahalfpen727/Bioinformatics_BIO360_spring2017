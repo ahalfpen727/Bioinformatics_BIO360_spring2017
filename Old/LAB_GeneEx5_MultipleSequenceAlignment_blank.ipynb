{
 "metadata": {
  "name": ""
 },
 "nbformat": 3,
 "nbformat_minor": 0,
 "worksheets": [
  {
   "cells": [
    {
     "cell_type": "heading",
     "level": 4,
     "metadata": {},
     "source": [
      "Q0: What's your name?"
     ]
    },
    {
     "cell_type": "raw",
     "metadata": {},
     "source": []
    },
    {
     "cell_type": "code",
     "collapsed": false,
     "input": [
      "import os\n",
      "os.getcwd() # identify the current working directory"
     ],
     "language": "python",
     "metadata": {},
     "outputs": [
      {
       "metadata": {},
       "output_type": "pyout",
       "prompt_number": 1,
       "text": [
        "'/Users/tg/Documents/BIOL361_Lab_Exs'"
       ]
      }
     ],
     "prompt_number": 1
    },
    {
     "cell_type": "code",
     "collapsed": false,
     "input": [
      "os.chdir(os.path.join(os.getcwd(), 'Desktop')) # change the working directory to your computer's desktop\n",
      "os.mkdir('BIOL361_GeneEx5') # make a folder on the Desktop called BIOL361_GeneEx2\n",
      "\n",
      "os.chdir(os.path.join(os.getcwd(),'BIOL361_GeneEx5')) # change the working directory to BIOL361_GeneEx2\n",
      "os.getcwd() # then check the current working directory"
     ],
     "language": "python",
     "metadata": {},
     "outputs": [
      {
       "ename": "OSError",
       "evalue": "[Errno 2] No such file or directory: '/Users/tg/Documents/BIOL361_Lab_Exs/Desktop'",
       "output_type": "pyerr",
       "traceback": [
        "\u001b[0;31m---------------------------------------------------------------------------\u001b[0m\n\u001b[0;31mOSError\u001b[0m                                   Traceback (most recent call last)",
        "\u001b[0;32m<ipython-input-2-44a7bbbda48d>\u001b[0m in \u001b[0;36m<module>\u001b[0;34m()\u001b[0m\n\u001b[0;32m----> 1\u001b[0;31m \u001b[0mos\u001b[0m\u001b[0;34m.\u001b[0m\u001b[0mchdir\u001b[0m\u001b[0;34m(\u001b[0m\u001b[0mos\u001b[0m\u001b[0;34m.\u001b[0m\u001b[0mpath\u001b[0m\u001b[0;34m.\u001b[0m\u001b[0mjoin\u001b[0m\u001b[0;34m(\u001b[0m\u001b[0mos\u001b[0m\u001b[0;34m.\u001b[0m\u001b[0mgetcwd\u001b[0m\u001b[0;34m(\u001b[0m\u001b[0;34m)\u001b[0m\u001b[0;34m,\u001b[0m \u001b[0;34m'Desktop'\u001b[0m\u001b[0;34m)\u001b[0m\u001b[0;34m)\u001b[0m \u001b[0;31m# change the working directory to your computer's desktop\u001b[0m\u001b[0;34m\u001b[0m\u001b[0m\n\u001b[0m\u001b[1;32m      2\u001b[0m \u001b[0mos\u001b[0m\u001b[0;34m.\u001b[0m\u001b[0mmkdir\u001b[0m\u001b[0;34m(\u001b[0m\u001b[0;34m'BIOL361_GeneEx5'\u001b[0m\u001b[0;34m)\u001b[0m \u001b[0;31m# make a folder on the Desktop called BIOL361_GeneEx2\u001b[0m\u001b[0;34m\u001b[0m\u001b[0m\n\u001b[1;32m      3\u001b[0m \u001b[0;34m\u001b[0m\u001b[0m\n\u001b[1;32m      4\u001b[0m \u001b[0mos\u001b[0m\u001b[0;34m.\u001b[0m\u001b[0mchdir\u001b[0m\u001b[0;34m(\u001b[0m\u001b[0mos\u001b[0m\u001b[0;34m.\u001b[0m\u001b[0mpath\u001b[0m\u001b[0;34m.\u001b[0m\u001b[0mjoin\u001b[0m\u001b[0;34m(\u001b[0m\u001b[0mos\u001b[0m\u001b[0;34m.\u001b[0m\u001b[0mgetcwd\u001b[0m\u001b[0;34m(\u001b[0m\u001b[0;34m)\u001b[0m\u001b[0;34m,\u001b[0m\u001b[0;34m'BIOL361_GeneEx5'\u001b[0m\u001b[0;34m)\u001b[0m\u001b[0;34m)\u001b[0m \u001b[0;31m# change the working directory to BIOL361_GeneEx2\u001b[0m\u001b[0;34m\u001b[0m\u001b[0m\n\u001b[1;32m      5\u001b[0m \u001b[0mos\u001b[0m\u001b[0;34m.\u001b[0m\u001b[0mgetcwd\u001b[0m\u001b[0;34m(\u001b[0m\u001b[0;34m)\u001b[0m \u001b[0;31m# then check the current working directory\u001b[0m\u001b[0;34m\u001b[0m\u001b[0m\n",
        "\u001b[0;31mOSError\u001b[0m: [Errno 2] No such file or directory: '/Users/tg/Documents/BIOL361_Lab_Exs/Desktop'"
       ]
      }
     ],
     "prompt_number": 2
    },
    {
     "cell_type": "markdown",
     "metadata": {},
     "source": [
      "This week we'll use Biopython to learn more about amino acid substitutions observed in your protein as a whole as well as within a conserved domain.\n",
      "\n",
      "The idea is that if a region of a protein is not under selection then the amino acids would be expected to be present in equal frequencies. So if there are positions within homologous protein sequences where only a very few amino acids are regularly observed - given a large enough set of homologous proteins - we presume that amino acids which are absent or observed infrequently are deleterious to the protein's function.    \n",
      "\n",
      "Before we begin - generate a multiple sequence alignment (MSA) by uploading the protein sequences of your gene and likely homologs to either T-Coffee, Muscle or MAFFT multiple sequence alignment servers.    \n",
      "http://tcoffee.crg.cat/apps/tcoffee/do:regular   \n",
      "https://www.ebi.ac.uk/Tools/msa/muscle/   \n",
      "https://www.ebi.ac.uk/Tools/msa/mafft/\n",
      "\n",
      "Once the alignment is generated, save the alignment in the clustal format. If you're using the Muscle or MAFFT websites - right click on \"Download Alignment File\", select \"Save Link As . . . \", and save the file to the 'BIOL361_GeneEx5' file which you have generated on your desktop. If you're using the T-Coffee website - right click on \"clustalw_aln file\", select \"Save Link As . . . \", and save the file to the 'BIOL361_GeneEx5' file which you have generated on your desktop.\n",
      "\n",
      "While the MSA is being generated we'll go through the exercise as a class, using a MSA (saved in the clustal format) of prion protein sequences. The file, \"prnp_alignment_muscle.clw\", should be downloaded from Blackboard and copied into the 'BIOL361_GeneEx5' file which you have generated on your desktop.  \n",
      "\n",
      "After we have gone over this exercise as a class - you will redo the analysis using the your protein's MSA."
     ]
    },
    {
     "cell_type": "code",
     "collapsed": false,
     "input": [
      "from Bio import AlignIO\n",
      "align_file = open(\"prnp_alignment_muscle.clw\")\n",
      "align = AlignIO.read(align_file, \"clustal\")\n",
      "print align\n"
     ],
     "language": "python",
     "metadata": {},
     "outputs": [],
     "prompt_number": 1
    },
    {
     "cell_type": "heading",
     "level": 4,
     "metadata": {},
     "source": [
      "Q1: How many sequences were aligned in the PRNP alignment? How many sequences are present in your protein's MSA?"
     ]
    },
    {
     "cell_type": "raw",
     "metadata": {},
     "source": []
    },
    {
     "cell_type": "heading",
     "level": 4,
     "metadata": {},
     "source": [
      "Q2: How many amino acid positions are in the PRNP alignment? How many amino acid positions are in your protein's MSA?"
     ]
    },
    {
     "cell_type": "raw",
     "metadata": {},
     "source": []
    },
    {
     "cell_type": "markdown",
     "metadata": {},
     "source": [
      "We can access the sequences in the alignment using the notation - align[#]. Where # = 0 refers to the first sequence in the alignment, # = 1 refers to the second, etc. \n",
      "\n",
      "Use this notation to print out the fourth sequence in this alignment."
     ]
    },
    {
     "cell_type": "code",
     "collapsed": false,
     "input": [],
     "language": "python",
     "metadata": {},
     "outputs": [],
     "prompt_number": 1
    },
    {
     "cell_type": "markdown",
     "metadata": {},
     "source": [
      "Notice that each record in the alignment has 5 attributes. You can reference each of them as shown below."
     ]
    },
    {
     "cell_type": "code",
     "collapsed": false,
     "input": [
      "print align[0].id\n",
      "print align[0].description\n",
      "print align[0].features\n",
      "print align[0].name\n",
      "print align[0].seq\n"
     ],
     "language": "python",
     "metadata": {},
     "outputs": [],
     "prompt_number": 2
    },
    {
     "cell_type": "markdown",
     "metadata": {},
     "source": [
      "We can print the length of each sequence in the alignment. Print the length of the second sequence in the alignment."
     ]
    },
    {
     "cell_type": "code",
     "collapsed": false,
     "input": [],
     "language": "python",
     "metadata": {},
     "outputs": [],
     "prompt_number": 2
    },
    {
     "cell_type": "heading",
     "level": 4,
     "metadata": {},
     "source": [
      "Q3: Are all of the sequences in the alignment object (\"align\") the same length? You should be able to answer this based on the analysis you've done - explain."
     ]
    },
    {
     "cell_type": "raw",
     "metadata": {},
     "source": []
    },
    {
     "cell_type": "markdown",
     "metadata": {},
     "source": [
      "Write code below to check if your assumption was correct."
     ]
    },
    {
     "cell_type": "code",
     "collapsed": false,
     "input": [],
     "language": "python",
     "metadata": {},
     "outputs": [],
     "prompt_number": 2
    },
    {
     "cell_type": "markdown",
     "metadata": {},
     "source": [
      "Above we've referenced just the rows of the alignment - but we can also reference the columns of the alignment or reference particular columns of particular rows. \n",
      "\n",
      "The alignment object essentially consists of a matrix with the same number of rows as there are sequences and the same number of columns as positions in the alignment.\n",
      "\n",
      "Both the rows and columns of the alignment \"matrix\" can be treated as strings.  \n",
      "\n",
      "Recall how we can slice elements of a string:  \n",
      "list_variable_name[begining_position:ending_position]   "
     ]
    },
    {
     "cell_type": "code",
     "collapsed": false,
     "input": [
      "a = \"fundamental\" #here's a string\n",
      "print  #use the square bracket notation to print out the \"fun\" in fundamental\n"
     ],
     "language": "python",
     "metadata": {},
     "outputs": [],
     "prompt_number": 3
    },
    {
     "cell_type": "markdown",
     "metadata": {},
     "source": [
      "We can likewise use this same notation to access both a subset of the rows and a subset of the columns.\n",
      "\n",
      "alignment_variable_name[begining_row:ending_row, begining_column:ending_column]  "
     ]
    },
    {
     "cell_type": "code",
     "collapsed": false,
     "input": [
      "a = align[:, :] #a is a variable assigned to the first four positions of the first four sequences\n",
      "print a\n"
     ],
     "language": "python",
     "metadata": {},
     "outputs": [],
     "prompt_number": 6
    },
    {
     "cell_type": "markdown",
     "metadata": {},
     "source": [
      "Remember that we can use negative numbers to index."
     ]
    },
    {
     "cell_type": "code",
     "collapsed": false,
     "input": [
      "b = align[:, :] #b is a variable assigned to the last four positions of the last four sequences\n",
      "print b\n"
     ],
     "language": "python",
     "metadata": {},
     "outputs": [],
     "prompt_number": 7
    },
    {
     "cell_type": "markdown",
     "metadata": {},
     "source": [
      "Given a good multiple sequence aligment, we're usually more interested in the amino acids within a column, than those within a row. After all, if we wanted to look sequence variation within a single protein - a fasta file would be just as good.   \n",
      "\n",
      "We'd like to loop over all the columns in our alignment and print out all the amino acids in that postion. "
     ]
    },
    {
     "cell_type": "code",
     "collapsed": false,
     "input": [
      "count = 0 # count is a variable set to zero, which will be incremented to count the number of positions (columns) in the alignment\n",
      "for i in range(len(align[0])): # for each number in a list of numbers from 0 to the length of the sequences in the alignment\n",
      "    #count +=1 # increment the value of count\n",
      "    #print \"Column:\", count, align[:,i] # print the position in the alignment and the amino acids in the column at the position\n",
      "    "
     ],
     "language": "python",
     "metadata": {},
     "outputs": [],
     "prompt_number": 8
    },
    {
     "cell_type": "markdown",
     "metadata": {},
     "source": [
      "Now that we're able to isolate individual columns of our alignment - we'd like to know something about the alignment at each position. Two things we're particularly interested in - the presence of gaps and the amino acid composition of the column.  \n",
      "\n",
      "Remember that we can test wether a character is in a string quite simply."
     ]
    },
    {
     "cell_type": "code",
     "collapsed": false,
     "input": [
      "\"-\" in \"Q-QQ-----QQQQQQQQ----Q-\"\n"
     ],
     "language": "python",
     "metadata": {},
     "outputs": [],
     "prompt_number": 9
    },
    {
     "cell_type": "code",
     "collapsed": false,
     "input": [
      "\"-\" in \"SPSSPPPPPPPPPPPPPPPPPPP\"\n"
     ],
     "language": "python",
     "metadata": {},
     "outputs": [],
     "prompt_number": 10
    },
    {
     "cell_type": "markdown",
     "metadata": {},
     "source": [
      "We can use this as part of a conditional statement. "
     ]
    },
    {
     "cell_type": "code",
     "collapsed": false,
     "input": [
      "if \"-\" in \"G-GG-----GGXGGGGG----G-\": # if there is a dash in the string\n",
      "    print \"found it!\" # print out a message\n",
      "    "
     ],
     "language": "python",
     "metadata": {},
     "outputs": [],
     "prompt_number": 11
    },
    {
     "cell_type": "markdown",
     "metadata": {},
     "source": [
      "Maybe we want to count the number of columns in an alignment where at least one sequence contains a gap."
     ]
    },
    {
     "cell_type": "code",
     "collapsed": false,
     "input": [
      "count_dash = 0 # count is a variable set to zero, which will be incremented to count the number of positions (columns) in the alignment containing a gap\n",
      "for i in range(len(align[0])): # for each number in a list of numbers from 0 to the length of the sequences in the alignment\n",
      "# if there is a dash in the string\n",
      "# increment the value of count_dash by one\n",
      "print count_dash\n"
     ],
     "language": "python",
     "metadata": {},
     "outputs": [],
     "prompt_number": 12
    },
    {
     "cell_type": "markdown",
     "metadata": {},
     "source": [
      "What proportion of all positions in the alignment have a gap in at least one of the sequences?"
     ]
    },
    {
     "cell_type": "code",
     "collapsed": false,
     "input": [],
     "language": "python",
     "metadata": {},
     "outputs": []
    },
    {
     "cell_type": "markdown",
     "metadata": {},
     "source": [
      "The placement of gaps within a multiple sequence alignment can be difficult. Sometimes it makes sense to only consider positions without gaps.   \n",
      "For positions without gaps we can count how many different amino acids are found that position."
     ]
    },
    {
     "cell_type": "code",
     "collapsed": false,
     "input": [
      "position_list = [] # position_list is an empty list, later to hold the count of the number of amino acids, 0 if a gap at that position\n",
      "for i in range(len(align[0])): # for each number in a list of numbers from 0 to the length of the sequences in the alignment\n",
      "    aa_list = [] # list to contain each unique amino acid\n",
      "    if \"-\" in align[:,i]: # if there is a gap in the alignment at this position\n",
      "        # add a zero to position_list\n",
      "    else: # if there is not a gap in the alignment at this position\n",
      "        for j in align[:,i]: # loop over each amino acid in the position \n",
      "            if j in aa_list: # if the amino acid is already in aa_list\n",
      "                # continue on the the next iteration of the for loop\n",
      "            else: # if the amino acid is not already in the aa_list\n",
      "                # add that amino acid to the list\n",
      "        # count the number of unique amino acids found at that position, add the count to the position_list\n",
      "        \n",
      "assert len(position_list) == len(align[0]) # check that there are as many elements in position_list as there are positions in each aligned sequence\n",
      "print \"Number of unique amino acids occuring at each position in protein\", position_list # print out position_list\n"
     ],
     "language": "python",
     "metadata": {},
     "outputs": [],
     "prompt_number": 13
    },
    {
     "cell_type": "code",
     "collapsed": false,
     "input": [
      "import matplotlib.pyplot as plt \n",
      "%pylab inline\n",
      "xaxis = arange(len(position_list)) # the x-axis has the same number of positions as there are in the whole alignment\n",
      "bar(xaxis, position_list) # chart will be a bar chart, containing the numbered positions on the x-axis and the count of the number of amino acids at the position on the y-axis\n",
      "title(\"Number of different amino acids \\n at each position in alignment\") #add a title to the graph\n",
      "ylabel(\"Count\") #label the y-axis\n",
      "show()\n"
     ],
     "language": "python",
     "metadata": {},
     "outputs": [],
     "prompt_number": 14
    },
    {
     "cell_type": "markdown",
     "metadata": {},
     "source": [
      "From the above graphic we can get some idea of what positions in the alignment are more tolerant of variation.  \n",
      "\n",
      "We might also be interested in determining if the amino acid present in our sequence of interest is very common in that position in the alignment or if it is rarely seen. For this analysis let's use AAZ81476.1, prion protein in Rangifer tarandus granti (caribou), as our reference sequence. And let's limit our analysis to the conserved domain located from amino acid 1 to 30. The CDD accession number for this domain is 256516."
     ]
    },
    {
     "cell_type": "markdown",
     "metadata": {},
     "source": [
      "**Q4:** Refer to the lecture HW assignments and enter the following information about a domain in your protein in the box below:    \n",
      "\n",
      "* the name and function of the conserved domain    \n",
      "\n",
      "* the CDD or SMART or Pfam accession number of the domain   \n",
      "\n",
      "* the begining and ending postion of the domain relative to your gene's protein sequence\n",
      "\n",
      "If your protein does not have a conserved domain - refer to the MSA of your gene's protein sequence and chose the region of your protein which appears to be most conserved. Estimate the begining and ending position of this region in your gene."
     ]
    },
    {
     "cell_type": "raw",
     "metadata": {},
     "source": []
    },
    {
     "cell_type": "markdown",
     "metadata": {},
     "source": [
      "First, we need to find our reference protein in the alignment. Then we will want to identify the positions of the alignment that correspond to the conserved domain. Note that the location of the domain within our sequence may not correspond to the same location within our alignment, as the alignment might have introduced gaps in this region of our sequence. In addition to mapping the position of the domain onto the positions of the alignment, we need to map real world positions into Python positions."
     ]
    },
    {
     "cell_type": "code",
     "collapsed": false,
     "input": [
      "prot_of_int = \"AAZ81476.1\" #the accession number of our reference protein\n",
      "prot_begin_domain = 1 # begining aa of the domain relative to our protein of interest, real world position\n",
      "prot_end_domain = 30 # ending aa of the domain relative to our protein of interest, real world position\n",
      "\n",
      "len_domain = prot_end_domain - prot_begin_domain + 1\n",
      "print \"The domain has\", len_domain, \"amino acids in the reference sequence\", prot_of_int\n",
      "\n",
      "for i in align: # for each record in the alignment\n",
      "    if prot_of_int in i.id: #if the accession number of our protein of interest is in the id of the record\n",
      "        align_pos_counter = 0 # postion within the alignment, Python counting\n",
      "        aa_counter = 1 # postion of in amino acid sequence, real counting\n",
      "        for j in i.seq: # for each position in the aligned of the sequence of that record\n",
      "            if j.isalpha() is True: #ask if j is an amino acid (a letter) as opposed to a gap\n",
      "                if aa_counter == prot_begin_domain: #if the position in the amino acid sequence of the alignment is equal to the starting position of the domain\n",
      "                    # create a variable called align_begin_domain and assign it the value of align_pos_counter\n",
      "                elif aa_counter == prot_end_domain: #if the position in the amino acid sequence of the alignment is equal to the ending position of the domain \n",
      "                    # create a variable called align_end_domain and assign it the value of align_pos_counter plus one\n",
      "                aa_counter +=1 # advance the count of the amino acid in the reference sequence\n",
      "            align_pos_counter +=1 # advance the count of the positions in the alignment\n",
      "        ref_domain_region = i.seq[align_begin_domain:align_end_domain] # the region of the alignment corresponding to the location of the domain in our protein of interest\n",
      "        print \"Domain region of alignment: \", ref_domain_region\n",
      "        print \"Length of domain region: \", len(ref_domain_region)\n",
      "        \n",
      "assert align_pos_counter == len(align[0].seq) #check that our alignment position counter as counted as many positions as we expect\n",
      "\n",
      "print \"The domain begins at position \", align_begin_domain, \" of the alignment.\"\n",
      "print \"The domain ends at position \", align_end_domain, \" of the alignment.\"\n"
     ],
     "language": "python",
     "metadata": {},
     "outputs": [],
     "prompt_number": 15
    },
    {
     "cell_type": "markdown",
     "metadata": {},
     "source": [
      "**Q5**: For the PRNP alignment, were gaps introduced into the N-terminal PRNP domain? For the alignment of your gene, were gaps introduced into the domain?"
     ]
    },
    {
     "cell_type": "raw",
     "metadata": {},
     "source": []
    },
    {
     "cell_type": "markdown",
     "metadata": {},
     "source": [
      "Now that we know the region of the alignment that corresponds to the domain we're interested in - let's pull just that part of the main alignment."
     ]
    },
    {
     "cell_type": "code",
     "collapsed": false,
     "input": [
      "domain_align = align[:, align_begin_domain:align_end_domain] #domain_align is a variable assigned to the part of the alignment corresponding to the domain\n",
      "print domain_align \n"
     ],
     "language": "python",
     "metadata": {},
     "outputs": [],
     "prompt_number": 16
    },
    {
     "cell_type": "markdown",
     "metadata": {},
     "source": [
      "Now let's loop over each position in the domain alignment and count the number of times the amino acid of the reference sequence is found at that position."
     ]
    },
    {
     "cell_type": "code",
     "collapsed": false,
     "input": [
      "perc_ref_aa_list = [] # count_ref_aa_list is an empty list, later to hold the percent of sequences having the reference amino acid\n",
      "\n",
      "for i in range(len(ref_domain_region)): # for each number in a list of numbers from 0 to the length of the sequences in the domain alignment\n",
      "    count_aa = 0 # a variable to hold the count of the number of times the reference amino acid is found\n",
      "    for aa in domain_align[:,i]: # for each amino acid in the string containing all amino acids at that position in the alignment\n",
      "        # if the amino acid is the reference amino acid\n",
      "            # increase the value of count_aa by one\n",
      "    perc_ref_aa_list.append(count_aa/float(len(domain_align[:,i]))*100) # add the total number of times the reference amino acid occurs at that position\n",
      "\n",
      "assert len(perc_ref_aa_list) == len(ref_domain_region) # check that there are as many elements in count_ref_aa_list as there are positions in the aligned domain\n",
      "print perc_ref_aa_list\n"
     ],
     "language": "python",
     "metadata": {},
     "outputs": [],
     "prompt_number": 18
    },
    {
     "cell_type": "code",
     "collapsed": false,
     "input": [
      "import matplotlib.pyplot as plt # import a set of code written for generating graphics and tell the computer how to display graphs\n",
      "%pylab inline\n",
      "xaxis = arange(len(perc_ref_aa_list)) # the x-axis has the same number of positions as there are in the domain alignment\n",
      "bar(xaxis, count_ref_aa_list) # chart will be a bar chart, as many positions on the x-axis as there are positions in the domain and the count of the reference amino acids at the position on the y-axis\n",
      "xticks(xaxis+0.5, ref_domain_region) # label the x-axis with the sequence of the alignment corresponding to the domain in our protein of interest\n",
      "xlim(0, len(perc_ref_aa_list))\n",
      "title(\"Percentage of sequences with same amino acid as \" + prot_of_int ) #add a title to the graph\n",
      "ylabel(\"Percent\") #label the y-axis\n",
      "show()\n"
     ],
     "language": "python",
     "metadata": {},
     "outputs": [],
     "prompt_number": 19
    },
    {
     "cell_type": "markdown",
     "metadata": {},
     "source": [
      "Let's modify the above analysis a bit. For each position in the domain, compare the frequencey of the amino acid (or gap) from our reference sequence relative to the frequency of all other amino acids found at this position."
     ]
    },
    {
     "cell_type": "code",
     "collapsed": false,
     "input": [
      "ref_count = [] # an list to later to hold the count of the reference amino acid at that position\n",
      "other_count = [] # an list to later to hold the average count of the non-reference amino acids at that position\n",
      "\n",
      "for i in range(len(ref_domain_region)): # for each number in a list of numbers from 0 to the length of the sequences in the domain alignment\n",
      "    aa_count = {} # a dictionary to hold the number of times each amino acid occurs at this position of the alignment\n",
      "    for aa in domain_align[:,i]: # for each amino acid in the string containing all amino acids at that position in the alignment\n",
      "        if aa in aa_count: # if the amino acid is already a key in the dictionary aa_count\n",
      "            # increase the value assigned to that amino acid's entry in the dictionary, by one\n",
      "        else: # if the amino acid is not already in the dictionary aa_count\n",
      "            # create a entry in the dictionary with the amino acid as a key and a value of one\n",
      "            \n",
      "    sum_other = 0\n",
      "    for j in aa_count: # for each key (amino acid) in the dictionary aa_count\n",
      "        if j == ref_domain_region[i]: # if the amino acid (j) is the same as the amino acid in the reference sequence at this postion (i)\n",
      "            #add the count of the amino acid (aa_count[j]) to the the list ref_count \n",
      "        else: # if the amino acid different from the reference amino acid for that position\n",
      "            # add together the counts\n",
      "    if sum_other == 0: # if the reference amino acid is the only one at that position\n",
      "        # add zero to the list other_count\n",
      "    else: # if there is one or more amino acids, other than the reference amino acid, at that position\n",
      "        other_count.append() # take the average number of times the other amino acids are seen at that position\n",
      "    \n",
      "assert len(ref_count) == len(other_count) == len(ref_domain_region) # check that there are as many elements in ref_count and other_count as there are in the aligned domain\n",
      "print \"Number of times the reference amino acid occurs at each position in the domain alignment:\", ref_count\n",
      "print \"Average number of times other amino acids occur at each position in the domain alignment:\", other_count\n"
     ],
     "language": "python",
     "metadata": {},
     "outputs": [],
     "prompt_number": 20
    },
    {
     "cell_type": "code",
     "collapsed": false,
     "input": [
      "import matplotlib.pyplot as plt # import a set of code written for generating graphics and tell the computer how to display graphs\n",
      "%pylab inline\n",
      "plt.xaxis = arange(len(ref_count)) # the x-axis has four positions, one for each of the four nucleotides\n",
      "plt.plot(ref_count, 'b') # plot the count of reference positions amino acids for each position\n",
      "plt.plot(other_count, 'r') # plot the count of reference positions amino acids for each position\n",
      "plt.axhline(len(align[:,0])/2.0, ls='dashed', color='black') # creates a dashed line corresponding to half of the number of sequence\n",
      "xticks(xaxis) # label the x-axis with the position within the domain in our protein of interest\n",
      "\n",
      "plt.ylim(0,len(align[:,0]))\n",
      "plt.ylabel(\"Count\") # label the y-axis\n",
      "plt.title(\"Relative number of reference (blue) and other amino acids (red) \\n for each position in the domain alignment\") # add a title\n",
      "plt.show()\n"
     ],
     "language": "python",
     "metadata": {},
     "outputs": [],
     "prompt_number": 21
    },
    {
     "cell_type": "markdown",
     "metadata": {},
     "source": [
      "That's all folks! Upload your notebook and the multiple sequence alignment file for your protein to Blackboard!"
     ]
    }
   ],
   "metadata": {}
  }
 ]
}